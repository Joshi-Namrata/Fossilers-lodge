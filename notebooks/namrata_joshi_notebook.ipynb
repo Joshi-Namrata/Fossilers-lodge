{
  "nbformat": 4,
  "nbformat_minor": 5,
  "metadata": {
    "kernel_info": {
      "name": "python3"
    },
    "kernelspec": {
      "display_name": "Python 3.9",
      "language": "python",
      "name": "python3"
    },
    "selected_hardware_size": "small"
  },
  "cells": [
    {
      "id": "1559a7b5",
      "cell_type": "code",
      "metadata": {
        "noteable": {
          "output_collection_id": "2ed15599-ac9b-4d7e-b421-d1a25bc7676c"
        },
        "ExecuteTime": {
          "end_time": "2023-09-23T16:09:29.946904+00:00",
          "start_time": "2023-09-23T16:09:29.792244+00:00"
        }
      },
      "execution_count": null,
      "source": "import pandas as pd",
      "outputs": []
    },
    {
      "id": "feba9af1-40b5-4bb4-b740-c77339b72332",
      "cell_type": "code",
      "metadata": {
        "jupyter": {
          "outputs_hidden": false,
          "source_hidden": false
        },
        "noteable": {
          "cell_type": "code",
          "output_collection_id": "57866ef3-7830-439b-ad7c-c7b8e9c0d66f"
        },
        "ExecuteTime": {
          "end_time": "2023-09-23T16:15:17.939580+00:00",
          "start_time": "2023-09-23T16:15:16.950449+00:00"
        },
        "scrolled": true
      },
      "execution_count": null,
      "source": "# to read excel files sample\n\n# rdd_budget_xls = pd.ExcelFile('../datasets/Excel data/IEA_Energy_RDD_selected_data.xlsx')\n# public_rdd = pd.read_excel(rdd_budget_xls, 'Public RD&D', skiprows=[0])\n# econ_indicators = pd.read_excel(rdd_budget_xls, 'Economic Indicators', skiprows=[0])\n\n# print(public_rdd.head(), '\\n'*5, econ_indicators.head() )\n\n# public_rdd.to_csv('public_rdd.csv')",
      "outputs": []
    },
    {
      "id": "a1b2b461-300f-438c-87c2-eed8b9db883e",
      "cell_type": "code",
      "metadata": {
        "jupyter": {
          "outputs_hidden": false,
          "source_hidden": false
        },
        "noteable": {
          "cell_type": "code",
          "output_collection_id": "6f4d6344-9055-49a7-890b-87637aa9ba93"
        },
        "ExecuteTime": {
          "end_time": "2023-09-23T16:15:04.038139+00:00",
          "start_time": "2023-09-23T16:15:03.526154+00:00"
        }
      },
      "execution_count": null,
      "source": "%ntbl pull datasets \"Excel data/IEA_Energy_RDD_selected_data.xlsx\"",
      "outputs": []
    },
    {
      "id": "a019055a-8ce3-4a1e-9a7d-dd4072f7b97c",
      "cell_type": "code",
      "metadata": {
        "jupyter": {
          "outputs_hidden": false,
          "source_hidden": false
        },
        "noteable": {
          "cell_type": "code"
        }
      },
      "execution_count": null,
      "source": "w_2021",
      "outputs": []
    },
    {
      "id": "7906372d-ca87-4efa-ba20-49f403822b3b",
      "cell_type": "code",
      "metadata": {
        "jupyter": {
          "outputs_hidden": false,
          "source_hidden": false
        },
        "noteable": {
          "cell_type": "code"
        }
      },
      "execution_count": null,
      "source": "%ntbl pull datasets \"Excel data/WorldEnergyInvestment2021_DataFile.xlsx\"",
      "outputs": []
    }
  ]
}