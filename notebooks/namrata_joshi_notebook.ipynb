{
  "nbformat": 4,
  "nbformat_minor": 5,
  "metadata": {
    "kernel_info": {
      "name": "python3"
    },
    "kernelspec": {
      "display_name": "Python 3.9",
      "language": "python",
      "name": "python3"
    },
    "selected_hardware_size": "small",
    "noteable": {
      "db_connection": "@noteable"
    }
  },
  "cells": [
    {
      "id": "1559a7b5",
      "cell_type": "code",
      "metadata": {
        "noteable": {
          "output_collection_id": "7a8f0153-bd21-41b5-b93f-350ae1f12615"
        },
        "ExecuteTime": {
          "end_time": "2023-09-23T21:29:59.146202+00:00",
          "start_time": "2023-09-23T21:29:58.991018+00:00"
        }
      },
      "execution_count": null,
      "source": "import pandas as pd",
      "outputs": []
    },
    {
      "id": "ac10042f-f4f8-4b3f-89b4-33de09e4b4e3",
      "cell_type": "code",
      "metadata": {
        "jupyter": {
          "outputs_hidden": false,
          "source_hidden": false
        },
        "noteable": {
          "cell_type": "code",
          "output_collection_id": "23e0124e-1c93-4ee2-bded-29a17f039055"
        },
        "ExecuteTime": {
          "end_time": "2023-09-23T21:30:05.487603+00:00",
          "start_time": "2023-09-23T21:30:04.979833+00:00"
        },
        "scrolled": false
      },
      "execution_count": null,
      "source": "# Pull world_energy_investment_2021 file into the environment\n\n%ntbl pull datasets \"Excel data/WorldEnergyInvestment2021_DataFile.xlsx\"",
      "outputs": []
    },
    {
      "id": "ca0289dd-0be0-4038-9163-cc7e1218bdad",
      "cell_type": "code",
      "metadata": {
        "jupyter": {
          "outputs_hidden": false,
          "source_hidden": false
        },
        "noteable": {
          "cell_type": "code",
          "output_collection_id": "f5d1917b-08f0-4609-8475-80362718297c"
        },
        "ExecuteTime": {
          "end_time": "2023-09-23T21:30:11.362971+00:00",
          "start_time": "2023-09-23T21:30:10.882848+00:00"
        }
      },
      "execution_count": null,
      "source": "# Create excel file object and list it's sheet names\n\nw_energy_inv_2021 = pd.ExcelFile('../../datasets/Excel data/WorldEnergyInvestment2021_DataFile.xlsx')\n\nsheet_names = w_energy_inv_2021.sheet_names\nprint(\"Sheet names:\", sheet_names)",
      "outputs": []
    },
    {
      "id": "863f217e-dfd2-41dc-8834-fa7a4dad68a3",
      "cell_type": "code",
      "metadata": {
        "jupyter": {
          "outputs_hidden": false,
          "source_hidden": false
        },
        "noteable": {
          "cell_type": "code",
          "output_collection_id": "f7038e57-8518-4a52-9d44-858467500830"
        },
        "ExecuteTime": {
          "end_time": "2023-09-23T21:30:12.137912+00:00",
          "start_time": "2023-09-23T21:30:11.663264+00:00"
        }
      },
      "execution_count": null,
      "source": "#Pull world_energy_investment_2022 file into the environment\n\n%ntbl pull datasets \"Excel data/WorldEnergyInvestment2022_DataFile.xlsx\"",
      "outputs": []
    },
    {
      "id": "c25730bd-6e24-48f7-ba0c-33706ee922c1",
      "cell_type": "code",
      "metadata": {
        "jupyter": {
          "outputs_hidden": false,
          "source_hidden": false
        },
        "noteable": {
          "cell_type": "code",
          "output_collection_id": "134d9ed6-0b8c-4df7-b4d8-cebcfaa32dca"
        },
        "ExecuteTime": {
          "end_time": "2023-09-23T21:30:13.152928+00:00",
          "start_time": "2023-09-23T21:30:12.967321+00:00"
        }
      },
      "execution_count": null,
      "source": "# Create excel file object and list it's sheet names\n\nw_energy_inv_2022 = pd.ExcelFile('../../datasets/Excel data/WorldEnergyInvestment2022_DataFile.xlsx')\n\nsheet_names = w_energy_inv_2022.sheet_names\nprint(\"Sheet names:\", sheet_names)",
      "outputs": []
    },
    {
      "id": "b3bf6961-bfd7-4ecc-b2d3-c5f9947f9f1a",
      "cell_type": "code",
      "metadata": {
        "jupyter": {
          "outputs_hidden": false,
          "source_hidden": false
        },
        "noteable": {
          "cell_type": "code",
          "output_collection_id": "ca947843-ba31-45eb-82fe-5a0771577a74"
        },
        "ExecuteTime": {
          "end_time": "2023-09-23T21:30:14.021575+00:00",
          "start_time": "2023-09-23T21:30:13.532548+00:00"
        }
      },
      "execution_count": null,
      "source": "#Pull world_energy_investment_2022 file into the environment\n\n%ntbl pull datasets \"Excel data/WorldEnergyInvestment2023_DataFile.xlsx\"",
      "outputs": []
    },
    {
      "id": "de475d60-7d8b-41b0-a467-8913d904d806",
      "cell_type": "code",
      "metadata": {
        "jupyter": {
          "outputs_hidden": false,
          "source_hidden": false
        },
        "noteable": {
          "cell_type": "code",
          "output_collection_id": "27fcc568-2938-4276-a1a3-45ca9fe24cdf"
        },
        "ExecuteTime": {
          "end_time": "2023-09-23T21:30:14.872417+00:00",
          "start_time": "2023-09-23T21:30:14.679749+00:00"
        }
      },
      "execution_count": null,
      "source": "# Create excel file object and list it's sheet names\n\nw_energy_inv_2023 = pd.ExcelFile('../../datasets/Excel data/WorldEnergyInvestment2023_DataFile.xlsx')\n\nsheet_names = w_energy_inv_2023.sheet_names\nprint(\"Sheet names:\", sheet_names)",
      "outputs": []
    },
    {
      "id": "d1bcfa32-4690-468c-bedc-1454c54ee7fd",
      "cell_type": "code",
      "metadata": {
        "jupyter": {
          "outputs_hidden": false,
          "source_hidden": false
        },
        "noteable": {
          "cell_type": "code",
          "output_collection_id": "39dbda4e-3181-4b71-8358-b73b3136f42f"
        },
        "ExecuteTime": {
          "end_time": "2023-09-23T21:30:15.247894+00:00",
          "start_time": "2023-09-23T21:30:15.059523+00:00"
        }
      },
      "execution_count": null,
      "source": "cover_inv_2023 = pd.read_excel(w_energy_inv_2023, 'Cover', skiprows=[0])\nworld_inv_2023= pd.read_excel(w_energy_inv_2023, 'World', skiprows=[0])\nadvance_economies_inv_2023 = pd.read_excel(w_energy_inv_2023, 'Advanced Economies', skiprows=[0])\nemde_inv_2023= pd.read_excel(w_energy_inv_2023, 'EMDE', skiprows=[0])\nchina_inv_2023 = pd.read_excel(w_energy_inv_2023, 'China', skiprows=[0])\nnorth_america_inv_2023= pd.read_excel(w_energy_inv_2023, 'North America', skiprows=[0])\nnotes_web_inv_2023= pd.read_excel(w_energy_inv_2023,'Notes_Web', skiprows=[0])\n\n\n\n# print(public_rdd.head(), '\\n'*5, econ_indicators.head() )",
      "outputs": []
    },
    {
      "id": "f870aa32-6276-4c65-be23-8f556635fdd6",
      "cell_type": "code",
      "metadata": {
        "jupyter": {
          "outputs_hidden": false,
          "source_hidden": false
        },
        "noteable": {
          "cell_type": "code",
          "output_collection_id": "af0826de-ceaa-443a-b9a8-883adae0d0c9"
        },
        "ExecuteTime": {
          "end_time": "2023-09-23T21:51:44.986874+00:00",
          "start_time": "2023-09-23T21:51:44.831533+00:00"
        },
        "datalink": {
          "1a177a0b-364c-4680-9025-057b88403ac8": {
            "applied_filters": [],
            "dataframe_info": {
              "default_index_used": true,
              "orig_num_cols": 10,
              "orig_num_rows": 19,
              "orig_size_bytes": 1672,
              "truncated_num_cols": 10,
              "truncated_num_rows": 19,
              "truncated_size_bytes": 1672,
              "truncated_string_columns": []
            },
            "display_id": "1a177a0b-364c-4680-9025-057b88403ac8",
            "dx_settings": {
              "ALLOW_NOTEABLE_ATTRS": true,
              "COLUMN_SAMPLING_METHOD": "outer",
              "DB_LOCATION": ":memory:",
              "DEV_MODE": false,
              "DISPLAY_MAX_COLUMNS": 100,
              "DISPLAY_MAX_ROWS": 50000,
              "DISPLAY_MODE": "simple",
              "ENABLE_ASSIGNMENT": true,
              "ENABLE_DATALINK": true,
              "FLATTEN_COLUMN_VALUES": true,
              "FLATTEN_INDEX_VALUES": false,
              "GENERATE_DEX_METADATA": false,
              "HTML_TABLE_SCHEMA": false,
              "LOG_LEVEL": 30,
              "MAX_RENDER_SIZE_BYTES": 104857600,
              "MAX_STRING_LENGTH": 250,
              "NUM_PAST_SAMPLES_TRACKED": 3,
              "RANDOM_STATE": 12648430,
              "RESET_INDEX_VALUES": false,
              "ROW_SAMPLING_METHOD": "random",
              "SAMPLING_FACTOR": 0.1,
              "SAMPLING_METHOD": "random",
              "STRINGIFY_COLUMN_VALUES": true,
              "STRINGIFY_INDEX_VALUES": false
            },
            "sample_history": [],
            "sampling_time": "2023-09-23T18:09:20.482817",
            "user_variable_name": "cover_inv_2023",
            "variable_name": "cover_inv_2023"
          },
          "437483fa-1bc5-4d5f-aff2-89933d4247b5": {
            "applied_filters": [],
            "dataframe_info": {
              "default_index_used": true,
              "orig_num_cols": 11,
              "orig_num_rows": 32,
              "orig_size_bytes": 3072,
              "truncated_num_cols": 11,
              "truncated_num_rows": 32,
              "truncated_size_bytes": 3072,
              "truncated_string_columns": []
            },
            "display_id": "437483fa-1bc5-4d5f-aff2-89933d4247b5",
            "dx_settings": {
              "ALLOW_NOTEABLE_ATTRS": true,
              "COLUMN_SAMPLING_METHOD": "outer",
              "DB_LOCATION": ":memory:",
              "DEV_MODE": false,
              "DISPLAY_MAX_COLUMNS": 100,
              "DISPLAY_MAX_ROWS": 50000,
              "DISPLAY_MODE": "simple",
              "ENABLE_ASSIGNMENT": true,
              "ENABLE_DATALINK": true,
              "FLATTEN_COLUMN_VALUES": true,
              "FLATTEN_INDEX_VALUES": false,
              "GENERATE_DEX_METADATA": false,
              "HTML_TABLE_SCHEMA": false,
              "LOG_LEVEL": 30,
              "MAX_RENDER_SIZE_BYTES": 104857600,
              "MAX_STRING_LENGTH": 250,
              "NUM_PAST_SAMPLES_TRACKED": 3,
              "RANDOM_STATE": 12648430,
              "RESET_INDEX_VALUES": false,
              "ROW_SAMPLING_METHOD": "random",
              "SAMPLING_FACTOR": 0.1,
              "SAMPLING_METHOD": "random",
              "STRINGIFY_COLUMN_VALUES": true,
              "STRINGIFY_INDEX_VALUES": false
            },
            "sample_history": [],
            "sampling_time": "2023-09-23T18:10:06.473387",
            "user_variable_name": "world_inv_2023",
            "variable_name": "world_inv_2023"
          },
          "c78e67fb-c439-4ab1-a6c2-8fb90704615e": {
            "applied_filters": [],
            "dataframe_info": {
              "default_index_used": true,
              "orig_num_cols": 10,
              "orig_num_rows": 19,
              "orig_size_bytes": 1672,
              "truncated_num_cols": 10,
              "truncated_num_rows": 19,
              "truncated_size_bytes": 1672,
              "truncated_string_columns": []
            },
            "display_id": "c78e67fb-c439-4ab1-a6c2-8fb90704615e",
            "dx_settings": {
              "ALLOW_NOTEABLE_ATTRS": true,
              "COLUMN_SAMPLING_METHOD": "outer",
              "DB_LOCATION": ":memory:",
              "DEV_MODE": false,
              "DISPLAY_MAX_COLUMNS": 100,
              "DISPLAY_MAX_ROWS": 50000,
              "DISPLAY_MODE": "simple",
              "ENABLE_ASSIGNMENT": true,
              "ENABLE_DATALINK": true,
              "FLATTEN_COLUMN_VALUES": true,
              "FLATTEN_INDEX_VALUES": false,
              "GENERATE_DEX_METADATA": false,
              "HTML_TABLE_SCHEMA": false,
              "LOG_LEVEL": 30,
              "MAX_RENDER_SIZE_BYTES": 104857600,
              "MAX_STRING_LENGTH": 250,
              "NUM_PAST_SAMPLES_TRACKED": 3,
              "RANDOM_STATE": 12648430,
              "RESET_INDEX_VALUES": false,
              "ROW_SAMPLING_METHOD": "random",
              "SAMPLING_FACTOR": 0.1,
              "SAMPLING_METHOD": "random",
              "STRINGIFY_COLUMN_VALUES": true,
              "STRINGIFY_INDEX_VALUES": false
            },
            "sample_history": [],
            "sampling_time": "2023-09-23T18:21:28.936104",
            "user_variable_name": "cover_inv_2023",
            "variable_name": "cover_inv_2023"
          },
          "66da39e2-4367-4594-acad-70cbc01c784f": {
            "applied_filters": [],
            "dataframe_info": {
              "default_index_used": true,
              "orig_num_cols": 11,
              "orig_num_rows": 32,
              "orig_size_bytes": 3072,
              "truncated_num_cols": 11,
              "truncated_num_rows": 32,
              "truncated_size_bytes": 3072,
              "truncated_string_columns": []
            },
            "display_id": "66da39e2-4367-4594-acad-70cbc01c784f",
            "dx_settings": {
              "ALLOW_NOTEABLE_ATTRS": true,
              "COLUMN_SAMPLING_METHOD": "outer",
              "DB_LOCATION": ":memory:",
              "DEV_MODE": false,
              "DISPLAY_MAX_COLUMNS": 100,
              "DISPLAY_MAX_ROWS": 50000,
              "DISPLAY_MODE": "simple",
              "ENABLE_ASSIGNMENT": true,
              "ENABLE_DATALINK": true,
              "FLATTEN_COLUMN_VALUES": true,
              "FLATTEN_INDEX_VALUES": false,
              "GENERATE_DEX_METADATA": false,
              "HTML_TABLE_SCHEMA": false,
              "LOG_LEVEL": 30,
              "MAX_RENDER_SIZE_BYTES": 104857600,
              "MAX_STRING_LENGTH": 250,
              "NUM_PAST_SAMPLES_TRACKED": 3,
              "RANDOM_STATE": 12648430,
              "RESET_INDEX_VALUES": false,
              "ROW_SAMPLING_METHOD": "random",
              "SAMPLING_FACTOR": 0.1,
              "SAMPLING_METHOD": "random",
              "STRINGIFY_COLUMN_VALUES": true,
              "STRINGIFY_INDEX_VALUES": false
            },
            "sample_history": [],
            "sampling_time": "2023-09-23T18:22:21.882584",
            "user_variable_name": "world_inv_2023",
            "variable_name": "world_inv_2023"
          },
          "b1223d38-8e67-4feb-bce4-f14979b41d2f": {
            "applied_filters": [],
            "dataframe_info": {
              "default_index_used": true,
              "orig_num_cols": 11,
              "orig_num_rows": 32,
              "orig_size_bytes": 3072,
              "truncated_num_cols": 11,
              "truncated_num_rows": 32,
              "truncated_size_bytes": 3072,
              "truncated_string_columns": []
            },
            "display_id": "b1223d38-8e67-4feb-bce4-f14979b41d2f",
            "dx_settings": {
              "ALLOW_NOTEABLE_ATTRS": true,
              "COLUMN_SAMPLING_METHOD": "outer",
              "DB_LOCATION": ":memory:",
              "DEV_MODE": false,
              "DISPLAY_MAX_COLUMNS": 100,
              "DISPLAY_MAX_ROWS": 50000,
              "DISPLAY_MODE": "simple",
              "ENABLE_ASSIGNMENT": true,
              "ENABLE_DATALINK": true,
              "FLATTEN_COLUMN_VALUES": true,
              "FLATTEN_INDEX_VALUES": false,
              "GENERATE_DEX_METADATA": false,
              "HTML_TABLE_SCHEMA": false,
              "LOG_LEVEL": 30,
              "MAX_RENDER_SIZE_BYTES": 104857600,
              "MAX_STRING_LENGTH": 250,
              "NUM_PAST_SAMPLES_TRACKED": 3,
              "RANDOM_STATE": 12648430,
              "RESET_INDEX_VALUES": false,
              "ROW_SAMPLING_METHOD": "random",
              "SAMPLING_FACTOR": 0.1,
              "SAMPLING_METHOD": "random",
              "STRINGIFY_COLUMN_VALUES": true,
              "STRINGIFY_INDEX_VALUES": false
            },
            "sample_history": [],
            "sampling_time": "2023-09-23T18:22:40.485893",
            "user_variable_name": "world_inv_2023",
            "variable_name": "world_inv_2023"
          },
          "71f9f1fa-8a18-48be-a075-9536acf639eb": {
            "applied_filters": [],
            "dataframe_info": {
              "default_index_used": false,
              "orig_num_cols": 32,
              "orig_num_rows": 11,
              "orig_size_bytes": 2904,
              "truncated_num_cols": 32,
              "truncated_num_rows": 11,
              "truncated_size_bytes": 2904,
              "truncated_string_columns": []
            },
            "display_id": "71f9f1fa-8a18-48be-a075-9536acf639eb",
            "dx_settings": {
              "ALLOW_NOTEABLE_ATTRS": true,
              "COLUMN_SAMPLING_METHOD": "outer",
              "DB_LOCATION": ":memory:",
              "DEV_MODE": false,
              "DISPLAY_MAX_COLUMNS": 100,
              "DISPLAY_MAX_ROWS": 50000,
              "DISPLAY_MODE": "simple",
              "ENABLE_ASSIGNMENT": true,
              "ENABLE_DATALINK": true,
              "FLATTEN_COLUMN_VALUES": true,
              "FLATTEN_INDEX_VALUES": false,
              "GENERATE_DEX_METADATA": false,
              "HTML_TABLE_SCHEMA": false,
              "LOG_LEVEL": 30,
              "MAX_RENDER_SIZE_BYTES": 104857600,
              "MAX_STRING_LENGTH": 250,
              "NUM_PAST_SAMPLES_TRACKED": 3,
              "RANDOM_STATE": 12648430,
              "RESET_INDEX_VALUES": false,
              "ROW_SAMPLING_METHOD": "random",
              "SAMPLING_FACTOR": 0.1,
              "SAMPLING_METHOD": "random",
              "STRINGIFY_COLUMN_VALUES": true,
              "STRINGIFY_INDEX_VALUES": false
            },
            "sample_history": [],
            "sampling_time": "2023-09-23T18:25:29.356543",
            "user_variable_name": null,
            "variable_name": "unk_dataframe_1897de464491415998d90e7d8907384e"
          },
          "57d58d12-ff6c-4293-94c3-311e015e5c6f": {
            "applied_filters": [],
            "dataframe_info": {
              "default_index_used": false,
              "orig_num_cols": 32,
              "orig_num_rows": 11,
              "orig_size_bytes": 2904,
              "truncated_num_cols": 32,
              "truncated_num_rows": 11,
              "truncated_size_bytes": 2904,
              "truncated_string_columns": []
            },
            "display_id": "57d58d12-ff6c-4293-94c3-311e015e5c6f",
            "dx_settings": {
              "ALLOW_NOTEABLE_ATTRS": true,
              "COLUMN_SAMPLING_METHOD": "outer",
              "DB_LOCATION": ":memory:",
              "DEV_MODE": false,
              "DISPLAY_MAX_COLUMNS": 100,
              "DISPLAY_MAX_ROWS": 50000,
              "DISPLAY_MODE": "simple",
              "ENABLE_ASSIGNMENT": true,
              "ENABLE_DATALINK": true,
              "FLATTEN_COLUMN_VALUES": true,
              "FLATTEN_INDEX_VALUES": false,
              "GENERATE_DEX_METADATA": false,
              "HTML_TABLE_SCHEMA": false,
              "LOG_LEVEL": 30,
              "MAX_RENDER_SIZE_BYTES": 104857600,
              "MAX_STRING_LENGTH": 250,
              "NUM_PAST_SAMPLES_TRACKED": 3,
              "RANDOM_STATE": 12648430,
              "RESET_INDEX_VALUES": false,
              "ROW_SAMPLING_METHOD": "random",
              "SAMPLING_FACTOR": 0.1,
              "SAMPLING_METHOD": "random",
              "STRINGIFY_COLUMN_VALUES": true,
              "STRINGIFY_INDEX_VALUES": false
            },
            "sample_history": [],
            "sampling_time": "2023-09-23T18:30:00.952194",
            "user_variable_name": null,
            "variable_name": "unk_dataframe_7c00f96bbc754555b354ec9b5554f172"
          },
          "c8bd6cd7-2e64-4a2e-a338-2a7c7a3c9906": {
            "applied_filters": [],
            "dataframe_info": {
              "default_index_used": false,
              "orig_num_cols": 32,
              "orig_num_rows": 11,
              "orig_size_bytes": 2904,
              "truncated_num_cols": 32,
              "truncated_num_rows": 11,
              "truncated_size_bytes": 2904,
              "truncated_string_columns": []
            },
            "display_id": "c8bd6cd7-2e64-4a2e-a338-2a7c7a3c9906",
            "dx_settings": {
              "ALLOW_NOTEABLE_ATTRS": true,
              "COLUMN_SAMPLING_METHOD": "outer",
              "DB_LOCATION": ":memory:",
              "DEV_MODE": false,
              "DISPLAY_MAX_COLUMNS": 100,
              "DISPLAY_MAX_ROWS": 50000,
              "DISPLAY_MODE": "simple",
              "ENABLE_ASSIGNMENT": true,
              "ENABLE_DATALINK": true,
              "FLATTEN_COLUMN_VALUES": true,
              "FLATTEN_INDEX_VALUES": false,
              "GENERATE_DEX_METADATA": false,
              "HTML_TABLE_SCHEMA": false,
              "LOG_LEVEL": 30,
              "MAX_RENDER_SIZE_BYTES": 104857600,
              "MAX_STRING_LENGTH": 250,
              "NUM_PAST_SAMPLES_TRACKED": 3,
              "RANDOM_STATE": 12648430,
              "RESET_INDEX_VALUES": false,
              "ROW_SAMPLING_METHOD": "random",
              "SAMPLING_FACTOR": 0.1,
              "SAMPLING_METHOD": "random",
              "STRINGIFY_COLUMN_VALUES": true,
              "STRINGIFY_INDEX_VALUES": false
            },
            "sample_history": [],
            "sampling_time": "2023-09-23T18:30:23.568142",
            "user_variable_name": null,
            "variable_name": "unk_dataframe_bd5e7c27540a4516a8fbb48fd816bc58"
          },
          "ee42b0eb-8071-4d97-b86b-52c54e4bf3da": {
            "applied_filters": [],
            "dataframe_info": {
              "default_index_used": false,
              "orig_num_cols": 31,
              "orig_num_rows": 11,
              "orig_size_bytes": 2816,
              "truncated_num_cols": 31,
              "truncated_num_rows": 11,
              "truncated_size_bytes": 2816,
              "truncated_string_columns": []
            },
            "display_id": "ee42b0eb-8071-4d97-b86b-52c54e4bf3da",
            "dx_settings": {
              "ALLOW_NOTEABLE_ATTRS": true,
              "COLUMN_SAMPLING_METHOD": "outer",
              "DB_LOCATION": ":memory:",
              "DEV_MODE": false,
              "DISPLAY_MAX_COLUMNS": 100,
              "DISPLAY_MAX_ROWS": 50000,
              "DISPLAY_MODE": "simple",
              "ENABLE_ASSIGNMENT": true,
              "ENABLE_DATALINK": true,
              "FLATTEN_COLUMN_VALUES": true,
              "FLATTEN_INDEX_VALUES": false,
              "GENERATE_DEX_METADATA": false,
              "HTML_TABLE_SCHEMA": false,
              "LOG_LEVEL": 30,
              "MAX_RENDER_SIZE_BYTES": 104857600,
              "MAX_STRING_LENGTH": 250,
              "NUM_PAST_SAMPLES_TRACKED": 3,
              "RANDOM_STATE": 12648430,
              "RESET_INDEX_VALUES": false,
              "ROW_SAMPLING_METHOD": "random",
              "SAMPLING_FACTOR": 0.1,
              "SAMPLING_METHOD": "random",
              "STRINGIFY_COLUMN_VALUES": true,
              "STRINGIFY_INDEX_VALUES": false
            },
            "sample_history": [],
            "sampling_time": "2023-09-23T18:31:32.073901",
            "user_variable_name": null,
            "variable_name": "unk_dataframe_9baf0ff4bb544836a44d3c71435058d6"
          },
          "57eeba7e-4779-49c6-a824-46d72522982e": {
            "applied_filters": [],
            "dataframe_info": {
              "default_index_used": false,
              "orig_num_cols": 32,
              "orig_num_rows": 11,
              "orig_size_bytes": 2904,
              "truncated_num_cols": 32,
              "truncated_num_rows": 11,
              "truncated_size_bytes": 2904,
              "truncated_string_columns": []
            },
            "display_id": "57eeba7e-4779-49c6-a824-46d72522982e",
            "dx_settings": {
              "ALLOW_NOTEABLE_ATTRS": true,
              "COLUMN_SAMPLING_METHOD": "outer",
              "DB_LOCATION": ":memory:",
              "DEV_MODE": false,
              "DISPLAY_MAX_COLUMNS": 100,
              "DISPLAY_MAX_ROWS": 50000,
              "DISPLAY_MODE": "simple",
              "ENABLE_ASSIGNMENT": true,
              "ENABLE_DATALINK": true,
              "FLATTEN_COLUMN_VALUES": true,
              "FLATTEN_INDEX_VALUES": false,
              "GENERATE_DEX_METADATA": false,
              "HTML_TABLE_SCHEMA": false,
              "LOG_LEVEL": 30,
              "MAX_RENDER_SIZE_BYTES": 104857600,
              "MAX_STRING_LENGTH": 250,
              "NUM_PAST_SAMPLES_TRACKED": 3,
              "RANDOM_STATE": 12648430,
              "RESET_INDEX_VALUES": false,
              "ROW_SAMPLING_METHOD": "random",
              "SAMPLING_FACTOR": 0.1,
              "SAMPLING_METHOD": "random",
              "STRINGIFY_COLUMN_VALUES": true,
              "STRINGIFY_INDEX_VALUES": false
            },
            "sample_history": [],
            "sampling_time": "2023-09-23T18:32:40.768640",
            "user_variable_name": null,
            "variable_name": "unk_dataframe_5fd0030a9a9d466f8d3a537f7771fca2"
          },
          "99b6c9fb-ee42-437f-8e7b-10c9c6e15cd7": {
            "applied_filters": [],
            "dataframe_info": {
              "default_index_used": false,
              "orig_num_cols": 32,
              "orig_num_rows": 11,
              "orig_size_bytes": 2904,
              "truncated_num_cols": 32,
              "truncated_num_rows": 11,
              "truncated_size_bytes": 2904,
              "truncated_string_columns": []
            },
            "display_id": "99b6c9fb-ee42-437f-8e7b-10c9c6e15cd7",
            "dx_settings": {
              "ALLOW_NOTEABLE_ATTRS": true,
              "COLUMN_SAMPLING_METHOD": "outer",
              "DB_LOCATION": ":memory:",
              "DEV_MODE": false,
              "DISPLAY_MAX_COLUMNS": 100,
              "DISPLAY_MAX_ROWS": 50000,
              "DISPLAY_MODE": "simple",
              "ENABLE_ASSIGNMENT": true,
              "ENABLE_DATALINK": true,
              "FLATTEN_COLUMN_VALUES": true,
              "FLATTEN_INDEX_VALUES": false,
              "GENERATE_DEX_METADATA": false,
              "HTML_TABLE_SCHEMA": false,
              "LOG_LEVEL": 30,
              "MAX_RENDER_SIZE_BYTES": 104857600,
              "MAX_STRING_LENGTH": 250,
              "NUM_PAST_SAMPLES_TRACKED": 3,
              "RANDOM_STATE": 12648430,
              "RESET_INDEX_VALUES": false,
              "ROW_SAMPLING_METHOD": "random",
              "SAMPLING_FACTOR": 0.1,
              "SAMPLING_METHOD": "random",
              "STRINGIFY_COLUMN_VALUES": true,
              "STRINGIFY_INDEX_VALUES": false
            },
            "sample_history": [],
            "sampling_time": "2023-09-23T19:05:20.645223",
            "user_variable_name": null,
            "variable_name": "unk_dataframe_fde871e11a614424a75e1c3cf1a2cefd"
          },
          "f5ec62e7-77ae-4da6-9a3f-37bfa5f500c6": {
            "applied_filters": [],
            "dataframe_info": {
              "default_index_used": false,
              "orig_num_cols": 32,
              "orig_num_rows": 11,
              "orig_size_bytes": 2904,
              "truncated_num_cols": 32,
              "truncated_num_rows": 11,
              "truncated_size_bytes": 2904,
              "truncated_string_columns": []
            },
            "display_id": "f5ec62e7-77ae-4da6-9a3f-37bfa5f500c6",
            "dx_settings": {
              "ALLOW_NOTEABLE_ATTRS": true,
              "COLUMN_SAMPLING_METHOD": "outer",
              "DB_LOCATION": ":memory:",
              "DEV_MODE": false,
              "DISPLAY_MAX_COLUMNS": 100,
              "DISPLAY_MAX_ROWS": 50000,
              "DISPLAY_MODE": "simple",
              "ENABLE_ASSIGNMENT": true,
              "ENABLE_DATALINK": true,
              "FLATTEN_COLUMN_VALUES": true,
              "FLATTEN_INDEX_VALUES": false,
              "GENERATE_DEX_METADATA": false,
              "HTML_TABLE_SCHEMA": false,
              "LOG_LEVEL": 30,
              "MAX_RENDER_SIZE_BYTES": 104857600,
              "MAX_STRING_LENGTH": 250,
              "NUM_PAST_SAMPLES_TRACKED": 3,
              "RANDOM_STATE": 12648430,
              "RESET_INDEX_VALUES": false,
              "ROW_SAMPLING_METHOD": "random",
              "SAMPLING_FACTOR": 0.1,
              "SAMPLING_METHOD": "random",
              "STRINGIFY_COLUMN_VALUES": true,
              "STRINGIFY_INDEX_VALUES": false
            },
            "sample_history": [],
            "sampling_time": "2023-09-23T21:30:15.928908",
            "user_variable_name": null,
            "variable_name": "unk_dataframe_fc7591bf2f634de3839cd03c17c93eeb"
          }
        },
        "dx": {
          "dashboard": {
            "multiViews": []
          },
          "fieldMetadata": {
            "0": {
              "columnPosition": 2,
              "hidden": true
            },
            "1": {
              "columnPosition": 3
            },
            "10": {
              "columnPosition": 12
            },
            "11": {
              "columnPosition": 13
            },
            "12": {
              "columnPosition": 14
            },
            "13": {
              "columnPosition": 15,
              "hidden": true
            },
            "14": {
              "columnPosition": 16
            },
            "15": {
              "columnPosition": 17
            },
            "16": {
              "columnPosition": 18
            },
            "17": {
              "columnPosition": 19
            },
            "18": {
              "columnPosition": 20
            },
            "19": {
              "columnPosition": 21
            },
            "2": {
              "columnPosition": 4
            },
            "20": {
              "columnPosition": 22,
              "hidden": true
            },
            "21": {
              "columnPosition": 23
            },
            "22": {
              "columnPosition": 24
            },
            "23": {
              "columnPosition": 25
            },
            "24": {
              "columnPosition": 26
            },
            "25": {
              "columnPosition": 27
            },
            "26": {
              "columnPosition": 28
            },
            "27": {
              "columnPosition": 29
            },
            "28": {
              "columnPosition": 30
            },
            "29": {
              "columnPosition": 31
            },
            "3": {
              "columnPosition": 5
            },
            "30": {
              "columnPosition": 32,
              "hidden": true
            },
            "31": {
              "columnPosition": 33
            },
            "4": {
              "columnPosition": 6
            },
            "5": {
              "columnPosition": 7
            },
            "6": {
              "columnPosition": 8
            },
            "7": {
              "columnPosition": 9
            },
            "8": {
              "columnPosition": 10
            },
            "9": {
              "columnPosition": 11
            },
            "index": {
              "columnPosition": 1,
              "hidden": true
            }
          },
          "simpleTable": false,
          "updated": 1695504290864,
          "views": [
            {
              "annotationRules": [],
              "chart": {},
              "chartMode": "grid",
              "confoRules": [],
              "decoration": {
                "footer": "",
                "subtitle": "",
                "title": "Table"
              },
              "facets": [],
              "filterSettings": {
                "SHOW_FILTER_PANEL": true,
                "filters": []
              },
              "id": "first-view",
              "isDefault": true,
              "type": "public",
              "userID": ""
            },
            {
              "annotationRules": [],
              "chart": {},
              "chartMode": "grid",
              "confoRules": [],
              "decoration": {
                "footer": "",
                "subtitle": "",
                "title": "Table"
              },
              "facets": [],
              "filterSettings": {
                "SHOW_FILTER_PANEL": true,
                "filters": []
              },
              "id": "first-view",
              "isDefault": true,
              "isTransitory": true,
              "type": "public",
              "userID": ""
            },
            {
              "annotationRules": [],
              "chart": {},
              "chartMode": "empty",
              "confoRules": [],
              "decoration": {
                "footer": "",
                "subtitle": "",
                "title": "New View"
              },
              "facets": [],
              "filterSettings": {
                "SHOW_FILTER_PANEL": true,
                "filters": []
              },
              "id": "f20868c9-8d4d-4063-99d2-aa89256164b2",
              "isDefault": false,
              "type": "public",
              "userID": ""
            }
          ]
        }
      },
      "execution_count": null,
      "source": "# cover_inv_2023 #no data in it \n\nworld_inv_2023_T = world_inv_2023.transpose()\n# world_inv_2023_T = \n# world_inv_2023_T.drop(world_inv_2023_T.index[0])\n\n# world_inv_2023_T\n\n\n\n",
      "outputs": []
    },
    {
      "id": "75881b9a-69c6-4d56-bba0-8327ba2c48dc",
      "cell_type": "code",
      "metadata": {
        "jupyter": {
          "outputs_hidden": false,
          "source_hidden": false
        },
        "noteable": {
          "cell_type": "code",
          "output_collection_id": "fcad3891-a63d-42bc-92b2-94e095c4c6dd"
        },
        "ExecuteTime": {
          "end_time": "2023-09-23T21:53:31.809933+00:00",
          "start_time": "2023-09-23T21:53:31.599330+00:00"
        },
        "datalink": {
          "2fbaa69e-7cd7-4563-b575-8168e490bd12": {
            "applied_filters": [],
            "dataframe_info": {
              "default_index_used": true,
              "orig_num_cols": 11,
              "orig_num_rows": 32,
              "orig_size_bytes": 3072,
              "truncated_num_cols": 11,
              "truncated_num_rows": 32,
              "truncated_size_bytes": 3072,
              "truncated_string_columns": []
            },
            "display_id": "2fbaa69e-7cd7-4563-b575-8168e490bd12",
            "dx_settings": {
              "ALLOW_NOTEABLE_ATTRS": true,
              "COLUMN_SAMPLING_METHOD": "outer",
              "DB_LOCATION": ":memory:",
              "DEV_MODE": false,
              "DISPLAY_MAX_COLUMNS": 100,
              "DISPLAY_MAX_ROWS": 50000,
              "DISPLAY_MODE": "simple",
              "ENABLE_ASSIGNMENT": true,
              "ENABLE_DATALINK": true,
              "FLATTEN_COLUMN_VALUES": true,
              "FLATTEN_INDEX_VALUES": false,
              "GENERATE_DEX_METADATA": false,
              "HTML_TABLE_SCHEMA": false,
              "LOG_LEVEL": 30,
              "MAX_RENDER_SIZE_BYTES": 104857600,
              "MAX_STRING_LENGTH": 250,
              "NUM_PAST_SAMPLES_TRACKED": 3,
              "RANDOM_STATE": 12648430,
              "RESET_INDEX_VALUES": false,
              "ROW_SAMPLING_METHOD": "random",
              "SAMPLING_FACTOR": 0.1,
              "SAMPLING_METHOD": "random",
              "STRINGIFY_COLUMN_VALUES": true,
              "STRINGIFY_INDEX_VALUES": false
            },
            "sample_history": [],
            "sampling_time": "2023-09-23T21:53:31.648429",
            "user_variable_name": "world_inv_2023",
            "variable_name": "world_inv_2023"
          }
        },
        "dx": {
          "fieldMetadata": {},
          "simpleTable": true,
          "updated": 1695506014644,
          "views": []
        }
      },
      "execution_count": null,
      "source": "world_inv_2023",
      "outputs": []
    },
    {
      "id": "eb3472c5-1e72-4261-9dc1-10407effd72f",
      "cell_type": "code",
      "metadata": {
        "jupyter": {
          "outputs_hidden": false,
          "source_hidden": false
        },
        "noteable": {
          "cell_type": "code",
          "output_collection_id": "b6b8cb7b-9cfb-42cc-8212-08a350ad7810"
        },
        "ExecuteTime": {
          "end_time": "2023-09-23T21:54:52.899869+00:00",
          "start_time": "2023-09-23T21:54:52.743072+00:00"
        }
      },
      "execution_count": null,
      "source": "world_inv_2023.drop(world_inv_2023.index[0], inplace=True)",
      "outputs": []
    },
    {
      "id": "7311587b-7425-4424-8c38-0d2b3974860e",
      "cell_type": "code",
      "metadata": {
        "jupyter": {
          "outputs_hidden": false,
          "source_hidden": false
        },
        "noteable": {
          "cell_type": "code",
          "output_collection_id": "c304a541-a46a-4831-8f9e-4aaa544e1abf"
        },
        "ExecuteTime": {
          "end_time": "2023-09-23T21:55:44.917055+00:00",
          "start_time": "2023-09-23T21:55:44.761506+00:00"
        }
      },
      "execution_count": null,
      "source": "world_inv_2023.shape",
      "outputs": []
    },
    {
      "id": "4360accd-6db5-4489-8829-14f46ee936be",
      "cell_type": "code",
      "metadata": {
        "jupyter": {
          "outputs_hidden": false,
          "source_hidden": false
        },
        "noteable": {
          "cell_type": "code",
          "output_collection_id": "577c1bb2-2348-406b-9172-2f86b7c05ac8"
        },
        "ExecuteTime": {
          "end_time": "2023-09-23T21:55:28.105092+00:00",
          "start_time": "2023-09-23T21:55:27.904211+00:00"
        },
        "datalink": {
          "ef92db62-4c17-4ae8-abd6-e2d64d31d219": {
            "applied_filters": [],
            "dataframe_info": {
              "default_index_used": true,
              "orig_num_cols": 11,
              "orig_num_rows": 31,
              "orig_size_bytes": 2976,
              "truncated_num_cols": 11,
              "truncated_num_rows": 31,
              "truncated_size_bytes": 2976,
              "truncated_string_columns": []
            },
            "display_id": "ef92db62-4c17-4ae8-abd6-e2d64d31d219",
            "dx_settings": {
              "ALLOW_NOTEABLE_ATTRS": true,
              "COLUMN_SAMPLING_METHOD": "outer",
              "DB_LOCATION": ":memory:",
              "DEV_MODE": false,
              "DISPLAY_MAX_COLUMNS": 100,
              "DISPLAY_MAX_ROWS": 50000,
              "DISPLAY_MODE": "simple",
              "ENABLE_ASSIGNMENT": true,
              "ENABLE_DATALINK": true,
              "FLATTEN_COLUMN_VALUES": true,
              "FLATTEN_INDEX_VALUES": false,
              "GENERATE_DEX_METADATA": false,
              "HTML_TABLE_SCHEMA": false,
              "LOG_LEVEL": 30,
              "MAX_RENDER_SIZE_BYTES": 104857600,
              "MAX_STRING_LENGTH": 250,
              "NUM_PAST_SAMPLES_TRACKED": 3,
              "RANDOM_STATE": 12648430,
              "RESET_INDEX_VALUES": false,
              "ROW_SAMPLING_METHOD": "random",
              "SAMPLING_FACTOR": 0.1,
              "SAMPLING_METHOD": "random",
              "STRINGIFY_COLUMN_VALUES": true,
              "STRINGIFY_INDEX_VALUES": false
            },
            "sample_history": [],
            "sampling_time": "2023-09-23T21:55:03.964838",
            "user_variable_name": "world_inv_2023",
            "variable_name": "world_inv_2023"
          },
          "7fb508a3-c695-4461-8c46-e22c4debe2e5": {
            "applied_filters": [],
            "dataframe_info": {
              "default_index_used": false,
              "orig_num_cols": 1,
              "orig_num_rows": 11,
              "orig_size_bytes": 176,
              "truncated_num_cols": 1,
              "truncated_num_rows": 11,
              "truncated_size_bytes": 176,
              "truncated_string_columns": []
            },
            "display_id": "7fb508a3-c695-4461-8c46-e22c4debe2e5",
            "dx_settings": {
              "ALLOW_NOTEABLE_ATTRS": true,
              "COLUMN_SAMPLING_METHOD": "outer",
              "DB_LOCATION": ":memory:",
              "DEV_MODE": false,
              "DISPLAY_MAX_COLUMNS": 100,
              "DISPLAY_MAX_ROWS": 50000,
              "DISPLAY_MODE": "simple",
              "ENABLE_ASSIGNMENT": true,
              "ENABLE_DATALINK": true,
              "FLATTEN_COLUMN_VALUES": true,
              "FLATTEN_INDEX_VALUES": false,
              "GENERATE_DEX_METADATA": false,
              "HTML_TABLE_SCHEMA": false,
              "LOG_LEVEL": 30,
              "MAX_RENDER_SIZE_BYTES": 104857600,
              "MAX_STRING_LENGTH": 250,
              "NUM_PAST_SAMPLES_TRACKED": 3,
              "RANDOM_STATE": 12648430,
              "RESET_INDEX_VALUES": false,
              "ROW_SAMPLING_METHOD": "random",
              "SAMPLING_FACTOR": 0.1,
              "SAMPLING_METHOD": "random",
              "STRINGIFY_COLUMN_VALUES": true,
              "STRINGIFY_INDEX_VALUES": false
            },
            "sample_history": [],
            "sampling_time": "2023-09-23T21:55:27.946251",
            "user_variable_name": null,
            "variable_name": "unk_dataframe_f71fba9f2097431b87846f5cdfcf9b6c"
          }
        }
      },
      "execution_count": null,
      "source": "world_inv_2023.isna().sum()",
      "outputs": []
    },
    {
      "id": "755bc24c-726e-4508-9118-582c77876326",
      "cell_type": "code",
      "metadata": {
        "jupyter": {
          "outputs_hidden": false,
          "source_hidden": false
        },
        "noteable": {
          "cell_type": "code",
          "output_collection_id": "f2a9dd2b-eb88-4309-8502-e7f7d4d6019c"
        },
        "ExecuteTime": {
          "end_time": "2023-09-23T21:56:28.536202+00:00",
          "start_time": "2023-09-23T21:56:28.380488+00:00"
        }
      },
      "execution_count": null,
      "source": "world_inv_2023.drop(world_inv_2023.index[0], inplace=True)",
      "outputs": []
    },
    {
      "id": "75909e11-d0e6-4707-b369-55a35c25f29d",
      "cell_type": "code",
      "metadata": {
        "jupyter": {
          "outputs_hidden": false,
          "source_hidden": false
        },
        "noteable": {
          "cell_type": "code"
        }
      },
      "execution_count": null,
      "source": "",
      "outputs": []
    },
    {
      "id": "d6ea8a74-2794-4141-acda-33eb972f930b",
      "cell_type": "code",
      "metadata": {
        "jupyter": {
          "outputs_hidden": false,
          "source_hidden": false
        },
        "noteable": {
          "cell_type": "code",
          "output_collection_id": "19299cea-708d-45b2-9402-acb99a37ed81"
        },
        "ExecuteTime": {
          "end_time": "2023-09-23T21:51:53.912038+00:00",
          "start_time": "2023-09-23T21:51:53.609453+00:00"
        },
        "datalink": {
          "b1e972a6-ea1c-41e2-a276-8bc3a8b2980c": {
            "applied_filters": [],
            "dataframe_info": {
              "default_index_used": false,
              "orig_num_cols": 32,
              "orig_num_rows": 11,
              "orig_size_bytes": 2904,
              "truncated_num_cols": 32,
              "truncated_num_rows": 11,
              "truncated_size_bytes": 2904,
              "truncated_string_columns": []
            },
            "display_id": "b1e972a6-ea1c-41e2-a276-8bc3a8b2980c",
            "dx_settings": {
              "ALLOW_NOTEABLE_ATTRS": true,
              "COLUMN_SAMPLING_METHOD": "outer",
              "DB_LOCATION": ":memory:",
              "DEV_MODE": false,
              "DISPLAY_MAX_COLUMNS": 100,
              "DISPLAY_MAX_ROWS": 50000,
              "DISPLAY_MODE": "simple",
              "ENABLE_ASSIGNMENT": true,
              "ENABLE_DATALINK": true,
              "FLATTEN_COLUMN_VALUES": true,
              "FLATTEN_INDEX_VALUES": false,
              "GENERATE_DEX_METADATA": false,
              "HTML_TABLE_SCHEMA": false,
              "LOG_LEVEL": 30,
              "MAX_RENDER_SIZE_BYTES": 104857600,
              "MAX_STRING_LENGTH": 250,
              "NUM_PAST_SAMPLES_TRACKED": 3,
              "RANDOM_STATE": 12648430,
              "RESET_INDEX_VALUES": false,
              "ROW_SAMPLING_METHOD": "random",
              "SAMPLING_FACTOR": 0.1,
              "SAMPLING_METHOD": "random",
              "STRINGIFY_COLUMN_VALUES": true,
              "STRINGIFY_INDEX_VALUES": false
            },
            "sample_history": [],
            "sampling_time": "2023-09-23T21:51:53.745292",
            "user_variable_name": "world_inv_2023_T",
            "variable_name": "world_inv_2023_T"
          }
        }
      },
      "execution_count": null,
      "source": "world_inv_2023_T",
      "outputs": []
    },
    {
      "id": "3106090b-9b63-44fa-aff0-802420a00b05",
      "cell_type": "code",
      "metadata": {
        "jupyter": {
          "outputs_hidden": false,
          "source_hidden": false
        },
        "noteable": {
          "cell_type": "code",
          "output_collection_id": "f08ab38c-50c8-467f-ae08-92692b82c5df"
        },
        "ExecuteTime": {
          "end_time": "2023-09-23T21:52:58.538480+00:00",
          "start_time": "2023-09-23T21:52:58.248592+00:00"
        },
        "datalink": {
          "2353ef39-8602-4c6a-abb0-c24d1f4362b2": {
            "applied_filters": [],
            "dataframe_info": {
              "default_index_used": true,
              "orig_num_cols": 33,
              "orig_num_rows": 11,
              "orig_size_bytes": 2992,
              "truncated_num_cols": 33,
              "truncated_num_rows": 11,
              "truncated_size_bytes": 2992,
              "truncated_string_columns": []
            },
            "display_id": "2353ef39-8602-4c6a-abb0-c24d1f4362b2",
            "dx_settings": {
              "ALLOW_NOTEABLE_ATTRS": true,
              "COLUMN_SAMPLING_METHOD": "outer",
              "DB_LOCATION": ":memory:",
              "DEV_MODE": false,
              "DISPLAY_MAX_COLUMNS": 100,
              "DISPLAY_MAX_ROWS": 50000,
              "DISPLAY_MODE": "simple",
              "ENABLE_ASSIGNMENT": true,
              "ENABLE_DATALINK": true,
              "FLATTEN_COLUMN_VALUES": true,
              "FLATTEN_INDEX_VALUES": false,
              "GENERATE_DEX_METADATA": false,
              "HTML_TABLE_SCHEMA": false,
              "LOG_LEVEL": 30,
              "MAX_RENDER_SIZE_BYTES": 104857600,
              "MAX_STRING_LENGTH": 250,
              "NUM_PAST_SAMPLES_TRACKED": 3,
              "RANDOM_STATE": 12648430,
              "RESET_INDEX_VALUES": false,
              "ROW_SAMPLING_METHOD": "random",
              "SAMPLING_FACTOR": 0.1,
              "SAMPLING_METHOD": "random",
              "STRINGIFY_COLUMN_VALUES": true,
              "STRINGIFY_INDEX_VALUES": false
            },
            "sample_history": [],
            "sampling_time": "2023-09-23T21:52:58.370654",
            "user_variable_name": null,
            "variable_name": "unk_dataframe_5facf4f97dd9447eb3f987af813af614"
          }
        },
        "dx": {
          "dashboard": {
            "multiViews": []
          },
          "fieldMetadata": {},
          "simpleTable": true,
          "updated": 1695505986571,
          "views": [
            {
              "annotationRules": [],
              "chart": {},
              "chartMode": "grid",
              "confoRules": [],
              "decoration": {
                "footer": "",
                "subtitle": "",
                "title": "Table"
              },
              "facets": [],
              "filterSettings": {
                "SHOW_FILTER_PANEL": true,
                "filters": []
              },
              "id": "first-view",
              "isDefault": true,
              "type": "public",
              "userID": ""
            },
            {
              "annotationRules": [],
              "chart": {
                "tableSparklines": false
              },
              "chartMode": "grid",
              "confoRules": [],
              "decoration": {
                "footer": "",
                "subtitle": "",
                "title": "Table"
              },
              "facets": [],
              "filterSettings": {
                "SHOW_FILTER_PANEL": true,
                "filters": []
              },
              "id": "first-view",
              "isDefault": true,
              "isTransitory": true,
              "type": "public",
              "userID": ""
            }
          ]
        }
      },
      "execution_count": null,
      "source": "world_inv_2023_T.reset_index()",
      "outputs": []
    },
    {
      "id": "6ef62b4c-7d6a-4876-a86a-7c234da82b68",
      "cell_type": "code",
      "metadata": {
        "jupyter": {
          "outputs_hidden": false,
          "source_hidden": false
        },
        "noteable": {
          "cell_type": "code",
          "output_collection_id": "351c71a6-4a10-44a7-a56b-76de053edf78"
        },
        "ExecuteTime": {
          "end_time": "2023-09-23T21:50:03.264451+00:00",
          "start_time": "2023-09-23T21:50:03.107016+00:00"
        },
        "datalink": {
          "947dfe29-73b3-4f67-a83e-1227b09afa86": {
            "applied_filters": [],
            "dataframe_info": {
              "default_index_used": false,
              "orig_num_cols": 32,
              "orig_num_rows": 10,
              "orig_size_bytes": 2640,
              "truncated_num_cols": 32,
              "truncated_num_rows": 10,
              "truncated_size_bytes": 2640,
              "truncated_string_columns": []
            },
            "display_id": "947dfe29-73b3-4f67-a83e-1227b09afa86",
            "dx_settings": {
              "ALLOW_NOTEABLE_ATTRS": true,
              "COLUMN_SAMPLING_METHOD": "outer",
              "DB_LOCATION": ":memory:",
              "DEV_MODE": false,
              "DISPLAY_MAX_COLUMNS": 100,
              "DISPLAY_MAX_ROWS": 50000,
              "DISPLAY_MODE": "simple",
              "ENABLE_ASSIGNMENT": true,
              "ENABLE_DATALINK": true,
              "FLATTEN_COLUMN_VALUES": true,
              "FLATTEN_INDEX_VALUES": false,
              "GENERATE_DEX_METADATA": false,
              "HTML_TABLE_SCHEMA": false,
              "LOG_LEVEL": 30,
              "MAX_RENDER_SIZE_BYTES": 104857600,
              "MAX_STRING_LENGTH": 250,
              "NUM_PAST_SAMPLES_TRACKED": 3,
              "RANDOM_STATE": 12648430,
              "RESET_INDEX_VALUES": false,
              "ROW_SAMPLING_METHOD": "random",
              "SAMPLING_FACTOR": 0.1,
              "SAMPLING_METHOD": "random",
              "STRINGIFY_COLUMN_VALUES": true,
              "STRINGIFY_INDEX_VALUES": false
            },
            "sample_history": [],
            "sampling_time": "2023-09-23T21:49:13.797197",
            "user_variable_name": null,
            "variable_name": "unk_dataframe_6b5dbf7016ea45108106bcf709a4cbcc"
          }
        }
      },
      "execution_count": null,
      "source": "world_inv_2023_T = world_inv_2023_T.drop(world_inv_2023_T.index[0])\n",
      "outputs": []
    },
    {
      "id": "24bcabd4-8f99-4ace-a789-b521b1d85dbb",
      "cell_type": "code",
      "metadata": {
        "jupyter": {
          "outputs_hidden": false,
          "source_hidden": false
        },
        "noteable": {
          "cell_type": "code",
          "output_collection_id": "97a61b70-b90e-4681-a414-e8297e7b18a3"
        },
        "ExecuteTime": {
          "end_time": "2023-09-23T21:50:13.804379+00:00",
          "start_time": "2023-09-23T21:50:13.536319+00:00"
        },
        "datalink": {
          "1171d7a4-7497-4f2c-a3f3-e8d03c5164a5": {
            "applied_filters": [],
            "dataframe_info": {
              "default_index_used": false,
              "orig_num_cols": 32,
              "orig_num_rows": 10,
              "orig_size_bytes": 2640,
              "truncated_num_cols": 32,
              "truncated_num_rows": 10,
              "truncated_size_bytes": 2640,
              "truncated_string_columns": []
            },
            "display_id": "1171d7a4-7497-4f2c-a3f3-e8d03c5164a5",
            "dx_settings": {
              "ALLOW_NOTEABLE_ATTRS": true,
              "COLUMN_SAMPLING_METHOD": "outer",
              "DB_LOCATION": ":memory:",
              "DEV_MODE": false,
              "DISPLAY_MAX_COLUMNS": 100,
              "DISPLAY_MAX_ROWS": 50000,
              "DISPLAY_MODE": "simple",
              "ENABLE_ASSIGNMENT": true,
              "ENABLE_DATALINK": true,
              "FLATTEN_COLUMN_VALUES": true,
              "FLATTEN_INDEX_VALUES": false,
              "GENERATE_DEX_METADATA": false,
              "HTML_TABLE_SCHEMA": false,
              "LOG_LEVEL": 30,
              "MAX_RENDER_SIZE_BYTES": 104857600,
              "MAX_STRING_LENGTH": 250,
              "NUM_PAST_SAMPLES_TRACKED": 3,
              "RANDOM_STATE": 12648430,
              "RESET_INDEX_VALUES": false,
              "ROW_SAMPLING_METHOD": "random",
              "SAMPLING_FACTOR": 0.1,
              "SAMPLING_METHOD": "random",
              "STRINGIFY_COLUMN_VALUES": true,
              "STRINGIFY_INDEX_VALUES": false
            },
            "sample_history": [],
            "sampling_time": "2023-09-23T21:50:13.640125",
            "user_variable_name": "world_inv_2023_T",
            "variable_name": "world_inv_2023_T"
          }
        }
      },
      "execution_count": null,
      "source": "world_inv_2023_T",
      "outputs": []
    },
    {
      "id": "72037947-a1cf-4d58-bf01-30a392462b48",
      "cell_type": "code",
      "metadata": {
        "jupyter": {
          "outputs_hidden": false,
          "source_hidden": false
        },
        "noteable": {
          "cell_type": "code",
          "output_collection_id": "bbf573d5-ae15-4299-920b-a5451faf764f"
        },
        "ExecuteTime": {
          "end_time": "2023-09-23T21:30:16.863527+00:00",
          "start_time": "2023-09-23T21:30:16.580848+00:00"
        },
        "datalink": {
          "3217a78f-3102-4412-9637-a3e7e2a6bebf": {
            "applied_filters": [],
            "dataframe_info": {
              "default_index_used": true,
              "orig_num_cols": 11,
              "orig_num_rows": 32,
              "orig_size_bytes": 3072,
              "truncated_num_cols": 11,
              "truncated_num_rows": 32,
              "truncated_size_bytes": 3072,
              "truncated_string_columns": []
            },
            "display_id": "3217a78f-3102-4412-9637-a3e7e2a6bebf",
            "dx_settings": {
              "ALLOW_NOTEABLE_ATTRS": true,
              "COLUMN_SAMPLING_METHOD": "outer",
              "DB_LOCATION": ":memory:",
              "DEV_MODE": false,
              "DISPLAY_MAX_COLUMNS": 100,
              "DISPLAY_MAX_ROWS": 50000,
              "DISPLAY_MODE": "simple",
              "ENABLE_ASSIGNMENT": true,
              "ENABLE_DATALINK": true,
              "FLATTEN_COLUMN_VALUES": true,
              "FLATTEN_INDEX_VALUES": false,
              "GENERATE_DEX_METADATA": false,
              "HTML_TABLE_SCHEMA": false,
              "LOG_LEVEL": 30,
              "MAX_RENDER_SIZE_BYTES": 104857600,
              "MAX_STRING_LENGTH": 250,
              "NUM_PAST_SAMPLES_TRACKED": 3,
              "RANDOM_STATE": 12648430,
              "RESET_INDEX_VALUES": false,
              "ROW_SAMPLING_METHOD": "random",
              "SAMPLING_FACTOR": 0.1,
              "SAMPLING_METHOD": "random",
              "STRINGIFY_COLUMN_VALUES": true,
              "STRINGIFY_INDEX_VALUES": false
            },
            "sample_history": [],
            "sampling_time": "2023-09-23T18:16:36.421614",
            "user_variable_name": "advance_economies_inv_2023",
            "variable_name": "advance_economies_inv_2023"
          },
          "1d747c29-4676-4a80-a049-df07812a6929": {
            "applied_filters": [],
            "dataframe_info": {
              "default_index_used": false,
              "orig_num_cols": 32,
              "orig_num_rows": 11,
              "orig_size_bytes": 2904,
              "truncated_num_cols": 32,
              "truncated_num_rows": 11,
              "truncated_size_bytes": 2904,
              "truncated_string_columns": []
            },
            "display_id": "1d747c29-4676-4a80-a049-df07812a6929",
            "dx_settings": {
              "ALLOW_NOTEABLE_ATTRS": true,
              "COLUMN_SAMPLING_METHOD": "outer",
              "DB_LOCATION": ":memory:",
              "DEV_MODE": false,
              "DISPLAY_MAX_COLUMNS": 100,
              "DISPLAY_MAX_ROWS": 50000,
              "DISPLAY_MODE": "simple",
              "ENABLE_ASSIGNMENT": true,
              "ENABLE_DATALINK": true,
              "FLATTEN_COLUMN_VALUES": true,
              "FLATTEN_INDEX_VALUES": false,
              "GENERATE_DEX_METADATA": false,
              "HTML_TABLE_SCHEMA": false,
              "LOG_LEVEL": 30,
              "MAX_RENDER_SIZE_BYTES": 104857600,
              "MAX_STRING_LENGTH": 250,
              "NUM_PAST_SAMPLES_TRACKED": 3,
              "RANDOM_STATE": 12648430,
              "RESET_INDEX_VALUES": false,
              "ROW_SAMPLING_METHOD": "random",
              "SAMPLING_FACTOR": 0.1,
              "SAMPLING_METHOD": "random",
              "STRINGIFY_COLUMN_VALUES": true,
              "STRINGIFY_INDEX_VALUES": false
            },
            "sample_history": [],
            "sampling_time": "2023-09-23T19:11:15.800834",
            "user_variable_name": null,
            "variable_name": "unk_dataframe_b1f82732ea65447f8cce49b94372460f"
          },
          "773602f5-8c37-4bd2-aab9-24268400e2bd": {
            "applied_filters": [],
            "dataframe_info": {
              "default_index_used": false,
              "orig_num_cols": 32,
              "orig_num_rows": 10,
              "orig_size_bytes": 2640,
              "truncated_num_cols": 32,
              "truncated_num_rows": 10,
              "truncated_size_bytes": 2640,
              "truncated_string_columns": []
            },
            "display_id": "773602f5-8c37-4bd2-aab9-24268400e2bd",
            "dx_settings": {
              "ALLOW_NOTEABLE_ATTRS": true,
              "COLUMN_SAMPLING_METHOD": "outer",
              "DB_LOCATION": ":memory:",
              "DEV_MODE": false,
              "DISPLAY_MAX_COLUMNS": 100,
              "DISPLAY_MAX_ROWS": 50000,
              "DISPLAY_MODE": "simple",
              "ENABLE_ASSIGNMENT": true,
              "ENABLE_DATALINK": true,
              "FLATTEN_COLUMN_VALUES": true,
              "FLATTEN_INDEX_VALUES": false,
              "GENERATE_DEX_METADATA": false,
              "HTML_TABLE_SCHEMA": false,
              "LOG_LEVEL": 30,
              "MAX_RENDER_SIZE_BYTES": 104857600,
              "MAX_STRING_LENGTH": 250,
              "NUM_PAST_SAMPLES_TRACKED": 3,
              "RANDOM_STATE": 12648430,
              "RESET_INDEX_VALUES": false,
              "ROW_SAMPLING_METHOD": "random",
              "SAMPLING_FACTOR": 0.1,
              "SAMPLING_METHOD": "random",
              "STRINGIFY_COLUMN_VALUES": true,
              "STRINGIFY_INDEX_VALUES": false
            },
            "sample_history": [],
            "sampling_time": "2023-09-23T19:22:22.251214",
            "user_variable_name": "advance_economies_inv_2023_T",
            "variable_name": "advance_economies_inv_2023_T"
          },
          "7b0e1bfa-1a00-4c12-a6eb-691f54e0fbbe": {
            "applied_filters": [],
            "dataframe_info": {
              "default_index_used": false,
              "orig_num_cols": 32,
              "orig_num_rows": 10,
              "orig_size_bytes": 2640,
              "truncated_num_cols": 32,
              "truncated_num_rows": 10,
              "truncated_size_bytes": 2640,
              "truncated_string_columns": []
            },
            "display_id": "7b0e1bfa-1a00-4c12-a6eb-691f54e0fbbe",
            "dx_settings": {
              "ALLOW_NOTEABLE_ATTRS": true,
              "COLUMN_SAMPLING_METHOD": "outer",
              "DB_LOCATION": ":memory:",
              "DEV_MODE": false,
              "DISPLAY_MAX_COLUMNS": 100,
              "DISPLAY_MAX_ROWS": 50000,
              "DISPLAY_MODE": "simple",
              "ENABLE_ASSIGNMENT": true,
              "ENABLE_DATALINK": true,
              "FLATTEN_COLUMN_VALUES": true,
              "FLATTEN_INDEX_VALUES": false,
              "GENERATE_DEX_METADATA": false,
              "HTML_TABLE_SCHEMA": false,
              "LOG_LEVEL": 30,
              "MAX_RENDER_SIZE_BYTES": 104857600,
              "MAX_STRING_LENGTH": 250,
              "NUM_PAST_SAMPLES_TRACKED": 3,
              "RANDOM_STATE": 12648430,
              "RESET_INDEX_VALUES": false,
              "ROW_SAMPLING_METHOD": "random",
              "SAMPLING_FACTOR": 0.1,
              "SAMPLING_METHOD": "random",
              "STRINGIFY_COLUMN_VALUES": true,
              "STRINGIFY_INDEX_VALUES": false
            },
            "sample_history": [],
            "sampling_time": "2023-09-23T19:23:51.284121",
            "user_variable_name": null,
            "variable_name": "unk_dataframe_e6622ffd548540af9371c306767a3930"
          },
          "8616ed83-c6d4-45a6-b1a4-7f8e903dee2b": {
            "applied_filters": [],
            "dataframe_info": {
              "default_index_used": false,
              "orig_num_cols": 32,
              "orig_num_rows": 10,
              "orig_size_bytes": 2640,
              "truncated_num_cols": 32,
              "truncated_num_rows": 10,
              "truncated_size_bytes": 2640,
              "truncated_string_columns": []
            },
            "display_id": "8616ed83-c6d4-45a6-b1a4-7f8e903dee2b",
            "dx_settings": {
              "ALLOW_NOTEABLE_ATTRS": true,
              "COLUMN_SAMPLING_METHOD": "outer",
              "DB_LOCATION": ":memory:",
              "DEV_MODE": false,
              "DISPLAY_MAX_COLUMNS": 100,
              "DISPLAY_MAX_ROWS": 50000,
              "DISPLAY_MODE": "simple",
              "ENABLE_ASSIGNMENT": true,
              "ENABLE_DATALINK": true,
              "FLATTEN_COLUMN_VALUES": true,
              "FLATTEN_INDEX_VALUES": false,
              "GENERATE_DEX_METADATA": false,
              "HTML_TABLE_SCHEMA": false,
              "LOG_LEVEL": 30,
              "MAX_RENDER_SIZE_BYTES": 104857600,
              "MAX_STRING_LENGTH": 250,
              "NUM_PAST_SAMPLES_TRACKED": 3,
              "RANDOM_STATE": 12648430,
              "RESET_INDEX_VALUES": false,
              "ROW_SAMPLING_METHOD": "random",
              "SAMPLING_FACTOR": 0.1,
              "SAMPLING_METHOD": "random",
              "STRINGIFY_COLUMN_VALUES": true,
              "STRINGIFY_INDEX_VALUES": false
            },
            "sample_history": [],
            "sampling_time": "2023-09-23T19:24:19.236999",
            "user_variable_name": "advance_economies_inv_2023_T",
            "variable_name": "advance_economies_inv_2023_T"
          },
          "a56cadbc-a481-4ba1-9643-fd971fd67887": {
            "applied_filters": [],
            "dataframe_info": {
              "default_index_used": false,
              "orig_num_cols": 32,
              "orig_num_rows": 10,
              "orig_size_bytes": 2640,
              "truncated_num_cols": 32,
              "truncated_num_rows": 10,
              "truncated_size_bytes": 2640,
              "truncated_string_columns": []
            },
            "display_id": "a56cadbc-a481-4ba1-9643-fd971fd67887",
            "dx_settings": {
              "ALLOW_NOTEABLE_ATTRS": true,
              "COLUMN_SAMPLING_METHOD": "outer",
              "DB_LOCATION": ":memory:",
              "DEV_MODE": false,
              "DISPLAY_MAX_COLUMNS": 100,
              "DISPLAY_MAX_ROWS": 50000,
              "DISPLAY_MODE": "simple",
              "ENABLE_ASSIGNMENT": true,
              "ENABLE_DATALINK": true,
              "FLATTEN_COLUMN_VALUES": true,
              "FLATTEN_INDEX_VALUES": false,
              "GENERATE_DEX_METADATA": false,
              "HTML_TABLE_SCHEMA": false,
              "LOG_LEVEL": 30,
              "MAX_RENDER_SIZE_BYTES": 104857600,
              "MAX_STRING_LENGTH": 250,
              "NUM_PAST_SAMPLES_TRACKED": 3,
              "RANDOM_STATE": 12648430,
              "RESET_INDEX_VALUES": false,
              "ROW_SAMPLING_METHOD": "random",
              "SAMPLING_FACTOR": 0.1,
              "SAMPLING_METHOD": "random",
              "STRINGIFY_COLUMN_VALUES": true,
              "STRINGIFY_INDEX_VALUES": false
            },
            "sample_history": [],
            "sampling_time": "2023-09-23T21:30:16.697546",
            "user_variable_name": "advance_economies_inv_2023_T",
            "variable_name": "advance_economies_inv_2023_T"
          }
        },
        "dx": {
          "dashboard": {
            "multiViews": []
          },
          "fieldMetadata": {
            "0": {
              "columnPosition": 2,
              "hidden": true
            },
            "1": {
              "columnPosition": 3
            },
            "10": {
              "columnPosition": 12
            },
            "11": {
              "columnPosition": 13
            },
            "12": {
              "columnPosition": 14
            },
            "13": {
              "columnPosition": 15
            },
            "14": {
              "columnPosition": 16
            },
            "15": {
              "columnPosition": 17
            },
            "16": {
              "columnPosition": 18
            },
            "17": {
              "columnPosition": 19
            },
            "18": {
              "columnPosition": 20
            },
            "19": {
              "columnPosition": 21
            },
            "2": {
              "columnPosition": 4
            },
            "20": {
              "columnPosition": 22
            },
            "21": {
              "columnPosition": 23
            },
            "22": {
              "columnPosition": 24
            },
            "23": {
              "columnPosition": 25
            },
            "24": {
              "columnPosition": 26
            },
            "25": {
              "columnPosition": 27
            },
            "26": {
              "columnPosition": 28
            },
            "27": {
              "columnPosition": 29
            },
            "28": {
              "columnPosition": 30
            },
            "29": {
              "columnPosition": 31
            },
            "3": {
              "columnPosition": 5
            },
            "30": {
              "columnPosition": 32
            },
            "31": {
              "columnPosition": 33
            },
            "4": {
              "columnPosition": 6
            },
            "5": {
              "columnPosition": 7
            },
            "6": {
              "columnPosition": 8
            },
            "7": {
              "columnPosition": 9
            },
            "8": {
              "columnPosition": 10
            },
            "9": {
              "columnPosition": 11
            },
            "index": {
              "columnPosition": 1,
              "hidden": true
            }
          },
          "updated": 1695504385745,
          "views": [
            {
              "annotationRules": [],
              "chart": {},
              "chartMode": "grid",
              "confoRules": [],
              "decoration": {
                "footer": "",
                "subtitle": "",
                "title": "Table"
              },
              "facets": [],
              "filterSettings": {
                "SHOW_FILTER_PANEL": true,
                "filters": []
              },
              "id": "first-view",
              "isDefault": true,
              "type": "public",
              "userID": ""
            },
            {
              "annotationRules": [],
              "chart": {},
              "chartMode": "grid",
              "confoRules": [],
              "decoration": {
                "footer": "",
                "subtitle": "",
                "title": "Table"
              },
              "facets": [],
              "filterSettings": {
                "SHOW_FILTER_PANEL": true,
                "filters": []
              },
              "id": "first-view",
              "isDefault": true,
              "isTransitory": true,
              "type": "public",
              "userID": ""
            },
            {
              "annotationRules": [],
              "chart": {},
              "chartMode": "empty",
              "confoRules": [],
              "decoration": {
                "footer": "",
                "subtitle": "",
                "title": "New View"
              },
              "facets": [],
              "filterSettings": {
                "SHOW_FILTER_PANEL": true,
                "filters": []
              },
              "id": "e52ea272-b1e9-40fb-a64c-5e229c1624bb",
              "isDefault": false,
              "type": "public",
              "userID": ""
            },
            {
              "annotationRules": [],
              "chart": {
                "facets": [],
                "summaryType": "heatmap"
              },
              "chartMode": "bignumber",
              "confoRules": [],
              "decoration": {
                "footer": "",
                "subtitle": "",
                "title": "Big Number"
              },
              "facets": [],
              "filterSettings": {
                "SHOW_FILTER_PANEL": true,
                "filters": []
              },
              "id": "e52ea272-b1e9-40fb-a64c-5e229c1624bb",
              "isDefault": false,
              "isTransitory": true,
              "type": "public",
              "userID": ""
            }
          ]
        },
        "scrolled": false
      },
      "execution_count": null,
      "source": "# Transposing dataset and renaming column names\nadvance_economies_inv_2023_T= advance_economies_inv_2023.transpose()\n\nadvance_economies_inv_2023_T= advance_economies_inv_2023_T.drop(advance_economies_inv_2023_T.index[0])\n\nadvance_economies_inv_2023_T\n\n\n",
      "outputs": []
    },
    {
      "id": "69cdeed9-13ce-4d05-8de5-23179c9ddaac",
      "cell_type": "code",
      "metadata": {
        "jupyter": {
          "outputs_hidden": false,
          "source_hidden": false
        },
        "noteable": {
          "cell_type": "code",
          "output_collection_id": "afeada8c-2e6f-43ea-b300-e4ec833da5f9"
        },
        "ExecuteTime": {
          "end_time": "2023-09-23T21:30:17.298468+00:00",
          "start_time": "2023-09-23T21:30:17.101051+00:00"
        }
      },
      "execution_count": null,
      "source": "# Sorting values by renewables\n\nadvance_economies_inv_2023.transpose().sort_values(by='Renewables')\n",
      "outputs": []
    },
    {
      "id": "a0b8d28b-b752-4a95-9cae-912864155d71",
      "cell_type": "code",
      "metadata": {
        "jupyter": {
          "outputs_hidden": false,
          "source_hidden": false
        },
        "noteable": {
          "cell_type": "code",
          "output_collection_id": "837689ee-925c-4eed-901e-5eb772cbda6f"
        },
        "ExecuteTime": {
          "end_time": "2023-09-23T21:30:18.377627+00:00",
          "start_time": "2023-09-23T21:30:18.082211+00:00"
        },
        "datalink": {
          "c7de3876-10ad-47f3-9840-c7e870312055": {
            "applied_filters": [],
            "dataframe_info": {
              "default_index_used": true,
              "orig_num_cols": 11,
              "orig_num_rows": 32,
              "orig_size_bytes": 3072,
              "truncated_num_cols": 11,
              "truncated_num_rows": 32,
              "truncated_size_bytes": 3072,
              "truncated_string_columns": []
            },
            "display_id": "c7de3876-10ad-47f3-9840-c7e870312055",
            "dx_settings": {
              "ALLOW_NOTEABLE_ATTRS": true,
              "COLUMN_SAMPLING_METHOD": "outer",
              "DB_LOCATION": ":memory:",
              "DEV_MODE": false,
              "DISPLAY_MAX_COLUMNS": 100,
              "DISPLAY_MAX_ROWS": 50000,
              "DISPLAY_MODE": "simple",
              "ENABLE_ASSIGNMENT": true,
              "ENABLE_DATALINK": true,
              "FLATTEN_COLUMN_VALUES": true,
              "FLATTEN_INDEX_VALUES": false,
              "GENERATE_DEX_METADATA": false,
              "HTML_TABLE_SCHEMA": false,
              "LOG_LEVEL": 30,
              "MAX_RENDER_SIZE_BYTES": 104857600,
              "MAX_STRING_LENGTH": 250,
              "NUM_PAST_SAMPLES_TRACKED": 3,
              "RANDOM_STATE": 12648430,
              "RESET_INDEX_VALUES": false,
              "ROW_SAMPLING_METHOD": "random",
              "SAMPLING_FACTOR": 0.1,
              "SAMPLING_METHOD": "random",
              "STRINGIFY_COLUMN_VALUES": true,
              "STRINGIFY_INDEX_VALUES": false
            },
            "sample_history": [],
            "sampling_time": "2023-09-23T18:16:47.696478",
            "user_variable_name": "emde_inv_2023",
            "variable_name": "emde_inv_2023"
          },
          "633e3900-cf15-4e47-a86b-ff9d733d31f2": {
            "applied_filters": [],
            "dataframe_info": {
              "default_index_used": false,
              "orig_num_cols": 32,
              "orig_num_rows": 11,
              "orig_size_bytes": 2904,
              "truncated_num_cols": 32,
              "truncated_num_rows": 11,
              "truncated_size_bytes": 2904,
              "truncated_string_columns": []
            },
            "display_id": "633e3900-cf15-4e47-a86b-ff9d733d31f2",
            "dx_settings": {
              "ALLOW_NOTEABLE_ATTRS": true,
              "COLUMN_SAMPLING_METHOD": "outer",
              "DB_LOCATION": ":memory:",
              "DEV_MODE": false,
              "DISPLAY_MAX_COLUMNS": 100,
              "DISPLAY_MAX_ROWS": 50000,
              "DISPLAY_MODE": "simple",
              "ENABLE_ASSIGNMENT": true,
              "ENABLE_DATALINK": true,
              "FLATTEN_COLUMN_VALUES": true,
              "FLATTEN_INDEX_VALUES": false,
              "GENERATE_DEX_METADATA": false,
              "HTML_TABLE_SCHEMA": false,
              "LOG_LEVEL": 30,
              "MAX_RENDER_SIZE_BYTES": 104857600,
              "MAX_STRING_LENGTH": 250,
              "NUM_PAST_SAMPLES_TRACKED": 3,
              "RANDOM_STATE": 12648430,
              "RESET_INDEX_VALUES": false,
              "ROW_SAMPLING_METHOD": "random",
              "SAMPLING_FACTOR": 0.1,
              "SAMPLING_METHOD": "random",
              "STRINGIFY_COLUMN_VALUES": true,
              "STRINGIFY_INDEX_VALUES": false
            },
            "sample_history": [],
            "sampling_time": "2023-09-23T18:53:29.896240",
            "user_variable_name": null,
            "variable_name": "unk_dataframe_e1cefbeca93849aca838c351a4db3c57"
          },
          "dc03237c-62d3-48e8-9dde-a4b173a68d92": {
            "applied_filters": [],
            "dataframe_info": {
              "default_index_used": false,
              "orig_num_cols": 32,
              "orig_num_rows": 11,
              "orig_size_bytes": 2904,
              "truncated_num_cols": 32,
              "truncated_num_rows": 11,
              "truncated_size_bytes": 2904,
              "truncated_string_columns": []
            },
            "display_id": "dc03237c-62d3-48e8-9dde-a4b173a68d92",
            "dx_settings": {
              "ALLOW_NOTEABLE_ATTRS": true,
              "COLUMN_SAMPLING_METHOD": "outer",
              "DB_LOCATION": ":memory:",
              "DEV_MODE": false,
              "DISPLAY_MAX_COLUMNS": 100,
              "DISPLAY_MAX_ROWS": 50000,
              "DISPLAY_MODE": "simple",
              "ENABLE_ASSIGNMENT": true,
              "ENABLE_DATALINK": true,
              "FLATTEN_COLUMN_VALUES": true,
              "FLATTEN_INDEX_VALUES": false,
              "GENERATE_DEX_METADATA": false,
              "HTML_TABLE_SCHEMA": false,
              "LOG_LEVEL": 30,
              "MAX_RENDER_SIZE_BYTES": 104857600,
              "MAX_STRING_LENGTH": 250,
              "NUM_PAST_SAMPLES_TRACKED": 3,
              "RANDOM_STATE": 12648430,
              "RESET_INDEX_VALUES": false,
              "ROW_SAMPLING_METHOD": "random",
              "SAMPLING_FACTOR": 0.1,
              "SAMPLING_METHOD": "random",
              "STRINGIFY_COLUMN_VALUES": true,
              "STRINGIFY_INDEX_VALUES": false
            },
            "sample_history": [],
            "sampling_time": "2023-09-23T21:30:18.201482",
            "user_variable_name": null,
            "variable_name": "unk_dataframe_c096896feb72486baa2cbd5b4422d660"
          }
        },
        "dx": {
          "dashboard": {
            "multiViews": []
          },
          "fieldMetadata": {
            "0": {
              "columnPosition": 2,
              "hidden": true
            },
            "1": {
              "columnPosition": 3
            },
            "10": {
              "columnPosition": 12
            },
            "11": {
              "columnPosition": 13
            },
            "12": {
              "columnPosition": 14
            },
            "13": {
              "columnPosition": 15
            },
            "14": {
              "columnPosition": 16
            },
            "15": {
              "columnPosition": 17
            },
            "16": {
              "columnPosition": 18
            },
            "17": {
              "columnPosition": 19
            },
            "18": {
              "columnPosition": 20
            },
            "19": {
              "columnPosition": 21
            },
            "2": {
              "columnPosition": 4
            },
            "20": {
              "columnPosition": 22
            },
            "21": {
              "columnPosition": 23
            },
            "22": {
              "columnPosition": 24
            },
            "23": {
              "columnPosition": 25
            },
            "24": {
              "columnPosition": 26
            },
            "25": {
              "columnPosition": 27
            },
            "26": {
              "columnPosition": 28
            },
            "27": {
              "columnPosition": 29
            },
            "28": {
              "columnPosition": 30
            },
            "29": {
              "columnPosition": 31
            },
            "3": {
              "columnPosition": 5
            },
            "30": {
              "columnPosition": 32
            },
            "31": {
              "columnPosition": 33
            },
            "4": {
              "columnPosition": 6
            },
            "5": {
              "columnPosition": 7
            },
            "6": {
              "columnPosition": 8
            },
            "7": {
              "columnPosition": 9
            },
            "8": {
              "columnPosition": 10
            },
            "9": {
              "columnPosition": 11
            },
            "index": {
              "columnPosition": 1,
              "hidden": true
            }
          },
          "updated": 1695495235901,
          "views": [
            {
              "annotationRules": [],
              "chart": {},
              "chartMode": "grid",
              "confoRules": [],
              "decoration": {
                "footer": "",
                "subtitle": "",
                "title": "Table"
              },
              "facets": [],
              "filterSettings": {
                "SHOW_FILTER_PANEL": true,
                "filters": []
              },
              "id": "first-view",
              "isDefault": true,
              "type": "public",
              "userID": ""
            },
            {
              "annotationRules": [],
              "chart": {},
              "chartMode": "grid",
              "confoRules": [],
              "decoration": {
                "footer": "",
                "subtitle": "",
                "title": "Table"
              },
              "facets": [],
              "filterSettings": {
                "SHOW_FILTER_PANEL": true,
                "filters": []
              },
              "id": "first-view",
              "isDefault": true,
              "isTransitory": true,
              "type": "public",
              "userID": ""
            }
          ]
        },
        "scrolled": false
      },
      "execution_count": null,
      "source": "emde_inv_2023.transpose()",
      "outputs": []
    },
    {
      "id": "bce5671f-1cf4-478d-b8c2-688565313f6c",
      "cell_type": "code",
      "metadata": {
        "jupyter": {
          "outputs_hidden": false,
          "source_hidden": false
        },
        "noteable": {
          "cell_type": "code",
          "output_collection_id": "31bfe418-e19b-49a1-a8b7-c4cbdf95147b"
        },
        "ExecuteTime": {
          "end_time": "2023-09-23T21:30:18.600105+00:00",
          "start_time": "2023-09-23T21:30:18.399012+00:00"
        },
        "datalink": {
          "f8b3c0b5-7f15-439c-b3b3-dae5e1e4d0d0": {
            "applied_filters": [],
            "dataframe_info": {
              "default_index_used": true,
              "orig_num_cols": 3,
              "orig_num_rows": 17,
              "orig_size_bytes": 544,
              "truncated_num_cols": 3,
              "truncated_num_rows": 17,
              "truncated_size_bytes": 544,
              "truncated_string_columns": [
                "Unnamed: 1",
                "Unnamed: 2"
              ]
            },
            "display_id": "f8b3c0b5-7f15-439c-b3b3-dae5e1e4d0d0",
            "dx_settings": {
              "ALLOW_NOTEABLE_ATTRS": true,
              "COLUMN_SAMPLING_METHOD": "outer",
              "DB_LOCATION": ":memory:",
              "DEV_MODE": false,
              "DISPLAY_MAX_COLUMNS": 100,
              "DISPLAY_MAX_ROWS": 50000,
              "DISPLAY_MODE": "simple",
              "ENABLE_ASSIGNMENT": true,
              "ENABLE_DATALINK": true,
              "FLATTEN_COLUMN_VALUES": true,
              "FLATTEN_INDEX_VALUES": false,
              "GENERATE_DEX_METADATA": false,
              "HTML_TABLE_SCHEMA": false,
              "LOG_LEVEL": 30,
              "MAX_RENDER_SIZE_BYTES": 104857600,
              "MAX_STRING_LENGTH": 250,
              "NUM_PAST_SAMPLES_TRACKED": 3,
              "RANDOM_STATE": 12648430,
              "RESET_INDEX_VALUES": false,
              "ROW_SAMPLING_METHOD": "random",
              "SAMPLING_FACTOR": 0.1,
              "SAMPLING_METHOD": "random",
              "STRINGIFY_COLUMN_VALUES": true,
              "STRINGIFY_INDEX_VALUES": false
            },
            "sample_history": [],
            "sampling_time": "2023-09-23T21:30:18.440846",
            "user_variable_name": "notes_web_inv_2023",
            "variable_name": "notes_web_inv_2023"
          }
        }
      },
      "execution_count": null,
      "source": "notes_web_inv_2023",
      "outputs": []
    },
    {
      "id": "c66277bc-800e-4849-85b4-1fd41493f321",
      "cell_type": "code",
      "metadata": {
        "jupyter": {
          "outputs_hidden": false,
          "source_hidden": false
        },
        "noteable": {
          "cell_type": "code"
        }
      },
      "execution_count": null,
      "source": "",
      "outputs": []
    },
    {
      "id": "949a4aee-827c-47cb-9345-94d08dfd2073",
      "cell_type": "code",
      "metadata": {
        "jupyter": {
          "outputs_hidden": false,
          "source_hidden": false
        },
        "noteable": {
          "cell_type": "code"
        }
      },
      "execution_count": null,
      "source": "",
      "outputs": []
    }
  ]
}