{
  "nbformat": 4,
  "nbformat_minor": 5,
  "metadata": {
    "kernel_info": {
      "name": "python3"
    },
    "kernelspec": {
      "display_name": "Python 3.9",
      "language": "python",
      "name": "python3"
    },
    "selected_hardware_size": "small"
  },
  "cells": [
    {
      "id": "1559a7b5",
      "cell_type": "code",
      "metadata": {
        "noteable": {
          "output_collection_id": "2ed15599-ac9b-4d7e-b421-d1a25bc7676c"
        },
        "ExecuteTime": {
          "end_time": "2023-09-23T16:09:29.946904+00:00",
          "start_time": "2023-09-23T16:09:29.792244+00:00"
        }
      },
      "execution_count": null,
      "source": "import pandas as pd",
      "outputs": []
    },
    {
      "id": "feba9af1-40b5-4bb4-b740-c77339b72332",
      "cell_type": "code",
      "metadata": {
        "jupyter": {
          "outputs_hidden": false,
          "source_hidden": false
        },
        "noteable": {
          "cell_type": "code",
          "output_collection_id": "57866ef3-7830-439b-ad7c-c7b8e9c0d66f"
        },
        "ExecuteTime": {
          "end_time": "2023-09-23T16:15:17.939580+00:00",
          "start_time": "2023-09-23T16:15:16.950449+00:00"
        },
        "scrolled": true
      },
      "execution_count": null,
      "source": "# to read excel files sample\n\n# rdd_budget_xls = pd.ExcelFile('../datasets/Excel data/IEA_Energy_RDD_selected_data.xlsx')\n# public_rdd = pd.read_excel(rdd_budget_xls, 'Public RD&D', skiprows=[0])\n# econ_indicators = pd.read_excel(rdd_budget_xls, 'Economic Indicators', skiprows=[0])\n\n# print(public_rdd.head(), '\\n'*5, econ_indicators.head() )\n\n# public_rdd.to_csv('public_rdd.csv')",
      "outputs": []
    },
    {
      "id": "a1b2b461-300f-438c-87c2-eed8b9db883e",
      "cell_type": "code",
      "metadata": {
        "jupyter": {
          "outputs_hidden": false,
          "source_hidden": false
        },
        "noteable": {
          "cell_type": "code",
          "output_collection_id": "6f4d6344-9055-49a7-890b-87637aa9ba93"
        },
        "ExecuteTime": {
          "end_time": "2023-09-23T16:15:04.038139+00:00",
          "start_time": "2023-09-23T16:15:03.526154+00:00"
        }
      },
      "execution_count": null,
      "source": "%ntbl pull datasets \"Excel data/IEA_Energy_RDD_selected_data.xlsx\"",
      "outputs": []
    },
    {
      "id": "ac10042f-f4f8-4b3f-89b4-33de09e4b4e3",
      "cell_type": "code",
      "metadata": {
        "jupyter": {
          "outputs_hidden": false,
          "source_hidden": false
        },
        "noteable": {
          "cell_type": "code",
          "output_collection_id": "ba2f736c-049b-4556-ae04-477630db3633"
        },
        "ExecuteTime": {
          "end_time": "2023-09-23T17:42:52.534326+00:00",
          "start_time": "2023-09-23T17:42:52.133461+00:00"
        }
      },
      "execution_count": null,
      "source": "# Pull files into the environment\n\n%ntbl pull datasets \"Excel data/WorldEnergyInvestment2021_DataFile.xlsx\"",
      "outputs": []
    },
    {
      "id": "ca0289dd-0be0-4038-9163-cc7e1218bdad",
      "cell_type": "code",
      "metadata": {
        "jupyter": {
          "outputs_hidden": false,
          "source_hidden": false
        },
        "noteable": {
          "cell_type": "code",
          "output_collection_id": "cf50b6b9-6957-4f2f-80a6-6995b59eb6c6"
        },
        "ExecuteTime": {
          "end_time": "2023-09-23T17:45:01.762993+00:00",
          "start_time": "2023-09-23T17:45:01.484252+00:00"
        }
      },
      "execution_count": null,
      "source": "# Create excel file object and list it's sheet names\n\nw_energy_inv_2021 = pd.ExcelFile('../../datasets/Excel data/WorldEnergyInvestment2021_DataFile.xlsx')\n\nsheet_names = w_energy_inv_2021.sheet_names\nprint(\"Sheet names:\", sheet_names)",
      "outputs": []
    },
    {
      "id": "a019055a-8ce3-4a1e-9a7d-dd4072f7b97c",
      "cell_type": "code",
      "metadata": {
        "jupyter": {
          "outputs_hidden": false,
          "source_hidden": false
        },
        "noteable": {
          "cell_type": "code",
          "output_collection_id": "e4402c24-54c6-42e0-913d-bbb1af9bef65"
        },
        "ExecuteTime": {
          "end_time": "2023-09-23T17:21:09.616966+00:00",
          "start_time": "2023-09-23T17:21:09.401239+00:00"
        }
      },
      "execution_count": null,
      "source": "# w_energy_inv_2021 =('../datasets/Excel data/WorldEnergyInvestment2021_DataFile.xlsx')\nw_energy_inv_2021 = pd.ExcelFile('../datasets/Excel data/WorldEnergyInvestment2021_DataFile.xlsx')\nw_energy_inv_2021 = pd.read_excel(w_energy_inv_2021, 'Public RD&D', skiprows=[0])\n# econ_indicators = pd.read_excel(rdd_budget_xls, 'Economic Indicators', skiprows=[0])",
      "outputs": []
    },
    {
      "id": "2310aec5-00ee-4ffa-92df-e96c3e5050b7",
      "cell_type": "code",
      "metadata": {
        "jupyter": {
          "outputs_hidden": false,
          "source_hidden": false
        },
        "noteable": {
          "cell_type": "code",
          "output_collection_id": "8b733bd0-dff2-4356-97b7-e57f2bc6052c"
        },
        "ExecuteTime": {
          "end_time": "2023-09-23T17:23:08.588446+00:00",
          "start_time": "2023-09-23T17:23:08.432997+00:00"
        }
      },
      "execution_count": null,
      "source": "help(pd.read_excel)",
      "outputs": []
    },
    {
      "id": "7906372d-ca87-4efa-ba20-49f403822b3b",
      "cell_type": "code",
      "metadata": {
        "jupyter": {
          "outputs_hidden": false,
          "source_hidden": false
        },
        "noteable": {
          "cell_type": "code",
          "output_collection_id": "ad349693-349d-4f31-9b62-b9cc250fef13"
        },
        "ExecuteTime": {
          "end_time": "2023-09-23T17:20:35.511452+00:00",
          "start_time": "2023-09-23T17:20:34.986165+00:00"
        }
      },
      "execution_count": null,
      "source": "%ntbl pull datasets \"Excel data/WorldEnergyInvestment2021_DataFile.xlsx\"",
      "outputs": []
    }
  ]
}