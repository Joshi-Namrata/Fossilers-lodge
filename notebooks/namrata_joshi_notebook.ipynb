{
  "nbformat": 4,
  "nbformat_minor": 5,
  "metadata": {
    "kernel_info": {
      "name": "python3"
    },
    "kernelspec": {
      "display_name": "Python 3.9",
      "language": "python",
      "name": "python3"
    },
    "selected_hardware_size": "small"
  },
  "cells": [
    {
      "id": "1559a7b5",
      "cell_type": "code",
      "metadata": {
        "noteable": {
          "output_collection_id": "2ed15599-ac9b-4d7e-b421-d1a25bc7676c"
        },
        "ExecuteTime": {
          "end_time": "2023-09-23T16:09:29.946904+00:00",
          "start_time": "2023-09-23T16:09:29.792244+00:00"
        }
      },
      "execution_count": null,
      "source": "import pandas as pd",
      "outputs": []
    },
    {
      "id": "feba9af1-40b5-4bb4-b740-c77339b72332",
      "cell_type": "code",
      "metadata": {
        "jupyter": {
          "outputs_hidden": false,
          "source_hidden": false
        },
        "noteable": {
          "cell_type": "code",
          "output_collection_id": "57866ef3-7830-439b-ad7c-c7b8e9c0d66f"
        },
        "ExecuteTime": {
          "end_time": "2023-09-23T16:15:17.939580+00:00",
          "start_time": "2023-09-23T16:15:16.950449+00:00"
        },
        "scrolled": true
      },
      "execution_count": null,
      "source": "# to read excel files sample\n\n# rdd_budget_xls = pd.ExcelFile('../datasets/Excel data/IEA_Energy_RDD_selected_data.xlsx')\n# public_rdd = pd.read_excel(rdd_budget_xls, 'Public RD&D', skiprows=[0])\n# econ_indicators = pd.read_excel(rdd_budget_xls, 'Economic Indicators', skiprows=[0])\n\n# print(public_rdd.head(), '\\n'*5, econ_indicators.head() )\n\n# public_rdd.to_csv('public_rdd.csv')",
      "outputs": []
    },
    {
      "id": "a1b2b461-300f-438c-87c2-eed8b9db883e",
      "cell_type": "code",
      "metadata": {
        "jupyter": {
          "outputs_hidden": false,
          "source_hidden": false
        },
        "noteable": {
          "cell_type": "code",
          "output_collection_id": "6f4d6344-9055-49a7-890b-87637aa9ba93"
        },
        "ExecuteTime": {
          "end_time": "2023-09-23T16:15:04.038139+00:00",
          "start_time": "2023-09-23T16:15:03.526154+00:00"
        }
      },
      "execution_count": null,
      "source": "%ntbl pull datasets \"Excel data/IEA_Energy_RDD_selected_data.xlsx\"",
      "outputs": []
    },
    {
      "id": "ac10042f-f4f8-4b3f-89b4-33de09e4b4e3",
      "cell_type": "code",
      "metadata": {
        "jupyter": {
          "outputs_hidden": false,
          "source_hidden": false
        },
        "noteable": {
          "cell_type": "code",
          "output_collection_id": "ba2f736c-049b-4556-ae04-477630db3633"
        },
        "ExecuteTime": {
          "end_time": "2023-09-23T17:42:52.534326+00:00",
          "start_time": "2023-09-23T17:42:52.133461+00:00"
        }
      },
      "execution_count": null,
      "source": "# Pull world_energy_investment_2021 file into the environment\n\n%ntbl pull datasets \"Excel data/WorldEnergyInvestment2021_DataFile.xlsx\"",
      "outputs": []
    },
    {
      "id": "ca0289dd-0be0-4038-9163-cc7e1218bdad",
      "cell_type": "code",
      "metadata": {
        "jupyter": {
          "outputs_hidden": false,
          "source_hidden": false
        },
        "noteable": {
          "cell_type": "code",
          "output_collection_id": "cf50b6b9-6957-4f2f-80a6-6995b59eb6c6"
        },
        "ExecuteTime": {
          "end_time": "2023-09-23T17:45:01.762993+00:00",
          "start_time": "2023-09-23T17:45:01.484252+00:00"
        }
      },
      "execution_count": null,
      "source": "# Create excel file object and list it's sheet names\n\nw_energy_inv_2021 = pd.ExcelFile('../../datasets/Excel data/WorldEnergyInvestment2021_DataFile.xlsx')\n\nsheet_names = w_energy_inv_2021.sheet_names\nprint(\"Sheet names:\", sheet_names)",
      "outputs": []
    },
    {
      "id": "863f217e-dfd2-41dc-8834-fa7a4dad68a3",
      "cell_type": "code",
      "metadata": {
        "jupyter": {
          "outputs_hidden": false,
          "source_hidden": false
        },
        "noteable": {
          "cell_type": "code",
          "output_collection_id": "524b217f-896e-4fb6-b3aa-a529c67b9310"
        },
        "ExecuteTime": {
          "end_time": "2023-09-23T17:52:28.883662+00:00",
          "start_time": "2023-09-23T17:52:28.426282+00:00"
        }
      },
      "execution_count": null,
      "source": "#Pull world_energy_investment_2022 file into the environment\n\n%ntbl pull datasets \"Excel data/WorldEnergyInvestment2022_DataFile.xlsx\"",
      "outputs": []
    },
    {
      "id": "c25730bd-6e24-48f7-ba0c-33706ee922c1",
      "cell_type": "code",
      "metadata": {
        "jupyter": {
          "outputs_hidden": false,
          "source_hidden": false
        },
        "noteable": {
          "cell_type": "code",
          "output_collection_id": "b6e456f1-d854-450e-a4d6-65068bb5aec8"
        },
        "ExecuteTime": {
          "end_time": "2023-09-23T17:52:31.569526+00:00",
          "start_time": "2023-09-23T17:52:31.383743+00:00"
        }
      },
      "execution_count": null,
      "source": "# Create excel file object and list it's sheet names\n\nw_energy_inv_2022 = pd.ExcelFile('../../datasets/Excel data/WorldEnergyInvestment2022_DataFile.xlsx')\n\nsheet_names = w_energy_inv_2022.sheet_names\nprint(\"Sheet names:\", sheet_names)",
      "outputs": []
    },
    {
      "id": "b3bf6961-bfd7-4ecc-b2d3-c5f9947f9f1a",
      "cell_type": "code",
      "metadata": {
        "jupyter": {
          "outputs_hidden": false,
          "source_hidden": false
        },
        "noteable": {
          "cell_type": "code",
          "output_collection_id": "9a8405d4-c90d-4bcb-8e45-0e3876b2a1e3"
        },
        "ExecuteTime": {
          "end_time": "2023-09-23T17:53:16.640787+00:00",
          "start_time": "2023-09-23T17:53:15.926001+00:00"
        }
      },
      "execution_count": null,
      "source": "#Pull world_energy_investment_2022 file into the environment\n\n%ntbl pull datasets \"Excel data/WorldEnergyInvestment2023_DataFile.xlsx\"",
      "outputs": []
    },
    {
      "id": "de475d60-7d8b-41b0-a467-8913d904d806",
      "cell_type": "code",
      "metadata": {
        "jupyter": {
          "outputs_hidden": false,
          "source_hidden": false
        },
        "noteable": {
          "cell_type": "code",
          "output_collection_id": "2ee7eb53-a315-4058-a1c0-bcab3454c864"
        },
        "ExecuteTime": {
          "end_time": "2023-09-23T18:05:29.679341+00:00",
          "start_time": "2023-09-23T18:05:29.495752+00:00"
        }
      },
      "execution_count": null,
      "source": "# Create excel file object and list it's sheet names\n\nw_energy_inv_2023 = pd.ExcelFile('../../datasets/Excel data/WorldEnergyInvestment2023_DataFile.xlsx')\n\nsheet_names = w_energy_inv_2023.sheet_names\nprint(\"Sheet names:\", sheet_names)",
      "outputs": []
    },
    {
      "id": "d1bcfa32-4690-468c-bedc-1454c54ee7fd",
      "cell_type": "code",
      "metadata": {
        "jupyter": {
          "outputs_hidden": false,
          "source_hidden": false
        },
        "noteable": {
          "cell_type": "code"
        }
      },
      "execution_count": null,
      "source": "cover_inv_2023 = pd.read_excel(w_energy_inv_2023, 'Cover', skiprows=[0])\nworld_inv_2023= pd.read_excel(w_energy_inv_2023, 'World', skiprows=[0])\ncover_inv_2023 = pd.read_excel(w_energy_inv_2023, 'Cover', skiprows=[0])\nworld_inv_2023= pd.read_excel(w_energy_inv_2023, 'World', skiprows=[0])\ncover_inv_2023 = pd.read_excel(w_energy_inv_2023, 'Cover', skiprows=[0])\nworld_inv_2023= pd.read_excel(w_energy_inv_2023, 'World', skiprows=[0])\n\n\n# print(public_rdd.head(), '\\n'*5, econ_indicators.head() )",
      "outputs": []
    }
  ]
}