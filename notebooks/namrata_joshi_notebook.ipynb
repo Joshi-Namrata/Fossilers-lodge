{
  "nbformat": 4,
  "nbformat_minor": 5,
  "metadata": {
    "kernel_info": {
      "name": "python3"
    },
    "kernelspec": {
      "display_name": "Python 3.9",
      "language": "python",
      "name": "python3"
    },
    "selected_hardware_size": "small",
    "noteable": {
      "db_connection": "@noteable"
    }
  },
  "cells": [
    {
      "id": "ddbeabfb-2c0b-464e-852b-0cacbfb7f5ae",
      "cell_type": "markdown",
      "source": "# Importing libraries",
      "metadata": {
        "noteable": {
          "cell_type": "markdown"
        }
      }
    },
    {
      "id": "1559a7b5",
      "cell_type": "code",
      "metadata": {
        "noteable": {
          "output_collection_id": "081e7e7d-de9a-40ae-b817-da74fa1a8bbb"
        },
        "ExecuteTime": {
          "end_time": "2023-09-24T16:42:40.398391+00:00",
          "start_time": "2023-09-24T16:42:40.243761+00:00"
        }
      },
      "execution_count": null,
      "source": "import pandas as pd\nimport numpy as np",
      "outputs": []
    },
    {
      "id": "04384c22-80d3-4cbc-8c4e-631e54657bcf",
      "cell_type": "markdown",
      "source": "# Reading files",
      "metadata": {
        "noteable": {
          "cell_type": "markdown"
        }
      }
    },
    {
      "id": "ac10042f-f4f8-4b3f-89b4-33de09e4b4e3",
      "cell_type": "code",
      "metadata": {
        "jupyter": {
          "outputs_hidden": false,
          "source_hidden": false
        },
        "noteable": {
          "cell_type": "code",
          "output_collection_id": "2d8dde46-7e99-458c-a7d1-0b3e397fd50e"
        },
        "ExecuteTime": {
          "end_time": "2023-09-24T16:42:42.624238+00:00",
          "start_time": "2023-09-24T16:42:40.404512+00:00"
        },
        "scrolled": false
      },
      "execution_count": null,
      "source": "# Pull world_energy_investment_2021 file into the environment\n\n%ntbl pull datasets \"Excel data/WorldEnergyInvestment2021_DataFile.xlsx\"",
      "outputs": []
    },
    {
      "id": "ca0289dd-0be0-4038-9163-cc7e1218bdad",
      "cell_type": "code",
      "metadata": {
        "jupyter": {
          "outputs_hidden": false,
          "source_hidden": false
        },
        "noteable": {
          "cell_type": "code",
          "output_collection_id": "cd1b339f-a487-40f7-b6aa-8accc670dcad"
        },
        "ExecuteTime": {
          "end_time": "2023-09-24T16:42:43.154396+00:00",
          "start_time": "2023-09-24T16:42:42.883042+00:00"
        }
      },
      "execution_count": null,
      "source": "# Create excel file object and list it's sheet names\n\nw_energy_inv_2021 = pd.ExcelFile('../../datasets/Excel data/WorldEnergyInvestment2021_DataFile.xlsx')\n\nsheet_names = w_energy_inv_2021.sheet_names\nprint(\"Sheet names:\", sheet_names)",
      "outputs": []
    },
    {
      "id": "863f217e-dfd2-41dc-8834-fa7a4dad68a3",
      "cell_type": "code",
      "metadata": {
        "jupyter": {
          "outputs_hidden": false,
          "source_hidden": false
        },
        "noteable": {
          "cell_type": "code",
          "output_collection_id": "8334e0ad-7aea-4bc7-86b3-96881b0d9509"
        },
        "ExecuteTime": {
          "end_time": "2023-09-24T16:42:44.102376+00:00",
          "start_time": "2023-09-24T16:42:43.159499+00:00"
        }
      },
      "execution_count": null,
      "source": "#Pull world_energy_investment_2022 file into the environment\n\n%ntbl pull datasets \"Excel data/WorldEnergyInvestment2022_DataFile.xlsx\"",
      "outputs": []
    },
    {
      "id": "c25730bd-6e24-48f7-ba0c-33706ee922c1",
      "cell_type": "code",
      "metadata": {
        "jupyter": {
          "outputs_hidden": false,
          "source_hidden": false
        },
        "noteable": {
          "cell_type": "code",
          "output_collection_id": "14da6cd9-dfe5-4e7a-bced-7729041a5d76"
        },
        "ExecuteTime": {
          "end_time": "2023-09-24T16:42:45.499027+00:00",
          "start_time": "2023-09-24T16:42:45.303032+00:00"
        }
      },
      "execution_count": null,
      "source": "# Create excel file object and list it's sheet names\n\nw_energy_inv_2022 = pd.ExcelFile('../../datasets/Excel data/WorldEnergyInvestment2022_DataFile.xlsx')\n\nsheet_names = w_energy_inv_2022.sheet_names\nprint(\"Sheet names:\", sheet_names)",
      "outputs": []
    },
    {
      "id": "b3bf6961-bfd7-4ecc-b2d3-c5f9947f9f1a",
      "cell_type": "code",
      "metadata": {
        "jupyter": {
          "outputs_hidden": false,
          "source_hidden": false
        },
        "noteable": {
          "cell_type": "code",
          "output_collection_id": "3c089bdb-96e6-459a-8f77-7eed815ae3d2"
        },
        "ExecuteTime": {
          "end_time": "2023-09-24T16:42:45.950734+00:00",
          "start_time": "2023-09-24T16:42:45.504167+00:00"
        }
      },
      "execution_count": null,
      "source": "#Pull world_energy_investment_2022 file into the environment\n\n%ntbl pull datasets \"Excel data/WorldEnergyInvestment2023_DataFile.xlsx\"",
      "outputs": []
    },
    {
      "id": "de475d60-7d8b-41b0-a467-8913d904d806",
      "cell_type": "code",
      "metadata": {
        "jupyter": {
          "outputs_hidden": false,
          "source_hidden": false
        },
        "noteable": {
          "cell_type": "code",
          "output_collection_id": "2a8f9356-b8fe-448b-8b30-19ec35471265"
        },
        "ExecuteTime": {
          "end_time": "2023-09-24T16:42:46.782021+00:00",
          "start_time": "2023-09-24T16:42:46.597022+00:00"
        }
      },
      "execution_count": null,
      "source": "# Create excel file object and list it's sheet names\n\nw_energy_inv_2023 = pd.ExcelFile('../../datasets/Excel data/WorldEnergyInvestment2023_DataFile.xlsx')\n\nsheet_names = w_energy_inv_2023.sheet_names\nprint(\"Sheet names:\", sheet_names)",
      "outputs": []
    },
    {
      "id": "92e73b5a-a284-4989-af84-c8fb6a9f58a4",
      "cell_type": "markdown",
      "source": "# Looking at different sheets of 2023 file",
      "metadata": {
        "noteable": {
          "cell_type": "markdown"
        }
      }
    },
    {
      "id": "d1bcfa32-4690-468c-bedc-1454c54ee7fd",
      "cell_type": "code",
      "metadata": {
        "jupyter": {
          "outputs_hidden": false,
          "source_hidden": false
        },
        "noteable": {
          "cell_type": "code",
          "output_collection_id": "4ba611ef-8db1-4646-9313-34775c0eef8e"
        },
        "ExecuteTime": {
          "end_time": "2023-09-24T16:42:47.623425+00:00",
          "start_time": "2023-09-24T16:42:47.437859+00:00"
        }
      },
      "execution_count": null,
      "source": "cover_inv_2023 = pd.read_excel(w_energy_inv_2023, 'Cover', skiprows=[0])\nworld_inv_2023= pd.read_excel(w_energy_inv_2023, 'World', skiprows=[0])\nadvance_economies_inv_2023 = pd.read_excel(w_energy_inv_2023, 'Advanced Economies', skiprows=[0])\nemde_inv_2023= pd.read_excel(w_energy_inv_2023, 'EMDE', skiprows=[0])\nchina_inv_2023 = pd.read_excel(w_energy_inv_2023, 'China', skiprows=[0])\nnorth_america_inv_2023= pd.read_excel(w_energy_inv_2023, 'North America', skiprows=[0])\nnotes_web_inv_2023= pd.read_excel(w_energy_inv_2023,'Notes_Web', skiprows=[0])\n\n\nprint(cover_inv_2023.head())\n# print(public_rdd.head(), '\\n'*5, econ_indicators.head() )",
      "outputs": []
    },
    {
      "id": "ff4e544c-3546-4993-930f-800ba34e8506",
      "cell_type": "markdown",
      "source": "# Looking at world level data",
      "metadata": {
        "noteable": {
          "cell_type": "markdown"
        }
      }
    },
    {
      "id": "75881b9a-69c6-4d56-bba0-8327ba2c48dc",
      "cell_type": "code",
      "metadata": {
        "jupyter": {
          "outputs_hidden": false,
          "source_hidden": false
        },
        "noteable": {
          "cell_type": "code",
          "output_collection_id": "2314a1b8-a1b8-45b4-b453-b1011551d40f"
        },
        "ExecuteTime": {
          "end_time": "2023-09-24T16:42:47.862096+00:00",
          "start_time": "2023-09-24T16:42:47.658237+00:00"
        },
        "datalink": {
          "2fbaa69e-7cd7-4563-b575-8168e490bd12": {
            "applied_filters": [],
            "dataframe_info": {
              "default_index_used": true,
              "orig_num_cols": 11,
              "orig_num_rows": 32,
              "orig_size_bytes": 3072,
              "truncated_num_cols": 11,
              "truncated_num_rows": 32,
              "truncated_size_bytes": 3072,
              "truncated_string_columns": []
            },
            "display_id": "2fbaa69e-7cd7-4563-b575-8168e490bd12",
            "dx_settings": {
              "ALLOW_NOTEABLE_ATTRS": true,
              "COLUMN_SAMPLING_METHOD": "outer",
              "DB_LOCATION": ":memory:",
              "DEV_MODE": false,
              "DISPLAY_MAX_COLUMNS": 100,
              "DISPLAY_MAX_ROWS": 50000,
              "DISPLAY_MODE": "simple",
              "ENABLE_ASSIGNMENT": true,
              "ENABLE_DATALINK": true,
              "FLATTEN_COLUMN_VALUES": true,
              "FLATTEN_INDEX_VALUES": false,
              "GENERATE_DEX_METADATA": false,
              "HTML_TABLE_SCHEMA": false,
              "LOG_LEVEL": 30,
              "MAX_RENDER_SIZE_BYTES": 104857600,
              "MAX_STRING_LENGTH": 250,
              "NUM_PAST_SAMPLES_TRACKED": 3,
              "RANDOM_STATE": 12648430,
              "RESET_INDEX_VALUES": false,
              "ROW_SAMPLING_METHOD": "random",
              "SAMPLING_FACTOR": 0.1,
              "SAMPLING_METHOD": "random",
              "STRINGIFY_COLUMN_VALUES": true,
              "STRINGIFY_INDEX_VALUES": false
            },
            "sample_history": [],
            "sampling_time": "2023-09-23T21:53:31.648429",
            "user_variable_name": "world_inv_2023",
            "variable_name": "world_inv_2023"
          },
          "ef2c9987-112a-44af-855a-c2afe4d25c0b": {
            "applied_filters": [],
            "dataframe_info": {
              "default_index_used": true,
              "orig_num_cols": 11,
              "orig_num_rows": 32,
              "orig_size_bytes": 3072,
              "truncated_num_cols": 11,
              "truncated_num_rows": 32,
              "truncated_size_bytes": 3072,
              "truncated_string_columns": []
            },
            "display_id": "ef2c9987-112a-44af-855a-c2afe4d25c0b",
            "dx_settings": {
              "ALLOW_NOTEABLE_ATTRS": true,
              "COLUMN_SAMPLING_METHOD": "outer",
              "DB_LOCATION": ":memory:",
              "DEV_MODE": false,
              "DISPLAY_MAX_COLUMNS": 100,
              "DISPLAY_MAX_ROWS": 50000,
              "DISPLAY_MODE": "simple",
              "ENABLE_ASSIGNMENT": true,
              "ENABLE_DATALINK": true,
              "FLATTEN_COLUMN_VALUES": true,
              "FLATTEN_INDEX_VALUES": false,
              "GENERATE_DEX_METADATA": false,
              "HTML_TABLE_SCHEMA": false,
              "LOG_LEVEL": 30,
              "MAX_RENDER_SIZE_BYTES": 104857600,
              "MAX_STRING_LENGTH": 250,
              "NUM_PAST_SAMPLES_TRACKED": 3,
              "RANDOM_STATE": 12648430,
              "RESET_INDEX_VALUES": false,
              "ROW_SAMPLING_METHOD": "random",
              "SAMPLING_FACTOR": 0.1,
              "SAMPLING_METHOD": "random",
              "STRINGIFY_COLUMN_VALUES": true,
              "STRINGIFY_INDEX_VALUES": false
            },
            "sample_history": [],
            "sampling_time": "2023-09-23T21:57:52.340087",
            "user_variable_name": "world_inv_2023",
            "variable_name": "world_inv_2023"
          },
          "a90d7055-b8fd-4f65-82a4-ce81c61b12d8": {
            "applied_filters": [],
            "dataframe_info": {
              "default_index_used": true,
              "orig_num_cols": 11,
              "orig_num_rows": 32,
              "orig_size_bytes": 3072,
              "truncated_num_cols": 11,
              "truncated_num_rows": 32,
              "truncated_size_bytes": 3072,
              "truncated_string_columns": []
            },
            "display_id": "a90d7055-b8fd-4f65-82a4-ce81c61b12d8",
            "dx_settings": {
              "ALLOW_NOTEABLE_ATTRS": true,
              "COLUMN_SAMPLING_METHOD": "outer",
              "DB_LOCATION": ":memory:",
              "DEV_MODE": false,
              "DISPLAY_MAX_COLUMNS": 100,
              "DISPLAY_MAX_ROWS": 50000,
              "DISPLAY_MODE": "simple",
              "ENABLE_ASSIGNMENT": true,
              "ENABLE_DATALINK": true,
              "FLATTEN_COLUMN_VALUES": true,
              "FLATTEN_INDEX_VALUES": false,
              "GENERATE_DEX_METADATA": false,
              "HTML_TABLE_SCHEMA": false,
              "LOG_LEVEL": 30,
              "MAX_RENDER_SIZE_BYTES": 104857600,
              "MAX_STRING_LENGTH": 250,
              "NUM_PAST_SAMPLES_TRACKED": 3,
              "RANDOM_STATE": 12648430,
              "RESET_INDEX_VALUES": false,
              "ROW_SAMPLING_METHOD": "random",
              "SAMPLING_FACTOR": 0.1,
              "SAMPLING_METHOD": "random",
              "STRINGIFY_COLUMN_VALUES": true,
              "STRINGIFY_INDEX_VALUES": false
            },
            "sample_history": [],
            "sampling_time": "2023-09-23T22:00:57.041686",
            "user_variable_name": "world_inv_2023",
            "variable_name": "world_inv_2023"
          },
          "c7c19719-7e3a-4a8d-92ca-424076f7be43": {
            "applied_filters": [],
            "dataframe_info": {
              "default_index_used": true,
              "orig_num_cols": 11,
              "orig_num_rows": 32,
              "orig_size_bytes": 3072,
              "truncated_num_cols": 11,
              "truncated_num_rows": 32,
              "truncated_size_bytes": 3072,
              "truncated_string_columns": []
            },
            "display_id": "c7c19719-7e3a-4a8d-92ca-424076f7be43",
            "dx_settings": {
              "ALLOW_NOTEABLE_ATTRS": true,
              "COLUMN_SAMPLING_METHOD": "outer",
              "DB_LOCATION": ":memory:",
              "DEV_MODE": false,
              "DISPLAY_MAX_COLUMNS": 100,
              "DISPLAY_MAX_ROWS": 50000,
              "DISPLAY_MODE": "simple",
              "ENABLE_ASSIGNMENT": true,
              "ENABLE_DATALINK": true,
              "FLATTEN_COLUMN_VALUES": true,
              "FLATTEN_INDEX_VALUES": false,
              "GENERATE_DEX_METADATA": false,
              "HTML_TABLE_SCHEMA": false,
              "LOG_LEVEL": 30,
              "MAX_RENDER_SIZE_BYTES": 104857600,
              "MAX_STRING_LENGTH": 250,
              "NUM_PAST_SAMPLES_TRACKED": 3,
              "RANDOM_STATE": 12648430,
              "RESET_INDEX_VALUES": false,
              "ROW_SAMPLING_METHOD": "random",
              "SAMPLING_FACTOR": 0.1,
              "SAMPLING_METHOD": "random",
              "STRINGIFY_COLUMN_VALUES": true,
              "STRINGIFY_INDEX_VALUES": false
            },
            "sample_history": [],
            "sampling_time": "2023-09-23T23:31:55.140319",
            "user_variable_name": "world_inv_2023",
            "variable_name": "world_inv_2023"
          },
          "4945119f-3f5b-4a29-b71e-e37ea41c6858": {
            "applied_filters": [],
            "dataframe_info": {
              "default_index_used": true,
              "orig_num_cols": 11,
              "orig_num_rows": 32,
              "orig_size_bytes": 3072,
              "truncated_num_cols": 11,
              "truncated_num_rows": 32,
              "truncated_size_bytes": 3072,
              "truncated_string_columns": []
            },
            "display_id": "4945119f-3f5b-4a29-b71e-e37ea41c6858",
            "dx_settings": {
              "ALLOW_NOTEABLE_ATTRS": true,
              "COLUMN_SAMPLING_METHOD": "outer",
              "DB_LOCATION": ":memory:",
              "DEV_MODE": false,
              "DISPLAY_MAX_COLUMNS": 100,
              "DISPLAY_MAX_ROWS": 50000,
              "DISPLAY_MODE": "simple",
              "ENABLE_ASSIGNMENT": true,
              "ENABLE_DATALINK": true,
              "FLATTEN_COLUMN_VALUES": true,
              "FLATTEN_INDEX_VALUES": false,
              "GENERATE_DEX_METADATA": false,
              "HTML_TABLE_SCHEMA": false,
              "LOG_LEVEL": 30,
              "MAX_RENDER_SIZE_BYTES": 104857600,
              "MAX_STRING_LENGTH": 250,
              "NUM_PAST_SAMPLES_TRACKED": 3,
              "RANDOM_STATE": 12648430,
              "RESET_INDEX_VALUES": false,
              "ROW_SAMPLING_METHOD": "random",
              "SAMPLING_FACTOR": 0.1,
              "SAMPLING_METHOD": "random",
              "STRINGIFY_COLUMN_VALUES": true,
              "STRINGIFY_INDEX_VALUES": false
            },
            "sample_history": [],
            "sampling_time": "2023-09-24T01:10:46.935752",
            "user_variable_name": "world_inv_2023",
            "variable_name": "world_inv_2023"
          },
          "4f4fa325-2322-41c0-837a-a903ebf854f3": {
            "applied_filters": [],
            "dataframe_info": {
              "default_index_used": true,
              "orig_num_cols": 11,
              "orig_num_rows": 32,
              "orig_size_bytes": 3072,
              "truncated_num_cols": 11,
              "truncated_num_rows": 32,
              "truncated_size_bytes": 3072,
              "truncated_string_columns": []
            },
            "display_id": "4f4fa325-2322-41c0-837a-a903ebf854f3",
            "dx_settings": {
              "ALLOW_NOTEABLE_ATTRS": true,
              "COLUMN_SAMPLING_METHOD": "outer",
              "DB_LOCATION": ":memory:",
              "DEV_MODE": false,
              "DISPLAY_MAX_COLUMNS": 100,
              "DISPLAY_MAX_ROWS": 50000,
              "DISPLAY_MODE": "simple",
              "ENABLE_ASSIGNMENT": true,
              "ENABLE_DATALINK": true,
              "FLATTEN_COLUMN_VALUES": true,
              "FLATTEN_INDEX_VALUES": false,
              "GENERATE_DEX_METADATA": false,
              "HTML_TABLE_SCHEMA": false,
              "LOG_LEVEL": 30,
              "MAX_RENDER_SIZE_BYTES": 104857600,
              "MAX_STRING_LENGTH": 250,
              "NUM_PAST_SAMPLES_TRACKED": 3,
              "RANDOM_STATE": 12648430,
              "RESET_INDEX_VALUES": false,
              "ROW_SAMPLING_METHOD": "random",
              "SAMPLING_FACTOR": 0.1,
              "SAMPLING_METHOD": "random",
              "STRINGIFY_COLUMN_VALUES": true,
              "STRINGIFY_INDEX_VALUES": false
            },
            "sample_history": [],
            "sampling_time": "2023-09-24T04:11:19.934902",
            "user_variable_name": "world_inv_2023",
            "variable_name": "world_inv_2023"
          },
          "08bc4cf5-0d4f-4fbf-89b6-eea38fa3b75e": {
            "applied_filters": [],
            "dataframe_info": {
              "default_index_used": true,
              "orig_num_cols": 11,
              "orig_num_rows": 32,
              "orig_size_bytes": 3072,
              "truncated_num_cols": 11,
              "truncated_num_rows": 32,
              "truncated_size_bytes": 3072,
              "truncated_string_columns": []
            },
            "display_id": "08bc4cf5-0d4f-4fbf-89b6-eea38fa3b75e",
            "dx_settings": {
              "ALLOW_NOTEABLE_ATTRS": true,
              "COLUMN_SAMPLING_METHOD": "outer",
              "DB_LOCATION": ":memory:",
              "DEV_MODE": false,
              "DISPLAY_MAX_COLUMNS": 100,
              "DISPLAY_MAX_ROWS": 50000,
              "DISPLAY_MODE": "simple",
              "ENABLE_ASSIGNMENT": true,
              "ENABLE_DATALINK": true,
              "FLATTEN_COLUMN_VALUES": true,
              "FLATTEN_INDEX_VALUES": false,
              "GENERATE_DEX_METADATA": false,
              "HTML_TABLE_SCHEMA": false,
              "LOG_LEVEL": 30,
              "MAX_RENDER_SIZE_BYTES": 104857600,
              "MAX_STRING_LENGTH": 250,
              "NUM_PAST_SAMPLES_TRACKED": 3,
              "RANDOM_STATE": 12648430,
              "RESET_INDEX_VALUES": false,
              "ROW_SAMPLING_METHOD": "random",
              "SAMPLING_FACTOR": 0.1,
              "SAMPLING_METHOD": "random",
              "STRINGIFY_COLUMN_VALUES": true,
              "STRINGIFY_INDEX_VALUES": false
            },
            "sample_history": [],
            "sampling_time": "2023-09-24T16:42:47.698650",
            "user_variable_name": "world_inv_2023",
            "variable_name": "world_inv_2023"
          }
        },
        "dx": {
          "fieldMetadata": {},
          "simpleTable": true,
          "simpleTableExpanded": true,
          "updated": 1695511926586,
          "views": []
        }
      },
      "execution_count": null,
      "source": "world_inv_2023",
      "outputs": []
    },
    {
      "id": "7311587b-7425-4424-8c38-0d2b3974860e",
      "cell_type": "code",
      "metadata": {
        "jupyter": {
          "outputs_hidden": false,
          "source_hidden": false
        },
        "noteable": {
          "cell_type": "code",
          "output_collection_id": "1eb44c29-6c99-42c8-a0bc-ae27862fd940"
        },
        "ExecuteTime": {
          "end_time": "2023-09-24T16:42:48.023026+00:00",
          "start_time": "2023-09-24T16:42:47.867796+00:00"
        }
      },
      "execution_count": null,
      "source": "world_inv_2023.shape",
      "outputs": []
    },
    {
      "id": "4360accd-6db5-4489-8829-14f46ee936be",
      "cell_type": "code",
      "metadata": {
        "jupyter": {
          "outputs_hidden": false,
          "source_hidden": false
        },
        "noteable": {
          "cell_type": "code",
          "output_collection_id": "4d9a0b69-ba14-47a0-a804-321183b79d0a"
        },
        "ExecuteTime": {
          "end_time": "2023-09-24T16:42:48.216430+00:00",
          "start_time": "2023-09-24T16:42:48.029244+00:00"
        },
        "datalink": {
          "ef92db62-4c17-4ae8-abd6-e2d64d31d219": {
            "applied_filters": [],
            "dataframe_info": {
              "default_index_used": true,
              "orig_num_cols": 11,
              "orig_num_rows": 31,
              "orig_size_bytes": 2976,
              "truncated_num_cols": 11,
              "truncated_num_rows": 31,
              "truncated_size_bytes": 2976,
              "truncated_string_columns": []
            },
            "display_id": "ef92db62-4c17-4ae8-abd6-e2d64d31d219",
            "dx_settings": {
              "ALLOW_NOTEABLE_ATTRS": true,
              "COLUMN_SAMPLING_METHOD": "outer",
              "DB_LOCATION": ":memory:",
              "DEV_MODE": false,
              "DISPLAY_MAX_COLUMNS": 100,
              "DISPLAY_MAX_ROWS": 50000,
              "DISPLAY_MODE": "simple",
              "ENABLE_ASSIGNMENT": true,
              "ENABLE_DATALINK": true,
              "FLATTEN_COLUMN_VALUES": true,
              "FLATTEN_INDEX_VALUES": false,
              "GENERATE_DEX_METADATA": false,
              "HTML_TABLE_SCHEMA": false,
              "LOG_LEVEL": 30,
              "MAX_RENDER_SIZE_BYTES": 104857600,
              "MAX_STRING_LENGTH": 250,
              "NUM_PAST_SAMPLES_TRACKED": 3,
              "RANDOM_STATE": 12648430,
              "RESET_INDEX_VALUES": false,
              "ROW_SAMPLING_METHOD": "random",
              "SAMPLING_FACTOR": 0.1,
              "SAMPLING_METHOD": "random",
              "STRINGIFY_COLUMN_VALUES": true,
              "STRINGIFY_INDEX_VALUES": false
            },
            "sample_history": [],
            "sampling_time": "2023-09-23T21:55:03.964838",
            "user_variable_name": "world_inv_2023",
            "variable_name": "world_inv_2023"
          },
          "7fb508a3-c695-4461-8c46-e22c4debe2e5": {
            "applied_filters": [],
            "dataframe_info": {
              "default_index_used": false,
              "orig_num_cols": 1,
              "orig_num_rows": 11,
              "orig_size_bytes": 176,
              "truncated_num_cols": 1,
              "truncated_num_rows": 11,
              "truncated_size_bytes": 176,
              "truncated_string_columns": []
            },
            "display_id": "7fb508a3-c695-4461-8c46-e22c4debe2e5",
            "dx_settings": {
              "ALLOW_NOTEABLE_ATTRS": true,
              "COLUMN_SAMPLING_METHOD": "outer",
              "DB_LOCATION": ":memory:",
              "DEV_MODE": false,
              "DISPLAY_MAX_COLUMNS": 100,
              "DISPLAY_MAX_ROWS": 50000,
              "DISPLAY_MODE": "simple",
              "ENABLE_ASSIGNMENT": true,
              "ENABLE_DATALINK": true,
              "FLATTEN_COLUMN_VALUES": true,
              "FLATTEN_INDEX_VALUES": false,
              "GENERATE_DEX_METADATA": false,
              "HTML_TABLE_SCHEMA": false,
              "LOG_LEVEL": 30,
              "MAX_RENDER_SIZE_BYTES": 104857600,
              "MAX_STRING_LENGTH": 250,
              "NUM_PAST_SAMPLES_TRACKED": 3,
              "RANDOM_STATE": 12648430,
              "RESET_INDEX_VALUES": false,
              "ROW_SAMPLING_METHOD": "random",
              "SAMPLING_FACTOR": 0.1,
              "SAMPLING_METHOD": "random",
              "STRINGIFY_COLUMN_VALUES": true,
              "STRINGIFY_INDEX_VALUES": false
            },
            "sample_history": [],
            "sampling_time": "2023-09-23T21:55:27.946251",
            "user_variable_name": null,
            "variable_name": "unk_dataframe_f71fba9f2097431b87846f5cdfcf9b6c"
          },
          "58c0d41e-80f8-41c0-9c14-b5d8a880a9d3": {
            "applied_filters": [],
            "dataframe_info": {
              "default_index_used": false,
              "orig_num_cols": 1,
              "orig_num_rows": 11,
              "orig_size_bytes": 176,
              "truncated_num_cols": 1,
              "truncated_num_rows": 11,
              "truncated_size_bytes": 176,
              "truncated_string_columns": []
            },
            "display_id": "58c0d41e-80f8-41c0-9c14-b5d8a880a9d3",
            "dx_settings": {
              "ALLOW_NOTEABLE_ATTRS": true,
              "COLUMN_SAMPLING_METHOD": "outer",
              "DB_LOCATION": ":memory:",
              "DEV_MODE": false,
              "DISPLAY_MAX_COLUMNS": 100,
              "DISPLAY_MAX_ROWS": 50000,
              "DISPLAY_MODE": "simple",
              "ENABLE_ASSIGNMENT": true,
              "ENABLE_DATALINK": true,
              "FLATTEN_COLUMN_VALUES": true,
              "FLATTEN_INDEX_VALUES": false,
              "GENERATE_DEX_METADATA": false,
              "HTML_TABLE_SCHEMA": false,
              "LOG_LEVEL": 30,
              "MAX_RENDER_SIZE_BYTES": 104857600,
              "MAX_STRING_LENGTH": 250,
              "NUM_PAST_SAMPLES_TRACKED": 3,
              "RANDOM_STATE": 12648430,
              "RESET_INDEX_VALUES": false,
              "ROW_SAMPLING_METHOD": "random",
              "SAMPLING_FACTOR": 0.1,
              "SAMPLING_METHOD": "random",
              "STRINGIFY_COLUMN_VALUES": true,
              "STRINGIFY_INDEX_VALUES": false
            },
            "sample_history": [],
            "sampling_time": "2023-09-23T21:58:11.227217",
            "user_variable_name": null,
            "variable_name": "unk_dataframe_9fabbbed255f4040bf99de78d0968149"
          },
          "dbc34cb0-8194-43d9-a15c-2a1723b4fa11": {
            "applied_filters": [],
            "dataframe_info": {
              "default_index_used": false,
              "orig_num_cols": 1,
              "orig_num_rows": 11,
              "orig_size_bytes": 176,
              "truncated_num_cols": 1,
              "truncated_num_rows": 11,
              "truncated_size_bytes": 176,
              "truncated_string_columns": []
            },
            "display_id": "dbc34cb0-8194-43d9-a15c-2a1723b4fa11",
            "dx_settings": {
              "ALLOW_NOTEABLE_ATTRS": true,
              "COLUMN_SAMPLING_METHOD": "outer",
              "DB_LOCATION": ":memory:",
              "DEV_MODE": false,
              "DISPLAY_MAX_COLUMNS": 100,
              "DISPLAY_MAX_ROWS": 50000,
              "DISPLAY_MODE": "simple",
              "ENABLE_ASSIGNMENT": true,
              "ENABLE_DATALINK": true,
              "FLATTEN_COLUMN_VALUES": true,
              "FLATTEN_INDEX_VALUES": false,
              "GENERATE_DEX_METADATA": false,
              "HTML_TABLE_SCHEMA": false,
              "LOG_LEVEL": 30,
              "MAX_RENDER_SIZE_BYTES": 104857600,
              "MAX_STRING_LENGTH": 250,
              "NUM_PAST_SAMPLES_TRACKED": 3,
              "RANDOM_STATE": 12648430,
              "RESET_INDEX_VALUES": false,
              "ROW_SAMPLING_METHOD": "random",
              "SAMPLING_FACTOR": 0.1,
              "SAMPLING_METHOD": "random",
              "STRINGIFY_COLUMN_VALUES": true,
              "STRINGIFY_INDEX_VALUES": false
            },
            "sample_history": [],
            "sampling_time": "2023-09-23T22:01:14.387708",
            "user_variable_name": null,
            "variable_name": "unk_dataframe_113fb86754404ca1a0091de53de6a17f"
          },
          "38357fe4-cde8-43c8-abb2-c3f5011fbc60": {
            "applied_filters": [],
            "dataframe_info": {
              "default_index_used": false,
              "orig_num_cols": 1,
              "orig_num_rows": 11,
              "orig_size_bytes": 176,
              "truncated_num_cols": 1,
              "truncated_num_rows": 11,
              "truncated_size_bytes": 176,
              "truncated_string_columns": []
            },
            "display_id": "38357fe4-cde8-43c8-abb2-c3f5011fbc60",
            "dx_settings": {
              "ALLOW_NOTEABLE_ATTRS": true,
              "COLUMN_SAMPLING_METHOD": "outer",
              "DB_LOCATION": ":memory:",
              "DEV_MODE": false,
              "DISPLAY_MAX_COLUMNS": 100,
              "DISPLAY_MAX_ROWS": 50000,
              "DISPLAY_MODE": "simple",
              "ENABLE_ASSIGNMENT": true,
              "ENABLE_DATALINK": true,
              "FLATTEN_COLUMN_VALUES": true,
              "FLATTEN_INDEX_VALUES": false,
              "GENERATE_DEX_METADATA": false,
              "HTML_TABLE_SCHEMA": false,
              "LOG_LEVEL": 30,
              "MAX_RENDER_SIZE_BYTES": 104857600,
              "MAX_STRING_LENGTH": 250,
              "NUM_PAST_SAMPLES_TRACKED": 3,
              "RANDOM_STATE": 12648430,
              "RESET_INDEX_VALUES": false,
              "ROW_SAMPLING_METHOD": "random",
              "SAMPLING_FACTOR": 0.1,
              "SAMPLING_METHOD": "random",
              "STRINGIFY_COLUMN_VALUES": true,
              "STRINGIFY_INDEX_VALUES": false
            },
            "sample_history": [],
            "sampling_time": "2023-09-23T23:32:15.960730",
            "user_variable_name": null,
            "variable_name": "unk_dataframe_1c03a43d07564b6791d6a172f1398690"
          },
          "c379ffdd-798c-417c-a591-7f45d2147701": {
            "applied_filters": [],
            "dataframe_info": {
              "default_index_used": false,
              "orig_num_cols": 1,
              "orig_num_rows": 11,
              "orig_size_bytes": 176,
              "truncated_num_cols": 1,
              "truncated_num_rows": 11,
              "truncated_size_bytes": 176,
              "truncated_string_columns": []
            },
            "display_id": "c379ffdd-798c-417c-a591-7f45d2147701",
            "dx_settings": {
              "ALLOW_NOTEABLE_ATTRS": true,
              "COLUMN_SAMPLING_METHOD": "outer",
              "DB_LOCATION": ":memory:",
              "DEV_MODE": false,
              "DISPLAY_MAX_COLUMNS": 100,
              "DISPLAY_MAX_ROWS": 50000,
              "DISPLAY_MODE": "simple",
              "ENABLE_ASSIGNMENT": true,
              "ENABLE_DATALINK": true,
              "FLATTEN_COLUMN_VALUES": true,
              "FLATTEN_INDEX_VALUES": false,
              "GENERATE_DEX_METADATA": false,
              "HTML_TABLE_SCHEMA": false,
              "LOG_LEVEL": 30,
              "MAX_RENDER_SIZE_BYTES": 104857600,
              "MAX_STRING_LENGTH": 250,
              "NUM_PAST_SAMPLES_TRACKED": 3,
              "RANDOM_STATE": 12648430,
              "RESET_INDEX_VALUES": false,
              "ROW_SAMPLING_METHOD": "random",
              "SAMPLING_FACTOR": 0.1,
              "SAMPLING_METHOD": "random",
              "STRINGIFY_COLUMN_VALUES": true,
              "STRINGIFY_INDEX_VALUES": false
            },
            "sample_history": [],
            "sampling_time": "2023-09-24T01:10:53.050378",
            "user_variable_name": null,
            "variable_name": "unk_dataframe_9a78411414a2423dbcac6c488adedcea"
          },
          "40a85c11-725c-4326-bccf-67e2477bb0de": {
            "applied_filters": [],
            "dataframe_info": {
              "default_index_used": false,
              "orig_num_cols": 1,
              "orig_num_rows": 11,
              "orig_size_bytes": 176,
              "truncated_num_cols": 1,
              "truncated_num_rows": 11,
              "truncated_size_bytes": 176,
              "truncated_string_columns": []
            },
            "display_id": "40a85c11-725c-4326-bccf-67e2477bb0de",
            "dx_settings": {
              "ALLOW_NOTEABLE_ATTRS": true,
              "COLUMN_SAMPLING_METHOD": "outer",
              "DB_LOCATION": ":memory:",
              "DEV_MODE": false,
              "DISPLAY_MAX_COLUMNS": 100,
              "DISPLAY_MAX_ROWS": 50000,
              "DISPLAY_MODE": "simple",
              "ENABLE_ASSIGNMENT": true,
              "ENABLE_DATALINK": true,
              "FLATTEN_COLUMN_VALUES": true,
              "FLATTEN_INDEX_VALUES": false,
              "GENERATE_DEX_METADATA": false,
              "HTML_TABLE_SCHEMA": false,
              "LOG_LEVEL": 30,
              "MAX_RENDER_SIZE_BYTES": 104857600,
              "MAX_STRING_LENGTH": 250,
              "NUM_PAST_SAMPLES_TRACKED": 3,
              "RANDOM_STATE": 12648430,
              "RESET_INDEX_VALUES": false,
              "ROW_SAMPLING_METHOD": "random",
              "SAMPLING_FACTOR": 0.1,
              "SAMPLING_METHOD": "random",
              "STRINGIFY_COLUMN_VALUES": true,
              "STRINGIFY_INDEX_VALUES": false
            },
            "sample_history": [],
            "sampling_time": "2023-09-24T04:11:24.238883",
            "user_variable_name": null,
            "variable_name": "unk_dataframe_23d9bb0a372a4b169fd300fab9847892"
          },
          "f908bb44-cef9-4933-9342-d60ec5e379de": {
            "applied_filters": [],
            "dataframe_info": {
              "default_index_used": false,
              "orig_num_cols": 1,
              "orig_num_rows": 11,
              "orig_size_bytes": 176,
              "truncated_num_cols": 1,
              "truncated_num_rows": 11,
              "truncated_size_bytes": 176,
              "truncated_string_columns": []
            },
            "display_id": "f908bb44-cef9-4933-9342-d60ec5e379de",
            "dx_settings": {
              "ALLOW_NOTEABLE_ATTRS": true,
              "COLUMN_SAMPLING_METHOD": "outer",
              "DB_LOCATION": ":memory:",
              "DEV_MODE": false,
              "DISPLAY_MAX_COLUMNS": 100,
              "DISPLAY_MAX_ROWS": 50000,
              "DISPLAY_MODE": "simple",
              "ENABLE_ASSIGNMENT": true,
              "ENABLE_DATALINK": true,
              "FLATTEN_COLUMN_VALUES": true,
              "FLATTEN_INDEX_VALUES": false,
              "GENERATE_DEX_METADATA": false,
              "HTML_TABLE_SCHEMA": false,
              "LOG_LEVEL": 30,
              "MAX_RENDER_SIZE_BYTES": 104857600,
              "MAX_STRING_LENGTH": 250,
              "NUM_PAST_SAMPLES_TRACKED": 3,
              "RANDOM_STATE": 12648430,
              "RESET_INDEX_VALUES": false,
              "ROW_SAMPLING_METHOD": "random",
              "SAMPLING_FACTOR": 0.1,
              "SAMPLING_METHOD": "random",
              "STRINGIFY_COLUMN_VALUES": true,
              "STRINGIFY_INDEX_VALUES": false
            },
            "sample_history": [],
            "sampling_time": "2023-09-24T16:42:48.056812",
            "user_variable_name": null,
            "variable_name": "unk_dataframe_32b14f8e7ae8429380a766a676629990"
          }
        }
      },
      "execution_count": null,
      "source": "world_inv_2023.isna().sum() # looking at null values",
      "outputs": []
    },
    {
      "id": "755bc24c-726e-4508-9118-582c77876326",
      "cell_type": "code",
      "metadata": {
        "jupyter": {
          "outputs_hidden": false,
          "source_hidden": false
        },
        "noteable": {
          "cell_type": "code",
          "output_collection_id": "30090086-d125-40fb-8920-568ef3fd0d3d"
        },
        "ExecuteTime": {
          "end_time": "2023-09-24T16:42:48.377463+00:00",
          "start_time": "2023-09-24T16:42:48.222746+00:00"
        },
        "datalink": {
          "b7d79fee-06df-4679-9aad-c0c4afa3ce20": {
            "applied_filters": [],
            "dataframe_info": {
              "default_index_used": true,
              "orig_num_cols": 10,
              "orig_num_rows": 32,
              "orig_size_bytes": 2816,
              "truncated_num_cols": 10,
              "truncated_num_rows": 32,
              "truncated_size_bytes": 2816,
              "truncated_string_columns": []
            },
            "display_id": "b7d79fee-06df-4679-9aad-c0c4afa3ce20",
            "dx_settings": {
              "ALLOW_NOTEABLE_ATTRS": true,
              "COLUMN_SAMPLING_METHOD": "outer",
              "DB_LOCATION": ":memory:",
              "DEV_MODE": false,
              "DISPLAY_MAX_COLUMNS": 100,
              "DISPLAY_MAX_ROWS": 50000,
              "DISPLAY_MODE": "simple",
              "ENABLE_ASSIGNMENT": true,
              "ENABLE_DATALINK": true,
              "FLATTEN_COLUMN_VALUES": true,
              "FLATTEN_INDEX_VALUES": false,
              "GENERATE_DEX_METADATA": false,
              "HTML_TABLE_SCHEMA": false,
              "LOG_LEVEL": 30,
              "MAX_RENDER_SIZE_BYTES": 104857600,
              "MAX_STRING_LENGTH": 250,
              "NUM_PAST_SAMPLES_TRACKED": 3,
              "RANDOM_STATE": 12648430,
              "RESET_INDEX_VALUES": false,
              "ROW_SAMPLING_METHOD": "random",
              "SAMPLING_FACTOR": 0.1,
              "SAMPLING_METHOD": "random",
              "STRINGIFY_COLUMN_VALUES": true,
              "STRINGIFY_INDEX_VALUES": false
            },
            "sample_history": [],
            "sampling_time": "2023-09-23T22:02:40.471573",
            "user_variable_name": null,
            "variable_name": "unk_dataframe_faa6da1889304b04aace9c232941c935"
          }
        }
      },
      "execution_count": null,
      "source": "## dropping first column with all missing values\nworld_inv_2023.drop(world_inv_2023.columns[0], axis=1, inplace=True)",
      "outputs": []
    },
    {
      "id": "75909e11-d0e6-4707-b369-55a35c25f29d",
      "cell_type": "code",
      "metadata": {
        "jupyter": {
          "outputs_hidden": false,
          "source_hidden": false
        },
        "noteable": {
          "cell_type": "code",
          "output_collection_id": "91b4571e-7e22-49e1-9cc3-f065766f25ba"
        },
        "ExecuteTime": {
          "end_time": "2023-09-24T16:42:48.538133+00:00",
          "start_time": "2023-09-24T16:42:48.383888+00:00"
        },
        "datalink": {
          "561f8fc1-efa7-48a5-b688-b4e24d42a77c": {
            "applied_filters": [],
            "dataframe_info": {
              "default_index_used": false,
              "orig_num_cols": 1,
              "orig_num_rows": 11,
              "orig_size_bytes": 176,
              "truncated_num_cols": 1,
              "truncated_num_rows": 11,
              "truncated_size_bytes": 176,
              "truncated_string_columns": []
            },
            "display_id": "561f8fc1-efa7-48a5-b688-b4e24d42a77c",
            "dx_settings": {
              "ALLOW_NOTEABLE_ATTRS": true,
              "COLUMN_SAMPLING_METHOD": "outer",
              "DB_LOCATION": ":memory:",
              "DEV_MODE": false,
              "DISPLAY_MAX_COLUMNS": 100,
              "DISPLAY_MAX_ROWS": 50000,
              "DISPLAY_MODE": "simple",
              "ENABLE_ASSIGNMENT": true,
              "ENABLE_DATALINK": true,
              "FLATTEN_COLUMN_VALUES": true,
              "FLATTEN_INDEX_VALUES": false,
              "GENERATE_DEX_METADATA": false,
              "HTML_TABLE_SCHEMA": false,
              "LOG_LEVEL": 30,
              "MAX_RENDER_SIZE_BYTES": 104857600,
              "MAX_STRING_LENGTH": 250,
              "NUM_PAST_SAMPLES_TRACKED": 3,
              "RANDOM_STATE": 12648430,
              "RESET_INDEX_VALUES": false,
              "ROW_SAMPLING_METHOD": "random",
              "SAMPLING_FACTOR": 0.1,
              "SAMPLING_METHOD": "random",
              "STRINGIFY_COLUMN_VALUES": true,
              "STRINGIFY_INDEX_VALUES": false
            },
            "sample_history": [],
            "sampling_time": "2023-09-23T21:56:42.543281",
            "user_variable_name": null,
            "variable_name": "unk_dataframe_06c8de5ebada4268b3bac9e8cb35b679"
          }
        }
      },
      "execution_count": null,
      "source": "# Looking at the shape of the data\n\nworld_inv_2023.shape",
      "outputs": []
    },
    {
      "id": "79a6c690-7524-4776-a18c-3d5f04b38a05",
      "cell_type": "code",
      "metadata": {
        "jupyter": {
          "outputs_hidden": false,
          "source_hidden": false
        },
        "noteable": {
          "cell_type": "code",
          "output_collection_id": "e8b583f0-752f-4384-b181-817d80321f3d"
        },
        "ExecuteTime": {
          "end_time": "2023-09-24T16:42:48.723411+00:00",
          "start_time": "2023-09-24T16:42:48.543331+00:00"
        },
        "datalink": {
          "3af590d8-a4e5-4e22-905f-b555d018e6cd": {
            "applied_filters": [],
            "dataframe_info": {
              "default_index_used": false,
              "orig_num_cols": 1,
              "orig_num_rows": 10,
              "orig_size_bytes": 160,
              "truncated_num_cols": 1,
              "truncated_num_rows": 10,
              "truncated_size_bytes": 160,
              "truncated_string_columns": []
            },
            "display_id": "3af590d8-a4e5-4e22-905f-b555d018e6cd",
            "dx_settings": {
              "ALLOW_NOTEABLE_ATTRS": true,
              "COLUMN_SAMPLING_METHOD": "outer",
              "DB_LOCATION": ":memory:",
              "DEV_MODE": false,
              "DISPLAY_MAX_COLUMNS": 100,
              "DISPLAY_MAX_ROWS": 50000,
              "DISPLAY_MODE": "simple",
              "ENABLE_ASSIGNMENT": true,
              "ENABLE_DATALINK": true,
              "FLATTEN_COLUMN_VALUES": true,
              "FLATTEN_INDEX_VALUES": false,
              "GENERATE_DEX_METADATA": false,
              "HTML_TABLE_SCHEMA": false,
              "LOG_LEVEL": 30,
              "MAX_RENDER_SIZE_BYTES": 104857600,
              "MAX_STRING_LENGTH": 250,
              "NUM_PAST_SAMPLES_TRACKED": 3,
              "RANDOM_STATE": 12648430,
              "RESET_INDEX_VALUES": false,
              "ROW_SAMPLING_METHOD": "random",
              "SAMPLING_FACTOR": 0.1,
              "SAMPLING_METHOD": "random",
              "STRINGIFY_COLUMN_VALUES": true,
              "STRINGIFY_INDEX_VALUES": false
            },
            "sample_history": [],
            "sampling_time": "2023-09-23T22:04:03.671948",
            "user_variable_name": null,
            "variable_name": "unk_dataframe_3375dd5bbd3f4cbdba6e7e15596ca8bb"
          },
          "ba813f2f-6c38-43ff-b7b1-121473f8c351": {
            "applied_filters": [],
            "dataframe_info": {
              "default_index_used": false,
              "orig_num_cols": 1,
              "orig_num_rows": 10,
              "orig_size_bytes": 160,
              "truncated_num_cols": 1,
              "truncated_num_rows": 10,
              "truncated_size_bytes": 160,
              "truncated_string_columns": []
            },
            "display_id": "ba813f2f-6c38-43ff-b7b1-121473f8c351",
            "dx_settings": {
              "ALLOW_NOTEABLE_ATTRS": true,
              "COLUMN_SAMPLING_METHOD": "outer",
              "DB_LOCATION": ":memory:",
              "DEV_MODE": false,
              "DISPLAY_MAX_COLUMNS": 100,
              "DISPLAY_MAX_ROWS": 50000,
              "DISPLAY_MODE": "simple",
              "ENABLE_ASSIGNMENT": true,
              "ENABLE_DATALINK": true,
              "FLATTEN_COLUMN_VALUES": true,
              "FLATTEN_INDEX_VALUES": false,
              "GENERATE_DEX_METADATA": false,
              "HTML_TABLE_SCHEMA": false,
              "LOG_LEVEL": 30,
              "MAX_RENDER_SIZE_BYTES": 104857600,
              "MAX_STRING_LENGTH": 250,
              "NUM_PAST_SAMPLES_TRACKED": 3,
              "RANDOM_STATE": 12648430,
              "RESET_INDEX_VALUES": false,
              "ROW_SAMPLING_METHOD": "random",
              "SAMPLING_FACTOR": 0.1,
              "SAMPLING_METHOD": "random",
              "STRINGIFY_COLUMN_VALUES": true,
              "STRINGIFY_INDEX_VALUES": false
            },
            "sample_history": [],
            "sampling_time": "2023-09-23T23:32:39.077248",
            "user_variable_name": null,
            "variable_name": "unk_dataframe_33edc4168fe94db9bd953c0049d9dade"
          },
          "4f84c74f-7a52-4ea4-b207-ee943bcdf641": {
            "applied_filters": [],
            "dataframe_info": {
              "default_index_used": false,
              "orig_num_cols": 1,
              "orig_num_rows": 10,
              "orig_size_bytes": 160,
              "truncated_num_cols": 1,
              "truncated_num_rows": 10,
              "truncated_size_bytes": 160,
              "truncated_string_columns": []
            },
            "display_id": "4f84c74f-7a52-4ea4-b207-ee943bcdf641",
            "dx_settings": {
              "ALLOW_NOTEABLE_ATTRS": true,
              "COLUMN_SAMPLING_METHOD": "outer",
              "DB_LOCATION": ":memory:",
              "DEV_MODE": false,
              "DISPLAY_MAX_COLUMNS": 100,
              "DISPLAY_MAX_ROWS": 50000,
              "DISPLAY_MODE": "simple",
              "ENABLE_ASSIGNMENT": true,
              "ENABLE_DATALINK": true,
              "FLATTEN_COLUMN_VALUES": true,
              "FLATTEN_INDEX_VALUES": false,
              "GENERATE_DEX_METADATA": false,
              "HTML_TABLE_SCHEMA": false,
              "LOG_LEVEL": 30,
              "MAX_RENDER_SIZE_BYTES": 104857600,
              "MAX_STRING_LENGTH": 250,
              "NUM_PAST_SAMPLES_TRACKED": 3,
              "RANDOM_STATE": 12648430,
              "RESET_INDEX_VALUES": false,
              "ROW_SAMPLING_METHOD": "random",
              "SAMPLING_FACTOR": 0.1,
              "SAMPLING_METHOD": "random",
              "STRINGIFY_COLUMN_VALUES": true,
              "STRINGIFY_INDEX_VALUES": false
            },
            "sample_history": [],
            "sampling_time": "2023-09-24T01:11:02.032588",
            "user_variable_name": null,
            "variable_name": "unk_dataframe_3adc42e192184c85afaf4f71cb893d52"
          },
          "72c6641f-beec-44f2-8000-96ce329e19d7": {
            "applied_filters": [],
            "dataframe_info": {
              "default_index_used": false,
              "orig_num_cols": 1,
              "orig_num_rows": 10,
              "orig_size_bytes": 160,
              "truncated_num_cols": 1,
              "truncated_num_rows": 10,
              "truncated_size_bytes": 160,
              "truncated_string_columns": []
            },
            "display_id": "72c6641f-beec-44f2-8000-96ce329e19d7",
            "dx_settings": {
              "ALLOW_NOTEABLE_ATTRS": true,
              "COLUMN_SAMPLING_METHOD": "outer",
              "DB_LOCATION": ":memory:",
              "DEV_MODE": false,
              "DISPLAY_MAX_COLUMNS": 100,
              "DISPLAY_MAX_ROWS": 50000,
              "DISPLAY_MODE": "simple",
              "ENABLE_ASSIGNMENT": true,
              "ENABLE_DATALINK": true,
              "FLATTEN_COLUMN_VALUES": true,
              "FLATTEN_INDEX_VALUES": false,
              "GENERATE_DEX_METADATA": false,
              "HTML_TABLE_SCHEMA": false,
              "LOG_LEVEL": 30,
              "MAX_RENDER_SIZE_BYTES": 104857600,
              "MAX_STRING_LENGTH": 250,
              "NUM_PAST_SAMPLES_TRACKED": 3,
              "RANDOM_STATE": 12648430,
              "RESET_INDEX_VALUES": false,
              "ROW_SAMPLING_METHOD": "random",
              "SAMPLING_FACTOR": 0.1,
              "SAMPLING_METHOD": "random",
              "STRINGIFY_COLUMN_VALUES": true,
              "STRINGIFY_INDEX_VALUES": false
            },
            "sample_history": [],
            "sampling_time": "2023-09-24T04:11:32.816634",
            "user_variable_name": null,
            "variable_name": "unk_dataframe_12e1ca6d2c3445d7afc78733f4db7624"
          },
          "0abe3280-6615-4743-9d4f-85f7c2d1a382": {
            "applied_filters": [],
            "dataframe_info": {
              "default_index_used": false,
              "orig_num_cols": 1,
              "orig_num_rows": 10,
              "orig_size_bytes": 160,
              "truncated_num_cols": 1,
              "truncated_num_rows": 10,
              "truncated_size_bytes": 160,
              "truncated_string_columns": []
            },
            "display_id": "0abe3280-6615-4743-9d4f-85f7c2d1a382",
            "dx_settings": {
              "ALLOW_NOTEABLE_ATTRS": true,
              "COLUMN_SAMPLING_METHOD": "outer",
              "DB_LOCATION": ":memory:",
              "DEV_MODE": false,
              "DISPLAY_MAX_COLUMNS": 100,
              "DISPLAY_MAX_ROWS": 50000,
              "DISPLAY_MODE": "simple",
              "ENABLE_ASSIGNMENT": true,
              "ENABLE_DATALINK": true,
              "FLATTEN_COLUMN_VALUES": true,
              "FLATTEN_INDEX_VALUES": false,
              "GENERATE_DEX_METADATA": false,
              "HTML_TABLE_SCHEMA": false,
              "LOG_LEVEL": 30,
              "MAX_RENDER_SIZE_BYTES": 104857600,
              "MAX_STRING_LENGTH": 250,
              "NUM_PAST_SAMPLES_TRACKED": 3,
              "RANDOM_STATE": 12648430,
              "RESET_INDEX_VALUES": false,
              "ROW_SAMPLING_METHOD": "random",
              "SAMPLING_FACTOR": 0.1,
              "SAMPLING_METHOD": "random",
              "STRINGIFY_COLUMN_VALUES": true,
              "STRINGIFY_INDEX_VALUES": false
            },
            "sample_history": [],
            "sampling_time": "2023-09-24T16:42:48.566231",
            "user_variable_name": null,
            "variable_name": "unk_dataframe_6a550e64b25843978695dbb812ea7b53"
          }
        }
      },
      "execution_count": null,
      "source": "# Checking total null values\n\nworld_inv_2023.isna().sum()",
      "outputs": []
    },
    {
      "id": "51ae1eef-3717-42e8-ae6b-e89f8bfe64e2",
      "cell_type": "code",
      "metadata": {
        "jupyter": {
          "outputs_hidden": false,
          "source_hidden": false
        },
        "noteable": {
          "cell_type": "code",
          "output_collection_id": "e4f0e144-67f5-48da-bccf-20b79319e395"
        },
        "ExecuteTime": {
          "end_time": "2023-09-24T16:42:48.928421+00:00",
          "start_time": "2023-09-24T16:42:48.734053+00:00"
        },
        "datalink": {
          "4fa2529c-8947-41da-a05c-cc9149f38078": {
            "applied_filters": [],
            "dataframe_info": {
              "default_index_used": true,
              "orig_num_cols": 1,
              "orig_num_rows": 32,
              "orig_size_bytes": 288,
              "truncated_num_cols": 1,
              "truncated_num_rows": 32,
              "truncated_size_bytes": 288,
              "truncated_string_columns": []
            },
            "display_id": "4fa2529c-8947-41da-a05c-cc9149f38078",
            "dx_settings": {
              "ALLOW_NOTEABLE_ATTRS": true,
              "COLUMN_SAMPLING_METHOD": "outer",
              "DB_LOCATION": ":memory:",
              "DEV_MODE": false,
              "DISPLAY_MAX_COLUMNS": 100,
              "DISPLAY_MAX_ROWS": 50000,
              "DISPLAY_MODE": "simple",
              "ENABLE_ASSIGNMENT": true,
              "ENABLE_DATALINK": true,
              "FLATTEN_COLUMN_VALUES": true,
              "FLATTEN_INDEX_VALUES": false,
              "GENERATE_DEX_METADATA": false,
              "HTML_TABLE_SCHEMA": false,
              "LOG_LEVEL": 30,
              "MAX_RENDER_SIZE_BYTES": 104857600,
              "MAX_STRING_LENGTH": 250,
              "NUM_PAST_SAMPLES_TRACKED": 3,
              "RANDOM_STATE": 12648430,
              "RESET_INDEX_VALUES": false,
              "ROW_SAMPLING_METHOD": "random",
              "SAMPLING_FACTOR": 0.1,
              "SAMPLING_METHOD": "random",
              "STRINGIFY_COLUMN_VALUES": true,
              "STRINGIFY_INDEX_VALUES": false
            },
            "sample_history": [],
            "sampling_time": "2023-09-23T22:05:47.266450",
            "user_variable_name": null,
            "variable_name": "unk_dataframe_b17d7ef39a0c41b1b21224085fbacbb1"
          },
          "86855b4b-e8c5-470d-8559-f71cabada8a0": {
            "applied_filters": [],
            "dataframe_info": {
              "default_index_used": true,
              "orig_num_cols": 1,
              "orig_num_rows": 32,
              "orig_size_bytes": 512,
              "truncated_num_cols": 1,
              "truncated_num_rows": 32,
              "truncated_size_bytes": 512,
              "truncated_string_columns": []
            },
            "display_id": "86855b4b-e8c5-470d-8559-f71cabada8a0",
            "dx_settings": {
              "ALLOW_NOTEABLE_ATTRS": true,
              "COLUMN_SAMPLING_METHOD": "outer",
              "DB_LOCATION": ":memory:",
              "DEV_MODE": false,
              "DISPLAY_MAX_COLUMNS": 100,
              "DISPLAY_MAX_ROWS": 50000,
              "DISPLAY_MODE": "simple",
              "ENABLE_ASSIGNMENT": true,
              "ENABLE_DATALINK": true,
              "FLATTEN_COLUMN_VALUES": true,
              "FLATTEN_INDEX_VALUES": false,
              "GENERATE_DEX_METADATA": false,
              "HTML_TABLE_SCHEMA": false,
              "LOG_LEVEL": 30,
              "MAX_RENDER_SIZE_BYTES": 104857600,
              "MAX_STRING_LENGTH": 250,
              "NUM_PAST_SAMPLES_TRACKED": 3,
              "RANDOM_STATE": 12648430,
              "RESET_INDEX_VALUES": false,
              "ROW_SAMPLING_METHOD": "random",
              "SAMPLING_FACTOR": 0.1,
              "SAMPLING_METHOD": "random",
              "STRINGIFY_COLUMN_VALUES": true,
              "STRINGIFY_INDEX_VALUES": false
            },
            "sample_history": [],
            "sampling_time": "2023-09-23T22:06:17.725588",
            "user_variable_name": null,
            "variable_name": "unk_dataframe_650e1e99874844c68ae9967bbc656b11"
          },
          "ac30922d-1a3f-4191-9194-ccf4e4335c32": {
            "applied_filters": [],
            "dataframe_info": {
              "default_index_used": true,
              "orig_num_cols": 1,
              "orig_num_rows": 32,
              "orig_size_bytes": 288,
              "truncated_num_cols": 1,
              "truncated_num_rows": 32,
              "truncated_size_bytes": 288,
              "truncated_string_columns": []
            },
            "display_id": "ac30922d-1a3f-4191-9194-ccf4e4335c32",
            "dx_settings": {
              "ALLOW_NOTEABLE_ATTRS": true,
              "COLUMN_SAMPLING_METHOD": "outer",
              "DB_LOCATION": ":memory:",
              "DEV_MODE": false,
              "DISPLAY_MAX_COLUMNS": 100,
              "DISPLAY_MAX_ROWS": 50000,
              "DISPLAY_MODE": "simple",
              "ENABLE_ASSIGNMENT": true,
              "ENABLE_DATALINK": true,
              "FLATTEN_COLUMN_VALUES": true,
              "FLATTEN_INDEX_VALUES": false,
              "GENERATE_DEX_METADATA": false,
              "HTML_TABLE_SCHEMA": false,
              "LOG_LEVEL": 30,
              "MAX_RENDER_SIZE_BYTES": 104857600,
              "MAX_STRING_LENGTH": 250,
              "NUM_PAST_SAMPLES_TRACKED": 3,
              "RANDOM_STATE": 12648430,
              "RESET_INDEX_VALUES": false,
              "ROW_SAMPLING_METHOD": "random",
              "SAMPLING_FACTOR": 0.1,
              "SAMPLING_METHOD": "random",
              "STRINGIFY_COLUMN_VALUES": true,
              "STRINGIFY_INDEX_VALUES": false
            },
            "sample_history": [],
            "sampling_time": "2023-09-23T22:06:39.139523",
            "user_variable_name": null,
            "variable_name": "unk_dataframe_fcb4f058bee54eb8836fcf0fc2442eaf"
          },
          "c0acbd00-f8bb-475e-80b0-f75eef45b3f7": {
            "applied_filters": [],
            "dataframe_info": {
              "default_index_used": true,
              "orig_num_cols": 10,
              "orig_num_rows": 4,
              "orig_size_bytes": 352,
              "truncated_num_cols": 10,
              "truncated_num_rows": 4,
              "truncated_size_bytes": 352,
              "truncated_string_columns": []
            },
            "display_id": "c0acbd00-f8bb-475e-80b0-f75eef45b3f7",
            "dx_settings": {
              "ALLOW_NOTEABLE_ATTRS": true,
              "COLUMN_SAMPLING_METHOD": "outer",
              "DB_LOCATION": ":memory:",
              "DEV_MODE": false,
              "DISPLAY_MAX_COLUMNS": 100,
              "DISPLAY_MAX_ROWS": 50000,
              "DISPLAY_MODE": "simple",
              "ENABLE_ASSIGNMENT": true,
              "ENABLE_DATALINK": true,
              "FLATTEN_COLUMN_VALUES": true,
              "FLATTEN_INDEX_VALUES": false,
              "GENERATE_DEX_METADATA": false,
              "HTML_TABLE_SCHEMA": false,
              "LOG_LEVEL": 30,
              "MAX_RENDER_SIZE_BYTES": 104857600,
              "MAX_STRING_LENGTH": 250,
              "NUM_PAST_SAMPLES_TRACKED": 3,
              "RANDOM_STATE": 12648430,
              "RESET_INDEX_VALUES": false,
              "ROW_SAMPLING_METHOD": "random",
              "SAMPLING_FACTOR": 0.1,
              "SAMPLING_METHOD": "random",
              "STRINGIFY_COLUMN_VALUES": true,
              "STRINGIFY_INDEX_VALUES": false
            },
            "sample_history": [],
            "sampling_time": "2023-09-23T22:07:13.834541",
            "user_variable_name": null,
            "variable_name": "unk_dataframe_241e142f555640a7a6949edbd5d71189"
          },
          "62cbe258-74f7-4b3f-93e5-3b6d0224f5e5": {
            "applied_filters": [],
            "dataframe_info": {
              "default_index_used": true,
              "orig_num_cols": 10,
              "orig_num_rows": 4,
              "orig_size_bytes": 352,
              "truncated_num_cols": 10,
              "truncated_num_rows": 4,
              "truncated_size_bytes": 352,
              "truncated_string_columns": []
            },
            "display_id": "62cbe258-74f7-4b3f-93e5-3b6d0224f5e5",
            "dx_settings": {
              "ALLOW_NOTEABLE_ATTRS": true,
              "COLUMN_SAMPLING_METHOD": "outer",
              "DB_LOCATION": ":memory:",
              "DEV_MODE": false,
              "DISPLAY_MAX_COLUMNS": 100,
              "DISPLAY_MAX_ROWS": 50000,
              "DISPLAY_MODE": "simple",
              "ENABLE_ASSIGNMENT": true,
              "ENABLE_DATALINK": true,
              "FLATTEN_COLUMN_VALUES": true,
              "FLATTEN_INDEX_VALUES": false,
              "GENERATE_DEX_METADATA": false,
              "HTML_TABLE_SCHEMA": false,
              "LOG_LEVEL": 30,
              "MAX_RENDER_SIZE_BYTES": 104857600,
              "MAX_STRING_LENGTH": 250,
              "NUM_PAST_SAMPLES_TRACKED": 3,
              "RANDOM_STATE": 12648430,
              "RESET_INDEX_VALUES": false,
              "ROW_SAMPLING_METHOD": "random",
              "SAMPLING_FACTOR": 0.1,
              "SAMPLING_METHOD": "random",
              "STRINGIFY_COLUMN_VALUES": true,
              "STRINGIFY_INDEX_VALUES": false
            },
            "sample_history": [],
            "sampling_time": "2023-09-23T23:32:44.876479",
            "user_variable_name": null,
            "variable_name": "unk_dataframe_420c4a03863b461894e7a718ac5997f7"
          },
          "bc3092fc-6778-4902-970d-39c9fc30e803": {
            "applied_filters": [],
            "dataframe_info": {
              "default_index_used": true,
              "orig_num_cols": 10,
              "orig_num_rows": 4,
              "orig_size_bytes": 352,
              "truncated_num_cols": 10,
              "truncated_num_rows": 4,
              "truncated_size_bytes": 352,
              "truncated_string_columns": []
            },
            "display_id": "bc3092fc-6778-4902-970d-39c9fc30e803",
            "dx_settings": {
              "ALLOW_NOTEABLE_ATTRS": true,
              "COLUMN_SAMPLING_METHOD": "outer",
              "DB_LOCATION": ":memory:",
              "DEV_MODE": false,
              "DISPLAY_MAX_COLUMNS": 100,
              "DISPLAY_MAX_ROWS": 50000,
              "DISPLAY_MODE": "simple",
              "ENABLE_ASSIGNMENT": true,
              "ENABLE_DATALINK": true,
              "FLATTEN_COLUMN_VALUES": true,
              "FLATTEN_INDEX_VALUES": false,
              "GENERATE_DEX_METADATA": false,
              "HTML_TABLE_SCHEMA": false,
              "LOG_LEVEL": 30,
              "MAX_RENDER_SIZE_BYTES": 104857600,
              "MAX_STRING_LENGTH": 250,
              "NUM_PAST_SAMPLES_TRACKED": 3,
              "RANDOM_STATE": 12648430,
              "RESET_INDEX_VALUES": false,
              "ROW_SAMPLING_METHOD": "random",
              "SAMPLING_FACTOR": 0.1,
              "SAMPLING_METHOD": "random",
              "STRINGIFY_COLUMN_VALUES": true,
              "STRINGIFY_INDEX_VALUES": false
            },
            "sample_history": [],
            "sampling_time": "2023-09-24T01:11:04.253942",
            "user_variable_name": null,
            "variable_name": "unk_dataframe_1a9f5a89f0f943efa1c97ac236af4d80"
          },
          "cd5f7637-a83f-48f6-8d76-b789cad841ec": {
            "applied_filters": [],
            "dataframe_info": {
              "default_index_used": true,
              "orig_num_cols": 10,
              "orig_num_rows": 4,
              "orig_size_bytes": 352,
              "truncated_num_cols": 10,
              "truncated_num_rows": 4,
              "truncated_size_bytes": 352,
              "truncated_string_columns": []
            },
            "display_id": "cd5f7637-a83f-48f6-8d76-b789cad841ec",
            "dx_settings": {
              "ALLOW_NOTEABLE_ATTRS": true,
              "COLUMN_SAMPLING_METHOD": "outer",
              "DB_LOCATION": ":memory:",
              "DEV_MODE": false,
              "DISPLAY_MAX_COLUMNS": 100,
              "DISPLAY_MAX_ROWS": 50000,
              "DISPLAY_MODE": "simple",
              "ENABLE_ASSIGNMENT": true,
              "ENABLE_DATALINK": true,
              "FLATTEN_COLUMN_VALUES": true,
              "FLATTEN_INDEX_VALUES": false,
              "GENERATE_DEX_METADATA": false,
              "HTML_TABLE_SCHEMA": false,
              "LOG_LEVEL": 30,
              "MAX_RENDER_SIZE_BYTES": 104857600,
              "MAX_STRING_LENGTH": 250,
              "NUM_PAST_SAMPLES_TRACKED": 3,
              "RANDOM_STATE": 12648430,
              "RESET_INDEX_VALUES": false,
              "ROW_SAMPLING_METHOD": "random",
              "SAMPLING_FACTOR": 0.1,
              "SAMPLING_METHOD": "random",
              "STRINGIFY_COLUMN_VALUES": true,
              "STRINGIFY_INDEX_VALUES": false
            },
            "sample_history": [],
            "sampling_time": "2023-09-24T04:11:35.936217",
            "user_variable_name": null,
            "variable_name": "unk_dataframe_859ed6d3fd8149d581fe2cba1b8a6d33"
          },
          "b1a46662-771a-4835-90f3-5ada46eb5982": {
            "applied_filters": [],
            "dataframe_info": {
              "default_index_used": true,
              "orig_num_cols": 10,
              "orig_num_rows": 4,
              "orig_size_bytes": 352,
              "truncated_num_cols": 10,
              "truncated_num_rows": 4,
              "truncated_size_bytes": 352,
              "truncated_string_columns": []
            },
            "display_id": "b1a46662-771a-4835-90f3-5ada46eb5982",
            "dx_settings": {
              "ALLOW_NOTEABLE_ATTRS": true,
              "COLUMN_SAMPLING_METHOD": "outer",
              "DB_LOCATION": ":memory:",
              "DEV_MODE": false,
              "DISPLAY_MAX_COLUMNS": 100,
              "DISPLAY_MAX_ROWS": 50000,
              "DISPLAY_MODE": "simple",
              "ENABLE_ASSIGNMENT": true,
              "ENABLE_DATALINK": true,
              "FLATTEN_COLUMN_VALUES": true,
              "FLATTEN_INDEX_VALUES": false,
              "GENERATE_DEX_METADATA": false,
              "HTML_TABLE_SCHEMA": false,
              "LOG_LEVEL": 30,
              "MAX_RENDER_SIZE_BYTES": 104857600,
              "MAX_STRING_LENGTH": 250,
              "NUM_PAST_SAMPLES_TRACKED": 3,
              "RANDOM_STATE": 12648430,
              "RESET_INDEX_VALUES": false,
              "ROW_SAMPLING_METHOD": "random",
              "SAMPLING_FACTOR": 0.1,
              "SAMPLING_METHOD": "random",
              "STRINGIFY_COLUMN_VALUES": true,
              "STRINGIFY_INDEX_VALUES": false
            },
            "sample_history": [],
            "sampling_time": "2023-09-24T16:42:48.769135",
            "user_variable_name": null,
            "variable_name": "unk_dataframe_39976460da0c419b9c1711d433959f82"
          }
        }
      },
      "execution_count": null,
      "source": "# Further exploring the table with null values\n\nworld_inv_2023[world_inv_2023[\"Unnamed: 1\"].isna()]",
      "outputs": []
    },
    {
      "id": "15b97fd3-1491-4cc9-a7f9-f2484d7ff20b",
      "cell_type": "code",
      "metadata": {
        "jupyter": {
          "outputs_hidden": false,
          "source_hidden": false
        },
        "noteable": {
          "cell_type": "code",
          "output_collection_id": "daea0eaa-288d-450d-85d4-9b9b856717f9"
        },
        "ExecuteTime": {
          "end_time": "2023-09-24T16:42:49.566622+00:00",
          "start_time": "2023-09-24T16:42:49.411092+00:00"
        },
        "datalink": {
          "b5668537-5dd2-44b3-b281-5926488b0532": {
            "applied_filters": [],
            "dataframe_info": {
              "default_index_used": true,
              "orig_num_cols": 10,
              "orig_num_rows": 28,
              "orig_size_bytes": 2464,
              "truncated_num_cols": 10,
              "truncated_num_rows": 28,
              "truncated_size_bytes": 2464,
              "truncated_string_columns": []
            },
            "display_id": "b5668537-5dd2-44b3-b281-5926488b0532",
            "dx_settings": {
              "ALLOW_NOTEABLE_ATTRS": true,
              "COLUMN_SAMPLING_METHOD": "outer",
              "DB_LOCATION": ":memory:",
              "DEV_MODE": false,
              "DISPLAY_MAX_COLUMNS": 100,
              "DISPLAY_MAX_ROWS": 50000,
              "DISPLAY_MODE": "simple",
              "ENABLE_ASSIGNMENT": true,
              "ENABLE_DATALINK": true,
              "FLATTEN_COLUMN_VALUES": true,
              "FLATTEN_INDEX_VALUES": false,
              "GENERATE_DEX_METADATA": false,
              "HTML_TABLE_SCHEMA": false,
              "LOG_LEVEL": 30,
              "MAX_RENDER_SIZE_BYTES": 104857600,
              "MAX_STRING_LENGTH": 250,
              "NUM_PAST_SAMPLES_TRACKED": 3,
              "RANDOM_STATE": 12648430,
              "RESET_INDEX_VALUES": false,
              "ROW_SAMPLING_METHOD": "random",
              "SAMPLING_FACTOR": 0.1,
              "SAMPLING_METHOD": "random",
              "STRINGIFY_COLUMN_VALUES": true,
              "STRINGIFY_INDEX_VALUES": false
            },
            "sample_history": [],
            "sampling_time": "2023-09-23T22:08:05.450610",
            "user_variable_name": null,
            "variable_name": "unk_dataframe_abc5f0f2206c45478da7b82dafb391d3"
          }
        }
      },
      "execution_count": null,
      "source": "# dropping null values\n\nworld_inv_2023.dropna(inplace=True)",
      "outputs": []
    },
    {
      "id": "496e9889-ad06-4a6c-a4b0-7ea074352fa8",
      "cell_type": "code",
      "metadata": {
        "jupyter": {
          "outputs_hidden": false,
          "source_hidden": false
        },
        "noteable": {
          "cell_type": "code",
          "output_collection_id": "fe19b03f-1f91-475b-b560-fc3629108332"
        },
        "ExecuteTime": {
          "end_time": "2023-09-24T16:42:49.811667+00:00",
          "start_time": "2023-09-24T16:42:49.623742+00:00"
        },
        "datalink": {
          "3312e66b-b436-42c0-b52d-a43949c6d0e0": {
            "applied_filters": [],
            "dataframe_info": {
              "default_index_used": false,
              "orig_num_cols": 1,
              "orig_num_rows": 10,
              "orig_size_bytes": 160,
              "truncated_num_cols": 1,
              "truncated_num_rows": 10,
              "truncated_size_bytes": 160,
              "truncated_string_columns": []
            },
            "display_id": "3312e66b-b436-42c0-b52d-a43949c6d0e0",
            "dx_settings": {
              "ALLOW_NOTEABLE_ATTRS": true,
              "COLUMN_SAMPLING_METHOD": "outer",
              "DB_LOCATION": ":memory:",
              "DEV_MODE": false,
              "DISPLAY_MAX_COLUMNS": 100,
              "DISPLAY_MAX_ROWS": 50000,
              "DISPLAY_MODE": "simple",
              "ENABLE_ASSIGNMENT": true,
              "ENABLE_DATALINK": true,
              "FLATTEN_COLUMN_VALUES": true,
              "FLATTEN_INDEX_VALUES": false,
              "GENERATE_DEX_METADATA": false,
              "HTML_TABLE_SCHEMA": false,
              "LOG_LEVEL": 30,
              "MAX_RENDER_SIZE_BYTES": 104857600,
              "MAX_STRING_LENGTH": 250,
              "NUM_PAST_SAMPLES_TRACKED": 3,
              "RANDOM_STATE": 12648430,
              "RESET_INDEX_VALUES": false,
              "ROW_SAMPLING_METHOD": "random",
              "SAMPLING_FACTOR": 0.1,
              "SAMPLING_METHOD": "random",
              "STRINGIFY_COLUMN_VALUES": true,
              "STRINGIFY_INDEX_VALUES": false
            },
            "sample_history": [],
            "sampling_time": "2023-09-23T22:08:23.052694",
            "user_variable_name": null,
            "variable_name": "unk_dataframe_3cfab56bf9194f469694a94c392f8f1c"
          },
          "905b7c8c-2ca5-4dec-9dab-861e5f3e0db9": {
            "applied_filters": [],
            "dataframe_info": {
              "default_index_used": false,
              "orig_num_cols": 1,
              "orig_num_rows": 10,
              "orig_size_bytes": 160,
              "truncated_num_cols": 1,
              "truncated_num_rows": 10,
              "truncated_size_bytes": 160,
              "truncated_string_columns": []
            },
            "display_id": "905b7c8c-2ca5-4dec-9dab-861e5f3e0db9",
            "dx_settings": {
              "ALLOW_NOTEABLE_ATTRS": true,
              "COLUMN_SAMPLING_METHOD": "outer",
              "DB_LOCATION": ":memory:",
              "DEV_MODE": false,
              "DISPLAY_MAX_COLUMNS": 100,
              "DISPLAY_MAX_ROWS": 50000,
              "DISPLAY_MODE": "simple",
              "ENABLE_ASSIGNMENT": true,
              "ENABLE_DATALINK": true,
              "FLATTEN_COLUMN_VALUES": true,
              "FLATTEN_INDEX_VALUES": false,
              "GENERATE_DEX_METADATA": false,
              "HTML_TABLE_SCHEMA": false,
              "LOG_LEVEL": 30,
              "MAX_RENDER_SIZE_BYTES": 104857600,
              "MAX_STRING_LENGTH": 250,
              "NUM_PAST_SAMPLES_TRACKED": 3,
              "RANDOM_STATE": 12648430,
              "RESET_INDEX_VALUES": false,
              "ROW_SAMPLING_METHOD": "random",
              "SAMPLING_FACTOR": 0.1,
              "SAMPLING_METHOD": "random",
              "STRINGIFY_COLUMN_VALUES": true,
              "STRINGIFY_INDEX_VALUES": false
            },
            "sample_history": [],
            "sampling_time": "2023-09-23T22:08:36.722922",
            "user_variable_name": null,
            "variable_name": "unk_dataframe_7e4d51b28e934ec6ba14a8d057c11874"
          },
          "da79ed39-97ef-4b95-b578-f92a108c700a": {
            "applied_filters": [],
            "dataframe_info": {
              "default_index_used": false,
              "orig_num_cols": 1,
              "orig_num_rows": 10,
              "orig_size_bytes": 160,
              "truncated_num_cols": 1,
              "truncated_num_rows": 10,
              "truncated_size_bytes": 160,
              "truncated_string_columns": []
            },
            "display_id": "da79ed39-97ef-4b95-b578-f92a108c700a",
            "dx_settings": {
              "ALLOW_NOTEABLE_ATTRS": true,
              "COLUMN_SAMPLING_METHOD": "outer",
              "DB_LOCATION": ":memory:",
              "DEV_MODE": false,
              "DISPLAY_MAX_COLUMNS": 100,
              "DISPLAY_MAX_ROWS": 50000,
              "DISPLAY_MODE": "simple",
              "ENABLE_ASSIGNMENT": true,
              "ENABLE_DATALINK": true,
              "FLATTEN_COLUMN_VALUES": true,
              "FLATTEN_INDEX_VALUES": false,
              "GENERATE_DEX_METADATA": false,
              "HTML_TABLE_SCHEMA": false,
              "LOG_LEVEL": 30,
              "MAX_RENDER_SIZE_BYTES": 104857600,
              "MAX_STRING_LENGTH": 250,
              "NUM_PAST_SAMPLES_TRACKED": 3,
              "RANDOM_STATE": 12648430,
              "RESET_INDEX_VALUES": false,
              "ROW_SAMPLING_METHOD": "random",
              "SAMPLING_FACTOR": 0.1,
              "SAMPLING_METHOD": "random",
              "STRINGIFY_COLUMN_VALUES": true,
              "STRINGIFY_INDEX_VALUES": false
            },
            "sample_history": [],
            "sampling_time": "2023-09-23T23:32:54.249396",
            "user_variable_name": null,
            "variable_name": "unk_dataframe_1e136a4b1bb941168ccce3afd75b5c43"
          },
          "4d7c907e-809b-476d-8b0a-80ef1fbc998f": {
            "applied_filters": [],
            "dataframe_info": {
              "default_index_used": false,
              "orig_num_cols": 1,
              "orig_num_rows": 10,
              "orig_size_bytes": 160,
              "truncated_num_cols": 1,
              "truncated_num_rows": 10,
              "truncated_size_bytes": 160,
              "truncated_string_columns": []
            },
            "display_id": "4d7c907e-809b-476d-8b0a-80ef1fbc998f",
            "dx_settings": {
              "ALLOW_NOTEABLE_ATTRS": true,
              "COLUMN_SAMPLING_METHOD": "outer",
              "DB_LOCATION": ":memory:",
              "DEV_MODE": false,
              "DISPLAY_MAX_COLUMNS": 100,
              "DISPLAY_MAX_ROWS": 50000,
              "DISPLAY_MODE": "simple",
              "ENABLE_ASSIGNMENT": true,
              "ENABLE_DATALINK": true,
              "FLATTEN_COLUMN_VALUES": true,
              "FLATTEN_INDEX_VALUES": false,
              "GENERATE_DEX_METADATA": false,
              "HTML_TABLE_SCHEMA": false,
              "LOG_LEVEL": 30,
              "MAX_RENDER_SIZE_BYTES": 104857600,
              "MAX_STRING_LENGTH": 250,
              "NUM_PAST_SAMPLES_TRACKED": 3,
              "RANDOM_STATE": 12648430,
              "RESET_INDEX_VALUES": false,
              "ROW_SAMPLING_METHOD": "random",
              "SAMPLING_FACTOR": 0.1,
              "SAMPLING_METHOD": "random",
              "STRINGIFY_COLUMN_VALUES": true,
              "STRINGIFY_INDEX_VALUES": false
            },
            "sample_history": [],
            "sampling_time": "2023-09-24T01:11:09.001629",
            "user_variable_name": null,
            "variable_name": "unk_dataframe_5f883b0596464ca1b59ca249d753f683"
          },
          "7ad48a3d-1d4d-47b7-8dbd-67c3a3b143d2": {
            "applied_filters": [],
            "dataframe_info": {
              "default_index_used": false,
              "orig_num_cols": 1,
              "orig_num_rows": 10,
              "orig_size_bytes": 160,
              "truncated_num_cols": 1,
              "truncated_num_rows": 10,
              "truncated_size_bytes": 160,
              "truncated_string_columns": []
            },
            "display_id": "7ad48a3d-1d4d-47b7-8dbd-67c3a3b143d2",
            "dx_settings": {
              "ALLOW_NOTEABLE_ATTRS": true,
              "COLUMN_SAMPLING_METHOD": "outer",
              "DB_LOCATION": ":memory:",
              "DEV_MODE": false,
              "DISPLAY_MAX_COLUMNS": 100,
              "DISPLAY_MAX_ROWS": 50000,
              "DISPLAY_MODE": "simple",
              "ENABLE_ASSIGNMENT": true,
              "ENABLE_DATALINK": true,
              "FLATTEN_COLUMN_VALUES": true,
              "FLATTEN_INDEX_VALUES": false,
              "GENERATE_DEX_METADATA": false,
              "HTML_TABLE_SCHEMA": false,
              "LOG_LEVEL": 30,
              "MAX_RENDER_SIZE_BYTES": 104857600,
              "MAX_STRING_LENGTH": 250,
              "NUM_PAST_SAMPLES_TRACKED": 3,
              "RANDOM_STATE": 12648430,
              "RESET_INDEX_VALUES": false,
              "ROW_SAMPLING_METHOD": "random",
              "SAMPLING_FACTOR": 0.1,
              "SAMPLING_METHOD": "random",
              "STRINGIFY_COLUMN_VALUES": true,
              "STRINGIFY_INDEX_VALUES": false
            },
            "sample_history": [],
            "sampling_time": "2023-09-24T04:11:43.193365",
            "user_variable_name": null,
            "variable_name": "unk_dataframe_4e9a14403b6b487893f18d330d2dfde9"
          },
          "d734639a-f5c9-4428-b4ec-62a4b6f0000f": {
            "applied_filters": [],
            "dataframe_info": {
              "default_index_used": false,
              "orig_num_cols": 1,
              "orig_num_rows": 10,
              "orig_size_bytes": 160,
              "truncated_num_cols": 1,
              "truncated_num_rows": 10,
              "truncated_size_bytes": 160,
              "truncated_string_columns": []
            },
            "display_id": "d734639a-f5c9-4428-b4ec-62a4b6f0000f",
            "dx_settings": {
              "ALLOW_NOTEABLE_ATTRS": true,
              "COLUMN_SAMPLING_METHOD": "outer",
              "DB_LOCATION": ":memory:",
              "DEV_MODE": false,
              "DISPLAY_MAX_COLUMNS": 100,
              "DISPLAY_MAX_ROWS": 50000,
              "DISPLAY_MODE": "simple",
              "ENABLE_ASSIGNMENT": true,
              "ENABLE_DATALINK": true,
              "FLATTEN_COLUMN_VALUES": true,
              "FLATTEN_INDEX_VALUES": false,
              "GENERATE_DEX_METADATA": false,
              "HTML_TABLE_SCHEMA": false,
              "LOG_LEVEL": 30,
              "MAX_RENDER_SIZE_BYTES": 104857600,
              "MAX_STRING_LENGTH": 250,
              "NUM_PAST_SAMPLES_TRACKED": 3,
              "RANDOM_STATE": 12648430,
              "RESET_INDEX_VALUES": false,
              "ROW_SAMPLING_METHOD": "random",
              "SAMPLING_FACTOR": 0.1,
              "SAMPLING_METHOD": "random",
              "STRINGIFY_COLUMN_VALUES": true,
              "STRINGIFY_INDEX_VALUES": false
            },
            "sample_history": [],
            "sampling_time": "2023-09-24T16:42:49.654164",
            "user_variable_name": null,
            "variable_name": "unk_dataframe_03a612dfc53646bdaf77c5625772c03d"
          }
        }
      },
      "execution_count": null,
      "source": "# verifying if null values are dropped\n\nworld_inv_2023.isna().sum()",
      "outputs": []
    },
    {
      "id": "adc714dd-56b3-4db8-825f-c146cb43074b",
      "cell_type": "code",
      "metadata": {
        "jupyter": {
          "outputs_hidden": false,
          "source_hidden": false
        },
        "noteable": {
          "cell_type": "code",
          "output_collection_id": "d3b36b1a-912b-42c3-b6d7-60f341474878"
        },
        "ExecuteTime": {
          "end_time": "2023-09-24T16:42:50.502086+00:00",
          "start_time": "2023-09-24T16:42:50.301547+00:00"
        },
        "datalink": {
          "37bcb1fe-1267-4bf7-9cc7-f643fd1923e0": {
            "applied_filters": [],
            "dataframe_info": {
              "default_index_used": true,
              "orig_num_cols": 10,
              "orig_num_rows": 28,
              "orig_size_bytes": 2464,
              "truncated_num_cols": 10,
              "truncated_num_rows": 28,
              "truncated_size_bytes": 2464,
              "truncated_string_columns": []
            },
            "display_id": "37bcb1fe-1267-4bf7-9cc7-f643fd1923e0",
            "dx_settings": {
              "ALLOW_NOTEABLE_ATTRS": true,
              "COLUMN_SAMPLING_METHOD": "outer",
              "DB_LOCATION": ":memory:",
              "DEV_MODE": false,
              "DISPLAY_MAX_COLUMNS": 100,
              "DISPLAY_MAX_ROWS": 50000,
              "DISPLAY_MODE": "simple",
              "ENABLE_ASSIGNMENT": true,
              "ENABLE_DATALINK": true,
              "FLATTEN_COLUMN_VALUES": true,
              "FLATTEN_INDEX_VALUES": false,
              "GENERATE_DEX_METADATA": false,
              "HTML_TABLE_SCHEMA": false,
              "LOG_LEVEL": 30,
              "MAX_RENDER_SIZE_BYTES": 104857600,
              "MAX_STRING_LENGTH": 250,
              "NUM_PAST_SAMPLES_TRACKED": 3,
              "RANDOM_STATE": 12648430,
              "RESET_INDEX_VALUES": false,
              "ROW_SAMPLING_METHOD": "random",
              "SAMPLING_FACTOR": 0.1,
              "SAMPLING_METHOD": "random",
              "STRINGIFY_COLUMN_VALUES": true,
              "STRINGIFY_INDEX_VALUES": false
            },
            "sample_history": [],
            "sampling_time": "2023-09-23T22:08:52.880825",
            "user_variable_name": "world_inv_2023",
            "variable_name": "world_inv_2023"
          },
          "8be695e6-83ae-47b0-a125-a966ca4c9954": {
            "applied_filters": [],
            "dataframe_info": {
              "default_index_used": true,
              "orig_num_cols": 10,
              "orig_num_rows": 28,
              "orig_size_bytes": 2464,
              "truncated_num_cols": 10,
              "truncated_num_rows": 28,
              "truncated_size_bytes": 2464,
              "truncated_string_columns": []
            },
            "display_id": "8be695e6-83ae-47b0-a125-a966ca4c9954",
            "dx_settings": {
              "ALLOW_NOTEABLE_ATTRS": true,
              "COLUMN_SAMPLING_METHOD": "outer",
              "DB_LOCATION": ":memory:",
              "DEV_MODE": false,
              "DISPLAY_MAX_COLUMNS": 100,
              "DISPLAY_MAX_ROWS": 50000,
              "DISPLAY_MODE": "simple",
              "ENABLE_ASSIGNMENT": true,
              "ENABLE_DATALINK": true,
              "FLATTEN_COLUMN_VALUES": true,
              "FLATTEN_INDEX_VALUES": false,
              "GENERATE_DEX_METADATA": false,
              "HTML_TABLE_SCHEMA": false,
              "LOG_LEVEL": 30,
              "MAX_RENDER_SIZE_BYTES": 104857600,
              "MAX_STRING_LENGTH": 250,
              "NUM_PAST_SAMPLES_TRACKED": 3,
              "RANDOM_STATE": 12648430,
              "RESET_INDEX_VALUES": false,
              "ROW_SAMPLING_METHOD": "random",
              "SAMPLING_FACTOR": 0.1,
              "SAMPLING_METHOD": "random",
              "STRINGIFY_COLUMN_VALUES": true,
              "STRINGIFY_INDEX_VALUES": false
            },
            "sample_history": [],
            "sampling_time": "2023-09-23T23:32:59.266210",
            "user_variable_name": "world_inv_2023",
            "variable_name": "world_inv_2023"
          },
          "cf795a3f-6a56-4b4c-b8c6-f3a0a1cafa6f": {
            "applied_filters": [],
            "dataframe_info": {
              "default_index_used": true,
              "orig_num_cols": 10,
              "orig_num_rows": 28,
              "orig_size_bytes": 2464,
              "truncated_num_cols": 10,
              "truncated_num_rows": 28,
              "truncated_size_bytes": 2464,
              "truncated_string_columns": []
            },
            "display_id": "cf795a3f-6a56-4b4c-b8c6-f3a0a1cafa6f",
            "dx_settings": {
              "ALLOW_NOTEABLE_ATTRS": true,
              "COLUMN_SAMPLING_METHOD": "outer",
              "DB_LOCATION": ":memory:",
              "DEV_MODE": false,
              "DISPLAY_MAX_COLUMNS": 100,
              "DISPLAY_MAX_ROWS": 50000,
              "DISPLAY_MODE": "simple",
              "ENABLE_ASSIGNMENT": true,
              "ENABLE_DATALINK": true,
              "FLATTEN_COLUMN_VALUES": true,
              "FLATTEN_INDEX_VALUES": false,
              "GENERATE_DEX_METADATA": false,
              "HTML_TABLE_SCHEMA": false,
              "LOG_LEVEL": 30,
              "MAX_RENDER_SIZE_BYTES": 104857600,
              "MAX_STRING_LENGTH": 250,
              "NUM_PAST_SAMPLES_TRACKED": 3,
              "RANDOM_STATE": 12648430,
              "RESET_INDEX_VALUES": false,
              "ROW_SAMPLING_METHOD": "random",
              "SAMPLING_FACTOR": 0.1,
              "SAMPLING_METHOD": "random",
              "STRINGIFY_COLUMN_VALUES": true,
              "STRINGIFY_INDEX_VALUES": false
            },
            "sample_history": [],
            "sampling_time": "2023-09-23T23:33:44.914261",
            "user_variable_name": "world_inv_2023",
            "variable_name": "world_inv_2023"
          },
          "8f49b7d0-47d2-49c2-ae95-446453060888": {
            "applied_filters": [],
            "dataframe_info": {
              "default_index_used": true,
              "orig_num_cols": 10,
              "orig_num_rows": 28,
              "orig_size_bytes": 2464,
              "truncated_num_cols": 10,
              "truncated_num_rows": 28,
              "truncated_size_bytes": 2464,
              "truncated_string_columns": []
            },
            "display_id": "8f49b7d0-47d2-49c2-ae95-446453060888",
            "dx_settings": {
              "ALLOW_NOTEABLE_ATTRS": true,
              "COLUMN_SAMPLING_METHOD": "outer",
              "DB_LOCATION": ":memory:",
              "DEV_MODE": false,
              "DISPLAY_MAX_COLUMNS": 100,
              "DISPLAY_MAX_ROWS": 50000,
              "DISPLAY_MODE": "simple",
              "ENABLE_ASSIGNMENT": true,
              "ENABLE_DATALINK": true,
              "FLATTEN_COLUMN_VALUES": true,
              "FLATTEN_INDEX_VALUES": false,
              "GENERATE_DEX_METADATA": false,
              "HTML_TABLE_SCHEMA": false,
              "LOG_LEVEL": 30,
              "MAX_RENDER_SIZE_BYTES": 104857600,
              "MAX_STRING_LENGTH": 250,
              "NUM_PAST_SAMPLES_TRACKED": 3,
              "RANDOM_STATE": 12648430,
              "RESET_INDEX_VALUES": false,
              "ROW_SAMPLING_METHOD": "random",
              "SAMPLING_FACTOR": 0.1,
              "SAMPLING_METHOD": "random",
              "STRINGIFY_COLUMN_VALUES": true,
              "STRINGIFY_INDEX_VALUES": false
            },
            "sample_history": [],
            "sampling_time": "2023-09-24T01:11:11.176087",
            "user_variable_name": "world_inv_2023",
            "variable_name": "world_inv_2023"
          },
          "67dfa03b-beaa-4ee7-9dff-980e808887e9": {
            "applied_filters": [],
            "dataframe_info": {
              "default_index_used": true,
              "orig_num_cols": 10,
              "orig_num_rows": 28,
              "orig_size_bytes": 2464,
              "truncated_num_cols": 10,
              "truncated_num_rows": 28,
              "truncated_size_bytes": 2464,
              "truncated_string_columns": []
            },
            "display_id": "67dfa03b-beaa-4ee7-9dff-980e808887e9",
            "dx_settings": {
              "ALLOW_NOTEABLE_ATTRS": true,
              "COLUMN_SAMPLING_METHOD": "outer",
              "DB_LOCATION": ":memory:",
              "DEV_MODE": false,
              "DISPLAY_MAX_COLUMNS": 100,
              "DISPLAY_MAX_ROWS": 50000,
              "DISPLAY_MODE": "simple",
              "ENABLE_ASSIGNMENT": true,
              "ENABLE_DATALINK": true,
              "FLATTEN_COLUMN_VALUES": true,
              "FLATTEN_INDEX_VALUES": false,
              "GENERATE_DEX_METADATA": false,
              "HTML_TABLE_SCHEMA": false,
              "LOG_LEVEL": 30,
              "MAX_RENDER_SIZE_BYTES": 104857600,
              "MAX_STRING_LENGTH": 250,
              "NUM_PAST_SAMPLES_TRACKED": 3,
              "RANDOM_STATE": 12648430,
              "RESET_INDEX_VALUES": false,
              "ROW_SAMPLING_METHOD": "random",
              "SAMPLING_FACTOR": 0.1,
              "SAMPLING_METHOD": "random",
              "STRINGIFY_COLUMN_VALUES": true,
              "STRINGIFY_INDEX_VALUES": false
            },
            "sample_history": [],
            "sampling_time": "2023-09-24T04:11:45.721897",
            "user_variable_name": "world_inv_2023",
            "variable_name": "world_inv_2023"
          },
          "3d7c1440-f7c8-4495-9adf-8c6c963c6de9": {
            "applied_filters": [],
            "dataframe_info": {
              "default_index_used": true,
              "orig_num_cols": 10,
              "orig_num_rows": 28,
              "orig_size_bytes": 2464,
              "truncated_num_cols": 10,
              "truncated_num_rows": 28,
              "truncated_size_bytes": 2464,
              "truncated_string_columns": []
            },
            "display_id": "3d7c1440-f7c8-4495-9adf-8c6c963c6de9",
            "dx_settings": {
              "ALLOW_NOTEABLE_ATTRS": true,
              "COLUMN_SAMPLING_METHOD": "outer",
              "DB_LOCATION": ":memory:",
              "DEV_MODE": false,
              "DISPLAY_MAX_COLUMNS": 100,
              "DISPLAY_MAX_ROWS": 50000,
              "DISPLAY_MODE": "simple",
              "ENABLE_ASSIGNMENT": true,
              "ENABLE_DATALINK": true,
              "FLATTEN_COLUMN_VALUES": true,
              "FLATTEN_INDEX_VALUES": false,
              "GENERATE_DEX_METADATA": false,
              "HTML_TABLE_SCHEMA": false,
              "LOG_LEVEL": 30,
              "MAX_RENDER_SIZE_BYTES": 104857600,
              "MAX_STRING_LENGTH": 250,
              "NUM_PAST_SAMPLES_TRACKED": 3,
              "RANDOM_STATE": 12648430,
              "RESET_INDEX_VALUES": false,
              "ROW_SAMPLING_METHOD": "random",
              "SAMPLING_FACTOR": 0.1,
              "SAMPLING_METHOD": "random",
              "STRINGIFY_COLUMN_VALUES": true,
              "STRINGIFY_INDEX_VALUES": false
            },
            "sample_history": [],
            "sampling_time": "2023-09-24T16:42:50.342196",
            "user_variable_name": "world_inv_2023",
            "variable_name": "world_inv_2023"
          }
        },
        "dx": {
          "dashboard": {
            "multiViews": []
          },
          "fieldMetadata": {},
          "updated": 1695512093994,
          "views": [
            {
              "annotationRules": [],
              "chart": {},
              "chartMode": "empty",
              "confoRules": [],
              "decoration": {
                "footer": "",
                "subtitle": "",
                "title": "New View"
              },
              "facets": [],
              "filterSettings": {
                "SHOW_FILTER_PANEL": true,
                "filters": []
              },
              "id": "93fe6280-41f5-4c77-b8ab-8c94e5e17be5",
              "isDefault": false,
              "type": "public",
              "userID": ""
            },
            {
              "annotationRules": [],
              "chart": {
                "facets": []
              },
              "chartMode": "grid",
              "confoRules": [],
              "decoration": {
                "footer": "",
                "subtitle": "",
                "title": "Table"
              },
              "facets": [],
              "filterSettings": {
                "SHOW_FILTER_PANEL": true,
                "filters": []
              },
              "id": "93fe6280-41f5-4c77-b8ab-8c94e5e17be5",
              "isDefault": false,
              "isTransitory": true,
              "type": "public",
              "userID": ""
            },
            {
              "annotationRules": [],
              "chart": {},
              "chartMode": "empty",
              "confoRules": [],
              "decoration": {
                "footer": "",
                "subtitle": "",
                "title": "New View"
              },
              "facets": [],
              "filterSettings": {
                "SHOW_FILTER_PANEL": true,
                "filters": []
              },
              "id": "d1284b4b-3e05-40fc-a546-cf9a228c8fa7",
              "isDefault": false,
              "type": "public",
              "userID": ""
            }
          ]
        }
      },
      "execution_count": null,
      "source": "# Looking at the world table\n\nworld_inv_2023",
      "outputs": []
    },
    {
      "id": "d6ea8a74-2794-4141-acda-33eb972f930b",
      "cell_type": "code",
      "metadata": {
        "jupyter": {
          "outputs_hidden": false,
          "source_hidden": false
        },
        "noteable": {
          "cell_type": "code",
          "output_collection_id": "327db682-fd0a-4dbe-9407-8b2d00296e50"
        },
        "ExecuteTime": {
          "end_time": "2023-09-24T16:42:50.664978+00:00",
          "start_time": "2023-09-24T16:42:50.509172+00:00"
        },
        "datalink": {
          "b1e972a6-ea1c-41e2-a276-8bc3a8b2980c": {
            "applied_filters": [],
            "dataframe_info": {
              "default_index_used": false,
              "orig_num_cols": 32,
              "orig_num_rows": 11,
              "orig_size_bytes": 2904,
              "truncated_num_cols": 32,
              "truncated_num_rows": 11,
              "truncated_size_bytes": 2904,
              "truncated_string_columns": []
            },
            "display_id": "b1e972a6-ea1c-41e2-a276-8bc3a8b2980c",
            "dx_settings": {
              "ALLOW_NOTEABLE_ATTRS": true,
              "COLUMN_SAMPLING_METHOD": "outer",
              "DB_LOCATION": ":memory:",
              "DEV_MODE": false,
              "DISPLAY_MAX_COLUMNS": 100,
              "DISPLAY_MAX_ROWS": 50000,
              "DISPLAY_MODE": "simple",
              "ENABLE_ASSIGNMENT": true,
              "ENABLE_DATALINK": true,
              "FLATTEN_COLUMN_VALUES": true,
              "FLATTEN_INDEX_VALUES": false,
              "GENERATE_DEX_METADATA": false,
              "HTML_TABLE_SCHEMA": false,
              "LOG_LEVEL": 30,
              "MAX_RENDER_SIZE_BYTES": 104857600,
              "MAX_STRING_LENGTH": 250,
              "NUM_PAST_SAMPLES_TRACKED": 3,
              "RANDOM_STATE": 12648430,
              "RESET_INDEX_VALUES": false,
              "ROW_SAMPLING_METHOD": "random",
              "SAMPLING_FACTOR": 0.1,
              "SAMPLING_METHOD": "random",
              "STRINGIFY_COLUMN_VALUES": true,
              "STRINGIFY_INDEX_VALUES": false
            },
            "sample_history": [],
            "sampling_time": "2023-09-23T21:51:53.745292",
            "user_variable_name": "world_inv_2023_T",
            "variable_name": "world_inv_2023_T"
          }
        }
      },
      "execution_count": null,
      "source": "# transposing the data\n\nworld_inv_2023_T = world_inv_2023.transpose()",
      "outputs": []
    },
    {
      "id": "3106090b-9b63-44fa-aff0-802420a00b05",
      "cell_type": "code",
      "metadata": {
        "jupyter": {
          "outputs_hidden": false,
          "source_hidden": false
        },
        "noteable": {
          "cell_type": "code",
          "output_collection_id": "6cc859f0-8564-40db-8963-febdd98a4101"
        },
        "ExecuteTime": {
          "end_time": "2023-09-24T16:42:51.196826+00:00",
          "start_time": "2023-09-24T16:42:50.939496+00:00"
        },
        "datalink": {
          "2353ef39-8602-4c6a-abb0-c24d1f4362b2": {
            "applied_filters": [],
            "dataframe_info": {
              "default_index_used": true,
              "orig_num_cols": 33,
              "orig_num_rows": 11,
              "orig_size_bytes": 2992,
              "truncated_num_cols": 33,
              "truncated_num_rows": 11,
              "truncated_size_bytes": 2992,
              "truncated_string_columns": []
            },
            "display_id": "2353ef39-8602-4c6a-abb0-c24d1f4362b2",
            "dx_settings": {
              "ALLOW_NOTEABLE_ATTRS": true,
              "COLUMN_SAMPLING_METHOD": "outer",
              "DB_LOCATION": ":memory:",
              "DEV_MODE": false,
              "DISPLAY_MAX_COLUMNS": 100,
              "DISPLAY_MAX_ROWS": 50000,
              "DISPLAY_MODE": "simple",
              "ENABLE_ASSIGNMENT": true,
              "ENABLE_DATALINK": true,
              "FLATTEN_COLUMN_VALUES": true,
              "FLATTEN_INDEX_VALUES": false,
              "GENERATE_DEX_METADATA": false,
              "HTML_TABLE_SCHEMA": false,
              "LOG_LEVEL": 30,
              "MAX_RENDER_SIZE_BYTES": 104857600,
              "MAX_STRING_LENGTH": 250,
              "NUM_PAST_SAMPLES_TRACKED": 3,
              "RANDOM_STATE": 12648430,
              "RESET_INDEX_VALUES": false,
              "ROW_SAMPLING_METHOD": "random",
              "SAMPLING_FACTOR": 0.1,
              "SAMPLING_METHOD": "random",
              "STRINGIFY_COLUMN_VALUES": true,
              "STRINGIFY_INDEX_VALUES": false
            },
            "sample_history": [],
            "sampling_time": "2023-09-23T21:52:58.370654",
            "user_variable_name": null,
            "variable_name": "unk_dataframe_5facf4f97dd9447eb3f987af813af614"
          },
          "761aba18-704a-49f9-965f-46daf189f074": {
            "applied_filters": [],
            "dataframe_info": {
              "default_index_used": false,
              "orig_num_cols": 28,
              "orig_num_rows": 10,
              "orig_size_bytes": 2320,
              "truncated_num_cols": 28,
              "truncated_num_rows": 10,
              "truncated_size_bytes": 2320,
              "truncated_string_columns": []
            },
            "display_id": "761aba18-704a-49f9-965f-46daf189f074",
            "dx_settings": {
              "ALLOW_NOTEABLE_ATTRS": true,
              "COLUMN_SAMPLING_METHOD": "outer",
              "DB_LOCATION": ":memory:",
              "DEV_MODE": false,
              "DISPLAY_MAX_COLUMNS": 100,
              "DISPLAY_MAX_ROWS": 50000,
              "DISPLAY_MODE": "simple",
              "ENABLE_ASSIGNMENT": true,
              "ENABLE_DATALINK": true,
              "FLATTEN_COLUMN_VALUES": true,
              "FLATTEN_INDEX_VALUES": false,
              "GENERATE_DEX_METADATA": false,
              "HTML_TABLE_SCHEMA": false,
              "LOG_LEVEL": 30,
              "MAX_RENDER_SIZE_BYTES": 104857600,
              "MAX_STRING_LENGTH": 250,
              "NUM_PAST_SAMPLES_TRACKED": 3,
              "RANDOM_STATE": 12648430,
              "RESET_INDEX_VALUES": false,
              "ROW_SAMPLING_METHOD": "random",
              "SAMPLING_FACTOR": 0.1,
              "SAMPLING_METHOD": "random",
              "STRINGIFY_COLUMN_VALUES": true,
              "STRINGIFY_INDEX_VALUES": false
            },
            "sample_history": [],
            "sampling_time": "2023-09-23T22:09:50.427314",
            "user_variable_name": "world_inv_2023_T",
            "variable_name": "world_inv_2023_T"
          },
          "b3f324e2-6fb9-4748-a6da-f6c96af94565": {
            "applied_filters": [],
            "dataframe_info": {
              "default_index_used": false,
              "orig_num_cols": 28,
              "orig_num_rows": 10,
              "orig_size_bytes": 2320,
              "truncated_num_cols": 28,
              "truncated_num_rows": 10,
              "truncated_size_bytes": 2320,
              "truncated_string_columns": []
            },
            "display_id": "b3f324e2-6fb9-4748-a6da-f6c96af94565",
            "dx_settings": {
              "ALLOW_NOTEABLE_ATTRS": true,
              "COLUMN_SAMPLING_METHOD": "outer",
              "DB_LOCATION": ":memory:",
              "DEV_MODE": false,
              "DISPLAY_MAX_COLUMNS": 100,
              "DISPLAY_MAX_ROWS": 50000,
              "DISPLAY_MODE": "simple",
              "ENABLE_ASSIGNMENT": true,
              "ENABLE_DATALINK": true,
              "FLATTEN_COLUMN_VALUES": true,
              "FLATTEN_INDEX_VALUES": false,
              "GENERATE_DEX_METADATA": false,
              "HTML_TABLE_SCHEMA": false,
              "LOG_LEVEL": 30,
              "MAX_RENDER_SIZE_BYTES": 104857600,
              "MAX_STRING_LENGTH": 250,
              "NUM_PAST_SAMPLES_TRACKED": 3,
              "RANDOM_STATE": 12648430,
              "RESET_INDEX_VALUES": false,
              "ROW_SAMPLING_METHOD": "random",
              "SAMPLING_FACTOR": 0.1,
              "SAMPLING_METHOD": "random",
              "STRINGIFY_COLUMN_VALUES": true,
              "STRINGIFY_INDEX_VALUES": false
            },
            "sample_history": [],
            "sampling_time": "2023-09-23T22:10:17.646685",
            "user_variable_name": "world_inv_2023_T",
            "variable_name": "world_inv_2023_T"
          },
          "6fb88034-9675-4f62-aacd-06fb5239fc6e": {
            "applied_filters": [],
            "dataframe_info": {
              "default_index_used": true,
              "orig_num_cols": 29,
              "orig_num_rows": 10,
              "orig_size_bytes": 2400,
              "truncated_num_cols": 29,
              "truncated_num_rows": 10,
              "truncated_size_bytes": 2400,
              "truncated_string_columns": []
            },
            "display_id": "6fb88034-9675-4f62-aacd-06fb5239fc6e",
            "dx_settings": {
              "ALLOW_NOTEABLE_ATTRS": true,
              "COLUMN_SAMPLING_METHOD": "outer",
              "DB_LOCATION": ":memory:",
              "DEV_MODE": false,
              "DISPLAY_MAX_COLUMNS": 100,
              "DISPLAY_MAX_ROWS": 50000,
              "DISPLAY_MODE": "simple",
              "ENABLE_ASSIGNMENT": true,
              "ENABLE_DATALINK": true,
              "FLATTEN_COLUMN_VALUES": true,
              "FLATTEN_INDEX_VALUES": false,
              "GENERATE_DEX_METADATA": false,
              "HTML_TABLE_SCHEMA": false,
              "LOG_LEVEL": 30,
              "MAX_RENDER_SIZE_BYTES": 104857600,
              "MAX_STRING_LENGTH": 250,
              "NUM_PAST_SAMPLES_TRACKED": 3,
              "RANDOM_STATE": 12648430,
              "RESET_INDEX_VALUES": false,
              "ROW_SAMPLING_METHOD": "random",
              "SAMPLING_FACTOR": 0.1,
              "SAMPLING_METHOD": "random",
              "STRINGIFY_COLUMN_VALUES": true,
              "STRINGIFY_INDEX_VALUES": false
            },
            "sample_history": [],
            "sampling_time": "2023-09-23T22:13:32.114182",
            "user_variable_name": null,
            "variable_name": "unk_dataframe_bd447e7b5c1e4d4d9b224fce2c60cfd7"
          },
          "0070a7e5-e5ca-4cf9-b64c-061393ebea37": {
            "applied_filters": [],
            "dataframe_info": {
              "default_index_used": true,
              "orig_num_cols": 28,
              "orig_num_rows": 10,
              "orig_size_bytes": 2320,
              "truncated_num_cols": 28,
              "truncated_num_rows": 10,
              "truncated_size_bytes": 2320,
              "truncated_string_columns": []
            },
            "display_id": "0070a7e5-e5ca-4cf9-b64c-061393ebea37",
            "dx_settings": {
              "ALLOW_NOTEABLE_ATTRS": true,
              "COLUMN_SAMPLING_METHOD": "outer",
              "DB_LOCATION": ":memory:",
              "DEV_MODE": false,
              "DISPLAY_MAX_COLUMNS": 100,
              "DISPLAY_MAX_ROWS": 50000,
              "DISPLAY_MODE": "simple",
              "ENABLE_ASSIGNMENT": true,
              "ENABLE_DATALINK": true,
              "FLATTEN_COLUMN_VALUES": true,
              "FLATTEN_INDEX_VALUES": false,
              "GENERATE_DEX_METADATA": false,
              "HTML_TABLE_SCHEMA": false,
              "LOG_LEVEL": 30,
              "MAX_RENDER_SIZE_BYTES": 104857600,
              "MAX_STRING_LENGTH": 250,
              "NUM_PAST_SAMPLES_TRACKED": 3,
              "RANDOM_STATE": 12648430,
              "RESET_INDEX_VALUES": false,
              "ROW_SAMPLING_METHOD": "random",
              "SAMPLING_FACTOR": 0.1,
              "SAMPLING_METHOD": "random",
              "STRINGIFY_COLUMN_VALUES": true,
              "STRINGIFY_INDEX_VALUES": false
            },
            "sample_history": [],
            "sampling_time": "2023-09-23T22:15:31.435759",
            "user_variable_name": null,
            "variable_name": "unk_dataframe_e9ae5d04b7f3459f9c38b7791d558722"
          },
          "ccfe9c5b-acdf-449c-8b00-51a1a8375338": {
            "applied_filters": [],
            "dataframe_info": {
              "default_index_used": false,
              "orig_num_cols": 28,
              "orig_num_rows": 10,
              "orig_size_bytes": 2320,
              "truncated_num_cols": 28,
              "truncated_num_rows": 10,
              "truncated_size_bytes": 2320,
              "truncated_string_columns": []
            },
            "display_id": "ccfe9c5b-acdf-449c-8b00-51a1a8375338",
            "dx_settings": {
              "ALLOW_NOTEABLE_ATTRS": true,
              "COLUMN_SAMPLING_METHOD": "outer",
              "DB_LOCATION": ":memory:",
              "DEV_MODE": false,
              "DISPLAY_MAX_COLUMNS": 100,
              "DISPLAY_MAX_ROWS": 50000,
              "DISPLAY_MODE": "simple",
              "ENABLE_ASSIGNMENT": true,
              "ENABLE_DATALINK": true,
              "FLATTEN_COLUMN_VALUES": true,
              "FLATTEN_INDEX_VALUES": false,
              "GENERATE_DEX_METADATA": false,
              "HTML_TABLE_SCHEMA": false,
              "LOG_LEVEL": 30,
              "MAX_RENDER_SIZE_BYTES": 104857600,
              "MAX_STRING_LENGTH": 250,
              "NUM_PAST_SAMPLES_TRACKED": 3,
              "RANDOM_STATE": 12648430,
              "RESET_INDEX_VALUES": false,
              "ROW_SAMPLING_METHOD": "random",
              "SAMPLING_FACTOR": 0.1,
              "SAMPLING_METHOD": "random",
              "STRINGIFY_COLUMN_VALUES": true,
              "STRINGIFY_INDEX_VALUES": false
            },
            "sample_history": [],
            "sampling_time": "2023-09-23T22:28:27.791547",
            "user_variable_name": "world_inv_2023_T",
            "variable_name": "world_inv_2023_T"
          },
          "a9b39a85-ec92-4021-ab3a-5d7eed12c212": {
            "applied_filters": [],
            "dataframe_info": {
              "default_index_used": false,
              "orig_num_cols": 28,
              "orig_num_rows": 10,
              "orig_size_bytes": 2320,
              "truncated_num_cols": 28,
              "truncated_num_rows": 10,
              "truncated_size_bytes": 2320,
              "truncated_string_columns": []
            },
            "display_id": "a9b39a85-ec92-4021-ab3a-5d7eed12c212",
            "dx_settings": {
              "ALLOW_NOTEABLE_ATTRS": true,
              "COLUMN_SAMPLING_METHOD": "outer",
              "DB_LOCATION": ":memory:",
              "DEV_MODE": false,
              "DISPLAY_MAX_COLUMNS": 100,
              "DISPLAY_MAX_ROWS": 50000,
              "DISPLAY_MODE": "simple",
              "ENABLE_ASSIGNMENT": true,
              "ENABLE_DATALINK": true,
              "FLATTEN_COLUMN_VALUES": true,
              "FLATTEN_INDEX_VALUES": false,
              "GENERATE_DEX_METADATA": false,
              "HTML_TABLE_SCHEMA": false,
              "LOG_LEVEL": 30,
              "MAX_RENDER_SIZE_BYTES": 104857600,
              "MAX_STRING_LENGTH": 250,
              "NUM_PAST_SAMPLES_TRACKED": 3,
              "RANDOM_STATE": 12648430,
              "RESET_INDEX_VALUES": false,
              "ROW_SAMPLING_METHOD": "random",
              "SAMPLING_FACTOR": 0.1,
              "SAMPLING_METHOD": "random",
              "STRINGIFY_COLUMN_VALUES": true,
              "STRINGIFY_INDEX_VALUES": false
            },
            "sample_history": [],
            "sampling_time": "2023-09-23T22:28:49.514523",
            "user_variable_name": "world_inv_2023_T",
            "variable_name": "world_inv_2023_T"
          },
          "f2e68550-a0d5-4fa0-bdd1-d82b2d259bbb": {
            "applied_filters": [],
            "dataframe_info": {
              "default_index_used": false,
              "orig_num_cols": 28,
              "orig_num_rows": 10,
              "orig_size_bytes": 2320,
              "truncated_num_cols": 28,
              "truncated_num_rows": 10,
              "truncated_size_bytes": 2320,
              "truncated_string_columns": []
            },
            "display_id": "f2e68550-a0d5-4fa0-bdd1-d82b2d259bbb",
            "dx_settings": {
              "ALLOW_NOTEABLE_ATTRS": true,
              "COLUMN_SAMPLING_METHOD": "outer",
              "DB_LOCATION": ":memory:",
              "DEV_MODE": false,
              "DISPLAY_MAX_COLUMNS": 100,
              "DISPLAY_MAX_ROWS": 50000,
              "DISPLAY_MODE": "simple",
              "ENABLE_ASSIGNMENT": true,
              "ENABLE_DATALINK": true,
              "FLATTEN_COLUMN_VALUES": true,
              "FLATTEN_INDEX_VALUES": false,
              "GENERATE_DEX_METADATA": false,
              "HTML_TABLE_SCHEMA": false,
              "LOG_LEVEL": 30,
              "MAX_RENDER_SIZE_BYTES": 104857600,
              "MAX_STRING_LENGTH": 250,
              "NUM_PAST_SAMPLES_TRACKED": 3,
              "RANDOM_STATE": 12648430,
              "RESET_INDEX_VALUES": false,
              "ROW_SAMPLING_METHOD": "random",
              "SAMPLING_FACTOR": 0.1,
              "SAMPLING_METHOD": "random",
              "STRINGIFY_COLUMN_VALUES": true,
              "STRINGIFY_INDEX_VALUES": false
            },
            "sample_history": [],
            "sampling_time": "2023-09-24T01:11:17.387440",
            "user_variable_name": "world_inv_2023_T",
            "variable_name": "world_inv_2023_T"
          },
          "8270df4b-3110-436d-b5e2-af4443bb4638": {
            "applied_filters": [],
            "dataframe_info": {
              "default_index_used": false,
              "orig_num_cols": 28,
              "orig_num_rows": 10,
              "orig_size_bytes": 2320,
              "truncated_num_cols": 28,
              "truncated_num_rows": 10,
              "truncated_size_bytes": 2320,
              "truncated_string_columns": []
            },
            "display_id": "8270df4b-3110-436d-b5e2-af4443bb4638",
            "dx_settings": {
              "ALLOW_NOTEABLE_ATTRS": true,
              "COLUMN_SAMPLING_METHOD": "outer",
              "DB_LOCATION": ":memory:",
              "DEV_MODE": false,
              "DISPLAY_MAX_COLUMNS": 100,
              "DISPLAY_MAX_ROWS": 50000,
              "DISPLAY_MODE": "simple",
              "ENABLE_ASSIGNMENT": true,
              "ENABLE_DATALINK": true,
              "FLATTEN_COLUMN_VALUES": true,
              "FLATTEN_INDEX_VALUES": false,
              "GENERATE_DEX_METADATA": false,
              "HTML_TABLE_SCHEMA": false,
              "LOG_LEVEL": 30,
              "MAX_RENDER_SIZE_BYTES": 104857600,
              "MAX_STRING_LENGTH": 250,
              "NUM_PAST_SAMPLES_TRACKED": 3,
              "RANDOM_STATE": 12648430,
              "RESET_INDEX_VALUES": false,
              "ROW_SAMPLING_METHOD": "random",
              "SAMPLING_FACTOR": 0.1,
              "SAMPLING_METHOD": "random",
              "STRINGIFY_COLUMN_VALUES": true,
              "STRINGIFY_INDEX_VALUES": false
            },
            "sample_history": [],
            "sampling_time": "2023-09-24T04:11:52.587513",
            "user_variable_name": "world_inv_2023_T",
            "variable_name": "world_inv_2023_T"
          },
          "c1d7b7b4-5909-4c1b-b222-3139aff459c6": {
            "applied_filters": [],
            "dataframe_info": {
              "default_index_used": false,
              "orig_num_cols": 28,
              "orig_num_rows": 10,
              "orig_size_bytes": 2320,
              "truncated_num_cols": 28,
              "truncated_num_rows": 10,
              "truncated_size_bytes": 2320,
              "truncated_string_columns": []
            },
            "display_id": "c1d7b7b4-5909-4c1b-b222-3139aff459c6",
            "dx_settings": {
              "ALLOW_NOTEABLE_ATTRS": true,
              "COLUMN_SAMPLING_METHOD": "outer",
              "DB_LOCATION": ":memory:",
              "DEV_MODE": false,
              "DISPLAY_MAX_COLUMNS": 100,
              "DISPLAY_MAX_ROWS": 50000,
              "DISPLAY_MODE": "simple",
              "ENABLE_ASSIGNMENT": true,
              "ENABLE_DATALINK": true,
              "FLATTEN_COLUMN_VALUES": true,
              "FLATTEN_INDEX_VALUES": false,
              "GENERATE_DEX_METADATA": false,
              "HTML_TABLE_SCHEMA": false,
              "LOG_LEVEL": 30,
              "MAX_RENDER_SIZE_BYTES": 104857600,
              "MAX_STRING_LENGTH": 250,
              "NUM_PAST_SAMPLES_TRACKED": 3,
              "RANDOM_STATE": 12648430,
              "RESET_INDEX_VALUES": false,
              "ROW_SAMPLING_METHOD": "random",
              "SAMPLING_FACTOR": 0.1,
              "SAMPLING_METHOD": "random",
              "STRINGIFY_COLUMN_VALUES": true,
              "STRINGIFY_INDEX_VALUES": false
            },
            "sample_history": [],
            "sampling_time": "2023-09-24T16:42:51.033133",
            "user_variable_name": "world_inv_2023_T",
            "variable_name": "world_inv_2023_T"
          }
        },
        "dx": {
          "dashboard": {
            "multiViews": []
          },
          "fieldMetadata": {},
          "simpleTable": true,
          "updated": 1695505986571,
          "views": [
            {
              "annotationRules": [],
              "chart": {},
              "chartMode": "grid",
              "confoRules": [],
              "decoration": {
                "footer": "",
                "subtitle": "",
                "title": "Table"
              },
              "facets": [],
              "filterSettings": {
                "SHOW_FILTER_PANEL": true,
                "filters": []
              },
              "id": "first-view",
              "isDefault": true,
              "type": "public",
              "userID": ""
            },
            {
              "annotationRules": [],
              "chart": {
                "tableSparklines": false
              },
              "chartMode": "grid",
              "confoRules": [],
              "decoration": {
                "footer": "",
                "subtitle": "",
                "title": "Table"
              },
              "facets": [],
              "filterSettings": {
                "SHOW_FILTER_PANEL": true,
                "filters": []
              },
              "id": "first-view",
              "isDefault": true,
              "isTransitory": true,
              "type": "public",
              "userID": ""
            }
          ]
        }
      },
      "execution_count": null,
      "source": "world_inv_2023_T",
      "outputs": []
    },
    {
      "id": "a26ac5fb-5431-49ab-a23b-d984e1c5e0b1",
      "cell_type": "code",
      "metadata": {
        "jupyter": {
          "outputs_hidden": false,
          "source_hidden": false
        },
        "noteable": {
          "cell_type": "code",
          "output_collection_id": "3e32cc7e-6c8e-44a6-be79-be2de6657a2f"
        },
        "ExecuteTime": {
          "end_time": "2023-09-24T16:42:51.357381+00:00",
          "start_time": "2023-09-24T16:42:51.201819+00:00"
        }
      },
      "execution_count": null,
      "source": "# Rename columns to the first row\n\nworld_inv_2023_T.columns = world_inv_2023_T.iloc[0]  ",
      "outputs": []
    },
    {
      "id": "46dda9c1-c375-4393-8529-c58e02214a14",
      "cell_type": "code",
      "metadata": {
        "jupyter": {
          "outputs_hidden": false,
          "source_hidden": false
        },
        "noteable": {
          "cell_type": "code",
          "output_collection_id": "8c40b88b-7c42-42ea-9e8d-5a8d3a295984"
        },
        "ExecuteTime": {
          "end_time": "2023-09-24T16:42:51.731037+00:00",
          "start_time": "2023-09-24T16:42:51.362966+00:00"
        },
        "datalink": {
          "81e0093c-ad7a-4b0c-a082-0e794c762a9f": {
            "applied_filters": [],
            "dataframe_info": {
              "default_index_used": false,
              "orig_num_cols": 28,
              "orig_num_rows": 10,
              "orig_size_bytes": 2320,
              "truncated_num_cols": 28,
              "truncated_num_rows": 10,
              "truncated_size_bytes": 2320,
              "truncated_string_columns": []
            },
            "display_id": "81e0093c-ad7a-4b0c-a082-0e794c762a9f",
            "dx_settings": {
              "ALLOW_NOTEABLE_ATTRS": true,
              "COLUMN_SAMPLING_METHOD": "outer",
              "DB_LOCATION": ":memory:",
              "DEV_MODE": false,
              "DISPLAY_MAX_COLUMNS": 100,
              "DISPLAY_MAX_ROWS": 50000,
              "DISPLAY_MODE": "simple",
              "ENABLE_ASSIGNMENT": true,
              "ENABLE_DATALINK": true,
              "FLATTEN_COLUMN_VALUES": true,
              "FLATTEN_INDEX_VALUES": false,
              "GENERATE_DEX_METADATA": false,
              "HTML_TABLE_SCHEMA": false,
              "LOG_LEVEL": 30,
              "MAX_RENDER_SIZE_BYTES": 104857600,
              "MAX_STRING_LENGTH": 250,
              "NUM_PAST_SAMPLES_TRACKED": 3,
              "RANDOM_STATE": 12648430,
              "RESET_INDEX_VALUES": false,
              "ROW_SAMPLING_METHOD": "random",
              "SAMPLING_FACTOR": 0.1,
              "SAMPLING_METHOD": "random",
              "STRINGIFY_COLUMN_VALUES": true,
              "STRINGIFY_INDEX_VALUES": false
            },
            "sample_history": [],
            "sampling_time": "2023-09-23T22:29:18.706778",
            "user_variable_name": null,
            "variable_name": "unk_dataframe_18681df2efc6494b9fe2344e58f77fe8"
          },
          "678cbf29-84ba-40eb-be00-394eff2b6e63": {
            "applied_filters": [],
            "dataframe_info": {
              "default_index_used": false,
              "orig_num_cols": 28,
              "orig_num_rows": 10,
              "orig_size_bytes": 2320,
              "truncated_num_cols": 28,
              "truncated_num_rows": 10,
              "truncated_size_bytes": 2320,
              "truncated_string_columns": []
            },
            "display_id": "678cbf29-84ba-40eb-be00-394eff2b6e63",
            "dx_settings": {
              "ALLOW_NOTEABLE_ATTRS": true,
              "COLUMN_SAMPLING_METHOD": "outer",
              "DB_LOCATION": ":memory:",
              "DEV_MODE": false,
              "DISPLAY_MAX_COLUMNS": 100,
              "DISPLAY_MAX_ROWS": 50000,
              "DISPLAY_MODE": "simple",
              "ENABLE_ASSIGNMENT": true,
              "ENABLE_DATALINK": true,
              "FLATTEN_COLUMN_VALUES": true,
              "FLATTEN_INDEX_VALUES": false,
              "GENERATE_DEX_METADATA": false,
              "HTML_TABLE_SCHEMA": false,
              "LOG_LEVEL": 30,
              "MAX_RENDER_SIZE_BYTES": 104857600,
              "MAX_STRING_LENGTH": 250,
              "NUM_PAST_SAMPLES_TRACKED": 3,
              "RANDOM_STATE": 12648430,
              "RESET_INDEX_VALUES": false,
              "ROW_SAMPLING_METHOD": "random",
              "SAMPLING_FACTOR": 0.1,
              "SAMPLING_METHOD": "random",
              "STRINGIFY_COLUMN_VALUES": true,
              "STRINGIFY_INDEX_VALUES": false
            },
            "sample_history": [],
            "sampling_time": "2023-09-24T01:11:21.846189",
            "user_variable_name": null,
            "variable_name": "unk_dataframe_84a105d6e092438984b85b75685a7821"
          },
          "831fc86e-93af-45d0-b9b7-c7455aef360f": {
            "applied_filters": [],
            "dataframe_info": {
              "default_index_used": false,
              "orig_num_cols": 28,
              "orig_num_rows": 10,
              "orig_size_bytes": 2320,
              "truncated_num_cols": 28,
              "truncated_num_rows": 10,
              "truncated_size_bytes": 2320,
              "truncated_string_columns": []
            },
            "display_id": "831fc86e-93af-45d0-b9b7-c7455aef360f",
            "dx_settings": {
              "ALLOW_NOTEABLE_ATTRS": true,
              "COLUMN_SAMPLING_METHOD": "outer",
              "DB_LOCATION": ":memory:",
              "DEV_MODE": false,
              "DISPLAY_MAX_COLUMNS": 100,
              "DISPLAY_MAX_ROWS": 50000,
              "DISPLAY_MODE": "simple",
              "ENABLE_ASSIGNMENT": true,
              "ENABLE_DATALINK": true,
              "FLATTEN_COLUMN_VALUES": true,
              "FLATTEN_INDEX_VALUES": false,
              "GENERATE_DEX_METADATA": false,
              "HTML_TABLE_SCHEMA": false,
              "LOG_LEVEL": 30,
              "MAX_RENDER_SIZE_BYTES": 104857600,
              "MAX_STRING_LENGTH": 250,
              "NUM_PAST_SAMPLES_TRACKED": 3,
              "RANDOM_STATE": 12648430,
              "RESET_INDEX_VALUES": false,
              "ROW_SAMPLING_METHOD": "random",
              "SAMPLING_FACTOR": 0.1,
              "SAMPLING_METHOD": "random",
              "STRINGIFY_COLUMN_VALUES": true,
              "STRINGIFY_INDEX_VALUES": false
            },
            "sample_history": [],
            "sampling_time": "2023-09-24T04:12:00.967270",
            "user_variable_name": null,
            "variable_name": "unk_dataframe_463e937656734ed2ba3490fccb5af656"
          },
          "2cd6b5ff-1d95-4228-8014-31f64a61b0d3": {
            "applied_filters": [],
            "dataframe_info": {
              "default_index_used": false,
              "orig_num_cols": 28,
              "orig_num_rows": 10,
              "orig_size_bytes": 2320,
              "truncated_num_cols": 28,
              "truncated_num_rows": 10,
              "truncated_size_bytes": 2320,
              "truncated_string_columns": []
            },
            "display_id": "2cd6b5ff-1d95-4228-8014-31f64a61b0d3",
            "dx_settings": {
              "ALLOW_NOTEABLE_ATTRS": true,
              "COLUMN_SAMPLING_METHOD": "outer",
              "DB_LOCATION": ":memory:",
              "DEV_MODE": false,
              "DISPLAY_MAX_COLUMNS": 100,
              "DISPLAY_MAX_ROWS": 50000,
              "DISPLAY_MODE": "simple",
              "ENABLE_ASSIGNMENT": true,
              "ENABLE_DATALINK": true,
              "FLATTEN_COLUMN_VALUES": true,
              "FLATTEN_INDEX_VALUES": false,
              "GENERATE_DEX_METADATA": false,
              "HTML_TABLE_SCHEMA": false,
              "LOG_LEVEL": 30,
              "MAX_RENDER_SIZE_BYTES": 104857600,
              "MAX_STRING_LENGTH": 250,
              "NUM_PAST_SAMPLES_TRACKED": 3,
              "RANDOM_STATE": 12648430,
              "RESET_INDEX_VALUES": false,
              "ROW_SAMPLING_METHOD": "random",
              "SAMPLING_FACTOR": 0.1,
              "SAMPLING_METHOD": "random",
              "STRINGIFY_COLUMN_VALUES": true,
              "STRINGIFY_INDEX_VALUES": false
            },
            "sample_history": [],
            "sampling_time": "2023-09-24T16:42:51.567615",
            "user_variable_name": null,
            "variable_name": "unk_dataframe_1afc1dc19289468b9848a1a28982a0fd"
          }
        }
      },
      "execution_count": null,
      "source": "world_inv_2023_T",
      "outputs": []
    },
    {
      "id": "735e5353-b3b2-451f-a986-065c86a7dc63",
      "cell_type": "code",
      "metadata": {
        "jupyter": {
          "outputs_hidden": false,
          "source_hidden": false
        },
        "noteable": {
          "cell_type": "code",
          "output_collection_id": "2ffe7818-de76-4dcc-bde5-658e5a254d15"
        },
        "ExecuteTime": {
          "end_time": "2023-09-24T16:42:51.891372+00:00",
          "start_time": "2023-09-24T16:42:51.736278+00:00"
        }
      },
      "execution_count": null,
      "source": " # Drop the first row\n    \nworld_inv_2023_T = world_inv_2023_T.drop(world_inv_2023_T.index[0]) \n",
      "outputs": []
    },
    {
      "id": "6ef62b4c-7d6a-4876-a86a-7c234da82b68",
      "cell_type": "code",
      "metadata": {
        "jupyter": {
          "outputs_hidden": false,
          "source_hidden": false
        },
        "noteable": {
          "cell_type": "code",
          "output_collection_id": "f139ce03-0d40-4b11-bbcb-cd3178640235"
        },
        "ExecuteTime": {
          "end_time": "2023-09-24T16:42:52.160050+00:00",
          "start_time": "2023-09-24T16:42:51.896678+00:00"
        },
        "datalink": {
          "947dfe29-73b3-4f67-a83e-1227b09afa86": {
            "applied_filters": [],
            "dataframe_info": {
              "default_index_used": false,
              "orig_num_cols": 32,
              "orig_num_rows": 10,
              "orig_size_bytes": 2640,
              "truncated_num_cols": 32,
              "truncated_num_rows": 10,
              "truncated_size_bytes": 2640,
              "truncated_string_columns": []
            },
            "display_id": "947dfe29-73b3-4f67-a83e-1227b09afa86",
            "dx_settings": {
              "ALLOW_NOTEABLE_ATTRS": true,
              "COLUMN_SAMPLING_METHOD": "outer",
              "DB_LOCATION": ":memory:",
              "DEV_MODE": false,
              "DISPLAY_MAX_COLUMNS": 100,
              "DISPLAY_MAX_ROWS": 50000,
              "DISPLAY_MODE": "simple",
              "ENABLE_ASSIGNMENT": true,
              "ENABLE_DATALINK": true,
              "FLATTEN_COLUMN_VALUES": true,
              "FLATTEN_INDEX_VALUES": false,
              "GENERATE_DEX_METADATA": false,
              "HTML_TABLE_SCHEMA": false,
              "LOG_LEVEL": 30,
              "MAX_RENDER_SIZE_BYTES": 104857600,
              "MAX_STRING_LENGTH": 250,
              "NUM_PAST_SAMPLES_TRACKED": 3,
              "RANDOM_STATE": 12648430,
              "RESET_INDEX_VALUES": false,
              "ROW_SAMPLING_METHOD": "random",
              "SAMPLING_FACTOR": 0.1,
              "SAMPLING_METHOD": "random",
              "STRINGIFY_COLUMN_VALUES": true,
              "STRINGIFY_INDEX_VALUES": false
            },
            "sample_history": [],
            "sampling_time": "2023-09-23T21:49:13.797197",
            "user_variable_name": null,
            "variable_name": "unk_dataframe_6b5dbf7016ea45108106bcf709a4cbcc"
          },
          "6a420a4e-efcd-4aa9-bbed-a4c42c2e7546": {
            "applied_filters": [],
            "dataframe_info": {
              "default_index_used": false,
              "orig_num_cols": 28,
              "orig_num_rows": 9,
              "orig_size_bytes": 2088,
              "truncated_num_cols": 28,
              "truncated_num_rows": 9,
              "truncated_size_bytes": 2088,
              "truncated_string_columns": []
            },
            "display_id": "6a420a4e-efcd-4aa9-bbed-a4c42c2e7546",
            "dx_settings": {
              "ALLOW_NOTEABLE_ATTRS": true,
              "COLUMN_SAMPLING_METHOD": "outer",
              "DB_LOCATION": ":memory:",
              "DEV_MODE": false,
              "DISPLAY_MAX_COLUMNS": 100,
              "DISPLAY_MAX_ROWS": 50000,
              "DISPLAY_MODE": "simple",
              "ENABLE_ASSIGNMENT": true,
              "ENABLE_DATALINK": true,
              "FLATTEN_COLUMN_VALUES": true,
              "FLATTEN_INDEX_VALUES": false,
              "GENERATE_DEX_METADATA": false,
              "HTML_TABLE_SCHEMA": false,
              "LOG_LEVEL": 30,
              "MAX_RENDER_SIZE_BYTES": 104857600,
              "MAX_STRING_LENGTH": 250,
              "NUM_PAST_SAMPLES_TRACKED": 3,
              "RANDOM_STATE": 12648430,
              "RESET_INDEX_VALUES": false,
              "ROW_SAMPLING_METHOD": "random",
              "SAMPLING_FACTOR": 0.1,
              "SAMPLING_METHOD": "random",
              "STRINGIFY_COLUMN_VALUES": true,
              "STRINGIFY_INDEX_VALUES": false
            },
            "sample_history": [],
            "sampling_time": "2023-09-23T22:31:04.102854",
            "user_variable_name": null,
            "variable_name": "unk_dataframe_fb59db2f1779439098ce366173e0578e"
          },
          "443a1cb3-7179-46e8-86a4-0cc1e68d2d57": {
            "applied_filters": [],
            "dataframe_info": {
              "default_index_used": false,
              "orig_num_cols": 28,
              "orig_num_rows": 9,
              "orig_size_bytes": 2088,
              "truncated_num_cols": 28,
              "truncated_num_rows": 9,
              "truncated_size_bytes": 2088,
              "truncated_string_columns": []
            },
            "display_id": "443a1cb3-7179-46e8-86a4-0cc1e68d2d57",
            "dx_settings": {
              "ALLOW_NOTEABLE_ATTRS": true,
              "COLUMN_SAMPLING_METHOD": "outer",
              "DB_LOCATION": ":memory:",
              "DEV_MODE": false,
              "DISPLAY_MAX_COLUMNS": 100,
              "DISPLAY_MAX_ROWS": 50000,
              "DISPLAY_MODE": "simple",
              "ENABLE_ASSIGNMENT": true,
              "ENABLE_DATALINK": true,
              "FLATTEN_COLUMN_VALUES": true,
              "FLATTEN_INDEX_VALUES": false,
              "GENERATE_DEX_METADATA": false,
              "HTML_TABLE_SCHEMA": false,
              "LOG_LEVEL": 30,
              "MAX_RENDER_SIZE_BYTES": 104857600,
              "MAX_STRING_LENGTH": 250,
              "NUM_PAST_SAMPLES_TRACKED": 3,
              "RANDOM_STATE": 12648430,
              "RESET_INDEX_VALUES": false,
              "ROW_SAMPLING_METHOD": "random",
              "SAMPLING_FACTOR": 0.1,
              "SAMPLING_METHOD": "random",
              "STRINGIFY_COLUMN_VALUES": true,
              "STRINGIFY_INDEX_VALUES": false
            },
            "sample_history": [],
            "sampling_time": "2023-09-24T01:11:46.930688",
            "user_variable_name": null,
            "variable_name": "unk_dataframe_f68abd38623f4fd98bf5e875913e27f3"
          },
          "3c4b896c-7707-4eb9-a12c-e692e56965f3": {
            "applied_filters": [],
            "dataframe_info": {
              "default_index_used": false,
              "orig_num_cols": 28,
              "orig_num_rows": 9,
              "orig_size_bytes": 2088,
              "truncated_num_cols": 28,
              "truncated_num_rows": 9,
              "truncated_size_bytes": 2088,
              "truncated_string_columns": []
            },
            "display_id": "3c4b896c-7707-4eb9-a12c-e692e56965f3",
            "dx_settings": {
              "ALLOW_NOTEABLE_ATTRS": true,
              "COLUMN_SAMPLING_METHOD": "outer",
              "DB_LOCATION": ":memory:",
              "DEV_MODE": false,
              "DISPLAY_MAX_COLUMNS": 100,
              "DISPLAY_MAX_ROWS": 50000,
              "DISPLAY_MODE": "simple",
              "ENABLE_ASSIGNMENT": true,
              "ENABLE_DATALINK": true,
              "FLATTEN_COLUMN_VALUES": true,
              "FLATTEN_INDEX_VALUES": false,
              "GENERATE_DEX_METADATA": false,
              "HTML_TABLE_SCHEMA": false,
              "LOG_LEVEL": 30,
              "MAX_RENDER_SIZE_BYTES": 104857600,
              "MAX_STRING_LENGTH": 250,
              "NUM_PAST_SAMPLES_TRACKED": 3,
              "RANDOM_STATE": 12648430,
              "RESET_INDEX_VALUES": false,
              "ROW_SAMPLING_METHOD": "random",
              "SAMPLING_FACTOR": 0.1,
              "SAMPLING_METHOD": "random",
              "STRINGIFY_COLUMN_VALUES": true,
              "STRINGIFY_INDEX_VALUES": false
            },
            "sample_history": [],
            "sampling_time": "2023-09-24T04:12:06.957242",
            "user_variable_name": null,
            "variable_name": "unk_dataframe_d3b35cfb533842248ae96ab7f30f8111"
          },
          "15c2cca9-21c4-4ac2-b197-6ea67a038dfc": {
            "applied_filters": [],
            "dataframe_info": {
              "default_index_used": false,
              "orig_num_cols": 28,
              "orig_num_rows": 9,
              "orig_size_bytes": 2088,
              "truncated_num_cols": 28,
              "truncated_num_rows": 9,
              "truncated_size_bytes": 2088,
              "truncated_string_columns": []
            },
            "display_id": "15c2cca9-21c4-4ac2-b197-6ea67a038dfc",
            "dx_settings": {
              "ALLOW_NOTEABLE_ATTRS": true,
              "COLUMN_SAMPLING_METHOD": "outer",
              "DB_LOCATION": ":memory:",
              "DEV_MODE": false,
              "DISPLAY_MAX_COLUMNS": 100,
              "DISPLAY_MAX_ROWS": 50000,
              "DISPLAY_MODE": "simple",
              "ENABLE_ASSIGNMENT": true,
              "ENABLE_DATALINK": true,
              "FLATTEN_COLUMN_VALUES": true,
              "FLATTEN_INDEX_VALUES": false,
              "GENERATE_DEX_METADATA": false,
              "HTML_TABLE_SCHEMA": false,
              "LOG_LEVEL": 30,
              "MAX_RENDER_SIZE_BYTES": 104857600,
              "MAX_STRING_LENGTH": 250,
              "NUM_PAST_SAMPLES_TRACKED": 3,
              "RANDOM_STATE": 12648430,
              "RESET_INDEX_VALUES": false,
              "ROW_SAMPLING_METHOD": "random",
              "SAMPLING_FACTOR": 0.1,
              "SAMPLING_METHOD": "random",
              "STRINGIFY_COLUMN_VALUES": true,
              "STRINGIFY_INDEX_VALUES": false
            },
            "sample_history": [],
            "sampling_time": "2023-09-24T16:42:51.997091",
            "user_variable_name": null,
            "variable_name": "unk_dataframe_63c2be9e011c48ba8994a104c671247a"
          }
        }
      },
      "execution_count": null,
      "source": "world_inv_2023_T",
      "outputs": []
    },
    {
      "id": "24bcabd4-8f99-4ace-a789-b521b1d85dbb",
      "cell_type": "code",
      "metadata": {
        "jupyter": {
          "outputs_hidden": false,
          "source_hidden": false
        },
        "noteable": {
          "cell_type": "code",
          "output_collection_id": "cee96b8f-5c48-4dea-b480-c9bc2f1f8b9d"
        },
        "ExecuteTime": {
          "end_time": "2023-09-24T16:42:52.319807+00:00",
          "start_time": "2023-09-24T16:42:52.166269+00:00"
        },
        "datalink": {
          "1171d7a4-7497-4f2c-a3f3-e8d03c5164a5": {
            "applied_filters": [],
            "dataframe_info": {
              "default_index_used": false,
              "orig_num_cols": 32,
              "orig_num_rows": 10,
              "orig_size_bytes": 2640,
              "truncated_num_cols": 32,
              "truncated_num_rows": 10,
              "truncated_size_bytes": 2640,
              "truncated_string_columns": []
            },
            "display_id": "1171d7a4-7497-4f2c-a3f3-e8d03c5164a5",
            "dx_settings": {
              "ALLOW_NOTEABLE_ATTRS": true,
              "COLUMN_SAMPLING_METHOD": "outer",
              "DB_LOCATION": ":memory:",
              "DEV_MODE": false,
              "DISPLAY_MAX_COLUMNS": 100,
              "DISPLAY_MAX_ROWS": 50000,
              "DISPLAY_MODE": "simple",
              "ENABLE_ASSIGNMENT": true,
              "ENABLE_DATALINK": true,
              "FLATTEN_COLUMN_VALUES": true,
              "FLATTEN_INDEX_VALUES": false,
              "GENERATE_DEX_METADATA": false,
              "HTML_TABLE_SCHEMA": false,
              "LOG_LEVEL": 30,
              "MAX_RENDER_SIZE_BYTES": 104857600,
              "MAX_STRING_LENGTH": 250,
              "NUM_PAST_SAMPLES_TRACKED": 3,
              "RANDOM_STATE": 12648430,
              "RESET_INDEX_VALUES": false,
              "ROW_SAMPLING_METHOD": "random",
              "SAMPLING_FACTOR": 0.1,
              "SAMPLING_METHOD": "random",
              "STRINGIFY_COLUMN_VALUES": true,
              "STRINGIFY_INDEX_VALUES": false
            },
            "sample_history": [],
            "sampling_time": "2023-09-23T21:50:13.640125",
            "user_variable_name": "world_inv_2023_T",
            "variable_name": "world_inv_2023_T"
          }
        }
      },
      "execution_count": null,
      "source": "#resetting the index \n\nworld_inv_2023_T = world_inv_2023_T.reset_index(drop=True)\n",
      "outputs": []
    },
    {
      "id": "800c6f5d-8f44-4b12-b676-6894e7ce0be2",
      "cell_type": "code",
      "metadata": {
        "jupyter": {
          "outputs_hidden": false,
          "source_hidden": false
        },
        "noteable": {
          "cell_type": "code",
          "output_collection_id": "b0af531c-a0ff-4795-b65e-c5db28d185e9"
        },
        "ExecuteTime": {
          "end_time": "2023-09-24T16:42:52.595808+00:00",
          "start_time": "2023-09-24T16:42:52.325938+00:00"
        },
        "datalink": {
          "57d6225b-3cc7-4ab6-801f-32b2bac3ae28": {
            "applied_filters": [],
            "dataframe_info": {
              "default_index_used": true,
              "orig_num_cols": 28,
              "orig_num_rows": 9,
              "orig_size_bytes": 2088,
              "truncated_num_cols": 28,
              "truncated_num_rows": 9,
              "truncated_size_bytes": 2088,
              "truncated_string_columns": []
            },
            "display_id": "57d6225b-3cc7-4ab6-801f-32b2bac3ae28",
            "dx_settings": {
              "ALLOW_NOTEABLE_ATTRS": true,
              "COLUMN_SAMPLING_METHOD": "outer",
              "DB_LOCATION": ":memory:",
              "DEV_MODE": false,
              "DISPLAY_MAX_COLUMNS": 100,
              "DISPLAY_MAX_ROWS": 50000,
              "DISPLAY_MODE": "simple",
              "ENABLE_ASSIGNMENT": true,
              "ENABLE_DATALINK": true,
              "FLATTEN_COLUMN_VALUES": true,
              "FLATTEN_INDEX_VALUES": false,
              "GENERATE_DEX_METADATA": false,
              "HTML_TABLE_SCHEMA": false,
              "LOG_LEVEL": 30,
              "MAX_RENDER_SIZE_BYTES": 104857600,
              "MAX_STRING_LENGTH": 250,
              "NUM_PAST_SAMPLES_TRACKED": 3,
              "RANDOM_STATE": 12648430,
              "RESET_INDEX_VALUES": false,
              "ROW_SAMPLING_METHOD": "random",
              "SAMPLING_FACTOR": 0.1,
              "SAMPLING_METHOD": "random",
              "STRINGIFY_COLUMN_VALUES": true,
              "STRINGIFY_INDEX_VALUES": false
            },
            "sample_history": [],
            "sampling_time": "2023-09-23T22:31:44.056761",
            "user_variable_name": null,
            "variable_name": "unk_dataframe_e42c8964ccc547b090a4fa346e3b8d8f"
          },
          "72f492db-e221-4bdd-bf08-669402a703bd": {
            "applied_filters": [],
            "dataframe_info": {
              "default_index_used": true,
              "orig_num_cols": 28,
              "orig_num_rows": 9,
              "orig_size_bytes": 2088,
              "truncated_num_cols": 28,
              "truncated_num_rows": 9,
              "truncated_size_bytes": 2088,
              "truncated_string_columns": []
            },
            "display_id": "72f492db-e221-4bdd-bf08-669402a703bd",
            "dx_settings": {
              "ALLOW_NOTEABLE_ATTRS": true,
              "COLUMN_SAMPLING_METHOD": "outer",
              "DB_LOCATION": ":memory:",
              "DEV_MODE": false,
              "DISPLAY_MAX_COLUMNS": 100,
              "DISPLAY_MAX_ROWS": 50000,
              "DISPLAY_MODE": "simple",
              "ENABLE_ASSIGNMENT": true,
              "ENABLE_DATALINK": true,
              "FLATTEN_COLUMN_VALUES": true,
              "FLATTEN_INDEX_VALUES": false,
              "GENERATE_DEX_METADATA": false,
              "HTML_TABLE_SCHEMA": false,
              "LOG_LEVEL": 30,
              "MAX_RENDER_SIZE_BYTES": 104857600,
              "MAX_STRING_LENGTH": 250,
              "NUM_PAST_SAMPLES_TRACKED": 3,
              "RANDOM_STATE": 12648430,
              "RESET_INDEX_VALUES": false,
              "ROW_SAMPLING_METHOD": "random",
              "SAMPLING_FACTOR": 0.1,
              "SAMPLING_METHOD": "random",
              "STRINGIFY_COLUMN_VALUES": true,
              "STRINGIFY_INDEX_VALUES": false
            },
            "sample_history": [],
            "sampling_time": "2023-09-24T01:11:51.383522",
            "user_variable_name": null,
            "variable_name": "unk_dataframe_5f8b2e9ab64c456191b4cb4118702b1f"
          },
          "d79f7ed5-3144-41ba-b39e-52df88118a24": {
            "applied_filters": [],
            "dataframe_info": {
              "default_index_used": true,
              "orig_num_cols": 28,
              "orig_num_rows": 9,
              "orig_size_bytes": 2088,
              "truncated_num_cols": 28,
              "truncated_num_rows": 9,
              "truncated_size_bytes": 2088,
              "truncated_string_columns": []
            },
            "display_id": "d79f7ed5-3144-41ba-b39e-52df88118a24",
            "dx_settings": {
              "ALLOW_NOTEABLE_ATTRS": true,
              "COLUMN_SAMPLING_METHOD": "outer",
              "DB_LOCATION": ":memory:",
              "DEV_MODE": false,
              "DISPLAY_MAX_COLUMNS": 100,
              "DISPLAY_MAX_ROWS": 50000,
              "DISPLAY_MODE": "simple",
              "ENABLE_ASSIGNMENT": true,
              "ENABLE_DATALINK": true,
              "FLATTEN_COLUMN_VALUES": true,
              "FLATTEN_INDEX_VALUES": false,
              "GENERATE_DEX_METADATA": false,
              "HTML_TABLE_SCHEMA": false,
              "LOG_LEVEL": 30,
              "MAX_RENDER_SIZE_BYTES": 104857600,
              "MAX_STRING_LENGTH": 250,
              "NUM_PAST_SAMPLES_TRACKED": 3,
              "RANDOM_STATE": 12648430,
              "RESET_INDEX_VALUES": false,
              "ROW_SAMPLING_METHOD": "random",
              "SAMPLING_FACTOR": 0.1,
              "SAMPLING_METHOD": "random",
              "STRINGIFY_COLUMN_VALUES": true,
              "STRINGIFY_INDEX_VALUES": false
            },
            "sample_history": [],
            "sampling_time": "2023-09-24T04:12:12.813100",
            "user_variable_name": null,
            "variable_name": "unk_dataframe_9df3b86156fe4f43acbbd380f4580042"
          },
          "3ed808d5-f275-4118-a52f-1944f6a6e47b": {
            "applied_filters": [],
            "dataframe_info": {
              "default_index_used": true,
              "orig_num_cols": 28,
              "orig_num_rows": 9,
              "orig_size_bytes": 2088,
              "truncated_num_cols": 28,
              "truncated_num_rows": 9,
              "truncated_size_bytes": 2088,
              "truncated_string_columns": []
            },
            "display_id": "3ed808d5-f275-4118-a52f-1944f6a6e47b",
            "dx_settings": {
              "ALLOW_NOTEABLE_ATTRS": true,
              "COLUMN_SAMPLING_METHOD": "outer",
              "DB_LOCATION": ":memory:",
              "DEV_MODE": false,
              "DISPLAY_MAX_COLUMNS": 100,
              "DISPLAY_MAX_ROWS": 50000,
              "DISPLAY_MODE": "simple",
              "ENABLE_ASSIGNMENT": true,
              "ENABLE_DATALINK": true,
              "FLATTEN_COLUMN_VALUES": true,
              "FLATTEN_INDEX_VALUES": false,
              "GENERATE_DEX_METADATA": false,
              "HTML_TABLE_SCHEMA": false,
              "LOG_LEVEL": 30,
              "MAX_RENDER_SIZE_BYTES": 104857600,
              "MAX_STRING_LENGTH": 250,
              "NUM_PAST_SAMPLES_TRACKED": 3,
              "RANDOM_STATE": 12648430,
              "RESET_INDEX_VALUES": false,
              "ROW_SAMPLING_METHOD": "random",
              "SAMPLING_FACTOR": 0.1,
              "SAMPLING_METHOD": "random",
              "STRINGIFY_COLUMN_VALUES": true,
              "STRINGIFY_INDEX_VALUES": false
            },
            "sample_history": [],
            "sampling_time": "2023-09-24T16:42:52.430875",
            "user_variable_name": null,
            "variable_name": "unk_dataframe_248f2953474749aa9d6bf7671f4c092c"
          }
        },
        "dx": {
          "dashboard": {
            "multiViews": []
          },
          "fieldMetadata": {
            "Clean Fuels": {
              "columnPosition": 20
            },
            "Coal": {
              "columnPosition": 19
            },
            "Coal_1": {
              "columnPosition": 23
            },
            "Electricity networks": {
              "columnPosition": 9
            },
            "Electricity networks_1": {
              "columnPosition": 28
            },
            "End-use": {
              "columnPosition": 11
            },
            "Energy efficiency": {
              "columnPosition": 12
            },
            "Fossil fuels": {
              "columnPosition": 16
            },
            "Fossil fuels without CCUS": {
              "columnPosition": 6
            },
            "Fossil fuels: with CCUS": {
              "columnPosition": 26
            },
            "Fuels": {
              "columnPosition": 15
            },
            "Gas": {
              "columnPosition": 18
            },
            "Generation": {
              "columnPosition": 22
            },
            "Memo: Oil & gas upstream": {
              "columnPosition": 29
            },
            "Nuclear": {
              "columnPosition": 25
            },
            "Oil": {
              "columnPosition": 17
            },
            "Oil and natural gas": {
              "columnPosition": 24
            },
            "Other end-use": {
              "columnPosition": 13
            },
            "Other end-use renewables": {
              "columnPosition": 14
            },
            "Other supply": {
              "columnPosition": 10
            },
            "Power": {
              "columnPosition": 21
            },
            "Renewables": {
              "columnPosition": 7
            },
            "Renewables_1": {
              "columnPosition": 8
            },
            "Storage": {
              "columnPosition": 27
            },
            "Supply (by type)": {
              "columnPosition": 5
            },
            "Total (billion $2022)": {
              "columnPosition": 3
            },
            "World": {
              "columnPosition": 2
            },
            "index": {
              "columnPosition": 1
            },
            "of which: Clean energy": {
              "columnPosition": 4
            }
          },
          "simpleTable": true,
          "updated": 1695508548947,
          "views": [
            {
              "annotationRules": [],
              "chart": {},
              "chartMode": "grid",
              "confoRules": [],
              "decoration": {
                "footer": "",
                "subtitle": "",
                "title": "Table"
              },
              "facets": [],
              "filterSettings": {
                "SHOW_FILTER_PANEL": true,
                "filters": []
              },
              "id": "first-view",
              "isDefault": true,
              "type": "public",
              "userID": ""
            },
            {
              "annotationRules": [],
              "chart": {},
              "chartMode": "grid",
              "confoRules": [],
              "decoration": {
                "footer": "",
                "subtitle": "",
                "title": "Table"
              },
              "facets": [],
              "filterSettings": {
                "SHOW_FILTER_PANEL": true,
                "filters": []
              },
              "id": "first-view",
              "isDefault": true,
              "isTransitory": true,
              "type": "public",
              "userID": ""
            },
            {
              "annotationRules": [],
              "chart": {},
              "chartMode": "empty",
              "confoRules": [],
              "decoration": {
                "footer": "",
                "subtitle": "",
                "title": "New View"
              },
              "facets": [],
              "filterSettings": {
                "SHOW_FILTER_PANEL": true,
                "filters": []
              },
              "id": "348048e1-1cfe-4b47-9b26-d9f5f4a760d0",
              "isDefault": false,
              "type": "public",
              "userID": ""
            },
            {
              "annotationRules": [],
              "chart": {
                "barProjection": "radial",
                "columnLine": true,
                "facets": [],
                "metric1": "index",
                "radarData": "column"
              },
              "chartMode": "dotplot",
              "confoRules": [],
              "decoration": {
                "footer": "",
                "subtitle": "",
                "title": "Column Line"
              },
              "facets": [],
              "filterSettings": {
                "SHOW_FILTER_PANEL": true,
                "filters": []
              },
              "id": "348048e1-1cfe-4b47-9b26-d9f5f4a760d0",
              "isDefault": false,
              "isTransitory": true,
              "type": "public",
              "userID": ""
            }
          ]
        }
      },
      "execution_count": null,
      "source": "world_inv_2023_T",
      "outputs": []
    },
    {
      "id": "31a0cee9-bdfe-4d35-9ee3-7ffa269e88a1",
      "cell_type": "code",
      "metadata": {
        "jupyter": {
          "outputs_hidden": false,
          "source_hidden": false
        },
        "noteable": {
          "cell_type": "code",
          "output_collection_id": "37db8a00-9a8c-4953-9be6-15e2cda85877"
        },
        "ExecuteTime": {
          "end_time": "2023-09-24T16:42:52.906667+00:00",
          "start_time": "2023-09-24T16:42:52.633472+00:00"
        },
        "datalink": {
          "c40cba34-858f-4c9e-bf00-b84625dc213b": {
            "applied_filters": [],
            "dataframe_info": {
              "default_index_used": true,
              "orig_num_cols": 28,
              "orig_num_rows": 9,
              "orig_size_bytes": 2088,
              "truncated_num_cols": 28,
              "truncated_num_rows": 9,
              "truncated_size_bytes": 2088,
              "truncated_string_columns": []
            },
            "display_id": "c40cba34-858f-4c9e-bf00-b84625dc213b",
            "dx_settings": {
              "ALLOW_NOTEABLE_ATTRS": true,
              "COLUMN_SAMPLING_METHOD": "outer",
              "DB_LOCATION": ":memory:",
              "DEV_MODE": false,
              "DISPLAY_MAX_COLUMNS": 100,
              "DISPLAY_MAX_ROWS": 50000,
              "DISPLAY_MODE": "simple",
              "ENABLE_ASSIGNMENT": true,
              "ENABLE_DATALINK": true,
              "FLATTEN_COLUMN_VALUES": true,
              "FLATTEN_INDEX_VALUES": false,
              "GENERATE_DEX_METADATA": false,
              "HTML_TABLE_SCHEMA": false,
              "LOG_LEVEL": 30,
              "MAX_RENDER_SIZE_BYTES": 104857600,
              "MAX_STRING_LENGTH": 250,
              "NUM_PAST_SAMPLES_TRACKED": 3,
              "RANDOM_STATE": 12648430,
              "RESET_INDEX_VALUES": false,
              "ROW_SAMPLING_METHOD": "random",
              "SAMPLING_FACTOR": 0.1,
              "SAMPLING_METHOD": "random",
              "STRINGIFY_COLUMN_VALUES": true,
              "STRINGIFY_INDEX_VALUES": false
            },
            "sample_history": [],
            "sampling_time": "2023-09-23T22:50:27.321613",
            "user_variable_name": null,
            "variable_name": "unk_dataframe_2777a1d97e934312b87f01ba52a39e3d"
          },
          "21150785-4243-4876-8754-51bbfb74f9d5": {
            "applied_filters": [],
            "dataframe_info": {
              "default_index_used": true,
              "orig_num_cols": 28,
              "orig_num_rows": 9,
              "orig_size_bytes": 2088,
              "truncated_num_cols": 28,
              "truncated_num_rows": 9,
              "truncated_size_bytes": 2088,
              "truncated_string_columns": []
            },
            "display_id": "21150785-4243-4876-8754-51bbfb74f9d5",
            "dx_settings": {
              "ALLOW_NOTEABLE_ATTRS": true,
              "COLUMN_SAMPLING_METHOD": "outer",
              "DB_LOCATION": ":memory:",
              "DEV_MODE": false,
              "DISPLAY_MAX_COLUMNS": 100,
              "DISPLAY_MAX_ROWS": 50000,
              "DISPLAY_MODE": "simple",
              "ENABLE_ASSIGNMENT": true,
              "ENABLE_DATALINK": true,
              "FLATTEN_COLUMN_VALUES": true,
              "FLATTEN_INDEX_VALUES": false,
              "GENERATE_DEX_METADATA": false,
              "HTML_TABLE_SCHEMA": false,
              "LOG_LEVEL": 30,
              "MAX_RENDER_SIZE_BYTES": 104857600,
              "MAX_STRING_LENGTH": 250,
              "NUM_PAST_SAMPLES_TRACKED": 3,
              "RANDOM_STATE": 12648430,
              "RESET_INDEX_VALUES": false,
              "ROW_SAMPLING_METHOD": "random",
              "SAMPLING_FACTOR": 0.1,
              "SAMPLING_METHOD": "random",
              "STRINGIFY_COLUMN_VALUES": true,
              "STRINGIFY_INDEX_VALUES": false
            },
            "sample_history": [],
            "sampling_time": "2023-09-23T22:50:46.528444",
            "user_variable_name": null,
            "variable_name": "unk_dataframe_8165ed14b27d4c11a023110a4b1095a3"
          },
          "4961a6b9-786f-4760-8757-70df04fbd0ef": {
            "applied_filters": [],
            "dataframe_info": {
              "default_index_used": true,
              "orig_num_cols": 28,
              "orig_num_rows": 9,
              "orig_size_bytes": 2088,
              "truncated_num_cols": 28,
              "truncated_num_rows": 9,
              "truncated_size_bytes": 2088,
              "truncated_string_columns": []
            },
            "display_id": "4961a6b9-786f-4760-8757-70df04fbd0ef",
            "dx_settings": {
              "ALLOW_NOTEABLE_ATTRS": true,
              "COLUMN_SAMPLING_METHOD": "outer",
              "DB_LOCATION": ":memory:",
              "DEV_MODE": false,
              "DISPLAY_MAX_COLUMNS": 100,
              "DISPLAY_MAX_ROWS": 50000,
              "DISPLAY_MODE": "simple",
              "ENABLE_ASSIGNMENT": true,
              "ENABLE_DATALINK": true,
              "FLATTEN_COLUMN_VALUES": true,
              "FLATTEN_INDEX_VALUES": false,
              "GENERATE_DEX_METADATA": false,
              "HTML_TABLE_SCHEMA": false,
              "LOG_LEVEL": 30,
              "MAX_RENDER_SIZE_BYTES": 104857600,
              "MAX_STRING_LENGTH": 250,
              "NUM_PAST_SAMPLES_TRACKED": 3,
              "RANDOM_STATE": 12648430,
              "RESET_INDEX_VALUES": false,
              "ROW_SAMPLING_METHOD": "random",
              "SAMPLING_FACTOR": 0.1,
              "SAMPLING_METHOD": "random",
              "STRINGIFY_COLUMN_VALUES": true,
              "STRINGIFY_INDEX_VALUES": false
            },
            "sample_history": [],
            "sampling_time": "2023-09-23T22:51:44.401749",
            "user_variable_name": null,
            "variable_name": "unk_dataframe_54c4546b5df94bdc91fdac44a13d1162"
          },
          "3737cf77-3f5a-44b7-99fc-2d2bb7b0d206": {
            "applied_filters": [],
            "dataframe_info": {
              "default_index_used": true,
              "orig_num_cols": 28,
              "orig_num_rows": 9,
              "orig_size_bytes": 2088,
              "truncated_num_cols": 28,
              "truncated_num_rows": 9,
              "truncated_size_bytes": 2088,
              "truncated_string_columns": []
            },
            "display_id": "3737cf77-3f5a-44b7-99fc-2d2bb7b0d206",
            "dx_settings": {
              "ALLOW_NOTEABLE_ATTRS": true,
              "COLUMN_SAMPLING_METHOD": "outer",
              "DB_LOCATION": ":memory:",
              "DEV_MODE": false,
              "DISPLAY_MAX_COLUMNS": 100,
              "DISPLAY_MAX_ROWS": 50000,
              "DISPLAY_MODE": "simple",
              "ENABLE_ASSIGNMENT": true,
              "ENABLE_DATALINK": true,
              "FLATTEN_COLUMN_VALUES": true,
              "FLATTEN_INDEX_VALUES": false,
              "GENERATE_DEX_METADATA": false,
              "HTML_TABLE_SCHEMA": false,
              "LOG_LEVEL": 30,
              "MAX_RENDER_SIZE_BYTES": 104857600,
              "MAX_STRING_LENGTH": 250,
              "NUM_PAST_SAMPLES_TRACKED": 3,
              "RANDOM_STATE": 12648430,
              "RESET_INDEX_VALUES": false,
              "ROW_SAMPLING_METHOD": "random",
              "SAMPLING_FACTOR": 0.1,
              "SAMPLING_METHOD": "random",
              "STRINGIFY_COLUMN_VALUES": true,
              "STRINGIFY_INDEX_VALUES": false
            },
            "sample_history": [],
            "sampling_time": "2023-09-24T01:11:54.000678",
            "user_variable_name": null,
            "variable_name": "unk_dataframe_3c7c3350b82f410ca28cdb60231ec62a"
          },
          "c6d8607b-9634-48af-a6fd-274aa4c2048d": {
            "applied_filters": [],
            "dataframe_info": {
              "default_index_used": true,
              "orig_num_cols": 28,
              "orig_num_rows": 9,
              "orig_size_bytes": 2088,
              "truncated_num_cols": 28,
              "truncated_num_rows": 9,
              "truncated_size_bytes": 2088,
              "truncated_string_columns": []
            },
            "display_id": "c6d8607b-9634-48af-a6fd-274aa4c2048d",
            "dx_settings": {
              "ALLOW_NOTEABLE_ATTRS": true,
              "COLUMN_SAMPLING_METHOD": "outer",
              "DB_LOCATION": ":memory:",
              "DEV_MODE": false,
              "DISPLAY_MAX_COLUMNS": 100,
              "DISPLAY_MAX_ROWS": 50000,
              "DISPLAY_MODE": "simple",
              "ENABLE_ASSIGNMENT": true,
              "ENABLE_DATALINK": true,
              "FLATTEN_COLUMN_VALUES": true,
              "FLATTEN_INDEX_VALUES": false,
              "GENERATE_DEX_METADATA": false,
              "HTML_TABLE_SCHEMA": false,
              "LOG_LEVEL": 30,
              "MAX_RENDER_SIZE_BYTES": 104857600,
              "MAX_STRING_LENGTH": 250,
              "NUM_PAST_SAMPLES_TRACKED": 3,
              "RANDOM_STATE": 12648430,
              "RESET_INDEX_VALUES": false,
              "ROW_SAMPLING_METHOD": "random",
              "SAMPLING_FACTOR": 0.1,
              "SAMPLING_METHOD": "random",
              "STRINGIFY_COLUMN_VALUES": true,
              "STRINGIFY_INDEX_VALUES": false
            },
            "sample_history": [],
            "sampling_time": "2023-09-24T04:12:15.795017",
            "user_variable_name": null,
            "variable_name": "unk_dataframe_12442f798aca4d82849cad267a83d88a"
          },
          "69f90806-4c13-4fa9-8c23-bf01013fbcf4": {
            "applied_filters": [],
            "dataframe_info": {
              "default_index_used": true,
              "orig_num_cols": 28,
              "orig_num_rows": 9,
              "orig_size_bytes": 2088,
              "truncated_num_cols": 28,
              "truncated_num_rows": 9,
              "truncated_size_bytes": 2088,
              "truncated_string_columns": []
            },
            "display_id": "69f90806-4c13-4fa9-8c23-bf01013fbcf4",
            "dx_settings": {
              "ALLOW_NOTEABLE_ATTRS": true,
              "COLUMN_SAMPLING_METHOD": "outer",
              "DB_LOCATION": ":memory:",
              "DEV_MODE": false,
              "DISPLAY_MAX_COLUMNS": 100,
              "DISPLAY_MAX_ROWS": 50000,
              "DISPLAY_MODE": "simple",
              "ENABLE_ASSIGNMENT": true,
              "ENABLE_DATALINK": true,
              "FLATTEN_COLUMN_VALUES": true,
              "FLATTEN_INDEX_VALUES": false,
              "GENERATE_DEX_METADATA": false,
              "HTML_TABLE_SCHEMA": false,
              "LOG_LEVEL": 30,
              "MAX_RENDER_SIZE_BYTES": 104857600,
              "MAX_STRING_LENGTH": 250,
              "NUM_PAST_SAMPLES_TRACKED": 3,
              "RANDOM_STATE": 12648430,
              "RESET_INDEX_VALUES": false,
              "ROW_SAMPLING_METHOD": "random",
              "SAMPLING_FACTOR": 0.1,
              "SAMPLING_METHOD": "random",
              "STRINGIFY_COLUMN_VALUES": true,
              "STRINGIFY_INDEX_VALUES": false
            },
            "sample_history": [],
            "sampling_time": "2023-09-24T16:42:52.743574",
            "user_variable_name": null,
            "variable_name": "unk_dataframe_12d2f0e616404fec919338066fb75249"
          }
        },
        "dx": {
          "dashboard": {
            "multiViews": []
          },
          "fieldMetadata": {
            "Clean Fuels": {
              "columnPosition": 19
            },
            "clean_energy": {
              "columnPosition": 4,
              "overrideType": "integer"
            },
            "coal": {
              "columnPosition": 18
            },
            "coal_1": {
              "columnPosition": 22
            },
            "electricity_networks": {
              "columnPosition": 8,
              "overrideType": "integer"
            },
            "electricity_networks_1": {
              "columnPosition": 28
            },
            "end_use": {
              "columnPosition": 10,
              "overrideType": "integer"
            },
            "energy_efficiency": {
              "columnPosition": 11,
              "overrideType": "integer"
            },
            "fossil_fuels": {
              "columnPosition": 15,
              "overrideType": "integer"
            },
            "fossil_fuels_with_ccus": {
              "columnPosition": 26
            },
            "fossil_fuels_without_ccus": {
              "columnPosition": 6,
              "overrideType": "integer"
            },
            "fuels": {
              "columnPosition": 14,
              "overrideType": "integer"
            },
            "gas": {
              "columnPosition": 17,
              "overrideType": "integer"
            },
            "generation": {
              "columnPosition": 21
            },
            "index": {
              "columnPosition": 1
            },
            "memo_oil_gas_upstream": {
              "columnPosition": 29
            },
            "nuclear": {
              "columnPosition": 24
            },
            "oil": {
              "columnPosition": 16,
              "overrideType": "integer"
            },
            "oil_natural_gas": {
              "columnPosition": 23
            },
            "other_end_use": {
              "columnPosition": 12,
              "overrideType": "integer"
            },
            "other_end_use_renewables": {
              "columnPosition": 13,
              "overrideType": "integer"
            },
            "other_supply": {
              "columnPosition": 9,
              "overrideType": "number"
            },
            "power": {
              "columnPosition": 20
            },
            "renewables": {
              "columnPosition": 7,
              "overrideType": "integer"
            },
            "renewables_1": {
              "columnPosition": 25
            },
            "storage": {
              "columnPosition": 27
            },
            "supply_type": {
              "columnPosition": 5,
              "overrideType": "integer"
            },
            "total_billions": {
              "columnPosition": 3,
              "overrideType": "integer"
            },
            "year": {
              "columnPosition": 2,
              "dateFormat": "yyyy",
              "format": "yyyy",
              "overrideType": "datetime"
            }
          },
          "updated": 1695518381386,
          "views": [
            {
              "annotationRules": [],
              "chart": {},
              "chartMode": "grid",
              "confoRules": [],
              "decoration": {
                "footer": "",
                "subtitle": "",
                "title": "Table"
              },
              "facets": [],
              "filterSettings": {
                "SHOW_FILTER_PANEL": true,
                "filters": []
              },
              "id": "first-view",
              "isDefault": true,
              "type": "public",
              "userID": ""
            },
            {
              "annotationRules": [],
              "chart": {},
              "chartMode": "grid",
              "confoRules": [],
              "decoration": {
                "footer": "",
                "subtitle": "",
                "title": "Table"
              },
              "facets": [],
              "filterSettings": {
                "SHOW_FILTER_PANEL": true,
                "filters": []
              },
              "id": "first-view",
              "isDefault": true,
              "isTransitory": true,
              "type": "public",
              "userID": ""
            },
            {
              "annotationRules": [],
              "chart": {},
              "chartMode": "empty",
              "confoRules": [],
              "decoration": {
                "footer": "",
                "subtitle": "",
                "title": "New View"
              },
              "facets": [],
              "filterSettings": {
                "SHOW_FILTER_PANEL": true,
                "filters": []
              },
              "id": "e94ba328-6aaf-4c8d-aaef-256ba1fc5a95",
              "isDefault": false,
              "type": "public",
              "userID": ""
            },
            {
              "annotationRules": [],
              "chart": {
                "facets": [],
                "lineType": "line",
                "selectedMetrics": [
                  "clean_energy",
                  "fossil_fuels",
                  "renewables"
                ]
              },
              "chartMode": "line",
              "confoRules": [],
              "decoration": {
                "footer": "",
                "subtitle": "",
                "title": "Line Chart"
              },
              "facets": [],
              "filterSettings": {
                "SHOW_FILTER_PANEL": true,
                "filters": []
              },
              "id": "e94ba328-6aaf-4c8d-aaef-256ba1fc5a95",
              "isDefault": false,
              "isTransitory": true,
              "type": "public",
              "userID": ""
            },
            {
              "annotationRules": [],
              "chart": {},
              "chartMode": "empty",
              "confoRules": [],
              "decoration": {
                "footer": "",
                "subtitle": "",
                "title": "New View"
              },
              "facets": [],
              "filterSettings": {
                "SHOW_FILTER_PANEL": true,
                "filters": []
              },
              "id": "dd6196c8-9f6f-4897-a15a-b75d8b26b116",
              "isDefault": false,
              "type": "public",
              "userID": ""
            },
            {
              "annotationRules": [],
              "chart": {
                "facets": [],
                "lineType": "line",
                "selectedMetrics": [
                  "energy_efficiency"
                ]
              },
              "chartMode": "line",
              "confoRules": [],
              "decoration": {
                "footer": "",
                "subtitle": "",
                "title": "Line Chart"
              },
              "facets": [],
              "filterSettings": {
                "SHOW_FILTER_PANEL": true,
                "filters": []
              },
              "id": "dd6196c8-9f6f-4897-a15a-b75d8b26b116",
              "isDefault": false,
              "isTransitory": true,
              "type": "public",
              "userID": ""
            }
          ]
        }
      },
      "execution_count": null,
      "source": "# Renaming columns for readability\n\nworld_inv_2023_T.rename(columns={\n    \"World\":\"year\",\n    \"Total (billion $2022)\": \"total_billions\",\n    \"of which: Clean energy\":\"clean_energy\",\n    \"Supply (by type)\":\"supply_type\",\n    \"Fossil fuels without CCUS\":\"fossil_fuels_without_ccus\",\n    \"Renewables\":\"renewables\",\n    \"Electricity networks\":\"electricity_networks\",\n    \"Other supply\":\"other_supply\",\n    \"End-use\":\"end_use\",\n    \"Energy efficiency\": \"energy_efficiency\",\n    \"Other end-use\":\"other_end_use\",\n    \"Other end-use renewables\":\"other_end_use_renewables\",\n    \"Fuels\":\"fuels\",\n    \"Fossil fuels\":\"fossil_fuels\",\n    \"Oil\":\"oil\",\n    \"Gas\":\"gas\",\n    \"Coal\":\"coal\",\n    \"Clean_fuels\":\"clean_fuels\",\n    \"Power\":\"power\",\n    \"Generation\": \"generation\",\n    \"Coal_1\":\"coal_1\",\n    \"Oil and natural gas\":\"oil_natural_gas\",\n    \"Nuclear\":\"nuclear\",\n    \"Renewables_1\":\"renewables_1\",\n    \"Fossil fuels: with CCUS\":\"fossil_fuels_with_ccus\",\n    \"Storage\":\"storage\",\n    \"Electricity networks_1\":\"electricity_networks_1\",\n    \"Memo: Oil & gas upstream\":\"memo_oil_gas_upstream\"    \n})",
      "outputs": []
    },
    {
      "id": "078a8d52-8262-4f0a-b558-4adbe318d5c6",
      "cell_type": "markdown",
      "source": "# Looking at North America Region",
      "metadata": {
        "noteable": {
          "cell_type": "markdown"
        }
      }
    },
    {
      "id": "9bd7a9ff-72b4-4e6e-8e56-ee7b99041b64",
      "cell_type": "code",
      "metadata": {
        "jupyter": {
          "outputs_hidden": false,
          "source_hidden": false
        },
        "noteable": {
          "cell_type": "code",
          "output_collection_id": "c03066ec-f0f5-4553-ad1c-70bbe4cbc9e4"
        },
        "ExecuteTime": {
          "end_time": "2023-09-24T16:42:53.071105+00:00",
          "start_time": "2023-09-24T16:42:52.912434+00:00"
        }
      },
      "execution_count": null,
      "source": "north_america_inv_2023= pd.read_excel(w_energy_inv_2023, 'North America', skiprows=[0])",
      "outputs": []
    },
    {
      "id": "aa7ef72c-ded8-4a9d-ba57-a915b33d211b",
      "cell_type": "code",
      "metadata": {
        "noteable": {
          "cell_type": "python",
          "output_collection_id": "bb292524-759d-42e2-beec-52fdba5f15ee"
        },
        "ExecuteTime": {
          "end_time": "2023-09-24T16:42:53.285427+00:00",
          "start_time": "2023-09-24T16:42:53.077928+00:00"
        },
        "datalink": {
          "e2fe16a6-45c3-47c2-bb9f-80c373dc3c38": {
            "applied_filters": [],
            "dataframe_info": {
              "default_index_used": true,
              "orig_num_cols": 11,
              "orig_num_rows": 32,
              "orig_size_bytes": 3072,
              "truncated_num_cols": 11,
              "truncated_num_rows": 32,
              "truncated_size_bytes": 3072,
              "truncated_string_columns": []
            },
            "display_id": "e2fe16a6-45c3-47c2-bb9f-80c373dc3c38",
            "dx_settings": {
              "ALLOW_NOTEABLE_ATTRS": true,
              "COLUMN_SAMPLING_METHOD": "outer",
              "DB_LOCATION": ":memory:",
              "DEV_MODE": false,
              "DISPLAY_MAX_COLUMNS": 100,
              "DISPLAY_MAX_ROWS": 50000,
              "DISPLAY_MODE": "simple",
              "ENABLE_ASSIGNMENT": true,
              "ENABLE_DATALINK": true,
              "FLATTEN_COLUMN_VALUES": true,
              "FLATTEN_INDEX_VALUES": false,
              "GENERATE_DEX_METADATA": false,
              "HTML_TABLE_SCHEMA": false,
              "LOG_LEVEL": 30,
              "MAX_RENDER_SIZE_BYTES": 104857600,
              "MAX_STRING_LENGTH": 250,
              "NUM_PAST_SAMPLES_TRACKED": 3,
              "RANDOM_STATE": 12648430,
              "RESET_INDEX_VALUES": false,
              "ROW_SAMPLING_METHOD": "random",
              "SAMPLING_FACTOR": 0.1,
              "SAMPLING_METHOD": "random",
              "STRINGIFY_COLUMN_VALUES": true,
              "STRINGIFY_INDEX_VALUES": false
            },
            "sample_history": [],
            "sampling_time": "2023-09-24T04:16:44.904197",
            "user_variable_name": "north_america_inv_2023",
            "variable_name": "north_america_inv_2023"
          },
          "e916417c-223b-4acd-93c0-eddd22c28a9d": {
            "applied_filters": [],
            "dataframe_info": {
              "default_index_used": true,
              "orig_num_cols": 11,
              "orig_num_rows": 32,
              "orig_size_bytes": 3072,
              "truncated_num_cols": 11,
              "truncated_num_rows": 32,
              "truncated_size_bytes": 3072,
              "truncated_string_columns": []
            },
            "display_id": "e916417c-223b-4acd-93c0-eddd22c28a9d",
            "dx_settings": {
              "ALLOW_NOTEABLE_ATTRS": true,
              "COLUMN_SAMPLING_METHOD": "outer",
              "DB_LOCATION": ":memory:",
              "DEV_MODE": false,
              "DISPLAY_MAX_COLUMNS": 100,
              "DISPLAY_MAX_ROWS": 50000,
              "DISPLAY_MODE": "simple",
              "ENABLE_ASSIGNMENT": true,
              "ENABLE_DATALINK": true,
              "FLATTEN_COLUMN_VALUES": true,
              "FLATTEN_INDEX_VALUES": false,
              "GENERATE_DEX_METADATA": false,
              "HTML_TABLE_SCHEMA": false,
              "LOG_LEVEL": 30,
              "MAX_RENDER_SIZE_BYTES": 104857600,
              "MAX_STRING_LENGTH": 250,
              "NUM_PAST_SAMPLES_TRACKED": 3,
              "RANDOM_STATE": 12648430,
              "RESET_INDEX_VALUES": false,
              "ROW_SAMPLING_METHOD": "random",
              "SAMPLING_FACTOR": 0.1,
              "SAMPLING_METHOD": "random",
              "STRINGIFY_COLUMN_VALUES": true,
              "STRINGIFY_INDEX_VALUES": false
            },
            "sample_history": [],
            "sampling_time": "2023-09-24T04:52:29.383336",
            "user_variable_name": "north_america_inv_2023",
            "variable_name": "north_america_inv_2023"
          },
          "8a6c7515-3aae-47c8-8de1-b86f522149d4": {
            "applied_filters": [],
            "dataframe_info": {
              "default_index_used": true,
              "orig_num_cols": 11,
              "orig_num_rows": 32,
              "orig_size_bytes": 3072,
              "truncated_num_cols": 11,
              "truncated_num_rows": 32,
              "truncated_size_bytes": 3072,
              "truncated_string_columns": []
            },
            "display_id": "8a6c7515-3aae-47c8-8de1-b86f522149d4",
            "dx_settings": {
              "ALLOW_NOTEABLE_ATTRS": true,
              "COLUMN_SAMPLING_METHOD": "outer",
              "DB_LOCATION": ":memory:",
              "DEV_MODE": false,
              "DISPLAY_MAX_COLUMNS": 100,
              "DISPLAY_MAX_ROWS": 50000,
              "DISPLAY_MODE": "simple",
              "ENABLE_ASSIGNMENT": true,
              "ENABLE_DATALINK": true,
              "FLATTEN_COLUMN_VALUES": true,
              "FLATTEN_INDEX_VALUES": false,
              "GENERATE_DEX_METADATA": false,
              "HTML_TABLE_SCHEMA": false,
              "LOG_LEVEL": 30,
              "MAX_RENDER_SIZE_BYTES": 104857600,
              "MAX_STRING_LENGTH": 250,
              "NUM_PAST_SAMPLES_TRACKED": 3,
              "RANDOM_STATE": 12648430,
              "RESET_INDEX_VALUES": false,
              "ROW_SAMPLING_METHOD": "random",
              "SAMPLING_FACTOR": 0.1,
              "SAMPLING_METHOD": "random",
              "STRINGIFY_COLUMN_VALUES": true,
              "STRINGIFY_INDEX_VALUES": false
            },
            "sample_history": [],
            "sampling_time": "2023-09-24T16:42:53.125028",
            "user_variable_name": "north_america_inv_2023",
            "variable_name": "north_america_inv_2023"
          }
        }
      },
      "execution_count": null,
      "source": "# Looking at the data\n\nnorth_america_inv_2023",
      "outputs": []
    },
    {
      "id": "47aadcc3-84ab-45db-8b89-38d3c20de5ec",
      "cell_type": "code",
      "metadata": {
        "jupyter": {
          "outputs_hidden": false,
          "source_hidden": false
        },
        "noteable": {
          "cell_type": "code",
          "output_collection_id": "207268a6-220c-4c05-98c7-66bbd1cc08a6"
        },
        "ExecuteTime": {
          "end_time": "2023-09-24T16:42:53.446852+00:00",
          "start_time": "2023-09-24T16:42:53.291345+00:00"
        },
        "datalink": {
          "0f79ac29-b4d5-4233-b627-3854437d20db": {
            "applied_filters": [],
            "dataframe_info": {
              "default_index_used": true,
              "orig_num_cols": 11,
              "orig_num_rows": 32,
              "orig_size_bytes": 3072,
              "truncated_num_cols": 11,
              "truncated_num_rows": 32,
              "truncated_size_bytes": 3072,
              "truncated_string_columns": []
            },
            "display_id": "0f79ac29-b4d5-4233-b627-3854437d20db",
            "dx_settings": {
              "ALLOW_NOTEABLE_ATTRS": true,
              "COLUMN_SAMPLING_METHOD": "outer",
              "DB_LOCATION": ":memory:",
              "DEV_MODE": false,
              "DISPLAY_MAX_COLUMNS": 100,
              "DISPLAY_MAX_ROWS": 50000,
              "DISPLAY_MODE": "simple",
              "ENABLE_ASSIGNMENT": true,
              "ENABLE_DATALINK": true,
              "FLATTEN_COLUMN_VALUES": true,
              "FLATTEN_INDEX_VALUES": false,
              "GENERATE_DEX_METADATA": false,
              "HTML_TABLE_SCHEMA": false,
              "LOG_LEVEL": 30,
              "MAX_RENDER_SIZE_BYTES": 104857600,
              "MAX_STRING_LENGTH": 250,
              "NUM_PAST_SAMPLES_TRACKED": 3,
              "RANDOM_STATE": 12648430,
              "RESET_INDEX_VALUES": false,
              "ROW_SAMPLING_METHOD": "random",
              "SAMPLING_FACTOR": 0.1,
              "SAMPLING_METHOD": "random",
              "STRINGIFY_COLUMN_VALUES": true,
              "STRINGIFY_INDEX_VALUES": false
            },
            "sample_history": [],
            "sampling_time": "2023-09-24T04:18:02.846325",
            "user_variable_name": "north_america_inv_2023",
            "variable_name": "north_america_inv_2023"
          }
        }
      },
      "execution_count": null,
      "source": "# Looking at the shape of the data\n\nnorth_america_inv_2023.shape",
      "outputs": []
    },
    {
      "id": "273d4bf5-9047-4e3c-80d2-1a9bd1bf11db",
      "cell_type": "code",
      "metadata": {
        "jupyter": {
          "outputs_hidden": false,
          "source_hidden": false
        },
        "noteable": {
          "cell_type": "code",
          "output_collection_id": "a58bae01-c6ee-4e88-b052-778d197c4cde"
        },
        "ExecuteTime": {
          "end_time": "2023-09-24T16:42:53.712573+00:00",
          "start_time": "2023-09-24T16:42:53.505429+00:00"
        },
        "datalink": {
          "7bc4cbc7-d689-4f91-af76-f9644beeede6": {
            "applied_filters": [],
            "dataframe_info": {
              "default_index_used": false,
              "orig_num_cols": 1,
              "orig_num_rows": 10,
              "orig_size_bytes": 160,
              "truncated_num_cols": 1,
              "truncated_num_rows": 10,
              "truncated_size_bytes": 160,
              "truncated_string_columns": []
            },
            "display_id": "7bc4cbc7-d689-4f91-af76-f9644beeede6",
            "dx_settings": {
              "ALLOW_NOTEABLE_ATTRS": true,
              "COLUMN_SAMPLING_METHOD": "outer",
              "DB_LOCATION": ":memory:",
              "DEV_MODE": false,
              "DISPLAY_MAX_COLUMNS": 100,
              "DISPLAY_MAX_ROWS": 50000,
              "DISPLAY_MODE": "simple",
              "ENABLE_ASSIGNMENT": true,
              "ENABLE_DATALINK": true,
              "FLATTEN_COLUMN_VALUES": true,
              "FLATTEN_INDEX_VALUES": false,
              "GENERATE_DEX_METADATA": false,
              "HTML_TABLE_SCHEMA": false,
              "LOG_LEVEL": 30,
              "MAX_RENDER_SIZE_BYTES": 104857600,
              "MAX_STRING_LENGTH": 250,
              "NUM_PAST_SAMPLES_TRACKED": 3,
              "RANDOM_STATE": 12648430,
              "RESET_INDEX_VALUES": false,
              "ROW_SAMPLING_METHOD": "random",
              "SAMPLING_FACTOR": 0.1,
              "SAMPLING_METHOD": "random",
              "STRINGIFY_COLUMN_VALUES": true,
              "STRINGIFY_INDEX_VALUES": false
            },
            "sample_history": [],
            "sampling_time": "2023-09-24T04:19:26.041535",
            "user_variable_name": null,
            "variable_name": "unk_dataframe_e6cd170af1054db4a9a691b3ed944846"
          },
          "147f70db-c940-46cc-af1e-a7595e0c25e5": {
            "applied_filters": [],
            "dataframe_info": {
              "default_index_used": false,
              "orig_num_cols": 1,
              "orig_num_rows": 11,
              "orig_size_bytes": 176,
              "truncated_num_cols": 1,
              "truncated_num_rows": 11,
              "truncated_size_bytes": 176,
              "truncated_string_columns": []
            },
            "display_id": "147f70db-c940-46cc-af1e-a7595e0c25e5",
            "dx_settings": {
              "ALLOW_NOTEABLE_ATTRS": true,
              "COLUMN_SAMPLING_METHOD": "outer",
              "DB_LOCATION": ":memory:",
              "DEV_MODE": false,
              "DISPLAY_MAX_COLUMNS": 100,
              "DISPLAY_MAX_ROWS": 50000,
              "DISPLAY_MODE": "simple",
              "ENABLE_ASSIGNMENT": true,
              "ENABLE_DATALINK": true,
              "FLATTEN_COLUMN_VALUES": true,
              "FLATTEN_INDEX_VALUES": false,
              "GENERATE_DEX_METADATA": false,
              "HTML_TABLE_SCHEMA": false,
              "LOG_LEVEL": 30,
              "MAX_RENDER_SIZE_BYTES": 104857600,
              "MAX_STRING_LENGTH": 250,
              "NUM_PAST_SAMPLES_TRACKED": 3,
              "RANDOM_STATE": 12648430,
              "RESET_INDEX_VALUES": false,
              "ROW_SAMPLING_METHOD": "random",
              "SAMPLING_FACTOR": 0.1,
              "SAMPLING_METHOD": "random",
              "STRINGIFY_COLUMN_VALUES": true,
              "STRINGIFY_INDEX_VALUES": false
            },
            "sample_history": [],
            "sampling_time": "2023-09-24T04:19:41.847457",
            "user_variable_name": null,
            "variable_name": "unk_dataframe_ad9f58d961e549b482893c840c64d494"
          },
          "d39a8cc7-0084-4a14-b1f6-ca1c5b2607a4": {
            "applied_filters": [],
            "dataframe_info": {
              "default_index_used": false,
              "orig_num_cols": 1,
              "orig_num_rows": 11,
              "orig_size_bytes": 176,
              "truncated_num_cols": 1,
              "truncated_num_rows": 11,
              "truncated_size_bytes": 176,
              "truncated_string_columns": []
            },
            "display_id": "d39a8cc7-0084-4a14-b1f6-ca1c5b2607a4",
            "dx_settings": {
              "ALLOW_NOTEABLE_ATTRS": true,
              "COLUMN_SAMPLING_METHOD": "outer",
              "DB_LOCATION": ":memory:",
              "DEV_MODE": false,
              "DISPLAY_MAX_COLUMNS": 100,
              "DISPLAY_MAX_ROWS": 50000,
              "DISPLAY_MODE": "simple",
              "ENABLE_ASSIGNMENT": true,
              "ENABLE_DATALINK": true,
              "FLATTEN_COLUMN_VALUES": true,
              "FLATTEN_INDEX_VALUES": false,
              "GENERATE_DEX_METADATA": false,
              "HTML_TABLE_SCHEMA": false,
              "LOG_LEVEL": 30,
              "MAX_RENDER_SIZE_BYTES": 104857600,
              "MAX_STRING_LENGTH": 250,
              "NUM_PAST_SAMPLES_TRACKED": 3,
              "RANDOM_STATE": 12648430,
              "RESET_INDEX_VALUES": false,
              "ROW_SAMPLING_METHOD": "random",
              "SAMPLING_FACTOR": 0.1,
              "SAMPLING_METHOD": "random",
              "STRINGIFY_COLUMN_VALUES": true,
              "STRINGIFY_INDEX_VALUES": false
            },
            "sample_history": [],
            "sampling_time": "2023-09-24T04:52:41.781468",
            "user_variable_name": null,
            "variable_name": "unk_dataframe_260ea1ea279346a2ac1fe068982c02f6"
          },
          "32828fa5-3937-4fb5-b1d0-d347706dd0ed": {
            "applied_filters": [],
            "dataframe_info": {
              "default_index_used": false,
              "orig_num_cols": 1,
              "orig_num_rows": 11,
              "orig_size_bytes": 176,
              "truncated_num_cols": 1,
              "truncated_num_rows": 11,
              "truncated_size_bytes": 176,
              "truncated_string_columns": []
            },
            "display_id": "32828fa5-3937-4fb5-b1d0-d347706dd0ed",
            "dx_settings": {
              "ALLOW_NOTEABLE_ATTRS": true,
              "COLUMN_SAMPLING_METHOD": "outer",
              "DB_LOCATION": ":memory:",
              "DEV_MODE": false,
              "DISPLAY_MAX_COLUMNS": 100,
              "DISPLAY_MAX_ROWS": 50000,
              "DISPLAY_MODE": "simple",
              "ENABLE_ASSIGNMENT": true,
              "ENABLE_DATALINK": true,
              "FLATTEN_COLUMN_VALUES": true,
              "FLATTEN_INDEX_VALUES": false,
              "GENERATE_DEX_METADATA": false,
              "HTML_TABLE_SCHEMA": false,
              "LOG_LEVEL": 30,
              "MAX_RENDER_SIZE_BYTES": 104857600,
              "MAX_STRING_LENGTH": 250,
              "NUM_PAST_SAMPLES_TRACKED": 3,
              "RANDOM_STATE": 12648430,
              "RESET_INDEX_VALUES": false,
              "ROW_SAMPLING_METHOD": "random",
              "SAMPLING_FACTOR": 0.1,
              "SAMPLING_METHOD": "random",
              "STRINGIFY_COLUMN_VALUES": true,
              "STRINGIFY_INDEX_VALUES": false
            },
            "sample_history": [],
            "sampling_time": "2023-09-24T16:42:53.552044",
            "user_variable_name": null,
            "variable_name": "unk_dataframe_f9763924039a42dab9ed8e5decfe4e0e"
          }
        }
      },
      "execution_count": null,
      "source": "# Looking at the null values\n\nnorth_america_inv_2023.isna().sum()",
      "outputs": []
    },
    {
      "id": "27609444-92cd-46b5-b4ed-611c82357c8b",
      "cell_type": "code",
      "metadata": {
        "jupyter": {
          "outputs_hidden": false,
          "source_hidden": false
        },
        "noteable": {
          "cell_type": "code",
          "output_collection_id": "a660b30b-708f-4494-9152-31ff58f85f51"
        },
        "ExecuteTime": {
          "end_time": "2023-09-24T16:42:54.089216+00:00",
          "start_time": "2023-09-24T16:42:53.933191+00:00"
        }
      },
      "execution_count": null,
      "source": "## dropping first column with all missing values\n\nnorth_america_inv_2023.drop(north_america_inv_2023.columns[0], axis=1, inplace=True)",
      "outputs": []
    },
    {
      "id": "de6f5108-07d5-4987-b14a-266665069bdf",
      "cell_type": "code",
      "metadata": {
        "jupyter": {
          "outputs_hidden": false,
          "source_hidden": false
        },
        "noteable": {
          "cell_type": "code",
          "output_collection_id": "23663d15-c14d-4cce-a9ca-8fd0146f08f9"
        },
        "ExecuteTime": {
          "end_time": "2023-09-24T16:42:54.356448+00:00",
          "start_time": "2023-09-24T16:42:54.201554+00:00"
        }
      },
      "execution_count": null,
      "source": "# Looking at the shape of the data\n\nnorth_america_inv_2023.shape",
      "outputs": []
    },
    {
      "id": "02ee1309-667e-421d-b5d4-ea65da3ee178",
      "cell_type": "code",
      "metadata": {
        "jupyter": {
          "outputs_hidden": false,
          "source_hidden": false
        },
        "noteable": {
          "cell_type": "code",
          "output_collection_id": "a89cda80-a0ca-4a01-b504-61cf77c714c1"
        },
        "ExecuteTime": {
          "end_time": "2023-09-24T16:42:55.001390+00:00",
          "start_time": "2023-09-24T16:42:54.808036+00:00"
        },
        "datalink": {
          "41cc26ae-fedc-469d-a590-3499ae050ecd": {
            "applied_filters": [],
            "dataframe_info": {
              "default_index_used": false,
              "orig_num_cols": 1,
              "orig_num_rows": 10,
              "orig_size_bytes": 160,
              "truncated_num_cols": 1,
              "truncated_num_rows": 10,
              "truncated_size_bytes": 160,
              "truncated_string_columns": []
            },
            "display_id": "41cc26ae-fedc-469d-a590-3499ae050ecd",
            "dx_settings": {
              "ALLOW_NOTEABLE_ATTRS": true,
              "COLUMN_SAMPLING_METHOD": "outer",
              "DB_LOCATION": ":memory:",
              "DEV_MODE": false,
              "DISPLAY_MAX_COLUMNS": 100,
              "DISPLAY_MAX_ROWS": 50000,
              "DISPLAY_MODE": "simple",
              "ENABLE_ASSIGNMENT": true,
              "ENABLE_DATALINK": true,
              "FLATTEN_COLUMN_VALUES": true,
              "FLATTEN_INDEX_VALUES": false,
              "GENERATE_DEX_METADATA": false,
              "HTML_TABLE_SCHEMA": false,
              "LOG_LEVEL": 30,
              "MAX_RENDER_SIZE_BYTES": 104857600,
              "MAX_STRING_LENGTH": 250,
              "NUM_PAST_SAMPLES_TRACKED": 3,
              "RANDOM_STATE": 12648430,
              "RESET_INDEX_VALUES": false,
              "ROW_SAMPLING_METHOD": "random",
              "SAMPLING_FACTOR": 0.1,
              "SAMPLING_METHOD": "random",
              "STRINGIFY_COLUMN_VALUES": true,
              "STRINGIFY_INDEX_VALUES": false
            },
            "sample_history": [],
            "sampling_time": "2023-09-24T04:33:23.655903",
            "user_variable_name": null,
            "variable_name": "unk_dataframe_58bca6c727294ec6ad80b1fc752a2a97"
          },
          "06e87472-0e5f-47ec-844b-85a61437d242": {
            "applied_filters": [],
            "dataframe_info": {
              "default_index_used": false,
              "orig_num_cols": 1,
              "orig_num_rows": 10,
              "orig_size_bytes": 160,
              "truncated_num_cols": 1,
              "truncated_num_rows": 10,
              "truncated_size_bytes": 160,
              "truncated_string_columns": []
            },
            "display_id": "06e87472-0e5f-47ec-844b-85a61437d242",
            "dx_settings": {
              "ALLOW_NOTEABLE_ATTRS": true,
              "COLUMN_SAMPLING_METHOD": "outer",
              "DB_LOCATION": ":memory:",
              "DEV_MODE": false,
              "DISPLAY_MAX_COLUMNS": 100,
              "DISPLAY_MAX_ROWS": 50000,
              "DISPLAY_MODE": "simple",
              "ENABLE_ASSIGNMENT": true,
              "ENABLE_DATALINK": true,
              "FLATTEN_COLUMN_VALUES": true,
              "FLATTEN_INDEX_VALUES": false,
              "GENERATE_DEX_METADATA": false,
              "HTML_TABLE_SCHEMA": false,
              "LOG_LEVEL": 30,
              "MAX_RENDER_SIZE_BYTES": 104857600,
              "MAX_STRING_LENGTH": 250,
              "NUM_PAST_SAMPLES_TRACKED": 3,
              "RANDOM_STATE": 12648430,
              "RESET_INDEX_VALUES": false,
              "ROW_SAMPLING_METHOD": "random",
              "SAMPLING_FACTOR": 0.1,
              "SAMPLING_METHOD": "random",
              "STRINGIFY_COLUMN_VALUES": true,
              "STRINGIFY_INDEX_VALUES": false
            },
            "sample_history": [],
            "sampling_time": "2023-09-24T04:33:58.141125",
            "user_variable_name": null,
            "variable_name": "unk_dataframe_821c7e6e0d49484db66bed67d97c6ed2"
          },
          "4e2089c2-af9c-4eae-9e7a-359d43d53956": {
            "applied_filters": [],
            "dataframe_info": {
              "default_index_used": false,
              "orig_num_cols": 1,
              "orig_num_rows": 10,
              "orig_size_bytes": 160,
              "truncated_num_cols": 1,
              "truncated_num_rows": 10,
              "truncated_size_bytes": 160,
              "truncated_string_columns": []
            },
            "display_id": "4e2089c2-af9c-4eae-9e7a-359d43d53956",
            "dx_settings": {
              "ALLOW_NOTEABLE_ATTRS": true,
              "COLUMN_SAMPLING_METHOD": "outer",
              "DB_LOCATION": ":memory:",
              "DEV_MODE": false,
              "DISPLAY_MAX_COLUMNS": 100,
              "DISPLAY_MAX_ROWS": 50000,
              "DISPLAY_MODE": "simple",
              "ENABLE_ASSIGNMENT": true,
              "ENABLE_DATALINK": true,
              "FLATTEN_COLUMN_VALUES": true,
              "FLATTEN_INDEX_VALUES": false,
              "GENERATE_DEX_METADATA": false,
              "HTML_TABLE_SCHEMA": false,
              "LOG_LEVEL": 30,
              "MAX_RENDER_SIZE_BYTES": 104857600,
              "MAX_STRING_LENGTH": 250,
              "NUM_PAST_SAMPLES_TRACKED": 3,
              "RANDOM_STATE": 12648430,
              "RESET_INDEX_VALUES": false,
              "ROW_SAMPLING_METHOD": "random",
              "SAMPLING_FACTOR": 0.1,
              "SAMPLING_METHOD": "random",
              "STRINGIFY_COLUMN_VALUES": true,
              "STRINGIFY_INDEX_VALUES": false
            },
            "sample_history": [],
            "sampling_time": "2023-09-24T04:52:56.644554",
            "user_variable_name": null,
            "variable_name": "unk_dataframe_6c1e13afb53848349aefb1216a80afcd"
          },
          "1d595a18-b977-41f1-bf74-c4ba8a44c0fc": {
            "applied_filters": [],
            "dataframe_info": {
              "default_index_used": false,
              "orig_num_cols": 1,
              "orig_num_rows": 10,
              "orig_size_bytes": 160,
              "truncated_num_cols": 1,
              "truncated_num_rows": 10,
              "truncated_size_bytes": 160,
              "truncated_string_columns": []
            },
            "display_id": "1d595a18-b977-41f1-bf74-c4ba8a44c0fc",
            "dx_settings": {
              "ALLOW_NOTEABLE_ATTRS": true,
              "COLUMN_SAMPLING_METHOD": "outer",
              "DB_LOCATION": ":memory:",
              "DEV_MODE": false,
              "DISPLAY_MAX_COLUMNS": 100,
              "DISPLAY_MAX_ROWS": 50000,
              "DISPLAY_MODE": "simple",
              "ENABLE_ASSIGNMENT": true,
              "ENABLE_DATALINK": true,
              "FLATTEN_COLUMN_VALUES": true,
              "FLATTEN_INDEX_VALUES": false,
              "GENERATE_DEX_METADATA": false,
              "HTML_TABLE_SCHEMA": false,
              "LOG_LEVEL": 30,
              "MAX_RENDER_SIZE_BYTES": 104857600,
              "MAX_STRING_LENGTH": 250,
              "NUM_PAST_SAMPLES_TRACKED": 3,
              "RANDOM_STATE": 12648430,
              "RESET_INDEX_VALUES": false,
              "ROW_SAMPLING_METHOD": "random",
              "SAMPLING_FACTOR": 0.1,
              "SAMPLING_METHOD": "random",
              "STRINGIFY_COLUMN_VALUES": true,
              "STRINGIFY_INDEX_VALUES": false
            },
            "sample_history": [],
            "sampling_time": "2023-09-24T16:42:54.843474",
            "user_variable_name": null,
            "variable_name": "unk_dataframe_fb2965b773964da781ddb11a8baedf01"
          }
        }
      },
      "execution_count": null,
      "source": "# Checking total null values\n\nnorth_america_inv_2023.isna().sum()",
      "outputs": []
    },
    {
      "id": "d2540843-4c6f-4fea-94c3-84859a2fe180",
      "cell_type": "code",
      "metadata": {
        "jupyter": {
          "outputs_hidden": false,
          "source_hidden": false
        },
        "noteable": {
          "cell_type": "code",
          "output_collection_id": "dd5fdd17-583e-4f7a-9925-9f2719cd1016"
        },
        "ExecuteTime": {
          "end_time": "2023-09-24T16:42:55.230299+00:00",
          "start_time": "2023-09-24T16:42:55.021431+00:00"
        },
        "datalink": {
          "ce657693-b4e2-4809-b972-d041ad3a9af1": {
            "applied_filters": [],
            "dataframe_info": {
              "default_index_used": true,
              "orig_num_cols": 10,
              "orig_num_rows": 4,
              "orig_size_bytes": 352,
              "truncated_num_cols": 10,
              "truncated_num_rows": 4,
              "truncated_size_bytes": 352,
              "truncated_string_columns": []
            },
            "display_id": "ce657693-b4e2-4809-b972-d041ad3a9af1",
            "dx_settings": {
              "ALLOW_NOTEABLE_ATTRS": true,
              "COLUMN_SAMPLING_METHOD": "outer",
              "DB_LOCATION": ":memory:",
              "DEV_MODE": false,
              "DISPLAY_MAX_COLUMNS": 100,
              "DISPLAY_MAX_ROWS": 50000,
              "DISPLAY_MODE": "simple",
              "ENABLE_ASSIGNMENT": true,
              "ENABLE_DATALINK": true,
              "FLATTEN_COLUMN_VALUES": true,
              "FLATTEN_INDEX_VALUES": false,
              "GENERATE_DEX_METADATA": false,
              "HTML_TABLE_SCHEMA": false,
              "LOG_LEVEL": 30,
              "MAX_RENDER_SIZE_BYTES": 104857600,
              "MAX_STRING_LENGTH": 250,
              "NUM_PAST_SAMPLES_TRACKED": 3,
              "RANDOM_STATE": 12648430,
              "RESET_INDEX_VALUES": false,
              "ROW_SAMPLING_METHOD": "random",
              "SAMPLING_FACTOR": 0.1,
              "SAMPLING_METHOD": "random",
              "STRINGIFY_COLUMN_VALUES": true,
              "STRINGIFY_INDEX_VALUES": false
            },
            "sample_history": [],
            "sampling_time": "2023-09-24T04:35:26.066420",
            "user_variable_name": null,
            "variable_name": "unk_dataframe_2d701f4df0344d918a2dbd818f65af9d"
          },
          "6725d6e3-f595-417e-987c-1ad0c6493d99": {
            "applied_filters": [],
            "dataframe_info": {
              "default_index_used": true,
              "orig_num_cols": 10,
              "orig_num_rows": 4,
              "orig_size_bytes": 352,
              "truncated_num_cols": 10,
              "truncated_num_rows": 4,
              "truncated_size_bytes": 352,
              "truncated_string_columns": []
            },
            "display_id": "6725d6e3-f595-417e-987c-1ad0c6493d99",
            "dx_settings": {
              "ALLOW_NOTEABLE_ATTRS": true,
              "COLUMN_SAMPLING_METHOD": "outer",
              "DB_LOCATION": ":memory:",
              "DEV_MODE": false,
              "DISPLAY_MAX_COLUMNS": 100,
              "DISPLAY_MAX_ROWS": 50000,
              "DISPLAY_MODE": "simple",
              "ENABLE_ASSIGNMENT": true,
              "ENABLE_DATALINK": true,
              "FLATTEN_COLUMN_VALUES": true,
              "FLATTEN_INDEX_VALUES": false,
              "GENERATE_DEX_METADATA": false,
              "HTML_TABLE_SCHEMA": false,
              "LOG_LEVEL": 30,
              "MAX_RENDER_SIZE_BYTES": 104857600,
              "MAX_STRING_LENGTH": 250,
              "NUM_PAST_SAMPLES_TRACKED": 3,
              "RANDOM_STATE": 12648430,
              "RESET_INDEX_VALUES": false,
              "ROW_SAMPLING_METHOD": "random",
              "SAMPLING_FACTOR": 0.1,
              "SAMPLING_METHOD": "random",
              "STRINGIFY_COLUMN_VALUES": true,
              "STRINGIFY_INDEX_VALUES": false
            },
            "sample_history": [],
            "sampling_time": "2023-09-24T04:53:01.569333",
            "user_variable_name": null,
            "variable_name": "unk_dataframe_f704d3def79e44818330ed3679e64f66"
          },
          "a88d4a5d-c6b2-4e69-af88-7c5e44e1cc3a": {
            "applied_filters": [],
            "dataframe_info": {
              "default_index_used": true,
              "orig_num_cols": 10,
              "orig_num_rows": 4,
              "orig_size_bytes": 352,
              "truncated_num_cols": 10,
              "truncated_num_rows": 4,
              "truncated_size_bytes": 352,
              "truncated_string_columns": []
            },
            "display_id": "a88d4a5d-c6b2-4e69-af88-7c5e44e1cc3a",
            "dx_settings": {
              "ALLOW_NOTEABLE_ATTRS": true,
              "COLUMN_SAMPLING_METHOD": "outer",
              "DB_LOCATION": ":memory:",
              "DEV_MODE": false,
              "DISPLAY_MAX_COLUMNS": 100,
              "DISPLAY_MAX_ROWS": 50000,
              "DISPLAY_MODE": "simple",
              "ENABLE_ASSIGNMENT": true,
              "ENABLE_DATALINK": true,
              "FLATTEN_COLUMN_VALUES": true,
              "FLATTEN_INDEX_VALUES": false,
              "GENERATE_DEX_METADATA": false,
              "HTML_TABLE_SCHEMA": false,
              "LOG_LEVEL": 30,
              "MAX_RENDER_SIZE_BYTES": 104857600,
              "MAX_STRING_LENGTH": 250,
              "NUM_PAST_SAMPLES_TRACKED": 3,
              "RANDOM_STATE": 12648430,
              "RESET_INDEX_VALUES": false,
              "ROW_SAMPLING_METHOD": "random",
              "SAMPLING_FACTOR": 0.1,
              "SAMPLING_METHOD": "random",
              "STRINGIFY_COLUMN_VALUES": true,
              "STRINGIFY_INDEX_VALUES": false
            },
            "sample_history": [],
            "sampling_time": "2023-09-24T16:42:55.070471",
            "user_variable_name": null,
            "variable_name": "unk_dataframe_1e5798985a9641399bb6a8d04637347b"
          }
        }
      },
      "execution_count": null,
      "source": "# Further exploring the table with null values\n\nnorth_america_inv_2023[north_america_inv_2023[\"Unnamed: 1\"].isna()]",
      "outputs": []
    },
    {
      "id": "c1ac06d6-0711-475f-a02a-aecc3751ffc3",
      "cell_type": "code",
      "metadata": {
        "jupyter": {
          "outputs_hidden": false,
          "source_hidden": false
        },
        "noteable": {
          "cell_type": "code",
          "output_collection_id": "c3374e73-e617-48a3-b503-da385407cd78"
        },
        "ExecuteTime": {
          "end_time": "2023-09-24T16:42:55.390492+00:00",
          "start_time": "2023-09-24T16:42:55.235953+00:00"
        }
      },
      "execution_count": null,
      "source": "# dropping null values\n\nnorth_america_inv_2023.dropna(inplace=True)",
      "outputs": []
    },
    {
      "id": "1f78817a-f294-4b9f-84b7-f91af43a8b3f",
      "cell_type": "code",
      "metadata": {
        "jupyter": {
          "outputs_hidden": false,
          "source_hidden": false
        },
        "noteable": {
          "cell_type": "code",
          "output_collection_id": "329a6ac0-9ea8-474c-b254-f288878e49a3"
        },
        "ExecuteTime": {
          "end_time": "2023-09-24T16:42:55.586708+00:00",
          "start_time": "2023-09-24T16:42:55.395162+00:00"
        },
        "datalink": {
          "92e67cc3-6ba8-46cf-8d2f-fe0500c0f854": {
            "applied_filters": [],
            "dataframe_info": {
              "default_index_used": false,
              "orig_num_cols": 1,
              "orig_num_rows": 10,
              "orig_size_bytes": 160,
              "truncated_num_cols": 1,
              "truncated_num_rows": 10,
              "truncated_size_bytes": 160,
              "truncated_string_columns": []
            },
            "display_id": "92e67cc3-6ba8-46cf-8d2f-fe0500c0f854",
            "dx_settings": {
              "ALLOW_NOTEABLE_ATTRS": true,
              "COLUMN_SAMPLING_METHOD": "outer",
              "DB_LOCATION": ":memory:",
              "DEV_MODE": false,
              "DISPLAY_MAX_COLUMNS": 100,
              "DISPLAY_MAX_ROWS": 50000,
              "DISPLAY_MODE": "simple",
              "ENABLE_ASSIGNMENT": true,
              "ENABLE_DATALINK": true,
              "FLATTEN_COLUMN_VALUES": true,
              "FLATTEN_INDEX_VALUES": false,
              "GENERATE_DEX_METADATA": false,
              "HTML_TABLE_SCHEMA": false,
              "LOG_LEVEL": 30,
              "MAX_RENDER_SIZE_BYTES": 104857600,
              "MAX_STRING_LENGTH": 250,
              "NUM_PAST_SAMPLES_TRACKED": 3,
              "RANDOM_STATE": 12648430,
              "RESET_INDEX_VALUES": false,
              "ROW_SAMPLING_METHOD": "random",
              "SAMPLING_FACTOR": 0.1,
              "SAMPLING_METHOD": "random",
              "STRINGIFY_COLUMN_VALUES": true,
              "STRINGIFY_INDEX_VALUES": false
            },
            "sample_history": [],
            "sampling_time": "2023-09-24T04:37:55.122716",
            "user_variable_name": null,
            "variable_name": "unk_dataframe_49015d55e8ac4460bc39cae344492a51"
          },
          "ce5ffc08-d8fc-4ce1-90a6-0ac8a0b98236": {
            "applied_filters": [],
            "dataframe_info": {
              "default_index_used": false,
              "orig_num_cols": 1,
              "orig_num_rows": 10,
              "orig_size_bytes": 160,
              "truncated_num_cols": 1,
              "truncated_num_rows": 10,
              "truncated_size_bytes": 160,
              "truncated_string_columns": []
            },
            "display_id": "ce5ffc08-d8fc-4ce1-90a6-0ac8a0b98236",
            "dx_settings": {
              "ALLOW_NOTEABLE_ATTRS": true,
              "COLUMN_SAMPLING_METHOD": "outer",
              "DB_LOCATION": ":memory:",
              "DEV_MODE": false,
              "DISPLAY_MAX_COLUMNS": 100,
              "DISPLAY_MAX_ROWS": 50000,
              "DISPLAY_MODE": "simple",
              "ENABLE_ASSIGNMENT": true,
              "ENABLE_DATALINK": true,
              "FLATTEN_COLUMN_VALUES": true,
              "FLATTEN_INDEX_VALUES": false,
              "GENERATE_DEX_METADATA": false,
              "HTML_TABLE_SCHEMA": false,
              "LOG_LEVEL": 30,
              "MAX_RENDER_SIZE_BYTES": 104857600,
              "MAX_STRING_LENGTH": 250,
              "NUM_PAST_SAMPLES_TRACKED": 3,
              "RANDOM_STATE": 12648430,
              "RESET_INDEX_VALUES": false,
              "ROW_SAMPLING_METHOD": "random",
              "SAMPLING_FACTOR": 0.1,
              "SAMPLING_METHOD": "random",
              "STRINGIFY_COLUMN_VALUES": true,
              "STRINGIFY_INDEX_VALUES": false
            },
            "sample_history": [],
            "sampling_time": "2023-09-24T04:53:10.547544",
            "user_variable_name": null,
            "variable_name": "unk_dataframe_2982ed45a8d74a4ca11350b80bd81bc2"
          },
          "8060ed44-81de-4364-83bf-1444f7c2809f": {
            "applied_filters": [],
            "dataframe_info": {
              "default_index_used": false,
              "orig_num_cols": 1,
              "orig_num_rows": 10,
              "orig_size_bytes": 160,
              "truncated_num_cols": 1,
              "truncated_num_rows": 10,
              "truncated_size_bytes": 160,
              "truncated_string_columns": []
            },
            "display_id": "8060ed44-81de-4364-83bf-1444f7c2809f",
            "dx_settings": {
              "ALLOW_NOTEABLE_ATTRS": true,
              "COLUMN_SAMPLING_METHOD": "outer",
              "DB_LOCATION": ":memory:",
              "DEV_MODE": false,
              "DISPLAY_MAX_COLUMNS": 100,
              "DISPLAY_MAX_ROWS": 50000,
              "DISPLAY_MODE": "simple",
              "ENABLE_ASSIGNMENT": true,
              "ENABLE_DATALINK": true,
              "FLATTEN_COLUMN_VALUES": true,
              "FLATTEN_INDEX_VALUES": false,
              "GENERATE_DEX_METADATA": false,
              "HTML_TABLE_SCHEMA": false,
              "LOG_LEVEL": 30,
              "MAX_RENDER_SIZE_BYTES": 104857600,
              "MAX_STRING_LENGTH": 250,
              "NUM_PAST_SAMPLES_TRACKED": 3,
              "RANDOM_STATE": 12648430,
              "RESET_INDEX_VALUES": false,
              "ROW_SAMPLING_METHOD": "random",
              "SAMPLING_FACTOR": 0.1,
              "SAMPLING_METHOD": "random",
              "STRINGIFY_COLUMN_VALUES": true,
              "STRINGIFY_INDEX_VALUES": false
            },
            "sample_history": [],
            "sampling_time": "2023-09-24T16:42:55.429020",
            "user_variable_name": null,
            "variable_name": "unk_dataframe_09b23f5215ed42129022799348465b62"
          }
        }
      },
      "execution_count": null,
      "source": "# verifying if null values are dropped\n\nnorth_america_inv_2023.isna().sum()",
      "outputs": []
    },
    {
      "id": "b72578c6-357f-4df4-819a-dca2b0f3f628",
      "cell_type": "code",
      "metadata": {
        "jupyter": {
          "outputs_hidden": false,
          "source_hidden": false
        },
        "noteable": {
          "cell_type": "code",
          "output_collection_id": "6070cefe-a171-4a7a-b971-76e9711b6e08"
        },
        "ExecuteTime": {
          "end_time": "2023-09-24T16:42:55.748117+00:00",
          "start_time": "2023-09-24T16:42:55.592713+00:00"
        }
      },
      "execution_count": null,
      "source": "# transposing the data\n\nnorth_america_inv_2023_T = north_america_inv_2023.transpose()",
      "outputs": []
    },
    {
      "id": "e735d6f8-0c1a-46e3-a98b-fc6769c46e74",
      "cell_type": "code",
      "metadata": {
        "jupyter": {
          "outputs_hidden": false,
          "source_hidden": false
        },
        "noteable": {
          "cell_type": "code",
          "output_collection_id": "65600c74-0447-4a03-b9f7-a20fd54a4b12"
        },
        "ExecuteTime": {
          "end_time": "2023-09-24T16:42:56.014880+00:00",
          "start_time": "2023-09-24T16:42:55.753271+00:00"
        },
        "datalink": {
          "cd0f32eb-56c1-49dc-a0f4-36c0705b68e5": {
            "applied_filters": [],
            "dataframe_info": {
              "default_index_used": true,
              "orig_num_cols": 10,
              "orig_num_rows": 28,
              "orig_size_bytes": 2464,
              "truncated_num_cols": 10,
              "truncated_num_rows": 28,
              "truncated_size_bytes": 2464,
              "truncated_string_columns": []
            },
            "display_id": "cd0f32eb-56c1-49dc-a0f4-36c0705b68e5",
            "dx_settings": {
              "ALLOW_NOTEABLE_ATTRS": true,
              "COLUMN_SAMPLING_METHOD": "outer",
              "DB_LOCATION": ":memory:",
              "DEV_MODE": false,
              "DISPLAY_MAX_COLUMNS": 100,
              "DISPLAY_MAX_ROWS": 50000,
              "DISPLAY_MODE": "simple",
              "ENABLE_ASSIGNMENT": true,
              "ENABLE_DATALINK": true,
              "FLATTEN_COLUMN_VALUES": true,
              "FLATTEN_INDEX_VALUES": false,
              "GENERATE_DEX_METADATA": false,
              "HTML_TABLE_SCHEMA": false,
              "LOG_LEVEL": 30,
              "MAX_RENDER_SIZE_BYTES": 104857600,
              "MAX_STRING_LENGTH": 250,
              "NUM_PAST_SAMPLES_TRACKED": 3,
              "RANDOM_STATE": 12648430,
              "RESET_INDEX_VALUES": false,
              "ROW_SAMPLING_METHOD": "random",
              "SAMPLING_FACTOR": 0.1,
              "SAMPLING_METHOD": "random",
              "STRINGIFY_COLUMN_VALUES": true,
              "STRINGIFY_INDEX_VALUES": false
            },
            "sample_history": [],
            "sampling_time": "2023-09-24T04:40:16.091890",
            "user_variable_name": "north_america_inv_2023_T",
            "variable_name": "north_america_inv_2023_T"
          },
          "2cef9d24-2d3b-4938-b223-f551283b241f": {
            "applied_filters": [],
            "dataframe_info": {
              "default_index_used": true,
              "orig_num_cols": 10,
              "orig_num_rows": 28,
              "orig_size_bytes": 2464,
              "truncated_num_cols": 10,
              "truncated_num_rows": 28,
              "truncated_size_bytes": 2464,
              "truncated_string_columns": []
            },
            "display_id": "2cef9d24-2d3b-4938-b223-f551283b241f",
            "dx_settings": {
              "ALLOW_NOTEABLE_ATTRS": true,
              "COLUMN_SAMPLING_METHOD": "outer",
              "DB_LOCATION": ":memory:",
              "DEV_MODE": false,
              "DISPLAY_MAX_COLUMNS": 100,
              "DISPLAY_MAX_ROWS": 50000,
              "DISPLAY_MODE": "simple",
              "ENABLE_ASSIGNMENT": true,
              "ENABLE_DATALINK": true,
              "FLATTEN_COLUMN_VALUES": true,
              "FLATTEN_INDEX_VALUES": false,
              "GENERATE_DEX_METADATA": false,
              "HTML_TABLE_SCHEMA": false,
              "LOG_LEVEL": 30,
              "MAX_RENDER_SIZE_BYTES": 104857600,
              "MAX_STRING_LENGTH": 250,
              "NUM_PAST_SAMPLES_TRACKED": 3,
              "RANDOM_STATE": 12648430,
              "RESET_INDEX_VALUES": false,
              "ROW_SAMPLING_METHOD": "random",
              "SAMPLING_FACTOR": 0.1,
              "SAMPLING_METHOD": "random",
              "STRINGIFY_COLUMN_VALUES": true,
              "STRINGIFY_INDEX_VALUES": false
            },
            "sample_history": [],
            "sampling_time": "2023-09-24T04:40:23.359704",
            "user_variable_name": "north_america_inv_2023_T",
            "variable_name": "north_america_inv_2023_T"
          },
          "2ae050a8-04d8-4177-835e-96121423d2d4": {
            "applied_filters": [],
            "dataframe_info": {
              "default_index_used": true,
              "orig_num_cols": 10,
              "orig_num_rows": 28,
              "orig_size_bytes": 2464,
              "truncated_num_cols": 10,
              "truncated_num_rows": 28,
              "truncated_size_bytes": 2464,
              "truncated_string_columns": []
            },
            "display_id": "2ae050a8-04d8-4177-835e-96121423d2d4",
            "dx_settings": {
              "ALLOW_NOTEABLE_ATTRS": true,
              "COLUMN_SAMPLING_METHOD": "outer",
              "DB_LOCATION": ":memory:",
              "DEV_MODE": false,
              "DISPLAY_MAX_COLUMNS": 100,
              "DISPLAY_MAX_ROWS": 50000,
              "DISPLAY_MODE": "simple",
              "ENABLE_ASSIGNMENT": true,
              "ENABLE_DATALINK": true,
              "FLATTEN_COLUMN_VALUES": true,
              "FLATTEN_INDEX_VALUES": false,
              "GENERATE_DEX_METADATA": false,
              "HTML_TABLE_SCHEMA": false,
              "LOG_LEVEL": 30,
              "MAX_RENDER_SIZE_BYTES": 104857600,
              "MAX_STRING_LENGTH": 250,
              "NUM_PAST_SAMPLES_TRACKED": 3,
              "RANDOM_STATE": 12648430,
              "RESET_INDEX_VALUES": false,
              "ROW_SAMPLING_METHOD": "random",
              "SAMPLING_FACTOR": 0.1,
              "SAMPLING_METHOD": "random",
              "STRINGIFY_COLUMN_VALUES": true,
              "STRINGIFY_INDEX_VALUES": false
            },
            "sample_history": [],
            "sampling_time": "2023-09-24T04:48:43.662219",
            "user_variable_name": "north_america_inv_2023_T",
            "variable_name": "north_america_inv_2023_T"
          },
          "3a35be81-64f9-4a88-98f6-fa45e706ae5e": {
            "applied_filters": [],
            "dataframe_info": {
              "default_index_used": true,
              "orig_num_cols": 10,
              "orig_num_rows": 28,
              "orig_size_bytes": 2464,
              "truncated_num_cols": 10,
              "truncated_num_rows": 28,
              "truncated_size_bytes": 2464,
              "truncated_string_columns": []
            },
            "display_id": "3a35be81-64f9-4a88-98f6-fa45e706ae5e",
            "dx_settings": {
              "ALLOW_NOTEABLE_ATTRS": true,
              "COLUMN_SAMPLING_METHOD": "outer",
              "DB_LOCATION": ":memory:",
              "DEV_MODE": false,
              "DISPLAY_MAX_COLUMNS": 100,
              "DISPLAY_MAX_ROWS": 50000,
              "DISPLAY_MODE": "simple",
              "ENABLE_ASSIGNMENT": true,
              "ENABLE_DATALINK": true,
              "FLATTEN_COLUMN_VALUES": true,
              "FLATTEN_INDEX_VALUES": false,
              "GENERATE_DEX_METADATA": false,
              "HTML_TABLE_SCHEMA": false,
              "LOG_LEVEL": 30,
              "MAX_RENDER_SIZE_BYTES": 104857600,
              "MAX_STRING_LENGTH": 250,
              "NUM_PAST_SAMPLES_TRACKED": 3,
              "RANDOM_STATE": 12648430,
              "RESET_INDEX_VALUES": false,
              "ROW_SAMPLING_METHOD": "random",
              "SAMPLING_FACTOR": 0.1,
              "SAMPLING_METHOD": "random",
              "STRINGIFY_COLUMN_VALUES": true,
              "STRINGIFY_INDEX_VALUES": false
            },
            "sample_history": [],
            "sampling_time": "2023-09-24T04:50:07.660872",
            "user_variable_name": "north_america_inv_2023_T",
            "variable_name": "north_america_inv_2023_T"
          },
          "ca3d3c15-999e-4e3a-b0ed-2227d9bc4ad3": {
            "applied_filters": [],
            "dataframe_info": {
              "default_index_used": false,
              "orig_num_cols": 28,
              "orig_num_rows": 10,
              "orig_size_bytes": 2320,
              "truncated_num_cols": 28,
              "truncated_num_rows": 10,
              "truncated_size_bytes": 2320,
              "truncated_string_columns": []
            },
            "display_id": "ca3d3c15-999e-4e3a-b0ed-2227d9bc4ad3",
            "dx_settings": {
              "ALLOW_NOTEABLE_ATTRS": true,
              "COLUMN_SAMPLING_METHOD": "outer",
              "DB_LOCATION": ":memory:",
              "DEV_MODE": false,
              "DISPLAY_MAX_COLUMNS": 100,
              "DISPLAY_MAX_ROWS": 50000,
              "DISPLAY_MODE": "simple",
              "ENABLE_ASSIGNMENT": true,
              "ENABLE_DATALINK": true,
              "FLATTEN_COLUMN_VALUES": true,
              "FLATTEN_INDEX_VALUES": false,
              "GENERATE_DEX_METADATA": false,
              "HTML_TABLE_SCHEMA": false,
              "LOG_LEVEL": 30,
              "MAX_RENDER_SIZE_BYTES": 104857600,
              "MAX_STRING_LENGTH": 250,
              "NUM_PAST_SAMPLES_TRACKED": 3,
              "RANDOM_STATE": 12648430,
              "RESET_INDEX_VALUES": false,
              "ROW_SAMPLING_METHOD": "random",
              "SAMPLING_FACTOR": 0.1,
              "SAMPLING_METHOD": "random",
              "STRINGIFY_COLUMN_VALUES": true,
              "STRINGIFY_INDEX_VALUES": false
            },
            "sample_history": [],
            "sampling_time": "2023-09-24T04:50:32.819221",
            "user_variable_name": "north_america_inv_2023",
            "variable_name": "north_america_inv_2023"
          },
          "16986ae4-713d-4646-8014-64e135acd441": {
            "applied_filters": [],
            "dataframe_info": {
              "default_index_used": false,
              "orig_num_cols": 28,
              "orig_num_rows": 10,
              "orig_size_bytes": 2320,
              "truncated_num_cols": 28,
              "truncated_num_rows": 10,
              "truncated_size_bytes": 2320,
              "truncated_string_columns": []
            },
            "display_id": "16986ae4-713d-4646-8014-64e135acd441",
            "dx_settings": {
              "ALLOW_NOTEABLE_ATTRS": true,
              "COLUMN_SAMPLING_METHOD": "outer",
              "DB_LOCATION": ":memory:",
              "DEV_MODE": false,
              "DISPLAY_MAX_COLUMNS": 100,
              "DISPLAY_MAX_ROWS": 50000,
              "DISPLAY_MODE": "simple",
              "ENABLE_ASSIGNMENT": true,
              "ENABLE_DATALINK": true,
              "FLATTEN_COLUMN_VALUES": true,
              "FLATTEN_INDEX_VALUES": false,
              "GENERATE_DEX_METADATA": false,
              "HTML_TABLE_SCHEMA": false,
              "LOG_LEVEL": 30,
              "MAX_RENDER_SIZE_BYTES": 104857600,
              "MAX_STRING_LENGTH": 250,
              "NUM_PAST_SAMPLES_TRACKED": 3,
              "RANDOM_STATE": 12648430,
              "RESET_INDEX_VALUES": false,
              "ROW_SAMPLING_METHOD": "random",
              "SAMPLING_FACTOR": 0.1,
              "SAMPLING_METHOD": "random",
              "STRINGIFY_COLUMN_VALUES": true,
              "STRINGIFY_INDEX_VALUES": false
            },
            "sample_history": [],
            "sampling_time": "2023-09-24T04:53:33.809019",
            "user_variable_name": "north_america_inv_2023_T",
            "variable_name": "north_america_inv_2023_T"
          },
          "0da3e9d6-6bbf-4081-a8ba-89a667c52534": {
            "applied_filters": [],
            "dataframe_info": {
              "default_index_used": false,
              "orig_num_cols": 28,
              "orig_num_rows": 10,
              "orig_size_bytes": 2320,
              "truncated_num_cols": 28,
              "truncated_num_rows": 10,
              "truncated_size_bytes": 2320,
              "truncated_string_columns": []
            },
            "display_id": "0da3e9d6-6bbf-4081-a8ba-89a667c52534",
            "dx_settings": {
              "ALLOW_NOTEABLE_ATTRS": true,
              "COLUMN_SAMPLING_METHOD": "outer",
              "DB_LOCATION": ":memory:",
              "DEV_MODE": false,
              "DISPLAY_MAX_COLUMNS": 100,
              "DISPLAY_MAX_ROWS": 50000,
              "DISPLAY_MODE": "simple",
              "ENABLE_ASSIGNMENT": true,
              "ENABLE_DATALINK": true,
              "FLATTEN_COLUMN_VALUES": true,
              "FLATTEN_INDEX_VALUES": false,
              "GENERATE_DEX_METADATA": false,
              "HTML_TABLE_SCHEMA": false,
              "LOG_LEVEL": 30,
              "MAX_RENDER_SIZE_BYTES": 104857600,
              "MAX_STRING_LENGTH": 250,
              "NUM_PAST_SAMPLES_TRACKED": 3,
              "RANDOM_STATE": 12648430,
              "RESET_INDEX_VALUES": false,
              "ROW_SAMPLING_METHOD": "random",
              "SAMPLING_FACTOR": 0.1,
              "SAMPLING_METHOD": "random",
              "STRINGIFY_COLUMN_VALUES": true,
              "STRINGIFY_INDEX_VALUES": false
            },
            "sample_history": [],
            "sampling_time": "2023-09-24T16:42:55.851800",
            "user_variable_name": "north_america_inv_2023_T",
            "variable_name": "north_america_inv_2023_T"
          }
        }
      },
      "execution_count": null,
      "source": "north_america_inv_2023_T",
      "outputs": []
    },
    {
      "id": "c9080420-ff6a-4997-9672-5be88dcdb94a",
      "cell_type": "code",
      "metadata": {
        "jupyter": {
          "outputs_hidden": false,
          "source_hidden": false
        },
        "noteable": {
          "cell_type": "code",
          "output_collection_id": "edb7a3ff-0b90-43f2-bd79-926b99309f7e"
        },
        "ExecuteTime": {
          "end_time": "2023-09-24T16:42:56.187392+00:00",
          "start_time": "2023-09-24T16:42:56.032500+00:00"
        }
      },
      "execution_count": null,
      "source": "# Rename columns to the first row\n\nnorth_america_inv_2023_T.columns = north_america_inv_2023_T.iloc[0]  ",
      "outputs": []
    },
    {
      "id": "2efeb3cd-d9d8-40a1-a5a8-242541fd5702",
      "cell_type": "code",
      "metadata": {
        "jupyter": {
          "outputs_hidden": false,
          "source_hidden": false
        },
        "noteable": {
          "cell_type": "code",
          "output_collection_id": "1c8f834b-1bf3-4c5a-8d5a-c1fa6a2ed73c"
        },
        "ExecuteTime": {
          "end_time": "2023-09-24T16:42:56.980705+00:00",
          "start_time": "2023-09-24T16:42:56.706510+00:00"
        },
        "datalink": {
          "eb536eae-5a47-4ba7-9ab9-b038e84d938d": {
            "applied_filters": [],
            "dataframe_info": {
              "default_index_used": true,
              "orig_num_cols": 10,
              "orig_num_rows": 28,
              "orig_size_bytes": 2464,
              "truncated_num_cols": 10,
              "truncated_num_rows": 28,
              "truncated_size_bytes": 2464,
              "truncated_string_columns": []
            },
            "display_id": "eb536eae-5a47-4ba7-9ab9-b038e84d938d",
            "dx_settings": {
              "ALLOW_NOTEABLE_ATTRS": true,
              "COLUMN_SAMPLING_METHOD": "outer",
              "DB_LOCATION": ":memory:",
              "DEV_MODE": false,
              "DISPLAY_MAX_COLUMNS": 100,
              "DISPLAY_MAX_ROWS": 50000,
              "DISPLAY_MODE": "simple",
              "ENABLE_ASSIGNMENT": true,
              "ENABLE_DATALINK": true,
              "FLATTEN_COLUMN_VALUES": true,
              "FLATTEN_INDEX_VALUES": false,
              "GENERATE_DEX_METADATA": false,
              "HTML_TABLE_SCHEMA": false,
              "LOG_LEVEL": 30,
              "MAX_RENDER_SIZE_BYTES": 104857600,
              "MAX_STRING_LENGTH": 250,
              "NUM_PAST_SAMPLES_TRACKED": 3,
              "RANDOM_STATE": 12648430,
              "RESET_INDEX_VALUES": false,
              "ROW_SAMPLING_METHOD": "random",
              "SAMPLING_FACTOR": 0.1,
              "SAMPLING_METHOD": "random",
              "STRINGIFY_COLUMN_VALUES": true,
              "STRINGIFY_INDEX_VALUES": false
            },
            "sample_history": [],
            "sampling_time": "2023-09-24T04:41:49.969222",
            "user_variable_name": "north_america_inv_2023_T",
            "variable_name": "north_america_inv_2023_T"
          },
          "4d5f88f9-aad3-4c96-9147-1cee1b4909f5": {
            "applied_filters": [],
            "dataframe_info": {
              "default_index_used": false,
              "orig_num_cols": 28,
              "orig_num_rows": 10,
              "orig_size_bytes": 2320,
              "truncated_num_cols": 28,
              "truncated_num_rows": 10,
              "truncated_size_bytes": 2320,
              "truncated_string_columns": []
            },
            "display_id": "4d5f88f9-aad3-4c96-9147-1cee1b4909f5",
            "dx_settings": {
              "ALLOW_NOTEABLE_ATTRS": true,
              "COLUMN_SAMPLING_METHOD": "outer",
              "DB_LOCATION": ":memory:",
              "DEV_MODE": false,
              "DISPLAY_MAX_COLUMNS": 100,
              "DISPLAY_MAX_ROWS": 50000,
              "DISPLAY_MODE": "simple",
              "ENABLE_ASSIGNMENT": true,
              "ENABLE_DATALINK": true,
              "FLATTEN_COLUMN_VALUES": true,
              "FLATTEN_INDEX_VALUES": false,
              "GENERATE_DEX_METADATA": false,
              "HTML_TABLE_SCHEMA": false,
              "LOG_LEVEL": 30,
              "MAX_RENDER_SIZE_BYTES": 104857600,
              "MAX_STRING_LENGTH": 250,
              "NUM_PAST_SAMPLES_TRACKED": 3,
              "RANDOM_STATE": 12648430,
              "RESET_INDEX_VALUES": false,
              "ROW_SAMPLING_METHOD": "random",
              "SAMPLING_FACTOR": 0.1,
              "SAMPLING_METHOD": "random",
              "STRINGIFY_COLUMN_VALUES": true,
              "STRINGIFY_INDEX_VALUES": false
            },
            "sample_history": [],
            "sampling_time": "2023-09-24T04:50:58.933505",
            "user_variable_name": null,
            "variable_name": "unk_dataframe_dfedf937274a426bb3bb1e3452c66dcd"
          },
          "7ae7ab69-0f78-4bb0-926d-2f374e90b46f": {
            "applied_filters": [],
            "dataframe_info": {
              "default_index_used": false,
              "orig_num_cols": 28,
              "orig_num_rows": 10,
              "orig_size_bytes": 2320,
              "truncated_num_cols": 28,
              "truncated_num_rows": 10,
              "truncated_size_bytes": 2320,
              "truncated_string_columns": []
            },
            "display_id": "7ae7ab69-0f78-4bb0-926d-2f374e90b46f",
            "dx_settings": {
              "ALLOW_NOTEABLE_ATTRS": true,
              "COLUMN_SAMPLING_METHOD": "outer",
              "DB_LOCATION": ":memory:",
              "DEV_MODE": false,
              "DISPLAY_MAX_COLUMNS": 100,
              "DISPLAY_MAX_ROWS": 50000,
              "DISPLAY_MODE": "simple",
              "ENABLE_ASSIGNMENT": true,
              "ENABLE_DATALINK": true,
              "FLATTEN_COLUMN_VALUES": true,
              "FLATTEN_INDEX_VALUES": false,
              "GENERATE_DEX_METADATA": false,
              "HTML_TABLE_SCHEMA": false,
              "LOG_LEVEL": 30,
              "MAX_RENDER_SIZE_BYTES": 104857600,
              "MAX_STRING_LENGTH": 250,
              "NUM_PAST_SAMPLES_TRACKED": 3,
              "RANDOM_STATE": 12648430,
              "RESET_INDEX_VALUES": false,
              "ROW_SAMPLING_METHOD": "random",
              "SAMPLING_FACTOR": 0.1,
              "SAMPLING_METHOD": "random",
              "STRINGIFY_COLUMN_VALUES": true,
              "STRINGIFY_INDEX_VALUES": false
            },
            "sample_history": [],
            "sampling_time": "2023-09-24T04:53:54.838949",
            "user_variable_name": null,
            "variable_name": "unk_dataframe_294cc6e07c584e56a35aacdec9823d39"
          },
          "7a230067-67de-4d88-bdd4-4d57f568c70b": {
            "applied_filters": [],
            "dataframe_info": {
              "default_index_used": false,
              "orig_num_cols": 28,
              "orig_num_rows": 10,
              "orig_size_bytes": 2320,
              "truncated_num_cols": 28,
              "truncated_num_rows": 10,
              "truncated_size_bytes": 2320,
              "truncated_string_columns": []
            },
            "display_id": "7a230067-67de-4d88-bdd4-4d57f568c70b",
            "dx_settings": {
              "ALLOW_NOTEABLE_ATTRS": true,
              "COLUMN_SAMPLING_METHOD": "outer",
              "DB_LOCATION": ":memory:",
              "DEV_MODE": false,
              "DISPLAY_MAX_COLUMNS": 100,
              "DISPLAY_MAX_ROWS": 50000,
              "DISPLAY_MODE": "simple",
              "ENABLE_ASSIGNMENT": true,
              "ENABLE_DATALINK": true,
              "FLATTEN_COLUMN_VALUES": true,
              "FLATTEN_INDEX_VALUES": false,
              "GENERATE_DEX_METADATA": false,
              "HTML_TABLE_SCHEMA": false,
              "LOG_LEVEL": 30,
              "MAX_RENDER_SIZE_BYTES": 104857600,
              "MAX_STRING_LENGTH": 250,
              "NUM_PAST_SAMPLES_TRACKED": 3,
              "RANDOM_STATE": 12648430,
              "RESET_INDEX_VALUES": false,
              "ROW_SAMPLING_METHOD": "random",
              "SAMPLING_FACTOR": 0.1,
              "SAMPLING_METHOD": "random",
              "STRINGIFY_COLUMN_VALUES": true,
              "STRINGIFY_INDEX_VALUES": false
            },
            "sample_history": [],
            "sampling_time": "2023-09-24T16:42:56.817810",
            "user_variable_name": null,
            "variable_name": "unk_dataframe_5ad050f982254268916e27441f7e320a"
          }
        }
      },
      "execution_count": null,
      "source": "north_america_inv_2023_T",
      "outputs": []
    },
    {
      "id": "cb80dd6b-0ab8-4a30-bc9b-c91659e1bd75",
      "cell_type": "code",
      "metadata": {
        "jupyter": {
          "outputs_hidden": false,
          "source_hidden": false
        },
        "noteable": {
          "cell_type": "code",
          "output_collection_id": "7e53d13e-bb82-4242-8fca-56407ed953fd"
        },
        "ExecuteTime": {
          "end_time": "2023-09-24T16:42:57.688636+00:00",
          "start_time": "2023-09-24T16:42:57.533372+00:00"
        }
      },
      "execution_count": null,
      "source": "# Drop the first row\n    \nnorth_america_inv_2023_T = north_america_inv_2023_T.drop(north_america_inv_2023_T.index[0]) ",
      "outputs": []
    },
    {
      "id": "979a3d13-8538-4c3b-a3e1-9c14f6c689f0",
      "cell_type": "code",
      "metadata": {
        "jupyter": {
          "outputs_hidden": false,
          "source_hidden": false
        },
        "noteable": {
          "cell_type": "code",
          "output_collection_id": "76e4fe62-35ee-43dc-a21e-faad569701cd"
        },
        "ExecuteTime": {
          "end_time": "2023-09-24T16:42:57.984346+00:00",
          "start_time": "2023-09-24T16:42:57.706860+00:00"
        },
        "datalink": {
          "897dc834-ac1f-4a64-8e21-376bdf274705": {
            "applied_filters": [],
            "dataframe_info": {
              "default_index_used": true,
              "orig_num_cols": 10,
              "orig_num_rows": 27,
              "orig_size_bytes": 2376,
              "truncated_num_cols": 10,
              "truncated_num_rows": 27,
              "truncated_size_bytes": 2376,
              "truncated_string_columns": []
            },
            "display_id": "897dc834-ac1f-4a64-8e21-376bdf274705",
            "dx_settings": {
              "ALLOW_NOTEABLE_ATTRS": true,
              "COLUMN_SAMPLING_METHOD": "outer",
              "DB_LOCATION": ":memory:",
              "DEV_MODE": false,
              "DISPLAY_MAX_COLUMNS": 100,
              "DISPLAY_MAX_ROWS": 50000,
              "DISPLAY_MODE": "simple",
              "ENABLE_ASSIGNMENT": true,
              "ENABLE_DATALINK": true,
              "FLATTEN_COLUMN_VALUES": true,
              "FLATTEN_INDEX_VALUES": false,
              "GENERATE_DEX_METADATA": false,
              "HTML_TABLE_SCHEMA": false,
              "LOG_LEVEL": 30,
              "MAX_RENDER_SIZE_BYTES": 104857600,
              "MAX_STRING_LENGTH": 250,
              "NUM_PAST_SAMPLES_TRACKED": 3,
              "RANDOM_STATE": 12648430,
              "RESET_INDEX_VALUES": false,
              "ROW_SAMPLING_METHOD": "random",
              "SAMPLING_FACTOR": 0.1,
              "SAMPLING_METHOD": "random",
              "STRINGIFY_COLUMN_VALUES": true,
              "STRINGIFY_INDEX_VALUES": false
            },
            "sample_history": [],
            "sampling_time": "2023-09-24T04:46:24.536715",
            "user_variable_name": "north_america_inv_2023_T",
            "variable_name": "north_america_inv_2023_T"
          },
          "f8bd8aa2-b22f-4aca-a479-8b6bbd5a4ced": {
            "applied_filters": [],
            "dataframe_info": {
              "default_index_used": false,
              "orig_num_cols": 28,
              "orig_num_rows": 9,
              "orig_size_bytes": 2088,
              "truncated_num_cols": 28,
              "truncated_num_rows": 9,
              "truncated_size_bytes": 2088,
              "truncated_string_columns": []
            },
            "display_id": "f8bd8aa2-b22f-4aca-a479-8b6bbd5a4ced",
            "dx_settings": {
              "ALLOW_NOTEABLE_ATTRS": true,
              "COLUMN_SAMPLING_METHOD": "outer",
              "DB_LOCATION": ":memory:",
              "DEV_MODE": false,
              "DISPLAY_MAX_COLUMNS": 100,
              "DISPLAY_MAX_ROWS": 50000,
              "DISPLAY_MODE": "simple",
              "ENABLE_ASSIGNMENT": true,
              "ENABLE_DATALINK": true,
              "FLATTEN_COLUMN_VALUES": true,
              "FLATTEN_INDEX_VALUES": false,
              "GENERATE_DEX_METADATA": false,
              "HTML_TABLE_SCHEMA": false,
              "LOG_LEVEL": 30,
              "MAX_RENDER_SIZE_BYTES": 104857600,
              "MAX_STRING_LENGTH": 250,
              "NUM_PAST_SAMPLES_TRACKED": 3,
              "RANDOM_STATE": 12648430,
              "RESET_INDEX_VALUES": false,
              "ROW_SAMPLING_METHOD": "random",
              "SAMPLING_FACTOR": 0.1,
              "SAMPLING_METHOD": "random",
              "STRINGIFY_COLUMN_VALUES": true,
              "STRINGIFY_INDEX_VALUES": false
            },
            "sample_history": [],
            "sampling_time": "2023-09-24T04:51:24.637740",
            "user_variable_name": null,
            "variable_name": "unk_dataframe_eabb2bd8c514434d92399aa49abfe894"
          },
          "fe88511b-0e04-4e49-873c-65bae5066527": {
            "applied_filters": [],
            "dataframe_info": {
              "default_index_used": false,
              "orig_num_cols": 28,
              "orig_num_rows": 9,
              "orig_size_bytes": 2088,
              "truncated_num_cols": 28,
              "truncated_num_rows": 9,
              "truncated_size_bytes": 2088,
              "truncated_string_columns": []
            },
            "display_id": "fe88511b-0e04-4e49-873c-65bae5066527",
            "dx_settings": {
              "ALLOW_NOTEABLE_ATTRS": true,
              "COLUMN_SAMPLING_METHOD": "outer",
              "DB_LOCATION": ":memory:",
              "DEV_MODE": false,
              "DISPLAY_MAX_COLUMNS": 100,
              "DISPLAY_MAX_ROWS": 50000,
              "DISPLAY_MODE": "simple",
              "ENABLE_ASSIGNMENT": true,
              "ENABLE_DATALINK": true,
              "FLATTEN_COLUMN_VALUES": true,
              "FLATTEN_INDEX_VALUES": false,
              "GENERATE_DEX_METADATA": false,
              "HTML_TABLE_SCHEMA": false,
              "LOG_LEVEL": 30,
              "MAX_RENDER_SIZE_BYTES": 104857600,
              "MAX_STRING_LENGTH": 250,
              "NUM_PAST_SAMPLES_TRACKED": 3,
              "RANDOM_STATE": 12648430,
              "RESET_INDEX_VALUES": false,
              "ROW_SAMPLING_METHOD": "random",
              "SAMPLING_FACTOR": 0.1,
              "SAMPLING_METHOD": "random",
              "STRINGIFY_COLUMN_VALUES": true,
              "STRINGIFY_INDEX_VALUES": false
            },
            "sample_history": [],
            "sampling_time": "2023-09-24T04:54:20.093239",
            "user_variable_name": null,
            "variable_name": "unk_dataframe_fcd2c8ae2bc24b2e9273c237265d0657"
          },
          "5d4c9883-1423-4604-8be3-63d2b83fbf3c": {
            "applied_filters": [],
            "dataframe_info": {
              "default_index_used": false,
              "orig_num_cols": 28,
              "orig_num_rows": 9,
              "orig_size_bytes": 2088,
              "truncated_num_cols": 28,
              "truncated_num_rows": 9,
              "truncated_size_bytes": 2088,
              "truncated_string_columns": []
            },
            "display_id": "5d4c9883-1423-4604-8be3-63d2b83fbf3c",
            "dx_settings": {
              "ALLOW_NOTEABLE_ATTRS": true,
              "COLUMN_SAMPLING_METHOD": "outer",
              "DB_LOCATION": ":memory:",
              "DEV_MODE": false,
              "DISPLAY_MAX_COLUMNS": 100,
              "DISPLAY_MAX_ROWS": 50000,
              "DISPLAY_MODE": "simple",
              "ENABLE_ASSIGNMENT": true,
              "ENABLE_DATALINK": true,
              "FLATTEN_COLUMN_VALUES": true,
              "FLATTEN_INDEX_VALUES": false,
              "GENERATE_DEX_METADATA": false,
              "HTML_TABLE_SCHEMA": false,
              "LOG_LEVEL": 30,
              "MAX_RENDER_SIZE_BYTES": 104857600,
              "MAX_STRING_LENGTH": 250,
              "NUM_PAST_SAMPLES_TRACKED": 3,
              "RANDOM_STATE": 12648430,
              "RESET_INDEX_VALUES": false,
              "ROW_SAMPLING_METHOD": "random",
              "SAMPLING_FACTOR": 0.1,
              "SAMPLING_METHOD": "random",
              "STRINGIFY_COLUMN_VALUES": true,
              "STRINGIFY_INDEX_VALUES": false
            },
            "sample_history": [],
            "sampling_time": "2023-09-24T16:42:57.819620",
            "user_variable_name": null,
            "variable_name": "unk_dataframe_b1b713b040004d32972e0f08985ca195"
          }
        }
      },
      "execution_count": null,
      "source": "north_america_inv_2023_T",
      "outputs": []
    },
    {
      "id": "6095beeb-8137-428b-a238-e901eb84d086",
      "cell_type": "code",
      "metadata": {
        "jupyter": {
          "outputs_hidden": false,
          "source_hidden": false
        },
        "noteable": {
          "cell_type": "code",
          "output_collection_id": "5d333848-490b-48aa-ad72-00197eb54e6c"
        },
        "ExecuteTime": {
          "end_time": "2023-09-24T16:42:58.146841+00:00",
          "start_time": "2023-09-24T16:42:57.989320+00:00"
        }
      },
      "execution_count": null,
      "source": "#resetting the index \n\nnorth_america_inv_2023_T = north_america_inv_2023_T.reset_index(drop=True)\n",
      "outputs": []
    },
    {
      "id": "898cb507-6552-4c0c-baa2-ef0af1f7c180",
      "cell_type": "code",
      "metadata": {
        "jupyter": {
          "outputs_hidden": false,
          "source_hidden": false
        },
        "noteable": {
          "cell_type": "code",
          "output_collection_id": "77e0b61d-19f8-48d0-acfe-adc24db08e5a"
        },
        "ExecuteTime": {
          "end_time": "2023-09-24T16:42:58.428013+00:00",
          "start_time": "2023-09-24T16:42:58.152672+00:00"
        },
        "datalink": {
          "f3eca034-5d96-4eab-b967-11deefccfc72": {
            "applied_filters": [],
            "dataframe_info": {
              "default_index_used": true,
              "orig_num_cols": 10,
              "orig_num_rows": 27,
              "orig_size_bytes": 2376,
              "truncated_num_cols": 10,
              "truncated_num_rows": 27,
              "truncated_size_bytes": 2376,
              "truncated_string_columns": []
            },
            "display_id": "f3eca034-5d96-4eab-b967-11deefccfc72",
            "dx_settings": {
              "ALLOW_NOTEABLE_ATTRS": true,
              "COLUMN_SAMPLING_METHOD": "outer",
              "DB_LOCATION": ":memory:",
              "DEV_MODE": false,
              "DISPLAY_MAX_COLUMNS": 100,
              "DISPLAY_MAX_ROWS": 50000,
              "DISPLAY_MODE": "simple",
              "ENABLE_ASSIGNMENT": true,
              "ENABLE_DATALINK": true,
              "FLATTEN_COLUMN_VALUES": true,
              "FLATTEN_INDEX_VALUES": false,
              "GENERATE_DEX_METADATA": false,
              "HTML_TABLE_SCHEMA": false,
              "LOG_LEVEL": 30,
              "MAX_RENDER_SIZE_BYTES": 104857600,
              "MAX_STRING_LENGTH": 250,
              "NUM_PAST_SAMPLES_TRACKED": 3,
              "RANDOM_STATE": 12648430,
              "RESET_INDEX_VALUES": false,
              "ROW_SAMPLING_METHOD": "random",
              "SAMPLING_FACTOR": 0.1,
              "SAMPLING_METHOD": "random",
              "STRINGIFY_COLUMN_VALUES": true,
              "STRINGIFY_INDEX_VALUES": false
            },
            "sample_history": [],
            "sampling_time": "2023-09-24T04:47:06.581797",
            "user_variable_name": "north_america_inv_2023_T",
            "variable_name": "north_america_inv_2023_T"
          },
          "dc0f5d86-c65d-466f-b66b-aaa92fee98af": {
            "applied_filters": [],
            "dataframe_info": {
              "default_index_used": true,
              "orig_num_cols": 28,
              "orig_num_rows": 9,
              "orig_size_bytes": 2088,
              "truncated_num_cols": 28,
              "truncated_num_rows": 9,
              "truncated_size_bytes": 2088,
              "truncated_string_columns": []
            },
            "display_id": "dc0f5d86-c65d-466f-b66b-aaa92fee98af",
            "dx_settings": {
              "ALLOW_NOTEABLE_ATTRS": true,
              "COLUMN_SAMPLING_METHOD": "outer",
              "DB_LOCATION": ":memory:",
              "DEV_MODE": false,
              "DISPLAY_MAX_COLUMNS": 100,
              "DISPLAY_MAX_ROWS": 50000,
              "DISPLAY_MODE": "simple",
              "ENABLE_ASSIGNMENT": true,
              "ENABLE_DATALINK": true,
              "FLATTEN_COLUMN_VALUES": true,
              "FLATTEN_INDEX_VALUES": false,
              "GENERATE_DEX_METADATA": false,
              "HTML_TABLE_SCHEMA": false,
              "LOG_LEVEL": 30,
              "MAX_RENDER_SIZE_BYTES": 104857600,
              "MAX_STRING_LENGTH": 250,
              "NUM_PAST_SAMPLES_TRACKED": 3,
              "RANDOM_STATE": 12648430,
              "RESET_INDEX_VALUES": false,
              "ROW_SAMPLING_METHOD": "random",
              "SAMPLING_FACTOR": 0.1,
              "SAMPLING_METHOD": "random",
              "STRINGIFY_COLUMN_VALUES": true,
              "STRINGIFY_INDEX_VALUES": false
            },
            "sample_history": [],
            "sampling_time": "2023-09-24T04:54:40.350239",
            "user_variable_name": null,
            "variable_name": "unk_dataframe_b895f631ea744ecd9445ac6801cffb39"
          },
          "c56be50f-5bea-4289-baf3-37d7d2caf836": {
            "applied_filters": [],
            "dataframe_info": {
              "default_index_used": true,
              "orig_num_cols": 28,
              "orig_num_rows": 9,
              "orig_size_bytes": 2088,
              "truncated_num_cols": 28,
              "truncated_num_rows": 9,
              "truncated_size_bytes": 2088,
              "truncated_string_columns": []
            },
            "display_id": "c56be50f-5bea-4289-baf3-37d7d2caf836",
            "dx_settings": {
              "ALLOW_NOTEABLE_ATTRS": true,
              "COLUMN_SAMPLING_METHOD": "outer",
              "DB_LOCATION": ":memory:",
              "DEV_MODE": false,
              "DISPLAY_MAX_COLUMNS": 100,
              "DISPLAY_MAX_ROWS": 50000,
              "DISPLAY_MODE": "simple",
              "ENABLE_ASSIGNMENT": true,
              "ENABLE_DATALINK": true,
              "FLATTEN_COLUMN_VALUES": true,
              "FLATTEN_INDEX_VALUES": false,
              "GENERATE_DEX_METADATA": false,
              "HTML_TABLE_SCHEMA": false,
              "LOG_LEVEL": 30,
              "MAX_RENDER_SIZE_BYTES": 104857600,
              "MAX_STRING_LENGTH": 250,
              "NUM_PAST_SAMPLES_TRACKED": 3,
              "RANDOM_STATE": 12648430,
              "RESET_INDEX_VALUES": false,
              "ROW_SAMPLING_METHOD": "random",
              "SAMPLING_FACTOR": 0.1,
              "SAMPLING_METHOD": "random",
              "STRINGIFY_COLUMN_VALUES": true,
              "STRINGIFY_INDEX_VALUES": false
            },
            "sample_history": [],
            "sampling_time": "2023-09-24T16:42:58.265215",
            "user_variable_name": null,
            "variable_name": "unk_dataframe_2d07605beb15462197b8e5e56c3047fe"
          }
        }
      },
      "execution_count": null,
      "source": "north_america_inv_2023_T",
      "outputs": []
    },
    {
      "id": "8838735e-ab5b-4257-b273-2bc7859659b3",
      "cell_type": "code",
      "metadata": {
        "noteable": {
          "output_collection_id": "6c81a979-84f5-48ce-a6a5-0c0f84950191"
        },
        "ExecuteTime": {
          "end_time": "2023-09-24T17:10:38.204759+00:00",
          "start_time": "2023-09-24T17:10:37.909492+00:00"
        },
        "datalink": {
          "eb0bf6d6-40ec-40c1-a2c7-2c2b32566716": {
            "applied_filters": [],
            "dataframe_info": {
              "default_index_used": true,
              "orig_num_cols": 28,
              "orig_num_rows": 9,
              "orig_size_bytes": 2088,
              "truncated_num_cols": 28,
              "truncated_num_rows": 9,
              "truncated_size_bytes": 2088,
              "truncated_string_columns": []
            },
            "display_id": "eb0bf6d6-40ec-40c1-a2c7-2c2b32566716",
            "dx_settings": {
              "ALLOW_NOTEABLE_ATTRS": true,
              "COLUMN_SAMPLING_METHOD": "outer",
              "DB_LOCATION": ":memory:",
              "DEV_MODE": false,
              "DISPLAY_MAX_COLUMNS": 100,
              "DISPLAY_MAX_ROWS": 50000,
              "DISPLAY_MODE": "simple",
              "ENABLE_ASSIGNMENT": true,
              "ENABLE_DATALINK": true,
              "FLATTEN_COLUMN_VALUES": true,
              "FLATTEN_INDEX_VALUES": false,
              "GENERATE_DEX_METADATA": false,
              "HTML_TABLE_SCHEMA": false,
              "LOG_LEVEL": 30,
              "MAX_RENDER_SIZE_BYTES": 104857600,
              "MAX_STRING_LENGTH": 250,
              "NUM_PAST_SAMPLES_TRACKED": 3,
              "RANDOM_STATE": 12648430,
              "RESET_INDEX_VALUES": false,
              "ROW_SAMPLING_METHOD": "random",
              "SAMPLING_FACTOR": 0.1,
              "SAMPLING_METHOD": "random",
              "STRINGIFY_COLUMN_VALUES": true,
              "STRINGIFY_INDEX_VALUES": false
            },
            "sample_history": [],
            "sampling_time": "2023-09-24T17:02:21.900897",
            "user_variable_name": null,
            "variable_name": "unk_dataframe_fefaf353f13847f8bb463a14faaf5aab"
          },
          "df7c66d9-d4a4-4a92-87d2-116addcd3d82": {
            "applied_filters": [],
            "dataframe_info": {
              "default_index_used": true,
              "orig_num_cols": 28,
              "orig_num_rows": 9,
              "orig_size_bytes": 2088,
              "truncated_num_cols": 28,
              "truncated_num_rows": 9,
              "truncated_size_bytes": 2088,
              "truncated_string_columns": []
            },
            "display_id": "df7c66d9-d4a4-4a92-87d2-116addcd3d82",
            "dx_settings": {
              "ALLOW_NOTEABLE_ATTRS": true,
              "COLUMN_SAMPLING_METHOD": "outer",
              "DB_LOCATION": ":memory:",
              "DEV_MODE": false,
              "DISPLAY_MAX_COLUMNS": 100,
              "DISPLAY_MAX_ROWS": 50000,
              "DISPLAY_MODE": "simple",
              "ENABLE_ASSIGNMENT": true,
              "ENABLE_DATALINK": true,
              "FLATTEN_COLUMN_VALUES": true,
              "FLATTEN_INDEX_VALUES": false,
              "GENERATE_DEX_METADATA": false,
              "HTML_TABLE_SCHEMA": false,
              "LOG_LEVEL": 30,
              "MAX_RENDER_SIZE_BYTES": 104857600,
              "MAX_STRING_LENGTH": 250,
              "NUM_PAST_SAMPLES_TRACKED": 3,
              "RANDOM_STATE": 12648430,
              "RESET_INDEX_VALUES": false,
              "ROW_SAMPLING_METHOD": "random",
              "SAMPLING_FACTOR": 0.1,
              "SAMPLING_METHOD": "random",
              "STRINGIFY_COLUMN_VALUES": true,
              "STRINGIFY_INDEX_VALUES": false
            },
            "sample_history": [],
            "sampling_time": "2023-09-24T17:03:04.876956",
            "user_variable_name": null,
            "variable_name": "unk_dataframe_ba5de11e6bc1479faf3e645c0915b72a"
          },
          "6163a313-d969-4385-83cc-fce97eeb0fdb": {
            "applied_filters": [],
            "dataframe_info": {
              "default_index_used": true,
              "orig_num_cols": 28,
              "orig_num_rows": 9,
              "orig_size_bytes": 2088,
              "truncated_num_cols": 28,
              "truncated_num_rows": 9,
              "truncated_size_bytes": 2088,
              "truncated_string_columns": []
            },
            "display_id": "6163a313-d969-4385-83cc-fce97eeb0fdb",
            "dx_settings": {
              "ALLOW_NOTEABLE_ATTRS": true,
              "COLUMN_SAMPLING_METHOD": "outer",
              "DB_LOCATION": ":memory:",
              "DEV_MODE": false,
              "DISPLAY_MAX_COLUMNS": 100,
              "DISPLAY_MAX_ROWS": 50000,
              "DISPLAY_MODE": "simple",
              "ENABLE_ASSIGNMENT": true,
              "ENABLE_DATALINK": true,
              "FLATTEN_COLUMN_VALUES": true,
              "FLATTEN_INDEX_VALUES": false,
              "GENERATE_DEX_METADATA": false,
              "HTML_TABLE_SCHEMA": false,
              "LOG_LEVEL": 30,
              "MAX_RENDER_SIZE_BYTES": 104857600,
              "MAX_STRING_LENGTH": 250,
              "NUM_PAST_SAMPLES_TRACKED": 3,
              "RANDOM_STATE": 12648430,
              "RESET_INDEX_VALUES": false,
              "ROW_SAMPLING_METHOD": "random",
              "SAMPLING_FACTOR": 0.1,
              "SAMPLING_METHOD": "random",
              "STRINGIFY_COLUMN_VALUES": true,
              "STRINGIFY_INDEX_VALUES": false
            },
            "sample_history": [],
            "sampling_time": "2023-09-24T17:05:28.113357",
            "user_variable_name": null,
            "variable_name": "unk_dataframe_ad8a411b095c4d898845ef9b8afa0193"
          },
          "4b7e9e06-9173-42db-84d1-98d0356428f0": {
            "applied_filters": [],
            "dataframe_info": {
              "default_index_used": true,
              "orig_num_cols": 28,
              "orig_num_rows": 9,
              "orig_size_bytes": 2088,
              "truncated_num_cols": 28,
              "truncated_num_rows": 9,
              "truncated_size_bytes": 2088,
              "truncated_string_columns": []
            },
            "display_id": "4b7e9e06-9173-42db-84d1-98d0356428f0",
            "dx_settings": {
              "ALLOW_NOTEABLE_ATTRS": true,
              "COLUMN_SAMPLING_METHOD": "outer",
              "DB_LOCATION": ":memory:",
              "DEV_MODE": false,
              "DISPLAY_MAX_COLUMNS": 100,
              "DISPLAY_MAX_ROWS": 50000,
              "DISPLAY_MODE": "simple",
              "ENABLE_ASSIGNMENT": true,
              "ENABLE_DATALINK": true,
              "FLATTEN_COLUMN_VALUES": true,
              "FLATTEN_INDEX_VALUES": false,
              "GENERATE_DEX_METADATA": false,
              "HTML_TABLE_SCHEMA": false,
              "LOG_LEVEL": 30,
              "MAX_RENDER_SIZE_BYTES": 104857600,
              "MAX_STRING_LENGTH": 250,
              "NUM_PAST_SAMPLES_TRACKED": 3,
              "RANDOM_STATE": 12648430,
              "RESET_INDEX_VALUES": false,
              "ROW_SAMPLING_METHOD": "random",
              "SAMPLING_FACTOR": 0.1,
              "SAMPLING_METHOD": "random",
              "STRINGIFY_COLUMN_VALUES": true,
              "STRINGIFY_INDEX_VALUES": false
            },
            "sample_history": [],
            "sampling_time": "2023-09-24T17:10:38.042272",
            "user_variable_name": null,
            "variable_name": "unk_dataframe_d8d8b23a43fc4620b7a970d32ceb89ad"
          }
        },
        "dx": {
          "dashboard": {
            "multiViews": []
          },
          "fieldMetadata": {
            "Clean Fuels": {
              "columnPosition": 19
            },
            "clean_energy": {
              "columnPosition": 4,
              "overrideType": "integer"
            },
            "coal": {
              "columnPosition": 18
            },
            "coal_1": {
              "columnPosition": 22
            },
            "electricity_networks": {
              "columnPosition": 8,
              "overrideType": "integer"
            },
            "electricity_networks_1": {
              "columnPosition": 28
            },
            "end_use": {
              "columnPosition": 10,
              "overrideType": "integer"
            },
            "energy_efficiency": {
              "columnPosition": 11,
              "overrideType": "number"
            },
            "fossil_fuels": {
              "columnPosition": 15,
              "overrideType": "integer"
            },
            "fossil_fuels_with_ccus": {
              "columnPosition": 26
            },
            "fossil_fuels_without_ccus": {
              "columnPosition": 6,
              "overrideType": "integer"
            },
            "fuels": {
              "columnPosition": 14,
              "overrideType": "integer"
            },
            "gas": {
              "columnPosition": 17
            },
            "generation": {
              "columnPosition": 21
            },
            "index": {
              "columnPosition": 1
            },
            "memo_oil_gas_upstream": {
              "columnPosition": 29
            },
            "nuclear": {
              "columnPosition": 24
            },
            "oil": {
              "columnPosition": 16
            },
            "oil_natural_gas": {
              "columnPosition": 23
            },
            "other_end_use": {
              "columnPosition": 12,
              "overrideType": "number"
            },
            "other_end_use_renewables": {
              "columnPosition": 13,
              "overrideType": "number"
            },
            "other_supply": {
              "columnPosition": 9,
              "overrideType": "integer"
            },
            "power": {
              "columnPosition": 20
            },
            "renewables": {
              "columnPosition": 7,
              "overrideType": "number"
            },
            "renewables_1": {
              "columnPosition": 25
            },
            "storage": {
              "columnPosition": 27
            },
            "supply_type": {
              "columnPosition": 5,
              "overrideType": "integer"
            },
            "total_billions": {
              "columnPosition": 3,
              "overrideType": "integer"
            },
            "year": {
              "columnPosition": 2,
              "dateFormat": "yyyy",
              "format": "yyyy",
              "overrideType": "datetime"
            }
          },
          "updated": 1695575708485,
          "views": [
            {
              "annotationRules": [],
              "chart": {},
              "chartMode": "empty",
              "confoRules": [],
              "decoration": {
                "footer": "",
                "subtitle": "",
                "title": "New View"
              },
              "facets": [],
              "filterSettings": {
                "SHOW_FILTER_PANEL": true,
                "filters": []
              },
              "id": "29c2f73c-b640-4c14-a91b-752c2fb6132e",
              "isDefault": false,
              "type": "public",
              "userID": ""
            },
            {
              "annotationRules": [],
              "chart": {},
              "chartMode": "empty",
              "confoRules": [],
              "decoration": {
                "footer": "",
                "subtitle": "",
                "title": "New View"
              },
              "facets": [],
              "filterSettings": {
                "SHOW_FILTER_PANEL": true,
                "filters": []
              },
              "id": "c97b9ffc-cc65-42ea-b7e2-0f35fff6221f",
              "isDefault": false,
              "type": "public",
              "userID": ""
            },
            {
              "annotationRules": [],
              "chart": {
                "facets": []
              },
              "chartMode": "grid",
              "confoRules": [],
              "decoration": {
                "footer": "",
                "subtitle": "",
                "title": "Table"
              },
              "facets": [],
              "filterSettings": {
                "SHOW_FILTER_PANEL": true,
                "filters": []
              },
              "id": "29c2f73c-b640-4c14-a91b-752c2fb6132e",
              "isDefault": false,
              "isTransitory": true,
              "type": "public",
              "userID": ""
            }
          ]
        }
      },
      "execution_count": null,
      "source": "# Renaming columns for readability\n\nnorth_america_inv_2023_T.rename(columns={\n    \"North America\":\"year\",\n    \"Total (billion $2022)\": \"total_billions\",\n    \"of which: Clean energy\":\"clean_energy\",\n    \"Supply (by type)\":\"supply_type\",\n    \"Fossil fuels without CCUS\":\"fossil_fuels_without_ccus\",\n    \"Renewables\":\"renewables\",\n    \"Electricity networks\":\"electricity_networks\",\n    \"Other supply\":\"other_supply\",\n    \"End-use\":\"end_use\",\n    \"Energy efficiency\": \"energy_efficiency\",\n    \"Other end-use\":\"other_end_use\",\n    \"Other end-use renewables\":\"other_end_use_renewables\",\n    \"Fuels\":\"fuels\",\n    \"Fossil fuels\":\"fossil_fuels\",\n    \"Oil\":\"oil\",\n    \"Gas\":\"gas\",\n    \"Coal\":\"coal\",\n    \"Clean_fuels\":\"clean_fuels\",\n    \"Power\":\"power\",\n    \"Generation\": \"generation\",\n    \"Coal_1\":\"coal_1\",\n    \"Oil and natural gas\":\"oil_natural_gas\",\n    \"Nuclear\":\"nuclear\",\n    \"Renewables_1\":\"renewables_1\",\n    \"Fossil fuels: with CCUS\":\"fossil_fuels_with_ccus\",\n    \"Storage\":\"storage\",\n    \"Electricity networks_1\":\"electricity_networks_1\",\n    \"Memo: Oil & gas upstream\":\"memo_oil_gas_upstream\" \n    })",
      "outputs": []
    },
    {
      "id": "edd51698-5827-4f38-ae47-ea44286ee474",
      "cell_type": "code",
      "metadata": {
        "jupyter": {
          "outputs_hidden": false,
          "source_hidden": false
        },
        "noteable": {
          "cell_type": "code"
        }
      },
      "execution_count": null,
      "source": "",
      "outputs": []
    },
    {
      "id": "04c805bb-1382-4a68-82c2-00969de8b226",
      "cell_type": "markdown",
      "source": "**Fossil fuel investments are higher than the clean energy investments from 2015-2019 and peaks in 2018.**\n\n**Why were investments high in North America during that time?**\n* USA announced its withdrawal from the Paris Climate Agreement in 2017 leading to favorable policy environments for the fossil fuel industry and increased investments in fossil fuels.\n* Canada supported the expansion of the fossil fuel sector especially in 2019 with approval and investments in the Trans Mountain pipeline project mainly for transporting oil from Alberta to the U.S. and other markets.\n\nThe decline in fossil fuel investments started with the Pandemic in 2020 and has been rising gradually but the investments in cleaner energy are increasing at the same time which is a good sign.\n\nThere is a steady rise in clean energy investments in North America from 2018-2023. \n\n",
      "metadata": {
        "noteable": {
          "cell_type": "markdown"
        }
      }
    },
    {
      "id": "7161a18f-3931-45d5-afb3-03849df22af8",
      "cell_type": "markdown",
      "source": "# Looking at advanced economies data\n\n",
      "metadata": {
        "noteable": {
          "cell_type": "markdown"
        }
      }
    },
    {
      "id": "7e531f5a-cfd7-42df-9d6a-89f69fba5583",
      "cell_type": "code",
      "metadata": {
        "noteable": {
          "cell_type": "python",
          "output_collection_id": "ed50efaf-cc5b-47ad-9eed-82ebe0df666d"
        },
        "ExecuteTime": {
          "end_time": "2023-09-24T16:42:59.066607+00:00",
          "start_time": "2023-09-24T16:42:58.804122+00:00"
        }
      },
      "execution_count": null,
      "source": "advance_economies_inv_2023 = pd.read_excel(w_energy_inv_2023, 'Advanced Economies', skiprows=[0])",
      "outputs": []
    },
    {
      "id": "0968889a-904c-453d-ac4b-563c859a9dbe",
      "cell_type": "code",
      "metadata": {
        "jupyter": {
          "outputs_hidden": false,
          "source_hidden": false
        },
        "noteable": {
          "cell_type": "code",
          "output_collection_id": "c0547f1c-405a-488e-82c0-117c0a047353"
        },
        "ExecuteTime": {
          "end_time": "2023-09-24T16:42:59.365794+00:00",
          "start_time": "2023-09-24T16:42:59.210072+00:00"
        }
      },
      "execution_count": null,
      "source": "# Looking at the shape\nadvance_economies_inv_2023.shape",
      "outputs": []
    },
    {
      "id": "a23d52ea-e2a4-4735-89c8-8b756080c35c",
      "cell_type": "code",
      "metadata": {
        "jupyter": {
          "outputs_hidden": false,
          "source_hidden": false
        },
        "noteable": {
          "cell_type": "code",
          "output_collection_id": "559ec5f0-77c5-45d1-b114-2a5bc2d670b9"
        },
        "ExecuteTime": {
          "end_time": "2023-09-24T16:42:59.623395+00:00",
          "start_time": "2023-09-24T16:42:59.426828+00:00"
        },
        "datalink": {
          "d7ab96bd-9db8-4f77-9de7-20ef3e79a2e8": {
            "applied_filters": [],
            "dataframe_info": {
              "default_index_used": false,
              "orig_num_cols": 1,
              "orig_num_rows": 10,
              "orig_size_bytes": 160,
              "truncated_num_cols": 1,
              "truncated_num_rows": 10,
              "truncated_size_bytes": 160,
              "truncated_string_columns": []
            },
            "display_id": "d7ab96bd-9db8-4f77-9de7-20ef3e79a2e8",
            "dx_settings": {
              "ALLOW_NOTEABLE_ATTRS": true,
              "COLUMN_SAMPLING_METHOD": "outer",
              "DB_LOCATION": ":memory:",
              "DEV_MODE": false,
              "DISPLAY_MAX_COLUMNS": 100,
              "DISPLAY_MAX_ROWS": 50000,
              "DISPLAY_MODE": "simple",
              "ENABLE_ASSIGNMENT": true,
              "ENABLE_DATALINK": true,
              "FLATTEN_COLUMN_VALUES": true,
              "FLATTEN_INDEX_VALUES": false,
              "GENERATE_DEX_METADATA": false,
              "HTML_TABLE_SCHEMA": false,
              "LOG_LEVEL": 30,
              "MAX_RENDER_SIZE_BYTES": 104857600,
              "MAX_STRING_LENGTH": 250,
              "NUM_PAST_SAMPLES_TRACKED": 3,
              "RANDOM_STATE": 12648430,
              "RESET_INDEX_VALUES": false,
              "ROW_SAMPLING_METHOD": "random",
              "SAMPLING_FACTOR": 0.1,
              "SAMPLING_METHOD": "random",
              "STRINGIFY_COLUMN_VALUES": true,
              "STRINGIFY_INDEX_VALUES": false
            },
            "sample_history": [],
            "sampling_time": "2023-09-24T01:45:32.237033",
            "user_variable_name": null,
            "variable_name": "unk_dataframe_9a450adc0f2b436c8f85255fd32fb930"
          },
          "fbdf358b-2a7b-4558-8603-afdb0bdc1a04": {
            "applied_filters": [],
            "dataframe_info": {
              "default_index_used": false,
              "orig_num_cols": 1,
              "orig_num_rows": 11,
              "orig_size_bytes": 176,
              "truncated_num_cols": 1,
              "truncated_num_rows": 11,
              "truncated_size_bytes": 176,
              "truncated_string_columns": []
            },
            "display_id": "fbdf358b-2a7b-4558-8603-afdb0bdc1a04",
            "dx_settings": {
              "ALLOW_NOTEABLE_ATTRS": true,
              "COLUMN_SAMPLING_METHOD": "outer",
              "DB_LOCATION": ":memory:",
              "DEV_MODE": false,
              "DISPLAY_MAX_COLUMNS": 100,
              "DISPLAY_MAX_ROWS": 50000,
              "DISPLAY_MODE": "simple",
              "ENABLE_ASSIGNMENT": true,
              "ENABLE_DATALINK": true,
              "FLATTEN_COLUMN_VALUES": true,
              "FLATTEN_INDEX_VALUES": false,
              "GENERATE_DEX_METADATA": false,
              "HTML_TABLE_SCHEMA": false,
              "LOG_LEVEL": 30,
              "MAX_RENDER_SIZE_BYTES": 104857600,
              "MAX_STRING_LENGTH": 250,
              "NUM_PAST_SAMPLES_TRACKED": 3,
              "RANDOM_STATE": 12648430,
              "RESET_INDEX_VALUES": false,
              "ROW_SAMPLING_METHOD": "random",
              "SAMPLING_FACTOR": 0.1,
              "SAMPLING_METHOD": "random",
              "STRINGIFY_COLUMN_VALUES": true,
              "STRINGIFY_INDEX_VALUES": false
            },
            "sample_history": [],
            "sampling_time": "2023-09-24T01:45:47.311068",
            "user_variable_name": null,
            "variable_name": "unk_dataframe_c2e5c0a669f8453ab4d16b55d5b7b585"
          },
          "6fbfbe37-922d-4084-990c-dfaf02f0b2b7": {
            "applied_filters": [],
            "dataframe_info": {
              "default_index_used": false,
              "orig_num_cols": 1,
              "orig_num_rows": 11,
              "orig_size_bytes": 176,
              "truncated_num_cols": 1,
              "truncated_num_rows": 11,
              "truncated_size_bytes": 176,
              "truncated_string_columns": []
            },
            "display_id": "6fbfbe37-922d-4084-990c-dfaf02f0b2b7",
            "dx_settings": {
              "ALLOW_NOTEABLE_ATTRS": true,
              "COLUMN_SAMPLING_METHOD": "outer",
              "DB_LOCATION": ":memory:",
              "DEV_MODE": false,
              "DISPLAY_MAX_COLUMNS": 100,
              "DISPLAY_MAX_ROWS": 50000,
              "DISPLAY_MODE": "simple",
              "ENABLE_ASSIGNMENT": true,
              "ENABLE_DATALINK": true,
              "FLATTEN_COLUMN_VALUES": true,
              "FLATTEN_INDEX_VALUES": false,
              "GENERATE_DEX_METADATA": false,
              "HTML_TABLE_SCHEMA": false,
              "LOG_LEVEL": 30,
              "MAX_RENDER_SIZE_BYTES": 104857600,
              "MAX_STRING_LENGTH": 250,
              "NUM_PAST_SAMPLES_TRACKED": 3,
              "RANDOM_STATE": 12648430,
              "RESET_INDEX_VALUES": false,
              "ROW_SAMPLING_METHOD": "random",
              "SAMPLING_FACTOR": 0.1,
              "SAMPLING_METHOD": "random",
              "STRINGIFY_COLUMN_VALUES": true,
              "STRINGIFY_INDEX_VALUES": false
            },
            "sample_history": [],
            "sampling_time": "2023-09-24T04:12:30.454107",
            "user_variable_name": null,
            "variable_name": "unk_dataframe_3722b28a325d4fde9196142011d86c06"
          },
          "006ab033-3b4b-4a97-958c-4e24157aae4c": {
            "applied_filters": [],
            "dataframe_info": {
              "default_index_used": false,
              "orig_num_cols": 1,
              "orig_num_rows": 11,
              "orig_size_bytes": 176,
              "truncated_num_cols": 1,
              "truncated_num_rows": 11,
              "truncated_size_bytes": 176,
              "truncated_string_columns": []
            },
            "display_id": "006ab033-3b4b-4a97-958c-4e24157aae4c",
            "dx_settings": {
              "ALLOW_NOTEABLE_ATTRS": true,
              "COLUMN_SAMPLING_METHOD": "outer",
              "DB_LOCATION": ":memory:",
              "DEV_MODE": false,
              "DISPLAY_MAX_COLUMNS": 100,
              "DISPLAY_MAX_ROWS": 50000,
              "DISPLAY_MODE": "simple",
              "ENABLE_ASSIGNMENT": true,
              "ENABLE_DATALINK": true,
              "FLATTEN_COLUMN_VALUES": true,
              "FLATTEN_INDEX_VALUES": false,
              "GENERATE_DEX_METADATA": false,
              "HTML_TABLE_SCHEMA": false,
              "LOG_LEVEL": 30,
              "MAX_RENDER_SIZE_BYTES": 104857600,
              "MAX_STRING_LENGTH": 250,
              "NUM_PAST_SAMPLES_TRACKED": 3,
              "RANDOM_STATE": 12648430,
              "RESET_INDEX_VALUES": false,
              "ROW_SAMPLING_METHOD": "random",
              "SAMPLING_FACTOR": 0.1,
              "SAMPLING_METHOD": "random",
              "STRINGIFY_COLUMN_VALUES": true,
              "STRINGIFY_INDEX_VALUES": false
            },
            "sample_history": [],
            "sampling_time": "2023-09-24T16:42:59.465669",
            "user_variable_name": null,
            "variable_name": "unk_dataframe_802d6b93a6b24c3aa1a001aba4f0959e"
          }
        }
      },
      "execution_count": null,
      "source": "# Looking at null values\n\nadvance_economies_inv_2023.isna().sum()",
      "outputs": []
    },
    {
      "id": "03f14597-d158-4972-bdcc-c494312ebb72",
      "cell_type": "code",
      "metadata": {
        "jupyter": {
          "outputs_hidden": false,
          "source_hidden": false
        },
        "noteable": {
          "cell_type": "code",
          "output_collection_id": "43ba82ef-c67e-4249-b144-1a50eb03e68b"
        },
        "ExecuteTime": {
          "end_time": "2023-09-24T16:43:00.325689+00:00",
          "start_time": "2023-09-24T16:43:00.110526+00:00"
        },
        "datalink": {
          "ec3f9bf0-a869-4cf8-bd15-cc2866cbd3ca": {
            "applied_filters": [],
            "dataframe_info": {
              "default_index_used": true,
              "orig_num_cols": 11,
              "orig_num_rows": 32,
              "orig_size_bytes": 3072,
              "truncated_num_cols": 11,
              "truncated_num_rows": 32,
              "truncated_size_bytes": 3072,
              "truncated_string_columns": []
            },
            "display_id": "ec3f9bf0-a869-4cf8-bd15-cc2866cbd3ca",
            "dx_settings": {
              "ALLOW_NOTEABLE_ATTRS": true,
              "COLUMN_SAMPLING_METHOD": "outer",
              "DB_LOCATION": ":memory:",
              "DEV_MODE": false,
              "DISPLAY_MAX_COLUMNS": 100,
              "DISPLAY_MAX_ROWS": 50000,
              "DISPLAY_MODE": "simple",
              "ENABLE_ASSIGNMENT": true,
              "ENABLE_DATALINK": true,
              "FLATTEN_COLUMN_VALUES": true,
              "FLATTEN_INDEX_VALUES": false,
              "GENERATE_DEX_METADATA": false,
              "HTML_TABLE_SCHEMA": false,
              "LOG_LEVEL": 30,
              "MAX_RENDER_SIZE_BYTES": 104857600,
              "MAX_STRING_LENGTH": 250,
              "NUM_PAST_SAMPLES_TRACKED": 3,
              "RANDOM_STATE": 12648430,
              "RESET_INDEX_VALUES": false,
              "ROW_SAMPLING_METHOD": "random",
              "SAMPLING_FACTOR": 0.1,
              "SAMPLING_METHOD": "random",
              "STRINGIFY_COLUMN_VALUES": true,
              "STRINGIFY_INDEX_VALUES": false
            },
            "sample_history": [],
            "sampling_time": "2023-09-24T01:30:34.422620",
            "user_variable_name": "advance_economies_inv_2023",
            "variable_name": "advance_economies_inv_2023"
          },
          "241dafce-2e93-4c2c-a93f-5f4da1ef45fe": {
            "applied_filters": [],
            "dataframe_info": {
              "default_index_used": false,
              "orig_num_cols": 28,
              "orig_num_rows": 9,
              "orig_size_bytes": 2088,
              "truncated_num_cols": 28,
              "truncated_num_rows": 9,
              "truncated_size_bytes": 2088,
              "truncated_string_columns": []
            },
            "display_id": "241dafce-2e93-4c2c-a93f-5f4da1ef45fe",
            "dx_settings": {
              "ALLOW_NOTEABLE_ATTRS": true,
              "COLUMN_SAMPLING_METHOD": "outer",
              "DB_LOCATION": ":memory:",
              "DEV_MODE": false,
              "DISPLAY_MAX_COLUMNS": 100,
              "DISPLAY_MAX_ROWS": 50000,
              "DISPLAY_MODE": "simple",
              "ENABLE_ASSIGNMENT": true,
              "ENABLE_DATALINK": true,
              "FLATTEN_COLUMN_VALUES": true,
              "FLATTEN_INDEX_VALUES": false,
              "GENERATE_DEX_METADATA": false,
              "HTML_TABLE_SCHEMA": false,
              "LOG_LEVEL": 30,
              "MAX_RENDER_SIZE_BYTES": 104857600,
              "MAX_STRING_LENGTH": 250,
              "NUM_PAST_SAMPLES_TRACKED": 3,
              "RANDOM_STATE": 12648430,
              "RESET_INDEX_VALUES": false,
              "ROW_SAMPLING_METHOD": "random",
              "SAMPLING_FACTOR": 0.1,
              "SAMPLING_METHOD": "random",
              "STRINGIFY_COLUMN_VALUES": true,
              "STRINGIFY_INDEX_VALUES": false
            },
            "sample_history": [],
            "sampling_time": "2023-09-24T01:43:02.102560",
            "user_variable_name": "advance_economies_inv_2023",
            "variable_name": "advance_economies_inv_2023"
          },
          "308bc160-e618-4c46-8395-9fdbfd123639": {
            "applied_filters": [],
            "dataframe_info": {
              "default_index_used": true,
              "orig_num_cols": 11,
              "orig_num_rows": 32,
              "orig_size_bytes": 3072,
              "truncated_num_cols": 11,
              "truncated_num_rows": 32,
              "truncated_size_bytes": 3072,
              "truncated_string_columns": []
            },
            "display_id": "308bc160-e618-4c46-8395-9fdbfd123639",
            "dx_settings": {
              "ALLOW_NOTEABLE_ATTRS": true,
              "COLUMN_SAMPLING_METHOD": "outer",
              "DB_LOCATION": ":memory:",
              "DEV_MODE": false,
              "DISPLAY_MAX_COLUMNS": 100,
              "DISPLAY_MAX_ROWS": 50000,
              "DISPLAY_MODE": "simple",
              "ENABLE_ASSIGNMENT": true,
              "ENABLE_DATALINK": true,
              "FLATTEN_COLUMN_VALUES": true,
              "FLATTEN_INDEX_VALUES": false,
              "GENERATE_DEX_METADATA": false,
              "HTML_TABLE_SCHEMA": false,
              "LOG_LEVEL": 30,
              "MAX_RENDER_SIZE_BYTES": 104857600,
              "MAX_STRING_LENGTH": 250,
              "NUM_PAST_SAMPLES_TRACKED": 3,
              "RANDOM_STATE": 12648430,
              "RESET_INDEX_VALUES": false,
              "ROW_SAMPLING_METHOD": "random",
              "SAMPLING_FACTOR": 0.1,
              "SAMPLING_METHOD": "random",
              "STRINGIFY_COLUMN_VALUES": true,
              "STRINGIFY_INDEX_VALUES": false
            },
            "sample_history": [],
            "sampling_time": "2023-09-24T04:12:33.348854",
            "user_variable_name": "advance_economies_inv_2023",
            "variable_name": "advance_economies_inv_2023"
          },
          "c73ea184-5764-454e-b9fb-ab4bd6eb793c": {
            "applied_filters": [],
            "dataframe_info": {
              "default_index_used": true,
              "orig_num_cols": 11,
              "orig_num_rows": 32,
              "orig_size_bytes": 3072,
              "truncated_num_cols": 11,
              "truncated_num_rows": 32,
              "truncated_size_bytes": 3072,
              "truncated_string_columns": []
            },
            "display_id": "c73ea184-5764-454e-b9fb-ab4bd6eb793c",
            "dx_settings": {
              "ALLOW_NOTEABLE_ATTRS": true,
              "COLUMN_SAMPLING_METHOD": "outer",
              "DB_LOCATION": ":memory:",
              "DEV_MODE": false,
              "DISPLAY_MAX_COLUMNS": 100,
              "DISPLAY_MAX_ROWS": 50000,
              "DISPLAY_MODE": "simple",
              "ENABLE_ASSIGNMENT": true,
              "ENABLE_DATALINK": true,
              "FLATTEN_COLUMN_VALUES": true,
              "FLATTEN_INDEX_VALUES": false,
              "GENERATE_DEX_METADATA": false,
              "HTML_TABLE_SCHEMA": false,
              "LOG_LEVEL": 30,
              "MAX_RENDER_SIZE_BYTES": 104857600,
              "MAX_STRING_LENGTH": 250,
              "NUM_PAST_SAMPLES_TRACKED": 3,
              "RANDOM_STATE": 12648430,
              "RESET_INDEX_VALUES": false,
              "ROW_SAMPLING_METHOD": "random",
              "SAMPLING_FACTOR": 0.1,
              "SAMPLING_METHOD": "random",
              "STRINGIFY_COLUMN_VALUES": true,
              "STRINGIFY_INDEX_VALUES": false
            },
            "sample_history": [],
            "sampling_time": "2023-09-24T16:43:00.166056",
            "user_variable_name": "advance_economies_inv_2023",
            "variable_name": "advance_economies_inv_2023"
          }
        }
      },
      "execution_count": null,
      "source": "advance_economies_inv_2023",
      "outputs": []
    },
    {
      "id": "54cfed74-c08b-41de-8734-ad61c7021132",
      "cell_type": "code",
      "metadata": {
        "jupyter": {
          "outputs_hidden": false,
          "source_hidden": false
        },
        "noteable": {
          "cell_type": "code",
          "output_collection_id": "0fb1174a-d8c4-4b1a-b45d-f18b7d27fd88"
        },
        "ExecuteTime": {
          "end_time": "2023-09-24T16:43:00.558147+00:00",
          "start_time": "2023-09-24T16:43:00.402050+00:00"
        }
      },
      "execution_count": null,
      "source": "## dropping first column with all missing values\n\nadvance_economies_inv_2023.drop(advance_economies_inv_2023.columns[0], axis=1, inplace=True)",
      "outputs": []
    },
    {
      "id": "67247c3a-7ef0-4225-9496-2dde35b7706b",
      "cell_type": "code",
      "metadata": {
        "jupyter": {
          "outputs_hidden": false,
          "source_hidden": false
        },
        "noteable": {
          "cell_type": "code",
          "output_collection_id": "a2afc46f-23dc-44ae-9f9f-49fb1654fb93"
        },
        "ExecuteTime": {
          "end_time": "2023-09-24T16:43:00.783721+00:00",
          "start_time": "2023-09-24T16:43:00.563198+00:00"
        },
        "datalink": {
          "8d832405-9171-4fbe-86d3-62cb89acf9bd": {
            "applied_filters": [],
            "dataframe_info": {
              "default_index_used": true,
              "orig_num_cols": 10,
              "orig_num_rows": 32,
              "orig_size_bytes": 2816,
              "truncated_num_cols": 10,
              "truncated_num_rows": 32,
              "truncated_size_bytes": 2816,
              "truncated_string_columns": []
            },
            "display_id": "8d832405-9171-4fbe-86d3-62cb89acf9bd",
            "dx_settings": {
              "ALLOW_NOTEABLE_ATTRS": true,
              "COLUMN_SAMPLING_METHOD": "outer",
              "DB_LOCATION": ":memory:",
              "DEV_MODE": false,
              "DISPLAY_MAX_COLUMNS": 100,
              "DISPLAY_MAX_ROWS": 50000,
              "DISPLAY_MODE": "simple",
              "ENABLE_ASSIGNMENT": true,
              "ENABLE_DATALINK": true,
              "FLATTEN_COLUMN_VALUES": true,
              "FLATTEN_INDEX_VALUES": false,
              "GENERATE_DEX_METADATA": false,
              "HTML_TABLE_SCHEMA": false,
              "LOG_LEVEL": 30,
              "MAX_RENDER_SIZE_BYTES": 104857600,
              "MAX_STRING_LENGTH": 250,
              "NUM_PAST_SAMPLES_TRACKED": 3,
              "RANDOM_STATE": 12648430,
              "RESET_INDEX_VALUES": false,
              "ROW_SAMPLING_METHOD": "random",
              "SAMPLING_FACTOR": 0.1,
              "SAMPLING_METHOD": "random",
              "STRINGIFY_COLUMN_VALUES": true,
              "STRINGIFY_INDEX_VALUES": false
            },
            "sample_history": [],
            "sampling_time": "2023-09-24T01:32:08.311481",
            "user_variable_name": "advance_economies_inv_2023",
            "variable_name": "advance_economies_inv_2023"
          },
          "219fe97f-a4db-447a-9417-bca27004ae9e": {
            "applied_filters": [],
            "dataframe_info": {
              "default_index_used": true,
              "orig_num_cols": 9,
              "orig_num_rows": 32,
              "orig_size_bytes": 2560,
              "truncated_num_cols": 9,
              "truncated_num_rows": 32,
              "truncated_size_bytes": 2560,
              "truncated_string_columns": []
            },
            "display_id": "219fe97f-a4db-447a-9417-bca27004ae9e",
            "dx_settings": {
              "ALLOW_NOTEABLE_ATTRS": true,
              "COLUMN_SAMPLING_METHOD": "outer",
              "DB_LOCATION": ":memory:",
              "DEV_MODE": false,
              "DISPLAY_MAX_COLUMNS": 100,
              "DISPLAY_MAX_ROWS": 50000,
              "DISPLAY_MODE": "simple",
              "ENABLE_ASSIGNMENT": true,
              "ENABLE_DATALINK": true,
              "FLATTEN_COLUMN_VALUES": true,
              "FLATTEN_INDEX_VALUES": false,
              "GENERATE_DEX_METADATA": false,
              "HTML_TABLE_SCHEMA": false,
              "LOG_LEVEL": 30,
              "MAX_RENDER_SIZE_BYTES": 104857600,
              "MAX_STRING_LENGTH": 250,
              "NUM_PAST_SAMPLES_TRACKED": 3,
              "RANDOM_STATE": 12648430,
              "RESET_INDEX_VALUES": false,
              "ROW_SAMPLING_METHOD": "random",
              "SAMPLING_FACTOR": 0.1,
              "SAMPLING_METHOD": "random",
              "STRINGIFY_COLUMN_VALUES": true,
              "STRINGIFY_INDEX_VALUES": false
            },
            "sample_history": [],
            "sampling_time": "2023-09-24T01:33:48.940315",
            "user_variable_name": "advance_economies_inv_2023",
            "variable_name": "advance_economies_inv_2023"
          },
          "b0fb704e-a21d-4368-acb6-8a6bd2529baf": {
            "applied_filters": [],
            "dataframe_info": {
              "default_index_used": true,
              "orig_num_cols": 10,
              "orig_num_rows": 32,
              "orig_size_bytes": 2816,
              "truncated_num_cols": 10,
              "truncated_num_rows": 32,
              "truncated_size_bytes": 2816,
              "truncated_string_columns": []
            },
            "display_id": "b0fb704e-a21d-4368-acb6-8a6bd2529baf",
            "dx_settings": {
              "ALLOW_NOTEABLE_ATTRS": true,
              "COLUMN_SAMPLING_METHOD": "outer",
              "DB_LOCATION": ":memory:",
              "DEV_MODE": false,
              "DISPLAY_MAX_COLUMNS": 100,
              "DISPLAY_MAX_ROWS": 50000,
              "DISPLAY_MODE": "simple",
              "ENABLE_ASSIGNMENT": true,
              "ENABLE_DATALINK": true,
              "FLATTEN_COLUMN_VALUES": true,
              "FLATTEN_INDEX_VALUES": false,
              "GENERATE_DEX_METADATA": false,
              "HTML_TABLE_SCHEMA": false,
              "LOG_LEVEL": 30,
              "MAX_RENDER_SIZE_BYTES": 104857600,
              "MAX_STRING_LENGTH": 250,
              "NUM_PAST_SAMPLES_TRACKED": 3,
              "RANDOM_STATE": 12648430,
              "RESET_INDEX_VALUES": false,
              "ROW_SAMPLING_METHOD": "random",
              "SAMPLING_FACTOR": 0.1,
              "SAMPLING_METHOD": "random",
              "STRINGIFY_COLUMN_VALUES": true,
              "STRINGIFY_INDEX_VALUES": false
            },
            "sample_history": [],
            "sampling_time": "2023-09-24T01:46:17.126055",
            "user_variable_name": "advance_economies_inv_2023",
            "variable_name": "advance_economies_inv_2023"
          },
          "0f2ef338-6e2b-4fda-81da-2badfc45a847": {
            "applied_filters": [],
            "dataframe_info": {
              "default_index_used": true,
              "orig_num_cols": 10,
              "orig_num_rows": 32,
              "orig_size_bytes": 2816,
              "truncated_num_cols": 10,
              "truncated_num_rows": 32,
              "truncated_size_bytes": 2816,
              "truncated_string_columns": []
            },
            "display_id": "0f2ef338-6e2b-4fda-81da-2badfc45a847",
            "dx_settings": {
              "ALLOW_NOTEABLE_ATTRS": true,
              "COLUMN_SAMPLING_METHOD": "outer",
              "DB_LOCATION": ":memory:",
              "DEV_MODE": false,
              "DISPLAY_MAX_COLUMNS": 100,
              "DISPLAY_MAX_ROWS": 50000,
              "DISPLAY_MODE": "simple",
              "ENABLE_ASSIGNMENT": true,
              "ENABLE_DATALINK": true,
              "FLATTEN_COLUMN_VALUES": true,
              "FLATTEN_INDEX_VALUES": false,
              "GENERATE_DEX_METADATA": false,
              "HTML_TABLE_SCHEMA": false,
              "LOG_LEVEL": 30,
              "MAX_RENDER_SIZE_BYTES": 104857600,
              "MAX_STRING_LENGTH": 250,
              "NUM_PAST_SAMPLES_TRACKED": 3,
              "RANDOM_STATE": 12648430,
              "RESET_INDEX_VALUES": false,
              "ROW_SAMPLING_METHOD": "random",
              "SAMPLING_FACTOR": 0.1,
              "SAMPLING_METHOD": "random",
              "STRINGIFY_COLUMN_VALUES": true,
              "STRINGIFY_INDEX_VALUES": false
            },
            "sample_history": [],
            "sampling_time": "2023-09-24T04:12:43.375022",
            "user_variable_name": "advance_economies_inv_2023",
            "variable_name": "advance_economies_inv_2023"
          },
          "f4414389-ed19-4472-8573-9e3c2fd3021f": {
            "applied_filters": [],
            "dataframe_info": {
              "default_index_used": true,
              "orig_num_cols": 10,
              "orig_num_rows": 32,
              "orig_size_bytes": 2816,
              "truncated_num_cols": 10,
              "truncated_num_rows": 32,
              "truncated_size_bytes": 2816,
              "truncated_string_columns": []
            },
            "display_id": "f4414389-ed19-4472-8573-9e3c2fd3021f",
            "dx_settings": {
              "ALLOW_NOTEABLE_ATTRS": true,
              "COLUMN_SAMPLING_METHOD": "outer",
              "DB_LOCATION": ":memory:",
              "DEV_MODE": false,
              "DISPLAY_MAX_COLUMNS": 100,
              "DISPLAY_MAX_ROWS": 50000,
              "DISPLAY_MODE": "simple",
              "ENABLE_ASSIGNMENT": true,
              "ENABLE_DATALINK": true,
              "FLATTEN_COLUMN_VALUES": true,
              "FLATTEN_INDEX_VALUES": false,
              "GENERATE_DEX_METADATA": false,
              "HTML_TABLE_SCHEMA": false,
              "LOG_LEVEL": 30,
              "MAX_RENDER_SIZE_BYTES": 104857600,
              "MAX_STRING_LENGTH": 250,
              "NUM_PAST_SAMPLES_TRACKED": 3,
              "RANDOM_STATE": 12648430,
              "RESET_INDEX_VALUES": false,
              "ROW_SAMPLING_METHOD": "random",
              "SAMPLING_FACTOR": 0.1,
              "SAMPLING_METHOD": "random",
              "STRINGIFY_COLUMN_VALUES": true,
              "STRINGIFY_INDEX_VALUES": false
            },
            "sample_history": [],
            "sampling_time": "2023-09-24T16:43:00.623733",
            "user_variable_name": "advance_economies_inv_2023",
            "variable_name": "advance_economies_inv_2023"
          }
        }
      },
      "execution_count": null,
      "source": "advance_economies_inv_2023 # Looking at the dataframe again",
      "outputs": []
    },
    {
      "id": "02e05e64-83b0-4174-9f6a-d48037c8616a",
      "cell_type": "code",
      "metadata": {
        "jupyter": {
          "outputs_hidden": false,
          "source_hidden": false
        },
        "noteable": {
          "cell_type": "code",
          "output_collection_id": "d4dcf2e4-9f71-4d95-8e6d-8480559966e0"
        },
        "ExecuteTime": {
          "end_time": "2023-09-24T16:43:00.991986+00:00",
          "start_time": "2023-09-24T16:43:00.790324+00:00"
        },
        "datalink": {
          "74c5cb7b-0447-4d6e-a3fd-0bfe967199d1": {
            "applied_filters": [],
            "dataframe_info": {
              "default_index_used": false,
              "orig_num_cols": 1,
              "orig_num_rows": 11,
              "orig_size_bytes": 176,
              "truncated_num_cols": 1,
              "truncated_num_rows": 11,
              "truncated_size_bytes": 176,
              "truncated_string_columns": []
            },
            "display_id": "74c5cb7b-0447-4d6e-a3fd-0bfe967199d1",
            "dx_settings": {
              "ALLOW_NOTEABLE_ATTRS": true,
              "COLUMN_SAMPLING_METHOD": "outer",
              "DB_LOCATION": ":memory:",
              "DEV_MODE": false,
              "DISPLAY_MAX_COLUMNS": 100,
              "DISPLAY_MAX_ROWS": 50000,
              "DISPLAY_MODE": "simple",
              "ENABLE_ASSIGNMENT": true,
              "ENABLE_DATALINK": true,
              "FLATTEN_COLUMN_VALUES": true,
              "FLATTEN_INDEX_VALUES": false,
              "GENERATE_DEX_METADATA": false,
              "HTML_TABLE_SCHEMA": false,
              "LOG_LEVEL": 30,
              "MAX_RENDER_SIZE_BYTES": 104857600,
              "MAX_STRING_LENGTH": 250,
              "NUM_PAST_SAMPLES_TRACKED": 3,
              "RANDOM_STATE": 12648430,
              "RESET_INDEX_VALUES": false,
              "ROW_SAMPLING_METHOD": "random",
              "SAMPLING_FACTOR": 0.1,
              "SAMPLING_METHOD": "random",
              "STRINGIFY_COLUMN_VALUES": true,
              "STRINGIFY_INDEX_VALUES": false
            },
            "sample_history": [],
            "sampling_time": "2023-09-24T01:29:14.312974",
            "user_variable_name": null,
            "variable_name": "unk_dataframe_11086699bc4e4a01b29e0323c79a70da"
          },
          "944f7f33-028e-4940-a9f2-0435cc4c0d06": {
            "applied_filters": [],
            "dataframe_info": {
              "default_index_used": false,
              "orig_num_cols": 1,
              "orig_num_rows": 9,
              "orig_size_bytes": 144,
              "truncated_num_cols": 1,
              "truncated_num_rows": 9,
              "truncated_size_bytes": 144,
              "truncated_string_columns": []
            },
            "display_id": "944f7f33-028e-4940-a9f2-0435cc4c0d06",
            "dx_settings": {
              "ALLOW_NOTEABLE_ATTRS": true,
              "COLUMN_SAMPLING_METHOD": "outer",
              "DB_LOCATION": ":memory:",
              "DEV_MODE": false,
              "DISPLAY_MAX_COLUMNS": 100,
              "DISPLAY_MAX_ROWS": 50000,
              "DISPLAY_MODE": "simple",
              "ENABLE_ASSIGNMENT": true,
              "ENABLE_DATALINK": true,
              "FLATTEN_COLUMN_VALUES": true,
              "FLATTEN_INDEX_VALUES": false,
              "GENERATE_DEX_METADATA": false,
              "HTML_TABLE_SCHEMA": false,
              "LOG_LEVEL": 30,
              "MAX_RENDER_SIZE_BYTES": 104857600,
              "MAX_STRING_LENGTH": 250,
              "NUM_PAST_SAMPLES_TRACKED": 3,
              "RANDOM_STATE": 12648430,
              "RESET_INDEX_VALUES": false,
              "ROW_SAMPLING_METHOD": "random",
              "SAMPLING_FACTOR": 0.1,
              "SAMPLING_METHOD": "random",
              "STRINGIFY_COLUMN_VALUES": true,
              "STRINGIFY_INDEX_VALUES": false
            },
            "sample_history": [],
            "sampling_time": "2023-09-24T01:35:33.796325",
            "user_variable_name": null,
            "variable_name": "unk_dataframe_3b2a5242da4e432abd033b1b7b00b548"
          },
          "39a0a487-2a3b-4fea-950a-97733533b53d": {
            "applied_filters": [],
            "dataframe_info": {
              "default_index_used": false,
              "orig_num_cols": 1,
              "orig_num_rows": 10,
              "orig_size_bytes": 160,
              "truncated_num_cols": 1,
              "truncated_num_rows": 10,
              "truncated_size_bytes": 160,
              "truncated_string_columns": []
            },
            "display_id": "39a0a487-2a3b-4fea-950a-97733533b53d",
            "dx_settings": {
              "ALLOW_NOTEABLE_ATTRS": true,
              "COLUMN_SAMPLING_METHOD": "outer",
              "DB_LOCATION": ":memory:",
              "DEV_MODE": false,
              "DISPLAY_MAX_COLUMNS": 100,
              "DISPLAY_MAX_ROWS": 50000,
              "DISPLAY_MODE": "simple",
              "ENABLE_ASSIGNMENT": true,
              "ENABLE_DATALINK": true,
              "FLATTEN_COLUMN_VALUES": true,
              "FLATTEN_INDEX_VALUES": false,
              "GENERATE_DEX_METADATA": false,
              "HTML_TABLE_SCHEMA": false,
              "LOG_LEVEL": 30,
              "MAX_RENDER_SIZE_BYTES": 104857600,
              "MAX_STRING_LENGTH": 250,
              "NUM_PAST_SAMPLES_TRACKED": 3,
              "RANDOM_STATE": 12648430,
              "RESET_INDEX_VALUES": false,
              "ROW_SAMPLING_METHOD": "random",
              "SAMPLING_FACTOR": 0.1,
              "SAMPLING_METHOD": "random",
              "STRINGIFY_COLUMN_VALUES": true,
              "STRINGIFY_INDEX_VALUES": false
            },
            "sample_history": [],
            "sampling_time": "2023-09-24T01:46:41.268830",
            "user_variable_name": null,
            "variable_name": "unk_dataframe_cde3e4a737b34ee2aaa15e28375e2eb0"
          },
          "0cf81bc1-d0ce-4939-810b-a6a94bd2e738": {
            "applied_filters": [],
            "dataframe_info": {
              "default_index_used": false,
              "orig_num_cols": 1,
              "orig_num_rows": 10,
              "orig_size_bytes": 160,
              "truncated_num_cols": 1,
              "truncated_num_rows": 10,
              "truncated_size_bytes": 160,
              "truncated_string_columns": []
            },
            "display_id": "0cf81bc1-d0ce-4939-810b-a6a94bd2e738",
            "dx_settings": {
              "ALLOW_NOTEABLE_ATTRS": true,
              "COLUMN_SAMPLING_METHOD": "outer",
              "DB_LOCATION": ":memory:",
              "DEV_MODE": false,
              "DISPLAY_MAX_COLUMNS": 100,
              "DISPLAY_MAX_ROWS": 50000,
              "DISPLAY_MODE": "simple",
              "ENABLE_ASSIGNMENT": true,
              "ENABLE_DATALINK": true,
              "FLATTEN_COLUMN_VALUES": true,
              "FLATTEN_INDEX_VALUES": false,
              "GENERATE_DEX_METADATA": false,
              "HTML_TABLE_SCHEMA": false,
              "LOG_LEVEL": 30,
              "MAX_RENDER_SIZE_BYTES": 104857600,
              "MAX_STRING_LENGTH": 250,
              "NUM_PAST_SAMPLES_TRACKED": 3,
              "RANDOM_STATE": 12648430,
              "RESET_INDEX_VALUES": false,
              "ROW_SAMPLING_METHOD": "random",
              "SAMPLING_FACTOR": 0.1,
              "SAMPLING_METHOD": "random",
              "STRINGIFY_COLUMN_VALUES": true,
              "STRINGIFY_INDEX_VALUES": false
            },
            "sample_history": [],
            "sampling_time": "2023-09-24T01:49:51.250237",
            "user_variable_name": null,
            "variable_name": "unk_dataframe_37b14665c1c3497685b95a80a6c318e8"
          },
          "3ddac4a3-b090-45f9-b63e-a8ae898cd1f8": {
            "applied_filters": [],
            "dataframe_info": {
              "default_index_used": false,
              "orig_num_cols": 1,
              "orig_num_rows": 10,
              "orig_size_bytes": 160,
              "truncated_num_cols": 1,
              "truncated_num_rows": 10,
              "truncated_size_bytes": 160,
              "truncated_string_columns": []
            },
            "display_id": "3ddac4a3-b090-45f9-b63e-a8ae898cd1f8",
            "dx_settings": {
              "ALLOW_NOTEABLE_ATTRS": true,
              "COLUMN_SAMPLING_METHOD": "outer",
              "DB_LOCATION": ":memory:",
              "DEV_MODE": false,
              "DISPLAY_MAX_COLUMNS": 100,
              "DISPLAY_MAX_ROWS": 50000,
              "DISPLAY_MODE": "simple",
              "ENABLE_ASSIGNMENT": true,
              "ENABLE_DATALINK": true,
              "FLATTEN_COLUMN_VALUES": true,
              "FLATTEN_INDEX_VALUES": false,
              "GENERATE_DEX_METADATA": false,
              "HTML_TABLE_SCHEMA": false,
              "LOG_LEVEL": 30,
              "MAX_RENDER_SIZE_BYTES": 104857600,
              "MAX_STRING_LENGTH": 250,
              "NUM_PAST_SAMPLES_TRACKED": 3,
              "RANDOM_STATE": 12648430,
              "RESET_INDEX_VALUES": false,
              "ROW_SAMPLING_METHOD": "random",
              "SAMPLING_FACTOR": 0.1,
              "SAMPLING_METHOD": "random",
              "STRINGIFY_COLUMN_VALUES": true,
              "STRINGIFY_INDEX_VALUES": false
            },
            "sample_history": [],
            "sampling_time": "2023-09-24T04:12:45.396590",
            "user_variable_name": null,
            "variable_name": "unk_dataframe_93556e1503884eeca812bb5e41dd4fb8"
          },
          "83471250-e028-4503-926d-6f6273ac8251": {
            "applied_filters": [],
            "dataframe_info": {
              "default_index_used": false,
              "orig_num_cols": 1,
              "orig_num_rows": 10,
              "orig_size_bytes": 160,
              "truncated_num_cols": 1,
              "truncated_num_rows": 10,
              "truncated_size_bytes": 160,
              "truncated_string_columns": []
            },
            "display_id": "83471250-e028-4503-926d-6f6273ac8251",
            "dx_settings": {
              "ALLOW_NOTEABLE_ATTRS": true,
              "COLUMN_SAMPLING_METHOD": "outer",
              "DB_LOCATION": ":memory:",
              "DEV_MODE": false,
              "DISPLAY_MAX_COLUMNS": 100,
              "DISPLAY_MAX_ROWS": 50000,
              "DISPLAY_MODE": "simple",
              "ENABLE_ASSIGNMENT": true,
              "ENABLE_DATALINK": true,
              "FLATTEN_COLUMN_VALUES": true,
              "FLATTEN_INDEX_VALUES": false,
              "GENERATE_DEX_METADATA": false,
              "HTML_TABLE_SCHEMA": false,
              "LOG_LEVEL": 30,
              "MAX_RENDER_SIZE_BYTES": 104857600,
              "MAX_STRING_LENGTH": 250,
              "NUM_PAST_SAMPLES_TRACKED": 3,
              "RANDOM_STATE": 12648430,
              "RESET_INDEX_VALUES": false,
              "ROW_SAMPLING_METHOD": "random",
              "SAMPLING_FACTOR": 0.1,
              "SAMPLING_METHOD": "random",
              "STRINGIFY_COLUMN_VALUES": true,
              "STRINGIFY_INDEX_VALUES": false
            },
            "sample_history": [],
            "sampling_time": "2023-09-24T16:43:00.834728",
            "user_variable_name": null,
            "variable_name": "unk_dataframe_4e25da278aea456c8c28f05d0b2cac87"
          }
        }
      },
      "execution_count": null,
      "source": "# Checking total null values\n\nadvance_economies_inv_2023.isna().sum()",
      "outputs": []
    },
    {
      "id": "cefe5ce5-b5e5-43cc-bf65-4ac472a42165",
      "cell_type": "code",
      "metadata": {
        "jupyter": {
          "outputs_hidden": false,
          "source_hidden": false
        },
        "noteable": {
          "cell_type": "code",
          "output_collection_id": "8f25ee80-216f-4517-bf3a-5a84de81efc4"
        },
        "ExecuteTime": {
          "end_time": "2023-09-24T16:43:01.208789+00:00",
          "start_time": "2023-09-24T16:43:00.998234+00:00"
        },
        "datalink": {
          "4adb1b25-73c7-487f-8dbe-e3aba1b7b5f8": {
            "applied_filters": [],
            "dataframe_info": {
              "default_index_used": true,
              "orig_num_cols": 10,
              "orig_num_rows": 32,
              "orig_size_bytes": 576,
              "truncated_num_cols": 10,
              "truncated_num_rows": 32,
              "truncated_size_bytes": 576,
              "truncated_string_columns": []
            },
            "display_id": "4adb1b25-73c7-487f-8dbe-e3aba1b7b5f8",
            "dx_settings": {
              "ALLOW_NOTEABLE_ATTRS": true,
              "COLUMN_SAMPLING_METHOD": "outer",
              "DB_LOCATION": ":memory:",
              "DEV_MODE": false,
              "DISPLAY_MAX_COLUMNS": 100,
              "DISPLAY_MAX_ROWS": 50000,
              "DISPLAY_MODE": "simple",
              "ENABLE_ASSIGNMENT": true,
              "ENABLE_DATALINK": true,
              "FLATTEN_COLUMN_VALUES": true,
              "FLATTEN_INDEX_VALUES": false,
              "GENERATE_DEX_METADATA": false,
              "HTML_TABLE_SCHEMA": false,
              "LOG_LEVEL": 30,
              "MAX_RENDER_SIZE_BYTES": 104857600,
              "MAX_STRING_LENGTH": 250,
              "NUM_PAST_SAMPLES_TRACKED": 3,
              "RANDOM_STATE": 12648430,
              "RESET_INDEX_VALUES": false,
              "ROW_SAMPLING_METHOD": "random",
              "SAMPLING_FACTOR": 0.1,
              "SAMPLING_METHOD": "random",
              "STRINGIFY_COLUMN_VALUES": true,
              "STRINGIFY_INDEX_VALUES": false
            },
            "sample_history": [],
            "sampling_time": "2023-09-24T01:48:43.123531",
            "user_variable_name": null,
            "variable_name": "unk_dataframe_48e2ef4ec62e41c49b37e74dceecdd3b"
          },
          "235be423-4256-415a-a54f-90a32f4320c9": {
            "applied_filters": [],
            "dataframe_info": {
              "default_index_used": true,
              "orig_num_cols": 10,
              "orig_num_rows": 32,
              "orig_size_bytes": 2816,
              "truncated_num_cols": 10,
              "truncated_num_rows": 32,
              "truncated_size_bytes": 2816,
              "truncated_string_columns": []
            },
            "display_id": "235be423-4256-415a-a54f-90a32f4320c9",
            "dx_settings": {
              "ALLOW_NOTEABLE_ATTRS": true,
              "COLUMN_SAMPLING_METHOD": "outer",
              "DB_LOCATION": ":memory:",
              "DEV_MODE": false,
              "DISPLAY_MAX_COLUMNS": 100,
              "DISPLAY_MAX_ROWS": 50000,
              "DISPLAY_MODE": "simple",
              "ENABLE_ASSIGNMENT": true,
              "ENABLE_DATALINK": true,
              "FLATTEN_COLUMN_VALUES": true,
              "FLATTEN_INDEX_VALUES": false,
              "GENERATE_DEX_METADATA": false,
              "HTML_TABLE_SCHEMA": false,
              "LOG_LEVEL": 30,
              "MAX_RENDER_SIZE_BYTES": 104857600,
              "MAX_STRING_LENGTH": 250,
              "NUM_PAST_SAMPLES_TRACKED": 3,
              "RANDOM_STATE": 12648430,
              "RESET_INDEX_VALUES": false,
              "ROW_SAMPLING_METHOD": "random",
              "SAMPLING_FACTOR": 0.1,
              "SAMPLING_METHOD": "random",
              "STRINGIFY_COLUMN_VALUES": true,
              "STRINGIFY_INDEX_VALUES": false
            },
            "sample_history": [],
            "sampling_time": "2023-09-24T01:49:12.106607",
            "user_variable_name": null,
            "variable_name": "unk_dataframe_e5fe561f9b2a42358f0c871dcc2f379a"
          },
          "da282938-060b-4653-ab41-e79855ffece1": {
            "applied_filters": [],
            "dataframe_info": {
              "default_index_used": true,
              "orig_num_cols": 10,
              "orig_num_rows": 4,
              "orig_size_bytes": 352,
              "truncated_num_cols": 10,
              "truncated_num_rows": 4,
              "truncated_size_bytes": 352,
              "truncated_string_columns": []
            },
            "display_id": "da282938-060b-4653-ab41-e79855ffece1",
            "dx_settings": {
              "ALLOW_NOTEABLE_ATTRS": true,
              "COLUMN_SAMPLING_METHOD": "outer",
              "DB_LOCATION": ":memory:",
              "DEV_MODE": false,
              "DISPLAY_MAX_COLUMNS": 100,
              "DISPLAY_MAX_ROWS": 50000,
              "DISPLAY_MODE": "simple",
              "ENABLE_ASSIGNMENT": true,
              "ENABLE_DATALINK": true,
              "FLATTEN_COLUMN_VALUES": true,
              "FLATTEN_INDEX_VALUES": false,
              "GENERATE_DEX_METADATA": false,
              "HTML_TABLE_SCHEMA": false,
              "LOG_LEVEL": 30,
              "MAX_RENDER_SIZE_BYTES": 104857600,
              "MAX_STRING_LENGTH": 250,
              "NUM_PAST_SAMPLES_TRACKED": 3,
              "RANDOM_STATE": 12648430,
              "RESET_INDEX_VALUES": false,
              "ROW_SAMPLING_METHOD": "random",
              "SAMPLING_FACTOR": 0.1,
              "SAMPLING_METHOD": "random",
              "STRINGIFY_COLUMN_VALUES": true,
              "STRINGIFY_INDEX_VALUES": false
            },
            "sample_history": [],
            "sampling_time": "2023-09-24T01:51:42.119878",
            "user_variable_name": null,
            "variable_name": "unk_dataframe_e03d84be820849acbe51c941f9b4fc51"
          },
          "1c0efc0b-ef1d-4d9c-97de-ac68d38fe119": {
            "applied_filters": [],
            "dataframe_info": {
              "default_index_used": true,
              "orig_num_cols": 10,
              "orig_num_rows": 4,
              "orig_size_bytes": 352,
              "truncated_num_cols": 10,
              "truncated_num_rows": 4,
              "truncated_size_bytes": 352,
              "truncated_string_columns": []
            },
            "display_id": "1c0efc0b-ef1d-4d9c-97de-ac68d38fe119",
            "dx_settings": {
              "ALLOW_NOTEABLE_ATTRS": true,
              "COLUMN_SAMPLING_METHOD": "outer",
              "DB_LOCATION": ":memory:",
              "DEV_MODE": false,
              "DISPLAY_MAX_COLUMNS": 100,
              "DISPLAY_MAX_ROWS": 50000,
              "DISPLAY_MODE": "simple",
              "ENABLE_ASSIGNMENT": true,
              "ENABLE_DATALINK": true,
              "FLATTEN_COLUMN_VALUES": true,
              "FLATTEN_INDEX_VALUES": false,
              "GENERATE_DEX_METADATA": false,
              "HTML_TABLE_SCHEMA": false,
              "LOG_LEVEL": 30,
              "MAX_RENDER_SIZE_BYTES": 104857600,
              "MAX_STRING_LENGTH": 250,
              "NUM_PAST_SAMPLES_TRACKED": 3,
              "RANDOM_STATE": 12648430,
              "RESET_INDEX_VALUES": false,
              "ROW_SAMPLING_METHOD": "random",
              "SAMPLING_FACTOR": 0.1,
              "SAMPLING_METHOD": "random",
              "STRINGIFY_COLUMN_VALUES": true,
              "STRINGIFY_INDEX_VALUES": false
            },
            "sample_history": [],
            "sampling_time": "2023-09-24T04:12:48.827593",
            "user_variable_name": null,
            "variable_name": "unk_dataframe_017950b4164d43939dd611216b8015aa"
          },
          "dfe0649a-d3a1-4399-8a56-9d099237ccd7": {
            "applied_filters": [],
            "dataframe_info": {
              "default_index_used": true,
              "orig_num_cols": 10,
              "orig_num_rows": 4,
              "orig_size_bytes": 352,
              "truncated_num_cols": 10,
              "truncated_num_rows": 4,
              "truncated_size_bytes": 352,
              "truncated_string_columns": []
            },
            "display_id": "dfe0649a-d3a1-4399-8a56-9d099237ccd7",
            "dx_settings": {
              "ALLOW_NOTEABLE_ATTRS": true,
              "COLUMN_SAMPLING_METHOD": "outer",
              "DB_LOCATION": ":memory:",
              "DEV_MODE": false,
              "DISPLAY_MAX_COLUMNS": 100,
              "DISPLAY_MAX_ROWS": 50000,
              "DISPLAY_MODE": "simple",
              "ENABLE_ASSIGNMENT": true,
              "ENABLE_DATALINK": true,
              "FLATTEN_COLUMN_VALUES": true,
              "FLATTEN_INDEX_VALUES": false,
              "GENERATE_DEX_METADATA": false,
              "HTML_TABLE_SCHEMA": false,
              "LOG_LEVEL": 30,
              "MAX_RENDER_SIZE_BYTES": 104857600,
              "MAX_STRING_LENGTH": 250,
              "NUM_PAST_SAMPLES_TRACKED": 3,
              "RANDOM_STATE": 12648430,
              "RESET_INDEX_VALUES": false,
              "ROW_SAMPLING_METHOD": "random",
              "SAMPLING_FACTOR": 0.1,
              "SAMPLING_METHOD": "random",
              "STRINGIFY_COLUMN_VALUES": true,
              "STRINGIFY_INDEX_VALUES": false
            },
            "sample_history": [],
            "sampling_time": "2023-09-24T16:43:01.049451",
            "user_variable_name": null,
            "variable_name": "unk_dataframe_fc339baedefb434cb3d9549b0f66a7ec"
          }
        }
      },
      "execution_count": null,
      "source": "# To see rows with missing values\n\nadvance_economies_inv_2023[advance_economies_inv_2023[\"Unnamed: 1\"].isna()]\n",
      "outputs": []
    },
    {
      "id": "bf37711c-8e42-4e9a-9f95-2d1b4bb470f4",
      "cell_type": "code",
      "metadata": {
        "jupyter": {
          "outputs_hidden": false,
          "source_hidden": false
        },
        "noteable": {
          "cell_type": "code",
          "output_collection_id": "cabeab3a-3abb-4ac7-9cff-733cbd4088ee"
        },
        "ExecuteTime": {
          "end_time": "2023-09-24T16:43:01.414034+00:00",
          "start_time": "2023-09-24T16:43:01.214776+00:00"
        },
        "datalink": {
          "62fd5ef7-1908-4e5a-a860-3b04b315bf78": {
            "applied_filters": [],
            "dataframe_info": {
              "default_index_used": false,
              "orig_num_cols": 1,
              "orig_num_rows": 9,
              "orig_size_bytes": 144,
              "truncated_num_cols": 1,
              "truncated_num_rows": 9,
              "truncated_size_bytes": 144,
              "truncated_string_columns": []
            },
            "display_id": "62fd5ef7-1908-4e5a-a860-3b04b315bf78",
            "dx_settings": {
              "ALLOW_NOTEABLE_ATTRS": true,
              "COLUMN_SAMPLING_METHOD": "outer",
              "DB_LOCATION": ":memory:",
              "DEV_MODE": false,
              "DISPLAY_MAX_COLUMNS": 100,
              "DISPLAY_MAX_ROWS": 50000,
              "DISPLAY_MODE": "simple",
              "ENABLE_ASSIGNMENT": true,
              "ENABLE_DATALINK": true,
              "FLATTEN_COLUMN_VALUES": true,
              "FLATTEN_INDEX_VALUES": false,
              "GENERATE_DEX_METADATA": false,
              "HTML_TABLE_SCHEMA": false,
              "LOG_LEVEL": 30,
              "MAX_RENDER_SIZE_BYTES": 104857600,
              "MAX_STRING_LENGTH": 250,
              "NUM_PAST_SAMPLES_TRACKED": 3,
              "RANDOM_STATE": 12648430,
              "RESET_INDEX_VALUES": false,
              "ROW_SAMPLING_METHOD": "random",
              "SAMPLING_FACTOR": 0.1,
              "SAMPLING_METHOD": "random",
              "STRINGIFY_COLUMN_VALUES": true,
              "STRINGIFY_INDEX_VALUES": false
            },
            "sample_history": [],
            "sampling_time": "2023-09-24T01:37:39.101159",
            "user_variable_name": null,
            "variable_name": "unk_dataframe_1b844fbc5999470497b2889d532bab08"
          },
          "e6cf0b6f-eaac-4881-af14-5c41e7c90688": {
            "applied_filters": [],
            "dataframe_info": {
              "default_index_used": false,
              "orig_num_cols": 1,
              "orig_num_rows": 10,
              "orig_size_bytes": 160,
              "truncated_num_cols": 1,
              "truncated_num_rows": 10,
              "truncated_size_bytes": 160,
              "truncated_string_columns": []
            },
            "display_id": "e6cf0b6f-eaac-4881-af14-5c41e7c90688",
            "dx_settings": {
              "ALLOW_NOTEABLE_ATTRS": true,
              "COLUMN_SAMPLING_METHOD": "outer",
              "DB_LOCATION": ":memory:",
              "DEV_MODE": false,
              "DISPLAY_MAX_COLUMNS": 100,
              "DISPLAY_MAX_ROWS": 50000,
              "DISPLAY_MODE": "simple",
              "ENABLE_ASSIGNMENT": true,
              "ENABLE_DATALINK": true,
              "FLATTEN_COLUMN_VALUES": true,
              "FLATTEN_INDEX_VALUES": false,
              "GENERATE_DEX_METADATA": false,
              "HTML_TABLE_SCHEMA": false,
              "LOG_LEVEL": 30,
              "MAX_RENDER_SIZE_BYTES": 104857600,
              "MAX_STRING_LENGTH": 250,
              "NUM_PAST_SAMPLES_TRACKED": 3,
              "RANDOM_STATE": 12648430,
              "RESET_INDEX_VALUES": false,
              "ROW_SAMPLING_METHOD": "random",
              "SAMPLING_FACTOR": 0.1,
              "SAMPLING_METHOD": "random",
              "STRINGIFY_COLUMN_VALUES": true,
              "STRINGIFY_INDEX_VALUES": false
            },
            "sample_history": [],
            "sampling_time": "2023-09-24T01:52:17.004393",
            "user_variable_name": null,
            "variable_name": "unk_dataframe_6b67d51668924259bfe920b1baf6a852"
          },
          "9e89f3d3-be8b-444d-98a5-ea5bf871dc1e": {
            "applied_filters": [],
            "dataframe_info": {
              "default_index_used": false,
              "orig_num_cols": 1,
              "orig_num_rows": 10,
              "orig_size_bytes": 160,
              "truncated_num_cols": 1,
              "truncated_num_rows": 10,
              "truncated_size_bytes": 160,
              "truncated_string_columns": []
            },
            "display_id": "9e89f3d3-be8b-444d-98a5-ea5bf871dc1e",
            "dx_settings": {
              "ALLOW_NOTEABLE_ATTRS": true,
              "COLUMN_SAMPLING_METHOD": "outer",
              "DB_LOCATION": ":memory:",
              "DEV_MODE": false,
              "DISPLAY_MAX_COLUMNS": 100,
              "DISPLAY_MAX_ROWS": 50000,
              "DISPLAY_MODE": "simple",
              "ENABLE_ASSIGNMENT": true,
              "ENABLE_DATALINK": true,
              "FLATTEN_COLUMN_VALUES": true,
              "FLATTEN_INDEX_VALUES": false,
              "GENERATE_DEX_METADATA": false,
              "HTML_TABLE_SCHEMA": false,
              "LOG_LEVEL": 30,
              "MAX_RENDER_SIZE_BYTES": 104857600,
              "MAX_STRING_LENGTH": 250,
              "NUM_PAST_SAMPLES_TRACKED": 3,
              "RANDOM_STATE": 12648430,
              "RESET_INDEX_VALUES": false,
              "ROW_SAMPLING_METHOD": "random",
              "SAMPLING_FACTOR": 0.1,
              "SAMPLING_METHOD": "random",
              "STRINGIFY_COLUMN_VALUES": true,
              "STRINGIFY_INDEX_VALUES": false
            },
            "sample_history": [],
            "sampling_time": "2023-09-24T04:12:52.006044",
            "user_variable_name": null,
            "variable_name": "unk_dataframe_4e3059289ebe4104ab815e1c8877f8fe"
          },
          "3093fe4f-b819-4d74-92e4-bd5446a13e92": {
            "applied_filters": [],
            "dataframe_info": {
              "default_index_used": false,
              "orig_num_cols": 1,
              "orig_num_rows": 10,
              "orig_size_bytes": 160,
              "truncated_num_cols": 1,
              "truncated_num_rows": 10,
              "truncated_size_bytes": 160,
              "truncated_string_columns": []
            },
            "display_id": "3093fe4f-b819-4d74-92e4-bd5446a13e92",
            "dx_settings": {
              "ALLOW_NOTEABLE_ATTRS": true,
              "COLUMN_SAMPLING_METHOD": "outer",
              "DB_LOCATION": ":memory:",
              "DEV_MODE": false,
              "DISPLAY_MAX_COLUMNS": 100,
              "DISPLAY_MAX_ROWS": 50000,
              "DISPLAY_MODE": "simple",
              "ENABLE_ASSIGNMENT": true,
              "ENABLE_DATALINK": true,
              "FLATTEN_COLUMN_VALUES": true,
              "FLATTEN_INDEX_VALUES": false,
              "GENERATE_DEX_METADATA": false,
              "HTML_TABLE_SCHEMA": false,
              "LOG_LEVEL": 30,
              "MAX_RENDER_SIZE_BYTES": 104857600,
              "MAX_STRING_LENGTH": 250,
              "NUM_PAST_SAMPLES_TRACKED": 3,
              "RANDOM_STATE": 12648430,
              "RESET_INDEX_VALUES": false,
              "ROW_SAMPLING_METHOD": "random",
              "SAMPLING_FACTOR": 0.1,
              "SAMPLING_METHOD": "random",
              "STRINGIFY_COLUMN_VALUES": true,
              "STRINGIFY_INDEX_VALUES": false
            },
            "sample_history": [],
            "sampling_time": "2023-09-24T16:43:01.256840",
            "user_variable_name": null,
            "variable_name": "unk_dataframe_568d9fc9ff9346aa9dcceda89523cb7d"
          }
        }
      },
      "execution_count": null,
      "source": "# dropping null values and rechecking\n\nadvance_economies_inv_2023.dropna(inplace=True)\nadvance_economies_inv_2023.isna().sum()\n",
      "outputs": []
    },
    {
      "id": "214da718-e6cd-451e-9648-bb58c0044a4f",
      "cell_type": "code",
      "metadata": {
        "jupyter": {
          "outputs_hidden": false,
          "source_hidden": false
        },
        "noteable": {
          "cell_type": "code",
          "output_collection_id": "e3b06a68-7b83-459a-8805-56a1037438c7"
        },
        "ExecuteTime": {
          "end_time": "2023-09-24T16:43:01.642430+00:00",
          "start_time": "2023-09-24T16:43:01.425350+00:00"
        },
        "datalink": {
          "a2b92943-72b0-46de-a34d-84c22ea42df8": {
            "applied_filters": [],
            "dataframe_info": {
              "default_index_used": true,
              "orig_num_cols": 10,
              "orig_num_rows": 28,
              "orig_size_bytes": 2464,
              "truncated_num_cols": 10,
              "truncated_num_rows": 28,
              "truncated_size_bytes": 2464,
              "truncated_string_columns": []
            },
            "display_id": "a2b92943-72b0-46de-a34d-84c22ea42df8",
            "dx_settings": {
              "ALLOW_NOTEABLE_ATTRS": true,
              "COLUMN_SAMPLING_METHOD": "outer",
              "DB_LOCATION": ":memory:",
              "DEV_MODE": false,
              "DISPLAY_MAX_COLUMNS": 100,
              "DISPLAY_MAX_ROWS": 50000,
              "DISPLAY_MODE": "simple",
              "ENABLE_ASSIGNMENT": true,
              "ENABLE_DATALINK": true,
              "FLATTEN_COLUMN_VALUES": true,
              "FLATTEN_INDEX_VALUES": false,
              "GENERATE_DEX_METADATA": false,
              "HTML_TABLE_SCHEMA": false,
              "LOG_LEVEL": 30,
              "MAX_RENDER_SIZE_BYTES": 104857600,
              "MAX_STRING_LENGTH": 250,
              "NUM_PAST_SAMPLES_TRACKED": 3,
              "RANDOM_STATE": 12648430,
              "RESET_INDEX_VALUES": false,
              "ROW_SAMPLING_METHOD": "random",
              "SAMPLING_FACTOR": 0.1,
              "SAMPLING_METHOD": "random",
              "STRINGIFY_COLUMN_VALUES": true,
              "STRINGIFY_INDEX_VALUES": false
            },
            "sample_history": [],
            "sampling_time": "2023-09-24T01:52:38.621371",
            "user_variable_name": "advance_economies_inv_2023",
            "variable_name": "advance_economies_inv_2023"
          },
          "c18531fc-1ede-46be-820a-054cd45991bb": {
            "applied_filters": [],
            "dataframe_info": {
              "default_index_used": true,
              "orig_num_cols": 10,
              "orig_num_rows": 28,
              "orig_size_bytes": 2464,
              "truncated_num_cols": 10,
              "truncated_num_rows": 28,
              "truncated_size_bytes": 2464,
              "truncated_string_columns": []
            },
            "display_id": "c18531fc-1ede-46be-820a-054cd45991bb",
            "dx_settings": {
              "ALLOW_NOTEABLE_ATTRS": true,
              "COLUMN_SAMPLING_METHOD": "outer",
              "DB_LOCATION": ":memory:",
              "DEV_MODE": false,
              "DISPLAY_MAX_COLUMNS": 100,
              "DISPLAY_MAX_ROWS": 50000,
              "DISPLAY_MODE": "simple",
              "ENABLE_ASSIGNMENT": true,
              "ENABLE_DATALINK": true,
              "FLATTEN_COLUMN_VALUES": true,
              "FLATTEN_INDEX_VALUES": false,
              "GENERATE_DEX_METADATA": false,
              "HTML_TABLE_SCHEMA": false,
              "LOG_LEVEL": 30,
              "MAX_RENDER_SIZE_BYTES": 104857600,
              "MAX_STRING_LENGTH": 250,
              "NUM_PAST_SAMPLES_TRACKED": 3,
              "RANDOM_STATE": 12648430,
              "RESET_INDEX_VALUES": false,
              "ROW_SAMPLING_METHOD": "random",
              "SAMPLING_FACTOR": 0.1,
              "SAMPLING_METHOD": "random",
              "STRINGIFY_COLUMN_VALUES": true,
              "STRINGIFY_INDEX_VALUES": false
            },
            "sample_history": [],
            "sampling_time": "2023-09-24T04:12:54.229410",
            "user_variable_name": "advance_economies_inv_2023",
            "variable_name": "advance_economies_inv_2023"
          },
          "6779c259-1acf-4655-aa50-d5027e7efae1": {
            "applied_filters": [],
            "dataframe_info": {
              "default_index_used": true,
              "orig_num_cols": 10,
              "orig_num_rows": 28,
              "orig_size_bytes": 2464,
              "truncated_num_cols": 10,
              "truncated_num_rows": 28,
              "truncated_size_bytes": 2464,
              "truncated_string_columns": []
            },
            "display_id": "6779c259-1acf-4655-aa50-d5027e7efae1",
            "dx_settings": {
              "ALLOW_NOTEABLE_ATTRS": true,
              "COLUMN_SAMPLING_METHOD": "outer",
              "DB_LOCATION": ":memory:",
              "DEV_MODE": false,
              "DISPLAY_MAX_COLUMNS": 100,
              "DISPLAY_MAX_ROWS": 50000,
              "DISPLAY_MODE": "simple",
              "ENABLE_ASSIGNMENT": true,
              "ENABLE_DATALINK": true,
              "FLATTEN_COLUMN_VALUES": true,
              "FLATTEN_INDEX_VALUES": false,
              "GENERATE_DEX_METADATA": false,
              "HTML_TABLE_SCHEMA": false,
              "LOG_LEVEL": 30,
              "MAX_RENDER_SIZE_BYTES": 104857600,
              "MAX_STRING_LENGTH": 250,
              "NUM_PAST_SAMPLES_TRACKED": 3,
              "RANDOM_STATE": 12648430,
              "RESET_INDEX_VALUES": false,
              "ROW_SAMPLING_METHOD": "random",
              "SAMPLING_FACTOR": 0.1,
              "SAMPLING_METHOD": "random",
              "STRINGIFY_COLUMN_VALUES": true,
              "STRINGIFY_INDEX_VALUES": false
            },
            "sample_history": [],
            "sampling_time": "2023-09-24T16:43:01.483188",
            "user_variable_name": "advance_economies_inv_2023",
            "variable_name": "advance_economies_inv_2023"
          }
        }
      },
      "execution_count": null,
      "source": "advance_economies_inv_2023",
      "outputs": []
    },
    {
      "id": "72037947-a1cf-4d58-bf01-30a392462b48",
      "cell_type": "code",
      "metadata": {
        "jupyter": {
          "outputs_hidden": false,
          "source_hidden": false
        },
        "noteable": {
          "cell_type": "code",
          "output_collection_id": "c26bf632-3b5a-49ad-a3a7-aab1e9eb4f3c"
        },
        "ExecuteTime": {
          "end_time": "2023-09-24T16:43:02.104104+00:00",
          "start_time": "2023-09-24T16:43:01.814764+00:00"
        },
        "datalink": {
          "3217a78f-3102-4412-9637-a3e7e2a6bebf": {
            "applied_filters": [],
            "dataframe_info": {
              "default_index_used": true,
              "orig_num_cols": 11,
              "orig_num_rows": 32,
              "orig_size_bytes": 3072,
              "truncated_num_cols": 11,
              "truncated_num_rows": 32,
              "truncated_size_bytes": 3072,
              "truncated_string_columns": []
            },
            "display_id": "3217a78f-3102-4412-9637-a3e7e2a6bebf",
            "dx_settings": {
              "ALLOW_NOTEABLE_ATTRS": true,
              "COLUMN_SAMPLING_METHOD": "outer",
              "DB_LOCATION": ":memory:",
              "DEV_MODE": false,
              "DISPLAY_MAX_COLUMNS": 100,
              "DISPLAY_MAX_ROWS": 50000,
              "DISPLAY_MODE": "simple",
              "ENABLE_ASSIGNMENT": true,
              "ENABLE_DATALINK": true,
              "FLATTEN_COLUMN_VALUES": true,
              "FLATTEN_INDEX_VALUES": false,
              "GENERATE_DEX_METADATA": false,
              "HTML_TABLE_SCHEMA": false,
              "LOG_LEVEL": 30,
              "MAX_RENDER_SIZE_BYTES": 104857600,
              "MAX_STRING_LENGTH": 250,
              "NUM_PAST_SAMPLES_TRACKED": 3,
              "RANDOM_STATE": 12648430,
              "RESET_INDEX_VALUES": false,
              "ROW_SAMPLING_METHOD": "random",
              "SAMPLING_FACTOR": 0.1,
              "SAMPLING_METHOD": "random",
              "STRINGIFY_COLUMN_VALUES": true,
              "STRINGIFY_INDEX_VALUES": false
            },
            "sample_history": [],
            "sampling_time": "2023-09-23T18:16:36.421614",
            "user_variable_name": "advance_economies_inv_2023",
            "variable_name": "advance_economies_inv_2023"
          },
          "1d747c29-4676-4a80-a049-df07812a6929": {
            "applied_filters": [],
            "dataframe_info": {
              "default_index_used": false,
              "orig_num_cols": 32,
              "orig_num_rows": 11,
              "orig_size_bytes": 2904,
              "truncated_num_cols": 32,
              "truncated_num_rows": 11,
              "truncated_size_bytes": 2904,
              "truncated_string_columns": []
            },
            "display_id": "1d747c29-4676-4a80-a049-df07812a6929",
            "dx_settings": {
              "ALLOW_NOTEABLE_ATTRS": true,
              "COLUMN_SAMPLING_METHOD": "outer",
              "DB_LOCATION": ":memory:",
              "DEV_MODE": false,
              "DISPLAY_MAX_COLUMNS": 100,
              "DISPLAY_MAX_ROWS": 50000,
              "DISPLAY_MODE": "simple",
              "ENABLE_ASSIGNMENT": true,
              "ENABLE_DATALINK": true,
              "FLATTEN_COLUMN_VALUES": true,
              "FLATTEN_INDEX_VALUES": false,
              "GENERATE_DEX_METADATA": false,
              "HTML_TABLE_SCHEMA": false,
              "LOG_LEVEL": 30,
              "MAX_RENDER_SIZE_BYTES": 104857600,
              "MAX_STRING_LENGTH": 250,
              "NUM_PAST_SAMPLES_TRACKED": 3,
              "RANDOM_STATE": 12648430,
              "RESET_INDEX_VALUES": false,
              "ROW_SAMPLING_METHOD": "random",
              "SAMPLING_FACTOR": 0.1,
              "SAMPLING_METHOD": "random",
              "STRINGIFY_COLUMN_VALUES": true,
              "STRINGIFY_INDEX_VALUES": false
            },
            "sample_history": [],
            "sampling_time": "2023-09-23T19:11:15.800834",
            "user_variable_name": null,
            "variable_name": "unk_dataframe_b1f82732ea65447f8cce49b94372460f"
          },
          "773602f5-8c37-4bd2-aab9-24268400e2bd": {
            "applied_filters": [],
            "dataframe_info": {
              "default_index_used": false,
              "orig_num_cols": 32,
              "orig_num_rows": 10,
              "orig_size_bytes": 2640,
              "truncated_num_cols": 32,
              "truncated_num_rows": 10,
              "truncated_size_bytes": 2640,
              "truncated_string_columns": []
            },
            "display_id": "773602f5-8c37-4bd2-aab9-24268400e2bd",
            "dx_settings": {
              "ALLOW_NOTEABLE_ATTRS": true,
              "COLUMN_SAMPLING_METHOD": "outer",
              "DB_LOCATION": ":memory:",
              "DEV_MODE": false,
              "DISPLAY_MAX_COLUMNS": 100,
              "DISPLAY_MAX_ROWS": 50000,
              "DISPLAY_MODE": "simple",
              "ENABLE_ASSIGNMENT": true,
              "ENABLE_DATALINK": true,
              "FLATTEN_COLUMN_VALUES": true,
              "FLATTEN_INDEX_VALUES": false,
              "GENERATE_DEX_METADATA": false,
              "HTML_TABLE_SCHEMA": false,
              "LOG_LEVEL": 30,
              "MAX_RENDER_SIZE_BYTES": 104857600,
              "MAX_STRING_LENGTH": 250,
              "NUM_PAST_SAMPLES_TRACKED": 3,
              "RANDOM_STATE": 12648430,
              "RESET_INDEX_VALUES": false,
              "ROW_SAMPLING_METHOD": "random",
              "SAMPLING_FACTOR": 0.1,
              "SAMPLING_METHOD": "random",
              "STRINGIFY_COLUMN_VALUES": true,
              "STRINGIFY_INDEX_VALUES": false
            },
            "sample_history": [],
            "sampling_time": "2023-09-23T19:22:22.251214",
            "user_variable_name": "advance_economies_inv_2023_T",
            "variable_name": "advance_economies_inv_2023_T"
          },
          "7b0e1bfa-1a00-4c12-a6eb-691f54e0fbbe": {
            "applied_filters": [],
            "dataframe_info": {
              "default_index_used": false,
              "orig_num_cols": 32,
              "orig_num_rows": 10,
              "orig_size_bytes": 2640,
              "truncated_num_cols": 32,
              "truncated_num_rows": 10,
              "truncated_size_bytes": 2640,
              "truncated_string_columns": []
            },
            "display_id": "7b0e1bfa-1a00-4c12-a6eb-691f54e0fbbe",
            "dx_settings": {
              "ALLOW_NOTEABLE_ATTRS": true,
              "COLUMN_SAMPLING_METHOD": "outer",
              "DB_LOCATION": ":memory:",
              "DEV_MODE": false,
              "DISPLAY_MAX_COLUMNS": 100,
              "DISPLAY_MAX_ROWS": 50000,
              "DISPLAY_MODE": "simple",
              "ENABLE_ASSIGNMENT": true,
              "ENABLE_DATALINK": true,
              "FLATTEN_COLUMN_VALUES": true,
              "FLATTEN_INDEX_VALUES": false,
              "GENERATE_DEX_METADATA": false,
              "HTML_TABLE_SCHEMA": false,
              "LOG_LEVEL": 30,
              "MAX_RENDER_SIZE_BYTES": 104857600,
              "MAX_STRING_LENGTH": 250,
              "NUM_PAST_SAMPLES_TRACKED": 3,
              "RANDOM_STATE": 12648430,
              "RESET_INDEX_VALUES": false,
              "ROW_SAMPLING_METHOD": "random",
              "SAMPLING_FACTOR": 0.1,
              "SAMPLING_METHOD": "random",
              "STRINGIFY_COLUMN_VALUES": true,
              "STRINGIFY_INDEX_VALUES": false
            },
            "sample_history": [],
            "sampling_time": "2023-09-23T19:23:51.284121",
            "user_variable_name": null,
            "variable_name": "unk_dataframe_e6622ffd548540af9371c306767a3930"
          },
          "8616ed83-c6d4-45a6-b1a4-7f8e903dee2b": {
            "applied_filters": [],
            "dataframe_info": {
              "default_index_used": false,
              "orig_num_cols": 32,
              "orig_num_rows": 10,
              "orig_size_bytes": 2640,
              "truncated_num_cols": 32,
              "truncated_num_rows": 10,
              "truncated_size_bytes": 2640,
              "truncated_string_columns": []
            },
            "display_id": "8616ed83-c6d4-45a6-b1a4-7f8e903dee2b",
            "dx_settings": {
              "ALLOW_NOTEABLE_ATTRS": true,
              "COLUMN_SAMPLING_METHOD": "outer",
              "DB_LOCATION": ":memory:",
              "DEV_MODE": false,
              "DISPLAY_MAX_COLUMNS": 100,
              "DISPLAY_MAX_ROWS": 50000,
              "DISPLAY_MODE": "simple",
              "ENABLE_ASSIGNMENT": true,
              "ENABLE_DATALINK": true,
              "FLATTEN_COLUMN_VALUES": true,
              "FLATTEN_INDEX_VALUES": false,
              "GENERATE_DEX_METADATA": false,
              "HTML_TABLE_SCHEMA": false,
              "LOG_LEVEL": 30,
              "MAX_RENDER_SIZE_BYTES": 104857600,
              "MAX_STRING_LENGTH": 250,
              "NUM_PAST_SAMPLES_TRACKED": 3,
              "RANDOM_STATE": 12648430,
              "RESET_INDEX_VALUES": false,
              "ROW_SAMPLING_METHOD": "random",
              "SAMPLING_FACTOR": 0.1,
              "SAMPLING_METHOD": "random",
              "STRINGIFY_COLUMN_VALUES": true,
              "STRINGIFY_INDEX_VALUES": false
            },
            "sample_history": [],
            "sampling_time": "2023-09-23T19:24:19.236999",
            "user_variable_name": "advance_economies_inv_2023_T",
            "variable_name": "advance_economies_inv_2023_T"
          },
          "a56cadbc-a481-4ba1-9643-fd971fd67887": {
            "applied_filters": [],
            "dataframe_info": {
              "default_index_used": false,
              "orig_num_cols": 32,
              "orig_num_rows": 10,
              "orig_size_bytes": 2640,
              "truncated_num_cols": 32,
              "truncated_num_rows": 10,
              "truncated_size_bytes": 2640,
              "truncated_string_columns": []
            },
            "display_id": "a56cadbc-a481-4ba1-9643-fd971fd67887",
            "dx_settings": {
              "ALLOW_NOTEABLE_ATTRS": true,
              "COLUMN_SAMPLING_METHOD": "outer",
              "DB_LOCATION": ":memory:",
              "DEV_MODE": false,
              "DISPLAY_MAX_COLUMNS": 100,
              "DISPLAY_MAX_ROWS": 50000,
              "DISPLAY_MODE": "simple",
              "ENABLE_ASSIGNMENT": true,
              "ENABLE_DATALINK": true,
              "FLATTEN_COLUMN_VALUES": true,
              "FLATTEN_INDEX_VALUES": false,
              "GENERATE_DEX_METADATA": false,
              "HTML_TABLE_SCHEMA": false,
              "LOG_LEVEL": 30,
              "MAX_RENDER_SIZE_BYTES": 104857600,
              "MAX_STRING_LENGTH": 250,
              "NUM_PAST_SAMPLES_TRACKED": 3,
              "RANDOM_STATE": 12648430,
              "RESET_INDEX_VALUES": false,
              "ROW_SAMPLING_METHOD": "random",
              "SAMPLING_FACTOR": 0.1,
              "SAMPLING_METHOD": "random",
              "STRINGIFY_COLUMN_VALUES": true,
              "STRINGIFY_INDEX_VALUES": false
            },
            "sample_history": [],
            "sampling_time": "2023-09-23T21:30:16.697546",
            "user_variable_name": "advance_economies_inv_2023_T",
            "variable_name": "advance_economies_inv_2023_T"
          },
          "bdb376d3-ffdc-4d5f-a248-a933bedc853c": {
            "applied_filters": [],
            "dataframe_info": {
              "default_index_used": false,
              "orig_num_cols": 32,
              "orig_num_rows": 10,
              "orig_size_bytes": 2640,
              "truncated_num_cols": 32,
              "truncated_num_rows": 10,
              "truncated_size_bytes": 2640,
              "truncated_string_columns": []
            },
            "display_id": "bdb376d3-ffdc-4d5f-a248-a933bedc853c",
            "dx_settings": {
              "ALLOW_NOTEABLE_ATTRS": true,
              "COLUMN_SAMPLING_METHOD": "outer",
              "DB_LOCATION": ":memory:",
              "DEV_MODE": false,
              "DISPLAY_MAX_COLUMNS": 100,
              "DISPLAY_MAX_ROWS": 50000,
              "DISPLAY_MODE": "simple",
              "ENABLE_ASSIGNMENT": true,
              "ENABLE_DATALINK": true,
              "FLATTEN_COLUMN_VALUES": true,
              "FLATTEN_INDEX_VALUES": false,
              "GENERATE_DEX_METADATA": false,
              "HTML_TABLE_SCHEMA": false,
              "LOG_LEVEL": 30,
              "MAX_RENDER_SIZE_BYTES": 104857600,
              "MAX_STRING_LENGTH": 250,
              "NUM_PAST_SAMPLES_TRACKED": 3,
              "RANDOM_STATE": 12648430,
              "RESET_INDEX_VALUES": false,
              "ROW_SAMPLING_METHOD": "random",
              "SAMPLING_FACTOR": 0.1,
              "SAMPLING_METHOD": "random",
              "STRINGIFY_COLUMN_VALUES": true,
              "STRINGIFY_INDEX_VALUES": false
            },
            "sample_history": [],
            "sampling_time": "2023-09-24T01:11:58.584116",
            "user_variable_name": "advance_economies_inv_2023_T",
            "variable_name": "advance_economies_inv_2023_T"
          },
          "76b7f56b-7a61-4dbe-9ad2-e1228426e7ec": {
            "applied_filters": [],
            "dataframe_info": {
              "default_index_used": false,
              "orig_num_cols": 32,
              "orig_num_rows": 10,
              "orig_size_bytes": 2640,
              "truncated_num_cols": 32,
              "truncated_num_rows": 10,
              "truncated_size_bytes": 2640,
              "truncated_string_columns": []
            },
            "display_id": "76b7f56b-7a61-4dbe-9ad2-e1228426e7ec",
            "dx_settings": {
              "ALLOW_NOTEABLE_ATTRS": true,
              "COLUMN_SAMPLING_METHOD": "outer",
              "DB_LOCATION": ":memory:",
              "DEV_MODE": false,
              "DISPLAY_MAX_COLUMNS": 100,
              "DISPLAY_MAX_ROWS": 50000,
              "DISPLAY_MODE": "simple",
              "ENABLE_ASSIGNMENT": true,
              "ENABLE_DATALINK": true,
              "FLATTEN_COLUMN_VALUES": true,
              "FLATTEN_INDEX_VALUES": false,
              "GENERATE_DEX_METADATA": false,
              "HTML_TABLE_SCHEMA": false,
              "LOG_LEVEL": 30,
              "MAX_RENDER_SIZE_BYTES": 104857600,
              "MAX_STRING_LENGTH": 250,
              "NUM_PAST_SAMPLES_TRACKED": 3,
              "RANDOM_STATE": 12648430,
              "RESET_INDEX_VALUES": false,
              "ROW_SAMPLING_METHOD": "random",
              "SAMPLING_FACTOR": 0.1,
              "SAMPLING_METHOD": "random",
              "STRINGIFY_COLUMN_VALUES": true,
              "STRINGIFY_INDEX_VALUES": false
            },
            "sample_history": [],
            "sampling_time": "2023-09-24T01:21:08.294744",
            "user_variable_name": "advance_economies_inv_2023_T",
            "variable_name": "advance_economies_inv_2023_T"
          },
          "0f47e884-4c65-46fc-8462-7e5493e401a9": {
            "applied_filters": [],
            "dataframe_info": {
              "default_index_used": true,
              "orig_num_cols": 9,
              "orig_num_rows": 28,
              "orig_size_bytes": 2240,
              "truncated_num_cols": 9,
              "truncated_num_rows": 28,
              "truncated_size_bytes": 2240,
              "truncated_string_columns": []
            },
            "display_id": "0f47e884-4c65-46fc-8462-7e5493e401a9",
            "dx_settings": {
              "ALLOW_NOTEABLE_ATTRS": true,
              "COLUMN_SAMPLING_METHOD": "outer",
              "DB_LOCATION": ":memory:",
              "DEV_MODE": false,
              "DISPLAY_MAX_COLUMNS": 100,
              "DISPLAY_MAX_ROWS": 50000,
              "DISPLAY_MODE": "simple",
              "ENABLE_ASSIGNMENT": true,
              "ENABLE_DATALINK": true,
              "FLATTEN_COLUMN_VALUES": true,
              "FLATTEN_INDEX_VALUES": false,
              "GENERATE_DEX_METADATA": false,
              "HTML_TABLE_SCHEMA": false,
              "LOG_LEVEL": 30,
              "MAX_RENDER_SIZE_BYTES": 104857600,
              "MAX_STRING_LENGTH": 250,
              "NUM_PAST_SAMPLES_TRACKED": 3,
              "RANDOM_STATE": 12648430,
              "RESET_INDEX_VALUES": false,
              "ROW_SAMPLING_METHOD": "random",
              "SAMPLING_FACTOR": 0.1,
              "SAMPLING_METHOD": "random",
              "STRINGIFY_COLUMN_VALUES": true,
              "STRINGIFY_INDEX_VALUES": false
            },
            "sample_history": [],
            "sampling_time": "2023-09-24T01:39:35.556358",
            "user_variable_name": "advance_economies_inv_2023_T",
            "variable_name": "advance_economies_inv_2023_T"
          },
          "5153ce3b-0c71-4199-a9e3-5c3d6c8b81f0": {
            "applied_filters": [],
            "dataframe_info": {
              "default_index_used": false,
              "orig_num_cols": 28,
              "orig_num_rows": 10,
              "orig_size_bytes": 2320,
              "truncated_num_cols": 28,
              "truncated_num_rows": 10,
              "truncated_size_bytes": 2320,
              "truncated_string_columns": []
            },
            "display_id": "5153ce3b-0c71-4199-a9e3-5c3d6c8b81f0",
            "dx_settings": {
              "ALLOW_NOTEABLE_ATTRS": true,
              "COLUMN_SAMPLING_METHOD": "outer",
              "DB_LOCATION": ":memory:",
              "DEV_MODE": false,
              "DISPLAY_MAX_COLUMNS": 100,
              "DISPLAY_MAX_ROWS": 50000,
              "DISPLAY_MODE": "simple",
              "ENABLE_ASSIGNMENT": true,
              "ENABLE_DATALINK": true,
              "FLATTEN_COLUMN_VALUES": true,
              "FLATTEN_INDEX_VALUES": false,
              "GENERATE_DEX_METADATA": false,
              "HTML_TABLE_SCHEMA": false,
              "LOG_LEVEL": 30,
              "MAX_RENDER_SIZE_BYTES": 104857600,
              "MAX_STRING_LENGTH": 250,
              "NUM_PAST_SAMPLES_TRACKED": 3,
              "RANDOM_STATE": 12648430,
              "RESET_INDEX_VALUES": false,
              "ROW_SAMPLING_METHOD": "random",
              "SAMPLING_FACTOR": 0.1,
              "SAMPLING_METHOD": "random",
              "STRINGIFY_COLUMN_VALUES": true,
              "STRINGIFY_INDEX_VALUES": false
            },
            "sample_history": [],
            "sampling_time": "2023-09-24T01:52:56.213509",
            "user_variable_name": "advance_economies_inv_2023_T",
            "variable_name": "advance_economies_inv_2023_T"
          },
          "eca2e672-9f44-4dea-a244-5bec8e8acfd1": {
            "applied_filters": [],
            "dataframe_info": {
              "default_index_used": false,
              "orig_num_cols": 28,
              "orig_num_rows": 10,
              "orig_size_bytes": 2320,
              "truncated_num_cols": 28,
              "truncated_num_rows": 10,
              "truncated_size_bytes": 2320,
              "truncated_string_columns": []
            },
            "display_id": "eca2e672-9f44-4dea-a244-5bec8e8acfd1",
            "dx_settings": {
              "ALLOW_NOTEABLE_ATTRS": true,
              "COLUMN_SAMPLING_METHOD": "outer",
              "DB_LOCATION": ":memory:",
              "DEV_MODE": false,
              "DISPLAY_MAX_COLUMNS": 100,
              "DISPLAY_MAX_ROWS": 50000,
              "DISPLAY_MODE": "simple",
              "ENABLE_ASSIGNMENT": true,
              "ENABLE_DATALINK": true,
              "FLATTEN_COLUMN_VALUES": true,
              "FLATTEN_INDEX_VALUES": false,
              "GENERATE_DEX_METADATA": false,
              "HTML_TABLE_SCHEMA": false,
              "LOG_LEVEL": 30,
              "MAX_RENDER_SIZE_BYTES": 104857600,
              "MAX_STRING_LENGTH": 250,
              "NUM_PAST_SAMPLES_TRACKED": 3,
              "RANDOM_STATE": 12648430,
              "RESET_INDEX_VALUES": false,
              "ROW_SAMPLING_METHOD": "random",
              "SAMPLING_FACTOR": 0.1,
              "SAMPLING_METHOD": "random",
              "STRINGIFY_COLUMN_VALUES": true,
              "STRINGIFY_INDEX_VALUES": false
            },
            "sample_history": [],
            "sampling_time": "2023-09-24T04:12:56.344674",
            "user_variable_name": "advance_economies_inv_2023_T",
            "variable_name": "advance_economies_inv_2023_T"
          },
          "ee13d1c4-ba65-40ae-95d1-791110751a49": {
            "applied_filters": [],
            "dataframe_info": {
              "default_index_used": false,
              "orig_num_cols": 28,
              "orig_num_rows": 10,
              "orig_size_bytes": 2320,
              "truncated_num_cols": 28,
              "truncated_num_rows": 10,
              "truncated_size_bytes": 2320,
              "truncated_string_columns": []
            },
            "display_id": "ee13d1c4-ba65-40ae-95d1-791110751a49",
            "dx_settings": {
              "ALLOW_NOTEABLE_ATTRS": true,
              "COLUMN_SAMPLING_METHOD": "outer",
              "DB_LOCATION": ":memory:",
              "DEV_MODE": false,
              "DISPLAY_MAX_COLUMNS": 100,
              "DISPLAY_MAX_ROWS": 50000,
              "DISPLAY_MODE": "simple",
              "ENABLE_ASSIGNMENT": true,
              "ENABLE_DATALINK": true,
              "FLATTEN_COLUMN_VALUES": true,
              "FLATTEN_INDEX_VALUES": false,
              "GENERATE_DEX_METADATA": false,
              "HTML_TABLE_SCHEMA": false,
              "LOG_LEVEL": 30,
              "MAX_RENDER_SIZE_BYTES": 104857600,
              "MAX_STRING_LENGTH": 250,
              "NUM_PAST_SAMPLES_TRACKED": 3,
              "RANDOM_STATE": 12648430,
              "RESET_INDEX_VALUES": false,
              "ROW_SAMPLING_METHOD": "random",
              "SAMPLING_FACTOR": 0.1,
              "SAMPLING_METHOD": "random",
              "STRINGIFY_COLUMN_VALUES": true,
              "STRINGIFY_INDEX_VALUES": false
            },
            "sample_history": [],
            "sampling_time": "2023-09-24T16:43:01.941103",
            "user_variable_name": "advance_economies_inv_2023_T",
            "variable_name": "advance_economies_inv_2023_T"
          }
        },
        "dx": {
          "dashboard": {
            "multiViews": []
          },
          "fieldMetadata": {
            "0": {
              "columnPosition": 2,
              "hidden": true
            },
            "1": {
              "columnPosition": 3
            },
            "10": {
              "columnPosition": 12
            },
            "11": {
              "columnPosition": 13
            },
            "12": {
              "columnPosition": 14
            },
            "13": {
              "columnPosition": 15
            },
            "14": {
              "columnPosition": 16
            },
            "15": {
              "columnPosition": 17
            },
            "16": {
              "columnPosition": 18
            },
            "17": {
              "columnPosition": 19
            },
            "18": {
              "columnPosition": 20
            },
            "19": {
              "columnPosition": 21
            },
            "2": {
              "columnPosition": 4
            },
            "20": {
              "columnPosition": 22
            },
            "21": {
              "columnPosition": 23
            },
            "22": {
              "columnPosition": 24
            },
            "23": {
              "columnPosition": 25
            },
            "24": {
              "columnPosition": 26
            },
            "25": {
              "columnPosition": 27
            },
            "26": {
              "columnPosition": 28
            },
            "27": {
              "columnPosition": 29
            },
            "28": {
              "columnPosition": 30
            },
            "29": {
              "columnPosition": 31
            },
            "3": {
              "columnPosition": 5
            },
            "30": {
              "columnPosition": 32
            },
            "31": {
              "columnPosition": 33
            },
            "4": {
              "columnPosition": 6
            },
            "5": {
              "columnPosition": 7
            },
            "6": {
              "columnPosition": 8
            },
            "7": {
              "columnPosition": 9
            },
            "8": {
              "columnPosition": 10
            },
            "9": {
              "columnPosition": 11
            },
            "index": {
              "columnPosition": 1,
              "hidden": true
            }
          },
          "updated": 1695504385745,
          "views": [
            {
              "annotationRules": [],
              "chart": {},
              "chartMode": "grid",
              "confoRules": [],
              "decoration": {
                "footer": "",
                "subtitle": "",
                "title": "Table"
              },
              "facets": [],
              "filterSettings": {
                "SHOW_FILTER_PANEL": true,
                "filters": []
              },
              "id": "first-view",
              "isDefault": true,
              "type": "public",
              "userID": ""
            },
            {
              "annotationRules": [],
              "chart": {},
              "chartMode": "grid",
              "confoRules": [],
              "decoration": {
                "footer": "",
                "subtitle": "",
                "title": "Table"
              },
              "facets": [],
              "filterSettings": {
                "SHOW_FILTER_PANEL": true,
                "filters": []
              },
              "id": "first-view",
              "isDefault": true,
              "isTransitory": true,
              "type": "public",
              "userID": ""
            },
            {
              "annotationRules": [],
              "chart": {},
              "chartMode": "empty",
              "confoRules": [],
              "decoration": {
                "footer": "",
                "subtitle": "",
                "title": "New View"
              },
              "facets": [],
              "filterSettings": {
                "SHOW_FILTER_PANEL": true,
                "filters": []
              },
              "id": "e52ea272-b1e9-40fb-a64c-5e229c1624bb",
              "isDefault": false,
              "type": "public",
              "userID": ""
            },
            {
              "annotationRules": [],
              "chart": {
                "facets": [],
                "summaryType": "heatmap"
              },
              "chartMode": "bignumber",
              "confoRules": [],
              "decoration": {
                "footer": "",
                "subtitle": "",
                "title": "Big Number"
              },
              "facets": [],
              "filterSettings": {
                "SHOW_FILTER_PANEL": true,
                "filters": []
              },
              "id": "e52ea272-b1e9-40fb-a64c-5e229c1624bb",
              "isDefault": false,
              "isTransitory": true,
              "type": "public",
              "userID": ""
            }
          ]
        },
        "scrolled": false
      },
      "execution_count": null,
      "source": "# Transposing data\n\nadvance_economies_inv_2023_T = advance_economies_inv_2023.transpose()\nadvance_economies_inv_2023_T\n\n",
      "outputs": []
    },
    {
      "id": "0c0b819f-a1c9-4c21-a8f0-753476f61605",
      "cell_type": "code",
      "metadata": {
        "jupyter": {
          "outputs_hidden": false,
          "source_hidden": false
        },
        "noteable": {
          "cell_type": "code",
          "output_collection_id": "cd828a38-f570-46da-a4ef-33f3069024b1"
        },
        "ExecuteTime": {
          "end_time": "2023-09-24T16:43:02.719267+00:00",
          "start_time": "2023-09-24T16:43:02.401549+00:00"
        },
        "datalink": {
          "66f32360-fcfb-4319-b73d-a54220be7ce8": {
            "applied_filters": [],
            "dataframe_info": {
              "default_index_used": false,
              "orig_num_cols": 32,
              "orig_num_rows": 10,
              "orig_size_bytes": 2640,
              "truncated_num_cols": 32,
              "truncated_num_rows": 10,
              "truncated_size_bytes": 2640,
              "truncated_string_columns": []
            },
            "display_id": "66f32360-fcfb-4319-b73d-a54220be7ce8",
            "dx_settings": {
              "ALLOW_NOTEABLE_ATTRS": true,
              "COLUMN_SAMPLING_METHOD": "outer",
              "DB_LOCATION": ":memory:",
              "DEV_MODE": false,
              "DISPLAY_MAX_COLUMNS": 100,
              "DISPLAY_MAX_ROWS": 50000,
              "DISPLAY_MODE": "simple",
              "ENABLE_ASSIGNMENT": true,
              "ENABLE_DATALINK": true,
              "FLATTEN_COLUMN_VALUES": true,
              "FLATTEN_INDEX_VALUES": false,
              "GENERATE_DEX_METADATA": false,
              "HTML_TABLE_SCHEMA": false,
              "LOG_LEVEL": 30,
              "MAX_RENDER_SIZE_BYTES": 104857600,
              "MAX_STRING_LENGTH": 250,
              "NUM_PAST_SAMPLES_TRACKED": 3,
              "RANDOM_STATE": 12648430,
              "RESET_INDEX_VALUES": false,
              "ROW_SAMPLING_METHOD": "random",
              "SAMPLING_FACTOR": 0.1,
              "SAMPLING_METHOD": "random",
              "STRINGIFY_COLUMN_VALUES": true,
              "STRINGIFY_INDEX_VALUES": false
            },
            "sample_history": [],
            "sampling_time": "2023-09-24T01:21:12.538954",
            "user_variable_name": null,
            "variable_name": "unk_dataframe_89ff171f67584ac8a717a12bc1825a55"
          },
          "8caecaba-7c40-4604-8caa-be38264fb406": {
            "applied_filters": [],
            "dataframe_info": {
              "default_index_used": true,
              "orig_num_cols": 9,
              "orig_num_rows": 28,
              "orig_size_bytes": 2240,
              "truncated_num_cols": 9,
              "truncated_num_rows": 28,
              "truncated_size_bytes": 2240,
              "truncated_string_columns": []
            },
            "display_id": "8caecaba-7c40-4604-8caa-be38264fb406",
            "dx_settings": {
              "ALLOW_NOTEABLE_ATTRS": true,
              "COLUMN_SAMPLING_METHOD": "outer",
              "DB_LOCATION": ":memory:",
              "DEV_MODE": false,
              "DISPLAY_MAX_COLUMNS": 100,
              "DISPLAY_MAX_ROWS": 50000,
              "DISPLAY_MODE": "simple",
              "ENABLE_ASSIGNMENT": true,
              "ENABLE_DATALINK": true,
              "FLATTEN_COLUMN_VALUES": true,
              "FLATTEN_INDEX_VALUES": false,
              "GENERATE_DEX_METADATA": false,
              "HTML_TABLE_SCHEMA": false,
              "LOG_LEVEL": 30,
              "MAX_RENDER_SIZE_BYTES": 104857600,
              "MAX_STRING_LENGTH": 250,
              "NUM_PAST_SAMPLES_TRACKED": 3,
              "RANDOM_STATE": 12648430,
              "RESET_INDEX_VALUES": false,
              "ROW_SAMPLING_METHOD": "random",
              "SAMPLING_FACTOR": 0.1,
              "SAMPLING_METHOD": "random",
              "STRINGIFY_COLUMN_VALUES": true,
              "STRINGIFY_INDEX_VALUES": false
            },
            "sample_history": [],
            "sampling_time": "2023-09-24T01:41:31.182173",
            "user_variable_name": "advance_economies_inv_2023_T",
            "variable_name": "advance_economies_inv_2023_T"
          },
          "a69ef9de-85db-4a70-890c-868cc6471d2b": {
            "applied_filters": [],
            "dataframe_info": {
              "default_index_used": false,
              "orig_num_cols": 28,
              "orig_num_rows": 10,
              "orig_size_bytes": 2320,
              "truncated_num_cols": 28,
              "truncated_num_rows": 10,
              "truncated_size_bytes": 2320,
              "truncated_string_columns": []
            },
            "display_id": "a69ef9de-85db-4a70-890c-868cc6471d2b",
            "dx_settings": {
              "ALLOW_NOTEABLE_ATTRS": true,
              "COLUMN_SAMPLING_METHOD": "outer",
              "DB_LOCATION": ":memory:",
              "DEV_MODE": false,
              "DISPLAY_MAX_COLUMNS": 100,
              "DISPLAY_MAX_ROWS": 50000,
              "DISPLAY_MODE": "simple",
              "ENABLE_ASSIGNMENT": true,
              "ENABLE_DATALINK": true,
              "FLATTEN_COLUMN_VALUES": true,
              "FLATTEN_INDEX_VALUES": false,
              "GENERATE_DEX_METADATA": false,
              "HTML_TABLE_SCHEMA": false,
              "LOG_LEVEL": 30,
              "MAX_RENDER_SIZE_BYTES": 104857600,
              "MAX_STRING_LENGTH": 250,
              "NUM_PAST_SAMPLES_TRACKED": 3,
              "RANDOM_STATE": 12648430,
              "RESET_INDEX_VALUES": false,
              "ROW_SAMPLING_METHOD": "random",
              "SAMPLING_FACTOR": 0.1,
              "SAMPLING_METHOD": "random",
              "STRINGIFY_COLUMN_VALUES": true,
              "STRINGIFY_INDEX_VALUES": false
            },
            "sample_history": [],
            "sampling_time": "2023-09-24T01:53:41.877809",
            "user_variable_name": null,
            "variable_name": "unk_dataframe_af1f74b15c9a409c9fd5390336ec97d3"
          },
          "0396d572-c5f8-4039-ab25-f34ec9101ece": {
            "applied_filters": [],
            "dataframe_info": {
              "default_index_used": false,
              "orig_num_cols": 28,
              "orig_num_rows": 10,
              "orig_size_bytes": 2320,
              "truncated_num_cols": 28,
              "truncated_num_rows": 10,
              "truncated_size_bytes": 2320,
              "truncated_string_columns": []
            },
            "display_id": "0396d572-c5f8-4039-ab25-f34ec9101ece",
            "dx_settings": {
              "ALLOW_NOTEABLE_ATTRS": true,
              "COLUMN_SAMPLING_METHOD": "outer",
              "DB_LOCATION": ":memory:",
              "DEV_MODE": false,
              "DISPLAY_MAX_COLUMNS": 100,
              "DISPLAY_MAX_ROWS": 50000,
              "DISPLAY_MODE": "simple",
              "ENABLE_ASSIGNMENT": true,
              "ENABLE_DATALINK": true,
              "FLATTEN_COLUMN_VALUES": true,
              "FLATTEN_INDEX_VALUES": false,
              "GENERATE_DEX_METADATA": false,
              "HTML_TABLE_SCHEMA": false,
              "LOG_LEVEL": 30,
              "MAX_RENDER_SIZE_BYTES": 104857600,
              "MAX_STRING_LENGTH": 250,
              "NUM_PAST_SAMPLES_TRACKED": 3,
              "RANDOM_STATE": 12648430,
              "RESET_INDEX_VALUES": false,
              "ROW_SAMPLING_METHOD": "random",
              "SAMPLING_FACTOR": 0.1,
              "SAMPLING_METHOD": "random",
              "STRINGIFY_COLUMN_VALUES": true,
              "STRINGIFY_INDEX_VALUES": false
            },
            "sample_history": [],
            "sampling_time": "2023-09-24T04:12:58.350992",
            "user_variable_name": null,
            "variable_name": "unk_dataframe_b3e6f614b9bc4368a1c1ff144380b9ae"
          },
          "b449f8f2-27b0-481c-8196-b002a8c4b15f": {
            "applied_filters": [],
            "dataframe_info": {
              "default_index_used": false,
              "orig_num_cols": 28,
              "orig_num_rows": 10,
              "orig_size_bytes": 2320,
              "truncated_num_cols": 28,
              "truncated_num_rows": 10,
              "truncated_size_bytes": 2320,
              "truncated_string_columns": []
            },
            "display_id": "b449f8f2-27b0-481c-8196-b002a8c4b15f",
            "dx_settings": {
              "ALLOW_NOTEABLE_ATTRS": true,
              "COLUMN_SAMPLING_METHOD": "outer",
              "DB_LOCATION": ":memory:",
              "DEV_MODE": false,
              "DISPLAY_MAX_COLUMNS": 100,
              "DISPLAY_MAX_ROWS": 50000,
              "DISPLAY_MODE": "simple",
              "ENABLE_ASSIGNMENT": true,
              "ENABLE_DATALINK": true,
              "FLATTEN_COLUMN_VALUES": true,
              "FLATTEN_INDEX_VALUES": false,
              "GENERATE_DEX_METADATA": false,
              "HTML_TABLE_SCHEMA": false,
              "LOG_LEVEL": 30,
              "MAX_RENDER_SIZE_BYTES": 104857600,
              "MAX_STRING_LENGTH": 250,
              "NUM_PAST_SAMPLES_TRACKED": 3,
              "RANDOM_STATE": 12648430,
              "RESET_INDEX_VALUES": false,
              "ROW_SAMPLING_METHOD": "random",
              "SAMPLING_FACTOR": 0.1,
              "SAMPLING_METHOD": "random",
              "STRINGIFY_COLUMN_VALUES": true,
              "STRINGIFY_INDEX_VALUES": false
            },
            "sample_history": [],
            "sampling_time": "2023-09-24T16:43:02.556313",
            "user_variable_name": null,
            "variable_name": "unk_dataframe_5423a6348ca8412db6a52b9bae739777"
          }
        }
      },
      "execution_count": null,
      "source": "# Rename columns to the first row\n\nadvance_economies_inv_2023_T.columns = advance_economies_inv_2023_T.iloc[0]  \nadvance_economies_inv_2023_T",
      "outputs": []
    },
    {
      "id": "c061b440-f42d-4d75-a40d-bf9b975b6119",
      "cell_type": "code",
      "metadata": {
        "jupyter": {
          "outputs_hidden": false,
          "source_hidden": false
        },
        "noteable": {
          "cell_type": "code",
          "output_collection_id": "4dd2a394-c434-4cf0-b398-83e94254969d"
        },
        "ExecuteTime": {
          "end_time": "2023-09-24T16:43:03.331971+00:00",
          "start_time": "2023-09-24T16:43:03.176318+00:00"
        }
      },
      "execution_count": null,
      "source": "# deleting 1st row\n\nadvance_economies_inv_2023_T = advance_economies_inv_2023_T.drop(advance_economies_inv_2023_T.index[0]) \n",
      "outputs": []
    },
    {
      "id": "77e089f3-6fe6-42a2-b9ac-51b2ad629b3b",
      "cell_type": "code",
      "metadata": {
        "jupyter": {
          "outputs_hidden": false,
          "source_hidden": false
        },
        "noteable": {
          "cell_type": "code",
          "output_collection_id": "ee03b4d5-1004-43a4-9b4f-d1c479a3f926"
        },
        "ExecuteTime": {
          "end_time": "2023-09-24T16:43:03.642289+00:00",
          "start_time": "2023-09-24T16:43:03.336112+00:00"
        },
        "datalink": {
          "137409cf-6e1c-4cbc-8480-b06e06e6e1f1": {
            "applied_filters": [],
            "dataframe_info": {
              "default_index_used": false,
              "orig_num_cols": 28,
              "orig_num_rows": 9,
              "orig_size_bytes": 2088,
              "truncated_num_cols": 28,
              "truncated_num_rows": 9,
              "truncated_size_bytes": 2088,
              "truncated_string_columns": []
            },
            "display_id": "137409cf-6e1c-4cbc-8480-b06e06e6e1f1",
            "dx_settings": {
              "ALLOW_NOTEABLE_ATTRS": true,
              "COLUMN_SAMPLING_METHOD": "outer",
              "DB_LOCATION": ":memory:",
              "DEV_MODE": false,
              "DISPLAY_MAX_COLUMNS": 100,
              "DISPLAY_MAX_ROWS": 50000,
              "DISPLAY_MODE": "simple",
              "ENABLE_ASSIGNMENT": true,
              "ENABLE_DATALINK": true,
              "FLATTEN_COLUMN_VALUES": true,
              "FLATTEN_INDEX_VALUES": false,
              "GENERATE_DEX_METADATA": false,
              "HTML_TABLE_SCHEMA": false,
              "LOG_LEVEL": 30,
              "MAX_RENDER_SIZE_BYTES": 104857600,
              "MAX_STRING_LENGTH": 250,
              "NUM_PAST_SAMPLES_TRACKED": 3,
              "RANDOM_STATE": 12648430,
              "RESET_INDEX_VALUES": false,
              "ROW_SAMPLING_METHOD": "random",
              "SAMPLING_FACTOR": 0.1,
              "SAMPLING_METHOD": "random",
              "STRINGIFY_COLUMN_VALUES": true,
              "STRINGIFY_INDEX_VALUES": false
            },
            "sample_history": [],
            "sampling_time": "2023-09-24T01:57:57.225358",
            "user_variable_name": null,
            "variable_name": "unk_dataframe_dd366198bc88412aa8d6e56f8f5ae73b"
          },
          "d8a23b9a-30f1-4cc3-a17e-a311f6658736": {
            "applied_filters": [],
            "dataframe_info": {
              "default_index_used": false,
              "orig_num_cols": 28,
              "orig_num_rows": 9,
              "orig_size_bytes": 2088,
              "truncated_num_cols": 28,
              "truncated_num_rows": 9,
              "truncated_size_bytes": 2088,
              "truncated_string_columns": []
            },
            "display_id": "d8a23b9a-30f1-4cc3-a17e-a311f6658736",
            "dx_settings": {
              "ALLOW_NOTEABLE_ATTRS": true,
              "COLUMN_SAMPLING_METHOD": "outer",
              "DB_LOCATION": ":memory:",
              "DEV_MODE": false,
              "DISPLAY_MAX_COLUMNS": 100,
              "DISPLAY_MAX_ROWS": 50000,
              "DISPLAY_MODE": "simple",
              "ENABLE_ASSIGNMENT": true,
              "ENABLE_DATALINK": true,
              "FLATTEN_COLUMN_VALUES": true,
              "FLATTEN_INDEX_VALUES": false,
              "GENERATE_DEX_METADATA": false,
              "HTML_TABLE_SCHEMA": false,
              "LOG_LEVEL": 30,
              "MAX_RENDER_SIZE_BYTES": 104857600,
              "MAX_STRING_LENGTH": 250,
              "NUM_PAST_SAMPLES_TRACKED": 3,
              "RANDOM_STATE": 12648430,
              "RESET_INDEX_VALUES": false,
              "ROW_SAMPLING_METHOD": "random",
              "SAMPLING_FACTOR": 0.1,
              "SAMPLING_METHOD": "random",
              "STRINGIFY_COLUMN_VALUES": true,
              "STRINGIFY_INDEX_VALUES": false
            },
            "sample_history": [],
            "sampling_time": "2023-09-24T04:13:06.258456",
            "user_variable_name": null,
            "variable_name": "unk_dataframe_978a9ea28f8e4a5b901149753163361b"
          },
          "b887beae-e924-4329-873c-ab808f71a075": {
            "applied_filters": [],
            "dataframe_info": {
              "default_index_used": false,
              "orig_num_cols": 28,
              "orig_num_rows": 9,
              "orig_size_bytes": 2088,
              "truncated_num_cols": 28,
              "truncated_num_rows": 9,
              "truncated_size_bytes": 2088,
              "truncated_string_columns": []
            },
            "display_id": "b887beae-e924-4329-873c-ab808f71a075",
            "dx_settings": {
              "ALLOW_NOTEABLE_ATTRS": true,
              "COLUMN_SAMPLING_METHOD": "outer",
              "DB_LOCATION": ":memory:",
              "DEV_MODE": false,
              "DISPLAY_MAX_COLUMNS": 100,
              "DISPLAY_MAX_ROWS": 50000,
              "DISPLAY_MODE": "simple",
              "ENABLE_ASSIGNMENT": true,
              "ENABLE_DATALINK": true,
              "FLATTEN_COLUMN_VALUES": true,
              "FLATTEN_INDEX_VALUES": false,
              "GENERATE_DEX_METADATA": false,
              "HTML_TABLE_SCHEMA": false,
              "LOG_LEVEL": 30,
              "MAX_RENDER_SIZE_BYTES": 104857600,
              "MAX_STRING_LENGTH": 250,
              "NUM_PAST_SAMPLES_TRACKED": 3,
              "RANDOM_STATE": 12648430,
              "RESET_INDEX_VALUES": false,
              "ROW_SAMPLING_METHOD": "random",
              "SAMPLING_FACTOR": 0.1,
              "SAMPLING_METHOD": "random",
              "STRINGIFY_COLUMN_VALUES": true,
              "STRINGIFY_INDEX_VALUES": false
            },
            "sample_history": [],
            "sampling_time": "2023-09-24T16:43:03.479474",
            "user_variable_name": null,
            "variable_name": "unk_dataframe_91052a3277eb4337b22733b9137dedc0"
          }
        }
      },
      "execution_count": null,
      "source": "advance_economies_inv_2023_T # Rechecking the table",
      "outputs": []
    },
    {
      "id": "44fe0c2e-26a0-4d34-a749-dc1c54ef2cc0",
      "cell_type": "code",
      "metadata": {
        "jupyter": {
          "outputs_hidden": false,
          "source_hidden": false
        },
        "noteable": {
          "cell_type": "code",
          "output_collection_id": "2889eb93-bf62-49dd-b369-e64eb0cb2c35"
        },
        "ExecuteTime": {
          "end_time": "2023-09-24T16:43:03.802782+00:00",
          "start_time": "2023-09-24T16:43:03.648479+00:00"
        }
      },
      "execution_count": null,
      "source": "#resetting the index\n\nadvance_economies_inv_2023_T = advance_economies_inv_2023_T.reset_index(drop=True)",
      "outputs": []
    },
    {
      "id": "1c49e600-80c0-47a9-94da-2ca88271de9b",
      "cell_type": "code",
      "metadata": {
        "jupyter": {
          "outputs_hidden": false,
          "source_hidden": false
        },
        "noteable": {
          "cell_type": "code",
          "output_collection_id": "89d9b892-ada5-4b85-b00f-4834e5b73ef0"
        },
        "ExecuteTime": {
          "end_time": "2023-09-24T16:43:04.095605+00:00",
          "start_time": "2023-09-24T16:43:03.808722+00:00"
        },
        "datalink": {
          "3dff0737-37e3-4d83-bb5c-f686f9253389": {
            "applied_filters": [],
            "dataframe_info": {
              "default_index_used": true,
              "orig_num_cols": 28,
              "orig_num_rows": 9,
              "orig_size_bytes": 2088,
              "truncated_num_cols": 28,
              "truncated_num_rows": 9,
              "truncated_size_bytes": 2088,
              "truncated_string_columns": []
            },
            "display_id": "3dff0737-37e3-4d83-bb5c-f686f9253389",
            "dx_settings": {
              "ALLOW_NOTEABLE_ATTRS": true,
              "COLUMN_SAMPLING_METHOD": "outer",
              "DB_LOCATION": ":memory:",
              "DEV_MODE": false,
              "DISPLAY_MAX_COLUMNS": 100,
              "DISPLAY_MAX_ROWS": 50000,
              "DISPLAY_MODE": "simple",
              "ENABLE_ASSIGNMENT": true,
              "ENABLE_DATALINK": true,
              "FLATTEN_COLUMN_VALUES": true,
              "FLATTEN_INDEX_VALUES": false,
              "GENERATE_DEX_METADATA": false,
              "HTML_TABLE_SCHEMA": false,
              "LOG_LEVEL": 30,
              "MAX_RENDER_SIZE_BYTES": 104857600,
              "MAX_STRING_LENGTH": 250,
              "NUM_PAST_SAMPLES_TRACKED": 3,
              "RANDOM_STATE": 12648430,
              "RESET_INDEX_VALUES": false,
              "ROW_SAMPLING_METHOD": "random",
              "SAMPLING_FACTOR": 0.1,
              "SAMPLING_METHOD": "random",
              "STRINGIFY_COLUMN_VALUES": true,
              "STRINGIFY_INDEX_VALUES": false
            },
            "sample_history": [],
            "sampling_time": "2023-09-24T01:59:52.418972",
            "user_variable_name": null,
            "variable_name": "unk_dataframe_4e73fee742f8478d838a2e9c5b2483b3"
          },
          "8a9d4600-f1cb-4f85-967f-a790a2751bc3": {
            "applied_filters": [],
            "dataframe_info": {
              "default_index_used": true,
              "orig_num_cols": 28,
              "orig_num_rows": 9,
              "orig_size_bytes": 2088,
              "truncated_num_cols": 28,
              "truncated_num_rows": 9,
              "truncated_size_bytes": 2088,
              "truncated_string_columns": []
            },
            "display_id": "8a9d4600-f1cb-4f85-967f-a790a2751bc3",
            "dx_settings": {
              "ALLOW_NOTEABLE_ATTRS": true,
              "COLUMN_SAMPLING_METHOD": "outer",
              "DB_LOCATION": ":memory:",
              "DEV_MODE": false,
              "DISPLAY_MAX_COLUMNS": 100,
              "DISPLAY_MAX_ROWS": 50000,
              "DISPLAY_MODE": "simple",
              "ENABLE_ASSIGNMENT": true,
              "ENABLE_DATALINK": true,
              "FLATTEN_COLUMN_VALUES": true,
              "FLATTEN_INDEX_VALUES": false,
              "GENERATE_DEX_METADATA": false,
              "HTML_TABLE_SCHEMA": false,
              "LOG_LEVEL": 30,
              "MAX_RENDER_SIZE_BYTES": 104857600,
              "MAX_STRING_LENGTH": 250,
              "NUM_PAST_SAMPLES_TRACKED": 3,
              "RANDOM_STATE": 12648430,
              "RESET_INDEX_VALUES": false,
              "ROW_SAMPLING_METHOD": "random",
              "SAMPLING_FACTOR": 0.1,
              "SAMPLING_METHOD": "random",
              "STRINGIFY_COLUMN_VALUES": true,
              "STRINGIFY_INDEX_VALUES": false
            },
            "sample_history": [],
            "sampling_time": "2023-09-24T04:13:11.990067",
            "user_variable_name": null,
            "variable_name": "unk_dataframe_4231018729d844d7b48d4dd66ebce9e7"
          },
          "53ebd4b4-cd2a-4148-aec4-2c695d0e91f9": {
            "applied_filters": [],
            "dataframe_info": {
              "default_index_used": true,
              "orig_num_cols": 28,
              "orig_num_rows": 9,
              "orig_size_bytes": 2088,
              "truncated_num_cols": 28,
              "truncated_num_rows": 9,
              "truncated_size_bytes": 2088,
              "truncated_string_columns": []
            },
            "display_id": "53ebd4b4-cd2a-4148-aec4-2c695d0e91f9",
            "dx_settings": {
              "ALLOW_NOTEABLE_ATTRS": true,
              "COLUMN_SAMPLING_METHOD": "outer",
              "DB_LOCATION": ":memory:",
              "DEV_MODE": false,
              "DISPLAY_MAX_COLUMNS": 100,
              "DISPLAY_MAX_ROWS": 50000,
              "DISPLAY_MODE": "simple",
              "ENABLE_ASSIGNMENT": true,
              "ENABLE_DATALINK": true,
              "FLATTEN_COLUMN_VALUES": true,
              "FLATTEN_INDEX_VALUES": false,
              "GENERATE_DEX_METADATA": false,
              "HTML_TABLE_SCHEMA": false,
              "LOG_LEVEL": 30,
              "MAX_RENDER_SIZE_BYTES": 104857600,
              "MAX_STRING_LENGTH": 250,
              "NUM_PAST_SAMPLES_TRACKED": 3,
              "RANDOM_STATE": 12648430,
              "RESET_INDEX_VALUES": false,
              "ROW_SAMPLING_METHOD": "random",
              "SAMPLING_FACTOR": 0.1,
              "SAMPLING_METHOD": "random",
              "STRINGIFY_COLUMN_VALUES": true,
              "STRINGIFY_INDEX_VALUES": false
            },
            "sample_history": [],
            "sampling_time": "2023-09-24T16:43:03.932866",
            "user_variable_name": null,
            "variable_name": "unk_dataframe_d1f0b10a882449b9ad90331b0403eb50"
          }
        },
        "dx": {
          "dashboard": {
            "multiViews": []
          },
          "fieldMetadata": {
            "Advanced Economies": {
              "columnPosition": 2,
              "sort": "asc"
            },
            "Clean Fuels": {
              "columnPosition": 19
            },
            "Coal": {
              "columnPosition": 18
            },
            "Coal_1": {
              "columnPosition": 22
            },
            "Electricity networks": {
              "columnPosition": 8
            },
            "Electricity networks_1": {
              "columnPosition": 28
            },
            "End-use": {
              "columnPosition": 10
            },
            "Energy efficiency": {
              "columnPosition": 11
            },
            "Fossil fuels": {
              "columnPosition": 15
            },
            "Fossil fuels without CCUS": {
              "columnPosition": 6
            },
            "Fossil fuels: with CCUS": {
              "columnPosition": 26
            },
            "Fuels": {
              "columnPosition": 14
            },
            "Gas": {
              "columnPosition": 17
            },
            "Generation": {
              "columnPosition": 21
            },
            "Memo: Oil & gas upstream": {
              "columnPosition": 29
            },
            "Nuclear": {
              "columnPosition": 24
            },
            "Oil": {
              "columnPosition": 16
            },
            "Oil and natural gas": {
              "columnPosition": 23
            },
            "Other end-use": {
              "columnPosition": 12
            },
            "Other end-use renewables": {
              "columnPosition": 13
            },
            "Other supply": {
              "columnPosition": 9
            },
            "Power": {
              "columnPosition": 20
            },
            "Renewables": {
              "columnPosition": 7
            },
            "Renewables_1": {
              "columnPosition": 25
            },
            "Storage": {
              "columnPosition": 27
            },
            "Supply (by type)": {
              "columnPosition": 5
            },
            "Total (billion $2022)": {
              "columnPosition": 3
            },
            "index": {
              "columnPosition": 1
            },
            "of which: Clean energy": {
              "columnPosition": 4
            }
          },
          "updated": 1695521062767,
          "views": [
            {
              "annotationRules": [],
              "chart": {},
              "chartMode": "grid",
              "confoRules": [],
              "decoration": {
                "footer": "",
                "subtitle": "",
                "title": "Table"
              },
              "facets": [],
              "filterSettings": {
                "SHOW_FILTER_PANEL": true,
                "filters": []
              },
              "id": "first-view",
              "isDefault": true,
              "type": "public",
              "userID": ""
            },
            {
              "annotationRules": [],
              "chart": {},
              "chartMode": "grid",
              "confoRules": [],
              "decoration": {
                "footer": "",
                "subtitle": "",
                "title": "Table"
              },
              "facets": [],
              "filterSettings": {
                "SHOW_FILTER_PANEL": true,
                "filters": []
              },
              "id": "first-view",
              "isDefault": true,
              "isTransitory": true,
              "type": "public",
              "userID": ""
            }
          ]
        }
      },
      "execution_count": null,
      "source": "advance_economies_inv_2023_T",
      "outputs": []
    },
    {
      "id": "63de0d3d-5f0a-41a3-93d7-61401252f10d",
      "cell_type": "code",
      "metadata": {
        "jupyter": {
          "outputs_hidden": false,
          "source_hidden": false
        },
        "noteable": {
          "cell_type": "code",
          "output_collection_id": "eb0617d7-e153-4c58-8ba3-d9cee3d1d714"
        },
        "ExecuteTime": {
          "end_time": "2023-09-24T16:43:04.390854+00:00",
          "start_time": "2023-09-24T16:43:04.101166+00:00"
        },
        "datalink": {
          "cd66cfa1-8a4e-444d-9ac6-bd1add6c3544": {
            "applied_filters": [],
            "dataframe_info": {
              "default_index_used": true,
              "orig_num_cols": 28,
              "orig_num_rows": 9,
              "orig_size_bytes": 2088,
              "truncated_num_cols": 28,
              "truncated_num_rows": 9,
              "truncated_size_bytes": 2088,
              "truncated_string_columns": []
            },
            "display_id": "cd66cfa1-8a4e-444d-9ac6-bd1add6c3544",
            "dx_settings": {
              "ALLOW_NOTEABLE_ATTRS": true,
              "COLUMN_SAMPLING_METHOD": "outer",
              "DB_LOCATION": ":memory:",
              "DEV_MODE": false,
              "DISPLAY_MAX_COLUMNS": 100,
              "DISPLAY_MAX_ROWS": 50000,
              "DISPLAY_MODE": "simple",
              "ENABLE_ASSIGNMENT": true,
              "ENABLE_DATALINK": true,
              "FLATTEN_COLUMN_VALUES": true,
              "FLATTEN_INDEX_VALUES": false,
              "GENERATE_DEX_METADATA": false,
              "HTML_TABLE_SCHEMA": false,
              "LOG_LEVEL": 30,
              "MAX_RENDER_SIZE_BYTES": 104857600,
              "MAX_STRING_LENGTH": 250,
              "NUM_PAST_SAMPLES_TRACKED": 3,
              "RANDOM_STATE": 12648430,
              "RESET_INDEX_VALUES": false,
              "ROW_SAMPLING_METHOD": "random",
              "SAMPLING_FACTOR": 0.1,
              "SAMPLING_METHOD": "random",
              "STRINGIFY_COLUMN_VALUES": true,
              "STRINGIFY_INDEX_VALUES": false
            },
            "sample_history": [],
            "sampling_time": "2023-09-24T02:02:26.921136",
            "user_variable_name": null,
            "variable_name": "unk_dataframe_22966499403a49869373d3dd555b32dc"
          },
          "976aead0-8fed-4809-9b8d-5c5d91ae4353": {
            "applied_filters": [],
            "dataframe_info": {
              "default_index_used": true,
              "orig_num_cols": 28,
              "orig_num_rows": 9,
              "orig_size_bytes": 2088,
              "truncated_num_cols": 28,
              "truncated_num_rows": 9,
              "truncated_size_bytes": 2088,
              "truncated_string_columns": []
            },
            "display_id": "976aead0-8fed-4809-9b8d-5c5d91ae4353",
            "dx_settings": {
              "ALLOW_NOTEABLE_ATTRS": true,
              "COLUMN_SAMPLING_METHOD": "outer",
              "DB_LOCATION": ":memory:",
              "DEV_MODE": false,
              "DISPLAY_MAX_COLUMNS": 100,
              "DISPLAY_MAX_ROWS": 50000,
              "DISPLAY_MODE": "simple",
              "ENABLE_ASSIGNMENT": true,
              "ENABLE_DATALINK": true,
              "FLATTEN_COLUMN_VALUES": true,
              "FLATTEN_INDEX_VALUES": false,
              "GENERATE_DEX_METADATA": false,
              "HTML_TABLE_SCHEMA": false,
              "LOG_LEVEL": 30,
              "MAX_RENDER_SIZE_BYTES": 104857600,
              "MAX_STRING_LENGTH": 250,
              "NUM_PAST_SAMPLES_TRACKED": 3,
              "RANDOM_STATE": 12648430,
              "RESET_INDEX_VALUES": false,
              "ROW_SAMPLING_METHOD": "random",
              "SAMPLING_FACTOR": 0.1,
              "SAMPLING_METHOD": "random",
              "STRINGIFY_COLUMN_VALUES": true,
              "STRINGIFY_INDEX_VALUES": false
            },
            "sample_history": [],
            "sampling_time": "2023-09-24T04:13:15.516755",
            "user_variable_name": null,
            "variable_name": "unk_dataframe_ebcec07f89a3434899f4fd9a62f84077"
          },
          "1c577a95-376c-4fc0-86d4-c74ada0dc97b": {
            "applied_filters": [],
            "dataframe_info": {
              "default_index_used": true,
              "orig_num_cols": 28,
              "orig_num_rows": 9,
              "orig_size_bytes": 2088,
              "truncated_num_cols": 28,
              "truncated_num_rows": 9,
              "truncated_size_bytes": 2088,
              "truncated_string_columns": []
            },
            "display_id": "1c577a95-376c-4fc0-86d4-c74ada0dc97b",
            "dx_settings": {
              "ALLOW_NOTEABLE_ATTRS": true,
              "COLUMN_SAMPLING_METHOD": "outer",
              "DB_LOCATION": ":memory:",
              "DEV_MODE": false,
              "DISPLAY_MAX_COLUMNS": 100,
              "DISPLAY_MAX_ROWS": 50000,
              "DISPLAY_MODE": "simple",
              "ENABLE_ASSIGNMENT": true,
              "ENABLE_DATALINK": true,
              "FLATTEN_COLUMN_VALUES": true,
              "FLATTEN_INDEX_VALUES": false,
              "GENERATE_DEX_METADATA": false,
              "HTML_TABLE_SCHEMA": false,
              "LOG_LEVEL": 30,
              "MAX_RENDER_SIZE_BYTES": 104857600,
              "MAX_STRING_LENGTH": 250,
              "NUM_PAST_SAMPLES_TRACKED": 3,
              "RANDOM_STATE": 12648430,
              "RESET_INDEX_VALUES": false,
              "ROW_SAMPLING_METHOD": "random",
              "SAMPLING_FACTOR": 0.1,
              "SAMPLING_METHOD": "random",
              "STRINGIFY_COLUMN_VALUES": true,
              "STRINGIFY_INDEX_VALUES": false
            },
            "sample_history": [],
            "sampling_time": "2023-09-24T16:43:04.228049",
            "user_variable_name": null,
            "variable_name": "unk_dataframe_6b4c35cb0f704485a88ffc437708fbae"
          }
        },
        "dx": {
          "dashboard": {
            "multiViews": []
          },
          "fieldMetadata": {
            "Clean Fuels": {
              "columnPosition": 19,
              "overrideType": "number"
            },
            "clean_energy": {
              "columnPosition": 4,
              "overrideType": "integer"
            },
            "coal": {
              "columnPosition": 18,
              "overrideType": "number"
            },
            "coal_1": {
              "columnPosition": 22,
              "overrideType": "number"
            },
            "electricity_networks": {
              "columnPosition": 8,
              "overrideType": "integer"
            },
            "electricity_networks_1": {
              "columnPosition": 28,
              "overrideType": "integer"
            },
            "end_use": {
              "columnPosition": 10,
              "overrideType": "integer"
            },
            "energy_efficiency": {
              "columnPosition": 11,
              "overrideType": "integer"
            },
            "fossil_fuels": {
              "columnPosition": 15,
              "overrideType": "integer"
            },
            "fossil_fuels_with_ccus": {
              "columnPosition": 26
            },
            "fossil_fuels_without_ccus": {
              "columnPosition": 6,
              "overrideType": "integer"
            },
            "fuels": {
              "columnPosition": 14
            },
            "gas": {
              "columnPosition": 17,
              "overrideType": "integer"
            },
            "generation": {
              "columnPosition": 21,
              "overrideType": "integer"
            },
            "index": {
              "columnPosition": 1
            },
            "memo_oil_gas_upstream": {
              "columnPosition": 29,
              "overrideType": "integer"
            },
            "nuclear": {
              "columnPosition": 24,
              "overrideType": "number"
            },
            "oil": {
              "columnPosition": 16,
              "overrideType": "integer"
            },
            "oil_natural_gas": {
              "columnPosition": 23,
              "overrideType": "number"
            },
            "other_end_use": {
              "columnPosition": 12,
              "overrideType": "number"
            },
            "other_end_use_renewables": {
              "columnPosition": 13
            },
            "other_supply": {
              "columnPosition": 9,
              "overrideType": "number"
            },
            "power": {
              "columnPosition": 20,
              "overrideType": "integer"
            },
            "renewables": {
              "columnPosition": 7,
              "overrideType": "integer"
            },
            "renewables_1": {
              "columnPosition": 25,
              "overrideType": "number"
            },
            "storage": {
              "columnPosition": 27,
              "overrideType": "number"
            },
            "supply_type": {
              "columnPosition": 5,
              "overrideType": "integer"
            },
            "total_billions": {
              "columnPosition": 3,
              "overrideType": "integer"
            },
            "year": {
              "columnPosition": 2,
              "dateFormat": "yyyy",
              "format": "yyyy",
              "overrideType": "datetime"
            }
          },
          "updated": 1695523442473,
          "views": [
            {
              "annotationRules": [],
              "chart": {},
              "chartMode": "grid",
              "confoRules": [],
              "decoration": {
                "footer": "",
                "subtitle": "",
                "title": "Table"
              },
              "facets": [],
              "filterSettings": {
                "SHOW_FILTER_PANEL": true,
                "filters": []
              },
              "id": "first-view",
              "isDefault": true,
              "type": "public",
              "userID": ""
            },
            {
              "annotationRules": [],
              "chart": {},
              "chartMode": "grid",
              "confoRules": [],
              "decoration": {
                "footer": "",
                "subtitle": "",
                "title": "Table"
              },
              "facets": [],
              "filterSettings": {
                "SHOW_FILTER_PANEL": true,
                "filters": []
              },
              "id": "first-view",
              "isDefault": true,
              "isTransitory": true,
              "type": "public",
              "userID": ""
            },
            {
              "annotationRules": [],
              "chart": {},
              "chartMode": "empty",
              "confoRules": [],
              "decoration": {
                "footer": "",
                "subtitle": "",
                "title": "New View"
              },
              "facets": [],
              "filterSettings": {
                "SHOW_FILTER_PANEL": true,
                "filters": []
              },
              "id": "a7295806-9d67-444b-bd91-9be28aa104a0",
              "isDefault": false,
              "type": "public",
              "userID": ""
            },
            {
              "annotationRules": [],
              "chart": {
                "facets": [],
                "lineType": "line",
                "selectedMetrics": [
                  "clean_energy",
                  "energy_efficiency",
                  "fossil_fuels"
                ]
              },
              "chartMode": "line",
              "confoRules": [],
              "decoration": {
                "footer": "",
                "subtitle": "",
                "title": "Line Chart"
              },
              "facets": [],
              "filterSettings": {
                "SHOW_FILTER_PANEL": true,
                "filters": []
              },
              "id": "a7295806-9d67-444b-bd91-9be28aa104a0",
              "isDefault": false,
              "isTransitory": true,
              "type": "public",
              "userID": ""
            },
            {
              "annotationRules": [],
              "chart": {},
              "chartMode": "empty",
              "confoRules": [],
              "decoration": {
                "footer": "",
                "subtitle": "",
                "title": "New View"
              },
              "facets": [],
              "filterSettings": {
                "SHOW_FILTER_PANEL": true,
                "filters": []
              },
              "id": "e80b2c47-059a-4dda-8b87-4fa64a13d32c",
              "isDefault": false,
              "type": "public",
              "userID": ""
            },
            {
              "annotationRules": [],
              "chart": {
                "barProjection": "horizontal",
                "combinationMode": "AVG",
                "dim1": "year",
                "facets": [],
                "proBarMode": "Clustered",
                "selectedBarMetrics": [
                  "clean_energy",
                  "fossil_fuels"
                ],
                "sortColumnsBy": "desc-col-date"
              },
              "chartMode": "bar",
              "confoRules": [],
              "decoration": {
                "footer": "",
                "subtitle": "",
                "title": "Bar Chart"
              },
              "facets": [],
              "filterSettings": {
                "SHOW_FILTER_PANEL": true,
                "filters": []
              },
              "id": "e80b2c47-059a-4dda-8b87-4fa64a13d32c",
              "isDefault": false,
              "isTransitory": true,
              "type": "public",
              "userID": ""
            }
          ]
        }
      },
      "execution_count": null,
      "source": "# Renaming columns for readability\n\nadvance_economies_inv_2023_T.rename(columns={\n    \"Advanced Economies\":\"year\",\n    \"Total (billion $2022)\": \"total_billions\",\n    \"of which: Clean energy\":\"clean_energy\",\n    \"Supply (by type)\":\"supply_type\",\n    \"Fossil fuels without CCUS\":\"fossil_fuels_without_ccus\",\n    \"Renewables\":\"renewables\",\n    \"Electricity networks\":\"electricity_networks\",\n    \"Other supply\":\"other_supply\",\n    \"End-use\":\"end_use\",\n    \"Energy efficiency\": \"energy_efficiency\",\n    \"Other end-use\":\"other_end_use\",\n    \"Other end-use renewables\":\"other_end_use_renewables\",\n    \"Fuels\":\"fuels\",\n    \"Fossil fuels\":\"fossil_fuels\",\n    \"Oil\":\"oil\",\n    \"Gas\":\"gas\",\n    \"Coal\":\"coal\",\n    \"Clean_fuels\":\"clean_fuels\",\n    \"Power\":\"power\",\n    \"Generation\": \"generation\",\n    \"Coal_1\":\"coal_1\",\n    \"Oil and natural gas\":\"oil_natural_gas\",\n    \"Nuclear\":\"nuclear\",\n    \"Renewables_1\":\"renewables_1\",\n    \"Fossil fuels: with CCUS\":\"fossil_fuels_with_ccus\",\n    \"Storage\":\"storage\",\n    \"Electricity networks_1\":\"electricity_networks_1\",\n    \"Memo: Oil & gas upstream\":\"memo_oil_gas_upstream\"  \n    })\n    ",
      "outputs": []
    },
    {
      "id": "bce5671f-1cf4-478d-b8c2-688565313f6c",
      "cell_type": "code",
      "metadata": {
        "jupyter": {
          "outputs_hidden": false,
          "source_hidden": false
        },
        "noteable": {
          "cell_type": "code",
          "output_collection_id": "ca2655f8-d679-47c3-be97-4cda1cb01bb6"
        },
        "ExecuteTime": {
          "end_time": "2023-09-24T16:43:04.618450+00:00",
          "start_time": "2023-09-24T16:43:04.398590+00:00"
        },
        "datalink": {
          "f8b3c0b5-7f15-439c-b3b3-dae5e1e4d0d0": {
            "applied_filters": [],
            "dataframe_info": {
              "default_index_used": true,
              "orig_num_cols": 3,
              "orig_num_rows": 17,
              "orig_size_bytes": 544,
              "truncated_num_cols": 3,
              "truncated_num_rows": 17,
              "truncated_size_bytes": 544,
              "truncated_string_columns": [
                "Unnamed: 1",
                "Unnamed: 2"
              ]
            },
            "display_id": "f8b3c0b5-7f15-439c-b3b3-dae5e1e4d0d0",
            "dx_settings": {
              "ALLOW_NOTEABLE_ATTRS": true,
              "COLUMN_SAMPLING_METHOD": "outer",
              "DB_LOCATION": ":memory:",
              "DEV_MODE": false,
              "DISPLAY_MAX_COLUMNS": 100,
              "DISPLAY_MAX_ROWS": 50000,
              "DISPLAY_MODE": "simple",
              "ENABLE_ASSIGNMENT": true,
              "ENABLE_DATALINK": true,
              "FLATTEN_COLUMN_VALUES": true,
              "FLATTEN_INDEX_VALUES": false,
              "GENERATE_DEX_METADATA": false,
              "HTML_TABLE_SCHEMA": false,
              "LOG_LEVEL": 30,
              "MAX_RENDER_SIZE_BYTES": 104857600,
              "MAX_STRING_LENGTH": 250,
              "NUM_PAST_SAMPLES_TRACKED": 3,
              "RANDOM_STATE": 12648430,
              "RESET_INDEX_VALUES": false,
              "ROW_SAMPLING_METHOD": "random",
              "SAMPLING_FACTOR": 0.1,
              "SAMPLING_METHOD": "random",
              "STRINGIFY_COLUMN_VALUES": true,
              "STRINGIFY_INDEX_VALUES": false
            },
            "sample_history": [],
            "sampling_time": "2023-09-23T21:30:18.440846",
            "user_variable_name": "notes_web_inv_2023",
            "variable_name": "notes_web_inv_2023"
          },
          "8664a8a1-6fde-4511-8310-de2c0fca2c0e": {
            "applied_filters": [],
            "dataframe_info": {
              "default_index_used": true,
              "orig_num_cols": 3,
              "orig_num_rows": 17,
              "orig_size_bytes": 544,
              "truncated_num_cols": 3,
              "truncated_num_rows": 17,
              "truncated_size_bytes": 544,
              "truncated_string_columns": [
                "Unnamed: 1",
                "Unnamed: 2"
              ]
            },
            "display_id": "8664a8a1-6fde-4511-8310-de2c0fca2c0e",
            "dx_settings": {
              "ALLOW_NOTEABLE_ATTRS": true,
              "COLUMN_SAMPLING_METHOD": "outer",
              "DB_LOCATION": ":memory:",
              "DEV_MODE": false,
              "DISPLAY_MAX_COLUMNS": 100,
              "DISPLAY_MAX_ROWS": 50000,
              "DISPLAY_MODE": "simple",
              "ENABLE_ASSIGNMENT": true,
              "ENABLE_DATALINK": true,
              "FLATTEN_COLUMN_VALUES": true,
              "FLATTEN_INDEX_VALUES": false,
              "GENERATE_DEX_METADATA": false,
              "HTML_TABLE_SCHEMA": false,
              "LOG_LEVEL": 30,
              "MAX_RENDER_SIZE_BYTES": 104857600,
              "MAX_STRING_LENGTH": 250,
              "NUM_PAST_SAMPLES_TRACKED": 3,
              "RANDOM_STATE": 12648430,
              "RESET_INDEX_VALUES": false,
              "ROW_SAMPLING_METHOD": "random",
              "SAMPLING_FACTOR": 0.1,
              "SAMPLING_METHOD": "random",
              "STRINGIFY_COLUMN_VALUES": true,
              "STRINGIFY_INDEX_VALUES": false
            },
            "sample_history": [],
            "sampling_time": "2023-09-24T02:26:02.115326",
            "user_variable_name": "notes_web_inv_2023",
            "variable_name": "notes_web_inv_2023"
          },
          "f0278fbb-27b9-483f-ae15-21e292c6c6b8": {
            "applied_filters": [],
            "dataframe_info": {
              "default_index_used": true,
              "orig_num_cols": 3,
              "orig_num_rows": 17,
              "orig_size_bytes": 544,
              "truncated_num_cols": 3,
              "truncated_num_rows": 17,
              "truncated_size_bytes": 544,
              "truncated_string_columns": [
                "Unnamed: 1",
                "Unnamed: 2"
              ]
            },
            "display_id": "f0278fbb-27b9-483f-ae15-21e292c6c6b8",
            "dx_settings": {
              "ALLOW_NOTEABLE_ATTRS": true,
              "COLUMN_SAMPLING_METHOD": "outer",
              "DB_LOCATION": ":memory:",
              "DEV_MODE": false,
              "DISPLAY_MAX_COLUMNS": 100,
              "DISPLAY_MAX_ROWS": 50000,
              "DISPLAY_MODE": "simple",
              "ENABLE_ASSIGNMENT": true,
              "ENABLE_DATALINK": true,
              "FLATTEN_COLUMN_VALUES": true,
              "FLATTEN_INDEX_VALUES": false,
              "GENERATE_DEX_METADATA": false,
              "HTML_TABLE_SCHEMA": false,
              "LOG_LEVEL": 30,
              "MAX_RENDER_SIZE_BYTES": 104857600,
              "MAX_STRING_LENGTH": 250,
              "NUM_PAST_SAMPLES_TRACKED": 3,
              "RANDOM_STATE": 12648430,
              "RESET_INDEX_VALUES": false,
              "ROW_SAMPLING_METHOD": "random",
              "SAMPLING_FACTOR": 0.1,
              "SAMPLING_METHOD": "random",
              "STRINGIFY_COLUMN_VALUES": true,
              "STRINGIFY_INDEX_VALUES": false
            },
            "sample_history": [],
            "sampling_time": "2023-09-24T04:13:18.398488",
            "user_variable_name": "notes_web_inv_2023",
            "variable_name": "notes_web_inv_2023"
          },
          "435fbba2-75dc-4490-ab5b-598a9f4ac52d": {
            "applied_filters": [],
            "dataframe_info": {
              "default_index_used": true,
              "orig_num_cols": 3,
              "orig_num_rows": 17,
              "orig_size_bytes": 544,
              "truncated_num_cols": 3,
              "truncated_num_rows": 17,
              "truncated_size_bytes": 544,
              "truncated_string_columns": [
                "Unnamed: 1",
                "Unnamed: 2"
              ]
            },
            "display_id": "435fbba2-75dc-4490-ab5b-598a9f4ac52d",
            "dx_settings": {
              "ALLOW_NOTEABLE_ATTRS": true,
              "COLUMN_SAMPLING_METHOD": "outer",
              "DB_LOCATION": ":memory:",
              "DEV_MODE": false,
              "DISPLAY_MAX_COLUMNS": 100,
              "DISPLAY_MAX_ROWS": 50000,
              "DISPLAY_MODE": "simple",
              "ENABLE_ASSIGNMENT": true,
              "ENABLE_DATALINK": true,
              "FLATTEN_COLUMN_VALUES": true,
              "FLATTEN_INDEX_VALUES": false,
              "GENERATE_DEX_METADATA": false,
              "HTML_TABLE_SCHEMA": false,
              "LOG_LEVEL": 30,
              "MAX_RENDER_SIZE_BYTES": 104857600,
              "MAX_STRING_LENGTH": 250,
              "NUM_PAST_SAMPLES_TRACKED": 3,
              "RANDOM_STATE": 12648430,
              "RESET_INDEX_VALUES": false,
              "ROW_SAMPLING_METHOD": "random",
              "SAMPLING_FACTOR": 0.1,
              "SAMPLING_METHOD": "random",
              "STRINGIFY_COLUMN_VALUES": true,
              "STRINGIFY_INDEX_VALUES": false
            },
            "sample_history": [],
            "sampling_time": "2023-09-24T16:43:04.460255",
            "user_variable_name": "notes_web_inv_2023",
            "variable_name": "notes_web_inv_2023"
          }
        },
        "dx": {
          "fieldMetadata": {},
          "simpleTable": true,
          "updated": 1695522467793,
          "views": []
        }
      },
      "execution_count": null,
      "source": "notes_web_inv_2023",
      "outputs": []
    },
    {
      "id": "c66277bc-800e-4849-85b4-1fd41493f321",
      "cell_type": "code",
      "metadata": {
        "jupyter": {
          "outputs_hidden": false,
          "source_hidden": false
        },
        "noteable": {
          "cell_type": "code",
          "output_collection_id": "43857091-4f54-4e20-ad68-3ee3ea3464f2"
        },
        "ExecuteTime": {
          "end_time": "2023-09-24T16:43:05.021761+00:00",
          "start_time": "2023-09-24T16:43:04.812852+00:00"
        },
        "datalink": {
          "ce64bb94-9786-4dd9-941f-629c0c431c31": {
            "applied_filters": [],
            "dataframe_info": {
              "default_index_used": true,
              "orig_num_cols": 1,
              "orig_num_rows": 17,
              "orig_size_bytes": 272,
              "truncated_num_cols": 1,
              "truncated_num_rows": 17,
              "truncated_size_bytes": 272,
              "truncated_string_columns": [
                "Unnamed: 1"
              ]
            },
            "display_id": "ce64bb94-9786-4dd9-941f-629c0c431c31",
            "dx_settings": {
              "ALLOW_NOTEABLE_ATTRS": true,
              "COLUMN_SAMPLING_METHOD": "outer",
              "DB_LOCATION": ":memory:",
              "DEV_MODE": false,
              "DISPLAY_MAX_COLUMNS": 100,
              "DISPLAY_MAX_ROWS": 50000,
              "DISPLAY_MODE": "simple",
              "ENABLE_ASSIGNMENT": true,
              "ENABLE_DATALINK": true,
              "FLATTEN_COLUMN_VALUES": true,
              "FLATTEN_INDEX_VALUES": false,
              "GENERATE_DEX_METADATA": false,
              "HTML_TABLE_SCHEMA": false,
              "LOG_LEVEL": 30,
              "MAX_RENDER_SIZE_BYTES": 104857600,
              "MAX_STRING_LENGTH": 250,
              "NUM_PAST_SAMPLES_TRACKED": 3,
              "RANDOM_STATE": 12648430,
              "RESET_INDEX_VALUES": false,
              "ROW_SAMPLING_METHOD": "random",
              "SAMPLING_FACTOR": 0.1,
              "SAMPLING_METHOD": "random",
              "STRINGIFY_COLUMN_VALUES": true,
              "STRINGIFY_INDEX_VALUES": false
            },
            "sample_history": [],
            "sampling_time": "2023-09-24T02:26:11.779520",
            "user_variable_name": null,
            "variable_name": "unk_dataframe_bb23ae05430f4270a50cc1353e923160"
          },
          "6b3d89d8-a607-4751-9d7a-8505bbcf88f9": {
            "applied_filters": [],
            "dataframe_info": {
              "default_index_used": true,
              "orig_num_cols": 1,
              "orig_num_rows": 17,
              "orig_size_bytes": 153,
              "truncated_num_cols": 1,
              "truncated_num_rows": 17,
              "truncated_size_bytes": 153,
              "truncated_string_columns": []
            },
            "display_id": "6b3d89d8-a607-4751-9d7a-8505bbcf88f9",
            "dx_settings": {
              "ALLOW_NOTEABLE_ATTRS": true,
              "COLUMN_SAMPLING_METHOD": "outer",
              "DB_LOCATION": ":memory:",
              "DEV_MODE": false,
              "DISPLAY_MAX_COLUMNS": 100,
              "DISPLAY_MAX_ROWS": 50000,
              "DISPLAY_MODE": "simple",
              "ENABLE_ASSIGNMENT": true,
              "ENABLE_DATALINK": true,
              "FLATTEN_COLUMN_VALUES": true,
              "FLATTEN_INDEX_VALUES": false,
              "GENERATE_DEX_METADATA": false,
              "HTML_TABLE_SCHEMA": false,
              "LOG_LEVEL": 30,
              "MAX_RENDER_SIZE_BYTES": 104857600,
              "MAX_STRING_LENGTH": 250,
              "NUM_PAST_SAMPLES_TRACKED": 3,
              "RANDOM_STATE": 12648430,
              "RESET_INDEX_VALUES": false,
              "ROW_SAMPLING_METHOD": "random",
              "SAMPLING_FACTOR": 0.1,
              "SAMPLING_METHOD": "random",
              "STRINGIFY_COLUMN_VALUES": true,
              "STRINGIFY_INDEX_VALUES": false
            },
            "sample_history": [],
            "sampling_time": "2023-09-24T02:26:35.473134",
            "user_variable_name": null,
            "variable_name": "unk_dataframe_4edfa303e49a44d9b757bb98a1c118b8"
          },
          "3b00c1cb-aec1-4971-8f59-d8c083d8c9db": {
            "applied_filters": [],
            "dataframe_info": {
              "default_index_used": true,
              "orig_num_cols": 3,
              "orig_num_rows": 1,
              "orig_size_bytes": 32,
              "truncated_num_cols": 3,
              "truncated_num_rows": 1,
              "truncated_size_bytes": 32,
              "truncated_string_columns": []
            },
            "display_id": "3b00c1cb-aec1-4971-8f59-d8c083d8c9db",
            "dx_settings": {
              "ALLOW_NOTEABLE_ATTRS": true,
              "COLUMN_SAMPLING_METHOD": "outer",
              "DB_LOCATION": ":memory:",
              "DEV_MODE": false,
              "DISPLAY_MAX_COLUMNS": 100,
              "DISPLAY_MAX_ROWS": 50000,
              "DISPLAY_MODE": "simple",
              "ENABLE_ASSIGNMENT": true,
              "ENABLE_DATALINK": true,
              "FLATTEN_COLUMN_VALUES": true,
              "FLATTEN_INDEX_VALUES": false,
              "GENERATE_DEX_METADATA": false,
              "HTML_TABLE_SCHEMA": false,
              "LOG_LEVEL": 30,
              "MAX_RENDER_SIZE_BYTES": 104857600,
              "MAX_STRING_LENGTH": 250,
              "NUM_PAST_SAMPLES_TRACKED": 3,
              "RANDOM_STATE": 12648430,
              "RESET_INDEX_VALUES": false,
              "ROW_SAMPLING_METHOD": "random",
              "SAMPLING_FACTOR": 0.1,
              "SAMPLING_METHOD": "random",
              "STRINGIFY_COLUMN_VALUES": true,
              "STRINGIFY_INDEX_VALUES": false
            },
            "sample_history": [],
            "sampling_time": "2023-09-24T02:27:01.965421",
            "user_variable_name": null,
            "variable_name": "unk_dataframe_ba18133f7d454f5aa6882b7cdcb9b9d6"
          },
          "808a3e62-1593-4dad-8055-81980e3aef8d": {
            "applied_filters": [],
            "dataframe_info": {
              "default_index_used": true,
              "orig_num_cols": 1,
              "orig_num_rows": 1,
              "orig_size_bytes": 16,
              "truncated_num_cols": 1,
              "truncated_num_rows": 1,
              "truncated_size_bytes": 16,
              "truncated_string_columns": []
            },
            "display_id": "808a3e62-1593-4dad-8055-81980e3aef8d",
            "dx_settings": {
              "ALLOW_NOTEABLE_ATTRS": true,
              "COLUMN_SAMPLING_METHOD": "outer",
              "DB_LOCATION": ":memory:",
              "DEV_MODE": false,
              "DISPLAY_MAX_COLUMNS": 100,
              "DISPLAY_MAX_ROWS": 50000,
              "DISPLAY_MODE": "simple",
              "ENABLE_ASSIGNMENT": true,
              "ENABLE_DATALINK": true,
              "FLATTEN_COLUMN_VALUES": true,
              "FLATTEN_INDEX_VALUES": false,
              "GENERATE_DEX_METADATA": false,
              "HTML_TABLE_SCHEMA": false,
              "LOG_LEVEL": 30,
              "MAX_RENDER_SIZE_BYTES": 104857600,
              "MAX_STRING_LENGTH": 250,
              "NUM_PAST_SAMPLES_TRACKED": 3,
              "RANDOM_STATE": 12648430,
              "RESET_INDEX_VALUES": false,
              "ROW_SAMPLING_METHOD": "random",
              "SAMPLING_FACTOR": 0.1,
              "SAMPLING_METHOD": "random",
              "STRINGIFY_COLUMN_VALUES": true,
              "STRINGIFY_INDEX_VALUES": false
            },
            "sample_history": [],
            "sampling_time": "2023-09-24T02:27:35.346832",
            "user_variable_name": null,
            "variable_name": "unk_dataframe_6c2f288e00c943f49597591bebaffd4e"
          },
          "b04d0b93-9e0e-49f8-a114-411dc147b191": {
            "applied_filters": [],
            "dataframe_info": {
              "default_index_used": true,
              "orig_num_cols": 1,
              "orig_num_rows": 1,
              "orig_size_bytes": 16,
              "truncated_num_cols": 1,
              "truncated_num_rows": 1,
              "truncated_size_bytes": 16,
              "truncated_string_columns": []
            },
            "display_id": "b04d0b93-9e0e-49f8-a114-411dc147b191",
            "dx_settings": {
              "ALLOW_NOTEABLE_ATTRS": true,
              "COLUMN_SAMPLING_METHOD": "outer",
              "DB_LOCATION": ":memory:",
              "DEV_MODE": false,
              "DISPLAY_MAX_COLUMNS": 100,
              "DISPLAY_MAX_ROWS": 50000,
              "DISPLAY_MODE": "simple",
              "ENABLE_ASSIGNMENT": true,
              "ENABLE_DATALINK": true,
              "FLATTEN_COLUMN_VALUES": true,
              "FLATTEN_INDEX_VALUES": false,
              "GENERATE_DEX_METADATA": false,
              "HTML_TABLE_SCHEMA": false,
              "LOG_LEVEL": 30,
              "MAX_RENDER_SIZE_BYTES": 104857600,
              "MAX_STRING_LENGTH": 250,
              "NUM_PAST_SAMPLES_TRACKED": 3,
              "RANDOM_STATE": 12648430,
              "RESET_INDEX_VALUES": false,
              "ROW_SAMPLING_METHOD": "random",
              "SAMPLING_FACTOR": 0.1,
              "SAMPLING_METHOD": "random",
              "STRINGIFY_COLUMN_VALUES": true,
              "STRINGIFY_INDEX_VALUES": false
            },
            "sample_history": [],
            "sampling_time": "2023-09-24T04:13:20.897817",
            "user_variable_name": null,
            "variable_name": "unk_dataframe_fdcb4cdb28524a7babdc530350ec1b0e"
          },
          "aaaccc03-8125-49d7-ae1b-6669632e64d2": {
            "applied_filters": [],
            "dataframe_info": {
              "default_index_used": true,
              "orig_num_cols": 1,
              "orig_num_rows": 1,
              "orig_size_bytes": 16,
              "truncated_num_cols": 1,
              "truncated_num_rows": 1,
              "truncated_size_bytes": 16,
              "truncated_string_columns": []
            },
            "display_id": "aaaccc03-8125-49d7-ae1b-6669632e64d2",
            "dx_settings": {
              "ALLOW_NOTEABLE_ATTRS": true,
              "COLUMN_SAMPLING_METHOD": "outer",
              "DB_LOCATION": ":memory:",
              "DEV_MODE": false,
              "DISPLAY_MAX_COLUMNS": 100,
              "DISPLAY_MAX_ROWS": 50000,
              "DISPLAY_MODE": "simple",
              "ENABLE_ASSIGNMENT": true,
              "ENABLE_DATALINK": true,
              "FLATTEN_COLUMN_VALUES": true,
              "FLATTEN_INDEX_VALUES": false,
              "GENERATE_DEX_METADATA": false,
              "HTML_TABLE_SCHEMA": false,
              "LOG_LEVEL": 30,
              "MAX_RENDER_SIZE_BYTES": 104857600,
              "MAX_STRING_LENGTH": 250,
              "NUM_PAST_SAMPLES_TRACKED": 3,
              "RANDOM_STATE": 12648430,
              "RESET_INDEX_VALUES": false,
              "ROW_SAMPLING_METHOD": "random",
              "SAMPLING_FACTOR": 0.1,
              "SAMPLING_METHOD": "random",
              "STRINGIFY_COLUMN_VALUES": true,
              "STRINGIFY_INDEX_VALUES": false
            },
            "sample_history": [],
            "sampling_time": "2023-09-24T16:43:04.864425",
            "user_variable_name": null,
            "variable_name": "unk_dataframe_1533306d2f864867b39b985e201d1255"
          }
        },
        "dx": {
          "fieldMetadata": {},
          "simpleTable": true,
          "updated": 1695522461651,
          "views": []
        }
      },
      "execution_count": null,
      "source": "notes_web_inv_2023[notes_web_inv_2023[\"Unnamed: 1\"]==\"Advanced economies\"][\"Unnamed: 2\"]",
      "outputs": []
    },
    {
      "id": "342a4491-ca8b-4eae-8990-5bc4fa2f6aec",
      "cell_type": "markdown",
      "source": "Advanced economies are: OECD regional grouping and Bulgaria, Croatia, Cyprus1,2, Malta and Romania",
      "metadata": {
        "noteable": {
          "cell_type": "markdown"
        }
      }
    },
    {
      "id": "a0b8d28b-b752-4a95-9cae-912864155d71",
      "cell_type": "code",
      "metadata": {
        "jupyter": {
          "outputs_hidden": false,
          "source_hidden": false
        },
        "noteable": {
          "cell_type": "code",
          "output_collection_id": "f8b1923e-ef0a-43d7-a5b0-35cae4c5ee20"
        },
        "ExecuteTime": {
          "end_time": "2023-09-24T16:43:05.398708+00:00",
          "start_time": "2023-09-24T16:43:05.106057+00:00"
        },
        "datalink": {
          "c7de3876-10ad-47f3-9840-c7e870312055": {
            "applied_filters": [],
            "dataframe_info": {
              "default_index_used": true,
              "orig_num_cols": 11,
              "orig_num_rows": 32,
              "orig_size_bytes": 3072,
              "truncated_num_cols": 11,
              "truncated_num_rows": 32,
              "truncated_size_bytes": 3072,
              "truncated_string_columns": []
            },
            "display_id": "c7de3876-10ad-47f3-9840-c7e870312055",
            "dx_settings": {
              "ALLOW_NOTEABLE_ATTRS": true,
              "COLUMN_SAMPLING_METHOD": "outer",
              "DB_LOCATION": ":memory:",
              "DEV_MODE": false,
              "DISPLAY_MAX_COLUMNS": 100,
              "DISPLAY_MAX_ROWS": 50000,
              "DISPLAY_MODE": "simple",
              "ENABLE_ASSIGNMENT": true,
              "ENABLE_DATALINK": true,
              "FLATTEN_COLUMN_VALUES": true,
              "FLATTEN_INDEX_VALUES": false,
              "GENERATE_DEX_METADATA": false,
              "HTML_TABLE_SCHEMA": false,
              "LOG_LEVEL": 30,
              "MAX_RENDER_SIZE_BYTES": 104857600,
              "MAX_STRING_LENGTH": 250,
              "NUM_PAST_SAMPLES_TRACKED": 3,
              "RANDOM_STATE": 12648430,
              "RESET_INDEX_VALUES": false,
              "ROW_SAMPLING_METHOD": "random",
              "SAMPLING_FACTOR": 0.1,
              "SAMPLING_METHOD": "random",
              "STRINGIFY_COLUMN_VALUES": true,
              "STRINGIFY_INDEX_VALUES": false
            },
            "sample_history": [],
            "sampling_time": "2023-09-23T18:16:47.696478",
            "user_variable_name": "emde_inv_2023",
            "variable_name": "emde_inv_2023"
          },
          "633e3900-cf15-4e47-a86b-ff9d733d31f2": {
            "applied_filters": [],
            "dataframe_info": {
              "default_index_used": false,
              "orig_num_cols": 32,
              "orig_num_rows": 11,
              "orig_size_bytes": 2904,
              "truncated_num_cols": 32,
              "truncated_num_rows": 11,
              "truncated_size_bytes": 2904,
              "truncated_string_columns": []
            },
            "display_id": "633e3900-cf15-4e47-a86b-ff9d733d31f2",
            "dx_settings": {
              "ALLOW_NOTEABLE_ATTRS": true,
              "COLUMN_SAMPLING_METHOD": "outer",
              "DB_LOCATION": ":memory:",
              "DEV_MODE": false,
              "DISPLAY_MAX_COLUMNS": 100,
              "DISPLAY_MAX_ROWS": 50000,
              "DISPLAY_MODE": "simple",
              "ENABLE_ASSIGNMENT": true,
              "ENABLE_DATALINK": true,
              "FLATTEN_COLUMN_VALUES": true,
              "FLATTEN_INDEX_VALUES": false,
              "GENERATE_DEX_METADATA": false,
              "HTML_TABLE_SCHEMA": false,
              "LOG_LEVEL": 30,
              "MAX_RENDER_SIZE_BYTES": 104857600,
              "MAX_STRING_LENGTH": 250,
              "NUM_PAST_SAMPLES_TRACKED": 3,
              "RANDOM_STATE": 12648430,
              "RESET_INDEX_VALUES": false,
              "ROW_SAMPLING_METHOD": "random",
              "SAMPLING_FACTOR": 0.1,
              "SAMPLING_METHOD": "random",
              "STRINGIFY_COLUMN_VALUES": true,
              "STRINGIFY_INDEX_VALUES": false
            },
            "sample_history": [],
            "sampling_time": "2023-09-23T18:53:29.896240",
            "user_variable_name": null,
            "variable_name": "unk_dataframe_e1cefbeca93849aca838c351a4db3c57"
          },
          "dc03237c-62d3-48e8-9dde-a4b173a68d92": {
            "applied_filters": [],
            "dataframe_info": {
              "default_index_used": false,
              "orig_num_cols": 32,
              "orig_num_rows": 11,
              "orig_size_bytes": 2904,
              "truncated_num_cols": 32,
              "truncated_num_rows": 11,
              "truncated_size_bytes": 2904,
              "truncated_string_columns": []
            },
            "display_id": "dc03237c-62d3-48e8-9dde-a4b173a68d92",
            "dx_settings": {
              "ALLOW_NOTEABLE_ATTRS": true,
              "COLUMN_SAMPLING_METHOD": "outer",
              "DB_LOCATION": ":memory:",
              "DEV_MODE": false,
              "DISPLAY_MAX_COLUMNS": 100,
              "DISPLAY_MAX_ROWS": 50000,
              "DISPLAY_MODE": "simple",
              "ENABLE_ASSIGNMENT": true,
              "ENABLE_DATALINK": true,
              "FLATTEN_COLUMN_VALUES": true,
              "FLATTEN_INDEX_VALUES": false,
              "GENERATE_DEX_METADATA": false,
              "HTML_TABLE_SCHEMA": false,
              "LOG_LEVEL": 30,
              "MAX_RENDER_SIZE_BYTES": 104857600,
              "MAX_STRING_LENGTH": 250,
              "NUM_PAST_SAMPLES_TRACKED": 3,
              "RANDOM_STATE": 12648430,
              "RESET_INDEX_VALUES": false,
              "ROW_SAMPLING_METHOD": "random",
              "SAMPLING_FACTOR": 0.1,
              "SAMPLING_METHOD": "random",
              "STRINGIFY_COLUMN_VALUES": true,
              "STRINGIFY_INDEX_VALUES": false
            },
            "sample_history": [],
            "sampling_time": "2023-09-23T21:30:18.201482",
            "user_variable_name": null,
            "variable_name": "unk_dataframe_c096896feb72486baa2cbd5b4422d660"
          },
          "df727273-4fc8-4495-bc53-538aeae6c1ca": {
            "applied_filters": [],
            "dataframe_info": {
              "default_index_used": false,
              "orig_num_cols": 32,
              "orig_num_rows": 11,
              "orig_size_bytes": 2904,
              "truncated_num_cols": 32,
              "truncated_num_rows": 11,
              "truncated_size_bytes": 2904,
              "truncated_string_columns": []
            },
            "display_id": "df727273-4fc8-4495-bc53-538aeae6c1ca",
            "dx_settings": {
              "ALLOW_NOTEABLE_ATTRS": true,
              "COLUMN_SAMPLING_METHOD": "outer",
              "DB_LOCATION": ":memory:",
              "DEV_MODE": false,
              "DISPLAY_MAX_COLUMNS": 100,
              "DISPLAY_MAX_ROWS": 50000,
              "DISPLAY_MODE": "simple",
              "ENABLE_ASSIGNMENT": true,
              "ENABLE_DATALINK": true,
              "FLATTEN_COLUMN_VALUES": true,
              "FLATTEN_INDEX_VALUES": false,
              "GENERATE_DEX_METADATA": false,
              "HTML_TABLE_SCHEMA": false,
              "LOG_LEVEL": 30,
              "MAX_RENDER_SIZE_BYTES": 104857600,
              "MAX_STRING_LENGTH": 250,
              "NUM_PAST_SAMPLES_TRACKED": 3,
              "RANDOM_STATE": 12648430,
              "RESET_INDEX_VALUES": false,
              "ROW_SAMPLING_METHOD": "random",
              "SAMPLING_FACTOR": 0.1,
              "SAMPLING_METHOD": "random",
              "STRINGIFY_COLUMN_VALUES": true,
              "STRINGIFY_INDEX_VALUES": false
            },
            "sample_history": [],
            "sampling_time": "2023-09-24T04:13:25.765338",
            "user_variable_name": null,
            "variable_name": "unk_dataframe_e65ffd87cab345158029026a494ab66b"
          },
          "398af27e-c918-4a71-b11d-23ce3087f06a": {
            "applied_filters": [],
            "dataframe_info": {
              "default_index_used": false,
              "orig_num_cols": 32,
              "orig_num_rows": 11,
              "orig_size_bytes": 2904,
              "truncated_num_cols": 32,
              "truncated_num_rows": 11,
              "truncated_size_bytes": 2904,
              "truncated_string_columns": []
            },
            "display_id": "398af27e-c918-4a71-b11d-23ce3087f06a",
            "dx_settings": {
              "ALLOW_NOTEABLE_ATTRS": true,
              "COLUMN_SAMPLING_METHOD": "outer",
              "DB_LOCATION": ":memory:",
              "DEV_MODE": false,
              "DISPLAY_MAX_COLUMNS": 100,
              "DISPLAY_MAX_ROWS": 50000,
              "DISPLAY_MODE": "simple",
              "ENABLE_ASSIGNMENT": true,
              "ENABLE_DATALINK": true,
              "FLATTEN_COLUMN_VALUES": true,
              "FLATTEN_INDEX_VALUES": false,
              "GENERATE_DEX_METADATA": false,
              "HTML_TABLE_SCHEMA": false,
              "LOG_LEVEL": 30,
              "MAX_RENDER_SIZE_BYTES": 104857600,
              "MAX_STRING_LENGTH": 250,
              "NUM_PAST_SAMPLES_TRACKED": 3,
              "RANDOM_STATE": 12648430,
              "RESET_INDEX_VALUES": false,
              "ROW_SAMPLING_METHOD": "random",
              "SAMPLING_FACTOR": 0.1,
              "SAMPLING_METHOD": "random",
              "STRINGIFY_COLUMN_VALUES": true,
              "STRINGIFY_INDEX_VALUES": false
            },
            "sample_history": [],
            "sampling_time": "2023-09-24T16:43:05.235200",
            "user_variable_name": null,
            "variable_name": "unk_dataframe_a8aa91b3d84a44ecbd1fce4d2c0f5768"
          }
        },
        "dx": {
          "dashboard": {
            "multiViews": []
          },
          "fieldMetadata": {
            "0": {
              "columnPosition": 2,
              "hidden": true
            },
            "1": {
              "columnPosition": 3
            },
            "10": {
              "columnPosition": 12
            },
            "11": {
              "columnPosition": 13
            },
            "12": {
              "columnPosition": 14
            },
            "13": {
              "columnPosition": 15
            },
            "14": {
              "columnPosition": 16
            },
            "15": {
              "columnPosition": 17
            },
            "16": {
              "columnPosition": 18
            },
            "17": {
              "columnPosition": 19
            },
            "18": {
              "columnPosition": 20
            },
            "19": {
              "columnPosition": 21
            },
            "2": {
              "columnPosition": 4
            },
            "20": {
              "columnPosition": 22
            },
            "21": {
              "columnPosition": 23
            },
            "22": {
              "columnPosition": 24
            },
            "23": {
              "columnPosition": 25
            },
            "24": {
              "columnPosition": 26
            },
            "25": {
              "columnPosition": 27
            },
            "26": {
              "columnPosition": 28
            },
            "27": {
              "columnPosition": 29
            },
            "28": {
              "columnPosition": 30
            },
            "29": {
              "columnPosition": 31
            },
            "3": {
              "columnPosition": 5
            },
            "30": {
              "columnPosition": 32
            },
            "31": {
              "columnPosition": 33
            },
            "4": {
              "columnPosition": 6
            },
            "5": {
              "columnPosition": 7
            },
            "6": {
              "columnPosition": 8
            },
            "7": {
              "columnPosition": 9
            },
            "8": {
              "columnPosition": 10
            },
            "9": {
              "columnPosition": 11
            },
            "index": {
              "columnPosition": 1,
              "hidden": true
            }
          },
          "updated": 1695495235901,
          "views": [
            {
              "annotationRules": [],
              "chart": {},
              "chartMode": "grid",
              "confoRules": [],
              "decoration": {
                "footer": "",
                "subtitle": "",
                "title": "Table"
              },
              "facets": [],
              "filterSettings": {
                "SHOW_FILTER_PANEL": true,
                "filters": []
              },
              "id": "first-view",
              "isDefault": true,
              "type": "public",
              "userID": ""
            },
            {
              "annotationRules": [],
              "chart": {},
              "chartMode": "grid",
              "confoRules": [],
              "decoration": {
                "footer": "",
                "subtitle": "",
                "title": "Table"
              },
              "facets": [],
              "filterSettings": {
                "SHOW_FILTER_PANEL": true,
                "filters": []
              },
              "id": "first-view",
              "isDefault": true,
              "isTransitory": true,
              "type": "public",
              "userID": ""
            }
          ]
        },
        "scrolled": false
      },
      "execution_count": null,
      "source": "emde_inv_2023.transpose()",
      "outputs": []
    },
    {
      "id": "25aee0fe-5a11-4d8c-9a15-d34a0ceeaae8",
      "cell_type": "code",
      "metadata": {
        "jupyter": {
          "outputs_hidden": false,
          "source_hidden": false
        },
        "noteable": {
          "cell_type": "code"
        }
      },
      "execution_count": null,
      "source": "",
      "outputs": []
    }
  ]
}