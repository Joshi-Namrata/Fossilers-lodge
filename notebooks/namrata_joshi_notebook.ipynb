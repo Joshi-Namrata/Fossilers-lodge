{
  "nbformat": 4,
  "nbformat_minor": 5,
  "metadata": {
    "kernel_info": {
      "name": "python3"
    },
    "kernelspec": {
      "display_name": "Python 3.9",
      "language": "python",
      "name": "python3"
    },
    "selected_hardware_size": "small",
    "noteable": {
      "db_connection": "@noteable"
    }
  },
  "cells": [
    {
      "id": "1559a7b5",
      "cell_type": "code",
      "metadata": {
        "noteable": {
          "output_collection_id": "7a8f0153-bd21-41b5-b93f-350ae1f12615"
        },
        "ExecuteTime": {
          "end_time": "2023-09-23T21:29:59.146202+00:00",
          "start_time": "2023-09-23T21:29:58.991018+00:00"
        }
      },
      "execution_count": null,
      "source": "import pandas as pd",
      "outputs": []
    },
    {
      "id": "ac10042f-f4f8-4b3f-89b4-33de09e4b4e3",
      "cell_type": "code",
      "metadata": {
        "jupyter": {
          "outputs_hidden": false,
          "source_hidden": false
        },
        "noteable": {
          "cell_type": "code",
          "output_collection_id": "23e0124e-1c93-4ee2-bded-29a17f039055"
        },
        "ExecuteTime": {
          "end_time": "2023-09-23T21:30:05.487603+00:00",
          "start_time": "2023-09-23T21:30:04.979833+00:00"
        },
        "scrolled": false
      },
      "execution_count": null,
      "source": "# Pull world_energy_investment_2021 file into the environment\n\n%ntbl pull datasets \"Excel data/WorldEnergyInvestment2021_DataFile.xlsx\"",
      "outputs": []
    },
    {
      "id": "ca0289dd-0be0-4038-9163-cc7e1218bdad",
      "cell_type": "code",
      "metadata": {
        "jupyter": {
          "outputs_hidden": false,
          "source_hidden": false
        },
        "noteable": {
          "cell_type": "code",
          "output_collection_id": "f5d1917b-08f0-4609-8475-80362718297c"
        },
        "ExecuteTime": {
          "end_time": "2023-09-23T21:30:11.362971+00:00",
          "start_time": "2023-09-23T21:30:10.882848+00:00"
        }
      },
      "execution_count": null,
      "source": "# Create excel file object and list it's sheet names\n\nw_energy_inv_2021 = pd.ExcelFile('../../datasets/Excel data/WorldEnergyInvestment2021_DataFile.xlsx')\n\nsheet_names = w_energy_inv_2021.sheet_names\nprint(\"Sheet names:\", sheet_names)",
      "outputs": []
    },
    {
      "id": "863f217e-dfd2-41dc-8834-fa7a4dad68a3",
      "cell_type": "code",
      "metadata": {
        "jupyter": {
          "outputs_hidden": false,
          "source_hidden": false
        },
        "noteable": {
          "cell_type": "code",
          "output_collection_id": "f7038e57-8518-4a52-9d44-858467500830"
        },
        "ExecuteTime": {
          "end_time": "2023-09-23T21:30:12.137912+00:00",
          "start_time": "2023-09-23T21:30:11.663264+00:00"
        }
      },
      "execution_count": null,
      "source": "#Pull world_energy_investment_2022 file into the environment\n\n%ntbl pull datasets \"Excel data/WorldEnergyInvestment2022_DataFile.xlsx\"",
      "outputs": []
    },
    {
      "id": "c25730bd-6e24-48f7-ba0c-33706ee922c1",
      "cell_type": "code",
      "metadata": {
        "jupyter": {
          "outputs_hidden": false,
          "source_hidden": false
        },
        "noteable": {
          "cell_type": "code",
          "output_collection_id": "134d9ed6-0b8c-4df7-b4d8-cebcfaa32dca"
        },
        "ExecuteTime": {
          "end_time": "2023-09-23T21:30:13.152928+00:00",
          "start_time": "2023-09-23T21:30:12.967321+00:00"
        }
      },
      "execution_count": null,
      "source": "# Create excel file object and list it's sheet names\n\nw_energy_inv_2022 = pd.ExcelFile('../../datasets/Excel data/WorldEnergyInvestment2022_DataFile.xlsx')\n\nsheet_names = w_energy_inv_2022.sheet_names\nprint(\"Sheet names:\", sheet_names)",
      "outputs": []
    },
    {
      "id": "b3bf6961-bfd7-4ecc-b2d3-c5f9947f9f1a",
      "cell_type": "code",
      "metadata": {
        "jupyter": {
          "outputs_hidden": false,
          "source_hidden": false
        },
        "noteable": {
          "cell_type": "code",
          "output_collection_id": "ca947843-ba31-45eb-82fe-5a0771577a74"
        },
        "ExecuteTime": {
          "end_time": "2023-09-23T21:30:14.021575+00:00",
          "start_time": "2023-09-23T21:30:13.532548+00:00"
        }
      },
      "execution_count": null,
      "source": "#Pull world_energy_investment_2022 file into the environment\n\n%ntbl pull datasets \"Excel data/WorldEnergyInvestment2023_DataFile.xlsx\"",
      "outputs": []
    },
    {
      "id": "de475d60-7d8b-41b0-a467-8913d904d806",
      "cell_type": "code",
      "metadata": {
        "jupyter": {
          "outputs_hidden": false,
          "source_hidden": false
        },
        "noteable": {
          "cell_type": "code",
          "output_collection_id": "27fcc568-2938-4276-a1a3-45ca9fe24cdf"
        },
        "ExecuteTime": {
          "end_time": "2023-09-23T21:30:14.872417+00:00",
          "start_time": "2023-09-23T21:30:14.679749+00:00"
        }
      },
      "execution_count": null,
      "source": "# Create excel file object and list it's sheet names\n\nw_energy_inv_2023 = pd.ExcelFile('../../datasets/Excel data/WorldEnergyInvestment2023_DataFile.xlsx')\n\nsheet_names = w_energy_inv_2023.sheet_names\nprint(\"Sheet names:\", sheet_names)",
      "outputs": []
    },
    {
      "id": "d1bcfa32-4690-468c-bedc-1454c54ee7fd",
      "cell_type": "code",
      "metadata": {
        "jupyter": {
          "outputs_hidden": false,
          "source_hidden": false
        },
        "noteable": {
          "cell_type": "code",
          "output_collection_id": "39dbda4e-3181-4b71-8358-b73b3136f42f"
        },
        "ExecuteTime": {
          "end_time": "2023-09-23T21:30:15.247894+00:00",
          "start_time": "2023-09-23T21:30:15.059523+00:00"
        }
      },
      "execution_count": null,
      "source": "cover_inv_2023 = pd.read_excel(w_energy_inv_2023, 'Cover', skiprows=[0])\nworld_inv_2023= pd.read_excel(w_energy_inv_2023, 'World', skiprows=[0])\nadvance_economies_inv_2023 = pd.read_excel(w_energy_inv_2023, 'Advanced Economies', skiprows=[0])\nemde_inv_2023= pd.read_excel(w_energy_inv_2023, 'EMDE', skiprows=[0])\nchina_inv_2023 = pd.read_excel(w_energy_inv_2023, 'China', skiprows=[0])\nnorth_america_inv_2023= pd.read_excel(w_energy_inv_2023, 'North America', skiprows=[0])\nnotes_web_inv_2023= pd.read_excel(w_energy_inv_2023,'Notes_Web', skiprows=[0])\n\n\n\n# print(public_rdd.head(), '\\n'*5, econ_indicators.head() )",
      "outputs": []
    },
    {
      "id": "f870aa32-6276-4c65-be23-8f556635fdd6",
      "cell_type": "code",
      "metadata": {
        "jupyter": {
          "outputs_hidden": false,
          "source_hidden": false
        },
        "noteable": {
          "cell_type": "code",
          "output_collection_id": "efb34e80-dc53-4286-a323-eb228dfbe311"
        },
        "ExecuteTime": {
          "end_time": "2023-09-23T21:43:00.855398+00:00",
          "start_time": "2023-09-23T21:43:00.697981+00:00"
        },
        "datalink": {
          "1a177a0b-364c-4680-9025-057b88403ac8": {
            "applied_filters": [],
            "dataframe_info": {
              "default_index_used": true,
              "orig_num_cols": 10,
              "orig_num_rows": 19,
              "orig_size_bytes": 1672,
              "truncated_num_cols": 10,
              "truncated_num_rows": 19,
              "truncated_size_bytes": 1672,
              "truncated_string_columns": []
            },
            "display_id": "1a177a0b-364c-4680-9025-057b88403ac8",
            "dx_settings": {
              "ALLOW_NOTEABLE_ATTRS": true,
              "COLUMN_SAMPLING_METHOD": "outer",
              "DB_LOCATION": ":memory:",
              "DEV_MODE": false,
              "DISPLAY_MAX_COLUMNS": 100,
              "DISPLAY_MAX_ROWS": 50000,
              "DISPLAY_MODE": "simple",
              "ENABLE_ASSIGNMENT": true,
              "ENABLE_DATALINK": true,
              "FLATTEN_COLUMN_VALUES": true,
              "FLATTEN_INDEX_VALUES": false,
              "GENERATE_DEX_METADATA": false,
              "HTML_TABLE_SCHEMA": false,
              "LOG_LEVEL": 30,
              "MAX_RENDER_SIZE_BYTES": 104857600,
              "MAX_STRING_LENGTH": 250,
              "NUM_PAST_SAMPLES_TRACKED": 3,
              "RANDOM_STATE": 12648430,
              "RESET_INDEX_VALUES": false,
              "ROW_SAMPLING_METHOD": "random",
              "SAMPLING_FACTOR": 0.1,
              "SAMPLING_METHOD": "random",
              "STRINGIFY_COLUMN_VALUES": true,
              "STRINGIFY_INDEX_VALUES": false
            },
            "sample_history": [],
            "sampling_time": "2023-09-23T18:09:20.482817",
            "user_variable_name": "cover_inv_2023",
            "variable_name": "cover_inv_2023"
          },
          "437483fa-1bc5-4d5f-aff2-89933d4247b5": {
            "applied_filters": [],
            "dataframe_info": {
              "default_index_used": true,
              "orig_num_cols": 11,
              "orig_num_rows": 32,
              "orig_size_bytes": 3072,
              "truncated_num_cols": 11,
              "truncated_num_rows": 32,
              "truncated_size_bytes": 3072,
              "truncated_string_columns": []
            },
            "display_id": "437483fa-1bc5-4d5f-aff2-89933d4247b5",
            "dx_settings": {
              "ALLOW_NOTEABLE_ATTRS": true,
              "COLUMN_SAMPLING_METHOD": "outer",
              "DB_LOCATION": ":memory:",
              "DEV_MODE": false,
              "DISPLAY_MAX_COLUMNS": 100,
              "DISPLAY_MAX_ROWS": 50000,
              "DISPLAY_MODE": "simple",
              "ENABLE_ASSIGNMENT": true,
              "ENABLE_DATALINK": true,
              "FLATTEN_COLUMN_VALUES": true,
              "FLATTEN_INDEX_VALUES": false,
              "GENERATE_DEX_METADATA": false,
              "HTML_TABLE_SCHEMA": false,
              "LOG_LEVEL": 30,
              "MAX_RENDER_SIZE_BYTES": 104857600,
              "MAX_STRING_LENGTH": 250,
              "NUM_PAST_SAMPLES_TRACKED": 3,
              "RANDOM_STATE": 12648430,
              "RESET_INDEX_VALUES": false,
              "ROW_SAMPLING_METHOD": "random",
              "SAMPLING_FACTOR": 0.1,
              "SAMPLING_METHOD": "random",
              "STRINGIFY_COLUMN_VALUES": true,
              "STRINGIFY_INDEX_VALUES": false
            },
            "sample_history": [],
            "sampling_time": "2023-09-23T18:10:06.473387",
            "user_variable_name": "world_inv_2023",
            "variable_name": "world_inv_2023"
          },
          "c78e67fb-c439-4ab1-a6c2-8fb90704615e": {
            "applied_filters": [],
            "dataframe_info": {
              "default_index_used": true,
              "orig_num_cols": 10,
              "orig_num_rows": 19,
              "orig_size_bytes": 1672,
              "truncated_num_cols": 10,
              "truncated_num_rows": 19,
              "truncated_size_bytes": 1672,
              "truncated_string_columns": []
            },
            "display_id": "c78e67fb-c439-4ab1-a6c2-8fb90704615e",
            "dx_settings": {
              "ALLOW_NOTEABLE_ATTRS": true,
              "COLUMN_SAMPLING_METHOD": "outer",
              "DB_LOCATION": ":memory:",
              "DEV_MODE": false,
              "DISPLAY_MAX_COLUMNS": 100,
              "DISPLAY_MAX_ROWS": 50000,
              "DISPLAY_MODE": "simple",
              "ENABLE_ASSIGNMENT": true,
              "ENABLE_DATALINK": true,
              "FLATTEN_COLUMN_VALUES": true,
              "FLATTEN_INDEX_VALUES": false,
              "GENERATE_DEX_METADATA": false,
              "HTML_TABLE_SCHEMA": false,
              "LOG_LEVEL": 30,
              "MAX_RENDER_SIZE_BYTES": 104857600,
              "MAX_STRING_LENGTH": 250,
              "NUM_PAST_SAMPLES_TRACKED": 3,
              "RANDOM_STATE": 12648430,
              "RESET_INDEX_VALUES": false,
              "ROW_SAMPLING_METHOD": "random",
              "SAMPLING_FACTOR": 0.1,
              "SAMPLING_METHOD": "random",
              "STRINGIFY_COLUMN_VALUES": true,
              "STRINGIFY_INDEX_VALUES": false
            },
            "sample_history": [],
            "sampling_time": "2023-09-23T18:21:28.936104",
            "user_variable_name": "cover_inv_2023",
            "variable_name": "cover_inv_2023"
          },
          "66da39e2-4367-4594-acad-70cbc01c784f": {
            "applied_filters": [],
            "dataframe_info": {
              "default_index_used": true,
              "orig_num_cols": 11,
              "orig_num_rows": 32,
              "orig_size_bytes": 3072,
              "truncated_num_cols": 11,
              "truncated_num_rows": 32,
              "truncated_size_bytes": 3072,
              "truncated_string_columns": []
            },
            "display_id": "66da39e2-4367-4594-acad-70cbc01c784f",
            "dx_settings": {
              "ALLOW_NOTEABLE_ATTRS": true,
              "COLUMN_SAMPLING_METHOD": "outer",
              "DB_LOCATION": ":memory:",
              "DEV_MODE": false,
              "DISPLAY_MAX_COLUMNS": 100,
              "DISPLAY_MAX_ROWS": 50000,
              "DISPLAY_MODE": "simple",
              "ENABLE_ASSIGNMENT": true,
              "ENABLE_DATALINK": true,
              "FLATTEN_COLUMN_VALUES": true,
              "FLATTEN_INDEX_VALUES": false,
              "GENERATE_DEX_METADATA": false,
              "HTML_TABLE_SCHEMA": false,
              "LOG_LEVEL": 30,
              "MAX_RENDER_SIZE_BYTES": 104857600,
              "MAX_STRING_LENGTH": 250,
              "NUM_PAST_SAMPLES_TRACKED": 3,
              "RANDOM_STATE": 12648430,
              "RESET_INDEX_VALUES": false,
              "ROW_SAMPLING_METHOD": "random",
              "SAMPLING_FACTOR": 0.1,
              "SAMPLING_METHOD": "random",
              "STRINGIFY_COLUMN_VALUES": true,
              "STRINGIFY_INDEX_VALUES": false
            },
            "sample_history": [],
            "sampling_time": "2023-09-23T18:22:21.882584",
            "user_variable_name": "world_inv_2023",
            "variable_name": "world_inv_2023"
          },
          "b1223d38-8e67-4feb-bce4-f14979b41d2f": {
            "applied_filters": [],
            "dataframe_info": {
              "default_index_used": true,
              "orig_num_cols": 11,
              "orig_num_rows": 32,
              "orig_size_bytes": 3072,
              "truncated_num_cols": 11,
              "truncated_num_rows": 32,
              "truncated_size_bytes": 3072,
              "truncated_string_columns": []
            },
            "display_id": "b1223d38-8e67-4feb-bce4-f14979b41d2f",
            "dx_settings": {
              "ALLOW_NOTEABLE_ATTRS": true,
              "COLUMN_SAMPLING_METHOD": "outer",
              "DB_LOCATION": ":memory:",
              "DEV_MODE": false,
              "DISPLAY_MAX_COLUMNS": 100,
              "DISPLAY_MAX_ROWS": 50000,
              "DISPLAY_MODE": "simple",
              "ENABLE_ASSIGNMENT": true,
              "ENABLE_DATALINK": true,
              "FLATTEN_COLUMN_VALUES": true,
              "FLATTEN_INDEX_VALUES": false,
              "GENERATE_DEX_METADATA": false,
              "HTML_TABLE_SCHEMA": false,
              "LOG_LEVEL": 30,
              "MAX_RENDER_SIZE_BYTES": 104857600,
              "MAX_STRING_LENGTH": 250,
              "NUM_PAST_SAMPLES_TRACKED": 3,
              "RANDOM_STATE": 12648430,
              "RESET_INDEX_VALUES": false,
              "ROW_SAMPLING_METHOD": "random",
              "SAMPLING_FACTOR": 0.1,
              "SAMPLING_METHOD": "random",
              "STRINGIFY_COLUMN_VALUES": true,
              "STRINGIFY_INDEX_VALUES": false
            },
            "sample_history": [],
            "sampling_time": "2023-09-23T18:22:40.485893",
            "user_variable_name": "world_inv_2023",
            "variable_name": "world_inv_2023"
          },
          "71f9f1fa-8a18-48be-a075-9536acf639eb": {
            "applied_filters": [],
            "dataframe_info": {
              "default_index_used": false,
              "orig_num_cols": 32,
              "orig_num_rows": 11,
              "orig_size_bytes": 2904,
              "truncated_num_cols": 32,
              "truncated_num_rows": 11,
              "truncated_size_bytes": 2904,
              "truncated_string_columns": []
            },
            "display_id": "71f9f1fa-8a18-48be-a075-9536acf639eb",
            "dx_settings": {
              "ALLOW_NOTEABLE_ATTRS": true,
              "COLUMN_SAMPLING_METHOD": "outer",
              "DB_LOCATION": ":memory:",
              "DEV_MODE": false,
              "DISPLAY_MAX_COLUMNS": 100,
              "DISPLAY_MAX_ROWS": 50000,
              "DISPLAY_MODE": "simple",
              "ENABLE_ASSIGNMENT": true,
              "ENABLE_DATALINK": true,
              "FLATTEN_COLUMN_VALUES": true,
              "FLATTEN_INDEX_VALUES": false,
              "GENERATE_DEX_METADATA": false,
              "HTML_TABLE_SCHEMA": false,
              "LOG_LEVEL": 30,
              "MAX_RENDER_SIZE_BYTES": 104857600,
              "MAX_STRING_LENGTH": 250,
              "NUM_PAST_SAMPLES_TRACKED": 3,
              "RANDOM_STATE": 12648430,
              "RESET_INDEX_VALUES": false,
              "ROW_SAMPLING_METHOD": "random",
              "SAMPLING_FACTOR": 0.1,
              "SAMPLING_METHOD": "random",
              "STRINGIFY_COLUMN_VALUES": true,
              "STRINGIFY_INDEX_VALUES": false
            },
            "sample_history": [],
            "sampling_time": "2023-09-23T18:25:29.356543",
            "user_variable_name": null,
            "variable_name": "unk_dataframe_1897de464491415998d90e7d8907384e"
          },
          "57d58d12-ff6c-4293-94c3-311e015e5c6f": {
            "applied_filters": [],
            "dataframe_info": {
              "default_index_used": false,
              "orig_num_cols": 32,
              "orig_num_rows": 11,
              "orig_size_bytes": 2904,
              "truncated_num_cols": 32,
              "truncated_num_rows": 11,
              "truncated_size_bytes": 2904,
              "truncated_string_columns": []
            },
            "display_id": "57d58d12-ff6c-4293-94c3-311e015e5c6f",
            "dx_settings": {
              "ALLOW_NOTEABLE_ATTRS": true,
              "COLUMN_SAMPLING_METHOD": "outer",
              "DB_LOCATION": ":memory:",
              "DEV_MODE": false,
              "DISPLAY_MAX_COLUMNS": 100,
              "DISPLAY_MAX_ROWS": 50000,
              "DISPLAY_MODE": "simple",
              "ENABLE_ASSIGNMENT": true,
              "ENABLE_DATALINK": true,
              "FLATTEN_COLUMN_VALUES": true,
              "FLATTEN_INDEX_VALUES": false,
              "GENERATE_DEX_METADATA": false,
              "HTML_TABLE_SCHEMA": false,
              "LOG_LEVEL": 30,
              "MAX_RENDER_SIZE_BYTES": 104857600,
              "MAX_STRING_LENGTH": 250,
              "NUM_PAST_SAMPLES_TRACKED": 3,
              "RANDOM_STATE": 12648430,
              "RESET_INDEX_VALUES": false,
              "ROW_SAMPLING_METHOD": "random",
              "SAMPLING_FACTOR": 0.1,
              "SAMPLING_METHOD": "random",
              "STRINGIFY_COLUMN_VALUES": true,
              "STRINGIFY_INDEX_VALUES": false
            },
            "sample_history": [],
            "sampling_time": "2023-09-23T18:30:00.952194",
            "user_variable_name": null,
            "variable_name": "unk_dataframe_7c00f96bbc754555b354ec9b5554f172"
          },
          "c8bd6cd7-2e64-4a2e-a338-2a7c7a3c9906": {
            "applied_filters": [],
            "dataframe_info": {
              "default_index_used": false,
              "orig_num_cols": 32,
              "orig_num_rows": 11,
              "orig_size_bytes": 2904,
              "truncated_num_cols": 32,
              "truncated_num_rows": 11,
              "truncated_size_bytes": 2904,
              "truncated_string_columns": []
            },
            "display_id": "c8bd6cd7-2e64-4a2e-a338-2a7c7a3c9906",
            "dx_settings": {
              "ALLOW_NOTEABLE_ATTRS": true,
              "COLUMN_SAMPLING_METHOD": "outer",
              "DB_LOCATION": ":memory:",
              "DEV_MODE": false,
              "DISPLAY_MAX_COLUMNS": 100,
              "DISPLAY_MAX_ROWS": 50000,
              "DISPLAY_MODE": "simple",
              "ENABLE_ASSIGNMENT": true,
              "ENABLE_DATALINK": true,
              "FLATTEN_COLUMN_VALUES": true,
              "FLATTEN_INDEX_VALUES": false,
              "GENERATE_DEX_METADATA": false,
              "HTML_TABLE_SCHEMA": false,
              "LOG_LEVEL": 30,
              "MAX_RENDER_SIZE_BYTES": 104857600,
              "MAX_STRING_LENGTH": 250,
              "NUM_PAST_SAMPLES_TRACKED": 3,
              "RANDOM_STATE": 12648430,
              "RESET_INDEX_VALUES": false,
              "ROW_SAMPLING_METHOD": "random",
              "SAMPLING_FACTOR": 0.1,
              "SAMPLING_METHOD": "random",
              "STRINGIFY_COLUMN_VALUES": true,
              "STRINGIFY_INDEX_VALUES": false
            },
            "sample_history": [],
            "sampling_time": "2023-09-23T18:30:23.568142",
            "user_variable_name": null,
            "variable_name": "unk_dataframe_bd5e7c27540a4516a8fbb48fd816bc58"
          },
          "ee42b0eb-8071-4d97-b86b-52c54e4bf3da": {
            "applied_filters": [],
            "dataframe_info": {
              "default_index_used": false,
              "orig_num_cols": 31,
              "orig_num_rows": 11,
              "orig_size_bytes": 2816,
              "truncated_num_cols": 31,
              "truncated_num_rows": 11,
              "truncated_size_bytes": 2816,
              "truncated_string_columns": []
            },
            "display_id": "ee42b0eb-8071-4d97-b86b-52c54e4bf3da",
            "dx_settings": {
              "ALLOW_NOTEABLE_ATTRS": true,
              "COLUMN_SAMPLING_METHOD": "outer",
              "DB_LOCATION": ":memory:",
              "DEV_MODE": false,
              "DISPLAY_MAX_COLUMNS": 100,
              "DISPLAY_MAX_ROWS": 50000,
              "DISPLAY_MODE": "simple",
              "ENABLE_ASSIGNMENT": true,
              "ENABLE_DATALINK": true,
              "FLATTEN_COLUMN_VALUES": true,
              "FLATTEN_INDEX_VALUES": false,
              "GENERATE_DEX_METADATA": false,
              "HTML_TABLE_SCHEMA": false,
              "LOG_LEVEL": 30,
              "MAX_RENDER_SIZE_BYTES": 104857600,
              "MAX_STRING_LENGTH": 250,
              "NUM_PAST_SAMPLES_TRACKED": 3,
              "RANDOM_STATE": 12648430,
              "RESET_INDEX_VALUES": false,
              "ROW_SAMPLING_METHOD": "random",
              "SAMPLING_FACTOR": 0.1,
              "SAMPLING_METHOD": "random",
              "STRINGIFY_COLUMN_VALUES": true,
              "STRINGIFY_INDEX_VALUES": false
            },
            "sample_history": [],
            "sampling_time": "2023-09-23T18:31:32.073901",
            "user_variable_name": null,
            "variable_name": "unk_dataframe_9baf0ff4bb544836a44d3c71435058d6"
          },
          "57eeba7e-4779-49c6-a824-46d72522982e": {
            "applied_filters": [],
            "dataframe_info": {
              "default_index_used": false,
              "orig_num_cols": 32,
              "orig_num_rows": 11,
              "orig_size_bytes": 2904,
              "truncated_num_cols": 32,
              "truncated_num_rows": 11,
              "truncated_size_bytes": 2904,
              "truncated_string_columns": []
            },
            "display_id": "57eeba7e-4779-49c6-a824-46d72522982e",
            "dx_settings": {
              "ALLOW_NOTEABLE_ATTRS": true,
              "COLUMN_SAMPLING_METHOD": "outer",
              "DB_LOCATION": ":memory:",
              "DEV_MODE": false,
              "DISPLAY_MAX_COLUMNS": 100,
              "DISPLAY_MAX_ROWS": 50000,
              "DISPLAY_MODE": "simple",
              "ENABLE_ASSIGNMENT": true,
              "ENABLE_DATALINK": true,
              "FLATTEN_COLUMN_VALUES": true,
              "FLATTEN_INDEX_VALUES": false,
              "GENERATE_DEX_METADATA": false,
              "HTML_TABLE_SCHEMA": false,
              "LOG_LEVEL": 30,
              "MAX_RENDER_SIZE_BYTES": 104857600,
              "MAX_STRING_LENGTH": 250,
              "NUM_PAST_SAMPLES_TRACKED": 3,
              "RANDOM_STATE": 12648430,
              "RESET_INDEX_VALUES": false,
              "ROW_SAMPLING_METHOD": "random",
              "SAMPLING_FACTOR": 0.1,
              "SAMPLING_METHOD": "random",
              "STRINGIFY_COLUMN_VALUES": true,
              "STRINGIFY_INDEX_VALUES": false
            },
            "sample_history": [],
            "sampling_time": "2023-09-23T18:32:40.768640",
            "user_variable_name": null,
            "variable_name": "unk_dataframe_5fd0030a9a9d466f8d3a537f7771fca2"
          },
          "99b6c9fb-ee42-437f-8e7b-10c9c6e15cd7": {
            "applied_filters": [],
            "dataframe_info": {
              "default_index_used": false,
              "orig_num_cols": 32,
              "orig_num_rows": 11,
              "orig_size_bytes": 2904,
              "truncated_num_cols": 32,
              "truncated_num_rows": 11,
              "truncated_size_bytes": 2904,
              "truncated_string_columns": []
            },
            "display_id": "99b6c9fb-ee42-437f-8e7b-10c9c6e15cd7",
            "dx_settings": {
              "ALLOW_NOTEABLE_ATTRS": true,
              "COLUMN_SAMPLING_METHOD": "outer",
              "DB_LOCATION": ":memory:",
              "DEV_MODE": false,
              "DISPLAY_MAX_COLUMNS": 100,
              "DISPLAY_MAX_ROWS": 50000,
              "DISPLAY_MODE": "simple",
              "ENABLE_ASSIGNMENT": true,
              "ENABLE_DATALINK": true,
              "FLATTEN_COLUMN_VALUES": true,
              "FLATTEN_INDEX_VALUES": false,
              "GENERATE_DEX_METADATA": false,
              "HTML_TABLE_SCHEMA": false,
              "LOG_LEVEL": 30,
              "MAX_RENDER_SIZE_BYTES": 104857600,
              "MAX_STRING_LENGTH": 250,
              "NUM_PAST_SAMPLES_TRACKED": 3,
              "RANDOM_STATE": 12648430,
              "RESET_INDEX_VALUES": false,
              "ROW_SAMPLING_METHOD": "random",
              "SAMPLING_FACTOR": 0.1,
              "SAMPLING_METHOD": "random",
              "STRINGIFY_COLUMN_VALUES": true,
              "STRINGIFY_INDEX_VALUES": false
            },
            "sample_history": [],
            "sampling_time": "2023-09-23T19:05:20.645223",
            "user_variable_name": null,
            "variable_name": "unk_dataframe_fde871e11a614424a75e1c3cf1a2cefd"
          },
          "f5ec62e7-77ae-4da6-9a3f-37bfa5f500c6": {
            "applied_filters": [],
            "dataframe_info": {
              "default_index_used": false,
              "orig_num_cols": 32,
              "orig_num_rows": 11,
              "orig_size_bytes": 2904,
              "truncated_num_cols": 32,
              "truncated_num_rows": 11,
              "truncated_size_bytes": 2904,
              "truncated_string_columns": []
            },
            "display_id": "f5ec62e7-77ae-4da6-9a3f-37bfa5f500c6",
            "dx_settings": {
              "ALLOW_NOTEABLE_ATTRS": true,
              "COLUMN_SAMPLING_METHOD": "outer",
              "DB_LOCATION": ":memory:",
              "DEV_MODE": false,
              "DISPLAY_MAX_COLUMNS": 100,
              "DISPLAY_MAX_ROWS": 50000,
              "DISPLAY_MODE": "simple",
              "ENABLE_ASSIGNMENT": true,
              "ENABLE_DATALINK": true,
              "FLATTEN_COLUMN_VALUES": true,
              "FLATTEN_INDEX_VALUES": false,
              "GENERATE_DEX_METADATA": false,
              "HTML_TABLE_SCHEMA": false,
              "LOG_LEVEL": 30,
              "MAX_RENDER_SIZE_BYTES": 104857600,
              "MAX_STRING_LENGTH": 250,
              "NUM_PAST_SAMPLES_TRACKED": 3,
              "RANDOM_STATE": 12648430,
              "RESET_INDEX_VALUES": false,
              "ROW_SAMPLING_METHOD": "random",
              "SAMPLING_FACTOR": 0.1,
              "SAMPLING_METHOD": "random",
              "STRINGIFY_COLUMN_VALUES": true,
              "STRINGIFY_INDEX_VALUES": false
            },
            "sample_history": [],
            "sampling_time": "2023-09-23T21:30:15.928908",
            "user_variable_name": null,
            "variable_name": "unk_dataframe_fc7591bf2f634de3839cd03c17c93eeb"
          }
        },
        "dx": {
          "dashboard": {
            "multiViews": []
          },
          "fieldMetadata": {
            "0": {
              "columnPosition": 2,
              "hidden": true
            },
            "1": {
              "columnPosition": 3
            },
            "10": {
              "columnPosition": 12
            },
            "11": {
              "columnPosition": 13
            },
            "12": {
              "columnPosition": 14
            },
            "13": {
              "columnPosition": 15,
              "hidden": true
            },
            "14": {
              "columnPosition": 16
            },
            "15": {
              "columnPosition": 17
            },
            "16": {
              "columnPosition": 18
            },
            "17": {
              "columnPosition": 19
            },
            "18": {
              "columnPosition": 20
            },
            "19": {
              "columnPosition": 21
            },
            "2": {
              "columnPosition": 4
            },
            "20": {
              "columnPosition": 22,
              "hidden": true
            },
            "21": {
              "columnPosition": 23
            },
            "22": {
              "columnPosition": 24
            },
            "23": {
              "columnPosition": 25
            },
            "24": {
              "columnPosition": 26
            },
            "25": {
              "columnPosition": 27
            },
            "26": {
              "columnPosition": 28
            },
            "27": {
              "columnPosition": 29
            },
            "28": {
              "columnPosition": 30
            },
            "29": {
              "columnPosition": 31
            },
            "3": {
              "columnPosition": 5
            },
            "30": {
              "columnPosition": 32,
              "hidden": true
            },
            "31": {
              "columnPosition": 33
            },
            "4": {
              "columnPosition": 6
            },
            "5": {
              "columnPosition": 7
            },
            "6": {
              "columnPosition": 8
            },
            "7": {
              "columnPosition": 9
            },
            "8": {
              "columnPosition": 10
            },
            "9": {
              "columnPosition": 11
            },
            "index": {
              "columnPosition": 1,
              "hidden": true
            }
          },
          "simpleTable": false,
          "updated": 1695504290864,
          "views": [
            {
              "annotationRules": [],
              "chart": {},
              "chartMode": "grid",
              "confoRules": [],
              "decoration": {
                "footer": "",
                "subtitle": "",
                "title": "Table"
              },
              "facets": [],
              "filterSettings": {
                "SHOW_FILTER_PANEL": true,
                "filters": []
              },
              "id": "first-view",
              "isDefault": true,
              "type": "public",
              "userID": ""
            },
            {
              "annotationRules": [],
              "chart": {},
              "chartMode": "grid",
              "confoRules": [],
              "decoration": {
                "footer": "",
                "subtitle": "",
                "title": "Table"
              },
              "facets": [],
              "filterSettings": {
                "SHOW_FILTER_PANEL": true,
                "filters": []
              },
              "id": "first-view",
              "isDefault": true,
              "isTransitory": true,
              "type": "public",
              "userID": ""
            },
            {
              "annotationRules": [],
              "chart": {},
              "chartMode": "empty",
              "confoRules": [],
              "decoration": {
                "footer": "",
                "subtitle": "",
                "title": "New View"
              },
              "facets": [],
              "filterSettings": {
                "SHOW_FILTER_PANEL": true,
                "filters": []
              },
              "id": "f20868c9-8d4d-4063-99d2-aa89256164b2",
              "isDefault": false,
              "type": "public",
              "userID": ""
            }
          ]
        }
      },
      "execution_count": null,
      "source": "# cover_inv_2023 #no data in it \n\nworld_inv_2023_T = world_inv_2023.transpose()\nworld_inv_2023_T = \n\n\n\n",
      "outputs": []
    },
    {
      "id": "72037947-a1cf-4d58-bf01-30a392462b48",
      "cell_type": "code",
      "metadata": {
        "jupyter": {
          "outputs_hidden": false,
          "source_hidden": false
        },
        "noteable": {
          "cell_type": "code",
          "output_collection_id": "bbf573d5-ae15-4299-920b-a5451faf764f"
        },
        "ExecuteTime": {
          "end_time": "2023-09-23T21:30:16.863527+00:00",
          "start_time": "2023-09-23T21:30:16.580848+00:00"
        },
        "datalink": {
          "3217a78f-3102-4412-9637-a3e7e2a6bebf": {
            "applied_filters": [],
            "dataframe_info": {
              "default_index_used": true,
              "orig_num_cols": 11,
              "orig_num_rows": 32,
              "orig_size_bytes": 3072,
              "truncated_num_cols": 11,
              "truncated_num_rows": 32,
              "truncated_size_bytes": 3072,
              "truncated_string_columns": []
            },
            "display_id": "3217a78f-3102-4412-9637-a3e7e2a6bebf",
            "dx_settings": {
              "ALLOW_NOTEABLE_ATTRS": true,
              "COLUMN_SAMPLING_METHOD": "outer",
              "DB_LOCATION": ":memory:",
              "DEV_MODE": false,
              "DISPLAY_MAX_COLUMNS": 100,
              "DISPLAY_MAX_ROWS": 50000,
              "DISPLAY_MODE": "simple",
              "ENABLE_ASSIGNMENT": true,
              "ENABLE_DATALINK": true,
              "FLATTEN_COLUMN_VALUES": true,
              "FLATTEN_INDEX_VALUES": false,
              "GENERATE_DEX_METADATA": false,
              "HTML_TABLE_SCHEMA": false,
              "LOG_LEVEL": 30,
              "MAX_RENDER_SIZE_BYTES": 104857600,
              "MAX_STRING_LENGTH": 250,
              "NUM_PAST_SAMPLES_TRACKED": 3,
              "RANDOM_STATE": 12648430,
              "RESET_INDEX_VALUES": false,
              "ROW_SAMPLING_METHOD": "random",
              "SAMPLING_FACTOR": 0.1,
              "SAMPLING_METHOD": "random",
              "STRINGIFY_COLUMN_VALUES": true,
              "STRINGIFY_INDEX_VALUES": false
            },
            "sample_history": [],
            "sampling_time": "2023-09-23T18:16:36.421614",
            "user_variable_name": "advance_economies_inv_2023",
            "variable_name": "advance_economies_inv_2023"
          },
          "1d747c29-4676-4a80-a049-df07812a6929": {
            "applied_filters": [],
            "dataframe_info": {
              "default_index_used": false,
              "orig_num_cols": 32,
              "orig_num_rows": 11,
              "orig_size_bytes": 2904,
              "truncated_num_cols": 32,
              "truncated_num_rows": 11,
              "truncated_size_bytes": 2904,
              "truncated_string_columns": []
            },
            "display_id": "1d747c29-4676-4a80-a049-df07812a6929",
            "dx_settings": {
              "ALLOW_NOTEABLE_ATTRS": true,
              "COLUMN_SAMPLING_METHOD": "outer",
              "DB_LOCATION": ":memory:",
              "DEV_MODE": false,
              "DISPLAY_MAX_COLUMNS": 100,
              "DISPLAY_MAX_ROWS": 50000,
              "DISPLAY_MODE": "simple",
              "ENABLE_ASSIGNMENT": true,
              "ENABLE_DATALINK": true,
              "FLATTEN_COLUMN_VALUES": true,
              "FLATTEN_INDEX_VALUES": false,
              "GENERATE_DEX_METADATA": false,
              "HTML_TABLE_SCHEMA": false,
              "LOG_LEVEL": 30,
              "MAX_RENDER_SIZE_BYTES": 104857600,
              "MAX_STRING_LENGTH": 250,
              "NUM_PAST_SAMPLES_TRACKED": 3,
              "RANDOM_STATE": 12648430,
              "RESET_INDEX_VALUES": false,
              "ROW_SAMPLING_METHOD": "random",
              "SAMPLING_FACTOR": 0.1,
              "SAMPLING_METHOD": "random",
              "STRINGIFY_COLUMN_VALUES": true,
              "STRINGIFY_INDEX_VALUES": false
            },
            "sample_history": [],
            "sampling_time": "2023-09-23T19:11:15.800834",
            "user_variable_name": null,
            "variable_name": "unk_dataframe_b1f82732ea65447f8cce49b94372460f"
          },
          "773602f5-8c37-4bd2-aab9-24268400e2bd": {
            "applied_filters": [],
            "dataframe_info": {
              "default_index_used": false,
              "orig_num_cols": 32,
              "orig_num_rows": 10,
              "orig_size_bytes": 2640,
              "truncated_num_cols": 32,
              "truncated_num_rows": 10,
              "truncated_size_bytes": 2640,
              "truncated_string_columns": []
            },
            "display_id": "773602f5-8c37-4bd2-aab9-24268400e2bd",
            "dx_settings": {
              "ALLOW_NOTEABLE_ATTRS": true,
              "COLUMN_SAMPLING_METHOD": "outer",
              "DB_LOCATION": ":memory:",
              "DEV_MODE": false,
              "DISPLAY_MAX_COLUMNS": 100,
              "DISPLAY_MAX_ROWS": 50000,
              "DISPLAY_MODE": "simple",
              "ENABLE_ASSIGNMENT": true,
              "ENABLE_DATALINK": true,
              "FLATTEN_COLUMN_VALUES": true,
              "FLATTEN_INDEX_VALUES": false,
              "GENERATE_DEX_METADATA": false,
              "HTML_TABLE_SCHEMA": false,
              "LOG_LEVEL": 30,
              "MAX_RENDER_SIZE_BYTES": 104857600,
              "MAX_STRING_LENGTH": 250,
              "NUM_PAST_SAMPLES_TRACKED": 3,
              "RANDOM_STATE": 12648430,
              "RESET_INDEX_VALUES": false,
              "ROW_SAMPLING_METHOD": "random",
              "SAMPLING_FACTOR": 0.1,
              "SAMPLING_METHOD": "random",
              "STRINGIFY_COLUMN_VALUES": true,
              "STRINGIFY_INDEX_VALUES": false
            },
            "sample_history": [],
            "sampling_time": "2023-09-23T19:22:22.251214",
            "user_variable_name": "advance_economies_inv_2023_T",
            "variable_name": "advance_economies_inv_2023_T"
          },
          "7b0e1bfa-1a00-4c12-a6eb-691f54e0fbbe": {
            "applied_filters": [],
            "dataframe_info": {
              "default_index_used": false,
              "orig_num_cols": 32,
              "orig_num_rows": 10,
              "orig_size_bytes": 2640,
              "truncated_num_cols": 32,
              "truncated_num_rows": 10,
              "truncated_size_bytes": 2640,
              "truncated_string_columns": []
            },
            "display_id": "7b0e1bfa-1a00-4c12-a6eb-691f54e0fbbe",
            "dx_settings": {
              "ALLOW_NOTEABLE_ATTRS": true,
              "COLUMN_SAMPLING_METHOD": "outer",
              "DB_LOCATION": ":memory:",
              "DEV_MODE": false,
              "DISPLAY_MAX_COLUMNS": 100,
              "DISPLAY_MAX_ROWS": 50000,
              "DISPLAY_MODE": "simple",
              "ENABLE_ASSIGNMENT": true,
              "ENABLE_DATALINK": true,
              "FLATTEN_COLUMN_VALUES": true,
              "FLATTEN_INDEX_VALUES": false,
              "GENERATE_DEX_METADATA": false,
              "HTML_TABLE_SCHEMA": false,
              "LOG_LEVEL": 30,
              "MAX_RENDER_SIZE_BYTES": 104857600,
              "MAX_STRING_LENGTH": 250,
              "NUM_PAST_SAMPLES_TRACKED": 3,
              "RANDOM_STATE": 12648430,
              "RESET_INDEX_VALUES": false,
              "ROW_SAMPLING_METHOD": "random",
              "SAMPLING_FACTOR": 0.1,
              "SAMPLING_METHOD": "random",
              "STRINGIFY_COLUMN_VALUES": true,
              "STRINGIFY_INDEX_VALUES": false
            },
            "sample_history": [],
            "sampling_time": "2023-09-23T19:23:51.284121",
            "user_variable_name": null,
            "variable_name": "unk_dataframe_e6622ffd548540af9371c306767a3930"
          },
          "8616ed83-c6d4-45a6-b1a4-7f8e903dee2b": {
            "applied_filters": [],
            "dataframe_info": {
              "default_index_used": false,
              "orig_num_cols": 32,
              "orig_num_rows": 10,
              "orig_size_bytes": 2640,
              "truncated_num_cols": 32,
              "truncated_num_rows": 10,
              "truncated_size_bytes": 2640,
              "truncated_string_columns": []
            },
            "display_id": "8616ed83-c6d4-45a6-b1a4-7f8e903dee2b",
            "dx_settings": {
              "ALLOW_NOTEABLE_ATTRS": true,
              "COLUMN_SAMPLING_METHOD": "outer",
              "DB_LOCATION": ":memory:",
              "DEV_MODE": false,
              "DISPLAY_MAX_COLUMNS": 100,
              "DISPLAY_MAX_ROWS": 50000,
              "DISPLAY_MODE": "simple",
              "ENABLE_ASSIGNMENT": true,
              "ENABLE_DATALINK": true,
              "FLATTEN_COLUMN_VALUES": true,
              "FLATTEN_INDEX_VALUES": false,
              "GENERATE_DEX_METADATA": false,
              "HTML_TABLE_SCHEMA": false,
              "LOG_LEVEL": 30,
              "MAX_RENDER_SIZE_BYTES": 104857600,
              "MAX_STRING_LENGTH": 250,
              "NUM_PAST_SAMPLES_TRACKED": 3,
              "RANDOM_STATE": 12648430,
              "RESET_INDEX_VALUES": false,
              "ROW_SAMPLING_METHOD": "random",
              "SAMPLING_FACTOR": 0.1,
              "SAMPLING_METHOD": "random",
              "STRINGIFY_COLUMN_VALUES": true,
              "STRINGIFY_INDEX_VALUES": false
            },
            "sample_history": [],
            "sampling_time": "2023-09-23T19:24:19.236999",
            "user_variable_name": "advance_economies_inv_2023_T",
            "variable_name": "advance_economies_inv_2023_T"
          },
          "a56cadbc-a481-4ba1-9643-fd971fd67887": {
            "applied_filters": [],
            "dataframe_info": {
              "default_index_used": false,
              "orig_num_cols": 32,
              "orig_num_rows": 10,
              "orig_size_bytes": 2640,
              "truncated_num_cols": 32,
              "truncated_num_rows": 10,
              "truncated_size_bytes": 2640,
              "truncated_string_columns": []
            },
            "display_id": "a56cadbc-a481-4ba1-9643-fd971fd67887",
            "dx_settings": {
              "ALLOW_NOTEABLE_ATTRS": true,
              "COLUMN_SAMPLING_METHOD": "outer",
              "DB_LOCATION": ":memory:",
              "DEV_MODE": false,
              "DISPLAY_MAX_COLUMNS": 100,
              "DISPLAY_MAX_ROWS": 50000,
              "DISPLAY_MODE": "simple",
              "ENABLE_ASSIGNMENT": true,
              "ENABLE_DATALINK": true,
              "FLATTEN_COLUMN_VALUES": true,
              "FLATTEN_INDEX_VALUES": false,
              "GENERATE_DEX_METADATA": false,
              "HTML_TABLE_SCHEMA": false,
              "LOG_LEVEL": 30,
              "MAX_RENDER_SIZE_BYTES": 104857600,
              "MAX_STRING_LENGTH": 250,
              "NUM_PAST_SAMPLES_TRACKED": 3,
              "RANDOM_STATE": 12648430,
              "RESET_INDEX_VALUES": false,
              "ROW_SAMPLING_METHOD": "random",
              "SAMPLING_FACTOR": 0.1,
              "SAMPLING_METHOD": "random",
              "STRINGIFY_COLUMN_VALUES": true,
              "STRINGIFY_INDEX_VALUES": false
            },
            "sample_history": [],
            "sampling_time": "2023-09-23T21:30:16.697546",
            "user_variable_name": "advance_economies_inv_2023_T",
            "variable_name": "advance_economies_inv_2023_T"
          }
        },
        "dx": {
          "dashboard": {
            "multiViews": []
          },
          "fieldMetadata": {
            "0": {
              "columnPosition": 2,
              "hidden": true
            },
            "1": {
              "columnPosition": 3
            },
            "10": {
              "columnPosition": 12
            },
            "11": {
              "columnPosition": 13
            },
            "12": {
              "columnPosition": 14
            },
            "13": {
              "columnPosition": 15
            },
            "14": {
              "columnPosition": 16
            },
            "15": {
              "columnPosition": 17
            },
            "16": {
              "columnPosition": 18
            },
            "17": {
              "columnPosition": 19
            },
            "18": {
              "columnPosition": 20
            },
            "19": {
              "columnPosition": 21
            },
            "2": {
              "columnPosition": 4
            },
            "20": {
              "columnPosition": 22
            },
            "21": {
              "columnPosition": 23
            },
            "22": {
              "columnPosition": 24
            },
            "23": {
              "columnPosition": 25
            },
            "24": {
              "columnPosition": 26
            },
            "25": {
              "columnPosition": 27
            },
            "26": {
              "columnPosition": 28
            },
            "27": {
              "columnPosition": 29
            },
            "28": {
              "columnPosition": 30
            },
            "29": {
              "columnPosition": 31
            },
            "3": {
              "columnPosition": 5
            },
            "30": {
              "columnPosition": 32
            },
            "31": {
              "columnPosition": 33
            },
            "4": {
              "columnPosition": 6
            },
            "5": {
              "columnPosition": 7
            },
            "6": {
              "columnPosition": 8
            },
            "7": {
              "columnPosition": 9
            },
            "8": {
              "columnPosition": 10
            },
            "9": {
              "columnPosition": 11
            },
            "index": {
              "columnPosition": 1,
              "hidden": true
            }
          },
          "updated": 1695504385745,
          "views": [
            {
              "annotationRules": [],
              "chart": {},
              "chartMode": "grid",
              "confoRules": [],
              "decoration": {
                "footer": "",
                "subtitle": "",
                "title": "Table"
              },
              "facets": [],
              "filterSettings": {
                "SHOW_FILTER_PANEL": true,
                "filters": []
              },
              "id": "first-view",
              "isDefault": true,
              "type": "public",
              "userID": ""
            },
            {
              "annotationRules": [],
              "chart": {},
              "chartMode": "grid",
              "confoRules": [],
              "decoration": {
                "footer": "",
                "subtitle": "",
                "title": "Table"
              },
              "facets": [],
              "filterSettings": {
                "SHOW_FILTER_PANEL": true,
                "filters": []
              },
              "id": "first-view",
              "isDefault": true,
              "isTransitory": true,
              "type": "public",
              "userID": ""
            },
            {
              "annotationRules": [],
              "chart": {},
              "chartMode": "empty",
              "confoRules": [],
              "decoration": {
                "footer": "",
                "subtitle": "",
                "title": "New View"
              },
              "facets": [],
              "filterSettings": {
                "SHOW_FILTER_PANEL": true,
                "filters": []
              },
              "id": "e52ea272-b1e9-40fb-a64c-5e229c1624bb",
              "isDefault": false,
              "type": "public",
              "userID": ""
            },
            {
              "annotationRules": [],
              "chart": {
                "facets": [],
                "summaryType": "heatmap"
              },
              "chartMode": "bignumber",
              "confoRules": [],
              "decoration": {
                "footer": "",
                "subtitle": "",
                "title": "Big Number"
              },
              "facets": [],
              "filterSettings": {
                "SHOW_FILTER_PANEL": true,
                "filters": []
              },
              "id": "e52ea272-b1e9-40fb-a64c-5e229c1624bb",
              "isDefault": false,
              "isTransitory": true,
              "type": "public",
              "userID": ""
            }
          ]
        },
        "scrolled": false
      },
      "execution_count": null,
      "source": "# Transposing dataset and renaming column names\nadvance_economies_inv_2023_T= advance_economies_inv_2023.transpose()\n\nadvance_economies_inv_2023_T= advance_economies_inv_2023_T.drop(advance_economies_inv_2023_T.index[0])\n\nadvance_economies_inv_2023_T\n\n\n",
      "outputs": []
    },
    {
      "id": "69cdeed9-13ce-4d05-8de5-23179c9ddaac",
      "cell_type": "code",
      "metadata": {
        "jupyter": {
          "outputs_hidden": false,
          "source_hidden": false
        },
        "noteable": {
          "cell_type": "code",
          "output_collection_id": "afeada8c-2e6f-43ea-b300-e4ec833da5f9"
        },
        "ExecuteTime": {
          "end_time": "2023-09-23T21:30:17.298468+00:00",
          "start_time": "2023-09-23T21:30:17.101051+00:00"
        }
      },
      "execution_count": null,
      "source": "# Sorting values by renewables\n\nadvance_economies_inv_2023.transpose().sort_values(by='Renewables')\n",
      "outputs": []
    },
    {
      "id": "a0b8d28b-b752-4a95-9cae-912864155d71",
      "cell_type": "code",
      "metadata": {
        "jupyter": {
          "outputs_hidden": false,
          "source_hidden": false
        },
        "noteable": {
          "cell_type": "code",
          "output_collection_id": "837689ee-925c-4eed-901e-5eb772cbda6f"
        },
        "ExecuteTime": {
          "end_time": "2023-09-23T21:30:18.377627+00:00",
          "start_time": "2023-09-23T21:30:18.082211+00:00"
        },
        "datalink": {
          "c7de3876-10ad-47f3-9840-c7e870312055": {
            "applied_filters": [],
            "dataframe_info": {
              "default_index_used": true,
              "orig_num_cols": 11,
              "orig_num_rows": 32,
              "orig_size_bytes": 3072,
              "truncated_num_cols": 11,
              "truncated_num_rows": 32,
              "truncated_size_bytes": 3072,
              "truncated_string_columns": []
            },
            "display_id": "c7de3876-10ad-47f3-9840-c7e870312055",
            "dx_settings": {
              "ALLOW_NOTEABLE_ATTRS": true,
              "COLUMN_SAMPLING_METHOD": "outer",
              "DB_LOCATION": ":memory:",
              "DEV_MODE": false,
              "DISPLAY_MAX_COLUMNS": 100,
              "DISPLAY_MAX_ROWS": 50000,
              "DISPLAY_MODE": "simple",
              "ENABLE_ASSIGNMENT": true,
              "ENABLE_DATALINK": true,
              "FLATTEN_COLUMN_VALUES": true,
              "FLATTEN_INDEX_VALUES": false,
              "GENERATE_DEX_METADATA": false,
              "HTML_TABLE_SCHEMA": false,
              "LOG_LEVEL": 30,
              "MAX_RENDER_SIZE_BYTES": 104857600,
              "MAX_STRING_LENGTH": 250,
              "NUM_PAST_SAMPLES_TRACKED": 3,
              "RANDOM_STATE": 12648430,
              "RESET_INDEX_VALUES": false,
              "ROW_SAMPLING_METHOD": "random",
              "SAMPLING_FACTOR": 0.1,
              "SAMPLING_METHOD": "random",
              "STRINGIFY_COLUMN_VALUES": true,
              "STRINGIFY_INDEX_VALUES": false
            },
            "sample_history": [],
            "sampling_time": "2023-09-23T18:16:47.696478",
            "user_variable_name": "emde_inv_2023",
            "variable_name": "emde_inv_2023"
          },
          "633e3900-cf15-4e47-a86b-ff9d733d31f2": {
            "applied_filters": [],
            "dataframe_info": {
              "default_index_used": false,
              "orig_num_cols": 32,
              "orig_num_rows": 11,
              "orig_size_bytes": 2904,
              "truncated_num_cols": 32,
              "truncated_num_rows": 11,
              "truncated_size_bytes": 2904,
              "truncated_string_columns": []
            },
            "display_id": "633e3900-cf15-4e47-a86b-ff9d733d31f2",
            "dx_settings": {
              "ALLOW_NOTEABLE_ATTRS": true,
              "COLUMN_SAMPLING_METHOD": "outer",
              "DB_LOCATION": ":memory:",
              "DEV_MODE": false,
              "DISPLAY_MAX_COLUMNS": 100,
              "DISPLAY_MAX_ROWS": 50000,
              "DISPLAY_MODE": "simple",
              "ENABLE_ASSIGNMENT": true,
              "ENABLE_DATALINK": true,
              "FLATTEN_COLUMN_VALUES": true,
              "FLATTEN_INDEX_VALUES": false,
              "GENERATE_DEX_METADATA": false,
              "HTML_TABLE_SCHEMA": false,
              "LOG_LEVEL": 30,
              "MAX_RENDER_SIZE_BYTES": 104857600,
              "MAX_STRING_LENGTH": 250,
              "NUM_PAST_SAMPLES_TRACKED": 3,
              "RANDOM_STATE": 12648430,
              "RESET_INDEX_VALUES": false,
              "ROW_SAMPLING_METHOD": "random",
              "SAMPLING_FACTOR": 0.1,
              "SAMPLING_METHOD": "random",
              "STRINGIFY_COLUMN_VALUES": true,
              "STRINGIFY_INDEX_VALUES": false
            },
            "sample_history": [],
            "sampling_time": "2023-09-23T18:53:29.896240",
            "user_variable_name": null,
            "variable_name": "unk_dataframe_e1cefbeca93849aca838c351a4db3c57"
          },
          "dc03237c-62d3-48e8-9dde-a4b173a68d92": {
            "applied_filters": [],
            "dataframe_info": {
              "default_index_used": false,
              "orig_num_cols": 32,
              "orig_num_rows": 11,
              "orig_size_bytes": 2904,
              "truncated_num_cols": 32,
              "truncated_num_rows": 11,
              "truncated_size_bytes": 2904,
              "truncated_string_columns": []
            },
            "display_id": "dc03237c-62d3-48e8-9dde-a4b173a68d92",
            "dx_settings": {
              "ALLOW_NOTEABLE_ATTRS": true,
              "COLUMN_SAMPLING_METHOD": "outer",
              "DB_LOCATION": ":memory:",
              "DEV_MODE": false,
              "DISPLAY_MAX_COLUMNS": 100,
              "DISPLAY_MAX_ROWS": 50000,
              "DISPLAY_MODE": "simple",
              "ENABLE_ASSIGNMENT": true,
              "ENABLE_DATALINK": true,
              "FLATTEN_COLUMN_VALUES": true,
              "FLATTEN_INDEX_VALUES": false,
              "GENERATE_DEX_METADATA": false,
              "HTML_TABLE_SCHEMA": false,
              "LOG_LEVEL": 30,
              "MAX_RENDER_SIZE_BYTES": 104857600,
              "MAX_STRING_LENGTH": 250,
              "NUM_PAST_SAMPLES_TRACKED": 3,
              "RANDOM_STATE": 12648430,
              "RESET_INDEX_VALUES": false,
              "ROW_SAMPLING_METHOD": "random",
              "SAMPLING_FACTOR": 0.1,
              "SAMPLING_METHOD": "random",
              "STRINGIFY_COLUMN_VALUES": true,
              "STRINGIFY_INDEX_VALUES": false
            },
            "sample_history": [],
            "sampling_time": "2023-09-23T21:30:18.201482",
            "user_variable_name": null,
            "variable_name": "unk_dataframe_c096896feb72486baa2cbd5b4422d660"
          }
        },
        "dx": {
          "dashboard": {
            "multiViews": []
          },
          "fieldMetadata": {
            "0": {
              "columnPosition": 2,
              "hidden": true
            },
            "1": {
              "columnPosition": 3
            },
            "10": {
              "columnPosition": 12
            },
            "11": {
              "columnPosition": 13
            },
            "12": {
              "columnPosition": 14
            },
            "13": {
              "columnPosition": 15
            },
            "14": {
              "columnPosition": 16
            },
            "15": {
              "columnPosition": 17
            },
            "16": {
              "columnPosition": 18
            },
            "17": {
              "columnPosition": 19
            },
            "18": {
              "columnPosition": 20
            },
            "19": {
              "columnPosition": 21
            },
            "2": {
              "columnPosition": 4
            },
            "20": {
              "columnPosition": 22
            },
            "21": {
              "columnPosition": 23
            },
            "22": {
              "columnPosition": 24
            },
            "23": {
              "columnPosition": 25
            },
            "24": {
              "columnPosition": 26
            },
            "25": {
              "columnPosition": 27
            },
            "26": {
              "columnPosition": 28
            },
            "27": {
              "columnPosition": 29
            },
            "28": {
              "columnPosition": 30
            },
            "29": {
              "columnPosition": 31
            },
            "3": {
              "columnPosition": 5
            },
            "30": {
              "columnPosition": 32
            },
            "31": {
              "columnPosition": 33
            },
            "4": {
              "columnPosition": 6
            },
            "5": {
              "columnPosition": 7
            },
            "6": {
              "columnPosition": 8
            },
            "7": {
              "columnPosition": 9
            },
            "8": {
              "columnPosition": 10
            },
            "9": {
              "columnPosition": 11
            },
            "index": {
              "columnPosition": 1,
              "hidden": true
            }
          },
          "updated": 1695495235901,
          "views": [
            {
              "annotationRules": [],
              "chart": {},
              "chartMode": "grid",
              "confoRules": [],
              "decoration": {
                "footer": "",
                "subtitle": "",
                "title": "Table"
              },
              "facets": [],
              "filterSettings": {
                "SHOW_FILTER_PANEL": true,
                "filters": []
              },
              "id": "first-view",
              "isDefault": true,
              "type": "public",
              "userID": ""
            },
            {
              "annotationRules": [],
              "chart": {},
              "chartMode": "grid",
              "confoRules": [],
              "decoration": {
                "footer": "",
                "subtitle": "",
                "title": "Table"
              },
              "facets": [],
              "filterSettings": {
                "SHOW_FILTER_PANEL": true,
                "filters": []
              },
              "id": "first-view",
              "isDefault": true,
              "isTransitory": true,
              "type": "public",
              "userID": ""
            }
          ]
        },
        "scrolled": false
      },
      "execution_count": null,
      "source": "emde_inv_2023.transpose()",
      "outputs": []
    },
    {
      "id": "bce5671f-1cf4-478d-b8c2-688565313f6c",
      "cell_type": "code",
      "metadata": {
        "jupyter": {
          "outputs_hidden": false,
          "source_hidden": false
        },
        "noteable": {
          "cell_type": "code",
          "output_collection_id": "31bfe418-e19b-49a1-a8b7-c4cbdf95147b"
        },
        "ExecuteTime": {
          "end_time": "2023-09-23T21:30:18.600105+00:00",
          "start_time": "2023-09-23T21:30:18.399012+00:00"
        },
        "datalink": {
          "f8b3c0b5-7f15-439c-b3b3-dae5e1e4d0d0": {
            "applied_filters": [],
            "dataframe_info": {
              "default_index_used": true,
              "orig_num_cols": 3,
              "orig_num_rows": 17,
              "orig_size_bytes": 544,
              "truncated_num_cols": 3,
              "truncated_num_rows": 17,
              "truncated_size_bytes": 544,
              "truncated_string_columns": [
                "Unnamed: 1",
                "Unnamed: 2"
              ]
            },
            "display_id": "f8b3c0b5-7f15-439c-b3b3-dae5e1e4d0d0",
            "dx_settings": {
              "ALLOW_NOTEABLE_ATTRS": true,
              "COLUMN_SAMPLING_METHOD": "outer",
              "DB_LOCATION": ":memory:",
              "DEV_MODE": false,
              "DISPLAY_MAX_COLUMNS": 100,
              "DISPLAY_MAX_ROWS": 50000,
              "DISPLAY_MODE": "simple",
              "ENABLE_ASSIGNMENT": true,
              "ENABLE_DATALINK": true,
              "FLATTEN_COLUMN_VALUES": true,
              "FLATTEN_INDEX_VALUES": false,
              "GENERATE_DEX_METADATA": false,
              "HTML_TABLE_SCHEMA": false,
              "LOG_LEVEL": 30,
              "MAX_RENDER_SIZE_BYTES": 104857600,
              "MAX_STRING_LENGTH": 250,
              "NUM_PAST_SAMPLES_TRACKED": 3,
              "RANDOM_STATE": 12648430,
              "RESET_INDEX_VALUES": false,
              "ROW_SAMPLING_METHOD": "random",
              "SAMPLING_FACTOR": 0.1,
              "SAMPLING_METHOD": "random",
              "STRINGIFY_COLUMN_VALUES": true,
              "STRINGIFY_INDEX_VALUES": false
            },
            "sample_history": [],
            "sampling_time": "2023-09-23T21:30:18.440846",
            "user_variable_name": "notes_web_inv_2023",
            "variable_name": "notes_web_inv_2023"
          }
        }
      },
      "execution_count": null,
      "source": "notes_web_inv_2023",
      "outputs": []
    },
    {
      "id": "c66277bc-800e-4849-85b4-1fd41493f321",
      "cell_type": "code",
      "metadata": {
        "jupyter": {
          "outputs_hidden": false,
          "source_hidden": false
        },
        "noteable": {
          "cell_type": "code"
        }
      },
      "execution_count": null,
      "source": "",
      "outputs": []
    },
    {
      "id": "949a4aee-827c-47cb-9345-94d08dfd2073",
      "cell_type": "code",
      "metadata": {
        "jupyter": {
          "outputs_hidden": false,
          "source_hidden": false
        },
        "noteable": {
          "cell_type": "code"
        }
      },
      "execution_count": null,
      "source": "",
      "outputs": []
    }
  ]
}