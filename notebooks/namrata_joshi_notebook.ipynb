{
  "nbformat": 4,
  "nbformat_minor": 5,
  "metadata": {
    "kernel_info": {
      "name": "python3"
    },
    "kernelspec": {
      "display_name": "Python 3.9",
      "language": "python",
      "name": "python3"
    },
    "selected_hardware_size": "small"
  },
  "cells": [
    {
      "id": "1559a7b5",
      "cell_type": "code",
      "metadata": {
        "noteable": {
          "output_collection_id": "2ed15599-ac9b-4d7e-b421-d1a25bc7676c"
        },
        "ExecuteTime": {
          "end_time": "2023-09-23T16:09:29.946904+00:00",
          "start_time": "2023-09-23T16:09:29.792244+00:00"
        }
      },
      "execution_count": null,
      "source": "import pandas as pd",
      "outputs": []
    },
    {
      "id": "feba9af1-40b5-4bb4-b740-c77339b72332",
      "cell_type": "code",
      "metadata": {
        "jupyter": {
          "outputs_hidden": false,
          "source_hidden": false
        },
        "noteable": {
          "cell_type": "code",
          "output_collection_id": "57866ef3-7830-439b-ad7c-c7b8e9c0d66f"
        },
        "ExecuteTime": {
          "end_time": "2023-09-23T16:15:17.939580+00:00",
          "start_time": "2023-09-23T16:15:16.950449+00:00"
        },
        "scrolled": true
      },
      "execution_count": null,
      "source": "# to read excel files sample\n\n# rdd_budget_xls = pd.ExcelFile('../datasets/Excel data/IEA_Energy_RDD_selected_data.xlsx')\n# public_rdd = pd.read_excel(rdd_budget_xls, 'Public RD&D', skiprows=[0])\n# econ_indicators = pd.read_excel(rdd_budget_xls, 'Economic Indicators', skiprows=[0])\n\n# print(public_rdd.head(), '\\n'*5, econ_indicators.head() )\n\n# public_rdd.to_csv('public_rdd.csv')",
      "outputs": []
    },
    {
      "id": "a1b2b461-300f-438c-87c2-eed8b9db883e",
      "cell_type": "code",
      "metadata": {
        "jupyter": {
          "outputs_hidden": false,
          "source_hidden": false
        },
        "noteable": {
          "cell_type": "code",
          "output_collection_id": "6f4d6344-9055-49a7-890b-87637aa9ba93"
        },
        "ExecuteTime": {
          "end_time": "2023-09-23T16:15:04.038139+00:00",
          "start_time": "2023-09-23T16:15:03.526154+00:00"
        }
      },
      "execution_count": null,
      "source": "%ntbl pull datasets \"Excel data/IEA_Energy_RDD_selected_data.xlsx\"",
      "outputs": []
    },
    {
      "id": "ac10042f-f4f8-4b3f-89b4-33de09e4b4e3",
      "cell_type": "code",
      "metadata": {
        "jupyter": {
          "outputs_hidden": false,
          "source_hidden": false
        },
        "noteable": {
          "cell_type": "code",
          "output_collection_id": "ba2f736c-049b-4556-ae04-477630db3633"
        },
        "ExecuteTime": {
          "end_time": "2023-09-23T17:42:52.534326+00:00",
          "start_time": "2023-09-23T17:42:52.133461+00:00"
        }
      },
      "execution_count": null,
      "source": "# Pull world_energy_investment_2021 file into the environment\n\n%ntbl pull datasets \"Excel data/WorldEnergyInvestment2021_DataFile.xlsx\"",
      "outputs": []
    },
    {
      "id": "ca0289dd-0be0-4038-9163-cc7e1218bdad",
      "cell_type": "code",
      "metadata": {
        "jupyter": {
          "outputs_hidden": false,
          "source_hidden": false
        },
        "noteable": {
          "cell_type": "code",
          "output_collection_id": "cf50b6b9-6957-4f2f-80a6-6995b59eb6c6"
        },
        "ExecuteTime": {
          "end_time": "2023-09-23T17:45:01.762993+00:00",
          "start_time": "2023-09-23T17:45:01.484252+00:00"
        }
      },
      "execution_count": null,
      "source": "# Create excel file object and list it's sheet names\n\nw_energy_inv_2021 = pd.ExcelFile('../../datasets/Excel data/WorldEnergyInvestment2021_DataFile.xlsx')\n\nsheet_names = w_energy_inv_2021.sheet_names\nprint(\"Sheet names:\", sheet_names)",
      "outputs": []
    },
    {
      "id": "863f217e-dfd2-41dc-8834-fa7a4dad68a3",
      "cell_type": "code",
      "metadata": {
        "jupyter": {
          "outputs_hidden": false,
          "source_hidden": false
        },
        "noteable": {
          "cell_type": "code",
          "output_collection_id": "524b217f-896e-4fb6-b3aa-a529c67b9310"
        },
        "ExecuteTime": {
          "end_time": "2023-09-23T17:52:28.883662+00:00",
          "start_time": "2023-09-23T17:52:28.426282+00:00"
        }
      },
      "execution_count": null,
      "source": "#Pull world_energy_investment_2022 file into the environment\n\n%ntbl pull datasets \"Excel data/WorldEnergyInvestment2022_DataFile.xlsx\"",
      "outputs": []
    },
    {
      "id": "c25730bd-6e24-48f7-ba0c-33706ee922c1",
      "cell_type": "code",
      "metadata": {
        "jupyter": {
          "outputs_hidden": false,
          "source_hidden": false
        },
        "noteable": {
          "cell_type": "code",
          "output_collection_id": "b6e456f1-d854-450e-a4d6-65068bb5aec8"
        },
        "ExecuteTime": {
          "end_time": "2023-09-23T17:52:31.569526+00:00",
          "start_time": "2023-09-23T17:52:31.383743+00:00"
        }
      },
      "execution_count": null,
      "source": "# Create excel file object and list it's sheet names\n\nw_energy_inv_2022 = pd.ExcelFile('../../datasets/Excel data/WorldEnergyInvestment2022_DataFile.xlsx')\n\nsheet_names = w_energy_inv_2022.sheet_names\nprint(\"Sheet names:\", sheet_names)",
      "outputs": []
    },
    {
      "id": "b3bf6961-bfd7-4ecc-b2d3-c5f9947f9f1a",
      "cell_type": "code",
      "metadata": {
        "jupyter": {
          "outputs_hidden": false,
          "source_hidden": false
        },
        "noteable": {
          "cell_type": "code",
          "output_collection_id": "9a8405d4-c90d-4bcb-8e45-0e3876b2a1e3"
        },
        "ExecuteTime": {
          "end_time": "2023-09-23T17:53:16.640787+00:00",
          "start_time": "2023-09-23T17:53:15.926001+00:00"
        }
      },
      "execution_count": null,
      "source": "#Pull world_energy_investment_2022 file into the environment\n\n%ntbl pull datasets \"Excel data/WorldEnergyInvestment2023_DataFile.xlsx\"",
      "outputs": []
    },
    {
      "id": "de475d60-7d8b-41b0-a467-8913d904d806",
      "cell_type": "code",
      "metadata": {
        "jupyter": {
          "outputs_hidden": false,
          "source_hidden": false
        },
        "noteable": {
          "cell_type": "code",
          "output_collection_id": "2ee7eb53-a315-4058-a1c0-bcab3454c864"
        },
        "ExecuteTime": {
          "end_time": "2023-09-23T18:05:29.679341+00:00",
          "start_time": "2023-09-23T18:05:29.495752+00:00"
        }
      },
      "execution_count": null,
      "source": "# Create excel file object and list it's sheet names\n\nw_energy_inv_2023 = pd.ExcelFile('../../datasets/Excel data/WorldEnergyInvestment2023_DataFile.xlsx')\n\nsheet_names = w_energy_inv_2023.sheet_names\nprint(\"Sheet names:\", sheet_names)",
      "outputs": []
    },
    {
      "id": "d1bcfa32-4690-468c-bedc-1454c54ee7fd",
      "cell_type": "code",
      "metadata": {
        "jupyter": {
          "outputs_hidden": false,
          "source_hidden": false
        },
        "noteable": {
          "cell_type": "code",
          "output_collection_id": "72f1e2e0-0d11-4ff5-8070-f21486759110"
        },
        "ExecuteTime": {
          "end_time": "2023-09-23T18:20:20.039688+00:00",
          "start_time": "2023-09-23T18:20:19.856303+00:00"
        }
      },
      "execution_count": null,
      "source": "cover_inv_2023 = pd.read_excel(w_energy_inv_2023, 'Cover', skiprows=[0])\nworld_inv_2023= pd.read_excel(w_energy_inv_2023, 'World', skiprows=[0])\nadvance_economies_inv_2023 = pd.read_excel(w_energy_inv_2023, 'Advanced Economies', skiprows=[0])\nemde_inv_2023= pd.read_excel(w_energy_inv_2023, 'EMDE', skiprows=[0])\nchina_inv_2023 = pd.read_excel(w_energy_inv_2023, 'China', skiprows=[0])\nnorth_america_inv_2023= pd.read_excel(w_energy_inv_2023, 'North America', skiprows=[0])\n\n\n# print(public_rdd.head(), '\\n'*5, econ_indicators.head() )",
      "outputs": []
    },
    {
      "id": "f870aa32-6276-4c65-be23-8f556635fdd6",
      "cell_type": "code",
      "metadata": {
        "jupyter": {
          "outputs_hidden": false,
          "source_hidden": false
        },
        "noteable": {
          "cell_type": "code",
          "output_collection_id": "37d71f8b-f1e4-463b-b3c5-e7a2e31e23b7"
        },
        "ExecuteTime": {
          "end_time": "2023-09-23T18:22:40.647864+00:00",
          "start_time": "2023-09-23T18:22:40.427880+00:00"
        },
        "datalink": {
          "1a177a0b-364c-4680-9025-057b88403ac8": {
            "applied_filters": [],
            "dataframe_info": {
              "default_index_used": true,
              "orig_num_cols": 10,
              "orig_num_rows": 19,
              "orig_size_bytes": 1672,
              "truncated_num_cols": 10,
              "truncated_num_rows": 19,
              "truncated_size_bytes": 1672,
              "truncated_string_columns": []
            },
            "display_id": "1a177a0b-364c-4680-9025-057b88403ac8",
            "dx_settings": {
              "ALLOW_NOTEABLE_ATTRS": true,
              "COLUMN_SAMPLING_METHOD": "outer",
              "DB_LOCATION": ":memory:",
              "DEV_MODE": false,
              "DISPLAY_MAX_COLUMNS": 100,
              "DISPLAY_MAX_ROWS": 50000,
              "DISPLAY_MODE": "simple",
              "ENABLE_ASSIGNMENT": true,
              "ENABLE_DATALINK": true,
              "FLATTEN_COLUMN_VALUES": true,
              "FLATTEN_INDEX_VALUES": false,
              "GENERATE_DEX_METADATA": false,
              "HTML_TABLE_SCHEMA": false,
              "LOG_LEVEL": 30,
              "MAX_RENDER_SIZE_BYTES": 104857600,
              "MAX_STRING_LENGTH": 250,
              "NUM_PAST_SAMPLES_TRACKED": 3,
              "RANDOM_STATE": 12648430,
              "RESET_INDEX_VALUES": false,
              "ROW_SAMPLING_METHOD": "random",
              "SAMPLING_FACTOR": 0.1,
              "SAMPLING_METHOD": "random",
              "STRINGIFY_COLUMN_VALUES": true,
              "STRINGIFY_INDEX_VALUES": false
            },
            "sample_history": [],
            "sampling_time": "2023-09-23T18:09:20.482817",
            "user_variable_name": "cover_inv_2023",
            "variable_name": "cover_inv_2023"
          },
          "437483fa-1bc5-4d5f-aff2-89933d4247b5": {
            "applied_filters": [],
            "dataframe_info": {
              "default_index_used": true,
              "orig_num_cols": 11,
              "orig_num_rows": 32,
              "orig_size_bytes": 3072,
              "truncated_num_cols": 11,
              "truncated_num_rows": 32,
              "truncated_size_bytes": 3072,
              "truncated_string_columns": []
            },
            "display_id": "437483fa-1bc5-4d5f-aff2-89933d4247b5",
            "dx_settings": {
              "ALLOW_NOTEABLE_ATTRS": true,
              "COLUMN_SAMPLING_METHOD": "outer",
              "DB_LOCATION": ":memory:",
              "DEV_MODE": false,
              "DISPLAY_MAX_COLUMNS": 100,
              "DISPLAY_MAX_ROWS": 50000,
              "DISPLAY_MODE": "simple",
              "ENABLE_ASSIGNMENT": true,
              "ENABLE_DATALINK": true,
              "FLATTEN_COLUMN_VALUES": true,
              "FLATTEN_INDEX_VALUES": false,
              "GENERATE_DEX_METADATA": false,
              "HTML_TABLE_SCHEMA": false,
              "LOG_LEVEL": 30,
              "MAX_RENDER_SIZE_BYTES": 104857600,
              "MAX_STRING_LENGTH": 250,
              "NUM_PAST_SAMPLES_TRACKED": 3,
              "RANDOM_STATE": 12648430,
              "RESET_INDEX_VALUES": false,
              "ROW_SAMPLING_METHOD": "random",
              "SAMPLING_FACTOR": 0.1,
              "SAMPLING_METHOD": "random",
              "STRINGIFY_COLUMN_VALUES": true,
              "STRINGIFY_INDEX_VALUES": false
            },
            "sample_history": [],
            "sampling_time": "2023-09-23T18:10:06.473387",
            "user_variable_name": "world_inv_2023",
            "variable_name": "world_inv_2023"
          },
          "c78e67fb-c439-4ab1-a6c2-8fb90704615e": {
            "applied_filters": [],
            "dataframe_info": {
              "default_index_used": true,
              "orig_num_cols": 10,
              "orig_num_rows": 19,
              "orig_size_bytes": 1672,
              "truncated_num_cols": 10,
              "truncated_num_rows": 19,
              "truncated_size_bytes": 1672,
              "truncated_string_columns": []
            },
            "display_id": "c78e67fb-c439-4ab1-a6c2-8fb90704615e",
            "dx_settings": {
              "ALLOW_NOTEABLE_ATTRS": true,
              "COLUMN_SAMPLING_METHOD": "outer",
              "DB_LOCATION": ":memory:",
              "DEV_MODE": false,
              "DISPLAY_MAX_COLUMNS": 100,
              "DISPLAY_MAX_ROWS": 50000,
              "DISPLAY_MODE": "simple",
              "ENABLE_ASSIGNMENT": true,
              "ENABLE_DATALINK": true,
              "FLATTEN_COLUMN_VALUES": true,
              "FLATTEN_INDEX_VALUES": false,
              "GENERATE_DEX_METADATA": false,
              "HTML_TABLE_SCHEMA": false,
              "LOG_LEVEL": 30,
              "MAX_RENDER_SIZE_BYTES": 104857600,
              "MAX_STRING_LENGTH": 250,
              "NUM_PAST_SAMPLES_TRACKED": 3,
              "RANDOM_STATE": 12648430,
              "RESET_INDEX_VALUES": false,
              "ROW_SAMPLING_METHOD": "random",
              "SAMPLING_FACTOR": 0.1,
              "SAMPLING_METHOD": "random",
              "STRINGIFY_COLUMN_VALUES": true,
              "STRINGIFY_INDEX_VALUES": false
            },
            "sample_history": [],
            "sampling_time": "2023-09-23T18:21:28.936104",
            "user_variable_name": "cover_inv_2023",
            "variable_name": "cover_inv_2023"
          },
          "66da39e2-4367-4594-acad-70cbc01c784f": {
            "applied_filters": [],
            "dataframe_info": {
              "default_index_used": true,
              "orig_num_cols": 11,
              "orig_num_rows": 32,
              "orig_size_bytes": 3072,
              "truncated_num_cols": 11,
              "truncated_num_rows": 32,
              "truncated_size_bytes": 3072,
              "truncated_string_columns": []
            },
            "display_id": "66da39e2-4367-4594-acad-70cbc01c784f",
            "dx_settings": {
              "ALLOW_NOTEABLE_ATTRS": true,
              "COLUMN_SAMPLING_METHOD": "outer",
              "DB_LOCATION": ":memory:",
              "DEV_MODE": false,
              "DISPLAY_MAX_COLUMNS": 100,
              "DISPLAY_MAX_ROWS": 50000,
              "DISPLAY_MODE": "simple",
              "ENABLE_ASSIGNMENT": true,
              "ENABLE_DATALINK": true,
              "FLATTEN_COLUMN_VALUES": true,
              "FLATTEN_INDEX_VALUES": false,
              "GENERATE_DEX_METADATA": false,
              "HTML_TABLE_SCHEMA": false,
              "LOG_LEVEL": 30,
              "MAX_RENDER_SIZE_BYTES": 104857600,
              "MAX_STRING_LENGTH": 250,
              "NUM_PAST_SAMPLES_TRACKED": 3,
              "RANDOM_STATE": 12648430,
              "RESET_INDEX_VALUES": false,
              "ROW_SAMPLING_METHOD": "random",
              "SAMPLING_FACTOR": 0.1,
              "SAMPLING_METHOD": "random",
              "STRINGIFY_COLUMN_VALUES": true,
              "STRINGIFY_INDEX_VALUES": false
            },
            "sample_history": [],
            "sampling_time": "2023-09-23T18:22:21.882584",
            "user_variable_name": "world_inv_2023",
            "variable_name": "world_inv_2023"
          },
          "b1223d38-8e67-4feb-bce4-f14979b41d2f": {
            "applied_filters": [],
            "dataframe_info": {
              "default_index_used": true,
              "orig_num_cols": 11,
              "orig_num_rows": 32,
              "orig_size_bytes": 3072,
              "truncated_num_cols": 11,
              "truncated_num_rows": 32,
              "truncated_size_bytes": 3072,
              "truncated_string_columns": []
            },
            "display_id": "b1223d38-8e67-4feb-bce4-f14979b41d2f",
            "dx_settings": {
              "ALLOW_NOTEABLE_ATTRS": true,
              "COLUMN_SAMPLING_METHOD": "outer",
              "DB_LOCATION": ":memory:",
              "DEV_MODE": false,
              "DISPLAY_MAX_COLUMNS": 100,
              "DISPLAY_MAX_ROWS": 50000,
              "DISPLAY_MODE": "simple",
              "ENABLE_ASSIGNMENT": true,
              "ENABLE_DATALINK": true,
              "FLATTEN_COLUMN_VALUES": true,
              "FLATTEN_INDEX_VALUES": false,
              "GENERATE_DEX_METADATA": false,
              "HTML_TABLE_SCHEMA": false,
              "LOG_LEVEL": 30,
              "MAX_RENDER_SIZE_BYTES": 104857600,
              "MAX_STRING_LENGTH": 250,
              "NUM_PAST_SAMPLES_TRACKED": 3,
              "RANDOM_STATE": 12648430,
              "RESET_INDEX_VALUES": false,
              "ROW_SAMPLING_METHOD": "random",
              "SAMPLING_FACTOR": 0.1,
              "SAMPLING_METHOD": "random",
              "STRINGIFY_COLUMN_VALUES": true,
              "STRINGIFY_INDEX_VALUES": false
            },
            "sample_history": [],
            "sampling_time": "2023-09-23T18:22:40.485893",
            "user_variable_name": "world_inv_2023",
            "variable_name": "world_inv_2023"
          }
        },
        "dx": {
          "dashboard": {
            "multiViews": []
          },
          "fieldMetadata": {},
          "updated": 1695493307722,
          "views": [
            {
              "annotationRules": [],
              "chart": {},
              "chartMode": "grid",
              "confoRules": [],
              "decoration": {
                "footer": "",
                "subtitle": "",
                "title": "Table"
              },
              "facets": [],
              "filterSettings": {
                "SHOW_FILTER_PANEL": true,
                "filters": []
              },
              "id": "first-view",
              "isDefault": true,
              "type": "public",
              "userID": ""
            },
            {
              "annotationRules": [],
              "chart": {},
              "chartMode": "grid",
              "confoRules": [],
              "decoration": {
                "footer": "",
                "subtitle": "",
                "title": "Table"
              },
              "facets": [],
              "filterSettings": {
                "SHOW_FILTER_PANEL": true,
                "filters": []
              },
              "id": "first-view",
              "isDefault": true,
              "isTransitory": true,
              "type": "public",
              "userID": ""
            }
          ]
        }
      },
      "execution_count": null,
      "source": "# cover_inv_2023 #no data in it \nworld_inv_2023\n",
      "outputs": []
    },
    {
      "id": "72037947-a1cf-4d58-bf01-30a392462b48",
      "cell_type": "code",
      "metadata": {
        "jupyter": {
          "outputs_hidden": false,
          "source_hidden": false
        },
        "noteable": {
          "cell_type": "code",
          "output_collection_id": "de6f6f76-48ca-44cb-a02b-a805f6d3d8e0"
        },
        "ExecuteTime": {
          "end_time": "2023-09-23T18:16:36.586319+00:00",
          "start_time": "2023-09-23T18:16:36.377755+00:00"
        },
        "datalink": {
          "3217a78f-3102-4412-9637-a3e7e2a6bebf": {
            "applied_filters": [],
            "dataframe_info": {
              "default_index_used": true,
              "orig_num_cols": 11,
              "orig_num_rows": 32,
              "orig_size_bytes": 3072,
              "truncated_num_cols": 11,
              "truncated_num_rows": 32,
              "truncated_size_bytes": 3072,
              "truncated_string_columns": []
            },
            "display_id": "3217a78f-3102-4412-9637-a3e7e2a6bebf",
            "dx_settings": {
              "ALLOW_NOTEABLE_ATTRS": true,
              "COLUMN_SAMPLING_METHOD": "outer",
              "DB_LOCATION": ":memory:",
              "DEV_MODE": false,
              "DISPLAY_MAX_COLUMNS": 100,
              "DISPLAY_MAX_ROWS": 50000,
              "DISPLAY_MODE": "simple",
              "ENABLE_ASSIGNMENT": true,
              "ENABLE_DATALINK": true,
              "FLATTEN_COLUMN_VALUES": true,
              "FLATTEN_INDEX_VALUES": false,
              "GENERATE_DEX_METADATA": false,
              "HTML_TABLE_SCHEMA": false,
              "LOG_LEVEL": 30,
              "MAX_RENDER_SIZE_BYTES": 104857600,
              "MAX_STRING_LENGTH": 250,
              "NUM_PAST_SAMPLES_TRACKED": 3,
              "RANDOM_STATE": 12648430,
              "RESET_INDEX_VALUES": false,
              "ROW_SAMPLING_METHOD": "random",
              "SAMPLING_FACTOR": 0.1,
              "SAMPLING_METHOD": "random",
              "STRINGIFY_COLUMN_VALUES": true,
              "STRINGIFY_INDEX_VALUES": false
            },
            "sample_history": [],
            "sampling_time": "2023-09-23T18:16:36.421614",
            "user_variable_name": "advance_economies_inv_2023",
            "variable_name": "advance_economies_inv_2023"
          }
        }
      },
      "execution_count": null,
      "source": "advance_economies_inv_2023 ",
      "outputs": []
    },
    {
      "id": "a0b8d28b-b752-4a95-9cae-912864155d71",
      "cell_type": "code",
      "metadata": {
        "jupyter": {
          "outputs_hidden": false,
          "source_hidden": false
        },
        "noteable": {
          "cell_type": "code",
          "output_collection_id": "8756bacb-1f04-4024-9ba3-7721b421dd10"
        },
        "ExecuteTime": {
          "end_time": "2023-09-23T18:16:47.856882+00:00",
          "start_time": "2023-09-23T18:16:47.651143+00:00"
        },
        "datalink": {
          "c7de3876-10ad-47f3-9840-c7e870312055": {
            "applied_filters": [],
            "dataframe_info": {
              "default_index_used": true,
              "orig_num_cols": 11,
              "orig_num_rows": 32,
              "orig_size_bytes": 3072,
              "truncated_num_cols": 11,
              "truncated_num_rows": 32,
              "truncated_size_bytes": 3072,
              "truncated_string_columns": []
            },
            "display_id": "c7de3876-10ad-47f3-9840-c7e870312055",
            "dx_settings": {
              "ALLOW_NOTEABLE_ATTRS": true,
              "COLUMN_SAMPLING_METHOD": "outer",
              "DB_LOCATION": ":memory:",
              "DEV_MODE": false,
              "DISPLAY_MAX_COLUMNS": 100,
              "DISPLAY_MAX_ROWS": 50000,
              "DISPLAY_MODE": "simple",
              "ENABLE_ASSIGNMENT": true,
              "ENABLE_DATALINK": true,
              "FLATTEN_COLUMN_VALUES": true,
              "FLATTEN_INDEX_VALUES": false,
              "GENERATE_DEX_METADATA": false,
              "HTML_TABLE_SCHEMA": false,
              "LOG_LEVEL": 30,
              "MAX_RENDER_SIZE_BYTES": 104857600,
              "MAX_STRING_LENGTH": 250,
              "NUM_PAST_SAMPLES_TRACKED": 3,
              "RANDOM_STATE": 12648430,
              "RESET_INDEX_VALUES": false,
              "ROW_SAMPLING_METHOD": "random",
              "SAMPLING_FACTOR": 0.1,
              "SAMPLING_METHOD": "random",
              "STRINGIFY_COLUMN_VALUES": true,
              "STRINGIFY_INDEX_VALUES": false
            },
            "sample_history": [],
            "sampling_time": "2023-09-23T18:16:47.696478",
            "user_variable_name": "emde_inv_2023",
            "variable_name": "emde_inv_2023"
          }
        }
      },
      "execution_count": null,
      "source": "emde_inv_2023",
      "outputs": []
    },
    {
      "id": "79576ac9-f749-44ec-b45b-d93dc818a2ed",
      "cell_type": "code",
      "metadata": {
        "jupyter": {
          "outputs_hidden": false,
          "source_hidden": false
        },
        "noteable": {
          "cell_type": "code",
          "output_collection_id": "e393c9c6-7d42-47b2-a81c-892b0e3835c1"
        },
        "ExecuteTime": {
          "end_time": "2023-09-23T18:20:32.134852+00:00",
          "start_time": "2023-09-23T18:20:31.922981+00:00"
        },
        "datalink": {
          "d1bba334-b2ff-4961-8455-a8b7cd6b6d76": {
            "applied_filters": [],
            "dataframe_info": {
              "default_index_used": true,
              "orig_num_cols": 11,
              "orig_num_rows": 33,
              "orig_size_bytes": 3168,
              "truncated_num_cols": 11,
              "truncated_num_rows": 33,
              "truncated_size_bytes": 3168,
              "truncated_string_columns": []
            },
            "display_id": "d1bba334-b2ff-4961-8455-a8b7cd6b6d76",
            "dx_settings": {
              "ALLOW_NOTEABLE_ATTRS": true,
              "COLUMN_SAMPLING_METHOD": "outer",
              "DB_LOCATION": ":memory:",
              "DEV_MODE": false,
              "DISPLAY_MAX_COLUMNS": 100,
              "DISPLAY_MAX_ROWS": 50000,
              "DISPLAY_MODE": "simple",
              "ENABLE_ASSIGNMENT": true,
              "ENABLE_DATALINK": true,
              "FLATTEN_COLUMN_VALUES": true,
              "FLATTEN_INDEX_VALUES": false,
              "GENERATE_DEX_METADATA": false,
              "HTML_TABLE_SCHEMA": false,
              "LOG_LEVEL": 30,
              "MAX_RENDER_SIZE_BYTES": 104857600,
              "MAX_STRING_LENGTH": 250,
              "NUM_PAST_SAMPLES_TRACKED": 3,
              "RANDOM_STATE": 12648430,
              "RESET_INDEX_VALUES": false,
              "ROW_SAMPLING_METHOD": "random",
              "SAMPLING_FACTOR": 0.1,
              "SAMPLING_METHOD": "random",
              "STRINGIFY_COLUMN_VALUES": true,
              "STRINGIFY_INDEX_VALUES": false
            },
            "sample_history": [],
            "sampling_time": "2023-09-23T18:18:27.370805",
            "user_variable_name": "north_america_inv_2023",
            "variable_name": "north_america_inv_2023"
          },
          "720770ae-fd50-4e4e-80a7-4ecf5709bc85": {
            "applied_filters": [],
            "dataframe_info": {
              "default_index_used": true,
              "orig_num_cols": 11,
              "orig_num_rows": 32,
              "orig_size_bytes": 3072,
              "truncated_num_cols": 11,
              "truncated_num_rows": 32,
              "truncated_size_bytes": 3072,
              "truncated_string_columns": []
            },
            "display_id": "720770ae-fd50-4e4e-80a7-4ecf5709bc85",
            "dx_settings": {
              "ALLOW_NOTEABLE_ATTRS": true,
              "COLUMN_SAMPLING_METHOD": "outer",
              "DB_LOCATION": ":memory:",
              "DEV_MODE": false,
              "DISPLAY_MAX_COLUMNS": 100,
              "DISPLAY_MAX_ROWS": 50000,
              "DISPLAY_MODE": "simple",
              "ENABLE_ASSIGNMENT": true,
              "ENABLE_DATALINK": true,
              "FLATTEN_COLUMN_VALUES": true,
              "FLATTEN_INDEX_VALUES": false,
              "GENERATE_DEX_METADATA": false,
              "HTML_TABLE_SCHEMA": false,
              "LOG_LEVEL": 30,
              "MAX_RENDER_SIZE_BYTES": 104857600,
              "MAX_STRING_LENGTH": 250,
              "NUM_PAST_SAMPLES_TRACKED": 3,
              "RANDOM_STATE": 12648430,
              "RESET_INDEX_VALUES": false,
              "ROW_SAMPLING_METHOD": "random",
              "SAMPLING_FACTOR": 0.1,
              "SAMPLING_METHOD": "random",
              "STRINGIFY_COLUMN_VALUES": true,
              "STRINGIFY_INDEX_VALUES": false
            },
            "sample_history": [],
            "sampling_time": "2023-09-23T18:19:40.271553",
            "user_variable_name": "north_america_inv_2023",
            "variable_name": "north_america_inv_2023"
          },
          "8b9bb379-7e1d-43b9-8ef0-b0a53bd44270": {
            "applied_filters": [],
            "dataframe_info": {
              "default_index_used": true,
              "orig_num_cols": 11,
              "orig_num_rows": 32,
              "orig_size_bytes": 3072,
              "truncated_num_cols": 11,
              "truncated_num_rows": 32,
              "truncated_size_bytes": 3072,
              "truncated_string_columns": []
            },
            "display_id": "8b9bb379-7e1d-43b9-8ef0-b0a53bd44270",
            "dx_settings": {
              "ALLOW_NOTEABLE_ATTRS": true,
              "COLUMN_SAMPLING_METHOD": "outer",
              "DB_LOCATION": ":memory:",
              "DEV_MODE": false,
              "DISPLAY_MAX_COLUMNS": 100,
              "DISPLAY_MAX_ROWS": 50000,
              "DISPLAY_MODE": "simple",
              "ENABLE_ASSIGNMENT": true,
              "ENABLE_DATALINK": true,
              "FLATTEN_COLUMN_VALUES": true,
              "FLATTEN_INDEX_VALUES": false,
              "GENERATE_DEX_METADATA": false,
              "HTML_TABLE_SCHEMA": false,
              "LOG_LEVEL": 30,
              "MAX_RENDER_SIZE_BYTES": 104857600,
              "MAX_STRING_LENGTH": 250,
              "NUM_PAST_SAMPLES_TRACKED": 3,
              "RANDOM_STATE": 12648430,
              "RESET_INDEX_VALUES": false,
              "ROW_SAMPLING_METHOD": "random",
              "SAMPLING_FACTOR": 0.1,
              "SAMPLING_METHOD": "random",
              "STRINGIFY_COLUMN_VALUES": true,
              "STRINGIFY_INDEX_VALUES": false
            },
            "sample_history": [],
            "sampling_time": "2023-09-23T18:20:31.974716",
            "user_variable_name": "north_america_inv_2023",
            "variable_name": "north_america_inv_2023"
          }
        }
      },
      "execution_count": null,
      "source": "north_america_inv_2023",
      "outputs": []
    }
  ]
}