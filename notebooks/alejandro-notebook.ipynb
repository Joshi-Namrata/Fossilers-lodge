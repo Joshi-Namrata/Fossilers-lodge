{
  "nbformat": 4,
  "nbformat_minor": 5,
  "metadata": {
    "kernel_info": {
      "name": "python3.9-noteable"
    },
    "kernelspec": {
      "display_name": "Python 3.9 (Noteable)",
      "language": "python",
      "name": "python3.9-noteable"
    },
    "selected_hardware_size": "small"
  },
  "cells": [
    {
      "id": "2c1eac0a-96e5-475b-8d70-5caaf35d2219",
      "cell_type": "code",
      "metadata": {
        "jupyter": {
          "outputs_hidden": false,
          "source_hidden": false
        },
        "noteable": {
          "cell_type": "code",
          "output_collection_id": "b1142611-7866-4557-843a-d1553b397845"
        },
        "ExecuteTime": {
          "end_time": "2023-09-23T16:29:30.987422+00:00",
          "start_time": "2023-09-23T16:29:30.591444+00:00"
        }
      },
      "execution_count": null,
      "source": "%ntbl pull datasets \"Excel data/IEA_Energy_RDD_selected_data.xlsx\"",
      "outputs": []
    },
    {
      "id": "78dd3e7d",
      "cell_type": "code",
      "metadata": {
        "noteable": {
          "output_collection_id": "b76e8664-432d-4007-8cd8-f439906dbb6e"
        },
        "ExecuteTime": {
          "end_time": "2023-09-23T16:29:34.018404+00:00",
          "start_time": "2023-09-23T16:29:33.810682+00:00"
        }
      },
      "execution_count": null,
      "source": "import pandas as pd\n\nrdd_budget_xls = pd.ExcelFile('../datasets/Excel data/IEA_Energy_RDD_selected_data.xlsx')\npublic_rdd = pd.read_excel(rdd_budget_xls, 'Public RD&D', skiprows=[0])\necon_indicators = pd.read_excel(rdd_budget_xls, 'Economic Indicators', skiprows=[0])\n\nprint(public_rdd.head(), '\\n'*5, econ_indicators.head() )",
      "outputs": []
    },
    {
      "id": "cc053736-081b-4f21-a453-3f1dc0ef00f2",
      "cell_type": "code",
      "metadata": {
        "jupyter": {
          "outputs_hidden": false,
          "source_hidden": false
        },
        "noteable": {
          "cell_type": "code",
          "output_collection_id": "4effcefb-67c2-4605-9dbc-1adbd13ab1a0"
        },
        "ExecuteTime": {
          "end_time": "2023-09-23T16:30:19.720801+00:00",
          "start_time": "2023-09-23T16:30:19.564054+00:00"
        }
      },
      "execution_count": null,
      "source": "import pandas as pd",
      "outputs": []
    },
    {
      "id": "d3fd804d-459d-4b1e-b254-942c8282eddc",
      "cell_type": "code",
      "metadata": {
        "jupyter": {
          "outputs_hidden": false,
          "source_hidden": false
        },
        "noteable": {
          "cell_type": "code",
          "output_collection_id": "e0fb8183-ae68-4d9c-9b08-8d41a9d93ddf"
        },
        "ExecuteTime": {
          "end_time": "2023-09-23T16:29:49.085592+00:00",
          "start_time": "2023-09-23T16:29:48.786469+00:00"
        }
      },
      "execution_count": null,
      "source": "rdd_budget_xls = pd.ExcelFile('../../datasets/Excel data/IEA_Energy_RDD_selected_data.xlsx')",
      "outputs": []
    },
    {
      "id": "848d2f27-9bb9-46b2-8949-f6fa3aee43dc",
      "cell_type": "code",
      "metadata": {
        "jupyter": {
          "outputs_hidden": false,
          "source_hidden": false
        },
        "noteable": {
          "cell_type": "code",
          "output_collection_id": "c2029afc-4d42-48d8-9026-ca39ac227b0a"
        },
        "ExecuteTime": {
          "end_time": "2023-09-23T16:30:07.334155+00:00",
          "start_time": "2023-09-23T16:30:07.153694+00:00"
        }
      },
      "execution_count": null,
      "source": "rdd_budget_xls.head()",
      "outputs": []
    },
    {
      "id": "e0ca368a-d5ec-46b1-9c93-9cd1d0abc155",
      "cell_type": "code",
      "metadata": {
        "jupyter": {
          "outputs_hidden": false,
          "source_hidden": false
        },
        "noteable": {
          "cell_type": "code",
          "output_collection_id": "7ce564d2-e68f-42bd-89fc-bfd85305ac68"
        },
        "ExecuteTime": {
          "end_time": "2023-09-23T16:28:43.144177+00:00",
          "start_time": "2023-09-23T16:28:42.987896+00:00"
        }
      },
      "execution_count": null,
      "source": "import os\nprint(os.getcwd())",
      "outputs": []
    }
  ]
}