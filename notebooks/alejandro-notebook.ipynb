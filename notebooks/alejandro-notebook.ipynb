{
  "nbformat": 4,
  "nbformat_minor": 5,
  "metadata": {
    "kernel_info": {
      "name": "python3"
    },
    "kernelspec": {
      "display_name": "Python 3.9",
      "language": "python",
      "name": "python3"
    },
    "selected_hardware_size": "small",
    "noteable": {
      "db_connection": "@a37175f02c134520ab7e873e53f898f3"
    }
  },
  "cells": [
    {
      "id": "05c90a52-865e-45b7-8be6-cfd0a6095a85",
      "cell_type": "code",
      "metadata": {
        "noteable": {
          "assign_results_to": "sql_df_2",
          "cell_type": "sql",
          "db_connection": "@a37175f02c134520ab7e873e53f898f3",
          "output_collection_id": "5bc7313a-5976-4737-b91b-57636c83e97b"
        },
        "ExecuteTime": {
          "end_time": "2023-09-23T17:11:10.629917+00:00",
          "start_time": "2023-09-23T17:10:52.931664+00:00"
        },
        "datalink": {
          "301d3add-833b-4eec-a843-f58228c71348": {
            "applied_filters": [],
            "dataframe_info": {
              "default_index_used": true,
              "orig_num_cols": 3,
              "orig_num_rows": 6,
              "orig_size_bytes": 192,
              "truncated_num_cols": 3,
              "truncated_num_rows": 6,
              "truncated_size_bytes": 192,
              "truncated_string_columns": []
            },
            "display_id": "301d3add-833b-4eec-a843-f58228c71348",
            "dx_settings": {
              "ALLOW_NOTEABLE_ATTRS": true,
              "COLUMN_SAMPLING_METHOD": "outer",
              "DB_LOCATION": ":memory:",
              "DEV_MODE": false,
              "DISPLAY_MAX_COLUMNS": 100,
              "DISPLAY_MAX_ROWS": 50000,
              "DISPLAY_MODE": "simple",
              "ENABLE_ASSIGNMENT": true,
              "ENABLE_DATALINK": true,
              "FLATTEN_COLUMN_VALUES": true,
              "FLATTEN_INDEX_VALUES": false,
              "GENERATE_DEX_METADATA": false,
              "HTML_TABLE_SCHEMA": false,
              "LOG_LEVEL": 30,
              "MAX_RENDER_SIZE_BYTES": 104857600,
              "MAX_STRING_LENGTH": 250,
              "NUM_PAST_SAMPLES_TRACKED": 3,
              "RANDOM_STATE": 12648430,
              "RESET_INDEX_VALUES": false,
              "ROW_SAMPLING_METHOD": "random",
              "SAMPLING_FACTOR": 0.1,
              "SAMPLING_METHOD": "random",
              "STRINGIFY_COLUMN_VALUES": true,
              "STRINGIFY_INDEX_VALUES": false
            },
            "sample_history": [],
            "sampling_time": "2023-09-23T17:11:10.468806",
            "user_variable_name": null,
            "variable_name": "unk_dataframe_c2fb92f193154d66acaed18c5c80bb2d"
          }
        },
        "dx": {
          "dashboard": {
            "multiViews": []
          },
          "fieldMetadata": {
            "Kind": {
              "columnPosition": 4
            },
            "Relation": {
              "columnPosition": 3,
              "width": 326
            },
            "Schema": {
              "columnPosition": 2
            },
            "index": {
              "columnPosition": 1
            }
          },
          "updated": 1695489104442,
          "views": [
            {
              "annotationRules": [],
              "chart": {},
              "chartMode": "grid",
              "confoRules": [],
              "decoration": {
                "footer": "",
                "subtitle": "",
                "title": "Table"
              },
              "facets": [],
              "filterSettings": {
                "SHOW_FILTER_PANEL": true,
                "filters": []
              },
              "id": "first-view",
              "isDefault": true,
              "type": "public",
              "userID": ""
            },
            {
              "annotationRules": [],
              "chart": {},
              "chartMode": "grid",
              "confoRules": [],
              "decoration": {
                "footer": "",
                "subtitle": "",
                "title": "Table"
              },
              "facets": [],
              "filterSettings": {
                "SHOW_FILTER_PANEL": true,
                "filters": []
              },
              "id": "first-view",
              "isDefault": true,
              "isTransitory": true,
              "type": "public",
              "userID": ""
            }
          ]
        }
      },
      "execution_count": null,
      "source": "-- Execute this cell to return the list of tables\n-- and views within the default schema of this database\n-- (Use \\help to learn more options)\n\n\\list",
      "outputs": []
    },
    {
      "id": "584e0f19-4103-446d-ae4b-1c35ed2c266e",
      "cell_type": "code",
      "metadata": {
        "noteable": {
          "assign_results_to": "sql_df_3",
          "cell_type": "sql",
          "db_connection": "@a37175f02c134520ab7e873e53f898f3"
        }
      },
      "execution_count": null,
      "source": "SELECT *\nFROM ",
      "outputs": []
    },
    {
      "id": "a8e64952-a798-4965-9adc-ebfadee6cb4f",
      "cell_type": "code",
      "metadata": {
        "noteable": {
          "assign_results_to": "sql_df_4",
          "cell_type": "sql",
          "db_connection": "@a37175f02c134520ab7e873e53f898f3",
          "output_collection_id": "d8ca4c4f-8110-494e-95ba-cb1c089d884c"
        },
        "ExecuteTime": {
          "end_time": "2023-09-23T17:14:09.023689+00:00",
          "start_time": "2023-09-23T17:14:08.518143+00:00"
        },
        "datalink": {
          "33e0bac4-7ca9-4d2b-882a-b3f64fcbdbad": {
            "applied_filters": [],
            "dataframe_info": {
              "default_index_used": true,
              "orig_num_cols": 3,
              "orig_num_rows": 3,
              "orig_size_bytes": 96,
              "truncated_num_cols": 3,
              "truncated_num_rows": 3,
              "truncated_size_bytes": 96,
              "truncated_string_columns": []
            },
            "display_id": "33e0bac4-7ca9-4d2b-882a-b3f64fcbdbad",
            "dx_settings": {
              "ALLOW_NOTEABLE_ATTRS": true,
              "COLUMN_SAMPLING_METHOD": "outer",
              "DB_LOCATION": ":memory:",
              "DEV_MODE": false,
              "DISPLAY_MAX_COLUMNS": 100,
              "DISPLAY_MAX_ROWS": 50000,
              "DISPLAY_MODE": "simple",
              "ENABLE_ASSIGNMENT": true,
              "ENABLE_DATALINK": true,
              "FLATTEN_COLUMN_VALUES": true,
              "FLATTEN_INDEX_VALUES": false,
              "GENERATE_DEX_METADATA": false,
              "HTML_TABLE_SCHEMA": false,
              "LOG_LEVEL": 30,
              "MAX_RENDER_SIZE_BYTES": 104857600,
              "MAX_STRING_LENGTH": 250,
              "NUM_PAST_SAMPLES_TRACKED": 3,
              "RANDOM_STATE": 12648430,
              "RESET_INDEX_VALUES": false,
              "ROW_SAMPLING_METHOD": "random",
              "SAMPLING_FACTOR": 0.1,
              "SAMPLING_METHOD": "random",
              "STRINGIFY_COLUMN_VALUES": true,
              "STRINGIFY_INDEX_VALUES": false
            },
            "sample_history": [],
            "sampling_time": "2023-09-23T17:14:08.865768",
            "user_variable_name": null,
            "variable_name": "unk_dataframe_9957dc8506894a2bacfc8b2b9e7290d9"
          }
        }
      },
      "execution_count": null,
      "source": "-- Execute this cell to return the list of tables\n-- and views within the Fossils schema of this database\n-- (Use \\help to learn more options)\n\n\\list Fossils.*",
      "outputs": []
    },
    {
      "id": "78dd3e7d",
      "cell_type": "code",
      "metadata": {
        "noteable": {
          "output_collection_id": "40ccf513-4221-43ea-89b1-99c9f2371ceb"
        },
        "ExecuteTime": {
          "end_time": "2023-09-23T16:32:53.343578+00:00",
          "start_time": "2023-09-23T16:32:52.187009+00:00"
        }
      },
      "execution_count": null,
      "source": "import pandas as pd\n\nrdd_budget_xls = pd.ExcelFile('../../datasets/Excel data/IEA_Energy_RDD_selected_data.xlsx')\npublic_rdd = pd.read_excel(rdd_budget_xls, 'Public RD&D', skiprows=[0])\necon_indicators = pd.read_excel(rdd_budget_xls, 'Economic Indicators', skiprows=[0])\n\nprint(public_rdd.head(), '\\n'*5, econ_indicators.head() )",
      "outputs": []
    },
    {
      "id": "cc053736-081b-4f21-a453-3f1dc0ef00f2",
      "cell_type": "code",
      "metadata": {
        "jupyter": {
          "outputs_hidden": false,
          "source_hidden": false
        },
        "noteable": {
          "cell_type": "code",
          "output_collection_id": "4effcefb-67c2-4605-9dbc-1adbd13ab1a0"
        },
        "ExecuteTime": {
          "end_time": "2023-09-23T16:30:19.720801+00:00",
          "start_time": "2023-09-23T16:30:19.564054+00:00"
        }
      },
      "execution_count": null,
      "source": "import pandas as pd",
      "outputs": []
    },
    {
      "id": "d3fd804d-459d-4b1e-b254-942c8282eddc",
      "cell_type": "code",
      "metadata": {
        "jupyter": {
          "outputs_hidden": false,
          "source_hidden": false
        },
        "noteable": {
          "cell_type": "code",
          "output_collection_id": "256e36f8-0fc6-488a-81c4-f18a7af81680"
        },
        "ExecuteTime": {
          "end_time": "2023-09-23T16:34:25.531910+00:00",
          "start_time": "2023-09-23T16:34:25.341354+00:00"
        }
      },
      "execution_count": null,
      "source": "rdd_budget_xls = pd.ExcelFile('../../datasets/Excel data/IEA_Energy_RDD_selected_data.xlsx')",
      "outputs": []
    },
    {
      "id": "848d2f27-9bb9-46b2-8949-f6fa3aee43dc",
      "cell_type": "code",
      "metadata": {
        "jupyter": {
          "outputs_hidden": false,
          "source_hidden": false
        },
        "noteable": {
          "cell_type": "code",
          "output_collection_id": "55806097-d7ee-462a-a927-85eba50b931f"
        },
        "ExecuteTime": {
          "end_time": "2023-09-23T16:30:39.579482+00:00",
          "start_time": "2023-09-23T16:30:39.420830+00:00"
        }
      },
      "execution_count": null,
      "source": "type(rdd_budget_xls)",
      "outputs": []
    }
  ]
}