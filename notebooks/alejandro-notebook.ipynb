{
  "nbformat": 4,
  "nbformat_minor": 5,
  "metadata": {
    "kernel_info": {
      "name": "python3"
    },
    "kernelspec": {
      "display_name": "Python 3.9",
      "language": "python",
      "name": "python3"
    },
    "selected_hardware_size": "small",
    "noteable": {
      "db_connection": "@a37175f02c134520ab7e873e53f898f3"
    }
  },
  "cells": [
    {
      "id": "4f4b2721-a5fc-4e65-be14-289727201652",
      "cell_type": "markdown",
      "source": "# Exploring Database Tables",
      "metadata": {
        "noteable": {
          "cell_type": "markdown"
        }
      }
    },
    {
      "id": "a8e64952-a798-4965-9adc-ebfadee6cb4f",
      "cell_type": "code",
      "metadata": {
        "noteable": {
          "assign_results_to": "sql_df_4",
          "cell_type": "sql",
          "db_connection": "@a37175f02c134520ab7e873e53f898f3",
          "output_collection_id": "d8ca4c4f-8110-494e-95ba-cb1c089d884c"
        },
        "ExecuteTime": {
          "end_time": "2023-09-23T17:14:09.023689+00:00",
          "start_time": "2023-09-23T17:14:08.518143+00:00"
        },
        "datalink": {
          "33e0bac4-7ca9-4d2b-882a-b3f64fcbdbad": {
            "applied_filters": [],
            "dataframe_info": {
              "default_index_used": true,
              "orig_num_cols": 3,
              "orig_num_rows": 3,
              "orig_size_bytes": 96,
              "truncated_num_cols": 3,
              "truncated_num_rows": 3,
              "truncated_size_bytes": 96,
              "truncated_string_columns": []
            },
            "display_id": "33e0bac4-7ca9-4d2b-882a-b3f64fcbdbad",
            "dx_settings": {
              "ALLOW_NOTEABLE_ATTRS": true,
              "COLUMN_SAMPLING_METHOD": "outer",
              "DB_LOCATION": ":memory:",
              "DEV_MODE": false,
              "DISPLAY_MAX_COLUMNS": 100,
              "DISPLAY_MAX_ROWS": 50000,
              "DISPLAY_MODE": "simple",
              "ENABLE_ASSIGNMENT": true,
              "ENABLE_DATALINK": true,
              "FLATTEN_COLUMN_VALUES": true,
              "FLATTEN_INDEX_VALUES": false,
              "GENERATE_DEX_METADATA": false,
              "HTML_TABLE_SCHEMA": false,
              "LOG_LEVEL": 30,
              "MAX_RENDER_SIZE_BYTES": 104857600,
              "MAX_STRING_LENGTH": 250,
              "NUM_PAST_SAMPLES_TRACKED": 3,
              "RANDOM_STATE": 12648430,
              "RESET_INDEX_VALUES": false,
              "ROW_SAMPLING_METHOD": "random",
              "SAMPLING_FACTOR": 0.1,
              "SAMPLING_METHOD": "random",
              "STRINGIFY_COLUMN_VALUES": true,
              "STRINGIFY_INDEX_VALUES": false
            },
            "sample_history": [],
            "sampling_time": "2023-09-23T17:14:08.865768",
            "user_variable_name": null,
            "variable_name": "unk_dataframe_9957dc8506894a2bacfc8b2b9e7290d9"
          }
        }
      },
      "execution_count": null,
      "source": "-- Execute this cell to return the list of tables\n-- and views within the Fossils schema of this database\n-- (Use \\help to learn more options)\n\n\\list Fossils.*",
      "outputs": []
    },
    {
      "id": "05c90a52-865e-45b7-8be6-cfd0a6095a85",
      "cell_type": "code",
      "metadata": {
        "noteable": {
          "assign_results_to": "sql_df_2",
          "cell_type": "sql",
          "db_connection": "@a37175f02c134520ab7e873e53f898f3",
          "output_collection_id": "5bc7313a-5976-4737-b91b-57636c83e97b"
        },
        "ExecuteTime": {
          "end_time": "2023-09-23T17:11:10.629917+00:00",
          "start_time": "2023-09-23T17:10:52.931664+00:00"
        },
        "datalink": {
          "301d3add-833b-4eec-a843-f58228c71348": {
            "applied_filters": [],
            "dataframe_info": {
              "default_index_used": true,
              "orig_num_cols": 3,
              "orig_num_rows": 6,
              "orig_size_bytes": 192,
              "truncated_num_cols": 3,
              "truncated_num_rows": 6,
              "truncated_size_bytes": 192,
              "truncated_string_columns": []
            },
            "display_id": "301d3add-833b-4eec-a843-f58228c71348",
            "dx_settings": {
              "ALLOW_NOTEABLE_ATTRS": true,
              "COLUMN_SAMPLING_METHOD": "outer",
              "DB_LOCATION": ":memory:",
              "DEV_MODE": false,
              "DISPLAY_MAX_COLUMNS": 100,
              "DISPLAY_MAX_ROWS": 50000,
              "DISPLAY_MODE": "simple",
              "ENABLE_ASSIGNMENT": true,
              "ENABLE_DATALINK": true,
              "FLATTEN_COLUMN_VALUES": true,
              "FLATTEN_INDEX_VALUES": false,
              "GENERATE_DEX_METADATA": false,
              "HTML_TABLE_SCHEMA": false,
              "LOG_LEVEL": 30,
              "MAX_RENDER_SIZE_BYTES": 104857600,
              "MAX_STRING_LENGTH": 250,
              "NUM_PAST_SAMPLES_TRACKED": 3,
              "RANDOM_STATE": 12648430,
              "RESET_INDEX_VALUES": false,
              "ROW_SAMPLING_METHOD": "random",
              "SAMPLING_FACTOR": 0.1,
              "SAMPLING_METHOD": "random",
              "STRINGIFY_COLUMN_VALUES": true,
              "STRINGIFY_INDEX_VALUES": false
            },
            "sample_history": [],
            "sampling_time": "2023-09-23T17:11:10.468806",
            "user_variable_name": null,
            "variable_name": "unk_dataframe_c2fb92f193154d66acaed18c5c80bb2d"
          }
        },
        "dx": {
          "dashboard": {
            "multiViews": []
          },
          "fieldMetadata": {
            "Kind": {
              "columnPosition": 4
            },
            "Relation": {
              "columnPosition": 3,
              "width": 326
            },
            "Schema": {
              "columnPosition": 2
            },
            "index": {
              "columnPosition": 1
            }
          },
          "updated": 1695489104442,
          "views": [
            {
              "annotationRules": [],
              "chart": {},
              "chartMode": "grid",
              "confoRules": [],
              "decoration": {
                "footer": "",
                "subtitle": "",
                "title": "Table"
              },
              "facets": [],
              "filterSettings": {
                "SHOW_FILTER_PANEL": true,
                "filters": []
              },
              "id": "first-view",
              "isDefault": true,
              "type": "public",
              "userID": ""
            },
            {
              "annotationRules": [],
              "chart": {},
              "chartMode": "grid",
              "confoRules": [],
              "decoration": {
                "footer": "",
                "subtitle": "",
                "title": "Table"
              },
              "facets": [],
              "filterSettings": {
                "SHOW_FILTER_PANEL": true,
                "filters": []
              },
              "id": "first-view",
              "isDefault": true,
              "isTransitory": true,
              "type": "public",
              "userID": ""
            }
          ]
        }
      },
      "execution_count": null,
      "source": "-- Execute this cell to return the list of tables\n-- and views within the default schema of this database\n-- (Use \\help to learn more options)\n\n\\list",
      "outputs": []
    },
    {
      "id": "584e0f19-4103-446d-ae4b-1c35ed2c266e",
      "cell_type": "code",
      "metadata": {
        "noteable": {
          "assign_results_to": "sql_df_3",
          "cell_type": "sql",
          "db_connection": "@a37175f02c134520ab7e873e53f898f3",
          "output_collection_id": "3e27733e-92f8-43b9-800a-eaa3d67432b9"
        },
        "ExecuteTime": {
          "end_time": "2023-09-23T17:23:51.174636+00:00",
          "start_time": "2023-09-23T17:23:50.635667+00:00"
        },
        "datalink": {
          "5895f844-f3bf-47b4-ab31-bab9d7b68291": {
            "applied_filters": [],
            "dataframe_info": {
              "default_index_used": true,
              "orig_num_cols": 5,
              "orig_num_rows": 10,
              "orig_size_bytes": 480,
              "truncated_num_cols": 5,
              "truncated_num_rows": 10,
              "truncated_size_bytes": 480,
              "truncated_string_columns": []
            },
            "display_id": "5895f844-f3bf-47b4-ab31-bab9d7b68291",
            "dx_settings": {
              "ALLOW_NOTEABLE_ATTRS": true,
              "COLUMN_SAMPLING_METHOD": "outer",
              "DB_LOCATION": ":memory:",
              "DEV_MODE": false,
              "DISPLAY_MAX_COLUMNS": 100,
              "DISPLAY_MAX_ROWS": 50000,
              "DISPLAY_MODE": "simple",
              "ENABLE_ASSIGNMENT": true,
              "ENABLE_DATALINK": true,
              "FLATTEN_COLUMN_VALUES": true,
              "FLATTEN_INDEX_VALUES": false,
              "GENERATE_DEX_METADATA": false,
              "HTML_TABLE_SCHEMA": false,
              "LOG_LEVEL": 30,
              "MAX_RENDER_SIZE_BYTES": 104857600,
              "MAX_STRING_LENGTH": 250,
              "NUM_PAST_SAMPLES_TRACKED": 3,
              "RANDOM_STATE": 12648430,
              "RESET_INDEX_VALUES": false,
              "ROW_SAMPLING_METHOD": "random",
              "SAMPLING_FACTOR": 0.1,
              "SAMPLING_METHOD": "random",
              "STRINGIFY_COLUMN_VALUES": true,
              "STRINGIFY_INDEX_VALUES": false
            },
            "sample_history": [],
            "sampling_time": "2023-09-23T17:15:23.336349",
            "user_variable_name": "sql_df_3",
            "variable_name": "sql_df_3"
          },
          "4c12dfa6-9d04-425e-b0dc-08b2d3112591": {
            "applied_filters": [],
            "dataframe_info": {
              "default_index_used": true,
              "orig_num_cols": 1,
              "orig_num_rows": 10,
              "orig_size_bytes": 160,
              "truncated_num_cols": 1,
              "truncated_num_rows": 10,
              "truncated_size_bytes": 160,
              "truncated_string_columns": []
            },
            "display_id": "4c12dfa6-9d04-425e-b0dc-08b2d3112591",
            "dx_settings": {
              "ALLOW_NOTEABLE_ATTRS": true,
              "COLUMN_SAMPLING_METHOD": "outer",
              "DB_LOCATION": ":memory:",
              "DEV_MODE": false,
              "DISPLAY_MAX_COLUMNS": 100,
              "DISPLAY_MAX_ROWS": 50000,
              "DISPLAY_MODE": "simple",
              "ENABLE_ASSIGNMENT": true,
              "ENABLE_DATALINK": true,
              "FLATTEN_COLUMN_VALUES": true,
              "FLATTEN_INDEX_VALUES": false,
              "GENERATE_DEX_METADATA": false,
              "HTML_TABLE_SCHEMA": false,
              "LOG_LEVEL": 30,
              "MAX_RENDER_SIZE_BYTES": 104857600,
              "MAX_STRING_LENGTH": 250,
              "NUM_PAST_SAMPLES_TRACKED": 3,
              "RANDOM_STATE": 12648430,
              "RESET_INDEX_VALUES": false,
              "ROW_SAMPLING_METHOD": "random",
              "SAMPLING_FACTOR": 0.1,
              "SAMPLING_METHOD": "random",
              "STRINGIFY_COLUMN_VALUES": true,
              "STRINGIFY_INDEX_VALUES": false
            },
            "sample_history": [],
            "sampling_time": "2023-09-23T17:22:24.930545",
            "user_variable_name": "sql_df_3",
            "variable_name": "sql_df_3"
          },
          "d2d2d3c9-02e2-47a0-b42f-9368d3c030d8": {
            "applied_filters": [],
            "dataframe_info": {
              "default_index_used": true,
              "orig_num_cols": 1,
              "orig_num_rows": 10,
              "orig_size_bytes": 160,
              "truncated_num_cols": 1,
              "truncated_num_rows": 10,
              "truncated_size_bytes": 160,
              "truncated_string_columns": []
            },
            "display_id": "d2d2d3c9-02e2-47a0-b42f-9368d3c030d8",
            "dx_settings": {
              "ALLOW_NOTEABLE_ATTRS": true,
              "COLUMN_SAMPLING_METHOD": "outer",
              "DB_LOCATION": ":memory:",
              "DEV_MODE": false,
              "DISPLAY_MAX_COLUMNS": 100,
              "DISPLAY_MAX_ROWS": 50000,
              "DISPLAY_MODE": "simple",
              "ENABLE_ASSIGNMENT": true,
              "ENABLE_DATALINK": true,
              "FLATTEN_COLUMN_VALUES": true,
              "FLATTEN_INDEX_VALUES": false,
              "GENERATE_DEX_METADATA": false,
              "HTML_TABLE_SCHEMA": false,
              "LOG_LEVEL": 30,
              "MAX_RENDER_SIZE_BYTES": 104857600,
              "MAX_STRING_LENGTH": 250,
              "NUM_PAST_SAMPLES_TRACKED": 3,
              "RANDOM_STATE": 12648430,
              "RESET_INDEX_VALUES": false,
              "ROW_SAMPLING_METHOD": "random",
              "SAMPLING_FACTOR": 0.1,
              "SAMPLING_METHOD": "random",
              "STRINGIFY_COLUMN_VALUES": true,
              "STRINGIFY_INDEX_VALUES": false
            },
            "sample_history": [],
            "sampling_time": "2023-09-23T17:23:00.267085",
            "user_variable_name": "sql_df_3",
            "variable_name": "sql_df_3"
          },
          "c95f2060-9ffd-4767-82cb-e1bb6b7b8182": {
            "applied_filters": [],
            "dataframe_info": {
              "default_index_used": true,
              "orig_num_cols": 1,
              "orig_num_rows": 34,
              "orig_size_bytes": 544,
              "truncated_num_cols": 1,
              "truncated_num_rows": 34,
              "truncated_size_bytes": 544,
              "truncated_string_columns": []
            },
            "display_id": "c95f2060-9ffd-4767-82cb-e1bb6b7b8182",
            "dx_settings": {
              "ALLOW_NOTEABLE_ATTRS": true,
              "COLUMN_SAMPLING_METHOD": "outer",
              "DB_LOCATION": ":memory:",
              "DEV_MODE": false,
              "DISPLAY_MAX_COLUMNS": 100,
              "DISPLAY_MAX_ROWS": 50000,
              "DISPLAY_MODE": "simple",
              "ENABLE_ASSIGNMENT": true,
              "ENABLE_DATALINK": true,
              "FLATTEN_COLUMN_VALUES": true,
              "FLATTEN_INDEX_VALUES": false,
              "GENERATE_DEX_METADATA": false,
              "HTML_TABLE_SCHEMA": false,
              "LOG_LEVEL": 30,
              "MAX_RENDER_SIZE_BYTES": 104857600,
              "MAX_STRING_LENGTH": 250,
              "NUM_PAST_SAMPLES_TRACKED": 3,
              "RANDOM_STATE": 12648430,
              "RESET_INDEX_VALUES": false,
              "ROW_SAMPLING_METHOD": "random",
              "SAMPLING_FACTOR": 0.1,
              "SAMPLING_METHOD": "random",
              "STRINGIFY_COLUMN_VALUES": true,
              "STRINGIFY_INDEX_VALUES": false
            },
            "sample_history": [],
            "sampling_time": "2023-09-23T17:23:08.519565",
            "user_variable_name": "sql_df_3",
            "variable_name": "sql_df_3"
          },
          "82d403af-181d-4e97-a921-34f32f0aa092": {
            "applied_filters": [],
            "dataframe_info": {
              "default_index_used": true,
              "orig_num_cols": 5,
              "orig_num_rows": 100,
              "orig_size_bytes": 4800,
              "truncated_num_cols": 5,
              "truncated_num_rows": 100,
              "truncated_size_bytes": 4800,
              "truncated_string_columns": []
            },
            "display_id": "82d403af-181d-4e97-a921-34f32f0aa092",
            "dx_settings": {
              "ALLOW_NOTEABLE_ATTRS": true,
              "COLUMN_SAMPLING_METHOD": "outer",
              "DB_LOCATION": ":memory:",
              "DEV_MODE": false,
              "DISPLAY_MAX_COLUMNS": 100,
              "DISPLAY_MAX_ROWS": 50000,
              "DISPLAY_MODE": "simple",
              "ENABLE_ASSIGNMENT": true,
              "ENABLE_DATALINK": true,
              "FLATTEN_COLUMN_VALUES": true,
              "FLATTEN_INDEX_VALUES": false,
              "GENERATE_DEX_METADATA": false,
              "HTML_TABLE_SCHEMA": false,
              "LOG_LEVEL": 30,
              "MAX_RENDER_SIZE_BYTES": 104857600,
              "MAX_STRING_LENGTH": 250,
              "NUM_PAST_SAMPLES_TRACKED": 3,
              "RANDOM_STATE": 12648430,
              "RESET_INDEX_VALUES": false,
              "ROW_SAMPLING_METHOD": "random",
              "SAMPLING_FACTOR": 0.1,
              "SAMPLING_METHOD": "random",
              "STRINGIFY_COLUMN_VALUES": true,
              "STRINGIFY_INDEX_VALUES": false
            },
            "sample_history": [],
            "sampling_time": "2023-09-23T17:23:51.014652",
            "user_variable_name": "sql_df_3",
            "variable_name": "sql_df_3"
          }
        }
      },
      "execution_count": null,
      "source": "-- Explore RDD_Country_Budget table\nSELECT *\nFROM Country_Budgets_Combined_Details\n-- GROUP BY COUNTRY;\nLIMIT 100;",
      "outputs": []
    },
    {
      "id": "8f19549b-610b-4268-9398-099a0bbb5814",
      "cell_type": "code",
      "metadata": {
        "noteable": {
          "assign_results_to": "sql_df_5",
          "cell_type": "sql",
          "db_connection": "@a37175f02c134520ab7e873e53f898f3",
          "output_collection_id": "b316fb6d-dedf-4588-b480-95bb5e0e4906"
        },
        "ExecuteTime": {
          "end_time": "2023-09-23T17:25:00.714838+00:00",
          "start_time": "2023-09-23T17:25:00.435572+00:00"
        },
        "datalink": {
          "c50ee2b6-adad-4ea2-8b0c-fae843a21772": {
            "applied_filters": [],
            "dataframe_info": {
              "default_index_used": true,
              "orig_num_cols": 1,
              "orig_num_rows": 9,
              "orig_size_bytes": 144,
              "truncated_num_cols": 1,
              "truncated_num_rows": 9,
              "truncated_size_bytes": 144,
              "truncated_string_columns": []
            },
            "display_id": "c50ee2b6-adad-4ea2-8b0c-fae843a21772",
            "dx_settings": {
              "ALLOW_NOTEABLE_ATTRS": true,
              "COLUMN_SAMPLING_METHOD": "outer",
              "DB_LOCATION": ":memory:",
              "DEV_MODE": false,
              "DISPLAY_MAX_COLUMNS": 100,
              "DISPLAY_MAX_ROWS": 50000,
              "DISPLAY_MODE": "simple",
              "ENABLE_ASSIGNMENT": true,
              "ENABLE_DATALINK": true,
              "FLATTEN_COLUMN_VALUES": true,
              "FLATTEN_INDEX_VALUES": false,
              "GENERATE_DEX_METADATA": false,
              "HTML_TABLE_SCHEMA": false,
              "LOG_LEVEL": 30,
              "MAX_RENDER_SIZE_BYTES": 104857600,
              "MAX_STRING_LENGTH": 250,
              "NUM_PAST_SAMPLES_TRACKED": 3,
              "RANDOM_STATE": 12648430,
              "RESET_INDEX_VALUES": false,
              "ROW_SAMPLING_METHOD": "random",
              "SAMPLING_FACTOR": 0.1,
              "SAMPLING_METHOD": "random",
              "STRINGIFY_COLUMN_VALUES": true,
              "STRINGIFY_INDEX_VALUES": false
            },
            "sample_history": [],
            "sampling_time": "2023-09-23T17:25:00.555207",
            "user_variable_name": "sql_df_5",
            "variable_name": "sql_df_5"
          }
        }
      },
      "execution_count": null,
      "source": "-- Explore RDD_Country_Budget table by PRODUCT\nSELECT PRODUCT\nFROM Country_Budgets_Combined_Details\nGROUP BY PRODUCT\nLIMIT 100;",
      "outputs": []
    },
    {
      "id": "0678d21b-ea56-42a6-b448-2b70548cfd81",
      "cell_type": "code",
      "metadata": {
        "noteable": {
          "assign_results_to": "sql_df_6",
          "cell_type": "sql",
          "db_connection": "@a37175f02c134520ab7e873e53f898f3",
          "output_collection_id": "b23df1b1-5517-4054-b84d-e65954042c69"
        },
        "ExecuteTime": {
          "end_time": "2023-09-23T17:48:21.712618+00:00",
          "start_time": "2023-09-23T17:48:21.319948+00:00"
        },
        "datalink": {
          "22c98ba3-f2f8-457f-b56d-a451a78f5f81": {
            "applied_filters": [],
            "dataframe_info": {
              "default_index_used": true,
              "orig_num_cols": 4,
              "orig_num_rows": 100,
              "orig_size_bytes": 4000,
              "truncated_num_cols": 4,
              "truncated_num_rows": 100,
              "truncated_size_bytes": 4000,
              "truncated_string_columns": []
            },
            "display_id": "22c98ba3-f2f8-457f-b56d-a451a78f5f81",
            "dx_settings": {
              "ALLOW_NOTEABLE_ATTRS": true,
              "COLUMN_SAMPLING_METHOD": "outer",
              "DB_LOCATION": ":memory:",
              "DEV_MODE": false,
              "DISPLAY_MAX_COLUMNS": 100,
              "DISPLAY_MAX_ROWS": 50000,
              "DISPLAY_MODE": "simple",
              "ENABLE_ASSIGNMENT": true,
              "ENABLE_DATALINK": true,
              "FLATTEN_COLUMN_VALUES": true,
              "FLATTEN_INDEX_VALUES": false,
              "GENERATE_DEX_METADATA": false,
              "HTML_TABLE_SCHEMA": false,
              "LOG_LEVEL": 30,
              "MAX_RENDER_SIZE_BYTES": 104857600,
              "MAX_STRING_LENGTH": 250,
              "NUM_PAST_SAMPLES_TRACKED": 3,
              "RANDOM_STATE": 12648430,
              "RESET_INDEX_VALUES": false,
              "ROW_SAMPLING_METHOD": "random",
              "SAMPLING_FACTOR": 0.1,
              "SAMPLING_METHOD": "random",
              "STRINGIFY_COLUMN_VALUES": true,
              "STRINGIFY_INDEX_VALUES": false
            },
            "sample_history": [],
            "sampling_time": "2023-09-23T17:48:04.092214",
            "user_variable_name": "sql_df_6",
            "variable_name": "sql_df_6"
          },
          "428a0c00-b9a0-49ca-a8ab-f9a943f42023": {
            "applied_filters": [],
            "dataframe_info": {
              "default_index_used": true,
              "orig_num_cols": 1,
              "orig_num_rows": 1,
              "orig_size_bytes": 16,
              "truncated_num_cols": 1,
              "truncated_num_rows": 1,
              "truncated_size_bytes": 16,
              "truncated_string_columns": []
            },
            "display_id": "428a0c00-b9a0-49ca-a8ab-f9a943f42023",
            "dx_settings": {
              "ALLOW_NOTEABLE_ATTRS": true,
              "COLUMN_SAMPLING_METHOD": "outer",
              "DB_LOCATION": ":memory:",
              "DEV_MODE": false,
              "DISPLAY_MAX_COLUMNS": 100,
              "DISPLAY_MAX_ROWS": 50000,
              "DISPLAY_MODE": "simple",
              "ENABLE_ASSIGNMENT": true,
              "ENABLE_DATALINK": true,
              "FLATTEN_COLUMN_VALUES": true,
              "FLATTEN_INDEX_VALUES": false,
              "GENERATE_DEX_METADATA": false,
              "HTML_TABLE_SCHEMA": false,
              "LOG_LEVEL": 30,
              "MAX_RENDER_SIZE_BYTES": 104857600,
              "MAX_STRING_LENGTH": 250,
              "NUM_PAST_SAMPLES_TRACKED": 3,
              "RANDOM_STATE": 12648430,
              "RESET_INDEX_VALUES": false,
              "ROW_SAMPLING_METHOD": "random",
              "SAMPLING_FACTOR": 0.1,
              "SAMPLING_METHOD": "random",
              "STRINGIFY_COLUMN_VALUES": true,
              "STRINGIFY_INDEX_VALUES": false
            },
            "sample_history": [],
            "sampling_time": "2023-09-23T17:48:21.554111",
            "user_variable_name": "sql_df_6",
            "variable_name": "sql_df_6"
          }
        }
      },
      "execution_count": null,
      "source": "-- Explore RDD_Country_Budget table by PRODUCT\nSELECT PRODUCT\nFROM PERGDP\nGROUP BY PRODUCT\nLIMIT 100;",
      "outputs": []
    }
  ]
}