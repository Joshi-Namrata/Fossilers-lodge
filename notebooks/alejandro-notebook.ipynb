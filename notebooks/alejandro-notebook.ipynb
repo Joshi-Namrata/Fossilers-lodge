{
  "nbformat": 4,
  "nbformat_minor": 5,
  "metadata": {
    "kernel_info": {
      "name": "python3.9-noteable"
    },
    "kernelspec": {
      "display_name": "Python 3.9 (Noteable)",
      "language": "python",
      "name": "python3.9-noteable"
    },
    "selected_hardware_size": "small"
  },
  "cells": [
    {
      "id": "2c1eac0a-96e5-475b-8d70-5caaf35d2219",
      "cell_type": "code",
      "metadata": {
        "jupyter": {
          "outputs_hidden": false,
          "source_hidden": false
        },
        "noteable": {
          "cell_type": "code",
          "output_collection_id": "b1142611-7866-4557-843a-d1553b397845"
        },
        "ExecuteTime": {
          "end_time": "2023-09-23T16:29:30.987422+00:00",
          "start_time": "2023-09-23T16:29:30.591444+00:00"
        }
      },
      "execution_count": null,
      "source": "%ntbl pull datasets \"Excel data/IEA_Energy_RDD_selected_data.xlsx\"",
      "outputs": []
    },
    {
      "id": "78dd3e7d",
      "cell_type": "code",
      "metadata": {
        "noteable": {
          "output_collection_id": "40ccf513-4221-43ea-89b1-99c9f2371ceb"
        },
        "ExecuteTime": {
          "end_time": "2023-09-23T16:32:53.343578+00:00",
          "start_time": "2023-09-23T16:32:52.187009+00:00"
        }
      },
      "execution_count": null,
      "source": "import pandas as pd\n\nrdd_budget_xls = pd.ExcelFile('../../datasets/Excel data/IEA_Energy_RDD_selected_data.xlsx')\npublic_rdd = pd.read_excel(rdd_budget_xls, 'Public RD&D', skiprows=[0])\necon_indicators = pd.read_excel(rdd_budget_xls, 'Economic Indicators', skiprows=[0])\n\nprint(public_rdd.head(), '\\n'*5, econ_indicators.head() )",
      "outputs": []
    },
    {
      "id": "cc053736-081b-4f21-a453-3f1dc0ef00f2",
      "cell_type": "code",
      "metadata": {
        "jupyter": {
          "outputs_hidden": false,
          "source_hidden": false
        },
        "noteable": {
          "cell_type": "code",
          "output_collection_id": "4effcefb-67c2-4605-9dbc-1adbd13ab1a0"
        },
        "ExecuteTime": {
          "end_time": "2023-09-23T16:30:19.720801+00:00",
          "start_time": "2023-09-23T16:30:19.564054+00:00"
        }
      },
      "execution_count": null,
      "source": "import pandas as pd",
      "outputs": []
    },
    {
      "id": "d3fd804d-459d-4b1e-b254-942c8282eddc",
      "cell_type": "code",
      "metadata": {
        "jupyter": {
          "outputs_hidden": false,
          "source_hidden": false
        },
        "noteable": {
          "cell_type": "code",
          "output_collection_id": "fea17764-96a7-465a-9a8c-a9fc5fb566e1"
        },
        "ExecuteTime": {
          "end_time": "2023-09-23T16:30:21.658837+00:00",
          "start_time": "2023-09-23T16:30:21.465970+00:00"
        }
      },
      "execution_count": null,
      "source": "rdd_budget_xls = pd.ExcelFile('../../datasets/Excel data/IEA_Energy_RDD_selected_data.xlsx')",
      "outputs": []
    },
    {
      "id": "848d2f27-9bb9-46b2-8949-f6fa3aee43dc",
      "cell_type": "code",
      "metadata": {
        "jupyter": {
          "outputs_hidden": false,
          "source_hidden": false
        },
        "noteable": {
          "cell_type": "code",
          "output_collection_id": "55806097-d7ee-462a-a927-85eba50b931f"
        },
        "ExecuteTime": {
          "end_time": "2023-09-23T16:30:39.579482+00:00",
          "start_time": "2023-09-23T16:30:39.420830+00:00"
        }
      },
      "execution_count": null,
      "source": "type(rdd_budget_xls)",
      "outputs": []
    },
    {
      "id": "e0ca368a-d5ec-46b1-9c93-9cd1d0abc155",
      "cell_type": "code",
      "metadata": {
        "jupyter": {
          "outputs_hidden": false,
          "source_hidden": false
        },
        "noteable": {
          "cell_type": "code",
          "output_collection_id": "7ce564d2-e68f-42bd-89fc-bfd85305ac68"
        },
        "ExecuteTime": {
          "end_time": "2023-09-23T16:28:43.144177+00:00",
          "start_time": "2023-09-23T16:28:42.987896+00:00"
        }
      },
      "execution_count": null,
      "source": "import os\nprint(os.getcwd())",
      "outputs": []
    }
  ]
}