{
  "nbformat": 4,
  "nbformat_minor": 5,
  "metadata": {
    "kernel_info": {
      "name": "python3"
    },
    "kernelspec": {
      "display_name": "Python 3.9",
      "language": "python",
      "name": "python3"
    },
    "selected_hardware_size": "small",
    "noteable": {
      "db_connection": "@a37175f02c134520ab7e873e53f898f3"
    }
  },
  "cells": [
    {
      "id": "bdb0c2de-e221-447d-9730-b0f17249fd98",
      "cell_type": "code",
      "metadata": {
        "noteable": {
          "cell_type": "python",
          "output_collection_id": "18b6efd8-7fd8-451c-ae41-c354f811e542"
        },
        "ExecuteTime": {
          "end_time": "2023-09-23T22:50:36.769406+00:00",
          "start_time": "2023-09-23T22:50:36.179025+00:00"
        }
      },
      "execution_count": null,
      "source": "import seaborn as sns\nimport matplotlib.pyplot as plt\nimport pandas as pd",
      "outputs": []
    },
    {
      "id": "4f4b2721-a5fc-4e65-be14-289727201652",
      "cell_type": "markdown",
      "source": "# Exploring Database Tables",
      "metadata": {
        "noteable": {
          "cell_type": "markdown"
        }
      }
    },
    {
      "id": "4f754941-16fa-48f0-b7c3-359bb667e5b6",
      "cell_type": "code",
      "metadata": {
        "noteable": {
          "assign_results_to": "sql_df_15",
          "cell_type": "sql",
          "db_connection": "@a37175f02c134520ab7e873e53f898f3",
          "output_collection_id": "028875ab-f48d-420f-a4a3-6512a6ec872a"
        },
        "ExecuteTime": {
          "end_time": "2023-09-23T22:57:30.642335+00:00",
          "start_time": "2023-09-23T22:57:30.103935+00:00"
        },
        "datalink": {
          "2aa6dbe9-e958-464d-8ce6-2a8475d1d0cd": {
            "applied_filters": [],
            "dataframe_info": {
              "default_index_used": true,
              "orig_num_cols": 3,
              "orig_num_rows": 3,
              "orig_size_bytes": 96,
              "truncated_num_cols": 3,
              "truncated_num_rows": 3,
              "truncated_size_bytes": 96,
              "truncated_string_columns": []
            },
            "display_id": "2aa6dbe9-e958-464d-8ce6-2a8475d1d0cd",
            "dx_settings": {
              "ALLOW_NOTEABLE_ATTRS": true,
              "COLUMN_SAMPLING_METHOD": "outer",
              "DB_LOCATION": ":memory:",
              "DEV_MODE": false,
              "DISPLAY_MAX_COLUMNS": 100,
              "DISPLAY_MAX_ROWS": 50000,
              "DISPLAY_MODE": "simple",
              "ENABLE_ASSIGNMENT": true,
              "ENABLE_DATALINK": true,
              "FLATTEN_COLUMN_VALUES": true,
              "FLATTEN_INDEX_VALUES": false,
              "GENERATE_DEX_METADATA": false,
              "HTML_TABLE_SCHEMA": false,
              "LOG_LEVEL": 30,
              "MAX_RENDER_SIZE_BYTES": 104857600,
              "MAX_STRING_LENGTH": 250,
              "NUM_PAST_SAMPLES_TRACKED": 3,
              "RANDOM_STATE": 12648430,
              "RESET_INDEX_VALUES": false,
              "ROW_SAMPLING_METHOD": "random",
              "SAMPLING_FACTOR": 0.1,
              "SAMPLING_METHOD": "random",
              "STRINGIFY_COLUMN_VALUES": true,
              "STRINGIFY_INDEX_VALUES": false
            },
            "sample_history": [],
            "sampling_time": "2023-09-23T22:57:30.483786",
            "user_variable_name": null,
            "variable_name": "unk_dataframe_cd10de9b43f448d180c0a532decb96f3"
          }
        }
      },
      "execution_count": null,
      "source": "-- Execute this cell to return the list of tables\n-- and views within the Fossils schema of this database\n-- (Use \\help to learn more options)\n\n\\list Fossils.*",
      "outputs": []
    },
    {
      "id": "05c90a52-865e-45b7-8be6-cfd0a6095a85",
      "cell_type": "code",
      "metadata": {
        "noteable": {
          "assign_results_to": "sql_df_2",
          "cell_type": "sql",
          "db_connection": "@a37175f02c134520ab7e873e53f898f3",
          "output_collection_id": "c5b52671-a798-466e-b1ca-24389df939e4"
        },
        "ExecuteTime": {
          "end_time": "2023-09-23T22:50:37.759592+00:00",
          "start_time": "2023-09-23T22:50:37.011540+00:00"
        },
        "datalink": {
          "301d3add-833b-4eec-a843-f58228c71348": {
            "applied_filters": [],
            "dataframe_info": {
              "default_index_used": true,
              "orig_num_cols": 3,
              "orig_num_rows": 6,
              "orig_size_bytes": 192,
              "truncated_num_cols": 3,
              "truncated_num_rows": 6,
              "truncated_size_bytes": 192,
              "truncated_string_columns": []
            },
            "display_id": "301d3add-833b-4eec-a843-f58228c71348",
            "dx_settings": {
              "ALLOW_NOTEABLE_ATTRS": true,
              "COLUMN_SAMPLING_METHOD": "outer",
              "DB_LOCATION": ":memory:",
              "DEV_MODE": false,
              "DISPLAY_MAX_COLUMNS": 100,
              "DISPLAY_MAX_ROWS": 50000,
              "DISPLAY_MODE": "simple",
              "ENABLE_ASSIGNMENT": true,
              "ENABLE_DATALINK": true,
              "FLATTEN_COLUMN_VALUES": true,
              "FLATTEN_INDEX_VALUES": false,
              "GENERATE_DEX_METADATA": false,
              "HTML_TABLE_SCHEMA": false,
              "LOG_LEVEL": 30,
              "MAX_RENDER_SIZE_BYTES": 104857600,
              "MAX_STRING_LENGTH": 250,
              "NUM_PAST_SAMPLES_TRACKED": 3,
              "RANDOM_STATE": 12648430,
              "RESET_INDEX_VALUES": false,
              "ROW_SAMPLING_METHOD": "random",
              "SAMPLING_FACTOR": 0.1,
              "SAMPLING_METHOD": "random",
              "STRINGIFY_COLUMN_VALUES": true,
              "STRINGIFY_INDEX_VALUES": false
            },
            "sample_history": [],
            "sampling_time": "2023-09-23T17:11:10.468806",
            "user_variable_name": null,
            "variable_name": "unk_dataframe_c2fb92f193154d66acaed18c5c80bb2d"
          },
          "038e7af2-cc5f-4377-8e74-ae7ee980f505": {
            "applied_filters": [],
            "dataframe_info": {
              "default_index_used": true,
              "orig_num_cols": 3,
              "orig_num_rows": 6,
              "orig_size_bytes": 192,
              "truncated_num_cols": 3,
              "truncated_num_rows": 6,
              "truncated_size_bytes": 192,
              "truncated_string_columns": []
            },
            "display_id": "038e7af2-cc5f-4377-8e74-ae7ee980f505",
            "dx_settings": {
              "ALLOW_NOTEABLE_ATTRS": true,
              "COLUMN_SAMPLING_METHOD": "outer",
              "DB_LOCATION": ":memory:",
              "DEV_MODE": false,
              "DISPLAY_MAX_COLUMNS": 100,
              "DISPLAY_MAX_ROWS": 50000,
              "DISPLAY_MODE": "simple",
              "ENABLE_ASSIGNMENT": true,
              "ENABLE_DATALINK": true,
              "FLATTEN_COLUMN_VALUES": true,
              "FLATTEN_INDEX_VALUES": false,
              "GENERATE_DEX_METADATA": false,
              "HTML_TABLE_SCHEMA": false,
              "LOG_LEVEL": 30,
              "MAX_RENDER_SIZE_BYTES": 104857600,
              "MAX_STRING_LENGTH": 250,
              "NUM_PAST_SAMPLES_TRACKED": 3,
              "RANDOM_STATE": 12648430,
              "RESET_INDEX_VALUES": false,
              "ROW_SAMPLING_METHOD": "random",
              "SAMPLING_FACTOR": 0.1,
              "SAMPLING_METHOD": "random",
              "STRINGIFY_COLUMN_VALUES": true,
              "STRINGIFY_INDEX_VALUES": false
            },
            "sample_history": [],
            "sampling_time": "2023-09-23T22:50:37.599691",
            "user_variable_name": null,
            "variable_name": "unk_dataframe_1d2b15b942f64142940605bd71dbb28f"
          }
        },
        "dx": {
          "dashboard": {
            "multiViews": []
          },
          "fieldMetadata": {
            "Kind": {
              "columnPosition": 4
            },
            "Relation": {
              "columnPosition": 3,
              "width": 326
            },
            "Schema": {
              "columnPosition": 2
            },
            "index": {
              "columnPosition": 1
            }
          },
          "updated": 1695489104442,
          "views": [
            {
              "annotationRules": [],
              "chart": {},
              "chartMode": "grid",
              "confoRules": [],
              "decoration": {
                "footer": "",
                "subtitle": "",
                "title": "Table"
              },
              "facets": [],
              "filterSettings": {
                "SHOW_FILTER_PANEL": true,
                "filters": []
              },
              "id": "first-view",
              "isDefault": true,
              "type": "public",
              "userID": ""
            },
            {
              "annotationRules": [],
              "chart": {},
              "chartMode": "grid",
              "confoRules": [],
              "decoration": {
                "footer": "",
                "subtitle": "",
                "title": "Table"
              },
              "facets": [],
              "filterSettings": {
                "SHOW_FILTER_PANEL": true,
                "filters": []
              },
              "id": "first-view",
              "isDefault": true,
              "isTransitory": true,
              "type": "public",
              "userID": ""
            }
          ]
        },
        "jupyter": {
          "outputs_hidden": false
        }
      },
      "execution_count": null,
      "source": "-- Execute this cell to return the list of tables\n-- and views within the default schema of this database\n-- (Use \\help to learn more options)\n\n\\list",
      "outputs": []
    },
    {
      "id": "e7aae0ab-d64d-42d8-9386-2631db3dc3f9",
      "cell_type": "code",
      "metadata": {
        "noteable": {
          "assign_results_to": "sql_df_7",
          "cell_type": "sql",
          "db_connection": "@a37175f02c134520ab7e873e53f898f3",
          "output_collection_id": "be33b9a1-4859-4f3e-b45c-609f8a554989"
        },
        "ExecuteTime": {
          "end_time": "2023-09-23T22:50:38.021325+00:00",
          "start_time": "2023-09-23T22:50:37.764867+00:00"
        },
        "datalink": {
          "1cc51260-26aa-4d8e-aa7d-f1fe421f3ae8": {
            "applied_filters": [],
            "dataframe_info": {
              "default_index_used": true,
              "orig_num_cols": 5,
              "orig_num_rows": 100,
              "orig_size_bytes": 4800,
              "truncated_num_cols": 5,
              "truncated_num_rows": 100,
              "truncated_size_bytes": 4800,
              "truncated_string_columns": []
            },
            "display_id": "1cc51260-26aa-4d8e-aa7d-f1fe421f3ae8",
            "dx_settings": {
              "ALLOW_NOTEABLE_ATTRS": true,
              "COLUMN_SAMPLING_METHOD": "outer",
              "DB_LOCATION": ":memory:",
              "DEV_MODE": false,
              "DISPLAY_MAX_COLUMNS": 100,
              "DISPLAY_MAX_ROWS": 50000,
              "DISPLAY_MODE": "simple",
              "ENABLE_ASSIGNMENT": true,
              "ENABLE_DATALINK": true,
              "FLATTEN_COLUMN_VALUES": true,
              "FLATTEN_INDEX_VALUES": false,
              "GENERATE_DEX_METADATA": false,
              "HTML_TABLE_SCHEMA": false,
              "LOG_LEVEL": 30,
              "MAX_RENDER_SIZE_BYTES": 104857600,
              "MAX_STRING_LENGTH": 250,
              "NUM_PAST_SAMPLES_TRACKED": 3,
              "RANDOM_STATE": 12648430,
              "RESET_INDEX_VALUES": false,
              "ROW_SAMPLING_METHOD": "random",
              "SAMPLING_FACTOR": 0.1,
              "SAMPLING_METHOD": "random",
              "STRINGIFY_COLUMN_VALUES": true,
              "STRINGIFY_INDEX_VALUES": false
            },
            "sample_history": [],
            "sampling_time": "2023-09-23T18:14:26.957956",
            "user_variable_name": "sql_df_7",
            "variable_name": "sql_df_7"
          },
          "e17a4456-3834-4fbc-9f35-5da5783bb4f9": {
            "applied_filters": [],
            "dataframe_info": {
              "default_index_used": true,
              "orig_num_cols": 1,
              "orig_num_rows": 5,
              "orig_size_bytes": 80,
              "truncated_num_cols": 1,
              "truncated_num_rows": 5,
              "truncated_size_bytes": 80,
              "truncated_string_columns": []
            },
            "display_id": "e17a4456-3834-4fbc-9f35-5da5783bb4f9",
            "dx_settings": {
              "ALLOW_NOTEABLE_ATTRS": true,
              "COLUMN_SAMPLING_METHOD": "outer",
              "DB_LOCATION": ":memory:",
              "DEV_MODE": false,
              "DISPLAY_MAX_COLUMNS": 100,
              "DISPLAY_MAX_ROWS": 50000,
              "DISPLAY_MODE": "simple",
              "ENABLE_ASSIGNMENT": true,
              "ENABLE_DATALINK": true,
              "FLATTEN_COLUMN_VALUES": true,
              "FLATTEN_INDEX_VALUES": false,
              "GENERATE_DEX_METADATA": false,
              "HTML_TABLE_SCHEMA": false,
              "LOG_LEVEL": 30,
              "MAX_RENDER_SIZE_BYTES": 104857600,
              "MAX_STRING_LENGTH": 250,
              "NUM_PAST_SAMPLES_TRACKED": 3,
              "RANDOM_STATE": 12648430,
              "RESET_INDEX_VALUES": false,
              "ROW_SAMPLING_METHOD": "random",
              "SAMPLING_FACTOR": 0.1,
              "SAMPLING_METHOD": "random",
              "STRINGIFY_COLUMN_VALUES": true,
              "STRINGIFY_INDEX_VALUES": false
            },
            "sample_history": [],
            "sampling_time": "2023-09-23T18:18:15.229973",
            "user_variable_name": "sql_df_7",
            "variable_name": "sql_df_7"
          },
          "682fbd70-2a0f-4e43-af17-76c190f1cf66": {
            "applied_filters": [],
            "dataframe_info": {
              "default_index_used": true,
              "orig_num_cols": 1,
              "orig_num_rows": 5,
              "orig_size_bytes": 80,
              "truncated_num_cols": 1,
              "truncated_num_rows": 5,
              "truncated_size_bytes": 80,
              "truncated_string_columns": []
            },
            "display_id": "682fbd70-2a0f-4e43-af17-76c190f1cf66",
            "dx_settings": {
              "ALLOW_NOTEABLE_ATTRS": true,
              "COLUMN_SAMPLING_METHOD": "outer",
              "DB_LOCATION": ":memory:",
              "DEV_MODE": false,
              "DISPLAY_MAX_COLUMNS": 100,
              "DISPLAY_MAX_ROWS": 50000,
              "DISPLAY_MODE": "simple",
              "ENABLE_ASSIGNMENT": true,
              "ENABLE_DATALINK": true,
              "FLATTEN_COLUMN_VALUES": true,
              "FLATTEN_INDEX_VALUES": false,
              "GENERATE_DEX_METADATA": false,
              "HTML_TABLE_SCHEMA": false,
              "LOG_LEVEL": 30,
              "MAX_RENDER_SIZE_BYTES": 104857600,
              "MAX_STRING_LENGTH": 250,
              "NUM_PAST_SAMPLES_TRACKED": 3,
              "RANDOM_STATE": 12648430,
              "RESET_INDEX_VALUES": false,
              "ROW_SAMPLING_METHOD": "random",
              "SAMPLING_FACTOR": 0.1,
              "SAMPLING_METHOD": "random",
              "STRINGIFY_COLUMN_VALUES": true,
              "STRINGIFY_INDEX_VALUES": false
            },
            "sample_history": [],
            "sampling_time": "2023-09-23T22:50:37.861192",
            "user_variable_name": "sql_df_7",
            "variable_name": "sql_df_7"
          }
        },
        "jupyter": {
          "outputs_hidden": false
        }
      },
      "execution_count": null,
      "source": "-- Explore COUNTRY_PRIVATE_SUMMARY table\nSELECT PRODUCT\nFROM COUNTRY_PRIVATE_SUMMARY\nGROUP BY PRODUCT\nLIMIT 100;",
      "outputs": []
    },
    {
      "id": "eadcdc22-18c3-4525-aff7-cc77a58066df",
      "cell_type": "code",
      "metadata": {
        "noteable": {
          "assign_results_to": "sql_df_9",
          "cell_type": "sql",
          "db_connection": "@a37175f02c134520ab7e873e53f898f3",
          "output_collection_id": "2a7c1bb4-9987-4ef1-b63a-49824a448b8a"
        },
        "ExecuteTime": {
          "end_time": "2023-09-23T22:50:38.349969+00:00",
          "start_time": "2023-09-23T22:50:38.087957+00:00"
        },
        "datalink": {
          "3fdb305c-ece8-4f12-8c6e-865193837672": {
            "applied_filters": [],
            "dataframe_info": {
              "default_index_used": true,
              "orig_num_cols": 1,
              "orig_num_rows": 4,
              "orig_size_bytes": 64,
              "truncated_num_cols": 1,
              "truncated_num_rows": 4,
              "truncated_size_bytes": 64,
              "truncated_string_columns": []
            },
            "display_id": "3fdb305c-ece8-4f12-8c6e-865193837672",
            "dx_settings": {
              "ALLOW_NOTEABLE_ATTRS": true,
              "COLUMN_SAMPLING_METHOD": "outer",
              "DB_LOCATION": ":memory:",
              "DEV_MODE": false,
              "DISPLAY_MAX_COLUMNS": 100,
              "DISPLAY_MAX_ROWS": 50000,
              "DISPLAY_MODE": "simple",
              "ENABLE_ASSIGNMENT": true,
              "ENABLE_DATALINK": true,
              "FLATTEN_COLUMN_VALUES": true,
              "FLATTEN_INDEX_VALUES": false,
              "GENERATE_DEX_METADATA": false,
              "HTML_TABLE_SCHEMA": false,
              "LOG_LEVEL": 30,
              "MAX_RENDER_SIZE_BYTES": 104857600,
              "MAX_STRING_LENGTH": 250,
              "NUM_PAST_SAMPLES_TRACKED": 3,
              "RANDOM_STATE": 12648430,
              "RESET_INDEX_VALUES": false,
              "ROW_SAMPLING_METHOD": "random",
              "SAMPLING_FACTOR": 0.1,
              "SAMPLING_METHOD": "random",
              "STRINGIFY_COLUMN_VALUES": true,
              "STRINGIFY_INDEX_VALUES": false
            },
            "sample_history": [],
            "sampling_time": "2023-09-23T18:21:44.822281",
            "user_variable_name": "sql_df_9",
            "variable_name": "sql_df_9"
          },
          "b2103b5d-0938-41fd-bbdb-752a6f33c5de": {
            "applied_filters": [],
            "dataframe_info": {
              "default_index_used": true,
              "orig_num_cols": 1,
              "orig_num_rows": 4,
              "orig_size_bytes": 64,
              "truncated_num_cols": 1,
              "truncated_num_rows": 4,
              "truncated_size_bytes": 64,
              "truncated_string_columns": []
            },
            "display_id": "b2103b5d-0938-41fd-bbdb-752a6f33c5de",
            "dx_settings": {
              "ALLOW_NOTEABLE_ATTRS": true,
              "COLUMN_SAMPLING_METHOD": "outer",
              "DB_LOCATION": ":memory:",
              "DEV_MODE": false,
              "DISPLAY_MAX_COLUMNS": 100,
              "DISPLAY_MAX_ROWS": 50000,
              "DISPLAY_MODE": "simple",
              "ENABLE_ASSIGNMENT": true,
              "ENABLE_DATALINK": true,
              "FLATTEN_COLUMN_VALUES": true,
              "FLATTEN_INDEX_VALUES": false,
              "GENERATE_DEX_METADATA": false,
              "HTML_TABLE_SCHEMA": false,
              "LOG_LEVEL": 30,
              "MAX_RENDER_SIZE_BYTES": 104857600,
              "MAX_STRING_LENGTH": 250,
              "NUM_PAST_SAMPLES_TRACKED": 3,
              "RANDOM_STATE": 12648430,
              "RESET_INDEX_VALUES": false,
              "ROW_SAMPLING_METHOD": "random",
              "SAMPLING_FACTOR": 0.1,
              "SAMPLING_METHOD": "random",
              "STRINGIFY_COLUMN_VALUES": true,
              "STRINGIFY_INDEX_VALUES": false
            },
            "sample_history": [],
            "sampling_time": "2023-09-23T21:27:19.556010",
            "user_variable_name": "sql_df_9",
            "variable_name": "sql_df_9"
          },
          "09f71503-8f8d-4a57-9f95-29d7a3ffa0c2": {
            "applied_filters": [],
            "dataframe_info": {
              "default_index_used": true,
              "orig_num_cols": 1,
              "orig_num_rows": 4,
              "orig_size_bytes": 64,
              "truncated_num_cols": 1,
              "truncated_num_rows": 4,
              "truncated_size_bytes": 64,
              "truncated_string_columns": []
            },
            "display_id": "09f71503-8f8d-4a57-9f95-29d7a3ffa0c2",
            "dx_settings": {
              "ALLOW_NOTEABLE_ATTRS": true,
              "COLUMN_SAMPLING_METHOD": "outer",
              "DB_LOCATION": ":memory:",
              "DEV_MODE": false,
              "DISPLAY_MAX_COLUMNS": 100,
              "DISPLAY_MAX_ROWS": 50000,
              "DISPLAY_MODE": "simple",
              "ENABLE_ASSIGNMENT": true,
              "ENABLE_DATALINK": true,
              "FLATTEN_COLUMN_VALUES": true,
              "FLATTEN_INDEX_VALUES": false,
              "GENERATE_DEX_METADATA": false,
              "HTML_TABLE_SCHEMA": false,
              "LOG_LEVEL": 30,
              "MAX_RENDER_SIZE_BYTES": 104857600,
              "MAX_STRING_LENGTH": 250,
              "NUM_PAST_SAMPLES_TRACKED": 3,
              "RANDOM_STATE": 12648430,
              "RESET_INDEX_VALUES": false,
              "ROW_SAMPLING_METHOD": "random",
              "SAMPLING_FACTOR": 0.1,
              "SAMPLING_METHOD": "random",
              "STRINGIFY_COLUMN_VALUES": true,
              "STRINGIFY_INDEX_VALUES": false
            },
            "sample_history": [],
            "sampling_time": "2023-09-23T22:50:38.188865",
            "user_variable_name": "sql_df_9",
            "variable_name": "sql_df_9"
          }
        },
        "jupyter": {
          "outputs_hidden": false
        }
      },
      "execution_count": null,
      "source": "-- Explore COUNTRY_PRIVATE_SUMMARY table\nSELECT COUNTRY\nFROM COUNTRY_PRIVATE_SUMMARY\nGROUP BY COUNTRY\nLIMIT 100;",
      "outputs": []
    },
    {
      "id": "eba0b597-a2f3-4a4e-a0dd-c4c61087a84d",
      "cell_type": "code",
      "metadata": {
        "noteable": {
          "assign_results_to": "sql_df_14",
          "cell_type": "sql",
          "db_connection": "@a37175f02c134520ab7e873e53f898f3",
          "output_collection_id": "031ec21d-e967-428c-996b-3e539c2edfd6"
        },
        "ExecuteTime": {
          "end_time": "2023-09-23T22:50:38.615600+00:00",
          "start_time": "2023-09-23T22:50:38.356008+00:00"
        },
        "datalink": {
          "c1d50126-9d16-4e5d-b407-3868266fc646": {
            "applied_filters": [],
            "dataframe_info": {
              "default_index_used": true,
              "orig_num_cols": 5,
              "orig_num_rows": 100,
              "orig_size_bytes": 4800,
              "truncated_num_cols": 5,
              "truncated_num_rows": 100,
              "truncated_size_bytes": 4800,
              "truncated_string_columns": []
            },
            "display_id": "c1d50126-9d16-4e5d-b407-3868266fc646",
            "dx_settings": {
              "ALLOW_NOTEABLE_ATTRS": true,
              "COLUMN_SAMPLING_METHOD": "outer",
              "DB_LOCATION": ":memory:",
              "DEV_MODE": false,
              "DISPLAY_MAX_COLUMNS": 100,
              "DISPLAY_MAX_ROWS": 50000,
              "DISPLAY_MODE": "simple",
              "ENABLE_ASSIGNMENT": true,
              "ENABLE_DATALINK": true,
              "FLATTEN_COLUMN_VALUES": true,
              "FLATTEN_INDEX_VALUES": false,
              "GENERATE_DEX_METADATA": false,
              "HTML_TABLE_SCHEMA": false,
              "LOG_LEVEL": 30,
              "MAX_RENDER_SIZE_BYTES": 104857600,
              "MAX_STRING_LENGTH": 250,
              "NUM_PAST_SAMPLES_TRACKED": 3,
              "RANDOM_STATE": 12648430,
              "RESET_INDEX_VALUES": false,
              "ROW_SAMPLING_METHOD": "random",
              "SAMPLING_FACTOR": 0.1,
              "SAMPLING_METHOD": "random",
              "STRINGIFY_COLUMN_VALUES": true,
              "STRINGIFY_INDEX_VALUES": false
            },
            "sample_history": [],
            "sampling_time": "2023-09-23T22:23:01.376042",
            "user_variable_name": "sql_df_14",
            "variable_name": "sql_df_14"
          },
          "941b200f-a99b-4a3f-bd88-e3d55b5d3543": {
            "applied_filters": [],
            "dataframe_info": {
              "default_index_used": true,
              "orig_num_cols": 5,
              "orig_num_rows": 100,
              "orig_size_bytes": 4800,
              "truncated_num_cols": 5,
              "truncated_num_rows": 100,
              "truncated_size_bytes": 4800,
              "truncated_string_columns": []
            },
            "display_id": "941b200f-a99b-4a3f-bd88-e3d55b5d3543",
            "dx_settings": {
              "ALLOW_NOTEABLE_ATTRS": true,
              "COLUMN_SAMPLING_METHOD": "outer",
              "DB_LOCATION": ":memory:",
              "DEV_MODE": false,
              "DISPLAY_MAX_COLUMNS": 100,
              "DISPLAY_MAX_ROWS": 50000,
              "DISPLAY_MODE": "simple",
              "ENABLE_ASSIGNMENT": true,
              "ENABLE_DATALINK": true,
              "FLATTEN_COLUMN_VALUES": true,
              "FLATTEN_INDEX_VALUES": false,
              "GENERATE_DEX_METADATA": false,
              "HTML_TABLE_SCHEMA": false,
              "LOG_LEVEL": 30,
              "MAX_RENDER_SIZE_BYTES": 104857600,
              "MAX_STRING_LENGTH": 250,
              "NUM_PAST_SAMPLES_TRACKED": 3,
              "RANDOM_STATE": 12648430,
              "RESET_INDEX_VALUES": false,
              "ROW_SAMPLING_METHOD": "random",
              "SAMPLING_FACTOR": 0.1,
              "SAMPLING_METHOD": "random",
              "STRINGIFY_COLUMN_VALUES": true,
              "STRINGIFY_INDEX_VALUES": false
            },
            "sample_history": [],
            "sampling_time": "2023-09-23T22:50:38.456006",
            "user_variable_name": "sql_df_14",
            "variable_name": "sql_df_14"
          }
        }
      },
      "execution_count": null,
      "source": "SELECT *\nFROM COUNTRY_BUDGETS_SUMMARY\nLIMIT 100;",
      "outputs": []
    },
    {
      "id": "938f4c2c-c723-4da6-916f-f84b25e8439d",
      "cell_type": "code",
      "metadata": {
        "noteable": {
          "assign_results_to": "sql_df_8",
          "cell_type": "sql",
          "db_connection": "@a37175f02c134520ab7e873e53f898f3",
          "output_collection_id": "5da1a28c-3077-4509-9bc0-be8dba8a76f1"
        },
        "ExecuteTime": {
          "end_time": "2023-09-23T22:50:39.846903+00:00",
          "start_time": "2023-09-23T22:50:39.591394+00:00"
        },
        "datalink": {
          "e19b3107-5125-4c0d-a5b5-4673ff6a27ac": {
            "applied_filters": [],
            "dataframe_info": {
              "default_index_used": true,
              "orig_num_cols": 1,
              "orig_num_rows": 9,
              "orig_size_bytes": 144,
              "truncated_num_cols": 1,
              "truncated_num_rows": 9,
              "truncated_size_bytes": 144,
              "truncated_string_columns": []
            },
            "display_id": "e19b3107-5125-4c0d-a5b5-4673ff6a27ac",
            "dx_settings": {
              "ALLOW_NOTEABLE_ATTRS": true,
              "COLUMN_SAMPLING_METHOD": "outer",
              "DB_LOCATION": ":memory:",
              "DEV_MODE": false,
              "DISPLAY_MAX_COLUMNS": 100,
              "DISPLAY_MAX_ROWS": 50000,
              "DISPLAY_MODE": "simple",
              "ENABLE_ASSIGNMENT": true,
              "ENABLE_DATALINK": true,
              "FLATTEN_COLUMN_VALUES": true,
              "FLATTEN_INDEX_VALUES": false,
              "GENERATE_DEX_METADATA": false,
              "HTML_TABLE_SCHEMA": false,
              "LOG_LEVEL": 30,
              "MAX_RENDER_SIZE_BYTES": 104857600,
              "MAX_STRING_LENGTH": 250,
              "NUM_PAST_SAMPLES_TRACKED": 3,
              "RANDOM_STATE": 12648430,
              "RESET_INDEX_VALUES": false,
              "ROW_SAMPLING_METHOD": "random",
              "SAMPLING_FACTOR": 0.1,
              "SAMPLING_METHOD": "random",
              "STRINGIFY_COLUMN_VALUES": true,
              "STRINGIFY_INDEX_VALUES": false
            },
            "sample_history": [],
            "sampling_time": "2023-09-23T18:20:58.734423",
            "user_variable_name": "sql_df_5",
            "variable_name": "sql_df_5"
          },
          "4c26e98b-9949-4f64-9092-2a4eab6f73e5": {
            "applied_filters": [],
            "dataframe_info": {
              "default_index_used": true,
              "orig_num_cols": 1,
              "orig_num_rows": 9,
              "orig_size_bytes": 144,
              "truncated_num_cols": 1,
              "truncated_num_rows": 9,
              "truncated_size_bytes": 144,
              "truncated_string_columns": []
            },
            "display_id": "4c26e98b-9949-4f64-9092-2a4eab6f73e5",
            "dx_settings": {
              "ALLOW_NOTEABLE_ATTRS": true,
              "COLUMN_SAMPLING_METHOD": "outer",
              "DB_LOCATION": ":memory:",
              "DEV_MODE": false,
              "DISPLAY_MAX_COLUMNS": 100,
              "DISPLAY_MAX_ROWS": 50000,
              "DISPLAY_MODE": "simple",
              "ENABLE_ASSIGNMENT": true,
              "ENABLE_DATALINK": true,
              "FLATTEN_COLUMN_VALUES": true,
              "FLATTEN_INDEX_VALUES": false,
              "GENERATE_DEX_METADATA": false,
              "HTML_TABLE_SCHEMA": false,
              "LOG_LEVEL": 30,
              "MAX_RENDER_SIZE_BYTES": 104857600,
              "MAX_STRING_LENGTH": 250,
              "NUM_PAST_SAMPLES_TRACKED": 3,
              "RANDOM_STATE": 12648430,
              "RESET_INDEX_VALUES": false,
              "ROW_SAMPLING_METHOD": "random",
              "SAMPLING_FACTOR": 0.1,
              "SAMPLING_METHOD": "random",
              "STRINGIFY_COLUMN_VALUES": true,
              "STRINGIFY_INDEX_VALUES": false
            },
            "sample_history": [],
            "sampling_time": "2023-09-23T22:50:39.689355",
            "user_variable_name": "sql_df_8",
            "variable_name": "sql_df_8"
          }
        },
        "jupyter": {
          "outputs_hidden": true
        }
      },
      "execution_count": null,
      "source": "-- Explore COUNTRY_BUDGETS_SUMMARY table\nSELECT PRODUCT\nFROM COUNTRY_BUDGETS_SUMMARY\nGROUP BY PRODUCT\nLIMIT 100;",
      "outputs": []
    },
    {
      "id": "3c20b301-0cbd-4edd-a9d1-d532b8fcee64",
      "cell_type": "code",
      "metadata": {
        "noteable": {
          "assign_results_to": "sql_df_10",
          "cell_type": "sql",
          "db_connection": "@a37175f02c134520ab7e873e53f898f3",
          "output_collection_id": "f7378aae-c0d4-4b40-8d11-bff53f3d1400"
        },
        "ExecuteTime": {
          "end_time": "2023-09-23T22:50:40.166883+00:00",
          "start_time": "2023-09-23T22:50:39.908714+00:00"
        },
        "datalink": {
          "cf332e6e-6754-4fd1-b470-e8c14d34cecc": {
            "applied_filters": [],
            "dataframe_info": {
              "default_index_used": true,
              "orig_num_cols": 1,
              "orig_num_rows": 34,
              "orig_size_bytes": 544,
              "truncated_num_cols": 1,
              "truncated_num_rows": 34,
              "truncated_size_bytes": 544,
              "truncated_string_columns": []
            },
            "display_id": "cf332e6e-6754-4fd1-b470-e8c14d34cecc",
            "dx_settings": {
              "ALLOW_NOTEABLE_ATTRS": true,
              "COLUMN_SAMPLING_METHOD": "outer",
              "DB_LOCATION": ":memory:",
              "DEV_MODE": false,
              "DISPLAY_MAX_COLUMNS": 100,
              "DISPLAY_MAX_ROWS": 50000,
              "DISPLAY_MODE": "simple",
              "ENABLE_ASSIGNMENT": true,
              "ENABLE_DATALINK": true,
              "FLATTEN_COLUMN_VALUES": true,
              "FLATTEN_INDEX_VALUES": false,
              "GENERATE_DEX_METADATA": false,
              "HTML_TABLE_SCHEMA": false,
              "LOG_LEVEL": 30,
              "MAX_RENDER_SIZE_BYTES": 104857600,
              "MAX_STRING_LENGTH": 250,
              "NUM_PAST_SAMPLES_TRACKED": 3,
              "RANDOM_STATE": 12648430,
              "RESET_INDEX_VALUES": false,
              "ROW_SAMPLING_METHOD": "random",
              "SAMPLING_FACTOR": 0.1,
              "SAMPLING_METHOD": "random",
              "STRINGIFY_COLUMN_VALUES": true,
              "STRINGIFY_INDEX_VALUES": false
            },
            "sample_history": [],
            "sampling_time": "2023-09-23T18:23:18.233859",
            "user_variable_name": "sql_df_10",
            "variable_name": "sql_df_10"
          },
          "4512e800-a718-4da9-9d64-ed4e80aa86db": {
            "applied_filters": [],
            "dataframe_info": {
              "default_index_used": true,
              "orig_num_cols": 1,
              "orig_num_rows": 34,
              "orig_size_bytes": 544,
              "truncated_num_cols": 1,
              "truncated_num_rows": 34,
              "truncated_size_bytes": 544,
              "truncated_string_columns": []
            },
            "display_id": "4512e800-a718-4da9-9d64-ed4e80aa86db",
            "dx_settings": {
              "ALLOW_NOTEABLE_ATTRS": true,
              "COLUMN_SAMPLING_METHOD": "outer",
              "DB_LOCATION": ":memory:",
              "DEV_MODE": false,
              "DISPLAY_MAX_COLUMNS": 100,
              "DISPLAY_MAX_ROWS": 50000,
              "DISPLAY_MODE": "simple",
              "ENABLE_ASSIGNMENT": true,
              "ENABLE_DATALINK": true,
              "FLATTEN_COLUMN_VALUES": true,
              "FLATTEN_INDEX_VALUES": false,
              "GENERATE_DEX_METADATA": false,
              "HTML_TABLE_SCHEMA": false,
              "LOG_LEVEL": 30,
              "MAX_RENDER_SIZE_BYTES": 104857600,
              "MAX_STRING_LENGTH": 250,
              "NUM_PAST_SAMPLES_TRACKED": 3,
              "RANDOM_STATE": 12648430,
              "RESET_INDEX_VALUES": false,
              "ROW_SAMPLING_METHOD": "random",
              "SAMPLING_FACTOR": 0.1,
              "SAMPLING_METHOD": "random",
              "STRINGIFY_COLUMN_VALUES": true,
              "STRINGIFY_INDEX_VALUES": false
            },
            "sample_history": [],
            "sampling_time": "2023-09-23T22:50:40.008515",
            "user_variable_name": "sql_df_10",
            "variable_name": "sql_df_10"
          }
        },
        "jupyter": {
          "outputs_hidden": true
        }
      },
      "execution_count": null,
      "source": "-- Explore COUNTRY_BUDGETS_SUMMARY table\nSELECT COUNTRY\nFROM COUNTRY_BUDGETS_SUMMARY\nGROUP BY COUNTRY\nLIMIT 100;",
      "outputs": []
    },
    {
      "id": "ebbe870c-1eb0-4270-8490-cb8835c95323",
      "cell_type": "code",
      "metadata": {
        "noteable": {
          "assign_results_to": "sql_df_11",
          "cell_type": "sql",
          "db_connection": "@a37175f02c134520ab7e873e53f898f3",
          "output_collection_id": "790822af-e830-45d8-b364-1e0c20692c3c"
        },
        "ExecuteTime": {
          "end_time": "2023-09-23T22:50:40.669340+00:00",
          "start_time": "2023-09-23T22:50:40.172403+00:00"
        },
        "datalink": {
          "53798c19-a25c-404d-903f-9c75678b1636": {
            "applied_filters": [],
            "dataframe_info": {
              "default_index_used": true,
              "orig_num_cols": 1,
              "orig_num_rows": 100,
              "orig_size_bytes": 1600,
              "truncated_num_cols": 1,
              "truncated_num_rows": 100,
              "truncated_size_bytes": 1600,
              "truncated_string_columns": []
            },
            "display_id": "53798c19-a25c-404d-903f-9c75678b1636",
            "dx_settings": {
              "ALLOW_NOTEABLE_ATTRS": true,
              "COLUMN_SAMPLING_METHOD": "outer",
              "DB_LOCATION": ":memory:",
              "DEV_MODE": false,
              "DISPLAY_MAX_COLUMNS": 100,
              "DISPLAY_MAX_ROWS": 50000,
              "DISPLAY_MODE": "simple",
              "ENABLE_ASSIGNMENT": true,
              "ENABLE_DATALINK": true,
              "FLATTEN_COLUMN_VALUES": true,
              "FLATTEN_INDEX_VALUES": false,
              "GENERATE_DEX_METADATA": false,
              "HTML_TABLE_SCHEMA": false,
              "LOG_LEVEL": 30,
              "MAX_RENDER_SIZE_BYTES": 104857600,
              "MAX_STRING_LENGTH": 250,
              "NUM_PAST_SAMPLES_TRACKED": 3,
              "RANDOM_STATE": 12648430,
              "RESET_INDEX_VALUES": false,
              "ROW_SAMPLING_METHOD": "random",
              "SAMPLING_FACTOR": 0.1,
              "SAMPLING_METHOD": "random",
              "STRINGIFY_COLUMN_VALUES": true,
              "STRINGIFY_INDEX_VALUES": false
            },
            "sample_history": [],
            "sampling_time": "2023-09-23T18:29:25.254652",
            "user_variable_name": "sql_df_11",
            "variable_name": "sql_df_11"
          },
          "21e46cd6-931d-490d-9a80-9e08898551c7": {
            "applied_filters": [],
            "dataframe_info": {
              "default_index_used": true,
              "orig_num_cols": 1,
              "orig_num_rows": 100,
              "orig_size_bytes": 1600,
              "truncated_num_cols": 1,
              "truncated_num_rows": 100,
              "truncated_size_bytes": 1600,
              "truncated_string_columns": []
            },
            "display_id": "21e46cd6-931d-490d-9a80-9e08898551c7",
            "dx_settings": {
              "ALLOW_NOTEABLE_ATTRS": true,
              "COLUMN_SAMPLING_METHOD": "outer",
              "DB_LOCATION": ":memory:",
              "DEV_MODE": false,
              "DISPLAY_MAX_COLUMNS": 100,
              "DISPLAY_MAX_ROWS": 50000,
              "DISPLAY_MODE": "simple",
              "ENABLE_ASSIGNMENT": true,
              "ENABLE_DATALINK": true,
              "FLATTEN_COLUMN_VALUES": true,
              "FLATTEN_INDEX_VALUES": false,
              "GENERATE_DEX_METADATA": false,
              "HTML_TABLE_SCHEMA": false,
              "LOG_LEVEL": 30,
              "MAX_RENDER_SIZE_BYTES": 104857600,
              "MAX_STRING_LENGTH": 250,
              "NUM_PAST_SAMPLES_TRACKED": 3,
              "RANDOM_STATE": 12648430,
              "RESET_INDEX_VALUES": false,
              "ROW_SAMPLING_METHOD": "random",
              "SAMPLING_FACTOR": 0.1,
              "SAMPLING_METHOD": "random",
              "STRINGIFY_COLUMN_VALUES": true,
              "STRINGIFY_INDEX_VALUES": false
            },
            "sample_history": [],
            "sampling_time": "2023-09-23T22:50:40.510259",
            "user_variable_name": "sql_df_11",
            "variable_name": "sql_df_11"
          }
        },
        "jupyter": {
          "outputs_hidden": true
        }
      },
      "execution_count": null,
      "source": "-- Explore RDD_Country_Budget table (DETAILED)\nSELECT FLOW\nFROM Country_Budgets_Combined_Details\nGROUP BY FLOW\nLIMIT 100;",
      "outputs": []
    },
    {
      "id": "584e0f19-4103-446d-ae4b-1c35ed2c266e",
      "cell_type": "code",
      "metadata": {
        "noteable": {
          "assign_results_to": "sql_df_3",
          "cell_type": "sql",
          "db_connection": "@a37175f02c134520ab7e873e53f898f3",
          "output_collection_id": "8298540c-74ea-4f1d-b630-42b18fb039a4"
        },
        "ExecuteTime": {
          "end_time": "2023-09-23T22:50:40.942031+00:00",
          "start_time": "2023-09-23T22:50:40.675018+00:00"
        },
        "datalink": {
          "5895f844-f3bf-47b4-ab31-bab9d7b68291": {
            "applied_filters": [],
            "dataframe_info": {
              "default_index_used": true,
              "orig_num_cols": 5,
              "orig_num_rows": 10,
              "orig_size_bytes": 480,
              "truncated_num_cols": 5,
              "truncated_num_rows": 10,
              "truncated_size_bytes": 480,
              "truncated_string_columns": []
            },
            "display_id": "5895f844-f3bf-47b4-ab31-bab9d7b68291",
            "dx_settings": {
              "ALLOW_NOTEABLE_ATTRS": true,
              "COLUMN_SAMPLING_METHOD": "outer",
              "DB_LOCATION": ":memory:",
              "DEV_MODE": false,
              "DISPLAY_MAX_COLUMNS": 100,
              "DISPLAY_MAX_ROWS": 50000,
              "DISPLAY_MODE": "simple",
              "ENABLE_ASSIGNMENT": true,
              "ENABLE_DATALINK": true,
              "FLATTEN_COLUMN_VALUES": true,
              "FLATTEN_INDEX_VALUES": false,
              "GENERATE_DEX_METADATA": false,
              "HTML_TABLE_SCHEMA": false,
              "LOG_LEVEL": 30,
              "MAX_RENDER_SIZE_BYTES": 104857600,
              "MAX_STRING_LENGTH": 250,
              "NUM_PAST_SAMPLES_TRACKED": 3,
              "RANDOM_STATE": 12648430,
              "RESET_INDEX_VALUES": false,
              "ROW_SAMPLING_METHOD": "random",
              "SAMPLING_FACTOR": 0.1,
              "SAMPLING_METHOD": "random",
              "STRINGIFY_COLUMN_VALUES": true,
              "STRINGIFY_INDEX_VALUES": false
            },
            "sample_history": [],
            "sampling_time": "2023-09-23T17:15:23.336349",
            "user_variable_name": "sql_df_3",
            "variable_name": "sql_df_3"
          },
          "4c12dfa6-9d04-425e-b0dc-08b2d3112591": {
            "applied_filters": [],
            "dataframe_info": {
              "default_index_used": true,
              "orig_num_cols": 1,
              "orig_num_rows": 10,
              "orig_size_bytes": 160,
              "truncated_num_cols": 1,
              "truncated_num_rows": 10,
              "truncated_size_bytes": 160,
              "truncated_string_columns": []
            },
            "display_id": "4c12dfa6-9d04-425e-b0dc-08b2d3112591",
            "dx_settings": {
              "ALLOW_NOTEABLE_ATTRS": true,
              "COLUMN_SAMPLING_METHOD": "outer",
              "DB_LOCATION": ":memory:",
              "DEV_MODE": false,
              "DISPLAY_MAX_COLUMNS": 100,
              "DISPLAY_MAX_ROWS": 50000,
              "DISPLAY_MODE": "simple",
              "ENABLE_ASSIGNMENT": true,
              "ENABLE_DATALINK": true,
              "FLATTEN_COLUMN_VALUES": true,
              "FLATTEN_INDEX_VALUES": false,
              "GENERATE_DEX_METADATA": false,
              "HTML_TABLE_SCHEMA": false,
              "LOG_LEVEL": 30,
              "MAX_RENDER_SIZE_BYTES": 104857600,
              "MAX_STRING_LENGTH": 250,
              "NUM_PAST_SAMPLES_TRACKED": 3,
              "RANDOM_STATE": 12648430,
              "RESET_INDEX_VALUES": false,
              "ROW_SAMPLING_METHOD": "random",
              "SAMPLING_FACTOR": 0.1,
              "SAMPLING_METHOD": "random",
              "STRINGIFY_COLUMN_VALUES": true,
              "STRINGIFY_INDEX_VALUES": false
            },
            "sample_history": [],
            "sampling_time": "2023-09-23T17:22:24.930545",
            "user_variable_name": "sql_df_3",
            "variable_name": "sql_df_3"
          },
          "d2d2d3c9-02e2-47a0-b42f-9368d3c030d8": {
            "applied_filters": [],
            "dataframe_info": {
              "default_index_used": true,
              "orig_num_cols": 1,
              "orig_num_rows": 10,
              "orig_size_bytes": 160,
              "truncated_num_cols": 1,
              "truncated_num_rows": 10,
              "truncated_size_bytes": 160,
              "truncated_string_columns": []
            },
            "display_id": "d2d2d3c9-02e2-47a0-b42f-9368d3c030d8",
            "dx_settings": {
              "ALLOW_NOTEABLE_ATTRS": true,
              "COLUMN_SAMPLING_METHOD": "outer",
              "DB_LOCATION": ":memory:",
              "DEV_MODE": false,
              "DISPLAY_MAX_COLUMNS": 100,
              "DISPLAY_MAX_ROWS": 50000,
              "DISPLAY_MODE": "simple",
              "ENABLE_ASSIGNMENT": true,
              "ENABLE_DATALINK": true,
              "FLATTEN_COLUMN_VALUES": true,
              "FLATTEN_INDEX_VALUES": false,
              "GENERATE_DEX_METADATA": false,
              "HTML_TABLE_SCHEMA": false,
              "LOG_LEVEL": 30,
              "MAX_RENDER_SIZE_BYTES": 104857600,
              "MAX_STRING_LENGTH": 250,
              "NUM_PAST_SAMPLES_TRACKED": 3,
              "RANDOM_STATE": 12648430,
              "RESET_INDEX_VALUES": false,
              "ROW_SAMPLING_METHOD": "random",
              "SAMPLING_FACTOR": 0.1,
              "SAMPLING_METHOD": "random",
              "STRINGIFY_COLUMN_VALUES": true,
              "STRINGIFY_INDEX_VALUES": false
            },
            "sample_history": [],
            "sampling_time": "2023-09-23T17:23:00.267085",
            "user_variable_name": "sql_df_3",
            "variable_name": "sql_df_3"
          },
          "c95f2060-9ffd-4767-82cb-e1bb6b7b8182": {
            "applied_filters": [],
            "dataframe_info": {
              "default_index_used": true,
              "orig_num_cols": 1,
              "orig_num_rows": 34,
              "orig_size_bytes": 544,
              "truncated_num_cols": 1,
              "truncated_num_rows": 34,
              "truncated_size_bytes": 544,
              "truncated_string_columns": []
            },
            "display_id": "c95f2060-9ffd-4767-82cb-e1bb6b7b8182",
            "dx_settings": {
              "ALLOW_NOTEABLE_ATTRS": true,
              "COLUMN_SAMPLING_METHOD": "outer",
              "DB_LOCATION": ":memory:",
              "DEV_MODE": false,
              "DISPLAY_MAX_COLUMNS": 100,
              "DISPLAY_MAX_ROWS": 50000,
              "DISPLAY_MODE": "simple",
              "ENABLE_ASSIGNMENT": true,
              "ENABLE_DATALINK": true,
              "FLATTEN_COLUMN_VALUES": true,
              "FLATTEN_INDEX_VALUES": false,
              "GENERATE_DEX_METADATA": false,
              "HTML_TABLE_SCHEMA": false,
              "LOG_LEVEL": 30,
              "MAX_RENDER_SIZE_BYTES": 104857600,
              "MAX_STRING_LENGTH": 250,
              "NUM_PAST_SAMPLES_TRACKED": 3,
              "RANDOM_STATE": 12648430,
              "RESET_INDEX_VALUES": false,
              "ROW_SAMPLING_METHOD": "random",
              "SAMPLING_FACTOR": 0.1,
              "SAMPLING_METHOD": "random",
              "STRINGIFY_COLUMN_VALUES": true,
              "STRINGIFY_INDEX_VALUES": false
            },
            "sample_history": [],
            "sampling_time": "2023-09-23T17:23:08.519565",
            "user_variable_name": "sql_df_3",
            "variable_name": "sql_df_3"
          },
          "82d403af-181d-4e97-a921-34f32f0aa092": {
            "applied_filters": [],
            "dataframe_info": {
              "default_index_used": true,
              "orig_num_cols": 5,
              "orig_num_rows": 100,
              "orig_size_bytes": 4800,
              "truncated_num_cols": 5,
              "truncated_num_rows": 100,
              "truncated_size_bytes": 4800,
              "truncated_string_columns": []
            },
            "display_id": "82d403af-181d-4e97-a921-34f32f0aa092",
            "dx_settings": {
              "ALLOW_NOTEABLE_ATTRS": true,
              "COLUMN_SAMPLING_METHOD": "outer",
              "DB_LOCATION": ":memory:",
              "DEV_MODE": false,
              "DISPLAY_MAX_COLUMNS": 100,
              "DISPLAY_MAX_ROWS": 50000,
              "DISPLAY_MODE": "simple",
              "ENABLE_ASSIGNMENT": true,
              "ENABLE_DATALINK": true,
              "FLATTEN_COLUMN_VALUES": true,
              "FLATTEN_INDEX_VALUES": false,
              "GENERATE_DEX_METADATA": false,
              "HTML_TABLE_SCHEMA": false,
              "LOG_LEVEL": 30,
              "MAX_RENDER_SIZE_BYTES": 104857600,
              "MAX_STRING_LENGTH": 250,
              "NUM_PAST_SAMPLES_TRACKED": 3,
              "RANDOM_STATE": 12648430,
              "RESET_INDEX_VALUES": false,
              "ROW_SAMPLING_METHOD": "random",
              "SAMPLING_FACTOR": 0.1,
              "SAMPLING_METHOD": "random",
              "STRINGIFY_COLUMN_VALUES": true,
              "STRINGIFY_INDEX_VALUES": false
            },
            "sample_history": [],
            "sampling_time": "2023-09-23T17:23:51.014652",
            "user_variable_name": "sql_df_3",
            "variable_name": "sql_df_3"
          },
          "92937ae7-110b-4847-ae18-271f19d15d31": {
            "applied_filters": [],
            "dataframe_info": {
              "default_index_used": true,
              "orig_num_cols": 5,
              "orig_num_rows": 100,
              "orig_size_bytes": 4800,
              "truncated_num_cols": 5,
              "truncated_num_rows": 100,
              "truncated_size_bytes": 4800,
              "truncated_string_columns": []
            },
            "display_id": "92937ae7-110b-4847-ae18-271f19d15d31",
            "dx_settings": {
              "ALLOW_NOTEABLE_ATTRS": true,
              "COLUMN_SAMPLING_METHOD": "outer",
              "DB_LOCATION": ":memory:",
              "DEV_MODE": false,
              "DISPLAY_MAX_COLUMNS": 100,
              "DISPLAY_MAX_ROWS": 50000,
              "DISPLAY_MODE": "simple",
              "ENABLE_ASSIGNMENT": true,
              "ENABLE_DATALINK": true,
              "FLATTEN_COLUMN_VALUES": true,
              "FLATTEN_INDEX_VALUES": false,
              "GENERATE_DEX_METADATA": false,
              "HTML_TABLE_SCHEMA": false,
              "LOG_LEVEL": 30,
              "MAX_RENDER_SIZE_BYTES": 104857600,
              "MAX_STRING_LENGTH": 250,
              "NUM_PAST_SAMPLES_TRACKED": 3,
              "RANDOM_STATE": 12648430,
              "RESET_INDEX_VALUES": false,
              "ROW_SAMPLING_METHOD": "random",
              "SAMPLING_FACTOR": 0.1,
              "SAMPLING_METHOD": "random",
              "STRINGIFY_COLUMN_VALUES": true,
              "STRINGIFY_INDEX_VALUES": false
            },
            "sample_history": [],
            "sampling_time": "2023-09-23T22:50:40.780658",
            "user_variable_name": "sql_df_3",
            "variable_name": "sql_df_3"
          }
        },
        "jupyter": {
          "outputs_hidden": true
        }
      },
      "execution_count": null,
      "source": "-- Explore RDD_Country_Budget table (DETAILED)\nSELECT *\nFROM Country_Budgets_Combined_Details\n-- GROUP BY COUNTRY;\nLIMIT 100;",
      "outputs": []
    },
    {
      "id": "8f19549b-610b-4268-9398-099a0bbb5814",
      "cell_type": "code",
      "metadata": {
        "noteable": {
          "assign_results_to": "sql_df_5",
          "cell_type": "sql",
          "db_connection": "@a37175f02c134520ab7e873e53f898f3",
          "output_collection_id": "6f12a9be-23a2-4a86-89a9-504e3d87fb3e"
        },
        "ExecuteTime": {
          "end_time": "2023-09-23T22:50:41.234425+00:00",
          "start_time": "2023-09-23T22:50:40.948046+00:00"
        },
        "datalink": {
          "c50ee2b6-adad-4ea2-8b0c-fae843a21772": {
            "applied_filters": [],
            "dataframe_info": {
              "default_index_used": true,
              "orig_num_cols": 1,
              "orig_num_rows": 9,
              "orig_size_bytes": 144,
              "truncated_num_cols": 1,
              "truncated_num_rows": 9,
              "truncated_size_bytes": 144,
              "truncated_string_columns": []
            },
            "display_id": "c50ee2b6-adad-4ea2-8b0c-fae843a21772",
            "dx_settings": {
              "ALLOW_NOTEABLE_ATTRS": true,
              "COLUMN_SAMPLING_METHOD": "outer",
              "DB_LOCATION": ":memory:",
              "DEV_MODE": false,
              "DISPLAY_MAX_COLUMNS": 100,
              "DISPLAY_MAX_ROWS": 50000,
              "DISPLAY_MODE": "simple",
              "ENABLE_ASSIGNMENT": true,
              "ENABLE_DATALINK": true,
              "FLATTEN_COLUMN_VALUES": true,
              "FLATTEN_INDEX_VALUES": false,
              "GENERATE_DEX_METADATA": false,
              "HTML_TABLE_SCHEMA": false,
              "LOG_LEVEL": 30,
              "MAX_RENDER_SIZE_BYTES": 104857600,
              "MAX_STRING_LENGTH": 250,
              "NUM_PAST_SAMPLES_TRACKED": 3,
              "RANDOM_STATE": 12648430,
              "RESET_INDEX_VALUES": false,
              "ROW_SAMPLING_METHOD": "random",
              "SAMPLING_FACTOR": 0.1,
              "SAMPLING_METHOD": "random",
              "STRINGIFY_COLUMN_VALUES": true,
              "STRINGIFY_INDEX_VALUES": false
            },
            "sample_history": [],
            "sampling_time": "2023-09-23T17:25:00.555207",
            "user_variable_name": "sql_df_5",
            "variable_name": "sql_df_5"
          },
          "492e7963-db53-41e1-be61-0fea22a71783": {
            "applied_filters": [],
            "dataframe_info": {
              "default_index_used": true,
              "orig_num_cols": 1,
              "orig_num_rows": 9,
              "orig_size_bytes": 144,
              "truncated_num_cols": 1,
              "truncated_num_rows": 9,
              "truncated_size_bytes": 144,
              "truncated_string_columns": []
            },
            "display_id": "492e7963-db53-41e1-be61-0fea22a71783",
            "dx_settings": {
              "ALLOW_NOTEABLE_ATTRS": true,
              "COLUMN_SAMPLING_METHOD": "outer",
              "DB_LOCATION": ":memory:",
              "DEV_MODE": false,
              "DISPLAY_MAX_COLUMNS": 100,
              "DISPLAY_MAX_ROWS": 50000,
              "DISPLAY_MODE": "simple",
              "ENABLE_ASSIGNMENT": true,
              "ENABLE_DATALINK": true,
              "FLATTEN_COLUMN_VALUES": true,
              "FLATTEN_INDEX_VALUES": false,
              "GENERATE_DEX_METADATA": false,
              "HTML_TABLE_SCHEMA": false,
              "LOG_LEVEL": 30,
              "MAX_RENDER_SIZE_BYTES": 104857600,
              "MAX_STRING_LENGTH": 250,
              "NUM_PAST_SAMPLES_TRACKED": 3,
              "RANDOM_STATE": 12648430,
              "RESET_INDEX_VALUES": false,
              "ROW_SAMPLING_METHOD": "random",
              "SAMPLING_FACTOR": 0.1,
              "SAMPLING_METHOD": "random",
              "STRINGIFY_COLUMN_VALUES": true,
              "STRINGIFY_INDEX_VALUES": false
            },
            "sample_history": [],
            "sampling_time": "2023-09-23T22:50:41.074639",
            "user_variable_name": "sql_df_8",
            "variable_name": "sql_df_8"
          }
        },
        "jupyter": {
          "outputs_hidden": true
        }
      },
      "execution_count": null,
      "source": "-- Explore RDD_Country_Budget table by PRODUCT\nSELECT PRODUCT\nFROM Country_Budgets_Combined_Details\nGROUP BY PRODUCT\nLIMIT 100;",
      "outputs": []
    },
    {
      "id": "0678d21b-ea56-42a6-b448-2b70548cfd81",
      "cell_type": "code",
      "metadata": {
        "noteable": {
          "assign_results_to": "sql_df_6",
          "cell_type": "sql",
          "db_connection": "@a37175f02c134520ab7e873e53f898f3",
          "output_collection_id": "505bd966-12e6-4b90-a218-9a7913b12591"
        },
        "ExecuteTime": {
          "end_time": "2023-09-23T22:50:41.667415+00:00",
          "start_time": "2023-09-23T22:50:41.396032+00:00"
        },
        "datalink": {
          "22c98ba3-f2f8-457f-b56d-a451a78f5f81": {
            "applied_filters": [],
            "dataframe_info": {
              "default_index_used": true,
              "orig_num_cols": 4,
              "orig_num_rows": 100,
              "orig_size_bytes": 4000,
              "truncated_num_cols": 4,
              "truncated_num_rows": 100,
              "truncated_size_bytes": 4000,
              "truncated_string_columns": []
            },
            "display_id": "22c98ba3-f2f8-457f-b56d-a451a78f5f81",
            "dx_settings": {
              "ALLOW_NOTEABLE_ATTRS": true,
              "COLUMN_SAMPLING_METHOD": "outer",
              "DB_LOCATION": ":memory:",
              "DEV_MODE": false,
              "DISPLAY_MAX_COLUMNS": 100,
              "DISPLAY_MAX_ROWS": 50000,
              "DISPLAY_MODE": "simple",
              "ENABLE_ASSIGNMENT": true,
              "ENABLE_DATALINK": true,
              "FLATTEN_COLUMN_VALUES": true,
              "FLATTEN_INDEX_VALUES": false,
              "GENERATE_DEX_METADATA": false,
              "HTML_TABLE_SCHEMA": false,
              "LOG_LEVEL": 30,
              "MAX_RENDER_SIZE_BYTES": 104857600,
              "MAX_STRING_LENGTH": 250,
              "NUM_PAST_SAMPLES_TRACKED": 3,
              "RANDOM_STATE": 12648430,
              "RESET_INDEX_VALUES": false,
              "ROW_SAMPLING_METHOD": "random",
              "SAMPLING_FACTOR": 0.1,
              "SAMPLING_METHOD": "random",
              "STRINGIFY_COLUMN_VALUES": true,
              "STRINGIFY_INDEX_VALUES": false
            },
            "sample_history": [],
            "sampling_time": "2023-09-23T17:48:04.092214",
            "user_variable_name": "sql_df_6",
            "variable_name": "sql_df_6"
          },
          "428a0c00-b9a0-49ca-a8ab-f9a943f42023": {
            "applied_filters": [],
            "dataframe_info": {
              "default_index_used": true,
              "orig_num_cols": 1,
              "orig_num_rows": 1,
              "orig_size_bytes": 16,
              "truncated_num_cols": 1,
              "truncated_num_rows": 1,
              "truncated_size_bytes": 16,
              "truncated_string_columns": []
            },
            "display_id": "428a0c00-b9a0-49ca-a8ab-f9a943f42023",
            "dx_settings": {
              "ALLOW_NOTEABLE_ATTRS": true,
              "COLUMN_SAMPLING_METHOD": "outer",
              "DB_LOCATION": ":memory:",
              "DEV_MODE": false,
              "DISPLAY_MAX_COLUMNS": 100,
              "DISPLAY_MAX_ROWS": 50000,
              "DISPLAY_MODE": "simple",
              "ENABLE_ASSIGNMENT": true,
              "ENABLE_DATALINK": true,
              "FLATTEN_COLUMN_VALUES": true,
              "FLATTEN_INDEX_VALUES": false,
              "GENERATE_DEX_METADATA": false,
              "HTML_TABLE_SCHEMA": false,
              "LOG_LEVEL": 30,
              "MAX_RENDER_SIZE_BYTES": 104857600,
              "MAX_STRING_LENGTH": 250,
              "NUM_PAST_SAMPLES_TRACKED": 3,
              "RANDOM_STATE": 12648430,
              "RESET_INDEX_VALUES": false,
              "ROW_SAMPLING_METHOD": "random",
              "SAMPLING_FACTOR": 0.1,
              "SAMPLING_METHOD": "random",
              "STRINGIFY_COLUMN_VALUES": true,
              "STRINGIFY_INDEX_VALUES": false
            },
            "sample_history": [],
            "sampling_time": "2023-09-23T17:48:21.554111",
            "user_variable_name": "sql_df_6",
            "variable_name": "sql_df_6"
          },
          "3dd94554-4f71-4d56-a128-c2551e54293e": {
            "applied_filters": [],
            "dataframe_info": {
              "default_index_used": true,
              "orig_num_cols": 4,
              "orig_num_rows": 100,
              "orig_size_bytes": 4000,
              "truncated_num_cols": 4,
              "truncated_num_rows": 100,
              "truncated_size_bytes": 4000,
              "truncated_string_columns": []
            },
            "display_id": "3dd94554-4f71-4d56-a128-c2551e54293e",
            "dx_settings": {
              "ALLOW_NOTEABLE_ATTRS": true,
              "COLUMN_SAMPLING_METHOD": "outer",
              "DB_LOCATION": ":memory:",
              "DEV_MODE": false,
              "DISPLAY_MAX_COLUMNS": 100,
              "DISPLAY_MAX_ROWS": 50000,
              "DISPLAY_MODE": "simple",
              "ENABLE_ASSIGNMENT": true,
              "ENABLE_DATALINK": true,
              "FLATTEN_COLUMN_VALUES": true,
              "FLATTEN_INDEX_VALUES": false,
              "GENERATE_DEX_METADATA": false,
              "HTML_TABLE_SCHEMA": false,
              "LOG_LEVEL": 30,
              "MAX_RENDER_SIZE_BYTES": 104857600,
              "MAX_STRING_LENGTH": 250,
              "NUM_PAST_SAMPLES_TRACKED": 3,
              "RANDOM_STATE": 12648430,
              "RESET_INDEX_VALUES": false,
              "ROW_SAMPLING_METHOD": "random",
              "SAMPLING_FACTOR": 0.1,
              "SAMPLING_METHOD": "random",
              "STRINGIFY_COLUMN_VALUES": true,
              "STRINGIFY_INDEX_VALUES": false
            },
            "sample_history": [],
            "sampling_time": "2023-09-23T18:12:26.973079",
            "user_variable_name": "sql_df_6",
            "variable_name": "sql_df_6"
          },
          "84306faa-0664-44ca-9dea-feef19ced004": {
            "applied_filters": [],
            "dataframe_info": {
              "default_index_used": true,
              "orig_num_cols": 4,
              "orig_num_rows": 100,
              "orig_size_bytes": 4000,
              "truncated_num_cols": 4,
              "truncated_num_rows": 100,
              "truncated_size_bytes": 4000,
              "truncated_string_columns": []
            },
            "display_id": "84306faa-0664-44ca-9dea-feef19ced004",
            "dx_settings": {
              "ALLOW_NOTEABLE_ATTRS": true,
              "COLUMN_SAMPLING_METHOD": "outer",
              "DB_LOCATION": ":memory:",
              "DEV_MODE": false,
              "DISPLAY_MAX_COLUMNS": 100,
              "DISPLAY_MAX_ROWS": 50000,
              "DISPLAY_MODE": "simple",
              "ENABLE_ASSIGNMENT": true,
              "ENABLE_DATALINK": true,
              "FLATTEN_COLUMN_VALUES": true,
              "FLATTEN_INDEX_VALUES": false,
              "GENERATE_DEX_METADATA": false,
              "HTML_TABLE_SCHEMA": false,
              "LOG_LEVEL": 30,
              "MAX_RENDER_SIZE_BYTES": 104857600,
              "MAX_STRING_LENGTH": 250,
              "NUM_PAST_SAMPLES_TRACKED": 3,
              "RANDOM_STATE": 12648430,
              "RESET_INDEX_VALUES": false,
              "ROW_SAMPLING_METHOD": "random",
              "SAMPLING_FACTOR": 0.1,
              "SAMPLING_METHOD": "random",
              "STRINGIFY_COLUMN_VALUES": true,
              "STRINGIFY_INDEX_VALUES": false
            },
            "sample_history": [],
            "sampling_time": "2023-09-23T22:50:41.508293",
            "user_variable_name": "sql_df_6",
            "variable_name": "sql_df_6"
          }
        },
        "scrolled": false,
        "dx": {
          "dashboard": {
            "multiViews": []
          },
          "fieldMetadata": {
            "COUNTRY": {
              "columnPosition": 3
            },
            "PRODUCT": {
              "columnPosition": 2
            },
            "TIME": {
              "columnPosition": 4,
              "overrideType": "string"
            },
            "VALUE": {
              "columnPosition": 5
            },
            "index": {
              "columnPosition": 1
            }
          },
          "updated": 1695495549318,
          "views": [
            {
              "annotationRules": [],
              "chart": {},
              "chartMode": "grid",
              "confoRules": [],
              "decoration": {
                "footer": "",
                "subtitle": "",
                "title": "Table"
              },
              "facets": [],
              "filterSettings": {
                "SHOW_FILTER_PANEL": true,
                "filters": []
              },
              "id": "first-view",
              "isDefault": true,
              "type": "public",
              "userID": ""
            },
            {
              "annotationRules": [],
              "chart": {},
              "chartMode": "grid",
              "confoRules": [],
              "decoration": {
                "footer": "",
                "subtitle": "",
                "title": "Table"
              },
              "facets": [],
              "filterSettings": {
                "SHOW_FILTER_PANEL": true,
                "filters": []
              },
              "id": "first-view",
              "isDefault": true,
              "isTransitory": true,
              "type": "public",
              "userID": ""
            }
          ]
        },
        "jupyter": {
          "outputs_hidden": true
        }
      },
      "execution_count": null,
      "source": "\nSELECT *\nFROM PERGDP\n-- GROUP BY PRODUCT\nLIMIT 100;",
      "outputs": []
    },
    {
      "id": "f910ad54-22b6-497c-9ecb-049721623f30",
      "cell_type": "markdown",
      "source": "# Rank Countries by Total USD Spent in Renewable RD&D",
      "metadata": {
        "noteable": {
          "cell_type": "markdown"
        }
      }
    },
    {
      "id": "b2eff138-06e2-4f1e-b950-980fe4522161",
      "cell_type": "code",
      "metadata": {
        "noteable": {
          "assign_results_to": "totalrenew",
          "cell_type": "sql",
          "db_connection": "@a37175f02c134520ab7e873e53f898f3",
          "output_collection_id": "3c2d0c53-54dc-4f3a-9d5f-1ae9072bd96d"
        },
        "ExecuteTime": {
          "end_time": "2023-09-23T22:50:42.129129+00:00",
          "start_time": "2023-09-23T22:50:41.673409+00:00"
        },
        "datalink": {
          "8f79a43b-179f-43cc-9219-6c64dc60c4b6": {
            "applied_filters": [],
            "dataframe_info": {
              "default_index_used": true,
              "orig_num_cols": 5,
              "orig_num_rows": 100,
              "orig_size_bytes": 4800,
              "truncated_num_cols": 5,
              "truncated_num_rows": 100,
              "truncated_size_bytes": 4800,
              "truncated_string_columns": []
            },
            "display_id": "8f79a43b-179f-43cc-9219-6c64dc60c4b6",
            "dx_settings": {
              "ALLOW_NOTEABLE_ATTRS": true,
              "COLUMN_SAMPLING_METHOD": "outer",
              "DB_LOCATION": ":memory:",
              "DEV_MODE": false,
              "DISPLAY_MAX_COLUMNS": 100,
              "DISPLAY_MAX_ROWS": 50000,
              "DISPLAY_MODE": "simple",
              "ENABLE_ASSIGNMENT": true,
              "ENABLE_DATALINK": true,
              "FLATTEN_COLUMN_VALUES": true,
              "FLATTEN_INDEX_VALUES": false,
              "GENERATE_DEX_METADATA": false,
              "HTML_TABLE_SCHEMA": false,
              "LOG_LEVEL": 30,
              "MAX_RENDER_SIZE_BYTES": 104857600,
              "MAX_STRING_LENGTH": 250,
              "NUM_PAST_SAMPLES_TRACKED": 3,
              "RANDOM_STATE": 12648430,
              "RESET_INDEX_VALUES": false,
              "ROW_SAMPLING_METHOD": "random",
              "SAMPLING_FACTOR": 0.1,
              "SAMPLING_METHOD": "random",
              "STRINGIFY_COLUMN_VALUES": true,
              "STRINGIFY_INDEX_VALUES": false
            },
            "sample_history": [],
            "sampling_time": "2023-09-23T18:32:12.653303",
            "user_variable_name": "sql_df_12",
            "variable_name": "sql_df_12"
          },
          "7b520730-39e4-4079-b92e-d77ef634a3d0": {
            "applied_filters": [],
            "dataframe_info": {
              "default_index_used": true,
              "orig_num_cols": 5,
              "orig_num_rows": 100,
              "orig_size_bytes": 4800,
              "truncated_num_cols": 5,
              "truncated_num_rows": 100,
              "truncated_size_bytes": 4800,
              "truncated_string_columns": []
            },
            "display_id": "7b520730-39e4-4079-b92e-d77ef634a3d0",
            "dx_settings": {
              "ALLOW_NOTEABLE_ATTRS": true,
              "COLUMN_SAMPLING_METHOD": "outer",
              "DB_LOCATION": ":memory:",
              "DEV_MODE": false,
              "DISPLAY_MAX_COLUMNS": 100,
              "DISPLAY_MAX_ROWS": 50000,
              "DISPLAY_MODE": "simple",
              "ENABLE_ASSIGNMENT": true,
              "ENABLE_DATALINK": true,
              "FLATTEN_COLUMN_VALUES": true,
              "FLATTEN_INDEX_VALUES": false,
              "GENERATE_DEX_METADATA": false,
              "HTML_TABLE_SCHEMA": false,
              "LOG_LEVEL": 30,
              "MAX_RENDER_SIZE_BYTES": 104857600,
              "MAX_STRING_LENGTH": 250,
              "NUM_PAST_SAMPLES_TRACKED": 3,
              "RANDOM_STATE": 12648430,
              "RESET_INDEX_VALUES": false,
              "ROW_SAMPLING_METHOD": "random",
              "SAMPLING_FACTOR": 0.1,
              "SAMPLING_METHOD": "random",
              "STRINGIFY_COLUMN_VALUES": true,
              "STRINGIFY_INDEX_VALUES": false
            },
            "sample_history": [],
            "sampling_time": "2023-09-23T18:47:00.641785",
            "user_variable_name": "sql_df_12",
            "variable_name": "sql_df_12"
          },
          "16059fab-0fb6-4120-bdc2-9e49f84b16c0": {
            "applied_filters": [],
            "dataframe_info": {
              "default_index_used": true,
              "orig_num_cols": 5,
              "orig_num_rows": 10,
              "orig_size_bytes": 480,
              "truncated_num_cols": 5,
              "truncated_num_rows": 10,
              "truncated_size_bytes": 480,
              "truncated_string_columns": []
            },
            "display_id": "16059fab-0fb6-4120-bdc2-9e49f84b16c0",
            "dx_settings": {
              "ALLOW_NOTEABLE_ATTRS": true,
              "COLUMN_SAMPLING_METHOD": "outer",
              "DB_LOCATION": ":memory:",
              "DEV_MODE": false,
              "DISPLAY_MAX_COLUMNS": 100,
              "DISPLAY_MAX_ROWS": 50000,
              "DISPLAY_MODE": "simple",
              "ENABLE_ASSIGNMENT": true,
              "ENABLE_DATALINK": true,
              "FLATTEN_COLUMN_VALUES": true,
              "FLATTEN_INDEX_VALUES": false,
              "GENERATE_DEX_METADATA": false,
              "HTML_TABLE_SCHEMA": false,
              "LOG_LEVEL": 30,
              "MAX_RENDER_SIZE_BYTES": 104857600,
              "MAX_STRING_LENGTH": 250,
              "NUM_PAST_SAMPLES_TRACKED": 3,
              "RANDOM_STATE": 12648430,
              "RESET_INDEX_VALUES": false,
              "ROW_SAMPLING_METHOD": "random",
              "SAMPLING_FACTOR": 0.1,
              "SAMPLING_METHOD": "random",
              "STRINGIFY_COLUMN_VALUES": true,
              "STRINGIFY_INDEX_VALUES": false
            },
            "sample_history": [],
            "sampling_time": "2023-09-23T18:49:15.008349",
            "user_variable_name": "sql_df_12",
            "variable_name": "sql_df_12"
          },
          "ebb40027-b57d-4cf5-8510-7f02674bc0fa": {
            "applied_filters": [],
            "dataframe_info": {
              "default_index_used": true,
              "orig_num_cols": 5,
              "orig_num_rows": 2772,
              "orig_size_bytes": 133056,
              "truncated_num_cols": 5,
              "truncated_num_rows": 2772,
              "truncated_size_bytes": 133056,
              "truncated_string_columns": []
            },
            "display_id": "ebb40027-b57d-4cf5-8510-7f02674bc0fa",
            "dx_settings": {
              "ALLOW_NOTEABLE_ATTRS": true,
              "COLUMN_SAMPLING_METHOD": "outer",
              "DB_LOCATION": ":memory:",
              "DEV_MODE": false,
              "DISPLAY_MAX_COLUMNS": 100,
              "DISPLAY_MAX_ROWS": 50000,
              "DISPLAY_MODE": "simple",
              "ENABLE_ASSIGNMENT": true,
              "ENABLE_DATALINK": true,
              "FLATTEN_COLUMN_VALUES": true,
              "FLATTEN_INDEX_VALUES": false,
              "GENERATE_DEX_METADATA": false,
              "HTML_TABLE_SCHEMA": false,
              "LOG_LEVEL": 30,
              "MAX_RENDER_SIZE_BYTES": 104857600,
              "MAX_STRING_LENGTH": 250,
              "NUM_PAST_SAMPLES_TRACKED": 3,
              "RANDOM_STATE": 12648430,
              "RESET_INDEX_VALUES": false,
              "ROW_SAMPLING_METHOD": "random",
              "SAMPLING_FACTOR": 0.1,
              "SAMPLING_METHOD": "random",
              "STRINGIFY_COLUMN_VALUES": true,
              "STRINGIFY_INDEX_VALUES": false
            },
            "sample_history": [],
            "sampling_time": "2023-09-23T18:49:27.341345",
            "user_variable_name": "sql_df_12",
            "variable_name": "sql_df_12"
          },
          "b454d7d7-831d-418c-a4cd-9cac930a50e5": {
            "applied_filters": [],
            "dataframe_info": {
              "default_index_used": true,
              "orig_num_cols": 5,
              "orig_num_rows": 272,
              "orig_size_bytes": 13056,
              "truncated_num_cols": 5,
              "truncated_num_rows": 272,
              "truncated_size_bytes": 13056,
              "truncated_string_columns": []
            },
            "display_id": "b454d7d7-831d-418c-a4cd-9cac930a50e5",
            "dx_settings": {
              "ALLOW_NOTEABLE_ATTRS": true,
              "COLUMN_SAMPLING_METHOD": "outer",
              "DB_LOCATION": ":memory:",
              "DEV_MODE": false,
              "DISPLAY_MAX_COLUMNS": 100,
              "DISPLAY_MAX_ROWS": 50000,
              "DISPLAY_MODE": "simple",
              "ENABLE_ASSIGNMENT": true,
              "ENABLE_DATALINK": true,
              "FLATTEN_COLUMN_VALUES": true,
              "FLATTEN_INDEX_VALUES": false,
              "GENERATE_DEX_METADATA": false,
              "HTML_TABLE_SCHEMA": false,
              "LOG_LEVEL": 30,
              "MAX_RENDER_SIZE_BYTES": 104857600,
              "MAX_STRING_LENGTH": 250,
              "NUM_PAST_SAMPLES_TRACKED": 3,
              "RANDOM_STATE": 12648430,
              "RESET_INDEX_VALUES": false,
              "ROW_SAMPLING_METHOD": "random",
              "SAMPLING_FACTOR": 0.1,
              "SAMPLING_METHOD": "random",
              "STRINGIFY_COLUMN_VALUES": true,
              "STRINGIFY_INDEX_VALUES": false
            },
            "sample_history": [],
            "sampling_time": "2023-09-23T19:10:36.700867",
            "user_variable_name": "totalusff",
            "variable_name": "totalusff"
          },
          "4523e399-4ee3-497a-97e6-058b27298d13": {
            "applied_filters": [],
            "dataframe_info": {
              "default_index_used": true,
              "orig_num_cols": 5,
              "orig_num_rows": 264,
              "orig_size_bytes": 12672,
              "truncated_num_cols": 5,
              "truncated_num_rows": 264,
              "truncated_size_bytes": 12672,
              "truncated_string_columns": []
            },
            "display_id": "4523e399-4ee3-497a-97e6-058b27298d13",
            "dx_settings": {
              "ALLOW_NOTEABLE_ATTRS": true,
              "COLUMN_SAMPLING_METHOD": "outer",
              "DB_LOCATION": ":memory:",
              "DEV_MODE": false,
              "DISPLAY_MAX_COLUMNS": 100,
              "DISPLAY_MAX_ROWS": 50000,
              "DISPLAY_MODE": "simple",
              "ENABLE_ASSIGNMENT": true,
              "ENABLE_DATALINK": true,
              "FLATTEN_COLUMN_VALUES": true,
              "FLATTEN_INDEX_VALUES": false,
              "GENERATE_DEX_METADATA": false,
              "HTML_TABLE_SCHEMA": false,
              "LOG_LEVEL": 30,
              "MAX_RENDER_SIZE_BYTES": 104857600,
              "MAX_STRING_LENGTH": 250,
              "NUM_PAST_SAMPLES_TRACKED": 3,
              "RANDOM_STATE": 12648430,
              "RESET_INDEX_VALUES": false,
              "ROW_SAMPLING_METHOD": "random",
              "SAMPLING_FACTOR": 0.1,
              "SAMPLING_METHOD": "random",
              "STRINGIFY_COLUMN_VALUES": true,
              "STRINGIFY_INDEX_VALUES": false
            },
            "sample_history": [],
            "sampling_time": "2023-09-23T19:11:44.200489",
            "user_variable_name": "totalusff",
            "variable_name": "totalusff"
          },
          "58c00d80-08fe-4475-992a-1f71b079aa80": {
            "applied_filters": [],
            "dataframe_info": {
              "default_index_used": true,
              "orig_num_cols": 5,
              "orig_num_rows": 2441,
              "orig_size_bytes": 117168,
              "truncated_num_cols": 5,
              "truncated_num_rows": 2441,
              "truncated_size_bytes": 117168,
              "truncated_string_columns": []
            },
            "display_id": "58c00d80-08fe-4475-992a-1f71b079aa80",
            "dx_settings": {
              "ALLOW_NOTEABLE_ATTRS": true,
              "COLUMN_SAMPLING_METHOD": "outer",
              "DB_LOCATION": ":memory:",
              "DEV_MODE": false,
              "DISPLAY_MAX_COLUMNS": 100,
              "DISPLAY_MAX_ROWS": 50000,
              "DISPLAY_MODE": "simple",
              "ENABLE_ASSIGNMENT": true,
              "ENABLE_DATALINK": true,
              "FLATTEN_COLUMN_VALUES": true,
              "FLATTEN_INDEX_VALUES": false,
              "GENERATE_DEX_METADATA": false,
              "HTML_TABLE_SCHEMA": false,
              "LOG_LEVEL": 30,
              "MAX_RENDER_SIZE_BYTES": 104857600,
              "MAX_STRING_LENGTH": 250,
              "NUM_PAST_SAMPLES_TRACKED": 3,
              "RANDOM_STATE": 12648430,
              "RESET_INDEX_VALUES": false,
              "ROW_SAMPLING_METHOD": "random",
              "SAMPLING_FACTOR": 0.1,
              "SAMPLING_METHOD": "random",
              "STRINGIFY_COLUMN_VALUES": true,
              "STRINGIFY_INDEX_VALUES": false
            },
            "sample_history": [],
            "sampling_time": "2023-09-23T19:28:10.077191",
            "user_variable_name": "totalusff",
            "variable_name": "totalusff"
          },
          "b9a52441-4eb7-4089-9083-052c5d1f10a7": {
            "applied_filters": [],
            "dataframe_info": {
              "default_index_used": true,
              "orig_num_cols": 5,
              "orig_num_rows": 2301,
              "orig_size_bytes": 110448,
              "truncated_num_cols": 5,
              "truncated_num_rows": 2301,
              "truncated_size_bytes": 110448,
              "truncated_string_columns": []
            },
            "display_id": "b9a52441-4eb7-4089-9083-052c5d1f10a7",
            "dx_settings": {
              "ALLOW_NOTEABLE_ATTRS": true,
              "COLUMN_SAMPLING_METHOD": "outer",
              "DB_LOCATION": ":memory:",
              "DEV_MODE": false,
              "DISPLAY_MAX_COLUMNS": 100,
              "DISPLAY_MAX_ROWS": 50000,
              "DISPLAY_MODE": "simple",
              "ENABLE_ASSIGNMENT": true,
              "ENABLE_DATALINK": true,
              "FLATTEN_COLUMN_VALUES": true,
              "FLATTEN_INDEX_VALUES": false,
              "GENERATE_DEX_METADATA": false,
              "HTML_TABLE_SCHEMA": false,
              "LOG_LEVEL": 30,
              "MAX_RENDER_SIZE_BYTES": 104857600,
              "MAX_STRING_LENGTH": 250,
              "NUM_PAST_SAMPLES_TRACKED": 3,
              "RANDOM_STATE": 12648430,
              "RESET_INDEX_VALUES": false,
              "ROW_SAMPLING_METHOD": "random",
              "SAMPLING_FACTOR": 0.1,
              "SAMPLING_METHOD": "random",
              "STRINGIFY_COLUMN_VALUES": true,
              "STRINGIFY_INDEX_VALUES": false
            },
            "sample_history": [],
            "sampling_time": "2023-09-23T19:28:40.078099",
            "user_variable_name": "totalusff",
            "variable_name": "totalusff"
          },
          "ca02b183-f684-4046-8298-44d14fbe6762": {
            "applied_filters": [],
            "dataframe_info": {
              "default_index_used": true,
              "orig_num_cols": 5,
              "orig_num_rows": 2037,
              "orig_size_bytes": 97776,
              "truncated_num_cols": 5,
              "truncated_num_rows": 2037,
              "truncated_size_bytes": 97776,
              "truncated_string_columns": []
            },
            "display_id": "ca02b183-f684-4046-8298-44d14fbe6762",
            "dx_settings": {
              "ALLOW_NOTEABLE_ATTRS": true,
              "COLUMN_SAMPLING_METHOD": "outer",
              "DB_LOCATION": ":memory:",
              "DEV_MODE": false,
              "DISPLAY_MAX_COLUMNS": 100,
              "DISPLAY_MAX_ROWS": 50000,
              "DISPLAY_MODE": "simple",
              "ENABLE_ASSIGNMENT": true,
              "ENABLE_DATALINK": true,
              "FLATTEN_COLUMN_VALUES": true,
              "FLATTEN_INDEX_VALUES": false,
              "GENERATE_DEX_METADATA": false,
              "HTML_TABLE_SCHEMA": false,
              "LOG_LEVEL": 30,
              "MAX_RENDER_SIZE_BYTES": 104857600,
              "MAX_STRING_LENGTH": 250,
              "NUM_PAST_SAMPLES_TRACKED": 3,
              "RANDOM_STATE": 12648430,
              "RESET_INDEX_VALUES": false,
              "ROW_SAMPLING_METHOD": "random",
              "SAMPLING_FACTOR": 0.1,
              "SAMPLING_METHOD": "random",
              "STRINGIFY_COLUMN_VALUES": true,
              "STRINGIFY_INDEX_VALUES": false
            },
            "sample_history": [],
            "sampling_time": "2023-09-23T19:29:17.040859",
            "user_variable_name": "totalusff",
            "variable_name": "totalusff"
          },
          "87d42650-9440-4e1d-9dae-e6322586a6ca": {
            "applied_filters": [],
            "dataframe_info": {
              "default_index_used": true,
              "orig_num_cols": 5,
              "orig_num_rows": 1773,
              "orig_size_bytes": 85104,
              "truncated_num_cols": 5,
              "truncated_num_rows": 1773,
              "truncated_size_bytes": 85104,
              "truncated_string_columns": []
            },
            "display_id": "87d42650-9440-4e1d-9dae-e6322586a6ca",
            "dx_settings": {
              "ALLOW_NOTEABLE_ATTRS": true,
              "COLUMN_SAMPLING_METHOD": "outer",
              "DB_LOCATION": ":memory:",
              "DEV_MODE": false,
              "DISPLAY_MAX_COLUMNS": 100,
              "DISPLAY_MAX_ROWS": 50000,
              "DISPLAY_MODE": "simple",
              "ENABLE_ASSIGNMENT": true,
              "ENABLE_DATALINK": true,
              "FLATTEN_COLUMN_VALUES": true,
              "FLATTEN_INDEX_VALUES": false,
              "GENERATE_DEX_METADATA": false,
              "HTML_TABLE_SCHEMA": false,
              "LOG_LEVEL": 30,
              "MAX_RENDER_SIZE_BYTES": 104857600,
              "MAX_STRING_LENGTH": 250,
              "NUM_PAST_SAMPLES_TRACKED": 3,
              "RANDOM_STATE": 12648430,
              "RESET_INDEX_VALUES": false,
              "ROW_SAMPLING_METHOD": "random",
              "SAMPLING_FACTOR": 0.1,
              "SAMPLING_METHOD": "random",
              "STRINGIFY_COLUMN_VALUES": true,
              "STRINGIFY_INDEX_VALUES": false
            },
            "sample_history": [],
            "sampling_time": "2023-09-23T19:29:51.927570",
            "user_variable_name": "totalusff",
            "variable_name": "totalusff"
          },
          "a560ef25-0bad-452c-8b1a-fa84e3857137": {
            "applied_filters": [],
            "dataframe_info": {
              "default_index_used": true,
              "orig_num_cols": 5,
              "orig_num_rows": 1773,
              "orig_size_bytes": 85104,
              "truncated_num_cols": 5,
              "truncated_num_rows": 1773,
              "truncated_size_bytes": 85104,
              "truncated_string_columns": []
            },
            "display_id": "a560ef25-0bad-452c-8b1a-fa84e3857137",
            "dx_settings": {
              "ALLOW_NOTEABLE_ATTRS": true,
              "COLUMN_SAMPLING_METHOD": "outer",
              "DB_LOCATION": ":memory:",
              "DEV_MODE": false,
              "DISPLAY_MAX_COLUMNS": 100,
              "DISPLAY_MAX_ROWS": 50000,
              "DISPLAY_MODE": "simple",
              "ENABLE_ASSIGNMENT": true,
              "ENABLE_DATALINK": true,
              "FLATTEN_COLUMN_VALUES": true,
              "FLATTEN_INDEX_VALUES": false,
              "GENERATE_DEX_METADATA": false,
              "HTML_TABLE_SCHEMA": false,
              "LOG_LEVEL": 30,
              "MAX_RENDER_SIZE_BYTES": 104857600,
              "MAX_STRING_LENGTH": 250,
              "NUM_PAST_SAMPLES_TRACKED": 3,
              "RANDOM_STATE": 12648430,
              "RESET_INDEX_VALUES": false,
              "ROW_SAMPLING_METHOD": "random",
              "SAMPLING_FACTOR": 0.1,
              "SAMPLING_METHOD": "random",
              "STRINGIFY_COLUMN_VALUES": true,
              "STRINGIFY_INDEX_VALUES": false
            },
            "sample_history": [],
            "sampling_time": "2023-09-23T19:32:18.876923",
            "user_variable_name": "totalusff",
            "variable_name": "totalusff"
          },
          "5df3c8ab-1c30-469e-98db-89fe6a9f451d": {
            "applied_filters": [],
            "dataframe_info": {
              "default_index_used": true,
              "orig_num_cols": 5,
              "orig_num_rows": 1773,
              "orig_size_bytes": 85104,
              "truncated_num_cols": 5,
              "truncated_num_rows": 1773,
              "truncated_size_bytes": 85104,
              "truncated_string_columns": []
            },
            "display_id": "5df3c8ab-1c30-469e-98db-89fe6a9f451d",
            "dx_settings": {
              "ALLOW_NOTEABLE_ATTRS": true,
              "COLUMN_SAMPLING_METHOD": "outer",
              "DB_LOCATION": ":memory:",
              "DEV_MODE": false,
              "DISPLAY_MAX_COLUMNS": 100,
              "DISPLAY_MAX_ROWS": 50000,
              "DISPLAY_MODE": "simple",
              "ENABLE_ASSIGNMENT": true,
              "ENABLE_DATALINK": true,
              "FLATTEN_COLUMN_VALUES": true,
              "FLATTEN_INDEX_VALUES": false,
              "GENERATE_DEX_METADATA": false,
              "HTML_TABLE_SCHEMA": false,
              "LOG_LEVEL": 30,
              "MAX_RENDER_SIZE_BYTES": 104857600,
              "MAX_STRING_LENGTH": 250,
              "NUM_PAST_SAMPLES_TRACKED": 3,
              "RANDOM_STATE": 12648430,
              "RESET_INDEX_VALUES": false,
              "ROW_SAMPLING_METHOD": "random",
              "SAMPLING_FACTOR": 0.1,
              "SAMPLING_METHOD": "random",
              "STRINGIFY_COLUMN_VALUES": true,
              "STRINGIFY_INDEX_VALUES": false
            },
            "sample_history": [],
            "sampling_time": "2023-09-23T19:32:31.041837",
            "user_variable_name": "totalusff",
            "variable_name": "totalusff"
          },
          "0c201cba-1da2-4899-a32d-2ec02083db31": {
            "applied_filters": [],
            "dataframe_info": {
              "default_index_used": true,
              "orig_num_cols": 5,
              "orig_num_rows": 1773,
              "orig_size_bytes": 85104,
              "truncated_num_cols": 5,
              "truncated_num_rows": 1773,
              "truncated_size_bytes": 85104,
              "truncated_string_columns": []
            },
            "display_id": "0c201cba-1da2-4899-a32d-2ec02083db31",
            "dx_settings": {
              "ALLOW_NOTEABLE_ATTRS": true,
              "COLUMN_SAMPLING_METHOD": "outer",
              "DB_LOCATION": ":memory:",
              "DEV_MODE": false,
              "DISPLAY_MAX_COLUMNS": 100,
              "DISPLAY_MAX_ROWS": 50000,
              "DISPLAY_MODE": "simple",
              "ENABLE_ASSIGNMENT": true,
              "ENABLE_DATALINK": true,
              "FLATTEN_COLUMN_VALUES": true,
              "FLATTEN_INDEX_VALUES": false,
              "GENERATE_DEX_METADATA": false,
              "HTML_TABLE_SCHEMA": false,
              "LOG_LEVEL": 30,
              "MAX_RENDER_SIZE_BYTES": 104857600,
              "MAX_STRING_LENGTH": 250,
              "NUM_PAST_SAMPLES_TRACKED": 3,
              "RANDOM_STATE": 12648430,
              "RESET_INDEX_VALUES": false,
              "ROW_SAMPLING_METHOD": "random",
              "SAMPLING_FACTOR": 0.1,
              "SAMPLING_METHOD": "random",
              "STRINGIFY_COLUMN_VALUES": true,
              "STRINGIFY_INDEX_VALUES": false
            },
            "sample_history": [],
            "sampling_time": "2023-09-23T19:32:50.224268",
            "user_variable_name": "totalusff",
            "variable_name": "totalusff"
          },
          "598d3c3b-e0f5-402b-81a3-6369d70fed92": {
            "applied_filters": [],
            "dataframe_info": {
              "default_index_used": true,
              "orig_num_cols": 5,
              "orig_num_rows": 1773,
              "orig_size_bytes": 85104,
              "truncated_num_cols": 5,
              "truncated_num_rows": 1773,
              "truncated_size_bytes": 85104,
              "truncated_string_columns": []
            },
            "display_id": "598d3c3b-e0f5-402b-81a3-6369d70fed92",
            "dx_settings": {
              "ALLOW_NOTEABLE_ATTRS": true,
              "COLUMN_SAMPLING_METHOD": "outer",
              "DB_LOCATION": ":memory:",
              "DEV_MODE": false,
              "DISPLAY_MAX_COLUMNS": 100,
              "DISPLAY_MAX_ROWS": 50000,
              "DISPLAY_MODE": "simple",
              "ENABLE_ASSIGNMENT": true,
              "ENABLE_DATALINK": true,
              "FLATTEN_COLUMN_VALUES": true,
              "FLATTEN_INDEX_VALUES": false,
              "GENERATE_DEX_METADATA": false,
              "HTML_TABLE_SCHEMA": false,
              "LOG_LEVEL": 30,
              "MAX_RENDER_SIZE_BYTES": 104857600,
              "MAX_STRING_LENGTH": 250,
              "NUM_PAST_SAMPLES_TRACKED": 3,
              "RANDOM_STATE": 12648430,
              "RESET_INDEX_VALUES": false,
              "ROW_SAMPLING_METHOD": "random",
              "SAMPLING_FACTOR": 0.1,
              "SAMPLING_METHOD": "random",
              "STRINGIFY_COLUMN_VALUES": true,
              "STRINGIFY_INDEX_VALUES": false
            },
            "sample_history": [],
            "sampling_time": "2023-09-23T20:09:27.318988",
            "user_variable_name": "totalrenew",
            "variable_name": "totalrenew"
          },
          "ec506bb8-1b51-4b21-8257-a5e25ce92892": {
            "applied_filters": [],
            "dataframe_info": {
              "default_index_used": true,
              "orig_num_cols": 5,
              "orig_num_rows": 1790,
              "orig_size_bytes": 85920,
              "truncated_num_cols": 5,
              "truncated_num_rows": 1790,
              "truncated_size_bytes": 85920,
              "truncated_string_columns": []
            },
            "display_id": "ec506bb8-1b51-4b21-8257-a5e25ce92892",
            "dx_settings": {
              "ALLOW_NOTEABLE_ATTRS": true,
              "COLUMN_SAMPLING_METHOD": "outer",
              "DB_LOCATION": ":memory:",
              "DEV_MODE": false,
              "DISPLAY_MAX_COLUMNS": 100,
              "DISPLAY_MAX_ROWS": 50000,
              "DISPLAY_MODE": "simple",
              "ENABLE_ASSIGNMENT": true,
              "ENABLE_DATALINK": true,
              "FLATTEN_COLUMN_VALUES": true,
              "FLATTEN_INDEX_VALUES": false,
              "GENERATE_DEX_METADATA": false,
              "HTML_TABLE_SCHEMA": false,
              "LOG_LEVEL": 30,
              "MAX_RENDER_SIZE_BYTES": 104857600,
              "MAX_STRING_LENGTH": 250,
              "NUM_PAST_SAMPLES_TRACKED": 3,
              "RANDOM_STATE": 12648430,
              "RESET_INDEX_VALUES": false,
              "ROW_SAMPLING_METHOD": "random",
              "SAMPLING_FACTOR": 0.1,
              "SAMPLING_METHOD": "random",
              "STRINGIFY_COLUMN_VALUES": true,
              "STRINGIFY_INDEX_VALUES": false
            },
            "sample_history": [],
            "sampling_time": "2023-09-23T20:09:40.410234",
            "user_variable_name": "totalrenew",
            "variable_name": "totalrenew"
          },
          "2c467504-faf3-4d26-8cec-39221ff9e3f4": {
            "applied_filters": [],
            "dataframe_info": {
              "default_index_used": true,
              "orig_num_cols": 5,
              "orig_num_rows": 1790,
              "orig_size_bytes": 85920,
              "truncated_num_cols": 5,
              "truncated_num_rows": 1790,
              "truncated_size_bytes": 85920,
              "truncated_string_columns": []
            },
            "display_id": "2c467504-faf3-4d26-8cec-39221ff9e3f4",
            "dx_settings": {
              "ALLOW_NOTEABLE_ATTRS": true,
              "COLUMN_SAMPLING_METHOD": "outer",
              "DB_LOCATION": ":memory:",
              "DEV_MODE": false,
              "DISPLAY_MAX_COLUMNS": 100,
              "DISPLAY_MAX_ROWS": 50000,
              "DISPLAY_MODE": "simple",
              "ENABLE_ASSIGNMENT": true,
              "ENABLE_DATALINK": true,
              "FLATTEN_COLUMN_VALUES": true,
              "FLATTEN_INDEX_VALUES": false,
              "GENERATE_DEX_METADATA": false,
              "HTML_TABLE_SCHEMA": false,
              "LOG_LEVEL": 30,
              "MAX_RENDER_SIZE_BYTES": 104857600,
              "MAX_STRING_LENGTH": 250,
              "NUM_PAST_SAMPLES_TRACKED": 3,
              "RANDOM_STATE": 12648430,
              "RESET_INDEX_VALUES": false,
              "ROW_SAMPLING_METHOD": "random",
              "SAMPLING_FACTOR": 0.1,
              "SAMPLING_METHOD": "random",
              "STRINGIFY_COLUMN_VALUES": true,
              "STRINGIFY_INDEX_VALUES": false
            },
            "sample_history": [],
            "sampling_time": "2023-09-23T20:33:30.842427",
            "user_variable_name": "totalrenew",
            "variable_name": "totalrenew"
          },
          "2fb3887e-c5c7-490a-b6c5-28e764e327e1": {
            "applied_filters": [],
            "dataframe_info": {
              "default_index_used": true,
              "orig_num_cols": 5,
              "orig_num_rows": 1790,
              "orig_size_bytes": 85920,
              "truncated_num_cols": 5,
              "truncated_num_rows": 1790,
              "truncated_size_bytes": 85920,
              "truncated_string_columns": []
            },
            "display_id": "2fb3887e-c5c7-490a-b6c5-28e764e327e1",
            "dx_settings": {
              "ALLOW_NOTEABLE_ATTRS": true,
              "COLUMN_SAMPLING_METHOD": "outer",
              "DB_LOCATION": ":memory:",
              "DEV_MODE": false,
              "DISPLAY_MAX_COLUMNS": 100,
              "DISPLAY_MAX_ROWS": 50000,
              "DISPLAY_MODE": "simple",
              "ENABLE_ASSIGNMENT": true,
              "ENABLE_DATALINK": true,
              "FLATTEN_COLUMN_VALUES": true,
              "FLATTEN_INDEX_VALUES": false,
              "GENERATE_DEX_METADATA": false,
              "HTML_TABLE_SCHEMA": false,
              "LOG_LEVEL": 30,
              "MAX_RENDER_SIZE_BYTES": 104857600,
              "MAX_STRING_LENGTH": 250,
              "NUM_PAST_SAMPLES_TRACKED": 3,
              "RANDOM_STATE": 12648430,
              "RESET_INDEX_VALUES": false,
              "ROW_SAMPLING_METHOD": "random",
              "SAMPLING_FACTOR": 0.1,
              "SAMPLING_METHOD": "random",
              "STRINGIFY_COLUMN_VALUES": true,
              "STRINGIFY_INDEX_VALUES": false
            },
            "sample_history": [],
            "sampling_time": "2023-09-23T22:50:41.960685",
            "user_variable_name": "totalrenew",
            "variable_name": "totalrenew"
          }
        },
        "dx": {
          "dashboard": {
            "multiViews": []
          },
          "fieldMetadata": {
            "COUNTRY": {
              "columnPosition": 2
            },
            "FLOW": {
              "columnPosition": 4
            },
            "PRODUCT": {
              "columnPosition": 3
            },
            "TIME": {
              "columnPosition": 5
            },
            "VALUE": {
              "columnPosition": 6,
              "format": "$0,0a[.]00",
              "overrideType": "number",
              "sort": "desc"
            },
            "index": {
              "columnPosition": 1
            }
          },
          "simpleTable": true,
          "simpleTableExpanded": true,
          "updated": 1695506547746,
          "views": [
            {
              "annotationRules": [],
              "chart": {},
              "chartMode": "grid",
              "confoRules": [],
              "decoration": {
                "footer": "",
                "subtitle": "",
                "title": "Table"
              },
              "facets": [],
              "filterSettings": {
                "SHOW_FILTER_PANEL": true,
                "filters": []
              },
              "id": "first-view",
              "isDefault": true,
              "type": "public",
              "userID": ""
            },
            {
              "annotationRules": [],
              "chart": {
                "adjacencyList": "COUNTRY",
                "areaType": "hexbin",
                "barGrouping": "Clustered",
                "barLabel": "none",
                "barProjection": "horizontal",
                "barSubcategory": "none",
                "baseLayer": "world",
                "baseLayerFill": "#FFFFFF",
                "baseLayerStroke": "#000000",
                "bgColor": "none",
                "bigNumberComparison": "raw",
                "bigNumberSecondMetric": "TIME",
                "boundingSettings": {
                  "TIME": {
                    "lowerBoundingMetric": "none",
                    "upperBoundingMetric": "none"
                  },
                  "VALUE": {
                    "lowerBoundingMetric": "none",
                    "upperBoundingMetric": "none"
                  },
                  "index": {
                    "lowerBoundingMetric": "none",
                    "upperBoundingMetric": "none"
                  }
                },
                "boundingType": "absolute",
                "boxplotOutliers": false,
                "candleClose": "TIME",
                "candleHigh": "TIME",
                "candleLow": "TIME",
                "candleOpen": "TIME",
                "columnLine": false,
                "combinationMode": "AVG",
                "cspOrder": "index",
                "deselectedKeysHash": {},
                "dim1": "COUNTRY",
                "dim2": "COUNTRY",
                "dim3": "none",
                "edgeMode": "edge list",
                "facetMetrics": [],
                "facets": [],
                "filteredDataOnly": "All Data",
                "formulaDisplay": "none",
                "funnelColorMode": "node",
                "funnelData": "metric",
                "funnelDirection": "linear",
                "funnelMetricOrder": [
                  "VALUE",
                  "TIME",
                  "index"
                ],
                "funnelMode": "bar",
                "gridSize": 10,
                "groupOther": false,
                "hierarchyType": "treemap",
                "isBrushing": false,
                "labelType": "stem",
                "layerSettings": [
                  {
                    "color": "#000000",
                    "hoverOpts": {
                      "dims": [
                        "index",
                        "COUNTRY",
                        "PRODUCT",
                        "FLOW",
                        "TIME"
                      ],
                      "mets": [
                        "VALUE",
                        "TIME",
                        "index"
                      ]
                    },
                    "id": "7848cf81-dfbe-475e-96ce-6484d15adb10",
                    "pointSizeOpts": {
                      "max": 2466.245,
                      "met": "VALUE",
                      "min": 0.002,
                      "mode": "fixed",
                      "scale": "Linear",
                      "size": 2,
                      "sizeMax": 10,
                      "sizeMin": 1
                    },
                    "size": 2,
                    "stroke": "#000000",
                    "strokeWidth": 1,
                    "transparency": 0.9,
                    "type": "point"
                  }
                ],
                "lineInterpolator": "linear",
                "lineLabels": "none",
                "lineSmoothing": "none",
                "lineType": "line",
                "mapMode": "choro",
                "mapZoom": "basemap",
                "marginalGraphics": "none",
                "metric1": "VALUE",
                "metric2": "TIME",
                "metric3": "none",
                "metric4": "none",
                "multiAxisLine": false,
                "networkLabel": "scaled",
                "networkLabelContents": "id",
                "networkType": "force",
                "parCoordsColor": "none",
                "parcoordsColumns": [
                  "COUNTRY",
                  "PRODUCT",
                  "FLOW",
                  "index",
                  "TIME",
                  "VALUE"
                ],
                "pieLabelContents": "name",
                "pieLabelType": "rim",
                "primaryKey": [],
                "proBarMode": "Combined",
                "radarData": "row",
                "scatterplotColor": "none",
                "scatterplotSize": "none",
                "secondBarMetric": "none",
                "selectedDimensions": [
                  "COUNTRY"
                ],
                "selectedMetrics": [],
                "selectedMetricsDiverging": [],
                "showContours": false,
                "showTotal": false,
                "sortColumnsBy": "asc-val",
                "sortRowsBy": "asc-val",
                "sparkchart": "none",
                "splitLinesBy": "none",
                "splomMode": "correlation",
                "summaryBins": 30,
                "summaryType": "violin",
                "surveyDataType": "row",
                "surveyResponses": {
                  "negative": [],
                  "neutral": [],
                  "positive": [
                    "VALUE"
                  ]
                },
                "tableSparklines": true,
                "tableStatistics": true,
                "textDataFormat": "sentence",
                "timeseriesSort": "VALUE",
                "tokenMetric": "TIME",
                "trendLine": "none",
                "violinIQR": false,
                "wordColor": "none",
                "wordData": "COUNTRY",
                "wordRotate": "none",
                "zeroBaseline": false
              },
              "chartMode": "hierarchy",
              "confoRules": [],
              "decoration": {
                "footer": "",
                "subtitle": "",
                "title": "Treemap"
              },
              "facets": [],
              "filterSettings": {
                "SHOW_FILTER_PANEL": true,
                "filters": []
              },
              "id": "first-view",
              "isDefault": true,
              "isTransitory": true,
              "type": "public",
              "userID": ""
            },
            {
              "annotationRules": [],
              "chart": {},
              "chartMode": "empty",
              "confoRules": [],
              "decoration": {
                "footer": "",
                "subtitle": "",
                "title": "New View"
              },
              "facets": [],
              "filterSettings": {
                "SHOW_FILTER_PANEL": true,
                "filters": []
              },
              "id": "0ee6abe4-2c69-42e4-b829-6375b2a5cb8d",
              "isDefault": false,
              "type": "public",
              "userID": ""
            },
            {
              "annotationRules": [],
              "chart": {
                "facets": []
              },
              "chartMode": "grid",
              "confoRules": [],
              "decoration": {
                "footer": "",
                "subtitle": "",
                "title": "Table"
              },
              "facets": [],
              "filterSettings": {
                "SHOW_FILTER_PANEL": true,
                "filters": []
              },
              "id": "0ee6abe4-2c69-42e4-b829-6375b2a5cb8d",
              "isDefault": false,
              "isTransitory": true,
              "type": "public",
              "userID": ""
            },
            {
              "annotationRules": [],
              "chart": {},
              "chartMode": "empty",
              "confoRules": [],
              "decoration": {
                "footer": "",
                "subtitle": "",
                "title": "New View"
              },
              "facets": [],
              "filterSettings": {
                "SHOW_FILTER_PANEL": true,
                "filters": []
              },
              "id": "101af5c4-dabc-442a-8473-7d2d1239778d",
              "isDefault": false,
              "type": "public",
              "userID": ""
            },
            {
              "annotationRules": [],
              "chart": {
                "facets": [],
                "layerSettings": [
                  {
                    "color": "#000000",
                    "hoverOpts": {
                      "dims": [
                        "index",
                        "COUNTRY",
                        "PRODUCT",
                        "FLOW",
                        "TIME"
                      ],
                      "mets": [
                        "VALUE",
                        "TIME",
                        "index"
                      ]
                    },
                    "id": "2c0ee411-cd9e-4fb5-a591-29f08fd1503b",
                    "pointSizeOpts": {
                      "max": 2466.245,
                      "met": "VALUE",
                      "min": 0.002,
                      "mode": "fixed",
                      "scale": "Linear",
                      "size": 2,
                      "sizeMax": 10,
                      "sizeMin": 1
                    },
                    "size": 2,
                    "stroke": "#000000",
                    "strokeWidth": 1,
                    "transparency": 0.9,
                    "type": "point"
                  },
                  {
                    "combinationMetric": "VALUE",
                    "combinationMode": "AVG",
                    "fill": "#ffffff",
                    "hoverOpts": {},
                    "id": "81b2e627-2c1d-419e-bb91-bfb122cef692",
                    "joinDim": "COUNTRY",
                    "stroke": "#000000",
                    "strokeWidth": 0,
                    "transparency": 0.9,
                    "type": "choro"
                  }
                ],
                "mapMode": "choro"
              },
              "chartMode": "map",
              "confoRules": [],
              "decoration": {
                "footer": "",
                "subtitle": "",
                "title": "Choropleth Map"
              },
              "facets": [],
              "filterSettings": {
                "SHOW_FILTER_PANEL": true,
                "filters": []
              },
              "id": "101af5c4-dabc-442a-8473-7d2d1239778d",
              "isDefault": false,
              "isTransitory": true,
              "type": "public",
              "userID": ""
            }
          ]
        },
        "scrolled": false,
        "jupyter": {
          "outputs_hidden": true
        }
      },
      "execution_count": null,
      "source": "SELECT *\nFROM COUNTRY_BUDGETS_SUMMARY\nWHERE TIME > 2015\nAND PRODUCT = 'RDDUSD'\nAND FLOW NOT IN ('FOSSILFUEL', 'UNALLOC', 'TOTAL', 'MEMONLC')\nAND COUNTRY NOT LIKE 'EU'\nORDER BY VALUE DESC;",
      "outputs": []
    },
    {
      "id": "bc3043a2-73c9-462a-8f5b-42be128133b5",
      "cell_type": "markdown",
      "source": "## Create table ranked by Million USD spent in RD&D",
      "metadata": {
        "noteable": {
          "cell_type": "markdown"
        }
      }
    },
    {
      "id": "0516cb90-0a61-4ce0-af96-92824e8bc902",
      "cell_type": "code",
      "metadata": {
        "jupyter": {
          "outputs_hidden": false,
          "source_hidden": false
        },
        "noteable": {
          "cell_type": "code",
          "output_collection_id": "8be47d40-0e1f-4b9b-931d-5396047a9d48"
        },
        "ExecuteTime": {
          "end_time": "2023-09-23T22:50:42.559957+00:00",
          "start_time": "2023-09-23T22:50:42.362256+00:00"
        },
        "datalink": {
          "aa5c6f7c-56d0-4a2b-8089-2e66867a7cbd": {
            "applied_filters": [],
            "dataframe_info": {
              "default_index_used": true,
              "orig_num_cols": 5,
              "orig_num_rows": 5,
              "orig_size_bytes": 240,
              "truncated_num_cols": 5,
              "truncated_num_rows": 5,
              "truncated_size_bytes": 240,
              "truncated_string_columns": []
            },
            "display_id": "aa5c6f7c-56d0-4a2b-8089-2e66867a7cbd",
            "dx_settings": {
              "ALLOW_NOTEABLE_ATTRS": true,
              "COLUMN_SAMPLING_METHOD": "outer",
              "DB_LOCATION": ":memory:",
              "DEV_MODE": false,
              "DISPLAY_MAX_COLUMNS": 100,
              "DISPLAY_MAX_ROWS": 50000,
              "DISPLAY_MODE": "simple",
              "ENABLE_ASSIGNMENT": true,
              "ENABLE_DATALINK": true,
              "FLATTEN_COLUMN_VALUES": true,
              "FLATTEN_INDEX_VALUES": false,
              "GENERATE_DEX_METADATA": false,
              "HTML_TABLE_SCHEMA": false,
              "LOG_LEVEL": 30,
              "MAX_RENDER_SIZE_BYTES": 104857600,
              "MAX_STRING_LENGTH": 250,
              "NUM_PAST_SAMPLES_TRACKED": 3,
              "RANDOM_STATE": 12648430,
              "RESET_INDEX_VALUES": false,
              "ROW_SAMPLING_METHOD": "random",
              "SAMPLING_FACTOR": 0.1,
              "SAMPLING_METHOD": "random",
              "STRINGIFY_COLUMN_VALUES": true,
              "STRINGIFY_INDEX_VALUES": false
            },
            "sample_history": [],
            "sampling_time": "2023-09-23T19:45:07.407123",
            "user_variable_name": null,
            "variable_name": "unk_dataframe_fd789b4c6c3f449d81da0b047efbe69c"
          },
          "0a5fa2d1-7e06-43fb-9d59-ac7c838edea3": {
            "applied_filters": [],
            "dataframe_info": {
              "default_index_used": true,
              "orig_num_cols": 1,
              "orig_num_rows": 5,
              "orig_size_bytes": 80,
              "truncated_num_cols": 1,
              "truncated_num_rows": 5,
              "truncated_size_bytes": 80,
              "truncated_string_columns": []
            },
            "display_id": "0a5fa2d1-7e06-43fb-9d59-ac7c838edea3",
            "dx_settings": {
              "ALLOW_NOTEABLE_ATTRS": true,
              "COLUMN_SAMPLING_METHOD": "outer",
              "DB_LOCATION": ":memory:",
              "DEV_MODE": false,
              "DISPLAY_MAX_COLUMNS": 100,
              "DISPLAY_MAX_ROWS": 50000,
              "DISPLAY_MODE": "simple",
              "ENABLE_ASSIGNMENT": true,
              "ENABLE_DATALINK": true,
              "FLATTEN_COLUMN_VALUES": true,
              "FLATTEN_INDEX_VALUES": false,
              "GENERATE_DEX_METADATA": false,
              "HTML_TABLE_SCHEMA": false,
              "LOG_LEVEL": 30,
              "MAX_RENDER_SIZE_BYTES": 104857600,
              "MAX_STRING_LENGTH": 250,
              "NUM_PAST_SAMPLES_TRACKED": 3,
              "RANDOM_STATE": 12648430,
              "RESET_INDEX_VALUES": false,
              "ROW_SAMPLING_METHOD": "random",
              "SAMPLING_FACTOR": 0.1,
              "SAMPLING_METHOD": "random",
              "STRINGIFY_COLUMN_VALUES": true,
              "STRINGIFY_INDEX_VALUES": false
            },
            "sample_history": [],
            "sampling_time": "2023-09-23T19:49:33.450992",
            "user_variable_name": null,
            "variable_name": "unk_dataframe_7ef586b687f140909ec85ab1f45e342c"
          },
          "c82cbac5-1b04-4440-9795-99ad3ed4e51e": {
            "applied_filters": [],
            "dataframe_info": {
              "default_index_used": true,
              "orig_num_cols": 1,
              "orig_num_rows": 100,
              "orig_size_bytes": 1600,
              "truncated_num_cols": 1,
              "truncated_num_rows": 100,
              "truncated_size_bytes": 1600,
              "truncated_string_columns": []
            },
            "display_id": "c82cbac5-1b04-4440-9795-99ad3ed4e51e",
            "dx_settings": {
              "ALLOW_NOTEABLE_ATTRS": true,
              "COLUMN_SAMPLING_METHOD": "outer",
              "DB_LOCATION": ":memory:",
              "DEV_MODE": false,
              "DISPLAY_MAX_COLUMNS": 100,
              "DISPLAY_MAX_ROWS": 50000,
              "DISPLAY_MODE": "simple",
              "ENABLE_ASSIGNMENT": true,
              "ENABLE_DATALINK": true,
              "FLATTEN_COLUMN_VALUES": true,
              "FLATTEN_INDEX_VALUES": false,
              "GENERATE_DEX_METADATA": false,
              "HTML_TABLE_SCHEMA": false,
              "LOG_LEVEL": 30,
              "MAX_RENDER_SIZE_BYTES": 104857600,
              "MAX_STRING_LENGTH": 250,
              "NUM_PAST_SAMPLES_TRACKED": 3,
              "RANDOM_STATE": 12648430,
              "RESET_INDEX_VALUES": false,
              "ROW_SAMPLING_METHOD": "random",
              "SAMPLING_FACTOR": 0.1,
              "SAMPLING_METHOD": "random",
              "STRINGIFY_COLUMN_VALUES": true,
              "STRINGIFY_INDEX_VALUES": false
            },
            "sample_history": [],
            "sampling_time": "2023-09-23T19:49:45.230354",
            "user_variable_name": null,
            "variable_name": "unk_dataframe_5ef28edd5ac24edcb648b1ea27fb1885"
          },
          "18bdd699-4249-4641-9c50-cc3c35c1cca5": {
            "applied_filters": [],
            "dataframe_info": {
              "default_index_used": true,
              "orig_num_cols": 3,
              "orig_num_rows": 5,
              "orig_size_bytes": 160,
              "truncated_num_cols": 3,
              "truncated_num_rows": 5,
              "truncated_size_bytes": 160,
              "truncated_string_columns": []
            },
            "display_id": "18bdd699-4249-4641-9c50-cc3c35c1cca5",
            "dx_settings": {
              "ALLOW_NOTEABLE_ATTRS": true,
              "COLUMN_SAMPLING_METHOD": "outer",
              "DB_LOCATION": ":memory:",
              "DEV_MODE": false,
              "DISPLAY_MAX_COLUMNS": 100,
              "DISPLAY_MAX_ROWS": 50000,
              "DISPLAY_MODE": "simple",
              "ENABLE_ASSIGNMENT": true,
              "ENABLE_DATALINK": true,
              "FLATTEN_COLUMN_VALUES": true,
              "FLATTEN_INDEX_VALUES": false,
              "GENERATE_DEX_METADATA": false,
              "HTML_TABLE_SCHEMA": false,
              "LOG_LEVEL": 30,
              "MAX_RENDER_SIZE_BYTES": 104857600,
              "MAX_STRING_LENGTH": 250,
              "NUM_PAST_SAMPLES_TRACKED": 3,
              "RANDOM_STATE": 12648430,
              "RESET_INDEX_VALUES": false,
              "ROW_SAMPLING_METHOD": "random",
              "SAMPLING_FACTOR": 0.1,
              "SAMPLING_METHOD": "random",
              "STRINGIFY_COLUMN_VALUES": true,
              "STRINGIFY_INDEX_VALUES": false
            },
            "sample_history": [],
            "sampling_time": "2023-09-23T19:51:57.381154",
            "user_variable_name": null,
            "variable_name": "unk_dataframe_74fca0645f194800834d83b6da2d4561"
          },
          "b47bf6dc-7ee2-41db-b450-e459dfb99ca3": {
            "applied_filters": [],
            "dataframe_info": {
              "default_index_used": true,
              "orig_num_cols": 3,
              "orig_num_rows": 5,
              "orig_size_bytes": 160,
              "truncated_num_cols": 3,
              "truncated_num_rows": 5,
              "truncated_size_bytes": 160,
              "truncated_string_columns": []
            },
            "display_id": "b47bf6dc-7ee2-41db-b450-e459dfb99ca3",
            "dx_settings": {
              "ALLOW_NOTEABLE_ATTRS": true,
              "COLUMN_SAMPLING_METHOD": "outer",
              "DB_LOCATION": ":memory:",
              "DEV_MODE": false,
              "DISPLAY_MAX_COLUMNS": 100,
              "DISPLAY_MAX_ROWS": 50000,
              "DISPLAY_MODE": "simple",
              "ENABLE_ASSIGNMENT": true,
              "ENABLE_DATALINK": true,
              "FLATTEN_COLUMN_VALUES": true,
              "FLATTEN_INDEX_VALUES": false,
              "GENERATE_DEX_METADATA": false,
              "HTML_TABLE_SCHEMA": false,
              "LOG_LEVEL": 30,
              "MAX_RENDER_SIZE_BYTES": 104857600,
              "MAX_STRING_LENGTH": 250,
              "NUM_PAST_SAMPLES_TRACKED": 3,
              "RANDOM_STATE": 12648430,
              "RESET_INDEX_VALUES": false,
              "ROW_SAMPLING_METHOD": "random",
              "SAMPLING_FACTOR": 0.1,
              "SAMPLING_METHOD": "random",
              "STRINGIFY_COLUMN_VALUES": true,
              "STRINGIFY_INDEX_VALUES": false
            },
            "sample_history": [],
            "sampling_time": "2023-09-23T19:52:12.016984",
            "user_variable_name": null,
            "variable_name": "unk_dataframe_f8f4a07b530d40109e88a34971bd6721"
          },
          "128344e6-67d6-4b54-882d-4171b22a11fe": {
            "applied_filters": [],
            "dataframe_info": {
              "default_index_used": true,
              "orig_num_cols": 3,
              "orig_num_rows": 33,
              "orig_size_bytes": 1056,
              "truncated_num_cols": 3,
              "truncated_num_rows": 33,
              "truncated_size_bytes": 1056,
              "truncated_string_columns": []
            },
            "display_id": "128344e6-67d6-4b54-882d-4171b22a11fe",
            "dx_settings": {
              "ALLOW_NOTEABLE_ATTRS": true,
              "COLUMN_SAMPLING_METHOD": "outer",
              "DB_LOCATION": ":memory:",
              "DEV_MODE": false,
              "DISPLAY_MAX_COLUMNS": 100,
              "DISPLAY_MAX_ROWS": 50000,
              "DISPLAY_MODE": "simple",
              "ENABLE_ASSIGNMENT": true,
              "ENABLE_DATALINK": true,
              "FLATTEN_COLUMN_VALUES": true,
              "FLATTEN_INDEX_VALUES": false,
              "GENERATE_DEX_METADATA": false,
              "HTML_TABLE_SCHEMA": false,
              "LOG_LEVEL": 30,
              "MAX_RENDER_SIZE_BYTES": 104857600,
              "MAX_STRING_LENGTH": 250,
              "NUM_PAST_SAMPLES_TRACKED": 3,
              "RANDOM_STATE": 12648430,
              "RESET_INDEX_VALUES": false,
              "ROW_SAMPLING_METHOD": "random",
              "SAMPLING_FACTOR": 0.1,
              "SAMPLING_METHOD": "random",
              "STRINGIFY_COLUMN_VALUES": true,
              "STRINGIFY_INDEX_VALUES": false
            },
            "sample_history": [],
            "sampling_time": "2023-09-23T19:52:33.611350",
            "user_variable_name": null,
            "variable_name": "unk_dataframe_661e624c1acf4f1d87de9a0d4c776124"
          },
          "4e942687-34b7-4500-bc2d-38181517a9c9": {
            "applied_filters": [],
            "dataframe_info": {
              "default_index_used": true,
              "orig_num_cols": 3,
              "orig_num_rows": 33,
              "orig_size_bytes": 1056,
              "truncated_num_cols": 3,
              "truncated_num_rows": 33,
              "truncated_size_bytes": 1056,
              "truncated_string_columns": []
            },
            "display_id": "4e942687-34b7-4500-bc2d-38181517a9c9",
            "dx_settings": {
              "ALLOW_NOTEABLE_ATTRS": true,
              "COLUMN_SAMPLING_METHOD": "outer",
              "DB_LOCATION": ":memory:",
              "DEV_MODE": false,
              "DISPLAY_MAX_COLUMNS": 100,
              "DISPLAY_MAX_ROWS": 50000,
              "DISPLAY_MODE": "simple",
              "ENABLE_ASSIGNMENT": true,
              "ENABLE_DATALINK": true,
              "FLATTEN_COLUMN_VALUES": true,
              "FLATTEN_INDEX_VALUES": false,
              "GENERATE_DEX_METADATA": false,
              "HTML_TABLE_SCHEMA": false,
              "LOG_LEVEL": 30,
              "MAX_RENDER_SIZE_BYTES": 104857600,
              "MAX_STRING_LENGTH": 250,
              "NUM_PAST_SAMPLES_TRACKED": 3,
              "RANDOM_STATE": 12648430,
              "RESET_INDEX_VALUES": false,
              "ROW_SAMPLING_METHOD": "random",
              "SAMPLING_FACTOR": 0.1,
              "SAMPLING_METHOD": "random",
              "STRINGIFY_COLUMN_VALUES": true,
              "STRINGIFY_INDEX_VALUES": false
            },
            "sample_history": [],
            "sampling_time": "2023-09-23T19:53:22.771381",
            "user_variable_name": null,
            "variable_name": "unk_dataframe_657ef87ec9b0462998751fd7e9738134"
          },
          "cf383f29-5a83-425d-b489-39d0e213692e": {
            "applied_filters": [],
            "dataframe_info": {
              "default_index_used": true,
              "orig_num_cols": 3,
              "orig_num_rows": 33,
              "orig_size_bytes": 1056,
              "truncated_num_cols": 3,
              "truncated_num_rows": 33,
              "truncated_size_bytes": 1056,
              "truncated_string_columns": []
            },
            "display_id": "cf383f29-5a83-425d-b489-39d0e213692e",
            "dx_settings": {
              "ALLOW_NOTEABLE_ATTRS": true,
              "COLUMN_SAMPLING_METHOD": "outer",
              "DB_LOCATION": ":memory:",
              "DEV_MODE": false,
              "DISPLAY_MAX_COLUMNS": 100,
              "DISPLAY_MAX_ROWS": 50000,
              "DISPLAY_MODE": "simple",
              "ENABLE_ASSIGNMENT": true,
              "ENABLE_DATALINK": true,
              "FLATTEN_COLUMN_VALUES": true,
              "FLATTEN_INDEX_VALUES": false,
              "GENERATE_DEX_METADATA": false,
              "HTML_TABLE_SCHEMA": false,
              "LOG_LEVEL": 30,
              "MAX_RENDER_SIZE_BYTES": 104857600,
              "MAX_STRING_LENGTH": 250,
              "NUM_PAST_SAMPLES_TRACKED": 3,
              "RANDOM_STATE": 12648430,
              "RESET_INDEX_VALUES": false,
              "ROW_SAMPLING_METHOD": "random",
              "SAMPLING_FACTOR": 0.1,
              "SAMPLING_METHOD": "random",
              "STRINGIFY_COLUMN_VALUES": true,
              "STRINGIFY_INDEX_VALUES": false
            },
            "sample_history": [],
            "sampling_time": "2023-09-23T19:55:06.463564",
            "user_variable_name": null,
            "variable_name": "unk_dataframe_4dc1a12f42064e258ceafc67e94d2112"
          },
          "2fa02e65-0a15-4242-b629-d57bb6136736": {
            "applied_filters": [],
            "dataframe_info": {
              "default_index_used": true,
              "orig_num_cols": 3,
              "orig_num_rows": 33,
              "orig_size_bytes": 1056,
              "truncated_num_cols": 3,
              "truncated_num_rows": 33,
              "truncated_size_bytes": 1056,
              "truncated_string_columns": []
            },
            "display_id": "2fa02e65-0a15-4242-b629-d57bb6136736",
            "dx_settings": {
              "ALLOW_NOTEABLE_ATTRS": true,
              "COLUMN_SAMPLING_METHOD": "outer",
              "DB_LOCATION": ":memory:",
              "DEV_MODE": false,
              "DISPLAY_MAX_COLUMNS": 100,
              "DISPLAY_MAX_ROWS": 50000,
              "DISPLAY_MODE": "simple",
              "ENABLE_ASSIGNMENT": true,
              "ENABLE_DATALINK": true,
              "FLATTEN_COLUMN_VALUES": true,
              "FLATTEN_INDEX_VALUES": false,
              "GENERATE_DEX_METADATA": false,
              "HTML_TABLE_SCHEMA": false,
              "LOG_LEVEL": 30,
              "MAX_RENDER_SIZE_BYTES": 104857600,
              "MAX_STRING_LENGTH": 250,
              "NUM_PAST_SAMPLES_TRACKED": 3,
              "RANDOM_STATE": 12648430,
              "RESET_INDEX_VALUES": false,
              "ROW_SAMPLING_METHOD": "random",
              "SAMPLING_FACTOR": 0.1,
              "SAMPLING_METHOD": "random",
              "STRINGIFY_COLUMN_VALUES": true,
              "STRINGIFY_INDEX_VALUES": false
            },
            "sample_history": [],
            "sampling_time": "2023-09-23T20:09:50.854544",
            "user_variable_name": null,
            "variable_name": "unk_dataframe_f46c220da66c4e69bb332682ec185aff"
          },
          "0a297c70-56aa-4265-8e98-46c23d8300ab": {
            "applied_filters": [],
            "dataframe_info": {
              "default_index_used": true,
              "orig_num_cols": 3,
              "orig_num_rows": 33,
              "orig_size_bytes": 1056,
              "truncated_num_cols": 3,
              "truncated_num_rows": 33,
              "truncated_size_bytes": 1056,
              "truncated_string_columns": []
            },
            "display_id": "0a297c70-56aa-4265-8e98-46c23d8300ab",
            "dx_settings": {
              "ALLOW_NOTEABLE_ATTRS": true,
              "COLUMN_SAMPLING_METHOD": "outer",
              "DB_LOCATION": ":memory:",
              "DEV_MODE": false,
              "DISPLAY_MAX_COLUMNS": 100,
              "DISPLAY_MAX_ROWS": 50000,
              "DISPLAY_MODE": "simple",
              "ENABLE_ASSIGNMENT": true,
              "ENABLE_DATALINK": true,
              "FLATTEN_COLUMN_VALUES": true,
              "FLATTEN_INDEX_VALUES": false,
              "GENERATE_DEX_METADATA": false,
              "HTML_TABLE_SCHEMA": false,
              "LOG_LEVEL": 30,
              "MAX_RENDER_SIZE_BYTES": 104857600,
              "MAX_STRING_LENGTH": 250,
              "NUM_PAST_SAMPLES_TRACKED": 3,
              "RANDOM_STATE": 12648430,
              "RESET_INDEX_VALUES": false,
              "ROW_SAMPLING_METHOD": "random",
              "SAMPLING_FACTOR": 0.1,
              "SAMPLING_METHOD": "random",
              "STRINGIFY_COLUMN_VALUES": true,
              "STRINGIFY_INDEX_VALUES": false
            },
            "sample_history": [],
            "sampling_time": "2023-09-23T20:13:34.557311",
            "user_variable_name": null,
            "variable_name": "unk_dataframe_42b53fb8970745b2b79c0ae18126dc94"
          },
          "75247da4-e61b-45da-ba5b-5b7dc952f981": {
            "applied_filters": [],
            "dataframe_info": {
              "default_index_used": true,
              "orig_num_cols": 3,
              "orig_num_rows": 33,
              "orig_size_bytes": 1056,
              "truncated_num_cols": 3,
              "truncated_num_rows": 33,
              "truncated_size_bytes": 1056,
              "truncated_string_columns": []
            },
            "display_id": "75247da4-e61b-45da-ba5b-5b7dc952f981",
            "dx_settings": {
              "ALLOW_NOTEABLE_ATTRS": true,
              "COLUMN_SAMPLING_METHOD": "outer",
              "DB_LOCATION": ":memory:",
              "DEV_MODE": false,
              "DISPLAY_MAX_COLUMNS": 100,
              "DISPLAY_MAX_ROWS": 50000,
              "DISPLAY_MODE": "simple",
              "ENABLE_ASSIGNMENT": true,
              "ENABLE_DATALINK": true,
              "FLATTEN_COLUMN_VALUES": true,
              "FLATTEN_INDEX_VALUES": false,
              "GENERATE_DEX_METADATA": false,
              "HTML_TABLE_SCHEMA": false,
              "LOG_LEVEL": 30,
              "MAX_RENDER_SIZE_BYTES": 104857600,
              "MAX_STRING_LENGTH": 250,
              "NUM_PAST_SAMPLES_TRACKED": 3,
              "RANDOM_STATE": 12648430,
              "RESET_INDEX_VALUES": false,
              "ROW_SAMPLING_METHOD": "random",
              "SAMPLING_FACTOR": 0.1,
              "SAMPLING_METHOD": "random",
              "STRINGIFY_COLUMN_VALUES": true,
              "STRINGIFY_INDEX_VALUES": false
            },
            "sample_history": [],
            "sampling_time": "2023-09-23T21:37:19.601032",
            "user_variable_name": null,
            "variable_name": "unk_dataframe_59b7659891044ab5b6f3beb47ebfb454"
          },
          "42479e99-f899-424b-a8d1-404226f373ba": {
            "applied_filters": [],
            "dataframe_info": {
              "default_index_used": true,
              "orig_num_cols": 3,
              "orig_num_rows": 33,
              "orig_size_bytes": 1056,
              "truncated_num_cols": 3,
              "truncated_num_rows": 33,
              "truncated_size_bytes": 1056,
              "truncated_string_columns": []
            },
            "display_id": "42479e99-f899-424b-a8d1-404226f373ba",
            "dx_settings": {
              "ALLOW_NOTEABLE_ATTRS": true,
              "COLUMN_SAMPLING_METHOD": "outer",
              "DB_LOCATION": ":memory:",
              "DEV_MODE": false,
              "DISPLAY_MAX_COLUMNS": 100,
              "DISPLAY_MAX_ROWS": 50000,
              "DISPLAY_MODE": "simple",
              "ENABLE_ASSIGNMENT": true,
              "ENABLE_DATALINK": true,
              "FLATTEN_COLUMN_VALUES": true,
              "FLATTEN_INDEX_VALUES": false,
              "GENERATE_DEX_METADATA": false,
              "HTML_TABLE_SCHEMA": false,
              "LOG_LEVEL": 30,
              "MAX_RENDER_SIZE_BYTES": 104857600,
              "MAX_STRING_LENGTH": 250,
              "NUM_PAST_SAMPLES_TRACKED": 3,
              "RANDOM_STATE": 12648430,
              "RESET_INDEX_VALUES": false,
              "ROW_SAMPLING_METHOD": "random",
              "SAMPLING_FACTOR": 0.1,
              "SAMPLING_METHOD": "random",
              "STRINGIFY_COLUMN_VALUES": true,
              "STRINGIFY_INDEX_VALUES": false
            },
            "sample_history": [],
            "sampling_time": "2023-09-23T21:37:31.348012",
            "user_variable_name": null,
            "variable_name": "unk_dataframe_8f37165c70f94363b14219a6ac36fecb"
          },
          "9327879e-8dcd-4d25-9b54-9caeddff2533": {
            "applied_filters": [],
            "dataframe_info": {
              "default_index_used": true,
              "orig_num_cols": 3,
              "orig_num_rows": 33,
              "orig_size_bytes": 1056,
              "truncated_num_cols": 3,
              "truncated_num_rows": 33,
              "truncated_size_bytes": 1056,
              "truncated_string_columns": []
            },
            "display_id": "9327879e-8dcd-4d25-9b54-9caeddff2533",
            "dx_settings": {
              "ALLOW_NOTEABLE_ATTRS": true,
              "COLUMN_SAMPLING_METHOD": "outer",
              "DB_LOCATION": ":memory:",
              "DEV_MODE": false,
              "DISPLAY_MAX_COLUMNS": 100,
              "DISPLAY_MAX_ROWS": 50000,
              "DISPLAY_MODE": "simple",
              "ENABLE_ASSIGNMENT": true,
              "ENABLE_DATALINK": true,
              "FLATTEN_COLUMN_VALUES": true,
              "FLATTEN_INDEX_VALUES": false,
              "GENERATE_DEX_METADATA": false,
              "HTML_TABLE_SCHEMA": false,
              "LOG_LEVEL": 30,
              "MAX_RENDER_SIZE_BYTES": 104857600,
              "MAX_STRING_LENGTH": 250,
              "NUM_PAST_SAMPLES_TRACKED": 3,
              "RANDOM_STATE": 12648430,
              "RESET_INDEX_VALUES": false,
              "ROW_SAMPLING_METHOD": "random",
              "SAMPLING_FACTOR": 0.1,
              "SAMPLING_METHOD": "random",
              "STRINGIFY_COLUMN_VALUES": true,
              "STRINGIFY_INDEX_VALUES": false
            },
            "sample_history": [],
            "sampling_time": "2023-09-23T21:38:03.068789",
            "user_variable_name": null,
            "variable_name": "unk_dataframe_2199310ec0a24bf6bc06437a613fe8d8"
          },
          "81f2768a-a82c-4541-ade8-3a6dddfb8f6c": {
            "applied_filters": [],
            "dataframe_info": {
              "default_index_used": true,
              "orig_num_cols": 3,
              "orig_num_rows": 33,
              "orig_size_bytes": 1056,
              "truncated_num_cols": 3,
              "truncated_num_rows": 33,
              "truncated_size_bytes": 1056,
              "truncated_string_columns": []
            },
            "display_id": "81f2768a-a82c-4541-ade8-3a6dddfb8f6c",
            "dx_settings": {
              "ALLOW_NOTEABLE_ATTRS": true,
              "COLUMN_SAMPLING_METHOD": "outer",
              "DB_LOCATION": ":memory:",
              "DEV_MODE": false,
              "DISPLAY_MAX_COLUMNS": 100,
              "DISPLAY_MAX_ROWS": 50000,
              "DISPLAY_MODE": "simple",
              "ENABLE_ASSIGNMENT": true,
              "ENABLE_DATALINK": true,
              "FLATTEN_COLUMN_VALUES": true,
              "FLATTEN_INDEX_VALUES": false,
              "GENERATE_DEX_METADATA": false,
              "HTML_TABLE_SCHEMA": false,
              "LOG_LEVEL": 30,
              "MAX_RENDER_SIZE_BYTES": 104857600,
              "MAX_STRING_LENGTH": 250,
              "NUM_PAST_SAMPLES_TRACKED": 3,
              "RANDOM_STATE": 12648430,
              "RESET_INDEX_VALUES": false,
              "ROW_SAMPLING_METHOD": "random",
              "SAMPLING_FACTOR": 0.1,
              "SAMPLING_METHOD": "random",
              "STRINGIFY_COLUMN_VALUES": true,
              "STRINGIFY_INDEX_VALUES": false
            },
            "sample_history": [],
            "sampling_time": "2023-09-23T22:50:42.401295",
            "user_variable_name": null,
            "variable_name": "unk_dataframe_fd87458651d14f5cb35a1481f959d814"
          }
        },
        "dx": {
          "dashboard": {
            "multiViews": []
          },
          "fieldMetadata": {
            "COUNTRY": {
              "columnPosition": 2
            },
            "RANK": {
              "columnPosition": 4,
              "sort": "asc"
            },
            "VALUE": {
              "columnPosition": 2
            },
            "index": {
              "columnPosition": 1
            }
          },
          "updated": 1695505070681,
          "views": [
            {
              "annotationRules": [],
              "chart": {},
              "chartMode": "grid",
              "confoRules": [],
              "decoration": {
                "footer": "",
                "subtitle": "",
                "title": "Table"
              },
              "facets": [],
              "filterSettings": {
                "SHOW_FILTER_PANEL": true,
                "filters": []
              },
              "id": "first-view",
              "isDefault": true,
              "type": "public",
              "userID": ""
            },
            {
              "annotationRules": [],
              "chart": {},
              "chartMode": "grid",
              "confoRules": [],
              "decoration": {
                "footer": "",
                "subtitle": "",
                "title": "Table"
              },
              "facets": [],
              "filterSettings": {
                "SHOW_FILTER_PANEL": true,
                "filters": []
              },
              "id": "first-view",
              "isDefault": true,
              "isTransitory": true,
              "type": "public",
              "userID": ""
            }
          ]
        }
      },
      "execution_count": null,
      "source": "# Changing data type to float\ntotalrenew['VALUE'] = pd.to_numeric(totalrenew['VALUE'], errors='coerce')\ntotalrenew['VALUE'] = totalrenew['VALUE'].round(2)\n\n# Group by 'COUNTRY' and calculate the total spending\ncountry_spending = totalrenew.groupby('COUNTRY')['VALUE'].sum().reset_index()\n\n# Sort the DataFrame by 'VALUE' in descending order and assign ranks\ncountry_spending['RANK'] = country_spending['VALUE'].rank(ascending=False, method='dense')\n\ncountry_spending.sort_values('RANK', ascending=True)",
      "outputs": []
    },
    {
      "id": "52a23eb9-e48f-4020-a8ea-043b9d268f94",
      "cell_type": "markdown",
      "source": "# Rank Countries by Total USD Spent in Fossil Fuels\n",
      "metadata": {
        "noteable": {
          "cell_type": "markdown"
        }
      }
    },
    {
      "id": "48440c90-df49-4bd8-ba7b-0c7335848c36",
      "cell_type": "code",
      "metadata": {
        "noteable": {
          "assign_results_to": "totalfossil",
          "cell_type": "sql",
          "db_connection": "@a37175f02c134520ab7e873e53f898f3",
          "output_collection_id": "38b64b5f-b0b4-4290-b8d8-093214b66977"
        },
        "ExecuteTime": {
          "end_time": "2023-09-23T22:50:42.885819+00:00",
          "start_time": "2023-09-23T22:50:42.564817+00:00"
        },
        "datalink": {
          "1b3d38bf-f26a-45b9-b00f-bdd19fec84be": {
            "applied_filters": [],
            "dataframe_info": {
              "default_index_used": true,
              "orig_num_cols": 5,
              "orig_num_rows": 250,
              "orig_size_bytes": 12000,
              "truncated_num_cols": 5,
              "truncated_num_rows": 250,
              "truncated_size_bytes": 12000,
              "truncated_string_columns": []
            },
            "display_id": "1b3d38bf-f26a-45b9-b00f-bdd19fec84be",
            "dx_settings": {
              "ALLOW_NOTEABLE_ATTRS": true,
              "COLUMN_SAMPLING_METHOD": "outer",
              "DB_LOCATION": ":memory:",
              "DEV_MODE": false,
              "DISPLAY_MAX_COLUMNS": 100,
              "DISPLAY_MAX_ROWS": 50000,
              "DISPLAY_MODE": "simple",
              "ENABLE_ASSIGNMENT": true,
              "ENABLE_DATALINK": true,
              "FLATTEN_COLUMN_VALUES": true,
              "FLATTEN_INDEX_VALUES": false,
              "GENERATE_DEX_METADATA": false,
              "HTML_TABLE_SCHEMA": false,
              "LOG_LEVEL": 30,
              "MAX_RENDER_SIZE_BYTES": 104857600,
              "MAX_STRING_LENGTH": 250,
              "NUM_PAST_SAMPLES_TRACKED": 3,
              "RANDOM_STATE": 12648430,
              "RESET_INDEX_VALUES": false,
              "ROW_SAMPLING_METHOD": "random",
              "SAMPLING_FACTOR": 0.1,
              "SAMPLING_METHOD": "random",
              "STRINGIFY_COLUMN_VALUES": true,
              "STRINGIFY_INDEX_VALUES": false
            },
            "sample_history": [],
            "sampling_time": "2023-09-23T19:21:14.398929",
            "user_variable_name": "sql_df_12",
            "variable_name": "sql_df_12"
          },
          "3b4e7c66-8349-4763-807e-1ffd6dcab0ac": {
            "applied_filters": [],
            "dataframe_info": {
              "default_index_used": true,
              "orig_num_cols": 5,
              "orig_num_rows": 250,
              "orig_size_bytes": 12000,
              "truncated_num_cols": 5,
              "truncated_num_rows": 250,
              "truncated_size_bytes": 12000,
              "truncated_string_columns": []
            },
            "display_id": "3b4e7c66-8349-4763-807e-1ffd6dcab0ac",
            "dx_settings": {
              "ALLOW_NOTEABLE_ATTRS": true,
              "COLUMN_SAMPLING_METHOD": "outer",
              "DB_LOCATION": ":memory:",
              "DEV_MODE": false,
              "DISPLAY_MAX_COLUMNS": 100,
              "DISPLAY_MAX_ROWS": 50000,
              "DISPLAY_MODE": "simple",
              "ENABLE_ASSIGNMENT": true,
              "ENABLE_DATALINK": true,
              "FLATTEN_COLUMN_VALUES": true,
              "FLATTEN_INDEX_VALUES": false,
              "GENERATE_DEX_METADATA": false,
              "HTML_TABLE_SCHEMA": false,
              "LOG_LEVEL": 30,
              "MAX_RENDER_SIZE_BYTES": 104857600,
              "MAX_STRING_LENGTH": 250,
              "NUM_PAST_SAMPLES_TRACKED": 3,
              "RANDOM_STATE": 12648430,
              "RESET_INDEX_VALUES": false,
              "ROW_SAMPLING_METHOD": "random",
              "SAMPLING_FACTOR": 0.1,
              "SAMPLING_METHOD": "random",
              "STRINGIFY_COLUMN_VALUES": true,
              "STRINGIFY_INDEX_VALUES": false
            },
            "sample_history": [],
            "sampling_time": "2023-09-23T19:21:43.740631",
            "user_variable_name": "sql_df_12",
            "variable_name": "sql_df_12"
          },
          "e66a1818-2f75-4c66-ba1b-1ee5f6e3c9fe": {
            "applied_filters": [],
            "dataframe_info": {
              "default_index_used": true,
              "orig_num_cols": 5,
              "orig_num_rows": 250,
              "orig_size_bytes": 12000,
              "truncated_num_cols": 5,
              "truncated_num_rows": 250,
              "truncated_size_bytes": 12000,
              "truncated_string_columns": []
            },
            "display_id": "e66a1818-2f75-4c66-ba1b-1ee5f6e3c9fe",
            "dx_settings": {
              "ALLOW_NOTEABLE_ATTRS": true,
              "COLUMN_SAMPLING_METHOD": "outer",
              "DB_LOCATION": ":memory:",
              "DEV_MODE": false,
              "DISPLAY_MAX_COLUMNS": 100,
              "DISPLAY_MAX_ROWS": 50000,
              "DISPLAY_MODE": "simple",
              "ENABLE_ASSIGNMENT": true,
              "ENABLE_DATALINK": true,
              "FLATTEN_COLUMN_VALUES": true,
              "FLATTEN_INDEX_VALUES": false,
              "GENERATE_DEX_METADATA": false,
              "HTML_TABLE_SCHEMA": false,
              "LOG_LEVEL": 30,
              "MAX_RENDER_SIZE_BYTES": 104857600,
              "MAX_STRING_LENGTH": 250,
              "NUM_PAST_SAMPLES_TRACKED": 3,
              "RANDOM_STATE": 12648430,
              "RESET_INDEX_VALUES": false,
              "ROW_SAMPLING_METHOD": "random",
              "SAMPLING_FACTOR": 0.1,
              "SAMPLING_METHOD": "random",
              "STRINGIFY_COLUMN_VALUES": true,
              "STRINGIFY_INDEX_VALUES": false
            },
            "sample_history": [],
            "sampling_time": "2023-09-23T19:22:04.124832",
            "user_variable_name": "sql_df_12",
            "variable_name": "sql_df_12"
          },
          "9f7a7329-3c64-462c-bd86-6f96dad4bb21": {
            "applied_filters": [],
            "dataframe_info": {
              "default_index_used": true,
              "orig_num_cols": 5,
              "orig_num_rows": 250,
              "orig_size_bytes": 12000,
              "truncated_num_cols": 5,
              "truncated_num_rows": 250,
              "truncated_size_bytes": 12000,
              "truncated_string_columns": []
            },
            "display_id": "9f7a7329-3c64-462c-bd86-6f96dad4bb21",
            "dx_settings": {
              "ALLOW_NOTEABLE_ATTRS": true,
              "COLUMN_SAMPLING_METHOD": "outer",
              "DB_LOCATION": ":memory:",
              "DEV_MODE": false,
              "DISPLAY_MAX_COLUMNS": 100,
              "DISPLAY_MAX_ROWS": 50000,
              "DISPLAY_MODE": "simple",
              "ENABLE_ASSIGNMENT": true,
              "ENABLE_DATALINK": true,
              "FLATTEN_COLUMN_VALUES": true,
              "FLATTEN_INDEX_VALUES": false,
              "GENERATE_DEX_METADATA": false,
              "HTML_TABLE_SCHEMA": false,
              "LOG_LEVEL": 30,
              "MAX_RENDER_SIZE_BYTES": 104857600,
              "MAX_STRING_LENGTH": 250,
              "NUM_PAST_SAMPLES_TRACKED": 3,
              "RANDOM_STATE": 12648430,
              "RESET_INDEX_VALUES": false,
              "ROW_SAMPLING_METHOD": "random",
              "SAMPLING_FACTOR": 0.1,
              "SAMPLING_METHOD": "random",
              "STRINGIFY_COLUMN_VALUES": true,
              "STRINGIFY_INDEX_VALUES": false
            },
            "sample_history": [],
            "sampling_time": "2023-09-23T22:14:49.462104",
            "user_variable_name": "totalfossil",
            "variable_name": "totalfossil"
          },
          "3a3e420e-186d-4808-a9f7-2cdfe0d1836b": {
            "applied_filters": [],
            "dataframe_info": {
              "default_index_used": true,
              "orig_num_cols": 5,
              "orig_num_rows": 250,
              "orig_size_bytes": 12000,
              "truncated_num_cols": 5,
              "truncated_num_rows": 250,
              "truncated_size_bytes": 12000,
              "truncated_string_columns": []
            },
            "display_id": "3a3e420e-186d-4808-a9f7-2cdfe0d1836b",
            "dx_settings": {
              "ALLOW_NOTEABLE_ATTRS": true,
              "COLUMN_SAMPLING_METHOD": "outer",
              "DB_LOCATION": ":memory:",
              "DEV_MODE": false,
              "DISPLAY_MAX_COLUMNS": 100,
              "DISPLAY_MAX_ROWS": 50000,
              "DISPLAY_MODE": "simple",
              "ENABLE_ASSIGNMENT": true,
              "ENABLE_DATALINK": true,
              "FLATTEN_COLUMN_VALUES": true,
              "FLATTEN_INDEX_VALUES": false,
              "GENERATE_DEX_METADATA": false,
              "HTML_TABLE_SCHEMA": false,
              "LOG_LEVEL": 30,
              "MAX_RENDER_SIZE_BYTES": 104857600,
              "MAX_STRING_LENGTH": 250,
              "NUM_PAST_SAMPLES_TRACKED": 3,
              "RANDOM_STATE": 12648430,
              "RESET_INDEX_VALUES": false,
              "ROW_SAMPLING_METHOD": "random",
              "SAMPLING_FACTOR": 0.1,
              "SAMPLING_METHOD": "random",
              "STRINGIFY_COLUMN_VALUES": true,
              "STRINGIFY_INDEX_VALUES": false
            },
            "sample_history": [],
            "sampling_time": "2023-09-23T22:50:42.723148",
            "user_variable_name": "totalfossil",
            "variable_name": "totalfossil"
          }
        },
        "dx": {
          "dashboard": {
            "multiViews": []
          },
          "fieldMetadata": {
            "COUNTRY": {
              "columnPosition": 2
            },
            "FLOW": {
              "columnPosition": 4
            },
            "PRODUCT": {
              "columnPosition": 3
            },
            "TIME": {
              "columnPosition": 5
            },
            "VALUE": {
              "columnPosition": 6,
              "format": "$0,0a[.]00",
              "overrideType": "number",
              "sort": "desc"
            },
            "index": {
              "columnPosition": 1
            }
          },
          "updated": 1695507416463,
          "views": [
            {
              "annotationRules": [],
              "chart": {},
              "chartMode": "empty",
              "confoRules": [],
              "decoration": {
                "footer": "",
                "subtitle": "",
                "title": "New View"
              },
              "facets": [],
              "filterSettings": {
                "SHOW_FILTER_PANEL": true,
                "filters": []
              },
              "id": "be9345ff-d0ef-43a6-a7c5-29be25b58a07",
              "isDefault": false,
              "type": "public",
              "userID": ""
            },
            {
              "annotationRules": [],
              "chart": {
                "facets": [],
                "funnelMode": "bar",
                "hierarchyType": "treemap",
                "metric1": "VALUE",
                "networkLabel": "scaled",
                "selectedDimensions": [
                  "COUNTRY"
                ]
              },
              "chartMode": "grid",
              "confoRules": [],
              "decoration": {
                "footer": "",
                "subtitle": "",
                "title": "Table"
              },
              "facets": [],
              "filterSettings": {
                "SHOW_FILTER_PANEL": true,
                "filters": []
              },
              "id": "be9345ff-d0ef-43a6-a7c5-29be25b58a07",
              "isDefault": false,
              "isTransitory": true,
              "type": "public",
              "userID": ""
            },
            {
              "annotationRules": [],
              "chart": {},
              "chartMode": "empty",
              "confoRules": [],
              "decoration": {
                "footer": "",
                "subtitle": "",
                "title": "New View"
              },
              "facets": [],
              "filterSettings": {
                "SHOW_FILTER_PANEL": true,
                "filters": []
              },
              "id": "54fef066-5f10-4421-84a9-cb3ec2cfed3e",
              "isDefault": false,
              "type": "public",
              "userID": ""
            },
            {
              "annotationRules": [],
              "chart": {
                "facets": [],
                "hierarchyType": "treemap",
                "networkLabel": "scaled",
                "selectedDimensions": [
                  "COUNTRY"
                ]
              },
              "chartMode": "hierarchy",
              "confoRules": [],
              "decoration": {
                "footer": "",
                "subtitle": "",
                "title": "Treemap"
              },
              "facets": [],
              "filterSettings": {
                "SHOW_FILTER_PANEL": true,
                "filters": []
              },
              "id": "54fef066-5f10-4421-84a9-cb3ec2cfed3e",
              "isDefault": false,
              "isTransitory": true,
              "type": "public",
              "userID": ""
            }
          ]
        },
        "jupyter": {
          "outputs_hidden": false
        }
      },
      "execution_count": null,
      "source": "SELECT *\nFROM COUNTRY_BUDGETS_SUMMARY\nWHERE TIME > 2015\nAND PRODUCT = 'RDDUSD'\nAND FLOW = 'FOSSILFUEL'\nAND COUNTRY NOT LIKE 'EU'\nORDER BY PRODUCT DESC;",
      "outputs": []
    },
    {
      "id": "c625eb08-cf7a-46d1-9dbe-0a5f7bc6a551",
      "cell_type": "code",
      "metadata": {
        "noteable": {
          "cell_type": "python",
          "output_collection_id": "a0331cc9-9c91-4147-8a48-3cf095cba366"
        },
        "ExecuteTime": {
          "end_time": "2023-09-23T22:50:43.391520+00:00",
          "start_time": "2023-09-23T22:50:43.188645+00:00"
        },
        "datalink": {
          "e5ba0279-e8f3-4be0-9768-299c7a4646da": {
            "applied_filters": [],
            "dataframe_info": {
              "default_index_used": true,
              "orig_num_cols": 3,
              "orig_num_rows": 33,
              "orig_size_bytes": 1056,
              "truncated_num_cols": 3,
              "truncated_num_rows": 33,
              "truncated_size_bytes": 1056,
              "truncated_string_columns": []
            },
            "display_id": "e5ba0279-e8f3-4be0-9768-299c7a4646da",
            "dx_settings": {
              "ALLOW_NOTEABLE_ATTRS": true,
              "COLUMN_SAMPLING_METHOD": "outer",
              "DB_LOCATION": ":memory:",
              "DEV_MODE": false,
              "DISPLAY_MAX_COLUMNS": 100,
              "DISPLAY_MAX_ROWS": 50000,
              "DISPLAY_MODE": "simple",
              "ENABLE_ASSIGNMENT": true,
              "ENABLE_DATALINK": true,
              "FLATTEN_COLUMN_VALUES": true,
              "FLATTEN_INDEX_VALUES": false,
              "GENERATE_DEX_METADATA": false,
              "HTML_TABLE_SCHEMA": false,
              "LOG_LEVEL": 30,
              "MAX_RENDER_SIZE_BYTES": 104857600,
              "MAX_STRING_LENGTH": 250,
              "NUM_PAST_SAMPLES_TRACKED": 3,
              "RANDOM_STATE": 12648430,
              "RESET_INDEX_VALUES": false,
              "ROW_SAMPLING_METHOD": "random",
              "SAMPLING_FACTOR": 0.1,
              "SAMPLING_METHOD": "random",
              "STRINGIFY_COLUMN_VALUES": true,
              "STRINGIFY_INDEX_VALUES": false
            },
            "sample_history": [],
            "sampling_time": "2023-09-23T22:08:11.747433",
            "user_variable_name": null,
            "variable_name": "unk_dataframe_edfa2b5a9c20429e8a45577175968611"
          },
          "e09040e0-08b7-40e4-b7a2-1f693840511e": {
            "applied_filters": [],
            "dataframe_info": {
              "default_index_used": true,
              "orig_num_cols": 3,
              "orig_num_rows": 33,
              "orig_size_bytes": 1056,
              "truncated_num_cols": 3,
              "truncated_num_rows": 33,
              "truncated_size_bytes": 1056,
              "truncated_string_columns": []
            },
            "display_id": "e09040e0-08b7-40e4-b7a2-1f693840511e",
            "dx_settings": {
              "ALLOW_NOTEABLE_ATTRS": true,
              "COLUMN_SAMPLING_METHOD": "outer",
              "DB_LOCATION": ":memory:",
              "DEV_MODE": false,
              "DISPLAY_MAX_COLUMNS": 100,
              "DISPLAY_MAX_ROWS": 50000,
              "DISPLAY_MODE": "simple",
              "ENABLE_ASSIGNMENT": true,
              "ENABLE_DATALINK": true,
              "FLATTEN_COLUMN_VALUES": true,
              "FLATTEN_INDEX_VALUES": false,
              "GENERATE_DEX_METADATA": false,
              "HTML_TABLE_SCHEMA": false,
              "LOG_LEVEL": 30,
              "MAX_RENDER_SIZE_BYTES": 104857600,
              "MAX_STRING_LENGTH": 250,
              "NUM_PAST_SAMPLES_TRACKED": 3,
              "RANDOM_STATE": 12648430,
              "RESET_INDEX_VALUES": false,
              "ROW_SAMPLING_METHOD": "random",
              "SAMPLING_FACTOR": 0.1,
              "SAMPLING_METHOD": "random",
              "STRINGIFY_COLUMN_VALUES": true,
              "STRINGIFY_INDEX_VALUES": false
            },
            "sample_history": [],
            "sampling_time": "2023-09-23T22:50:43.232381",
            "user_variable_name": null,
            "variable_name": "unk_dataframe_210f1fad920f463f93714e2aae57a13f"
          }
        },
        "dx": {
          "dashboard": {
            "multiViews": []
          },
          "fieldMetadata": {},
          "updated": 1695507243913,
          "views": []
        }
      },
      "execution_count": null,
      "source": "totalfossil['VALUE'] = pd.to_numeric(totalfossil['VALUE'], errors='coerce')\ntotalfossil['VALUE'] = totalfossil['VALUE'].round(2)\n\n# Group by 'COUNTRY' and calculate the total spending\ndirty_countries = totalfossil.groupby('COUNTRY')['VALUE'].sum().reset_index()\n\n# Sort the DataFrame by 'VALUE' in descending order and assign ranks\ndirty_countries['RANK'] = dirty_countries['VALUE'].rank(ascending=False, method='dense')\n\ndirty_countries.sort_values('RANK', ascending=True)",
      "outputs": []
    },
    {
      "id": "5ed04613-a337-44fd-b316-a7406a858c79",
      "cell_type": "markdown",
      "source": "## Per GDP Data",
      "metadata": {
        "noteable": {
          "cell_type": "markdown"
        }
      }
    },
    {
      "id": "bab4fca6-131b-41ec-8626-9070e8c6c045",
      "cell_type": "code",
      "metadata": {
        "noteable": {
          "assign_results_to": "pergdp",
          "cell_type": "sql",
          "db_connection": "@a37175f02c134520ab7e873e53f898f3",
          "output_collection_id": "2d132397-de4c-4fb4-be90-10b52a9b5538"
        },
        "ExecuteTime": {
          "end_time": "2023-09-23T22:50:43.672972+00:00",
          "start_time": "2023-09-23T22:50:43.397211+00:00"
        },
        "datalink": {
          "1e403d51-3668-498c-97e0-5e27c4212633": {
            "applied_filters": [],
            "dataframe_info": {
              "default_index_used": true,
              "orig_num_cols": 4,
              "orig_num_rows": 1617,
              "orig_size_bytes": 64680,
              "truncated_num_cols": 4,
              "truncated_num_rows": 1617,
              "truncated_size_bytes": 64680,
              "truncated_string_columns": []
            },
            "display_id": "1e403d51-3668-498c-97e0-5e27c4212633",
            "dx_settings": {
              "ALLOW_NOTEABLE_ATTRS": true,
              "COLUMN_SAMPLING_METHOD": "outer",
              "DB_LOCATION": ":memory:",
              "DEV_MODE": false,
              "DISPLAY_MAX_COLUMNS": 100,
              "DISPLAY_MAX_ROWS": 50000,
              "DISPLAY_MODE": "simple",
              "ENABLE_ASSIGNMENT": true,
              "ENABLE_DATALINK": true,
              "FLATTEN_COLUMN_VALUES": true,
              "FLATTEN_INDEX_VALUES": false,
              "GENERATE_DEX_METADATA": false,
              "HTML_TABLE_SCHEMA": false,
              "LOG_LEVEL": 30,
              "MAX_RENDER_SIZE_BYTES": 104857600,
              "MAX_STRING_LENGTH": 250,
              "NUM_PAST_SAMPLES_TRACKED": 3,
              "RANDOM_STATE": 12648430,
              "RESET_INDEX_VALUES": false,
              "ROW_SAMPLING_METHOD": "random",
              "SAMPLING_FACTOR": 0.1,
              "SAMPLING_METHOD": "random",
              "STRINGIFY_COLUMN_VALUES": true,
              "STRINGIFY_INDEX_VALUES": false
            },
            "sample_history": [],
            "sampling_time": "2023-09-23T22:27:12.896837",
            "user_variable_name": "sql_df_15",
            "variable_name": "sql_df_15"
          },
          "e9a168d3-1c8f-447c-8c6a-f4515c662a9c": {
            "applied_filters": [],
            "dataframe_info": {
              "default_index_used": true,
              "orig_num_cols": 4,
              "orig_num_rows": 100,
              "orig_size_bytes": 4000,
              "truncated_num_cols": 4,
              "truncated_num_rows": 100,
              "truncated_size_bytes": 4000,
              "truncated_string_columns": []
            },
            "display_id": "e9a168d3-1c8f-447c-8c6a-f4515c662a9c",
            "dx_settings": {
              "ALLOW_NOTEABLE_ATTRS": true,
              "COLUMN_SAMPLING_METHOD": "outer",
              "DB_LOCATION": ":memory:",
              "DEV_MODE": false,
              "DISPLAY_MAX_COLUMNS": 100,
              "DISPLAY_MAX_ROWS": 50000,
              "DISPLAY_MODE": "simple",
              "ENABLE_ASSIGNMENT": true,
              "ENABLE_DATALINK": true,
              "FLATTEN_COLUMN_VALUES": true,
              "FLATTEN_INDEX_VALUES": false,
              "GENERATE_DEX_METADATA": false,
              "HTML_TABLE_SCHEMA": false,
              "LOG_LEVEL": 30,
              "MAX_RENDER_SIZE_BYTES": 104857600,
              "MAX_STRING_LENGTH": 250,
              "NUM_PAST_SAMPLES_TRACKED": 3,
              "RANDOM_STATE": 12648430,
              "RESET_INDEX_VALUES": false,
              "ROW_SAMPLING_METHOD": "random",
              "SAMPLING_FACTOR": 0.1,
              "SAMPLING_METHOD": "random",
              "STRINGIFY_COLUMN_VALUES": true,
              "STRINGIFY_INDEX_VALUES": false
            },
            "sample_history": [],
            "sampling_time": "2023-09-23T22:27:21.435520",
            "user_variable_name": "sql_df_6",
            "variable_name": "sql_df_6"
          },
          "c9f000f3-eb6a-446c-80d3-4d56debe528c": {
            "applied_filters": [],
            "dataframe_info": {
              "default_index_used": true,
              "orig_num_cols": 4,
              "orig_num_rows": 1617,
              "orig_size_bytes": 64680,
              "truncated_num_cols": 4,
              "truncated_num_rows": 1617,
              "truncated_size_bytes": 64680,
              "truncated_string_columns": []
            },
            "display_id": "c9f000f3-eb6a-446c-80d3-4d56debe528c",
            "dx_settings": {
              "ALLOW_NOTEABLE_ATTRS": true,
              "COLUMN_SAMPLING_METHOD": "outer",
              "DB_LOCATION": ":memory:",
              "DEV_MODE": false,
              "DISPLAY_MAX_COLUMNS": 100,
              "DISPLAY_MAX_ROWS": 50000,
              "DISPLAY_MODE": "simple",
              "ENABLE_ASSIGNMENT": true,
              "ENABLE_DATALINK": true,
              "FLATTEN_COLUMN_VALUES": true,
              "FLATTEN_INDEX_VALUES": false,
              "GENERATE_DEX_METADATA": false,
              "HTML_TABLE_SCHEMA": false,
              "LOG_LEVEL": 30,
              "MAX_RENDER_SIZE_BYTES": 104857600,
              "MAX_STRING_LENGTH": 250,
              "NUM_PAST_SAMPLES_TRACKED": 3,
              "RANDOM_STATE": 12648430,
              "RESET_INDEX_VALUES": false,
              "ROW_SAMPLING_METHOD": "random",
              "SAMPLING_FACTOR": 0.1,
              "SAMPLING_METHOD": "random",
              "STRINGIFY_COLUMN_VALUES": true,
              "STRINGIFY_INDEX_VALUES": false
            },
            "sample_history": [],
            "sampling_time": "2023-09-23T22:27:59.779571",
            "user_variable_name": "sql_df_15",
            "variable_name": "sql_df_15"
          },
          "4dc6a8cf-6c2e-41e9-b6d6-22deeff4f1ee": {
            "applied_filters": [],
            "dataframe_info": {
              "default_index_used": true,
              "orig_num_cols": 1,
              "orig_num_rows": 33,
              "orig_size_bytes": 528,
              "truncated_num_cols": 1,
              "truncated_num_rows": 33,
              "truncated_size_bytes": 528,
              "truncated_string_columns": []
            },
            "display_id": "4dc6a8cf-6c2e-41e9-b6d6-22deeff4f1ee",
            "dx_settings": {
              "ALLOW_NOTEABLE_ATTRS": true,
              "COLUMN_SAMPLING_METHOD": "outer",
              "DB_LOCATION": ":memory:",
              "DEV_MODE": false,
              "DISPLAY_MAX_COLUMNS": 100,
              "DISPLAY_MAX_ROWS": 50000,
              "DISPLAY_MODE": "simple",
              "ENABLE_ASSIGNMENT": true,
              "ENABLE_DATALINK": true,
              "FLATTEN_COLUMN_VALUES": true,
              "FLATTEN_INDEX_VALUES": false,
              "GENERATE_DEX_METADATA": false,
              "HTML_TABLE_SCHEMA": false,
              "LOG_LEVEL": 30,
              "MAX_RENDER_SIZE_BYTES": 104857600,
              "MAX_STRING_LENGTH": 250,
              "NUM_PAST_SAMPLES_TRACKED": 3,
              "RANDOM_STATE": 12648430,
              "RESET_INDEX_VALUES": false,
              "ROW_SAMPLING_METHOD": "random",
              "SAMPLING_FACTOR": 0.1,
              "SAMPLING_METHOD": "random",
              "STRINGIFY_COLUMN_VALUES": true,
              "STRINGIFY_INDEX_VALUES": false
            },
            "sample_history": [],
            "sampling_time": "2023-09-23T22:31:37.913872",
            "user_variable_name": "sql_df_15",
            "variable_name": "sql_df_15"
          },
          "1afad58d-a262-48b9-a0dd-1862892494d4": {
            "applied_filters": [],
            "dataframe_info": {
              "default_index_used": true,
              "orig_num_cols": 4,
              "orig_num_rows": 231,
              "orig_size_bytes": 9240,
              "truncated_num_cols": 4,
              "truncated_num_rows": 231,
              "truncated_size_bytes": 9240,
              "truncated_string_columns": []
            },
            "display_id": "1afad58d-a262-48b9-a0dd-1862892494d4",
            "dx_settings": {
              "ALLOW_NOTEABLE_ATTRS": true,
              "COLUMN_SAMPLING_METHOD": "outer",
              "DB_LOCATION": ":memory:",
              "DEV_MODE": false,
              "DISPLAY_MAX_COLUMNS": 100,
              "DISPLAY_MAX_ROWS": 50000,
              "DISPLAY_MODE": "simple",
              "ENABLE_ASSIGNMENT": true,
              "ENABLE_DATALINK": true,
              "FLATTEN_COLUMN_VALUES": true,
              "FLATTEN_INDEX_VALUES": false,
              "GENERATE_DEX_METADATA": false,
              "HTML_TABLE_SCHEMA": false,
              "LOG_LEVEL": 30,
              "MAX_RENDER_SIZE_BYTES": 104857600,
              "MAX_STRING_LENGTH": 250,
              "NUM_PAST_SAMPLES_TRACKED": 3,
              "RANDOM_STATE": 12648430,
              "RESET_INDEX_VALUES": false,
              "ROW_SAMPLING_METHOD": "random",
              "SAMPLING_FACTOR": 0.1,
              "SAMPLING_METHOD": "random",
              "STRINGIFY_COLUMN_VALUES": true,
              "STRINGIFY_INDEX_VALUES": false
            },
            "sample_history": [],
            "sampling_time": "2023-09-23T22:32:41.042610",
            "user_variable_name": "sql_df_15",
            "variable_name": "sql_df_15"
          },
          "38bc1b82-a568-4a79-87d2-2e02b4326270": {
            "applied_filters": [],
            "dataframe_info": {
              "default_index_used": true,
              "orig_num_cols": 4,
              "orig_num_rows": 231,
              "orig_size_bytes": 9240,
              "truncated_num_cols": 4,
              "truncated_num_rows": 231,
              "truncated_size_bytes": 9240,
              "truncated_string_columns": []
            },
            "display_id": "38bc1b82-a568-4a79-87d2-2e02b4326270",
            "dx_settings": {
              "ALLOW_NOTEABLE_ATTRS": true,
              "COLUMN_SAMPLING_METHOD": "outer",
              "DB_LOCATION": ":memory:",
              "DEV_MODE": false,
              "DISPLAY_MAX_COLUMNS": 100,
              "DISPLAY_MAX_ROWS": 50000,
              "DISPLAY_MODE": "simple",
              "ENABLE_ASSIGNMENT": true,
              "ENABLE_DATALINK": true,
              "FLATTEN_COLUMN_VALUES": true,
              "FLATTEN_INDEX_VALUES": false,
              "GENERATE_DEX_METADATA": false,
              "HTML_TABLE_SCHEMA": false,
              "LOG_LEVEL": 30,
              "MAX_RENDER_SIZE_BYTES": 104857600,
              "MAX_STRING_LENGTH": 250,
              "NUM_PAST_SAMPLES_TRACKED": 3,
              "RANDOM_STATE": 12648430,
              "RESET_INDEX_VALUES": false,
              "ROW_SAMPLING_METHOD": "random",
              "SAMPLING_FACTOR": 0.1,
              "SAMPLING_METHOD": "random",
              "STRINGIFY_COLUMN_VALUES": true,
              "STRINGIFY_INDEX_VALUES": false
            },
            "sample_history": [],
            "sampling_time": "2023-09-23T22:33:24.870851",
            "user_variable_name": "sql_df_15",
            "variable_name": "sql_df_15"
          },
          "7137ed33-eb0a-457f-b877-fb4169d7f0fa": {
            "applied_filters": [],
            "dataframe_info": {
              "default_index_used": true,
              "orig_num_cols": 4,
              "orig_num_rows": 231,
              "orig_size_bytes": 9240,
              "truncated_num_cols": 4,
              "truncated_num_rows": 231,
              "truncated_size_bytes": 9240,
              "truncated_string_columns": []
            },
            "display_id": "7137ed33-eb0a-457f-b877-fb4169d7f0fa",
            "dx_settings": {
              "ALLOW_NOTEABLE_ATTRS": true,
              "COLUMN_SAMPLING_METHOD": "outer",
              "DB_LOCATION": ":memory:",
              "DEV_MODE": false,
              "DISPLAY_MAX_COLUMNS": 100,
              "DISPLAY_MAX_ROWS": 50000,
              "DISPLAY_MODE": "simple",
              "ENABLE_ASSIGNMENT": true,
              "ENABLE_DATALINK": true,
              "FLATTEN_COLUMN_VALUES": true,
              "FLATTEN_INDEX_VALUES": false,
              "GENERATE_DEX_METADATA": false,
              "HTML_TABLE_SCHEMA": false,
              "LOG_LEVEL": 30,
              "MAX_RENDER_SIZE_BYTES": 104857600,
              "MAX_STRING_LENGTH": 250,
              "NUM_PAST_SAMPLES_TRACKED": 3,
              "RANDOM_STATE": 12648430,
              "RESET_INDEX_VALUES": false,
              "ROW_SAMPLING_METHOD": "random",
              "SAMPLING_FACTOR": 0.1,
              "SAMPLING_METHOD": "random",
              "STRINGIFY_COLUMN_VALUES": true,
              "STRINGIFY_INDEX_VALUES": false
            },
            "sample_history": [],
            "sampling_time": "2023-09-23T22:50:43.512298",
            "user_variable_name": "pergdp",
            "variable_name": "pergdp"
          }
        },
        "dx": {
          "dashboard": {
            "multiViews": []
          },
          "fieldMetadata": {
            "COUNTRY": {
              "columnPosition": 3
            },
            "PRODUCT": {
              "columnPosition": 2
            },
            "TIME": {
              "columnPosition": 4
            },
            "VALUE": {
              "columnPosition": 5,
              "overrideType": "number"
            },
            "index": {
              "columnPosition": 1
            }
          },
          "updated": 1695508583521,
          "views": [
            {
              "annotationRules": [],
              "chart": {},
              "chartMode": "grid",
              "confoRules": [],
              "decoration": {
                "footer": "",
                "subtitle": "",
                "title": "Table"
              },
              "facets": [],
              "filterSettings": {
                "SHOW_FILTER_PANEL": true,
                "filters": []
              },
              "id": "first-view",
              "isDefault": true,
              "type": "public",
              "userID": ""
            },
            {
              "annotationRules": [],
              "chart": {},
              "chartMode": "grid",
              "confoRules": [],
              "decoration": {
                "footer": "",
                "subtitle": "",
                "title": "Table"
              },
              "facets": [],
              "filterSettings": {
                "SHOW_FILTER_PANEL": true,
                "filters": []
              },
              "id": "first-view",
              "isDefault": true,
              "isTransitory": true,
              "type": "public",
              "userID": ""
            },
            {
              "annotationRules": [],
              "chart": {},
              "chartMode": "empty",
              "confoRules": [],
              "decoration": {
                "footer": "",
                "subtitle": "",
                "title": "New View"
              },
              "facets": [],
              "filterSettings": {
                "SHOW_FILTER_PANEL": true,
                "filters": []
              },
              "id": "0c0d3806-676f-4b72-922f-c069312b99ea",
              "isDefault": false,
              "type": "public",
              "userID": ""
            },
            {
              "annotationRules": [],
              "chart": {
                "barProjection": "radial",
                "barSubcategory": "COUNTRY",
                "columnLine": true,
                "combinationMode": "SUM",
                "dim1": "TIME",
                "facets": [],
                "labelType": "flat",
                "lineType": "cumulative",
                "metric1": "VALUE",
                "radarData": "row",
                "selectedMetrics": [
                  "VALUE"
                ],
                "timeseriesSort": "TIME"
              },
              "chartMode": "line",
              "confoRules": [],
              "decoration": {
                "footer": "",
                "subtitle": "",
                "title": "Cumulative Chart"
              },
              "facets": [],
              "filterSettings": {
                "SHOW_FILTER_PANEL": true,
                "filters": []
              },
              "id": "0c0d3806-676f-4b72-922f-c069312b99ea",
              "isDefault": false,
              "isTransitory": true,
              "type": "public",
              "userID": ""
            }
          ]
        }
      },
      "execution_count": null,
      "source": "SELECT *\nFROM PERGDP\nWHERE TIME > 2015;",
      "outputs": []
    },
    {
      "id": "9a0704de-7caa-47fd-b151-be00e63d6528",
      "cell_type": "code",
      "metadata": {
        "jupyter": {
          "outputs_hidden": false,
          "source_hidden": false
        },
        "noteable": {
          "cell_type": "code",
          "output_collection_id": "9f093523-9415-48e2-8e9a-272340f6d34a"
        },
        "ExecuteTime": {
          "end_time": "2023-09-23T22:50:44.510012+00:00",
          "start_time": "2023-09-23T22:50:43.679457+00:00"
        },
        "datalink": {
          "fa9dbec4-bda1-48f4-b96d-29d54ab9f9f3": {
            "applied_filters": [],
            "dataframe_info": {
              "default_index_used": true,
              "orig_num_cols": 4,
              "orig_num_rows": 5,
              "orig_size_bytes": 200,
              "truncated_num_cols": 4,
              "truncated_num_rows": 5,
              "truncated_size_bytes": 200,
              "truncated_string_columns": []
            },
            "display_id": "fa9dbec4-bda1-48f4-b96d-29d54ab9f9f3",
            "dx_settings": {
              "ALLOW_NOTEABLE_ATTRS": true,
              "COLUMN_SAMPLING_METHOD": "outer",
              "DB_LOCATION": ":memory:",
              "DEV_MODE": false,
              "DISPLAY_MAX_COLUMNS": 100,
              "DISPLAY_MAX_ROWS": 50000,
              "DISPLAY_MODE": "simple",
              "ENABLE_ASSIGNMENT": true,
              "ENABLE_DATALINK": true,
              "FLATTEN_COLUMN_VALUES": true,
              "FLATTEN_INDEX_VALUES": false,
              "GENERATE_DEX_METADATA": false,
              "HTML_TABLE_SCHEMA": false,
              "LOG_LEVEL": 30,
              "MAX_RENDER_SIZE_BYTES": 104857600,
              "MAX_STRING_LENGTH": 250,
              "NUM_PAST_SAMPLES_TRACKED": 3,
              "RANDOM_STATE": 12648430,
              "RESET_INDEX_VALUES": false,
              "ROW_SAMPLING_METHOD": "random",
              "SAMPLING_FACTOR": 0.1,
              "SAMPLING_METHOD": "random",
              "STRINGIFY_COLUMN_VALUES": true,
              "STRINGIFY_INDEX_VALUES": false
            },
            "sample_history": [],
            "sampling_time": "2023-09-23T22:37:02.287418",
            "user_variable_name": null,
            "variable_name": "unk_dataframe_4532088e2f39401894e7b4c7c3029c6e"
          }
        },
        "dx": {
          "dashboard": {
            "multiViews": []
          },
          "fieldMetadata": {
            "COUNTRY": {
              "columnPosition": 3
            },
            "PRODUCT": {
              "columnPosition": 2
            },
            "TIME": {
              "columnPosition": 4,
              "dateFormat": "Python",
              "overrideType": "string"
            },
            "VALUE": {
              "columnPosition": 5
            },
            "index": {
              "columnPosition": 1
            }
          },
          "updated": 1695508751892,
          "views": [
            {
              "annotationRules": [],
              "chart": {},
              "chartMode": "grid",
              "confoRules": [],
              "decoration": {
                "footer": "",
                "subtitle": "",
                "title": "Table"
              },
              "facets": [],
              "filterSettings": {
                "SHOW_FILTER_PANEL": true,
                "filters": []
              },
              "id": "first-view",
              "isDefault": true,
              "type": "public",
              "userID": ""
            },
            {
              "annotationRules": [],
              "chart": {},
              "chartMode": "grid",
              "confoRules": [],
              "decoration": {
                "footer": "",
                "subtitle": "",
                "title": "Table"
              },
              "facets": [],
              "filterSettings": {
                "SHOW_FILTER_PANEL": true,
                "filters": []
              },
              "id": "first-view",
              "isDefault": true,
              "isTransitory": true,
              "type": "public",
              "userID": ""
            }
          ]
        }
      },
      "execution_count": null,
      "source": "pergdp.head()\n\npergdp['VALUE'] = pd.to_numeric(pergdp['VALUE'], errors='coerce')\npergdp['VALUE'] = pergdp['VALUE'].round(2)\n\npergdp['TIME'] = pd.to_datetime(pergdp['TIME'])\n\nplt.figure(figsize=(10, 6))\n\nsns.set_style(\"whitegrid\")\nsns.lineplot(x=\"TIME\", y=\"VALUE\", hue=\"COUNTRY\", data=pergdp)\nplt.show()\n\n",
      "outputs": []
    },
    {
      "id": "a92ac92f-40b2-449f-b1ff-ac579f45d7a0",
      "cell_type": "markdown",
      "source": "# Fossil Fuel Subsidies",
      "metadata": {
        "noteable": {
          "cell_type": "markdown"
        }
      }
    },
    {
      "id": "437fdadb-d3c9-4283-818f-0abb140fbdfe",
      "cell_type": "code",
      "metadata": {
        "noteable": {
          "assign_results_to": "fossilsub",
          "cell_type": "sql",
          "db_connection": "@a37175f02c134520ab7e873e53f898f3",
          "output_collection_id": "2671630c-39c0-4318-884a-24c76e9cda4e"
        },
        "ExecuteTime": {
          "end_time": "2023-09-23T22:58:59.947369+00:00",
          "start_time": "2023-09-23T22:58:59.551635+00:00"
        },
        "datalink": {
          "b8b2dcdc-7fa1-433f-a2bb-1d65a28f8ffe": {
            "applied_filters": [],
            "dataframe_info": {
              "default_index_used": true,
              "orig_num_cols": 4,
              "orig_num_rows": 100,
              "orig_size_bytes": 4000,
              "truncated_num_cols": 4,
              "truncated_num_rows": 100,
              "truncated_size_bytes": 4000,
              "truncated_string_columns": []
            },
            "display_id": "b8b2dcdc-7fa1-433f-a2bb-1d65a28f8ffe",
            "dx_settings": {
              "ALLOW_NOTEABLE_ATTRS": true,
              "COLUMN_SAMPLING_METHOD": "outer",
              "DB_LOCATION": ":memory:",
              "DEV_MODE": false,
              "DISPLAY_MAX_COLUMNS": 100,
              "DISPLAY_MAX_ROWS": 50000,
              "DISPLAY_MODE": "simple",
              "ENABLE_ASSIGNMENT": true,
              "ENABLE_DATALINK": true,
              "FLATTEN_COLUMN_VALUES": true,
              "FLATTEN_INDEX_VALUES": false,
              "GENERATE_DEX_METADATA": false,
              "HTML_TABLE_SCHEMA": false,
              "LOG_LEVEL": 30,
              "MAX_RENDER_SIZE_BYTES": 104857600,
              "MAX_STRING_LENGTH": 250,
              "NUM_PAST_SAMPLES_TRACKED": 3,
              "RANDOM_STATE": 12648430,
              "RESET_INDEX_VALUES": false,
              "ROW_SAMPLING_METHOD": "random",
              "SAMPLING_FACTOR": 0.1,
              "SAMPLING_METHOD": "random",
              "STRINGIFY_COLUMN_VALUES": true,
              "STRINGIFY_INDEX_VALUES": false
            },
            "sample_history": [],
            "sampling_time": "2023-09-23T22:58:59.786986",
            "user_variable_name": "sql_df_16",
            "variable_name": "sql_df_16"
          }
        },
        "dx": {
          "dashboard": {
            "multiViews": []
          },
          "fieldMetadata": {
            "12.c.1 - Fossil-fuel subsidies (consumption and production) (billions of nominal United States dollars) - ER_FFS_CMPT_CD": {
              "columnPosition": 5,
              "overrideType": "number"
            },
            "Code": {
              "columnPosition": 3
            },
            "Entity": {
              "columnPosition": 2
            },
            "Year": {
              "columnPosition": 4,
              "width": 198
            },
            "index": {
              "columnPosition": 1
            }
          },
          "updated": 1695510237212,
          "views": [
            {
              "annotationRules": [],
              "chart": {},
              "chartMode": "grid",
              "confoRules": [],
              "decoration": {
                "footer": "",
                "subtitle": "",
                "title": "Table"
              },
              "facets": [],
              "filterSettings": {
                "SHOW_FILTER_PANEL": true,
                "filters": []
              },
              "id": "first-view",
              "isDefault": true,
              "type": "public",
              "userID": ""
            },
            {
              "annotationRules": [],
              "chart": {},
              "chartMode": "grid",
              "confoRules": [],
              "decoration": {
                "footer": "",
                "subtitle": "",
                "title": "Table"
              },
              "facets": [],
              "filterSettings": {
                "SHOW_FILTER_PANEL": true,
                "filters": []
              },
              "id": "first-view",
              "isDefault": true,
              "isTransitory": true,
              "type": "public",
              "userID": ""
            }
          ]
        }
      },
      "execution_count": null,
      "source": "SELECT *\nFROM Fossils.fossil_fuel_subsidies\nLIMIT 100;",
      "outputs": []
    },
    {
      "id": "ed2bff8b-404b-444d-948f-e539ecf3d40a",
      "cell_type": "code",
      "metadata": {
        "jupyter": {
          "outputs_hidden": false,
          "source_hidden": false
        },
        "noteable": {
          "cell_type": "code"
        }
      },
      "execution_count": null,
      "source": "SELECT *\nFROM Fossils.fossil_fuel_subsidies\nLIMIT 100;",
      "outputs": []
    },
    {
      "id": "40f0146c-0e3a-444f-9c5e-8b5797f8dad7",
      "cell_type": "code",
      "metadata": {
        "noteable": {
          "assign_results_to": "sql_df_16",
          "cell_type": "sql",
          "db_connection": "@a37175f02c134520ab7e873e53f898f3",
          "output_collection_id": "3455fe1a-dfc2-44a6-a9ab-e0b6edd48947"
        },
        "ExecuteTime": {
          "end_time": "2023-09-23T23:11:08.947293+00:00",
          "start_time": "2023-09-23T23:11:08.388377+00:00"
        },
        "datalink": {
          "29e7042e-a89c-410b-8c12-a086ef8fc03d": {
            "applied_filters": [],
            "dataframe_info": {
              "default_index_used": true,
              "orig_num_cols": 3,
              "orig_num_rows": 3,
              "orig_size_bytes": 96,
              "truncated_num_cols": 3,
              "truncated_num_rows": 3,
              "truncated_size_bytes": 96,
              "truncated_string_columns": []
            },
            "display_id": "29e7042e-a89c-410b-8c12-a086ef8fc03d",
            "dx_settings": {
              "ALLOW_NOTEABLE_ATTRS": true,
              "COLUMN_SAMPLING_METHOD": "outer",
              "DB_LOCATION": ":memory:",
              "DEV_MODE": false,
              "DISPLAY_MAX_COLUMNS": 100,
              "DISPLAY_MAX_ROWS": 50000,
              "DISPLAY_MODE": "simple",
              "ENABLE_ASSIGNMENT": true,
              "ENABLE_DATALINK": true,
              "FLATTEN_COLUMN_VALUES": true,
              "FLATTEN_INDEX_VALUES": false,
              "GENERATE_DEX_METADATA": false,
              "HTML_TABLE_SCHEMA": false,
              "LOG_LEVEL": 30,
              "MAX_RENDER_SIZE_BYTES": 104857600,
              "MAX_STRING_LENGTH": 250,
              "NUM_PAST_SAMPLES_TRACKED": 3,
              "RANDOM_STATE": 12648430,
              "RESET_INDEX_VALUES": false,
              "ROW_SAMPLING_METHOD": "random",
              "SAMPLING_FACTOR": 0.1,
              "SAMPLING_METHOD": "random",
              "STRINGIFY_COLUMN_VALUES": true,
              "STRINGIFY_INDEX_VALUES": false
            },
            "sample_history": [],
            "sampling_time": "2023-09-23T23:11:08.786887",
            "user_variable_name": "sql_df_15",
            "variable_name": "sql_df_15"
          }
        }
      },
      "execution_count": null,
      "source": "-- Execute this cell to return the list of tables\n-- and views within the Fossils schema of this database\n-- (Use \\help to learn more options)\n\n\\list Fossils.*",
      "outputs": []
    },
    {
      "id": "b806a4b3-fbd1-49ef-9ac4-157dc7581bcf",
      "cell_type": "code",
      "metadata": {
        "noteable": {
          "cell_type": "python",
          "output_collection_id": "32749cf9-c367-4fd8-8c39-e4e5bfe191b3"
        },
        "ExecuteTime": {
          "end_time": "2023-09-23T22:59:55.942341+00:00",
          "start_time": "2023-09-23T22:59:55.785974+00:00"
        }
      },
      "execution_count": null,
      "source": "fossilsub.columns",
      "outputs": []
    },
    {
      "id": "391f29e7-554a-405d-9c77-5a4aa7c8e2f5",
      "cell_type": "code",
      "metadata": {
        "noteable": {
          "assign_results_to": "sql_df_17",
          "cell_type": "sql",
          "db_connection": "@a37175f02c134520ab7e873e53f898f3",
          "output_collection_id": "d1063935-5b7e-4789-a2de-0a5134e621b6"
        },
        "ExecuteTime": {
          "end_time": "2023-09-23T23:14:50.563523+00:00",
          "start_time": "2023-09-23T23:14:49.623533+00:00"
        },
        "datalink": {
          "07e02fd5-ba39-4f23-870d-ea6f443fc67d": {
            "applied_filters": [],
            "dataframe_info": {
              "default_index_used": true,
              "orig_num_cols": 4,
              "orig_num_rows": 6085,
              "orig_size_bytes": 243400,
              "truncated_num_cols": 4,
              "truncated_num_rows": 6085,
              "truncated_size_bytes": 243400,
              "truncated_string_columns": []
            },
            "display_id": "07e02fd5-ba39-4f23-870d-ea6f443fc67d",
            "dx_settings": {
              "ALLOW_NOTEABLE_ATTRS": true,
              "COLUMN_SAMPLING_METHOD": "outer",
              "DB_LOCATION": ":memory:",
              "DEV_MODE": false,
              "DISPLAY_MAX_COLUMNS": 100,
              "DISPLAY_MAX_ROWS": 50000,
              "DISPLAY_MODE": "simple",
              "ENABLE_ASSIGNMENT": true,
              "ENABLE_DATALINK": true,
              "FLATTEN_COLUMN_VALUES": true,
              "FLATTEN_INDEX_VALUES": false,
              "GENERATE_DEX_METADATA": false,
              "HTML_TABLE_SCHEMA": false,
              "LOG_LEVEL": 30,
              "MAX_RENDER_SIZE_BYTES": 104857600,
              "MAX_STRING_LENGTH": 250,
              "NUM_PAST_SAMPLES_TRACKED": 3,
              "RANDOM_STATE": 12648430,
              "RESET_INDEX_VALUES": false,
              "ROW_SAMPLING_METHOD": "random",
              "SAMPLING_FACTOR": 0.1,
              "SAMPLING_METHOD": "random",
              "STRINGIFY_COLUMN_VALUES": true,
              "STRINGIFY_INDEX_VALUES": false
            },
            "sample_history": [],
            "sampling_time": "2023-09-23T23:14:50.393032",
            "user_variable_name": "sql_df_17",
            "variable_name": "sql_df_17"
          }
        }
      },
      "execution_count": null,
      "source": "SELECT *\nFROM INDICS;",
      "outputs": []
    },
    {
      "id": "6cd16eb2-13d1-4a7f-8d0c-49489bc0a9a5",
      "cell_type": "code",
      "metadata": {
        "noteable": {
          "assign_results_to": "sql_df_18",
          "cell_type": "sql",
          "db_connection": "@a37175f02c134520ab7e873e53f898f3",
          "output_collection_id": "e97e0df2-8296-4bc0-ac0b-29a4742dab92"
        },
        "ExecuteTime": {
          "end_time": "2023-09-23T23:22:44.814464+00:00",
          "start_time": "2023-09-23T23:22:44.486152+00:00"
        }
      },
      "execution_count": null,
      "source": "SELECT PERGDP.*, INDICS.PRODUCT, INDICS.VALUE\nFROM PERGDP\nJOIN (\n    SELECT COUNTRY, PRODUCT, TIME, VALUE\n    FROM INDICS\n    WHERE PRODUCT = 'USEXRMEI'\n)\nON ",
      "outputs": []
    },
    {
      "id": "172b2710-cfee-49ef-8928-4f9f7305425f",
      "cell_type": "code",
      "metadata": {
        "jupyter": {
          "outputs_hidden": false,
          "source_hidden": false
        },
        "noteable": {
          "cell_type": "code"
        }
      },
      "execution_count": null,
      "source": "",
      "outputs": []
    }
  ]
}