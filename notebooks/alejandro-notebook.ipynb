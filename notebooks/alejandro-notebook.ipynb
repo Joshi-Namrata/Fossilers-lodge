{
  "nbformat": 4,
  "nbformat_minor": 5,
  "metadata": {
    "kernel_info": {
      "name": "python3.9-noteable"
    },
    "kernelspec": {
      "display_name": "Python 3.9 (Noteable)",
      "language": "python",
      "name": "python3.9-noteable"
    },
    "selected_hardware_size": "small"
  },
  "cells": [
    {
      "id": "78dd3e7d",
      "cell_type": "code",
      "metadata": {
        "noteable": {
          "output_collection_id": "73ef7bbe-77f1-4891-a1fd-2a5f7dc7af2a"
        },
        "ExecuteTime": {
          "end_time": "2023-09-23T16:28:02.289307+00:00",
          "start_time": "2023-09-23T16:28:01.634073+00:00"
        }
      },
      "execution_count": null,
      "source": "import pandas as pd\n\nrdd_budget_xls = pd.ExcelFile('../datasets/Excel data/IEA_Energy_RDD_selected_data.xlsx')\npublic_rdd = pd.read_excel(rdd_budget_xls, 'Public RD&D', skiprows=[0])\necon_indicators = pd.read_excel(rdd_budget_xls, 'Economic Indicators', skiprows=[0])\n\nprint(public_rdd.head(), '\\n'*5, econ_indicators.head() )",
      "outputs": []
    }
  ]
}