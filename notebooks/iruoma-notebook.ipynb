{
  "nbformat": 4,
  "nbformat_minor": 5,
  "metadata": {
    "kernel_info": {
      "name": "python3.9-noteable"
    },
    "kernelspec": {
      "display_name": "Python 3.9 (Noteable)",
      "language": "python",
      "name": "python3.9-noteable"
    },
    "selected_hardware_size": "small"
  },
  "cells": [
    {
      "id": "a1fe2599",
      "cell_type": "code",
      "metadata": {},
      "execution_count": null,
      "source": "import pandas as pd",
      "outputs": []
    }
  ]
}