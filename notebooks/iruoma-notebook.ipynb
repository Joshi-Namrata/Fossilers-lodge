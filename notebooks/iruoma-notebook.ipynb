{
  "nbformat": 4,
  "nbformat_minor": 5,
  "metadata": {
    "kernel_info": {
      "name": "python3.9-noteable"
    },
    "kernelspec": {
      "display_name": "Python 3.9 (Noteable)",
      "language": "python",
      "name": "python3.9-noteable"
    },
    "selected_hardware_size": "small"
  },
  "cells": [
    {
      "id": "a1fe2599",
      "cell_type": "code",
      "metadata": {
        "noteable": {
          "output_collection_id": "f4a448dd-aed0-4338-a17d-35566696a7d9"
        },
        "ExecuteTime": {
          "end_time": "2023-09-23T20:57:34.126360+00:00",
          "start_time": "2023-09-23T20:57:33.971145+00:00"
        }
      },
      "execution_count": null,
      "source": "import pandas as pd",
      "outputs": []
    },
    {
      "id": "0984dc84-2da9-4955-8d8c-88947f6f6282",
      "cell_type": "code",
      "metadata": {
        "jupyter": {
          "outputs_hidden": false,
          "source_hidden": false
        },
        "noteable": {
          "cell_type": "code",
          "output_collection_id": "e5527824-0f7f-4820-8a23-9a62f51fd262"
        },
        "ExecuteTime": {
          "end_time": "2023-09-23T20:57:38.189283+00:00",
          "start_time": "2023-09-23T20:57:37.657053+00:00"
        }
      },
      "execution_count": null,
      "source": "%ntbl pull datasets \"Excel data/WorldEnergyInvestment2023_DataFile.xlsx\"",
      "outputs": []
    },
    {
      "id": "05f4811a-7653-4f91-80ce-9706fcde8afc",
      "cell_type": "code",
      "metadata": {
        "jupyter": {
          "outputs_hidden": false,
          "source_hidden": false
        },
        "noteable": {
          "cell_type": "code",
          "output_collection_id": "390bcb80-7615-4e13-9c29-a3f6e7456bb0"
        },
        "ExecuteTime": {
          "end_time": "2023-09-23T20:57:50.652932+00:00",
          "start_time": "2023-09-23T20:57:50.201317+00:00"
        }
      },
      "execution_count": null,
      "source": "w_energy_inv_2021 = pd.ExcelFile('../../datasets/Excel data/WorldEnergyInvestment2023_DataFile.xlsx')\n\nsheet_names = w_energy_inv_2021.sheet_names\nprint(\"Sheet names:\", sheet_names)",
      "outputs": []
    }
  ]
}