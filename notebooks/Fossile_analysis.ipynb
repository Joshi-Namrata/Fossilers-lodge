{
  "nbformat": 4,
  "nbformat_minor": 5,
  "metadata": {
    "kernel_info": {
      "name": "python3.9-noteable"
    },
    "kernelspec": {
      "display_name": "Python 3.9 (Noteable)",
      "language": "python",
      "name": "python3.9-noteable"
    },
    "selected_hardware_size": "small",
    "noteable": {
      "db_connection": "@a37175f02c134520ab7e873e53f898f3"
    }
  },
  "cells": [
    {
      "id": "b381b66e",
      "cell_type": "code",
      "metadata": {
        "noteable": {
          "assign_results_to": "sql_df_1",
          "cell_type": "sql",
          "db_connection": "@a37175f02c134520ab7e873e53f898f3"
        }
      },
      "execution_count": null,
      "source": "",
      "outputs": []
    }
  ]
}