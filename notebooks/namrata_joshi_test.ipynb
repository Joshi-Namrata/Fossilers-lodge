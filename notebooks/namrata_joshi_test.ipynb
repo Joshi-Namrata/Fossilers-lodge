{
  "nbformat": 4,
  "nbformat_minor": 5,
  "metadata": {
    "kernel_info": {
      "name": "python3"
    },
    "kernelspec": {
      "display_name": "Python 3.9",
      "language": "python",
      "name": "python3"
    },
    "selected_hardware_size": "small"
  },
  "cells": [
    {
      "id": "1559a7b5",
      "cell_type": "code",
      "metadata": {
        "noteable": {
          "output_collection_id": "2ed15599-ac9b-4d7e-b421-d1a25bc7676c"
        },
        "ExecuteTime": {
          "end_time": "2023-09-23T16:09:29.946904+00:00",
          "start_time": "2023-09-23T16:09:29.792244+00:00"
        }
      },
      "execution_count": null,
      "source": "import pandas as pd",
      "outputs": []
    },
    {
      "id": "feba9af1-40b5-4bb4-b740-c77339b72332",
      "cell_type": "code",
      "metadata": {
        "jupyter": {
          "outputs_hidden": false,
          "source_hidden": false
        },
        "noteable": {
          "cell_type": "code"
        }
      },
      "execution_count": null,
      "source": "aa`",
      "outputs": []
    }
  ]
}