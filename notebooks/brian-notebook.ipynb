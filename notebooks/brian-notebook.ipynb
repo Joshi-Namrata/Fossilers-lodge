{
  "nbformat": 4,
  "nbformat_minor": 5,
  "metadata": {
    "kernel_info": {
      "name": "python3.9-noteable"
    },
    "kernelspec": {
      "display_name": "Python 3.9 (Noteable)",
      "language": "python",
      "name": "python3.9-noteable"
    },
    "selected_hardware_size": "small",
    "noteable": {
      "db_connection": "@a37175f02c134520ab7e873e53f898f3"
    }
  },
  "cells": [
    {
      "id": "a292dabe",
      "cell_type": "markdown",
      "source": "# Subsidy Efficiency Evaluation\n\n#### Database Import - SQL Query",
      "metadata": {
        "noteable": {
          "cell_type": "markdown"
        }
      }
    },
    {
      "id": "cf81abd4-9654-4020-9741-3ad9159ec27d",
      "cell_type": "code",
      "metadata": {
        "noteable": {
          "assign_results_to": "sql_df_1",
          "cell_type": "sql",
          "db_connection": "@a37175f02c134520ab7e873e53f898f3"
        }
      },
      "execution_count": null,
      "source": "SELECT * ",
      "outputs": []
    }
  ]
}